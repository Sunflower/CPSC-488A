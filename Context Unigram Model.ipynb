{
 "cells": [
  {
   "cell_type": "code",
   "execution_count": 176,
   "metadata": {},
   "outputs": [],
   "source": [
    "import pandas as pd\n",
    "import numpy as np\n",
    "import glob\n",
    "import os\n",
    "import json\n",
    "import csv\n",
    "import math\n",
    "import scipy.sparse\n",
    "from scipy.sparse import csr_matrix\n",
    "from sklearn.linear_model import LogisticRegression\n",
    "from sklearn.model_selection import train_test_split\n",
    "from sklearn.model_selection import cross_validate\n",
    "from bs4 import BeautifulSoup\n",
    "import requests\n",
    "from sklearn.utils import shuffle\n",
    "from sklearn.base import BaseEstimator\n",
    "from sklearn.utils.validation import check_X_y, check_array, check_is_fitted\n",
    "from sklearn.utils.estimator_checks import check_estimator\n",
    "from sklearn.base import clone\n",
    "from sklearn.model_selection import GridSearchCV\n",
    "from sklearn.metrics import classification_report\n",
    "from collections import defaultdict\n",
    "from sklearn.model_selection import PredefinedSplit"
   ]
  },
  {
   "cell_type": "code",
   "execution_count": 177,
   "metadata": {},
   "outputs": [],
   "source": [
    "pd.set_option('display.max_colwidth', -1)"
   ]
  },
  {
   "cell_type": "markdown",
   "metadata": {},
   "source": [
    "Start by exploring academic training dataset."
   ]
  },
  {
   "cell_type": "code",
   "execution_count": 178,
   "metadata": {},
   "outputs": [
    {
     "data": {
      "text/plain": [
       "48964"
      ]
     },
     "metadata": {},
     "output_type": "display_data"
    },
    {
     "data": {
      "text/html": [
       "<div>\n",
       "<style scoped>\n",
       "    .dataframe tbody tr th:only-of-type {\n",
       "        vertical-align: middle;\n",
       "    }\n",
       "\n",
       "    .dataframe tbody tr th {\n",
       "        vertical-align: top;\n",
       "    }\n",
       "\n",
       "    .dataframe thead th {\n",
       "        text-align: right;\n",
       "    }\n",
       "</style>\n",
       "<table border=\"1\" class=\"dataframe\">\n",
       "  <thead>\n",
       "    <tr style=\"text-align: right;\">\n",
       "      <th></th>\n",
       "      <th>word_id</th>\n",
       "      <th>word</th>\n",
       "      <th>lemma</th>\n",
       "      <th>word_type</th>\n",
       "      <th>function</th>\n",
       "      <th>seg_type</th>\n",
       "      <th>sentence_id</th>\n",
       "      <th>text_id</th>\n",
       "      <th>text_tag</th>\n",
       "      <th>genre</th>\n",
       "    </tr>\n",
       "  </thead>\n",
       "  <tbody>\n",
       "    <tr>\n",
       "      <th>0</th>\n",
       "      <td>25070</td>\n",
       "      <td>HER</td>\n",
       "      <td>she</td>\n",
       "      <td>DPS</td>\n",
       "      <td></td>\n",
       "      <td></td>\n",
       "      <td>1267</td>\n",
       "      <td>a6u-fragment02</td>\n",
       "      <td>a6u</td>\n",
       "      <td>academic</td>\n",
       "    </tr>\n",
       "    <tr>\n",
       "      <th>1</th>\n",
       "      <td>25071</td>\n",
       "      <td>DRESS</td>\n",
       "      <td>dress</td>\n",
       "      <td>NN1</td>\n",
       "      <td></td>\n",
       "      <td></td>\n",
       "      <td>1267</td>\n",
       "      <td>a6u-fragment02</td>\n",
       "      <td>a6u</td>\n",
       "      <td>academic</td>\n",
       "    </tr>\n",
       "    <tr>\n",
       "      <th>2</th>\n",
       "      <td>25072</td>\n",
       "      <td>HANGS</td>\n",
       "      <td>hang</td>\n",
       "      <td>VVZ</td>\n",
       "      <td></td>\n",
       "      <td></td>\n",
       "      <td>1267</td>\n",
       "      <td>a6u-fragment02</td>\n",
       "      <td>a6u</td>\n",
       "      <td>academic</td>\n",
       "    </tr>\n",
       "    <tr>\n",
       "      <th>3</th>\n",
       "      <td>25073</td>\n",
       "      <td>HERE'</td>\n",
       "      <td>here'</td>\n",
       "      <td>NP0</td>\n",
       "      <td></td>\n",
       "      <td></td>\n",
       "      <td>1267</td>\n",
       "      <td>a6u-fragment02</td>\n",
       "      <td>a6u</td>\n",
       "      <td>academic</td>\n",
       "    </tr>\n",
       "    <tr>\n",
       "      <th>4</th>\n",
       "      <td>25074</td>\n",
       "      <td>DE-FROCKING</td>\n",
       "      <td>de-frock</td>\n",
       "      <td>VVG</td>\n",
       "      <td>mrw</td>\n",
       "      <td>met</td>\n",
       "      <td>1267</td>\n",
       "      <td>a6u-fragment02</td>\n",
       "      <td>a6u</td>\n",
       "      <td>academic</td>\n",
       "    </tr>\n",
       "  </tbody>\n",
       "</table>\n",
       "</div>"
      ],
      "text/plain": [
       "   word_id         word     lemma word_type function seg_type  sentence_id  \\\n",
       "0  25070    HER          she       DPS                         1267          \n",
       "1  25071    DRESS        dress     NN1                         1267          \n",
       "2  25072    HANGS        hang      VVZ                         1267          \n",
       "3  25073    HERE'        here'     NP0                         1267          \n",
       "4  25074    DE-FROCKING  de-frock  VVG       mrw      met      1267          \n",
       "\n",
       "          text_id text_tag     genre  \n",
       "0  a6u-fragment02  a6u      academic  \n",
       "1  a6u-fragment02  a6u      academic  \n",
       "2  a6u-fragment02  a6u      academic  \n",
       "3  a6u-fragment02  a6u      academic  \n",
       "4  a6u-fragment02  a6u      academic  "
      ]
     },
     "execution_count": 178,
     "metadata": {},
     "output_type": "execute_result"
    }
   ],
   "source": [
    "all_words = pd.read_csv('data/train/academic/words.csv', encoding='ISO--8859-1', na_filter=False)\n",
    "display(len(all_words))\n",
    "all_words.head()"
   ]
  },
  {
   "cell_type": "markdown",
   "metadata": {},
   "source": [
    "## Keep only content words and filter stop verbs!"
   ]
  },
  {
   "cell_type": "code",
   "execution_count": 179,
   "metadata": {},
   "outputs": [],
   "source": [
    "# Keeping content words: http://ucrel.lancs.ac.uk/bnc2/bnc2guide.htm#m2adv\n",
    "# Does not include forms of 'be', 'do', 'have', or modal verbs,\n",
    "# as suggested in https://github.com/EducationalTestingService/metaphor/tree/master/content-words\n",
    "content_word_pos = set([\n",
    "    'NN1', 'NN2', 'NN0',\n",
    "    'NP0',\n",
    "    'NN1-NP0', 'NN1-VVB', 'NN1-VVG', 'NN2-VVZ',\n",
    "    'NP0-NN1',\n",
    "    'VVB', 'VVD', 'VVG', 'VVI', 'VVN', 'VVZ',\n",
    "    'VVB-NN1', 'VVD-VVN', 'VVD-AJ0', 'VVG-AJ0', 'VVG-NN1', 'VVZ-NN2',\n",
    "    'AJ0', 'AJC', 'AJS',\n",
    "    'AJ0-NN1', 'AJ0-VVG', 'AJ0-VVN',\n",
    "    'AV0', 'AVQ', 'AVP',\n",
    "    'AV0-AJ0'\n",
    "])"
   ]
  },
  {
   "cell_type": "code",
   "execution_count": 180,
   "metadata": {},
   "outputs": [
    {
     "data": {
      "text/plain": [
       "25360"
      ]
     },
     "metadata": {},
     "output_type": "display_data"
    },
    {
     "data": {
      "text/html": [
       "<div>\n",
       "<style scoped>\n",
       "    .dataframe tbody tr th:only-of-type {\n",
       "        vertical-align: middle;\n",
       "    }\n",
       "\n",
       "    .dataframe tbody tr th {\n",
       "        vertical-align: top;\n",
       "    }\n",
       "\n",
       "    .dataframe thead th {\n",
       "        text-align: right;\n",
       "    }\n",
       "</style>\n",
       "<table border=\"1\" class=\"dataframe\">\n",
       "  <thead>\n",
       "    <tr style=\"text-align: right;\">\n",
       "      <th></th>\n",
       "      <th>word_id</th>\n",
       "      <th>word</th>\n",
       "      <th>lemma</th>\n",
       "      <th>word_type</th>\n",
       "      <th>function</th>\n",
       "      <th>seg_type</th>\n",
       "      <th>sentence_id</th>\n",
       "      <th>text_id</th>\n",
       "      <th>text_tag</th>\n",
       "      <th>genre</th>\n",
       "    </tr>\n",
       "  </thead>\n",
       "  <tbody>\n",
       "    <tr>\n",
       "      <th>1</th>\n",
       "      <td>25071</td>\n",
       "      <td>DRESS</td>\n",
       "      <td>dress</td>\n",
       "      <td>NN1</td>\n",
       "      <td></td>\n",
       "      <td></td>\n",
       "      <td>1267</td>\n",
       "      <td>a6u-fragment02</td>\n",
       "      <td>a6u</td>\n",
       "      <td>academic</td>\n",
       "    </tr>\n",
       "    <tr>\n",
       "      <th>2</th>\n",
       "      <td>25072</td>\n",
       "      <td>HANGS</td>\n",
       "      <td>hang</td>\n",
       "      <td>VVZ</td>\n",
       "      <td></td>\n",
       "      <td></td>\n",
       "      <td>1267</td>\n",
       "      <td>a6u-fragment02</td>\n",
       "      <td>a6u</td>\n",
       "      <td>academic</td>\n",
       "    </tr>\n",
       "    <tr>\n",
       "      <th>3</th>\n",
       "      <td>25073</td>\n",
       "      <td>HERE'</td>\n",
       "      <td>here'</td>\n",
       "      <td>NP0</td>\n",
       "      <td></td>\n",
       "      <td></td>\n",
       "      <td>1267</td>\n",
       "      <td>a6u-fragment02</td>\n",
       "      <td>a6u</td>\n",
       "      <td>academic</td>\n",
       "    </tr>\n",
       "    <tr>\n",
       "      <th>4</th>\n",
       "      <td>25074</td>\n",
       "      <td>DE-FROCKING</td>\n",
       "      <td>de-frock</td>\n",
       "      <td>VVG</td>\n",
       "      <td>mrw</td>\n",
       "      <td>met</td>\n",
       "      <td>1267</td>\n",
       "      <td>a6u-fragment02</td>\n",
       "      <td>a6u</td>\n",
       "      <td>academic</td>\n",
       "    </tr>\n",
       "    <tr>\n",
       "      <th>6</th>\n",
       "      <td>25076</td>\n",
       "      <td>KAHLO</td>\n",
       "      <td>kahlo</td>\n",
       "      <td>NP0</td>\n",
       "      <td></td>\n",
       "      <td></td>\n",
       "      <td>1267</td>\n",
       "      <td>a6u-fragment02</td>\n",
       "      <td>a6u</td>\n",
       "      <td>academic</td>\n",
       "    </tr>\n",
       "    <tr>\n",
       "      <th>7</th>\n",
       "      <td>25077</td>\n",
       "      <td>CULT</td>\n",
       "      <td>cult</td>\n",
       "      <td>NN1</td>\n",
       "      <td></td>\n",
       "      <td></td>\n",
       "      <td>1267</td>\n",
       "      <td>a6u-fragment02</td>\n",
       "      <td>a6u</td>\n",
       "      <td>academic</td>\n",
       "    </tr>\n",
       "    <tr>\n",
       "      <th>8</th>\n",
       "      <td>25078</td>\n",
       "      <td>Oriana</td>\n",
       "      <td>oriana</td>\n",
       "      <td>NP0-NN1</td>\n",
       "      <td></td>\n",
       "      <td></td>\n",
       "      <td>1268</td>\n",
       "      <td>a6u-fragment02</td>\n",
       "      <td>a6u</td>\n",
       "      <td>academic</td>\n",
       "    </tr>\n",
       "    <tr>\n",
       "      <th>9</th>\n",
       "      <td>25079</td>\n",
       "      <td>Baddeley</td>\n",
       "      <td>baddeley</td>\n",
       "      <td>NP0</td>\n",
       "      <td></td>\n",
       "      <td></td>\n",
       "      <td>1268</td>\n",
       "      <td>a6u-fragment02</td>\n",
       "      <td>a6u</td>\n",
       "      <td>academic</td>\n",
       "    </tr>\n",
       "    <tr>\n",
       "      <th>13</th>\n",
       "      <td>25083</td>\n",
       "      <td>witnessed</td>\n",
       "      <td>witness</td>\n",
       "      <td>VVN</td>\n",
       "      <td>mrw</td>\n",
       "      <td>met</td>\n",
       "      <td>1269</td>\n",
       "      <td>a6u-fragment02</td>\n",
       "      <td>a6u</td>\n",
       "      <td>academic</td>\n",
       "    </tr>\n",
       "    <tr>\n",
       "      <th>15</th>\n",
       "      <td>25085</td>\n",
       "      <td>shift</td>\n",
       "      <td>shift</td>\n",
       "      <td>NN1-VVB</td>\n",
       "      <td></td>\n",
       "      <td></td>\n",
       "      <td>1269</td>\n",
       "      <td>a6u-fragment02</td>\n",
       "      <td>a6u</td>\n",
       "      <td>academic</td>\n",
       "    </tr>\n",
       "  </tbody>\n",
       "</table>\n",
       "</div>"
      ],
      "text/plain": [
       "    word_id         word     lemma word_type function seg_type  sentence_id  \\\n",
       "1   25071    DRESS        dress     NN1                         1267          \n",
       "2   25072    HANGS        hang      VVZ                         1267          \n",
       "3   25073    HERE'        here'     NP0                         1267          \n",
       "4   25074    DE-FROCKING  de-frock  VVG       mrw      met      1267          \n",
       "6   25076    KAHLO        kahlo     NP0                         1267          \n",
       "7   25077    CULT         cult      NN1                         1267          \n",
       "8   25078    Oriana       oriana    NP0-NN1                     1268          \n",
       "9   25079    Baddeley     baddeley  NP0                         1268          \n",
       "13  25083    witnessed    witness   VVN       mrw      met      1269          \n",
       "15  25085    shift        shift     NN1-VVB                     1269          \n",
       "\n",
       "           text_id text_tag     genre  \n",
       "1   a6u-fragment02  a6u      academic  \n",
       "2   a6u-fragment02  a6u      academic  \n",
       "3   a6u-fragment02  a6u      academic  \n",
       "4   a6u-fragment02  a6u      academic  \n",
       "6   a6u-fragment02  a6u      academic  \n",
       "7   a6u-fragment02  a6u      academic  \n",
       "8   a6u-fragment02  a6u      academic  \n",
       "9   a6u-fragment02  a6u      academic  \n",
       "13  a6u-fragment02  a6u      academic  \n",
       "15  a6u-fragment02  a6u      academic  "
      ]
     },
     "execution_count": 180,
     "metadata": {},
     "output_type": "execute_result"
    }
   ],
   "source": [
    "content_words = all_words[all_words['word_type'].isin(content_word_pos)]\n",
    "display(len(content_words))\n",
    "content_words.head(10)"
   ]
  },
  {
   "cell_type": "markdown",
   "metadata": {},
   "source": [
    "## Sparsification"
   ]
  },
  {
   "cell_type": "markdown",
   "metadata": {},
   "source": [
    "Create a vocabulary using content words. This will be used as the unigram features."
   ]
  },
  {
   "cell_type": "code",
   "execution_count": 181,
   "metadata": {},
   "outputs": [
    {
     "data": {
      "text/plain": [
       "7327"
      ]
     },
     "metadata": {},
     "output_type": "display_data"
    },
    {
     "data": {
      "text/html": [
       "<div>\n",
       "<style scoped>\n",
       "    .dataframe tbody tr th:only-of-type {\n",
       "        vertical-align: middle;\n",
       "    }\n",
       "\n",
       "    .dataframe tbody tr th {\n",
       "        vertical-align: top;\n",
       "    }\n",
       "\n",
       "    .dataframe thead th {\n",
       "        text-align: right;\n",
       "    }\n",
       "</style>\n",
       "<table border=\"1\" class=\"dataframe\">\n",
       "  <thead>\n",
       "    <tr style=\"text-align: right;\">\n",
       "      <th></th>\n",
       "    </tr>\n",
       "    <tr>\n",
       "      <th>word</th>\n",
       "    </tr>\n",
       "  </thead>\n",
       "  <tbody>\n",
       "    <tr>\n",
       "      <th>too</th>\n",
       "    </tr>\n",
       "    <tr>\n",
       "      <th>beforehand</th>\n",
       "    </tr>\n",
       "    <tr>\n",
       "      <th>chronic</th>\n",
       "    </tr>\n",
       "    <tr>\n",
       "      <th>Kates</th>\n",
       "    </tr>\n",
       "    <tr>\n",
       "      <th>Terney</th>\n",
       "    </tr>\n",
       "    <tr>\n",
       "      <th>conference</th>\n",
       "    </tr>\n",
       "    <tr>\n",
       "      <th>Economic</th>\n",
       "    </tr>\n",
       "    <tr>\n",
       "      <th>incorrigible</th>\n",
       "    </tr>\n",
       "    <tr>\n",
       "      <th>Jackson</th>\n",
       "    </tr>\n",
       "    <tr>\n",
       "      <th>broader</th>\n",
       "    </tr>\n",
       "  </tbody>\n",
       "</table>\n",
       "</div>"
      ],
      "text/plain": [
       "Empty DataFrame\n",
       "Columns: []\n",
       "Index: [too, beforehand, chronic, Kates, Terney, conference, Economic, incorrigible, Jackson, broader]"
      ]
     },
     "execution_count": 181,
     "metadata": {},
     "output_type": "execute_result"
    }
   ],
   "source": [
    "vocabulary = content_words[['word']].drop_duplicates().set_index('word')\n",
    "\n",
    "display(len(vocabulary))\n",
    "vocabulary.sample(10)"
   ]
  },
  {
   "cell_type": "code",
   "execution_count": 182,
   "metadata": {},
   "outputs": [],
   "source": [
    "def sparse_featurize(words, vocabulary):\n",
    "    print('Build iterable sentences.')\n",
    "    iterable_sentences = words.groupby('sentence_id')['word'].apply(list)\n",
    "    display(len(iterable_sentences))\n",
    "    display(iterable_sentences[:5])\n",
    "\n",
    "    indices = []\n",
    "    data = []\n",
    "    indptr = [0]\n",
    "    for i, word, sentence_id in words[['word', 'sentence_id']].itertuples():\n",
    "        sentence = iterable_sentences[sentence_id]\n",
    "\n",
    "        # Used to generate a row of 0's and 1's for sparse matrix\n",
    "        unique_unigram_indices = set()\n",
    "        for context_word in sentence:\n",
    "            if context_word == word:\n",
    "                continue\n",
    "            if context_word not in vocabulary.index:\n",
    "                unique_unigram_indices.add(len(vocabulary))\n",
    "            unique_unigram_indices.add(vocabulary.index.get_loc(context_word))\n",
    "\n",
    "        # Data = 1 at column index of sparse matrix = row index of word in vocabulary.\n",
    "        indices.extend(unique_unigram_indices)  # Indices of the data values in this row.\n",
    "        data.extend(np.ones(len(unique_unigram_indices), dtype=int))  # Data of all one's.\n",
    "        indptr.append(indptr[-1]+len(unique_unigram_indices))\n",
    "\n",
    "        if not i % 2000:\n",
    "            print('-', end='', flush=True)\n",
    "\n",
    "    return (\n",
    "        csr_matrix((data, indices, indptr), dtype=int, shape=(len(words), len(vocabulary)+1)),\n",
    "        iterable_sentences\n",
    "    )"
   ]
  },
  {
   "cell_type": "markdown",
   "metadata": {},
   "source": [
    "Width of sparse matrix is len(vocabulary)+1 to process unknown words."
   ]
  },
  {
   "cell_type": "code",
   "execution_count": 183,
   "metadata": {
    "scrolled": true
   },
   "outputs": [
    {
     "name": "stdout",
     "output_type": "stream",
     "text": [
      "Build iterable sentences.\n"
     ]
    },
    {
     "data": {
      "text/plain": [
       "1961"
      ]
     },
     "metadata": {},
     "output_type": "display_data"
    },
    {
     "data": {
      "text/plain": [
       "sentence_id\n",
       "1267    [DRESS, HANGS, HERE', DE-FROCKING, KAHLO, CULT]                                                                               \n",
       "1268    [Oriana, Baddeley]                                                                                                            \n",
       "1269    [witnessed, shift, art, establishment, attitudes, art, produced, traditional, parameters]                                     \n",
       "1270    [work, previously, marginalised, artists, become, area, rich, speculation, art, dealers, priced, modern, masters, market]     \n",
       "1271    [Almost, year, witnessed, discovery, new, artistic, terrain, graffiti, art, Soviet, art, Australian, art, art, Latin, America]\n",
       "Name: word, dtype: object"
      ]
     },
     "metadata": {},
     "output_type": "display_data"
    },
    {
     "name": "stdout",
     "output_type": "stream",
     "text": [
      "-----------"
     ]
    },
    {
     "data": {
      "text/plain": [
       "<25360x7328 sparse matrix of type '<class 'numpy.int32'>'\n",
       "\twith 386398 stored elements in Compressed Sparse Row format>"
      ]
     },
     "metadata": {},
     "output_type": "display_data"
    },
    {
     "data": {
      "text/plain": [
       "(25360, 7328)"
      ]
     },
     "execution_count": 183,
     "metadata": {},
     "output_type": "execute_result"
    }
   ],
   "source": [
    "words = content_words\n",
    "sparse_unigram_features, iterable_sentences = sparse_featurize(words, vocabulary)\n",
    "\n",
    "scipy.sparse.save_npz('data/sparse_unigram_features.npz', sparse_unigram_features)\n",
    "display(sparse_unigram_features)\n",
    "sparse_unigram_features.shape"
   ]
  },
  {
   "cell_type": "markdown",
   "metadata": {},
   "source": [
    "Inspect if sparse features are valid."
   ]
  },
  {
   "cell_type": "code",
   "execution_count": 184,
   "metadata": {},
   "outputs": [],
   "source": [
    "sparse_unigram_features = scipy.sparse.load_npz('data/sparse_unigram_features.npz')"
   ]
  },
  {
   "cell_type": "code",
   "execution_count": 185,
   "metadata": {
    "scrolled": false
   },
   "outputs": [
    {
     "data": {
      "text/plain": [
       "word_id        25449         \n",
       "word           passionate    \n",
       "lemma          passionate    \n",
       "word_type      AJ0           \n",
       "function                     \n",
       "seg_type                     \n",
       "sentence_id    1282          \n",
       "text_id        a6u-fragment02\n",
       "text_tag       a6u           \n",
       "genre          academic      \n",
       "Name: 379, dtype: object"
      ]
     },
     "metadata": {},
     "output_type": "display_data"
    },
    {
     "data": {
      "text/plain": [
       "['Diego',\n",
       " 'Rivera',\n",
       " 'appearance',\n",
       " 'come',\n",
       " 'dominate',\n",
       " 'emotional',\n",
       " 'flamboyant',\n",
       " 'husband',\n",
       " 'obsession',\n",
       " 'pain',\n",
       " 'passionate',\n",
       " 'physical',\n",
       " 'responses',\n",
       " 'work']"
      ]
     },
     "metadata": {},
     "output_type": "display_data"
    },
    {
     "data": {
      "text/plain": [
       "array([ 70,  71, 171, 172, 173, 174, 175, 176, 177, 178, 179, 180,  16])"
      ]
     },
     "metadata": {},
     "output_type": "display_data"
    },
    {
     "data": {
      "text/plain": [
       "['Diego',\n",
       " 'Rivera',\n",
       " 'appearance',\n",
       " 'come',\n",
       " 'dominate',\n",
       " 'emotional',\n",
       " 'flamboyant',\n",
       " 'husband',\n",
       " 'obsession',\n",
       " 'pain',\n",
       " 'physical',\n",
       " 'responses',\n",
       " 'work']"
      ]
     },
     "metadata": {},
     "output_type": "display_data"
    }
   ],
   "source": [
    "select_word_i = 210\n",
    "\n",
    "selected_word = words.iloc[select_word_i]\n",
    "display(selected_word)\n",
    "sentence_of_selected_word = sorted(list(set(iterable_sentences.loc[selected_word.sentence_id])))\n",
    "display(sentence_of_selected_word)\n",
    "\n",
    "unigram_select_indices = np.nonzero(sparse_unigram_features[select_word_i])[:50][1]  # Nonzero indices indicating word.\n",
    "display(unigram_select_indices)\n",
    "sparse_matrix_sentence_selections = sorted(list(vocabulary.iloc[unigram_select_indices].index))\n",
    "display(sparse_matrix_sentence_selections)\n",
    "\n",
    "assert len(sentence_of_selected_word) - 1 == len(sparse_matrix_sentence_selections)"
   ]
  },
  {
   "cell_type": "markdown",
   "metadata": {},
   "source": [
    "Looks good!"
   ]
  },
  {
   "cell_type": "markdown",
   "metadata": {},
   "source": [
    "Do you wanna build a model?"
   ]
  },
  {
   "cell_type": "code",
   "execution_count": null,
   "metadata": {},
   "outputs": [],
   "source": [
    "from sklearn.base import BaseEstimator, RegressorMixin\n",
    "from sklearn.utils.validation import check_X_y, check_array, check_is_fitted\n",
    "from sklearn.utils.estimator_checks import check_estimator\n",
    "\n",
    "def preprocess_data(words):\n",
    "    def build_content_words(all_words):\n",
    "        print('Building content words.')\n",
    "        # Keeping content words: http://ucrel.lancs.ac.uk/bnc2/bnc2guide.htm#m2adv\n",
    "        # Does not include forms of 'be', 'do', 'have', or modal verbs,\n",
    "        # as suggested in https://github.com/EducationalTestingService/metaphor/tree/master/content-words\n",
    "        content_word_pos = set([\n",
    "            'NN1', 'NN2', 'NN0',\n",
    "            'NP0',\n",
    "            'NN1-NP0', 'NN1-VVB', 'NN1-VVG', 'NN2-VVZ',\n",
    "            'NP0-NN1',\n",
    "            'VVB', 'VVD', 'VVG', 'VVI', 'VVN', 'VVZ',\n",
    "            'VVB-NN1', 'VVD-VVN', 'VVD-AJ0', 'VVG-AJ0', 'VVG-NN1', 'VVZ-NN2',\n",
    "            'AJ0', 'AJC', 'AJS',\n",
    "            'AJ0-NN1', 'AJ0-VVG', 'AJ0-VVN',\n",
    "            'AV0', 'AVQ', 'AVP',\n",
    "            'AV0-AJ0'\n",
    "        ])\n",
    "        \n",
    "        content_words = all_words[all_words['word_type'].isin(content_word_pos)]\n",
    "        \n",
    "        return content_words\n",
    "    \n",
    "    def get_test_fold_ids(words):\n",
    "        num_folds = {\n",
    "            'newspapers': 10,\n",
    "            'conversation': 10,\n",
    "            'academic': 10,\n",
    "            'fiction': 11\n",
    "        }\n",
    "        \n",
    "        genre = words.iloc[0]['genre']\n",
    "\n",
    "        test_fold_ids = defaultdict(int)\n",
    "\n",
    "        for i, (text, _) in enumerate(words.groupby('text_id')):\n",
    "            test_fold_ids[text] = i // num_folds[genre]\n",
    "\n",
    "        return words['text_id'].apply(lambda x: test_fold_ids[x])\n",
    "        \n",
    "    \n",
    "    def build_labels(words):\n",
    "        labels = words['function'] == 'mrw'\n",
    "        \n",
    "        return labels\n",
    "    \n",
    "    content_words = build_content_words(words)\n",
    "    test_fold_ids = get_test_fold_ids(content_words)\n",
    "    labels = build_labels(content_words)\n",
    "    \n",
    "    assert len(content_words) == len(test_fold_ids)\n",
    "    \n",
    "    return content_words, test_fold_ids, labels"
   ]
  },
  {
   "cell_type": "markdown",
   "metadata": {},
   "source": [
    "Model"
   ]
  },
  {
   "cell_type": "code",
   "execution_count": 211,
   "metadata": {},
   "outputs": [],
   "source": [
    "from sklearn.base import BaseEstimator, RegressorMixin\n",
    "from sklearn.utils.validation import check_X_y, check_array, check_is_fitted\n",
    "from sklearn.utils.estimator_checks import check_estimator\n",
    "\n",
    "def preprocess_data(words):\n",
    "    def build_content_words(all_words):\n",
    "        print('Building content words.')\n",
    "        # Keeping content words: http://ucrel.lancs.ac.uk/bnc2/bnc2guide.htm#m2adv\n",
    "        # Does not include forms of 'be', 'do', 'have', or modal verbs,\n",
    "        # as suggested in https://github.com/EducationalTestingService/metaphor/tree/master/content-words\n",
    "        content_word_pos = set([\n",
    "            'NN1', 'NN2', 'NN0',\n",
    "            'NP0',\n",
    "            'NN1-NP0', 'NN1-VVB', 'NN1-VVG', 'NN2-VVZ',\n",
    "            'NP0-NN1',\n",
    "            'VVB', 'VVD', 'VVG', 'VVI', 'VVN', 'VVZ',\n",
    "            'VVB-NN1', 'VVD-VVN', 'VVD-AJ0', 'VVG-AJ0', 'VVG-NN1', 'VVZ-NN2',\n",
    "            'AJ0', 'AJC', 'AJS',\n",
    "            'AJ0-NN1', 'AJ0-VVG', 'AJ0-VVN',\n",
    "            'AV0', 'AVQ', 'AVP',\n",
    "            'AV0-AJ0'\n",
    "        ])\n",
    "        \n",
    "        content_words = all_words[all_words['word_type'].isin(content_word_pos)]\n",
    "        \n",
    "        return content_words\n",
    "    \n",
    "    def get_test_fold_ids(words):\n",
    "        num_folds = {\n",
    "            'newspapers': 10,\n",
    "            'conversation': 10,\n",
    "            'academic': 10,\n",
    "            'fiction': 11\n",
    "        }\n",
    "        \n",
    "        genre = words.iloc[0]['genre']\n",
    "\n",
    "        test_fold_ids = defaultdict(int)\n",
    "\n",
    "        for i, (text, _) in enumerate(words.groupby('text_id')):\n",
    "            test_fold_ids[text] = i // num_folds[genre]\n",
    "\n",
    "        return words['text_id'].apply(lambda x: test_fold_ids[x])\n",
    "        \n",
    "    \n",
    "    def build_labels(words):\n",
    "        labels = words['function'] == 'mrw'\n",
    "        \n",
    "        return labels\n",
    "    \n",
    "    content_words = build_content_words(words)\n",
    "    test_fold_ids = get_test_fold_ids(content_words)\n",
    "    labels = build_labels(content_words)\n",
    "    \n",
    "    assert len(content_words) == len(test_fold_ids)\n",
    "    \n",
    "    return content_words, test_fold_ids, labels\n",
    "\n",
    "class UnigramClassifier(BaseEstimator):\n",
    "    def __init__(self, verbose=10, random_state=0, C=10, penalty='l1',\n",
    "                 solver='liblinear', class_weight='balanced', max_iter=500):\n",
    "        self.verbose = verbose\n",
    "        self.random_state = random_state\n",
    "        self.C = C\n",
    "        self.penalty = penalty\n",
    "        self.solver = solver\n",
    "        self.class_weight = class_weight\n",
    "        self.max_iter = max_iter\n",
    " \n",
    "    \n",
    "    def fit(self, X, y):\n",
    "        self.build_features(X, y)\n",
    "        \n",
    "        self.clf_ = LogisticRegression(\n",
    "            verbose=self.verbose,\n",
    "            random_state=self.random_state,\n",
    "            C=self.C,\n",
    "            penalty=self.penalty,\n",
    "            solver=self.solver,\n",
    "            class_weight=self.class_weight,\n",
    "            max_iter=self.max_iter\n",
    "        )\n",
    "        \n",
    "        self.clf_.fit(self.X_, self.y_)\n",
    "        \n",
    "        return self\n",
    "    \n",
    "    def build_features(self, X, y):\n",
    "        self.vocabulary_ = X[['word']].drop_duplicates().set_index('word')\n",
    "        \n",
    "        sparse_unigram_features, iterable_sentences = self.sparse_featurize(X)\n",
    "        \n",
    "        self.X_, self.y_ = shuffle(sparse_unigram_features, y, random_state=0)\n",
    "    \n",
    "    \n",
    "    def sparse_featurize(self, words):\n",
    "        iterable_sentences = words.groupby('sentence_id')['word'].apply(list)\n",
    "\n",
    "        indices = []\n",
    "        data = []\n",
    "        indptr = [0]\n",
    "        for i, word, sentence_id in words[['word', 'sentence_id']].itertuples():\n",
    "            sentence = iterable_sentences[sentence_id]\n",
    "\n",
    "            # Used to generate a row of 0's and 1's for sparse matrix\n",
    "            unique_unigram_indices = set()\n",
    "            for context_word in sentence:\n",
    "                if context_word == word:\n",
    "                    continue\n",
    "                if context_word not in self.vocabulary_.index:\n",
    "                    unique_unigram_indices.add(len(self.vocabulary_))\n",
    "                else:\n",
    "                    unique_unigram_indices.add(self.vocabulary_.index.get_loc(context_word))\n",
    "\n",
    "            # Data = 1 at column index of sparse matrix = row index of word in vocabulary.\n",
    "            indices.extend(unique_unigram_indices)  # Indices of the data values in this row.\n",
    "            data.extend(np.ones(len(unique_unigram_indices), dtype=int))  # Data of all one's.\n",
    "            indptr.append(indptr[-1]+len(unique_unigram_indices))\n",
    "\n",
    "            if not i % 2000:\n",
    "                print('-', end='', flush=True)\n",
    "\n",
    "        return (\n",
    "            csr_matrix((data, indices, indptr), dtype=int, shape=(len(words), len(self.vocabulary_)+1)),\n",
    "            iterable_sentences\n",
    "        )   \n",
    "    \n",
    "    \n",
    "    def predict(self, X):\n",
    "        featurized_X = self.sparse_featurize(X)[0]\n",
    "        return self.clf_.predict(featurized_X)\n",
    "    \n",
    "# check_estimator(UnigramClassifier)"
   ]
  },
  {
   "cell_type": "code",
   "execution_count": 303,
   "metadata": {},
   "outputs": [],
   "source": [
    "%run model_functions.ipynb"
   ]
  },
  {
   "cell_type": "markdown",
   "metadata": {},
   "source": [
    "Try on academic."
   ]
  },
  {
   "cell_type": "code",
   "execution_count": 304,
   "metadata": {},
   "outputs": [
    {
     "name": "stdout",
     "output_type": "stream",
     "text": [
      "-----------"
     ]
    }
   ],
   "source": [
    "X, test_fold_ids, vocabulary, y = preprocess_data(all_words)"
   ]
  },
  {
   "cell_type": "code",
   "execution_count": 305,
   "metadata": {},
   "outputs": [],
   "source": [
    "unigram_classifier = UnigramClassifier(\n",
    "    verbose=10, random_state=0, C=10, penalty='l1',\n",
    "    solver='liblinear', class_weight='balanced', max_iter=500,\n",
    "    vocabulary=vocabulary\n",
    ")\n",
    "\n",
    "C = np.logspace(-2,4,20)\n",
    "penalty = ['l1', 'l2']\n",
    "hyperparameters = {'C':C, 'penalty':penalty}\n",
    "clf = GridSearchCV(unigram_classifier, hyperparameters,\n",
    "                   cv=PredefinedSplit(test_fold_ids),\n",
    "                   verbose=10, scoring='f1')"
   ]
  },
  {
   "cell_type": "code",
   "execution_count": null,
   "metadata": {
    "scrolled": true
   },
   "outputs": [
    {
     "name": "stdout",
     "output_type": "stream",
     "text": [
      "Fitting 10 folds for each of 40 candidates, totalling 400 fits\n",
      "[CV] C=0.01, penalty=l1 ..............................................\n"
     ]
    },
    {
     "name": "stderr",
     "output_type": "stream",
     "text": [
      "[Parallel(n_jobs=1)]: Using backend SequentialBackend with 1 concurrent workers.\n",
      "[Parallel(n_jobs=1)]: Using backend SequentialBackend with 1 concurrent workers.\n"
     ]
    },
    {
     "name": "stdout",
     "output_type": "stream",
     "text": [
      "convergence after 17 epochs took 0 seconds\n",
      "[CV] ..... C=0.01, penalty=l1, score=0.3702857142857143, total=   0.3s\n",
      "[CV] C=0.01, penalty=l1 ..............................................\n"
     ]
    },
    {
     "name": "stderr",
     "output_type": "stream",
     "text": [
      "[Parallel(n_jobs=1)]: Done   1 out of   1 | elapsed:    0.3s remaining:    0.0s\n",
      "[Parallel(n_jobs=1)]: Done   1 out of   1 | elapsed:    0.3s finished\n",
      "[Parallel(n_jobs=1)]: Done   1 out of   1 | elapsed:    0.3s remaining:    0.0s\n",
      "[Parallel(n_jobs=1)]: Using backend SequentialBackend with 1 concurrent workers.\n"
     ]
    },
    {
     "name": "stdout",
     "output_type": "stream",
     "text": [
      "convergence after 18 epochs took 0 seconds\n",
      "[CV] ..... C=0.01, penalty=l1, score=0.3415032679738562, total=   0.3s\n",
      "[CV] C=0.01, penalty=l1 ..............................................\n"
     ]
    },
    {
     "name": "stderr",
     "output_type": "stream",
     "text": [
      "[Parallel(n_jobs=1)]: Done   1 out of   1 | elapsed:    0.3s remaining:    0.0s\n",
      "[Parallel(n_jobs=1)]: Done   1 out of   1 | elapsed:    0.3s finished\n",
      "[Parallel(n_jobs=1)]: Done   2 out of   2 | elapsed:    0.7s remaining:    0.0s\n",
      "[Parallel(n_jobs=1)]: Using backend SequentialBackend with 1 concurrent workers.\n"
     ]
    },
    {
     "name": "stdout",
     "output_type": "stream",
     "text": [
      "convergence after 21 epochs took 1 seconds\n",
      "[CV] ...... C=0.01, penalty=l1, score=0.339675828047921, total=   0.3s\n",
      "[CV] C=0.01, penalty=l1 ..............................................\n"
     ]
    },
    {
     "name": "stderr",
     "output_type": "stream",
     "text": [
      "[Parallel(n_jobs=1)]: Done   1 out of   1 | elapsed:    0.3s remaining:    0.0s\n",
      "[Parallel(n_jobs=1)]: Done   1 out of   1 | elapsed:    0.3s finished\n",
      "[Parallel(n_jobs=1)]: Done   3 out of   3 | elapsed:    1.1s remaining:    0.0s\n",
      "[Parallel(n_jobs=1)]: Using backend SequentialBackend with 1 concurrent workers.\n"
     ]
    },
    {
     "name": "stdout",
     "output_type": "stream",
     "text": [
      "convergence after 16 epochs took 1 seconds\n",
      "[CV] ....... C=0.01, penalty=l1, score=0.38465274405051, total=   0.5s\n",
      "[CV] C=0.01, penalty=l1 ..............................................\n"
     ]
    },
    {
     "name": "stderr",
     "output_type": "stream",
     "text": [
      "[Parallel(n_jobs=1)]: Done   1 out of   1 | elapsed:    0.5s remaining:    0.0s\n",
      "[Parallel(n_jobs=1)]: Done   1 out of   1 | elapsed:    0.5s finished\n",
      "[Parallel(n_jobs=1)]: Done   4 out of   4 | elapsed:    1.8s remaining:    0.0s\n",
      "[Parallel(n_jobs=1)]: Using backend SequentialBackend with 1 concurrent workers.\n"
     ]
    },
    {
     "name": "stdout",
     "output_type": "stream",
     "text": [
      "convergence after 17 epochs took 0 seconds\n",
      "[CV] ..... C=0.01, penalty=l1, score=0.4020559680182752, total=   0.3s\n",
      "[CV] C=0.01, penalty=l1 ..............................................\n",
      "convergence after 9 epochs took 0 seconds\n",
      "[CV] .................... C=0.01, penalty=l1, score=0.0, total=   0.0s\n",
      "[CV] C=0.01, penalty=l1 ..............................................\n"
     ]
    },
    {
     "name": "stderr",
     "output_type": "stream",
     "text": [
      "[Parallel(n_jobs=1)]: Done   1 out of   1 | elapsed:    0.2s remaining:    0.0s\n",
      "[Parallel(n_jobs=1)]: Done   1 out of   1 | elapsed:    0.2s finished\n",
      "[Parallel(n_jobs=1)]: Done   5 out of   5 | elapsed:    2.2s remaining:    0.0s\n",
      "[Parallel(n_jobs=1)]: Using backend SequentialBackend with 1 concurrent workers.\n",
      "[Parallel(n_jobs=1)]: Done   1 out of   1 | elapsed:    0.0s remaining:    0.0s\n",
      "[Parallel(n_jobs=1)]: Done   1 out of   1 | elapsed:    0.0s finished\n",
      "[Parallel(n_jobs=1)]: Done   6 out of   6 | elapsed:    2.3s remaining:    0.0s\n",
      "[Parallel(n_jobs=1)]: Using backend SequentialBackend with 1 concurrent workers.\n"
     ]
    },
    {
     "name": "stdout",
     "output_type": "stream",
     "text": [
      "convergence after 17 epochs took 0 seconds\n",
      "[CV] .... C=0.01, penalty=l1, score=0.33910761154855645, total=   0.3s\n",
      "[CV] C=0.01, penalty=l1 ..............................................\n"
     ]
    },
    {
     "name": "stderr",
     "output_type": "stream",
     "text": [
      "[Parallel(n_jobs=1)]: Done   1 out of   1 | elapsed:    0.3s remaining:    0.0s\n",
      "[Parallel(n_jobs=1)]: Done   1 out of   1 | elapsed:    0.3s finished\n",
      "[Parallel(n_jobs=1)]: Done   7 out of   7 | elapsed:    2.7s remaining:    0.0s\n",
      "[Parallel(n_jobs=1)]: Using backend SequentialBackend with 1 concurrent workers.\n"
     ]
    },
    {
     "name": "stdout",
     "output_type": "stream",
     "text": [
      "convergence after 17 epochs took 1 seconds\n",
      "[CV] ..... C=0.01, penalty=l1, score=0.2824427480916031, total=   0.3s\n",
      "[CV] C=0.01, penalty=l1 ..............................................\n"
     ]
    },
    {
     "name": "stderr",
     "output_type": "stream",
     "text": [
      "[Parallel(n_jobs=1)]: Done   1 out of   1 | elapsed:    0.3s remaining:    0.0s\n",
      "[Parallel(n_jobs=1)]: Done   1 out of   1 | elapsed:    0.3s finished\n",
      "[Parallel(n_jobs=1)]: Done   8 out of   8 | elapsed:    3.1s remaining:    0.0s\n",
      "[Parallel(n_jobs=1)]: Using backend SequentialBackend with 1 concurrent workers.\n"
     ]
    },
    {
     "name": "stdout",
     "output_type": "stream",
     "text": [
      "convergence after 17 epochs took 0 seconds\n",
      "[CV] ..... C=0.01, penalty=l1, score=0.4048282265552461, total=   0.4s\n",
      "[CV] C=0.01, penalty=l1 ..............................................\n"
     ]
    },
    {
     "name": "stderr",
     "output_type": "stream",
     "text": [
      "[Parallel(n_jobs=1)]: Done   1 out of   1 | elapsed:    0.4s remaining:    0.0s\n",
      "[Parallel(n_jobs=1)]: Done   1 out of   1 | elapsed:    0.4s finished\n",
      "[Parallel(n_jobs=1)]: Done   9 out of   9 | elapsed:    3.6s remaining:    0.0s\n",
      "[Parallel(n_jobs=1)]: Using backend SequentialBackend with 1 concurrent workers.\n"
     ]
    },
    {
     "name": "stdout",
     "output_type": "stream",
     "text": [
      "convergence after 18 epochs took 1 seconds\n",
      "[CV] ..... C=0.01, penalty=l1, score=0.3947136563876652, total=   0.4s\n",
      "[CV] C=0.01, penalty=l2 ..............................................\n"
     ]
    },
    {
     "name": "stderr",
     "output_type": "stream",
     "text": [
      "[Parallel(n_jobs=1)]: Done   1 out of   1 | elapsed:    0.4s remaining:    0.0s\n",
      "[Parallel(n_jobs=1)]: Done   1 out of   1 | elapsed:    0.4s finished\n",
      "[Parallel(n_jobs=1)]: Using backend SequentialBackend with 1 concurrent workers.\n"
     ]
    },
    {
     "name": "stdout",
     "output_type": "stream",
     "text": [
      "convergence after 25 epochs took 0 seconds\n",
      "[CV] .... C=0.01, penalty=l2, score=0.28112449799196787, total=   0.4s\n",
      "[CV] C=0.01, penalty=l2 ..............................................\n"
     ]
    },
    {
     "name": "stderr",
     "output_type": "stream",
     "text": [
      "[Parallel(n_jobs=1)]: Done   1 out of   1 | elapsed:    0.4s remaining:    0.0s\n",
      "[Parallel(n_jobs=1)]: Done   1 out of   1 | elapsed:    0.4s finished\n",
      "[Parallel(n_jobs=1)]: Using backend SequentialBackend with 1 concurrent workers.\n"
     ]
    },
    {
     "name": "stdout",
     "output_type": "stream",
     "text": [
      "convergence after 27 epochs took 1 seconds\n",
      "[CV] ..... C=0.01, penalty=l2, score=0.3033620015637217, total=   0.7s\n",
      "[CV] C=0.01, penalty=l2 ..............................................\n"
     ]
    },
    {
     "name": "stderr",
     "output_type": "stream",
     "text": [
      "[Parallel(n_jobs=1)]: Done   1 out of   1 | elapsed:    0.7s remaining:    0.0s\n",
      "[Parallel(n_jobs=1)]: Done   1 out of   1 | elapsed:    0.7s finished\n",
      "[Parallel(n_jobs=1)]: Using backend SequentialBackend with 1 concurrent workers.\n"
     ]
    },
    {
     "name": "stdout",
     "output_type": "stream",
     "text": [
      "convergence after 22 epochs took 1 seconds\n",
      "[CV] ..... C=0.01, penalty=l2, score=0.3031914893617021, total=   0.6s\n",
      "[CV] C=0.01, penalty=l2 ..............................................\n"
     ]
    },
    {
     "name": "stderr",
     "output_type": "stream",
     "text": [
      "[Parallel(n_jobs=1)]: Done   1 out of   1 | elapsed:    0.6s remaining:    0.0s\n",
      "[Parallel(n_jobs=1)]: Done   1 out of   1 | elapsed:    0.6s finished\n",
      "[Parallel(n_jobs=1)]: Using backend SequentialBackend with 1 concurrent workers.\n"
     ]
    },
    {
     "name": "stdout",
     "output_type": "stream",
     "text": [
      "convergence after 22 epochs took 1 seconds\n",
      "[CV] .... C=0.01, penalty=l2, score=0.32155477031802115, total=   0.6s\n",
      "[CV] C=0.01, penalty=l2 ..............................................\n"
     ]
    },
    {
     "name": "stderr",
     "output_type": "stream",
     "text": [
      "[Parallel(n_jobs=1)]: Done   1 out of   1 | elapsed:    0.6s remaining:    0.0s\n",
      "[Parallel(n_jobs=1)]: Done   1 out of   1 | elapsed:    0.6s finished\n",
      "[Parallel(n_jobs=1)]: Using backend SequentialBackend with 1 concurrent workers.\n"
     ]
    },
    {
     "name": "stdout",
     "output_type": "stream",
     "text": [
      "convergence after 24 epochs took 0 seconds\n",
      "[CV] ..... C=0.01, penalty=l2, score=0.3718354430379747, total=   0.6s\n",
      "[CV] C=0.01, penalty=l2 ..............................................\n"
     ]
    },
    {
     "name": "stderr",
     "output_type": "stream",
     "text": [
      "[Parallel(n_jobs=1)]: Done   1 out of   1 | elapsed:    0.6s remaining:    0.0s\n",
      "[Parallel(n_jobs=1)]: Done   1 out of   1 | elapsed:    0.6s finished\n",
      "[Parallel(n_jobs=1)]: Using backend SequentialBackend with 1 concurrent workers.\n"
     ]
    },
    {
     "name": "stdout",
     "output_type": "stream",
     "text": [
      "convergence after 21 epochs took 1 seconds\n",
      "[CV] .... C=0.01, penalty=l2, score=0.04951298701298701, total=   0.1s\n",
      "[CV] C=0.01, penalty=l2 ..............................................\n"
     ]
    },
    {
     "name": "stderr",
     "output_type": "stream",
     "text": [
      "[Parallel(n_jobs=1)]: Done   1 out of   1 | elapsed:    0.1s remaining:    0.0s\n",
      "[Parallel(n_jobs=1)]: Done   1 out of   1 | elapsed:    0.1s finished\n",
      "[Parallel(n_jobs=1)]: Using backend SequentialBackend with 1 concurrent workers.\n"
     ]
    },
    {
     "name": "stdout",
     "output_type": "stream",
     "text": [
      "convergence after 22 epochs took 0 seconds\n",
      "[CV] .... C=0.01, penalty=l2, score=0.21720733427362482, total=   0.5s\n",
      "[CV] C=0.01, penalty=l2 ..............................................\n"
     ]
    },
    {
     "name": "stderr",
     "output_type": "stream",
     "text": [
      "[Parallel(n_jobs=1)]: Done   1 out of   1 | elapsed:    0.5s remaining:    0.0s\n",
      "[Parallel(n_jobs=1)]: Done   1 out of   1 | elapsed:    0.5s finished\n",
      "[Parallel(n_jobs=1)]: Using backend SequentialBackend with 1 concurrent workers.\n"
     ]
    },
    {
     "name": "stdout",
     "output_type": "stream",
     "text": [
      "convergence after 23 epochs took 1 seconds\n",
      "[CV] .... C=0.01, penalty=l2, score=0.22597402597402597, total=   0.3s\n",
      "[CV] C=0.01, penalty=l2 ..............................................\n"
     ]
    },
    {
     "name": "stderr",
     "output_type": "stream",
     "text": [
      "[Parallel(n_jobs=1)]: Done   1 out of   1 | elapsed:    0.3s remaining:    0.0s\n",
      "[Parallel(n_jobs=1)]: Done   1 out of   1 | elapsed:    0.3s finished\n",
      "[Parallel(n_jobs=1)]: Using backend SequentialBackend with 1 concurrent workers.\n"
     ]
    },
    {
     "name": "stdout",
     "output_type": "stream",
     "text": [
      "convergence after 27 epochs took 0 seconds\n",
      "[CV] ..... C=0.01, penalty=l2, score=0.3015267175572519, total=   0.6s\n",
      "[CV] C=0.01, penalty=l2 ..............................................\n"
     ]
    },
    {
     "name": "stderr",
     "output_type": "stream",
     "text": [
      "[Parallel(n_jobs=1)]: Done   1 out of   1 | elapsed:    0.6s remaining:    0.0s\n",
      "[Parallel(n_jobs=1)]: Done   1 out of   1 | elapsed:    0.6s finished\n",
      "[Parallel(n_jobs=1)]: Using backend SequentialBackend with 1 concurrent workers.\n"
     ]
    },
    {
     "name": "stdout",
     "output_type": "stream",
     "text": [
      "convergence after 23 epochs took 0 seconds\n",
      "[CV] ..... C=0.01, penalty=l2, score=0.2885375494071147, total=   0.5s\n",
      "[CV] C=0.0206913808111479, penalty=l1 ................................\n"
     ]
    },
    {
     "name": "stderr",
     "output_type": "stream",
     "text": [
      "[Parallel(n_jobs=1)]: Done   1 out of   1 | elapsed:    0.5s remaining:    0.0s\n",
      "[Parallel(n_jobs=1)]: Done   1 out of   1 | elapsed:    0.5s finished\n",
      "[Parallel(n_jobs=1)]: Using backend SequentialBackend with 1 concurrent workers.\n"
     ]
    },
    {
     "name": "stdout",
     "output_type": "stream",
     "text": [
      "convergence after 18 epochs took 0 seconds\n",
      "[CV]  C=0.0206913808111479, penalty=l1, score=0.35333782872555636, total=   0.3s\n",
      "[CV] C=0.0206913808111479, penalty=l1 ................................\n"
     ]
    },
    {
     "name": "stderr",
     "output_type": "stream",
     "text": [
      "[Parallel(n_jobs=1)]: Done   1 out of   1 | elapsed:    0.3s remaining:    0.0s\n",
      "[Parallel(n_jobs=1)]: Done   1 out of   1 | elapsed:    0.3s finished\n",
      "[Parallel(n_jobs=1)]: Using backend SequentialBackend with 1 concurrent workers.\n"
     ]
    },
    {
     "name": "stdout",
     "output_type": "stream",
     "text": [
      "convergence after 19 epochs took 0 seconds\n",
      "[CV]  C=0.0206913808111479, penalty=l1, score=0.33207902163687675, total=   0.5s\n",
      "[CV] C=0.0206913808111479, penalty=l1 ................................\n"
     ]
    },
    {
     "name": "stderr",
     "output_type": "stream",
     "text": [
      "[Parallel(n_jobs=1)]: Done   1 out of   1 | elapsed:    0.5s remaining:    0.0s\n",
      "[Parallel(n_jobs=1)]: Done   1 out of   1 | elapsed:    0.5s finished\n",
      "[Parallel(n_jobs=1)]: Using backend SequentialBackend with 1 concurrent workers.\n"
     ]
    },
    {
     "name": "stdout",
     "output_type": "stream",
     "text": [
      "convergence after 21 epochs took 1 seconds\n",
      "[CV]  C=0.0206913808111479, penalty=l1, score=0.34001484780994806, total=   0.6s\n",
      "[CV] C=0.0206913808111479, penalty=l1 ................................\n"
     ]
    },
    {
     "name": "stderr",
     "output_type": "stream",
     "text": [
      "[Parallel(n_jobs=1)]: Done   1 out of   1 | elapsed:    0.6s remaining:    0.0s\n",
      "[Parallel(n_jobs=1)]: Done   1 out of   1 | elapsed:    0.6s finished\n",
      "[Parallel(n_jobs=1)]: Using backend SequentialBackend with 1 concurrent workers.\n"
     ]
    },
    {
     "name": "stdout",
     "output_type": "stream",
     "text": [
      "convergence after 19 epochs took 0 seconds\n",
      "[CV]  C=0.0206913808111479, penalty=l1, score=0.3642651296829971, total=   0.4s\n",
      "[CV] C=0.0206913808111479, penalty=l1 ................................\n"
     ]
    },
    {
     "name": "stderr",
     "output_type": "stream",
     "text": [
      "[Parallel(n_jobs=1)]: Done   1 out of   1 | elapsed:    0.4s remaining:    0.0s\n",
      "[Parallel(n_jobs=1)]: Done   1 out of   1 | elapsed:    0.4s finished\n",
      "[Parallel(n_jobs=1)]: Using backend SequentialBackend with 1 concurrent workers.\n"
     ]
    },
    {
     "name": "stdout",
     "output_type": "stream",
     "text": [
      "convergence after 17 epochs took 1 seconds\n",
      "[CV]  C=0.0206913808111479, penalty=l1, score=0.3993095512082854, total=   0.3s\n",
      "[CV] C=0.0206913808111479, penalty=l1 ................................\n",
      "convergence after 9 epochs took 0 seconds\n",
      "[CV] ...... C=0.0206913808111479, penalty=l1, score=0.0, total=   0.0s\n",
      "[CV] C=0.0206913808111479, penalty=l1 ................................\n"
     ]
    },
    {
     "name": "stderr",
     "output_type": "stream",
     "text": [
      "[Parallel(n_jobs=1)]: Done   1 out of   1 | elapsed:    0.3s remaining:    0.0s\n",
      "[Parallel(n_jobs=1)]: Done   1 out of   1 | elapsed:    0.3s finished\n",
      "[Parallel(n_jobs=1)]: Using backend SequentialBackend with 1 concurrent workers.\n",
      "[Parallel(n_jobs=1)]: Done   1 out of   1 | elapsed:    0.0s remaining:    0.0s\n",
      "[Parallel(n_jobs=1)]: Done   1 out of   1 | elapsed:    0.0s finished\n",
      "[Parallel(n_jobs=1)]: Using backend SequentialBackend with 1 concurrent workers.\n"
     ]
    },
    {
     "name": "stdout",
     "output_type": "stream",
     "text": [
      "convergence after 18 epochs took 0 seconds\n",
      "[CV]  C=0.0206913808111479, penalty=l1, score=0.33144796380090497, total=   0.3s\n",
      "[CV] C=0.0206913808111479, penalty=l1 ................................\n"
     ]
    },
    {
     "name": "stderr",
     "output_type": "stream",
     "text": [
      "[Parallel(n_jobs=1)]: Done   1 out of   1 | elapsed:    0.3s remaining:    0.0s\n",
      "[Parallel(n_jobs=1)]: Done   1 out of   1 | elapsed:    0.3s finished\n",
      "[Parallel(n_jobs=1)]: Using backend SequentialBackend with 1 concurrent workers.\n"
     ]
    },
    {
     "name": "stdout",
     "output_type": "stream",
     "text": [
      "convergence after 17 epochs took 1 seconds\n",
      "[CV]  C=0.0206913808111479, penalty=l1, score=0.2808267997148966, total=   0.5s\n",
      "[CV] C=0.0206913808111479, penalty=l1 ................................\n"
     ]
    },
    {
     "name": "stderr",
     "output_type": "stream",
     "text": [
      "[Parallel(n_jobs=1)]: Done   1 out of   1 | elapsed:    0.5s remaining:    0.0s\n",
      "[Parallel(n_jobs=1)]: Done   1 out of   1 | elapsed:    0.5s finished\n",
      "[Parallel(n_jobs=1)]: Using backend SequentialBackend with 1 concurrent workers.\n"
     ]
    },
    {
     "name": "stdout",
     "output_type": "stream",
     "text": [
      "convergence after 17 epochs took 0 seconds\n",
      "[CV]  C=0.0206913808111479, penalty=l1, score=0.39673635900050996, total=   0.4s\n",
      "[CV] C=0.0206913808111479, penalty=l1 ................................\n"
     ]
    },
    {
     "name": "stderr",
     "output_type": "stream",
     "text": [
      "[Parallel(n_jobs=1)]: Done   1 out of   1 | elapsed:    0.3s remaining:    0.0s\n",
      "[Parallel(n_jobs=1)]: Done   1 out of   1 | elapsed:    0.3s finished\n",
      "[Parallel(n_jobs=1)]: Using backend SequentialBackend with 1 concurrent workers.\n"
     ]
    },
    {
     "name": "stdout",
     "output_type": "stream",
     "text": [
      "convergence after 20 epochs took 1 seconds\n",
      "[CV]  C=0.0206913808111479, penalty=l1, score=0.3863531581373905, total=   0.7s\n",
      "[CV] C=0.0206913808111479, penalty=l2 ................................\n"
     ]
    },
    {
     "name": "stderr",
     "output_type": "stream",
     "text": [
      "[Parallel(n_jobs=1)]: Done   1 out of   1 | elapsed:    0.7s remaining:    0.0s\n",
      "[Parallel(n_jobs=1)]: Done   1 out of   1 | elapsed:    0.7s finished\n",
      "[Parallel(n_jobs=1)]: Using backend SequentialBackend with 1 concurrent workers.\n"
     ]
    },
    {
     "name": "stdout",
     "output_type": "stream",
     "text": [
      "convergence after 28 epochs took 1 seconds\n",
      "[CV]  C=0.0206913808111479, penalty=l2, score=0.2639296187683285, total=   0.5s\n",
      "[CV] C=0.0206913808111479, penalty=l2 ................................\n"
     ]
    },
    {
     "name": "stderr",
     "output_type": "stream",
     "text": [
      "[Parallel(n_jobs=1)]: Done   1 out of   1 | elapsed:    0.5s remaining:    0.0s\n",
      "[Parallel(n_jobs=1)]: Done   1 out of   1 | elapsed:    0.5s finished\n",
      "[Parallel(n_jobs=1)]: Using backend SequentialBackend with 1 concurrent workers.\n"
     ]
    },
    {
     "name": "stdout",
     "output_type": "stream",
     "text": [
      "convergence after 30 epochs took 0 seconds\n",
      "[CV]  C=0.0206913808111479, penalty=l2, score=0.29051217464315704, total=   0.5s\n",
      "[CV] C=0.0206913808111479, penalty=l2 ................................\n"
     ]
    },
    {
     "name": "stderr",
     "output_type": "stream",
     "text": [
      "[Parallel(n_jobs=1)]: Done   1 out of   1 | elapsed:    0.5s remaining:    0.0s\n",
      "[Parallel(n_jobs=1)]: Done   1 out of   1 | elapsed:    0.5s finished\n",
      "[Parallel(n_jobs=1)]: Using backend SequentialBackend with 1 concurrent workers.\n"
     ]
    },
    {
     "name": "stdout",
     "output_type": "stream",
     "text": [
      "convergence after 25 epochs took 1 seconds\n",
      "[CV]  C=0.0206913808111479, penalty=l2, score=0.3178082191780822, total=   0.8s\n",
      "[CV] C=0.0206913808111479, penalty=l2 ................................\n"
     ]
    },
    {
     "name": "stderr",
     "output_type": "stream",
     "text": [
      "[Parallel(n_jobs=1)]: Done   1 out of   1 | elapsed:    0.8s remaining:    0.0s\n",
      "[Parallel(n_jobs=1)]: Done   1 out of   1 | elapsed:    0.8s finished\n",
      "[Parallel(n_jobs=1)]: Using backend SequentialBackend with 1 concurrent workers.\n"
     ]
    },
    {
     "name": "stdout",
     "output_type": "stream",
     "text": [
      "convergence after 23 epochs took 1 seconds\n",
      "[CV]  C=0.0206913808111479, penalty=l2, score=0.3083859332732191, total=   0.9s\n",
      "[CV] C=0.0206913808111479, penalty=l2 ................................\n"
     ]
    },
    {
     "name": "stderr",
     "output_type": "stream",
     "text": [
      "[Parallel(n_jobs=1)]: Done   1 out of   1 | elapsed:    0.9s remaining:    0.0s\n",
      "[Parallel(n_jobs=1)]: Done   1 out of   1 | elapsed:    0.9s finished\n",
      "[Parallel(n_jobs=1)]: Using backend SequentialBackend with 1 concurrent workers.\n"
     ]
    },
    {
     "name": "stdout",
     "output_type": "stream",
     "text": [
      "convergence after 29 epochs took 1 seconds\n",
      "[CV]  C=0.0206913808111479, penalty=l2, score=0.367381974248927, total=   0.6s\n",
      "[CV] C=0.0206913808111479, penalty=l2 ................................\n"
     ]
    },
    {
     "name": "stderr",
     "output_type": "stream",
     "text": [
      "[Parallel(n_jobs=1)]: Done   1 out of   1 | elapsed:    0.5s remaining:    0.0s\n",
      "[Parallel(n_jobs=1)]: Done   1 out of   1 | elapsed:    0.5s finished\n",
      "[Parallel(n_jobs=1)]: Using backend SequentialBackend with 1 concurrent workers.\n"
     ]
    },
    {
     "name": "stdout",
     "output_type": "stream",
     "text": [
      "convergence after 21 epochs took 0 seconds\n",
      "[CV]  C=0.0206913808111479, penalty=l2, score=0.05041354864119732, total=   0.1s\n",
      "[CV] C=0.0206913808111479, penalty=l2 ................................\n"
     ]
    },
    {
     "name": "stderr",
     "output_type": "stream",
     "text": [
      "[Parallel(n_jobs=1)]: Done   1 out of   1 | elapsed:    0.1s remaining:    0.0s\n",
      "[Parallel(n_jobs=1)]: Done   1 out of   1 | elapsed:    0.1s finished\n",
      "[Parallel(n_jobs=1)]: Using backend SequentialBackend with 1 concurrent workers.\n"
     ]
    },
    {
     "name": "stdout",
     "output_type": "stream",
     "text": [
      "convergence after 24 epochs took 1 seconds\n",
      "[CV] ...... C=0.0206913808111479, penalty=l2, score=0.2, total=   0.5s\n",
      "[CV] C=0.0206913808111479, penalty=l2 ................................\n"
     ]
    },
    {
     "name": "stderr",
     "output_type": "stream",
     "text": [
      "[Parallel(n_jobs=1)]: Done   1 out of   1 | elapsed:    0.5s remaining:    0.0s\n",
      "[Parallel(n_jobs=1)]: Done   1 out of   1 | elapsed:    0.5s finished\n",
      "[Parallel(n_jobs=1)]: Using backend SequentialBackend with 1 concurrent workers.\n"
     ]
    },
    {
     "name": "stdout",
     "output_type": "stream",
     "text": [
      "convergence after 27 epochs took 0 seconds\n",
      "[CV]  C=0.0206913808111479, penalty=l2, score=0.19999999999999998, total=   0.4s\n",
      "[CV] C=0.0206913808111479, penalty=l2 ................................\n"
     ]
    },
    {
     "name": "stderr",
     "output_type": "stream",
     "text": [
      "[Parallel(n_jobs=1)]: Done   1 out of   1 | elapsed:    0.4s remaining:    0.0s\n",
      "[Parallel(n_jobs=1)]: Done   1 out of   1 | elapsed:    0.4s finished\n",
      "[Parallel(n_jobs=1)]: Using backend SequentialBackend with 1 concurrent workers.\n"
     ]
    },
    {
     "name": "stdout",
     "output_type": "stream",
     "text": [
      "convergence after 30 epochs took 1 seconds\n",
      "[CV]  C=0.0206913808111479, penalty=l2, score=0.29213483146067415, total=   0.5s\n",
      "[CV] C=0.0206913808111479, penalty=l2 ................................\n"
     ]
    },
    {
     "name": "stderr",
     "output_type": "stream",
     "text": [
      "[Parallel(n_jobs=1)]: Done   1 out of   1 | elapsed:    0.5s remaining:    0.0s\n",
      "[Parallel(n_jobs=1)]: Done   1 out of   1 | elapsed:    0.5s finished\n",
      "[Parallel(n_jobs=1)]: Using backend SequentialBackend with 1 concurrent workers.\n"
     ]
    },
    {
     "name": "stdout",
     "output_type": "stream",
     "text": [
      "convergence after 25 epochs took 1 seconds\n",
      "[CV]  C=0.0206913808111479, penalty=l2, score=0.2771213748657358, total=   0.6s\n",
      "[CV] C=0.04281332398719394, penalty=l1 ...............................\n"
     ]
    },
    {
     "name": "stderr",
     "output_type": "stream",
     "text": [
      "[Parallel(n_jobs=1)]: Done   1 out of   1 | elapsed:    0.5s remaining:    0.0s\n",
      "[Parallel(n_jobs=1)]: Done   1 out of   1 | elapsed:    0.5s finished\n",
      "[Parallel(n_jobs=1)]: Using backend SequentialBackend with 1 concurrent workers.\n"
     ]
    },
    {
     "name": "stdout",
     "output_type": "stream",
     "text": [
      "convergence after 19 epochs took 0 seconds\n",
      "[CV]  C=0.04281332398719394, penalty=l1, score=0.366412213740458, total=   0.6s\n",
      "[CV] C=0.04281332398719394, penalty=l1 ...............................\n"
     ]
    },
    {
     "name": "stderr",
     "output_type": "stream",
     "text": [
      "[Parallel(n_jobs=1)]: Done   1 out of   1 | elapsed:    0.6s remaining:    0.0s\n",
      "[Parallel(n_jobs=1)]: Done   1 out of   1 | elapsed:    0.6s finished\n",
      "[Parallel(n_jobs=1)]: Using backend SequentialBackend with 1 concurrent workers.\n"
     ]
    },
    {
     "name": "stdout",
     "output_type": "stream",
     "text": [
      "convergence after 20 epochs took 1 seconds\n",
      "[CV]  C=0.04281332398719394, penalty=l1, score=0.33150821304131417, total=   0.7s\n",
      "[CV] C=0.04281332398719394, penalty=l1 ...............................\n"
     ]
    },
    {
     "name": "stderr",
     "output_type": "stream",
     "text": [
      "[Parallel(n_jobs=1)]: Done   1 out of   1 | elapsed:    0.6s remaining:    0.0s\n",
      "[Parallel(n_jobs=1)]: Done   1 out of   1 | elapsed:    0.6s finished\n",
      "[Parallel(n_jobs=1)]: Using backend SequentialBackend with 1 concurrent workers.\n"
     ]
    },
    {
     "name": "stdout",
     "output_type": "stream",
     "text": [
      "convergence after 22 epochs took 1 seconds\n",
      "[CV]  C=0.04281332398719394, penalty=l1, score=0.3469224620303757, total=   0.9s\n",
      "[CV] C=0.04281332398719394, penalty=l1 ...............................\n"
     ]
    },
    {
     "name": "stderr",
     "output_type": "stream",
     "text": [
      "[Parallel(n_jobs=1)]: Done   1 out of   1 | elapsed:    0.9s remaining:    0.0s\n",
      "[Parallel(n_jobs=1)]: Done   1 out of   1 | elapsed:    0.9s finished\n",
      "[Parallel(n_jobs=1)]: Using backend SequentialBackend with 1 concurrent workers.\n"
     ]
    },
    {
     "name": "stdout",
     "output_type": "stream",
     "text": [
      "convergence after 21 epochs took 1 seconds\n",
      "[CV]  C=0.04281332398719394, penalty=l1, score=0.3500294637595758, total=   0.6s\n",
      "[CV] C=0.04281332398719394, penalty=l1 ...............................\n"
     ]
    },
    {
     "name": "stderr",
     "output_type": "stream",
     "text": [
      "[Parallel(n_jobs=1)]: Done   1 out of   1 | elapsed:    0.6s remaining:    0.0s\n",
      "[Parallel(n_jobs=1)]: Done   1 out of   1 | elapsed:    0.6s finished\n",
      "[Parallel(n_jobs=1)]: Using backend SequentialBackend with 1 concurrent workers.\n"
     ]
    },
    {
     "name": "stdout",
     "output_type": "stream",
     "text": [
      "convergence after 20 epochs took 0 seconds\n",
      "[CV]  C=0.04281332398719394, penalty=l1, score=0.39261538461538464, total=   0.6s\n",
      "[CV] C=0.04281332398719394, penalty=l1 ...............................\n"
     ]
    },
    {
     "name": "stderr",
     "output_type": "stream",
     "text": [
      "[Parallel(n_jobs=1)]: Done   1 out of   1 | elapsed:    0.5s remaining:    0.0s\n",
      "[Parallel(n_jobs=1)]: Done   1 out of   1 | elapsed:    0.5s finished\n",
      "[Parallel(n_jobs=1)]: Using backend SequentialBackend with 1 concurrent workers.\n"
     ]
    },
    {
     "name": "stdout",
     "output_type": "stream",
     "text": [
      "convergence after 21 epochs took 1 seconds\n",
      "[CV] ..... C=0.04281332398719394, penalty=l1, score=0.0, total=   0.3s\n",
      "[CV] C=0.04281332398719394, penalty=l1 ...............................\n"
     ]
    },
    {
     "name": "stderr",
     "output_type": "stream",
     "text": [
      "[Parallel(n_jobs=1)]: Done   1 out of   1 | elapsed:    0.2s remaining:    0.0s\n",
      "[Parallel(n_jobs=1)]: Done   1 out of   1 | elapsed:    0.2s finished\n",
      "[Parallel(n_jobs=1)]: Using backend SequentialBackend with 1 concurrent workers.\n"
     ]
    },
    {
     "name": "stdout",
     "output_type": "stream",
     "text": [
      "convergence after 19 epochs took 1 seconds\n",
      "[CV]  C=0.04281332398719394, penalty=l1, score=0.31913541004450097, total=   0.8s\n",
      "[CV] C=0.04281332398719394, penalty=l1 ...............................\n"
     ]
    },
    {
     "name": "stderr",
     "output_type": "stream",
     "text": [
      "[Parallel(n_jobs=1)]: Done   1 out of   1 | elapsed:    0.8s remaining:    0.0s\n",
      "[Parallel(n_jobs=1)]: Done   1 out of   1 | elapsed:    0.8s finished\n",
      "[Parallel(n_jobs=1)]: Using backend SequentialBackend with 1 concurrent workers.\n"
     ]
    },
    {
     "name": "stdout",
     "output_type": "stream",
     "text": [
      "convergence after 19 epochs took 1 seconds\n",
      "[CV]  C=0.04281332398719394, penalty=l1, score=0.2776203966005666, total=   0.7s\n",
      "[CV] C=0.04281332398719394, penalty=l1 ...............................\n"
     ]
    },
    {
     "name": "stderr",
     "output_type": "stream",
     "text": [
      "[Parallel(n_jobs=1)]: Done   1 out of   1 | elapsed:    0.7s remaining:    0.0s\n",
      "[Parallel(n_jobs=1)]: Done   1 out of   1 | elapsed:    0.7s finished\n",
      "[Parallel(n_jobs=1)]: Using backend SequentialBackend with 1 concurrent workers.\n"
     ]
    },
    {
     "name": "stdout",
     "output_type": "stream",
     "text": [
      "convergence after 19 epochs took 0 seconds\n",
      "[CV]  C=0.04281332398719394, penalty=l1, score=0.39298607529654456, total=   0.6s\n",
      "[CV] C=0.04281332398719394, penalty=l1 ...............................\n"
     ]
    },
    {
     "name": "stderr",
     "output_type": "stream",
     "text": [
      "[Parallel(n_jobs=1)]: Done   1 out of   1 | elapsed:    0.6s remaining:    0.0s\n",
      "[Parallel(n_jobs=1)]: Done   1 out of   1 | elapsed:    0.6s finished\n",
      "[Parallel(n_jobs=1)]: Using backend SequentialBackend with 1 concurrent workers.\n"
     ]
    },
    {
     "name": "stdout",
     "output_type": "stream",
     "text": [
      "convergence after 20 epochs took 1 seconds\n",
      "[CV]  C=0.04281332398719394, penalty=l1, score=0.3856801909307876, total=   0.5s\n",
      "[CV] C=0.04281332398719394, penalty=l2 ...............................\n"
     ]
    },
    {
     "name": "stderr",
     "output_type": "stream",
     "text": [
      "[Parallel(n_jobs=1)]: Done   1 out of   1 | elapsed:    0.4s remaining:    0.0s\n",
      "[Parallel(n_jobs=1)]: Done   1 out of   1 | elapsed:    0.4s finished\n",
      "[Parallel(n_jobs=1)]: Using backend SequentialBackend with 1 concurrent workers.\n"
     ]
    },
    {
     "name": "stdout",
     "output_type": "stream",
     "text": [
      "convergence after 30 epochs took 1 seconds\n",
      "[CV]  C=0.04281332398719394, penalty=l2, score=0.22585924713584288, total=   0.6s\n",
      "[CV] C=0.04281332398719394, penalty=l2 ...............................\n"
     ]
    },
    {
     "name": "stderr",
     "output_type": "stream",
     "text": [
      "[Parallel(n_jobs=1)]: Done   1 out of   1 | elapsed:    0.6s remaining:    0.0s\n",
      "[Parallel(n_jobs=1)]: Done   1 out of   1 | elapsed:    0.6s finished\n",
      "[Parallel(n_jobs=1)]: Using backend SequentialBackend with 1 concurrent workers.\n"
     ]
    },
    {
     "name": "stdout",
     "output_type": "stream",
     "text": [
      "convergence after 30 epochs took 0 seconds\n",
      "[CV]  C=0.04281332398719394, penalty=l2, score=0.266046511627907, total=   0.5s\n",
      "[CV] C=0.04281332398719394, penalty=l2 ...............................\n"
     ]
    },
    {
     "name": "stderr",
     "output_type": "stream",
     "text": [
      "[Parallel(n_jobs=1)]: Done   1 out of   1 | elapsed:    0.5s remaining:    0.0s\n",
      "[Parallel(n_jobs=1)]: Done   1 out of   1 | elapsed:    0.5s finished\n",
      "[Parallel(n_jobs=1)]: Using backend SequentialBackend with 1 concurrent workers.\n"
     ]
    },
    {
     "name": "stdout",
     "output_type": "stream",
     "text": [
      "convergence after 27 epochs took 1 seconds\n",
      "[CV]  C=0.04281332398719394, penalty=l2, score=0.30559345156889495, total=   0.4s\n",
      "[CV] C=0.04281332398719394, penalty=l2 ...............................\n"
     ]
    },
    {
     "name": "stderr",
     "output_type": "stream",
     "text": [
      "[Parallel(n_jobs=1)]: Done   1 out of   1 | elapsed:    0.4s remaining:    0.0s\n",
      "[Parallel(n_jobs=1)]: Done   1 out of   1 | elapsed:    0.4s finished\n",
      "[Parallel(n_jobs=1)]: Using backend SequentialBackend with 1 concurrent workers.\n"
     ]
    },
    {
     "name": "stdout",
     "output_type": "stream",
     "text": [
      "convergence after 25 epochs took 0 seconds\n",
      "[CV]  C=0.04281332398719394, penalty=l2, score=0.2992277992277992, total=   0.3s\n",
      "[CV] C=0.04281332398719394, penalty=l2 ...............................\n"
     ]
    },
    {
     "name": "stderr",
     "output_type": "stream",
     "text": [
      "[Parallel(n_jobs=1)]: Done   1 out of   1 | elapsed:    0.3s remaining:    0.0s\n",
      "[Parallel(n_jobs=1)]: Done   1 out of   1 | elapsed:    0.3s finished\n",
      "[Parallel(n_jobs=1)]: Using backend SequentialBackend with 1 concurrent workers.\n"
     ]
    },
    {
     "name": "stdout",
     "output_type": "stream",
     "text": [
      "convergence after 32 epochs took 1 seconds\n",
      "[CV]  C=0.04281332398719394, penalty=l2, score=0.35772357723577236, total=   0.5s\n",
      "[CV] C=0.04281332398719394, penalty=l2 ...............................\n"
     ]
    },
    {
     "name": "stderr",
     "output_type": "stream",
     "text": [
      "[Parallel(n_jobs=1)]: Done   1 out of   1 | elapsed:    0.5s remaining:    0.0s\n",
      "[Parallel(n_jobs=1)]: Done   1 out of   1 | elapsed:    0.5s finished\n",
      "[Parallel(n_jobs=1)]: Using backend SequentialBackend with 1 concurrent workers.\n"
     ]
    },
    {
     "name": "stdout",
     "output_type": "stream",
     "text": [
      "convergence after 22 epochs took 0 seconds\n",
      "[CV]  C=0.04281332398719394, penalty=l2, score=0.05407407407407407, total=   0.1s\n",
      "[CV] C=0.04281332398719394, penalty=l2 ...............................\n"
     ]
    },
    {
     "name": "stderr",
     "output_type": "stream",
     "text": [
      "[Parallel(n_jobs=1)]: Done   1 out of   1 | elapsed:    0.1s remaining:    0.0s\n",
      "[Parallel(n_jobs=1)]: Done   1 out of   1 | elapsed:    0.1s finished\n",
      "[Parallel(n_jobs=1)]: Using backend SequentialBackend with 1 concurrent workers.\n"
     ]
    },
    {
     "name": "stdout",
     "output_type": "stream",
     "text": [
      "convergence after 26 epochs took 0 seconds\n",
      "[CV]  C=0.04281332398719394, penalty=l2, score=0.20930232558139536, total=   0.4s\n",
      "[CV] C=0.04281332398719394, penalty=l2 ...............................\n"
     ]
    },
    {
     "name": "stderr",
     "output_type": "stream",
     "text": [
      "[Parallel(n_jobs=1)]: Done   1 out of   1 | elapsed:    0.4s remaining:    0.0s\n",
      "[Parallel(n_jobs=1)]: Done   1 out of   1 | elapsed:    0.4s finished\n",
      "[Parallel(n_jobs=1)]: Using backend SequentialBackend with 1 concurrent workers.\n"
     ]
    },
    {
     "name": "stdout",
     "output_type": "stream",
     "text": [
      "convergence after 27 epochs took 0 seconds\n",
      "[CV]  C=0.04281332398719394, penalty=l2, score=0.1634782608695652, total=   0.4s\n",
      "[CV] C=0.04281332398719394, penalty=l2 ...............................\n"
     ]
    },
    {
     "name": "stderr",
     "output_type": "stream",
     "text": [
      "[Parallel(n_jobs=1)]: Done   1 out of   1 | elapsed:    0.3s remaining:    0.0s\n",
      "[Parallel(n_jobs=1)]: Done   1 out of   1 | elapsed:    0.3s finished\n",
      "[Parallel(n_jobs=1)]: Using backend SequentialBackend with 1 concurrent workers.\n"
     ]
    },
    {
     "name": "stdout",
     "output_type": "stream",
     "text": [
      "convergence after 34 epochs took 1 seconds\n",
      "[CV]  C=0.04281332398719394, penalty=l2, score=0.29102844638949665, total=   0.5s\n",
      "[CV] C=0.04281332398719394, penalty=l2 ...............................\n"
     ]
    },
    {
     "name": "stderr",
     "output_type": "stream",
     "text": [
      "[Parallel(n_jobs=1)]: Done   1 out of   1 | elapsed:    0.5s remaining:    0.0s\n",
      "[Parallel(n_jobs=1)]: Done   1 out of   1 | elapsed:    0.5s finished\n",
      "[Parallel(n_jobs=1)]: Using backend SequentialBackend with 1 concurrent workers.\n"
     ]
    },
    {
     "name": "stdout",
     "output_type": "stream",
     "text": [
      "convergence after 27 epochs took 0 seconds\n",
      "[CV]  C=0.04281332398719394, penalty=l2, score=0.25988700564971745, total=   0.4s\n",
      "[CV] C=0.08858667904100823, penalty=l1 ...............................\n"
     ]
    },
    {
     "name": "stderr",
     "output_type": "stream",
     "text": [
      "[Parallel(n_jobs=1)]: Done   1 out of   1 | elapsed:    0.4s remaining:    0.0s\n",
      "[Parallel(n_jobs=1)]: Done   1 out of   1 | elapsed:    0.4s finished\n",
      "[Parallel(n_jobs=1)]: Using backend SequentialBackend with 1 concurrent workers.\n"
     ]
    },
    {
     "name": "stdout",
     "output_type": "stream",
     "text": [
      "convergence after 63 epochs took 3 seconds\n",
      "[CV]  C=0.08858667904100823, penalty=l1, score=0.3482428115015974, total=   2.4s\n",
      "[CV] C=0.08858667904100823, penalty=l1 ...............................\n"
     ]
    },
    {
     "name": "stderr",
     "output_type": "stream",
     "text": [
      "[Parallel(n_jobs=1)]: Done   1 out of   1 | elapsed:    2.4s remaining:    0.0s\n",
      "[Parallel(n_jobs=1)]: Done   1 out of   1 | elapsed:    2.4s finished\n",
      "[Parallel(n_jobs=1)]: Using backend SequentialBackend with 1 concurrent workers.\n"
     ]
    },
    {
     "name": "stdout",
     "output_type": "stream",
     "text": [
      "convergence after 69 epochs took 2 seconds\n",
      "[CV]  C=0.08858667904100823, penalty=l1, score=0.3256338028169014, total=   2.7s\n",
      "[CV] C=0.08858667904100823, penalty=l1 ...............................\n"
     ]
    },
    {
     "name": "stderr",
     "output_type": "stream",
     "text": [
      "[Parallel(n_jobs=1)]: Done   1 out of   1 | elapsed:    2.7s remaining:    0.0s\n",
      "[Parallel(n_jobs=1)]: Done   1 out of   1 | elapsed:    2.7s finished\n",
      "[Parallel(n_jobs=1)]: Using backend SequentialBackend with 1 concurrent workers.\n"
     ]
    },
    {
     "name": "stdout",
     "output_type": "stream",
     "text": [
      "convergence after 83 epochs took 4 seconds\n",
      "[CV]  C=0.08858667904100823, penalty=l1, score=0.3368220742150333, total=   3.2s\n",
      "[CV] C=0.08858667904100823, penalty=l1 ...............................\n"
     ]
    },
    {
     "name": "stderr",
     "output_type": "stream",
     "text": [
      "[Parallel(n_jobs=1)]: Done   1 out of   1 | elapsed:    3.2s remaining:    0.0s\n",
      "[Parallel(n_jobs=1)]: Done   1 out of   1 | elapsed:    3.2s finished\n",
      "[Parallel(n_jobs=1)]: Using backend SequentialBackend with 1 concurrent workers.\n"
     ]
    },
    {
     "name": "stdout",
     "output_type": "stream",
     "text": [
      "convergence after 103 epochs took 4 seconds\n",
      "[CV]  C=0.08858667904100823, penalty=l1, score=0.33550913838120106, total=   4.3s\n",
      "[CV] C=0.08858667904100823, penalty=l1 ...............................\n"
     ]
    },
    {
     "name": "stderr",
     "output_type": "stream",
     "text": [
      "[Parallel(n_jobs=1)]: Done   1 out of   1 | elapsed:    4.2s remaining:    0.0s\n",
      "[Parallel(n_jobs=1)]: Done   1 out of   1 | elapsed:    4.2s finished\n",
      "[Parallel(n_jobs=1)]: Using backend SequentialBackend with 1 concurrent workers.\n"
     ]
    },
    {
     "name": "stdout",
     "output_type": "stream",
     "text": [
      "convergence after 63 epochs took 3 seconds\n",
      "[CV]  C=0.08858667904100823, penalty=l1, score=0.38095238095238093, total=   2.4s\n",
      "[CV] C=0.08858667904100823, penalty=l1 ...............................\n"
     ]
    },
    {
     "name": "stderr",
     "output_type": "stream",
     "text": [
      "[Parallel(n_jobs=1)]: Done   1 out of   1 | elapsed:    2.4s remaining:    0.0s\n",
      "[Parallel(n_jobs=1)]: Done   1 out of   1 | elapsed:    2.4s finished\n",
      "[Parallel(n_jobs=1)]: Using backend SequentialBackend with 1 concurrent workers.\n"
     ]
    },
    {
     "name": "stdout",
     "output_type": "stream",
     "text": [
      "convergence after 24 epochs took 0 seconds\n",
      "[CV]  C=0.08858667904100823, penalty=l1, score=0.05194805194805195, total=   0.3s\n",
      "[CV] C=0.08858667904100823, penalty=l1 ...............................\n"
     ]
    },
    {
     "name": "stderr",
     "output_type": "stream",
     "text": [
      "[Parallel(n_jobs=1)]: Done   1 out of   1 | elapsed:    0.3s remaining:    0.0s\n",
      "[Parallel(n_jobs=1)]: Done   1 out of   1 | elapsed:    0.3s finished\n",
      "[Parallel(n_jobs=1)]: Using backend SequentialBackend with 1 concurrent workers.\n"
     ]
    },
    {
     "name": "stdout",
     "output_type": "stream",
     "text": [
      "convergence after 68 epochs took 4 seconds\n",
      "[CV]  C=0.08858667904100823, penalty=l1, score=0.28786737000753576, total=   3.5s\n",
      "[CV] C=0.08858667904100823, penalty=l1 ...............................\n"
     ]
    },
    {
     "name": "stderr",
     "output_type": "stream",
     "text": [
      "[Parallel(n_jobs=1)]: Done   1 out of   1 | elapsed:    3.4s remaining:    0.0s\n",
      "[Parallel(n_jobs=1)]: Done   1 out of   1 | elapsed:    3.4s finished\n",
      "[Parallel(n_jobs=1)]: Using backend SequentialBackend with 1 concurrent workers.\n"
     ]
    },
    {
     "name": "stdout",
     "output_type": "stream",
     "text": [
      "convergence after 96 epochs took 4 seconds\n",
      "[CV]  C=0.08858667904100823, penalty=l1, score=0.2583265637692933, total=   4.3s\n",
      "[CV] C=0.08858667904100823, penalty=l1 ...............................\n"
     ]
    },
    {
     "name": "stderr",
     "output_type": "stream",
     "text": [
      "[Parallel(n_jobs=1)]: Done   1 out of   1 | elapsed:    4.3s remaining:    0.0s\n",
      "[Parallel(n_jobs=1)]: Done   1 out of   1 | elapsed:    4.3s finished\n",
      "[Parallel(n_jobs=1)]: Using backend SequentialBackend with 1 concurrent workers.\n"
     ]
    },
    {
     "name": "stdout",
     "output_type": "stream",
     "text": [
      "convergence after 76 epochs took 5 seconds\n",
      "[CV]  C=0.08858667904100823, penalty=l1, score=0.3517460317460317, total=   5.0s\n",
      "[CV] C=0.08858667904100823, penalty=l1 ...............................\n"
     ]
    },
    {
     "name": "stderr",
     "output_type": "stream",
     "text": [
      "[Parallel(n_jobs=1)]: Done   1 out of   1 | elapsed:    5.0s remaining:    0.0s\n",
      "[Parallel(n_jobs=1)]: Done   1 out of   1 | elapsed:    5.0s finished\n",
      "[Parallel(n_jobs=1)]: Using backend SequentialBackend with 1 concurrent workers.\n"
     ]
    },
    {
     "name": "stdout",
     "output_type": "stream",
     "text": [
      "convergence after 76 epochs took 4 seconds\n",
      "[CV]  C=0.08858667904100823, penalty=l1, score=0.3854748603351955, total=   3.7s\n",
      "[CV] C=0.08858667904100823, penalty=l2 ...............................\n"
     ]
    },
    {
     "name": "stderr",
     "output_type": "stream",
     "text": [
      "[Parallel(n_jobs=1)]: Done   1 out of   1 | elapsed:    3.6s remaining:    0.0s\n",
      "[Parallel(n_jobs=1)]: Done   1 out of   1 | elapsed:    3.6s finished\n",
      "[Parallel(n_jobs=1)]: Using backend SequentialBackend with 1 concurrent workers.\n"
     ]
    },
    {
     "name": "stdout",
     "output_type": "stream",
     "text": [
      "convergence after 32 epochs took 0 seconds\n",
      "[CV]  C=0.08858667904100823, penalty=l2, score=0.17647058823529413, total=   0.5s\n",
      "[CV] C=0.08858667904100823, penalty=l2 ...............................\n"
     ]
    },
    {
     "name": "stderr",
     "output_type": "stream",
     "text": [
      "[Parallel(n_jobs=1)]: Done   1 out of   1 | elapsed:    0.5s remaining:    0.0s\n",
      "[Parallel(n_jobs=1)]: Done   1 out of   1 | elapsed:    0.5s finished\n",
      "[Parallel(n_jobs=1)]: Using backend SequentialBackend with 1 concurrent workers.\n"
     ]
    },
    {
     "name": "stdout",
     "output_type": "stream",
     "text": [
      "convergence after 33 epochs took 0 seconds\n",
      "[CV]  C=0.08858667904100823, penalty=l2, score=0.2647342995169082, total=   0.5s\n",
      "[CV] C=0.08858667904100823, penalty=l2 ...............................\n"
     ]
    },
    {
     "name": "stderr",
     "output_type": "stream",
     "text": [
      "[Parallel(n_jobs=1)]: Done   1 out of   1 | elapsed:    0.5s remaining:    0.0s\n",
      "[Parallel(n_jobs=1)]: Done   1 out of   1 | elapsed:    0.5s finished\n",
      "[Parallel(n_jobs=1)]: Using backend SequentialBackend with 1 concurrent workers.\n"
     ]
    },
    {
     "name": "stdout",
     "output_type": "stream",
     "text": [
      "convergence after 28 epochs took 1 seconds\n",
      "[CV]  C=0.08858667904100823, penalty=l2, score=0.3003952569169961, total=   0.4s\n",
      "[CV] C=0.08858667904100823, penalty=l2 ...............................\n"
     ]
    },
    {
     "name": "stderr",
     "output_type": "stream",
     "text": [
      "[Parallel(n_jobs=1)]: Done   1 out of   1 | elapsed:    0.4s remaining:    0.0s\n",
      "[Parallel(n_jobs=1)]: Done   1 out of   1 | elapsed:    0.4s finished\n",
      "[Parallel(n_jobs=1)]: Using backend SequentialBackend with 1 concurrent workers.\n"
     ]
    },
    {
     "name": "stdout",
     "output_type": "stream",
     "text": [
      "convergence after 25 epochs took 0 seconds\n",
      "[CV]  C=0.08858667904100823, penalty=l2, score=0.29166666666666663, total=   0.3s\n",
      "[CV] C=0.08858667904100823, penalty=l2 ...............................\n"
     ]
    },
    {
     "name": "stderr",
     "output_type": "stream",
     "text": [
      "[Parallel(n_jobs=1)]: Done   1 out of   1 | elapsed:    0.3s remaining:    0.0s\n",
      "[Parallel(n_jobs=1)]: Done   1 out of   1 | elapsed:    0.3s finished\n",
      "[Parallel(n_jobs=1)]: Using backend SequentialBackend with 1 concurrent workers.\n"
     ]
    },
    {
     "name": "stdout",
     "output_type": "stream",
     "text": [
      "convergence after 32 epochs took 1 seconds\n",
      "[CV]  C=0.08858667904100823, penalty=l2, score=0.35140186915887855, total=   0.5s\n",
      "[CV] C=0.08858667904100823, penalty=l2 ...............................\n"
     ]
    },
    {
     "name": "stderr",
     "output_type": "stream",
     "text": [
      "[Parallel(n_jobs=1)]: Done   1 out of   1 | elapsed:    0.4s remaining:    0.0s\n",
      "[Parallel(n_jobs=1)]: Done   1 out of   1 | elapsed:    0.4s finished\n",
      "[Parallel(n_jobs=1)]: Using backend SequentialBackend with 1 concurrent workers.\n"
     ]
    },
    {
     "name": "stdout",
     "output_type": "stream",
     "text": [
      "convergence after 24 epochs took 0 seconds\n",
      "[CV]  C=0.08858667904100823, penalty=l2, score=0.05698778833107191, total=   0.2s\n",
      "[CV] C=0.08858667904100823, penalty=l2 ...............................\n"
     ]
    },
    {
     "name": "stderr",
     "output_type": "stream",
     "text": [
      "[Parallel(n_jobs=1)]: Done   1 out of   1 | elapsed:    0.2s remaining:    0.0s\n",
      "[Parallel(n_jobs=1)]: Done   1 out of   1 | elapsed:    0.2s finished\n",
      "[Parallel(n_jobs=1)]: Using backend SequentialBackend with 1 concurrent workers.\n"
     ]
    },
    {
     "name": "stdout",
     "output_type": "stream",
     "text": [
      "convergence after 26 epochs took 0 seconds\n",
      "[CV]  C=0.08858667904100823, penalty=l2, score=0.2157676348547718, total=   0.4s\n",
      "[CV] C=0.08858667904100823, penalty=l2 ...............................\n"
     ]
    },
    {
     "name": "stderr",
     "output_type": "stream",
     "text": [
      "[Parallel(n_jobs=1)]: Done   1 out of   1 | elapsed:    0.4s remaining:    0.0s\n",
      "[Parallel(n_jobs=1)]: Done   1 out of   1 | elapsed:    0.4s finished\n",
      "[Parallel(n_jobs=1)]: Using backend SequentialBackend with 1 concurrent workers.\n"
     ]
    },
    {
     "name": "stdout",
     "output_type": "stream",
     "text": [
      "convergence after 29 epochs took 1 seconds\n",
      "[CV]  C=0.08858667904100823, penalty=l2, score=0.1692307692307692, total=   0.5s\n",
      "[CV] C=0.08858667904100823, penalty=l2 ...............................\n"
     ]
    },
    {
     "name": "stderr",
     "output_type": "stream",
     "text": [
      "[Parallel(n_jobs=1)]: Done   1 out of   1 | elapsed:    0.4s remaining:    0.0s\n",
      "[Parallel(n_jobs=1)]: Done   1 out of   1 | elapsed:    0.4s finished\n",
      "[Parallel(n_jobs=1)]: Using backend SequentialBackend with 1 concurrent workers.\n"
     ]
    },
    {
     "name": "stdout",
     "output_type": "stream",
     "text": [
      "convergence after 36 epochs took 1 seconds\n",
      "[CV]  C=0.08858667904100823, penalty=l2, score=0.2611683848797251, total=   0.6s\n",
      "[CV] C=0.08858667904100823, penalty=l2 ...............................\n"
     ]
    },
    {
     "name": "stderr",
     "output_type": "stream",
     "text": [
      "[Parallel(n_jobs=1)]: Done   1 out of   1 | elapsed:    0.5s remaining:    0.0s\n",
      "[Parallel(n_jobs=1)]: Done   1 out of   1 | elapsed:    0.5s finished\n",
      "[Parallel(n_jobs=1)]: Using backend SequentialBackend with 1 concurrent workers.\n"
     ]
    },
    {
     "name": "stdout",
     "output_type": "stream",
     "text": [
      "convergence after 27 epochs took 0 seconds\n",
      "[CV]  C=0.08858667904100823, penalty=l2, score=0.23708920187793425, total=   0.4s\n",
      "[CV] C=0.18329807108324356, penalty=l1 ...............................\n"
     ]
    },
    {
     "name": "stderr",
     "output_type": "stream",
     "text": [
      "[Parallel(n_jobs=1)]: Done   1 out of   1 | elapsed:    0.3s remaining:    0.0s\n",
      "[Parallel(n_jobs=1)]: Done   1 out of   1 | elapsed:    0.3s finished\n",
      "[Parallel(n_jobs=1)]: Using backend SequentialBackend with 1 concurrent workers.\n"
     ]
    },
    {
     "name": "stdout",
     "output_type": "stream",
     "text": [
      "convergence after 124 epochs took 11 seconds\n",
      "[CV]  C=0.18329807108324356, penalty=l1, score=0.26551226551226553, total=  11.0s\n",
      "[CV] C=0.18329807108324356, penalty=l1 ...............................\n"
     ]
    },
    {
     "name": "stderr",
     "output_type": "stream",
     "text": [
      "[Parallel(n_jobs=1)]: Done   1 out of   1 | elapsed:   11.0s remaining:    0.0s\n",
      "[Parallel(n_jobs=1)]: Done   1 out of   1 | elapsed:   11.0s finished\n",
      "[Parallel(n_jobs=1)]: Using backend SequentialBackend with 1 concurrent workers.\n"
     ]
    },
    {
     "name": "stdout",
     "output_type": "stream",
     "text": [
      "convergence after 109 epochs took 8 seconds\n",
      "[CV]  C=0.18329807108324356, penalty=l1, score=0.30451415455241015, total=   7.8s\n",
      "[CV] C=0.18329807108324356, penalty=l1 ...............................\n"
     ]
    },
    {
     "name": "stderr",
     "output_type": "stream",
     "text": [
      "[Parallel(n_jobs=1)]: Done   1 out of   1 | elapsed:    7.8s remaining:    0.0s\n",
      "[Parallel(n_jobs=1)]: Done   1 out of   1 | elapsed:    7.8s finished\n",
      "[Parallel(n_jobs=1)]: Using backend SequentialBackend with 1 concurrent workers.\n"
     ]
    },
    {
     "name": "stdout",
     "output_type": "stream",
     "text": [
      "convergence after 142 epochs took 12 seconds\n",
      "[CV]  C=0.18329807108324356, penalty=l1, score=0.25806451612903225, total=  11.3s\n",
      "[CV] C=0.18329807108324356, penalty=l1 ...............................\n"
     ]
    },
    {
     "name": "stderr",
     "output_type": "stream",
     "text": [
      "[Parallel(n_jobs=1)]: Done   1 out of   1 | elapsed:   11.3s remaining:    0.0s\n",
      "[Parallel(n_jobs=1)]: Done   1 out of   1 | elapsed:   11.3s finished\n",
      "[Parallel(n_jobs=1)]: Using backend SequentialBackend with 1 concurrent workers.\n"
     ]
    },
    {
     "name": "stdout",
     "output_type": "stream",
     "text": [
      "convergence after 144 epochs took 10 seconds\n",
      "[CV]  C=0.18329807108324356, penalty=l1, score=0.2955145118733509, total=  10.2s\n",
      "[CV] C=0.18329807108324356, penalty=l1 ...............................\n"
     ]
    },
    {
     "name": "stderr",
     "output_type": "stream",
     "text": [
      "[Parallel(n_jobs=1)]: Done   1 out of   1 | elapsed:   10.2s remaining:    0.0s\n",
      "[Parallel(n_jobs=1)]: Done   1 out of   1 | elapsed:   10.2s finished\n",
      "[Parallel(n_jobs=1)]: Using backend SequentialBackend with 1 concurrent workers.\n"
     ]
    },
    {
     "name": "stdout",
     "output_type": "stream",
     "text": [
      "convergence after 118 epochs took 9 seconds\n",
      "[CV]  C=0.18329807108324356, penalty=l1, score=0.3744821872410936, total=   8.7s\n",
      "[CV] C=0.18329807108324356, penalty=l1 ...............................\n"
     ]
    },
    {
     "name": "stderr",
     "output_type": "stream",
     "text": [
      "[Parallel(n_jobs=1)]: Done   1 out of   1 | elapsed:    8.7s remaining:    0.0s\n",
      "[Parallel(n_jobs=1)]: Done   1 out of   1 | elapsed:    8.7s finished\n",
      "[Parallel(n_jobs=1)]: Using backend SequentialBackend with 1 concurrent workers.\n"
     ]
    },
    {
     "name": "stdout",
     "output_type": "stream",
     "text": [
      "convergence after 117 epochs took 3 seconds\n",
      "[CV]  C=0.18329807108324356, penalty=l1, score=0.041224234853216746, total=   3.1s\n",
      "[CV] C=0.18329807108324356, penalty=l1 ...............................\n"
     ]
    },
    {
     "name": "stderr",
     "output_type": "stream",
     "text": [
      "[Parallel(n_jobs=1)]: Done   1 out of   1 | elapsed:    3.0s remaining:    0.0s\n",
      "[Parallel(n_jobs=1)]: Done   1 out of   1 | elapsed:    3.0s finished\n",
      "[Parallel(n_jobs=1)]: Using backend SequentialBackend with 1 concurrent workers.\n"
     ]
    },
    {
     "name": "stdout",
     "output_type": "stream",
     "text": [
      "convergence after 150 epochs took 11 seconds\n",
      "[CV]  C=0.18329807108324356, penalty=l1, score=0.21978021978021978, total=  11.1s\n",
      "[CV] C=0.18329807108324356, penalty=l1 ...............................\n"
     ]
    },
    {
     "name": "stderr",
     "output_type": "stream",
     "text": [
      "[Parallel(n_jobs=1)]: Done   1 out of   1 | elapsed:   11.1s remaining:    0.0s\n",
      "[Parallel(n_jobs=1)]: Done   1 out of   1 | elapsed:   11.1s finished\n",
      "[Parallel(n_jobs=1)]: Using backend SequentialBackend with 1 concurrent workers.\n"
     ]
    },
    {
     "name": "stdout",
     "output_type": "stream",
     "text": [
      "convergence after 136 epochs took 10 seconds\n",
      "[CV]  C=0.18329807108324356, penalty=l1, score=0.2448453608247423, total=   9.9s\n",
      "[CV] C=0.18329807108324356, penalty=l1 ...............................\n"
     ]
    },
    {
     "name": "stderr",
     "output_type": "stream",
     "text": [
      "[Parallel(n_jobs=1)]: Done   1 out of   1 | elapsed:    9.9s remaining:    0.0s\n",
      "[Parallel(n_jobs=1)]: Done   1 out of   1 | elapsed:    9.9s finished\n",
      "[Parallel(n_jobs=1)]: Using backend SequentialBackend with 1 concurrent workers.\n"
     ]
    },
    {
     "name": "stdout",
     "output_type": "stream",
     "text": [
      "convergence after 150 epochs took 11 seconds\n",
      "[CV]  C=0.18329807108324356, penalty=l1, score=0.26452905811623245, total=  10.8s\n",
      "[CV] C=0.18329807108324356, penalty=l1 ...............................\n"
     ]
    },
    {
     "name": "stderr",
     "output_type": "stream",
     "text": [
      "[Parallel(n_jobs=1)]: Done   1 out of   1 | elapsed:   10.7s remaining:    0.0s\n",
      "[Parallel(n_jobs=1)]: Done   1 out of   1 | elapsed:   10.7s finished\n",
      "[Parallel(n_jobs=1)]: Using backend SequentialBackend with 1 concurrent workers.\n"
     ]
    },
    {
     "name": "stdout",
     "output_type": "stream",
     "text": [
      "convergence after 143 epochs took 10 seconds\n",
      "[CV]  C=0.18329807108324356, penalty=l1, score=0.2804766269477544, total=  10.0s\n",
      "[CV] C=0.18329807108324356, penalty=l2 ...............................\n"
     ]
    },
    {
     "name": "stderr",
     "output_type": "stream",
     "text": [
      "[Parallel(n_jobs=1)]: Done   1 out of   1 | elapsed:    9.9s remaining:    0.0s\n",
      "[Parallel(n_jobs=1)]: Done   1 out of   1 | elapsed:    9.9s finished\n",
      "[Parallel(n_jobs=1)]: Using backend SequentialBackend with 1 concurrent workers.\n"
     ]
    },
    {
     "name": "stdout",
     "output_type": "stream",
     "text": [
      "convergence after 39 epochs took 1 seconds\n",
      "[CV]  C=0.18329807108324356, penalty=l2, score=0.18216318785578745, total=   0.6s\n",
      "[CV] C=0.18329807108324356, penalty=l2 ...............................\n"
     ]
    },
    {
     "name": "stderr",
     "output_type": "stream",
     "text": [
      "[Parallel(n_jobs=1)]: Done   1 out of   1 | elapsed:    0.6s remaining:    0.0s\n",
      "[Parallel(n_jobs=1)]: Done   1 out of   1 | elapsed:    0.6s finished\n",
      "[Parallel(n_jobs=1)]: Using backend SequentialBackend with 1 concurrent workers.\n"
     ]
    },
    {
     "name": "stdout",
     "output_type": "stream",
     "text": [
      "convergence after 39 epochs took 1 seconds\n",
      "[CV]  C=0.18329807108324356, penalty=l2, score=0.2704339051463168, total=   0.7s\n",
      "[CV] C=0.18329807108324356, penalty=l2 ...............................\n"
     ]
    },
    {
     "name": "stderr",
     "output_type": "stream",
     "text": [
      "[Parallel(n_jobs=1)]: Done   1 out of   1 | elapsed:    0.6s remaining:    0.0s\n",
      "[Parallel(n_jobs=1)]: Done   1 out of   1 | elapsed:    0.6s finished\n",
      "[Parallel(n_jobs=1)]: Using backend SequentialBackend with 1 concurrent workers.\n"
     ]
    },
    {
     "name": "stdout",
     "output_type": "stream",
     "text": [
      "convergence after 41 epochs took 0 seconds\n",
      "[CV]  C=0.18329807108324356, penalty=l2, score=0.30238726790450926, total=   0.7s\n",
      "[CV] C=0.18329807108324356, penalty=l2 ...............................\n"
     ]
    },
    {
     "name": "stderr",
     "output_type": "stream",
     "text": [
      "[Parallel(n_jobs=1)]: Done   1 out of   1 | elapsed:    0.7s remaining:    0.0s\n",
      "[Parallel(n_jobs=1)]: Done   1 out of   1 | elapsed:    0.7s finished\n",
      "[Parallel(n_jobs=1)]: Using backend SequentialBackend with 1 concurrent workers.\n"
     ]
    },
    {
     "name": "stdout",
     "output_type": "stream",
     "text": [
      "convergence after 39 epochs took 1 seconds\n",
      "[CV]  C=0.18329807108324356, penalty=l2, score=0.30150753768844224, total=   0.7s\n",
      "[CV] C=0.18329807108324356, penalty=l2 ...............................\n"
     ]
    },
    {
     "name": "stderr",
     "output_type": "stream",
     "text": [
      "[Parallel(n_jobs=1)]: Done   1 out of   1 | elapsed:    0.7s remaining:    0.0s\n",
      "[Parallel(n_jobs=1)]: Done   1 out of   1 | elapsed:    0.7s finished\n",
      "[Parallel(n_jobs=1)]: Using backend SequentialBackend with 1 concurrent workers.\n"
     ]
    },
    {
     "name": "stdout",
     "output_type": "stream",
     "text": [
      "convergence after 40 epochs took 1 seconds\n",
      "[CV]  C=0.18329807108324356, penalty=l2, score=0.3409523809523809, total=   0.9s\n",
      "[CV] C=0.18329807108324356, penalty=l2 ...............................\n"
     ]
    },
    {
     "name": "stderr",
     "output_type": "stream",
     "text": [
      "[Parallel(n_jobs=1)]: Done   1 out of   1 | elapsed:    0.9s remaining:    0.0s\n",
      "[Parallel(n_jobs=1)]: Done   1 out of   1 | elapsed:    0.9s finished\n",
      "[Parallel(n_jobs=1)]: Using backend SequentialBackend with 1 concurrent workers.\n"
     ]
    },
    {
     "name": "stdout",
     "output_type": "stream",
     "text": [
      "convergence after 42 epochs took 1 seconds\n",
      "[CV]  C=0.18329807108324356, penalty=l2, score=0.05215771499534306, total=   0.4s\n",
      "[CV] C=0.18329807108324356, penalty=l2 ...............................\n"
     ]
    },
    {
     "name": "stderr",
     "output_type": "stream",
     "text": [
      "[Parallel(n_jobs=1)]: Done   1 out of   1 | elapsed:    0.4s remaining:    0.0s\n",
      "[Parallel(n_jobs=1)]: Done   1 out of   1 | elapsed:    0.4s finished\n",
      "[Parallel(n_jobs=1)]: Using backend SequentialBackend with 1 concurrent workers.\n"
     ]
    },
    {
     "name": "stdout",
     "output_type": "stream",
     "text": [
      "convergence after 41 epochs took 1 seconds\n",
      "[CV]  C=0.18329807108324356, penalty=l2, score=0.22013422818791945, total=   0.7s\n",
      "[CV] C=0.18329807108324356, penalty=l2 ...............................\n"
     ]
    },
    {
     "name": "stderr",
     "output_type": "stream",
     "text": [
      "[Parallel(n_jobs=1)]: Done   1 out of   1 | elapsed:    0.7s remaining:    0.0s\n",
      "[Parallel(n_jobs=1)]: Done   1 out of   1 | elapsed:    0.7s finished\n",
      "[Parallel(n_jobs=1)]: Using backend SequentialBackend with 1 concurrent workers.\n"
     ]
    },
    {
     "name": "stdout",
     "output_type": "stream",
     "text": [
      "convergence after 41 epochs took 0 seconds\n",
      "[CV]  C=0.18329807108324356, penalty=l2, score=0.17573221757322177, total=   0.7s\n",
      "[CV] C=0.18329807108324356, penalty=l2 ...............................\n"
     ]
    },
    {
     "name": "stderr",
     "output_type": "stream",
     "text": [
      "[Parallel(n_jobs=1)]: Done   1 out of   1 | elapsed:    0.6s remaining:    0.0s\n",
      "[Parallel(n_jobs=1)]: Done   1 out of   1 | elapsed:    0.6s finished\n",
      "[Parallel(n_jobs=1)]: Using backend SequentialBackend with 1 concurrent workers.\n"
     ]
    },
    {
     "name": "stdout",
     "output_type": "stream",
     "text": [
      "convergence after 42 epochs took 1 seconds\n",
      "[CV]  C=0.18329807108324356, penalty=l2, score=0.22934648581997535, total=   0.7s\n",
      "[CV] C=0.18329807108324356, penalty=l2 ...............................\n"
     ]
    },
    {
     "name": "stderr",
     "output_type": "stream",
     "text": [
      "[Parallel(n_jobs=1)]: Done   1 out of   1 | elapsed:    0.7s remaining:    0.0s\n",
      "[Parallel(n_jobs=1)]: Done   1 out of   1 | elapsed:    0.7s finished\n",
      "[Parallel(n_jobs=1)]: Using backend SequentialBackend with 1 concurrent workers.\n"
     ]
    },
    {
     "name": "stdout",
     "output_type": "stream",
     "text": [
      "convergence after 40 epochs took 1 seconds\n",
      "[CV]  C=0.18329807108324356, penalty=l2, score=0.21719457013574658, total=   0.7s\n",
      "[CV] C=0.37926901907322497, penalty=l1 ...............................\n"
     ]
    },
    {
     "name": "stderr",
     "output_type": "stream",
     "text": [
      "[Parallel(n_jobs=1)]: Done   1 out of   1 | elapsed:    0.6s remaining:    0.0s\n",
      "[Parallel(n_jobs=1)]: Done   1 out of   1 | elapsed:    0.6s finished\n",
      "[Parallel(n_jobs=1)]: Using backend SequentialBackend with 1 concurrent workers.\n"
     ]
    },
    {
     "name": "stdout",
     "output_type": "stream",
     "text": [
      "max_iter reached after 65 seconds\n",
      "[CV]  C=0.37926901907322497, penalty=l1, score=0.24038461538461536, total= 1.1min\n",
      "[CV] C=0.37926901907322497, penalty=l1 ...............................\n"
     ]
    },
    {
     "name": "stderr",
     "output_type": "stream",
     "text": [
      "C:\\Users\\ezutp\\Anaconda3\\lib\\site-packages\\sklearn\\linear_model\\sag.py:334: ConvergenceWarning: The max_iter was reached which means the coef_ did not converge\n",
      "  \"the coef_ did not converge\", ConvergenceWarning)\n",
      "[Parallel(n_jobs=1)]: Done   1 out of   1 | elapsed:  1.1min remaining:    0.0s\n",
      "[Parallel(n_jobs=1)]: Done   1 out of   1 | elapsed:  1.1min finished\n",
      "[Parallel(n_jobs=1)]: Using backend SequentialBackend with 1 concurrent workers.\n"
     ]
    },
    {
     "name": "stdout",
     "output_type": "stream",
     "text": [
      "convergence after 498 epochs took 69 seconds\n",
      "[CV]  C=0.37926901907322497, penalty=l1, score=0.27050610820244325, total= 1.2min\n",
      "[CV] C=0.37926901907322497, penalty=l1 ...............................\n"
     ]
    },
    {
     "name": "stderr",
     "output_type": "stream",
     "text": [
      "[Parallel(n_jobs=1)]: Done   1 out of   1 | elapsed:  1.2min remaining:    0.0s\n",
      "[Parallel(n_jobs=1)]: Done   1 out of   1 | elapsed:  1.2min finished\n",
      "[Parallel(n_jobs=1)]: Using backend SequentialBackend with 1 concurrent workers.\n"
     ]
    },
    {
     "name": "stdout",
     "output_type": "stream",
     "text": [
      "convergence after 481 epochs took 69 seconds\n",
      "[CV]  C=0.37926901907322497, penalty=l1, score=0.2885431400282885, total= 1.1min\n",
      "[CV] C=0.37926901907322497, penalty=l1 ...............................\n"
     ]
    },
    {
     "name": "stderr",
     "output_type": "stream",
     "text": [
      "[Parallel(n_jobs=1)]: Done   1 out of   1 | elapsed:  1.1min remaining:    0.0s\n",
      "[Parallel(n_jobs=1)]: Done   1 out of   1 | elapsed:  1.1min finished\n",
      "[Parallel(n_jobs=1)]: Using backend SequentialBackend with 1 concurrent workers.\n"
     ]
    },
    {
     "name": "stdout",
     "output_type": "stream",
     "text": [
      "convergence after 407 epochs took 54 seconds\n",
      "[CV]  C=0.37926901907322497, penalty=l1, score=0.28301886792452835, total=  53.4s\n",
      "[CV] C=0.37926901907322497, penalty=l1 ...............................\n"
     ]
    },
    {
     "name": "stderr",
     "output_type": "stream",
     "text": [
      "[Parallel(n_jobs=1)]: Done   1 out of   1 | elapsed:   53.4s remaining:    0.0s\n",
      "[Parallel(n_jobs=1)]: Done   1 out of   1 | elapsed:   53.4s finished\n",
      "[Parallel(n_jobs=1)]: Using backend SequentialBackend with 1 concurrent workers.\n"
     ]
    },
    {
     "name": "stdout",
     "output_type": "stream",
     "text": [
      "max_iter reached after 72 seconds\n",
      "[CV]  C=0.37926901907322497, penalty=l1, score=0.3504424778761062, total= 1.2min\n",
      "[CV] C=0.37926901907322497, penalty=l1 ...............................\n"
     ]
    },
    {
     "name": "stderr",
     "output_type": "stream",
     "text": [
      "[Parallel(n_jobs=1)]: Done   1 out of   1 | elapsed:  1.2min remaining:    0.0s\n",
      "[Parallel(n_jobs=1)]: Done   1 out of   1 | elapsed:  1.2min finished\n",
      "[Parallel(n_jobs=1)]: Using backend SequentialBackend with 1 concurrent workers.\n"
     ]
    },
    {
     "name": "stdout",
     "output_type": "stream",
     "text": [
      "convergence after 187 epochs took 12 seconds\n",
      "[CV]  C=0.37926901907322497, penalty=l1, score=0.05717282979281406, total=  11.4s\n",
      "[CV] C=0.37926901907322497, penalty=l1 ...............................\n"
     ]
    },
    {
     "name": "stderr",
     "output_type": "stream",
     "text": [
      "[Parallel(n_jobs=1)]: Done   1 out of   1 | elapsed:   11.4s remaining:    0.0s\n",
      "[Parallel(n_jobs=1)]: Done   1 out of   1 | elapsed:   11.4s finished\n",
      "[Parallel(n_jobs=1)]: Using backend SequentialBackend with 1 concurrent workers.\n"
     ]
    },
    {
     "name": "stdout",
     "output_type": "stream",
     "text": [
      "convergence after 427 epochs took 53 seconds\n",
      "[CV]  C=0.37926901907322497, penalty=l1, score=0.23469387755102042, total=  53.5s\n",
      "[CV] C=0.37926901907322497, penalty=l1 ...............................\n"
     ]
    },
    {
     "name": "stderr",
     "output_type": "stream",
     "text": [
      "[Parallel(n_jobs=1)]: Done   1 out of   1 | elapsed:   53.4s remaining:    0.0s\n",
      "[Parallel(n_jobs=1)]: Done   1 out of   1 | elapsed:   53.4s finished\n",
      "[Parallel(n_jobs=1)]: Using backend SequentialBackend with 1 concurrent workers.\n"
     ]
    },
    {
     "name": "stdout",
     "output_type": "stream",
     "text": [
      "convergence after 293 epochs took 42 seconds\n",
      "[CV]  C=0.37926901907322497, penalty=l1, score=0.21052631578947367, total=  41.9s\n",
      "[CV] C=0.37926901907322497, penalty=l1 ...............................\n"
     ]
    },
    {
     "name": "stderr",
     "output_type": "stream",
     "text": [
      "[Parallel(n_jobs=1)]: Done   1 out of   1 | elapsed:   41.9s remaining:    0.0s\n",
      "[Parallel(n_jobs=1)]: Done   1 out of   1 | elapsed:   41.9s finished\n",
      "[Parallel(n_jobs=1)]: Using backend SequentialBackend with 1 concurrent workers.\n"
     ]
    },
    {
     "name": "stdout",
     "output_type": "stream",
     "text": [
      "convergence after 391 epochs took 51 seconds\n",
      "[CV]  C=0.37926901907322497, penalty=l1, score=0.29143492769744156, total=  50.7s\n",
      "[CV] C=0.37926901907322497, penalty=l1 ...............................\n"
     ]
    },
    {
     "name": "stderr",
     "output_type": "stream",
     "text": [
      "[Parallel(n_jobs=1)]: Done   1 out of   1 | elapsed:   50.6s remaining:    0.0s\n",
      "[Parallel(n_jobs=1)]: Done   1 out of   1 | elapsed:   50.6s finished\n",
      "[Parallel(n_jobs=1)]: Using backend SequentialBackend with 1 concurrent workers.\n"
     ]
    },
    {
     "name": "stdout",
     "output_type": "stream",
     "text": [
      "max_iter reached after 64 seconds\n",
      "[CV]  C=0.37926901907322497, penalty=l1, score=0.28571428571428564, total= 1.1min\n",
      "[CV] C=0.37926901907322497, penalty=l2 ...............................\n"
     ]
    },
    {
     "name": "stderr",
     "output_type": "stream",
     "text": [
      "[Parallel(n_jobs=1)]: Done   1 out of   1 | elapsed:  1.1min remaining:    0.0s\n",
      "[Parallel(n_jobs=1)]: Done   1 out of   1 | elapsed:  1.1min finished\n",
      "[Parallel(n_jobs=1)]: Using backend SequentialBackend with 1 concurrent workers.\n"
     ]
    },
    {
     "name": "stdout",
     "output_type": "stream",
     "text": [
      "convergence after 67 epochs took 2 seconds\n",
      "[CV]  C=0.37926901907322497, penalty=l2, score=0.17307692307692307, total=   2.0s\n",
      "[CV] C=0.37926901907322497, penalty=l2 ...............................\n"
     ]
    },
    {
     "name": "stderr",
     "output_type": "stream",
     "text": [
      "[Parallel(n_jobs=1)]: Done   1 out of   1 | elapsed:    2.0s remaining:    0.0s\n",
      "[Parallel(n_jobs=1)]: Done   1 out of   1 | elapsed:    2.0s finished\n",
      "[Parallel(n_jobs=1)]: Using backend SequentialBackend with 1 concurrent workers.\n"
     ]
    },
    {
     "name": "stdout",
     "output_type": "stream",
     "text": [
      "convergence after 74 epochs took 3 seconds\n",
      "[CV]  C=0.37926901907322497, penalty=l2, score=0.2564102564102564, total=   2.2s\n",
      "[CV] C=0.37926901907322497, penalty=l2 ...............................\n"
     ]
    },
    {
     "name": "stderr",
     "output_type": "stream",
     "text": [
      "[Parallel(n_jobs=1)]: Done   1 out of   1 | elapsed:    2.2s remaining:    0.0s\n",
      "[Parallel(n_jobs=1)]: Done   1 out of   1 | elapsed:    2.2s finished\n",
      "[Parallel(n_jobs=1)]: Using backend SequentialBackend with 1 concurrent workers.\n"
     ]
    },
    {
     "name": "stdout",
     "output_type": "stream",
     "text": [
      "convergence after 73 epochs took 2 seconds\n",
      "[CV]  C=0.37926901907322497, penalty=l2, score=0.30158730158730157, total=   2.3s\n",
      "[CV] C=0.37926901907322497, penalty=l2 ...............................\n"
     ]
    },
    {
     "name": "stderr",
     "output_type": "stream",
     "text": [
      "[Parallel(n_jobs=1)]: Done   1 out of   1 | elapsed:    2.3s remaining:    0.0s\n",
      "[Parallel(n_jobs=1)]: Done   1 out of   1 | elapsed:    2.3s finished\n",
      "[Parallel(n_jobs=1)]: Using backend SequentialBackend with 1 concurrent workers.\n"
     ]
    },
    {
     "name": "stdout",
     "output_type": "stream",
     "text": [
      "convergence after 68 epochs took 2 seconds\n",
      "[CV]  C=0.37926901907322497, penalty=l2, score=0.30634146341463414, total=   1.5s\n",
      "[CV] C=0.37926901907322497, penalty=l2 ...............................\n"
     ]
    },
    {
     "name": "stderr",
     "output_type": "stream",
     "text": [
      "[Parallel(n_jobs=1)]: Done   1 out of   1 | elapsed:    1.5s remaining:    0.0s\n",
      "[Parallel(n_jobs=1)]: Done   1 out of   1 | elapsed:    1.5s finished\n",
      "[Parallel(n_jobs=1)]: Using backend SequentialBackend with 1 concurrent workers.\n"
     ]
    },
    {
     "name": "stdout",
     "output_type": "stream",
     "text": [
      "convergence after 71 epochs took 1 seconds\n",
      "[CV]  C=0.37926901907322497, penalty=l2, score=0.33140655105973027, total=   1.2s\n",
      "[CV] C=0.37926901907322497, penalty=l2 ...............................\n"
     ]
    },
    {
     "name": "stderr",
     "output_type": "stream",
     "text": [
      "[Parallel(n_jobs=1)]: Done   1 out of   1 | elapsed:    1.1s remaining:    0.0s\n",
      "[Parallel(n_jobs=1)]: Done   1 out of   1 | elapsed:    1.1s finished\n",
      "[Parallel(n_jobs=1)]: Using backend SequentialBackend with 1 concurrent workers.\n"
     ]
    },
    {
     "name": "stdout",
     "output_type": "stream",
     "text": [
      "convergence after 74 epochs took 1 seconds\n",
      "[CV]  C=0.37926901907322497, penalty=l2, score=0.05489742848887605, total=   0.6s\n",
      "[CV] C=0.37926901907322497, penalty=l2 ...............................\n"
     ]
    },
    {
     "name": "stderr",
     "output_type": "stream",
     "text": [
      "[Parallel(n_jobs=1)]: Done   1 out of   1 | elapsed:    0.6s remaining:    0.0s\n",
      "[Parallel(n_jobs=1)]: Done   1 out of   1 | elapsed:    0.6s finished\n",
      "[Parallel(n_jobs=1)]: Using backend SequentialBackend with 1 concurrent workers.\n"
     ]
    },
    {
     "name": "stdout",
     "output_type": "stream",
     "text": [
      "convergence after 85 epochs took 2 seconds\n",
      "[CV]  C=0.37926901907322497, penalty=l2, score=0.22074468085106383, total=   1.8s\n",
      "[CV] C=0.37926901907322497, penalty=l2 ...............................\n"
     ]
    },
    {
     "name": "stderr",
     "output_type": "stream",
     "text": [
      "[Parallel(n_jobs=1)]: Done   1 out of   1 | elapsed:    1.8s remaining:    0.0s\n",
      "[Parallel(n_jobs=1)]: Done   1 out of   1 | elapsed:    1.8s finished\n",
      "[Parallel(n_jobs=1)]: Using backend SequentialBackend with 1 concurrent workers.\n"
     ]
    },
    {
     "name": "stdout",
     "output_type": "stream",
     "text": [
      "convergence after 69 epochs took 1 seconds\n",
      "[CV]  C=0.37926901907322497, penalty=l2, score=0.15879828326180256, total=   1.1s\n",
      "[CV] C=0.37926901907322497, penalty=l2 ...............................\n"
     ]
    },
    {
     "name": "stderr",
     "output_type": "stream",
     "text": [
      "[Parallel(n_jobs=1)]: Done   1 out of   1 | elapsed:    1.1s remaining:    0.0s\n",
      "[Parallel(n_jobs=1)]: Done   1 out of   1 | elapsed:    1.1s finished\n",
      "[Parallel(n_jobs=1)]: Using backend SequentialBackend with 1 concurrent workers.\n"
     ]
    },
    {
     "name": "stdout",
     "output_type": "stream",
     "text": [
      "convergence after 87 epochs took 1 seconds\n",
      "[CV]  C=0.37926901907322497, penalty=l2, score=0.228287841191067, total=   1.5s\n",
      "[CV] C=0.37926901907322497, penalty=l2 ...............................\n"
     ]
    },
    {
     "name": "stderr",
     "output_type": "stream",
     "text": [
      "[Parallel(n_jobs=1)]: Done   1 out of   1 | elapsed:    1.5s remaining:    0.0s\n",
      "[Parallel(n_jobs=1)]: Done   1 out of   1 | elapsed:    1.5s finished\n",
      "[Parallel(n_jobs=1)]: Using backend SequentialBackend with 1 concurrent workers.\n"
     ]
    },
    {
     "name": "stdout",
     "output_type": "stream",
     "text": [
      "convergence after 68 epochs took 2 seconds\n",
      "[CV]  C=0.37926901907322497, penalty=l2, score=0.22573363431151242, total=   2.0s\n",
      "[CV] C=0.7847599703514611, penalty=l1 ................................\n"
     ]
    },
    {
     "name": "stderr",
     "output_type": "stream",
     "text": [
      "[Parallel(n_jobs=1)]: Done   1 out of   1 | elapsed:    1.9s remaining:    0.0s\n",
      "[Parallel(n_jobs=1)]: Done   1 out of   1 | elapsed:    1.9s finished\n",
      "[Parallel(n_jobs=1)]: Using backend SequentialBackend with 1 concurrent workers.\n"
     ]
    },
    {
     "name": "stdout",
     "output_type": "stream",
     "text": [
      "max_iter reached after 111 seconds\n",
      "[CV]  C=0.7847599703514611, penalty=l1, score=0.20557491289198607, total= 1.8min\n",
      "[CV] C=0.7847599703514611, penalty=l1 ................................\n"
     ]
    },
    {
     "name": "stderr",
     "output_type": "stream",
     "text": [
      "[Parallel(n_jobs=1)]: Done   1 out of   1 | elapsed:  1.8min remaining:    0.0s\n",
      "[Parallel(n_jobs=1)]: Done   1 out of   1 | elapsed:  1.8min finished\n",
      "[Parallel(n_jobs=1)]: Using backend SequentialBackend with 1 concurrent workers.\n"
     ]
    },
    {
     "name": "stdout",
     "output_type": "stream",
     "text": [
      "max_iter reached after 111 seconds\n",
      "[CV]  C=0.7847599703514611, penalty=l1, score=0.2883548983364141, total= 1.9min\n",
      "[CV] C=0.7847599703514611, penalty=l1 ................................\n"
     ]
    },
    {
     "name": "stderr",
     "output_type": "stream",
     "text": [
      "[Parallel(n_jobs=1)]: Done   1 out of   1 | elapsed:  1.9min remaining:    0.0s\n",
      "[Parallel(n_jobs=1)]: Done   1 out of   1 | elapsed:  1.9min finished\n",
      "[Parallel(n_jobs=1)]: Using backend SequentialBackend with 1 concurrent workers.\n"
     ]
    },
    {
     "name": "stdout",
     "output_type": "stream",
     "text": [
      "convergence after 485 epochs took 125 seconds\n",
      "[CV]  C=0.7847599703514611, penalty=l1, score=0.300132802124834, total= 2.1min\n",
      "[CV] C=0.7847599703514611, penalty=l1 ................................\n"
     ]
    },
    {
     "name": "stderr",
     "output_type": "stream",
     "text": [
      "[Parallel(n_jobs=1)]: Done   1 out of   1 | elapsed:  2.1min remaining:    0.0s\n",
      "[Parallel(n_jobs=1)]: Done   1 out of   1 | elapsed:  2.1min finished\n",
      "[Parallel(n_jobs=1)]: Using backend SequentialBackend with 1 concurrent workers.\n"
     ]
    },
    {
     "name": "stdout",
     "output_type": "stream",
     "text": [
      "max_iter reached after 101 seconds\n",
      "[CV]  C=0.7847599703514611, penalty=l1, score=0.3000968054211036, total= 1.7min\n",
      "[CV] C=0.7847599703514611, penalty=l1 ................................\n"
     ]
    },
    {
     "name": "stderr",
     "output_type": "stream",
     "text": [
      "[Parallel(n_jobs=1)]: Done   1 out of   1 | elapsed:  1.7min remaining:    0.0s\n",
      "[Parallel(n_jobs=1)]: Done   1 out of   1 | elapsed:  1.7min finished\n",
      "[Parallel(n_jobs=1)]: Using backend SequentialBackend with 1 concurrent workers.\n"
     ]
    },
    {
     "name": "stdout",
     "output_type": "stream",
     "text": [
      "max_iter reached after 115 seconds\n",
      "[CV]  C=0.7847599703514611, penalty=l1, score=0.3215369059656218, total= 1.9min\n",
      "[CV] C=0.7847599703514611, penalty=l1 ................................\n"
     ]
    },
    {
     "name": "stderr",
     "output_type": "stream",
     "text": [
      "[Parallel(n_jobs=1)]: Done   1 out of   1 | elapsed:  1.9min remaining:    0.0s\n",
      "[Parallel(n_jobs=1)]: Done   1 out of   1 | elapsed:  1.9min finished\n",
      "[Parallel(n_jobs=1)]: Using backend SequentialBackend with 1 concurrent workers.\n"
     ]
    },
    {
     "name": "stdout",
     "output_type": "stream",
     "text": [
      "convergence after 458 epochs took 52 seconds\n",
      "[CV]  C=0.7847599703514611, penalty=l1, score=0.062983720309581, total=  52.1s\n",
      "[CV] C=0.7847599703514611, penalty=l1 ................................\n"
     ]
    },
    {
     "name": "stderr",
     "output_type": "stream",
     "text": [
      "[Parallel(n_jobs=1)]: Done   1 out of   1 | elapsed:   52.1s remaining:    0.0s\n",
      "[Parallel(n_jobs=1)]: Done   1 out of   1 | elapsed:   52.1s finished\n",
      "[Parallel(n_jobs=1)]: Using backend SequentialBackend with 1 concurrent workers.\n"
     ]
    },
    {
     "name": "stdout",
     "output_type": "stream",
     "text": [
      "max_iter reached after 101 seconds\n",
      "[CV]  C=0.7847599703514611, penalty=l1, score=0.2246278755074425, total= 1.7min\n",
      "[CV] C=0.7847599703514611, penalty=l1 ................................\n"
     ]
    },
    {
     "name": "stderr",
     "output_type": "stream",
     "text": [
      "[Parallel(n_jobs=1)]: Done   1 out of   1 | elapsed:  1.7min remaining:    0.0s\n",
      "[Parallel(n_jobs=1)]: Done   1 out of   1 | elapsed:  1.7min finished\n",
      "[Parallel(n_jobs=1)]: Using backend SequentialBackend with 1 concurrent workers.\n"
     ]
    },
    {
     "name": "stdout",
     "output_type": "stream",
     "text": [
      "max_iter reached after 108 seconds\n",
      "[CV]  C=0.7847599703514611, penalty=l1, score=0.19047619047619047, total= 1.8min\n",
      "[CV] C=0.7847599703514611, penalty=l1 ................................\n"
     ]
    },
    {
     "name": "stderr",
     "output_type": "stream",
     "text": [
      "[Parallel(n_jobs=1)]: Done   1 out of   1 | elapsed:  1.8min remaining:    0.0s\n",
      "[Parallel(n_jobs=1)]: Done   1 out of   1 | elapsed:  1.8min finished\n",
      "[Parallel(n_jobs=1)]: Using backend SequentialBackend with 1 concurrent workers.\n"
     ]
    },
    {
     "name": "stdout",
     "output_type": "stream",
     "text": [
      "max_iter reached after 116 seconds\n",
      "[CV]  C=0.7847599703514611, penalty=l1, score=0.27946537059538273, total= 1.9min\n",
      "[CV] C=0.7847599703514611, penalty=l1 ................................\n"
     ]
    },
    {
     "name": "stderr",
     "output_type": "stream",
     "text": [
      "[Parallel(n_jobs=1)]: Done   1 out of   1 | elapsed:  1.9min remaining:    0.0s\n",
      "[Parallel(n_jobs=1)]: Done   1 out of   1 | elapsed:  1.9min finished\n",
      "[Parallel(n_jobs=1)]: Using backend SequentialBackend with 1 concurrent workers.\n"
     ]
    },
    {
     "name": "stdout",
     "output_type": "stream",
     "text": [
      "max_iter reached after 111 seconds\n",
      "[CV]  C=0.7847599703514611, penalty=l1, score=0.26326530612244897, total= 1.9min\n",
      "[CV] C=0.7847599703514611, penalty=l2 ................................\n"
     ]
    },
    {
     "name": "stderr",
     "output_type": "stream",
     "text": [
      "[Parallel(n_jobs=1)]: Done   1 out of   1 | elapsed:  1.9min remaining:    0.0s\n",
      "[Parallel(n_jobs=1)]: Done   1 out of   1 | elapsed:  1.9min finished\n",
      "[Parallel(n_jobs=1)]: Using backend SequentialBackend with 1 concurrent workers.\n"
     ]
    },
    {
     "name": "stdout",
     "output_type": "stream",
     "text": [
      "convergence after 110 epochs took 2 seconds\n",
      "[CV]  C=0.7847599703514611, penalty=l2, score=0.17523809523809522, total=   2.2s\n",
      "[CV] C=0.7847599703514611, penalty=l2 ................................\n"
     ]
    },
    {
     "name": "stderr",
     "output_type": "stream",
     "text": [
      "[Parallel(n_jobs=1)]: Done   1 out of   1 | elapsed:    2.1s remaining:    0.0s\n",
      "[Parallel(n_jobs=1)]: Done   1 out of   1 | elapsed:    2.1s finished\n",
      "[Parallel(n_jobs=1)]: Using backend SequentialBackend with 1 concurrent workers.\n"
     ]
    },
    {
     "name": "stdout",
     "output_type": "stream",
     "text": [
      "convergence after 146 epochs took 3 seconds\n",
      "[CV]  C=0.7847599703514611, penalty=l2, score=0.2624254473161034, total=   2.6s\n",
      "[CV] C=0.7847599703514611, penalty=l2 ................................\n"
     ]
    },
    {
     "name": "stderr",
     "output_type": "stream",
     "text": [
      "[Parallel(n_jobs=1)]: Done   1 out of   1 | elapsed:    2.5s remaining:    0.0s\n",
      "[Parallel(n_jobs=1)]: Done   1 out of   1 | elapsed:    2.5s finished\n",
      "[Parallel(n_jobs=1)]: Using backend SequentialBackend with 1 concurrent workers.\n"
     ]
    },
    {
     "name": "stdout",
     "output_type": "stream",
     "text": [
      "convergence after 115 epochs took 2 seconds\n",
      "[CV]  C=0.7847599703514611, penalty=l2, score=0.3066841415465269, total=   1.9s\n",
      "[CV] C=0.7847599703514611, penalty=l2 ................................\n"
     ]
    },
    {
     "name": "stderr",
     "output_type": "stream",
     "text": [
      "[Parallel(n_jobs=1)]: Done   1 out of   1 | elapsed:    1.9s remaining:    0.0s\n",
      "[Parallel(n_jobs=1)]: Done   1 out of   1 | elapsed:    1.9s finished\n",
      "[Parallel(n_jobs=1)]: Using backend SequentialBackend with 1 concurrent workers.\n"
     ]
    },
    {
     "name": "stdout",
     "output_type": "stream",
     "text": [
      "convergence after 118 epochs took 2 seconds\n",
      "[CV]  C=0.7847599703514611, penalty=l2, score=0.2929194956353055, total=   1.9s\n",
      "[CV] C=0.7847599703514611, penalty=l2 ................................\n"
     ]
    },
    {
     "name": "stderr",
     "output_type": "stream",
     "text": [
      "[Parallel(n_jobs=1)]: Done   1 out of   1 | elapsed:    1.9s remaining:    0.0s\n",
      "[Parallel(n_jobs=1)]: Done   1 out of   1 | elapsed:    1.9s finished\n",
      "[Parallel(n_jobs=1)]: Using backend SequentialBackend with 1 concurrent workers.\n"
     ]
    },
    {
     "name": "stdout",
     "output_type": "stream",
     "text": [
      "convergence after 114 epochs took 2 seconds\n",
      "[CV]  C=0.7847599703514611, penalty=l2, score=0.321285140562249, total=   2.4s\n",
      "[CV] C=0.7847599703514611, penalty=l2 ................................\n"
     ]
    },
    {
     "name": "stderr",
     "output_type": "stream",
     "text": [
      "[Parallel(n_jobs=1)]: Done   1 out of   1 | elapsed:    2.4s remaining:    0.0s\n",
      "[Parallel(n_jobs=1)]: Done   1 out of   1 | elapsed:    2.4s finished\n",
      "[Parallel(n_jobs=1)]: Using backend SequentialBackend with 1 concurrent workers.\n"
     ]
    },
    {
     "name": "stdout",
     "output_type": "stream",
     "text": [
      "convergence after 127 epochs took 1 seconds\n",
      "[CV]  C=0.7847599703514611, penalty=l2, score=0.05532503457814661, total=   1.3s\n",
      "[CV] C=0.7847599703514611, penalty=l2 ................................\n"
     ]
    },
    {
     "name": "stderr",
     "output_type": "stream",
     "text": [
      "[Parallel(n_jobs=1)]: Done   1 out of   1 | elapsed:    1.3s remaining:    0.0s\n",
      "[Parallel(n_jobs=1)]: Done   1 out of   1 | elapsed:    1.3s finished\n",
      "[Parallel(n_jobs=1)]: Using backend SequentialBackend with 1 concurrent workers.\n"
     ]
    },
    {
     "name": "stdout",
     "output_type": "stream",
     "text": [
      "convergence after 133 epochs took 4 seconds\n",
      "[CV]  C=0.7847599703514611, penalty=l2, score=0.2328042328042328, total=   3.9s\n",
      "[CV] C=0.7847599703514611, penalty=l2 ................................\n"
     ]
    },
    {
     "name": "stderr",
     "output_type": "stream",
     "text": [
      "[Parallel(n_jobs=1)]: Done   1 out of   1 | elapsed:    3.8s remaining:    0.0s\n",
      "[Parallel(n_jobs=1)]: Done   1 out of   1 | elapsed:    3.8s finished\n",
      "[Parallel(n_jobs=1)]: Using backend SequentialBackend with 1 concurrent workers.\n"
     ]
    },
    {
     "name": "stdout",
     "output_type": "stream",
     "text": [
      "convergence after 123 epochs took 2 seconds\n",
      "[CV]  C=0.7847599703514611, penalty=l2, score=0.16517857142857142, total=   2.3s\n",
      "[CV] C=0.7847599703514611, penalty=l2 ................................\n"
     ]
    },
    {
     "name": "stderr",
     "output_type": "stream",
     "text": [
      "[Parallel(n_jobs=1)]: Done   1 out of   1 | elapsed:    2.3s remaining:    0.0s\n",
      "[Parallel(n_jobs=1)]: Done   1 out of   1 | elapsed:    2.3s finished\n",
      "[Parallel(n_jobs=1)]: Using backend SequentialBackend with 1 concurrent workers.\n"
     ]
    },
    {
     "name": "stdout",
     "output_type": "stream",
     "text": [
      "convergence after 128 epochs took 2 seconds\n",
      "[CV]  C=0.7847599703514611, penalty=l2, score=0.22604422604422605, total=   2.0s\n",
      "[CV] C=0.7847599703514611, penalty=l2 ................................\n"
     ]
    },
    {
     "name": "stderr",
     "output_type": "stream",
     "text": [
      "[Parallel(n_jobs=1)]: Done   1 out of   1 | elapsed:    2.0s remaining:    0.0s\n",
      "[Parallel(n_jobs=1)]: Done   1 out of   1 | elapsed:    2.0s finished\n",
      "[Parallel(n_jobs=1)]: Using backend SequentialBackend with 1 concurrent workers.\n"
     ]
    },
    {
     "name": "stdout",
     "output_type": "stream",
     "text": [
      "convergence after 115 epochs took 3 seconds\n",
      "[CV]  C=0.7847599703514611, penalty=l2, score=0.2513661202185792, total=   2.6s\n",
      "[CV] C=1.623776739188721, penalty=l1 .................................\n"
     ]
    },
    {
     "name": "stderr",
     "output_type": "stream",
     "text": [
      "[Parallel(n_jobs=1)]: Done   1 out of   1 | elapsed:    2.6s remaining:    0.0s\n",
      "[Parallel(n_jobs=1)]: Done   1 out of   1 | elapsed:    2.6s finished\n",
      "[Parallel(n_jobs=1)]: Using backend SequentialBackend with 1 concurrent workers.\n"
     ]
    },
    {
     "name": "stdout",
     "output_type": "stream",
     "text": [
      "max_iter reached after 172 seconds\n",
      "[CV]  C=1.623776739188721, penalty=l1, score=0.17537313432835824, total= 2.9min\n",
      "[CV] C=1.623776739188721, penalty=l1 .................................\n"
     ]
    },
    {
     "name": "stderr",
     "output_type": "stream",
     "text": [
      "[Parallel(n_jobs=1)]: Done   1 out of   1 | elapsed:  2.9min remaining:    0.0s\n",
      "[Parallel(n_jobs=1)]: Done   1 out of   1 | elapsed:  2.9min finished\n",
      "[Parallel(n_jobs=1)]: Using backend SequentialBackend with 1 concurrent workers.\n"
     ]
    },
    {
     "name": "stdout",
     "output_type": "stream",
     "text": [
      "max_iter reached after 164 seconds\n",
      "[CV]  C=1.623776739188721, penalty=l1, score=0.28160919540229884, total= 2.7min\n",
      "[CV] C=1.623776739188721, penalty=l1 .................................\n"
     ]
    },
    {
     "name": "stderr",
     "output_type": "stream",
     "text": [
      "[Parallel(n_jobs=1)]: Done   1 out of   1 | elapsed:  2.7min remaining:    0.0s\n",
      "[Parallel(n_jobs=1)]: Done   1 out of   1 | elapsed:  2.7min finished\n",
      "[Parallel(n_jobs=1)]: Using backend SequentialBackend with 1 concurrent workers.\n"
     ]
    },
    {
     "name": "stdout",
     "output_type": "stream",
     "text": [
      "max_iter reached after 177 seconds\n",
      "[CV]  C=1.623776739188721, penalty=l1, score=0.30412371134020616, total= 2.9min\n",
      "[CV] C=1.623776739188721, penalty=l1 .................................\n"
     ]
    },
    {
     "name": "stderr",
     "output_type": "stream",
     "text": [
      "[Parallel(n_jobs=1)]: Done   1 out of   1 | elapsed:  2.9min remaining:    0.0s\n",
      "[Parallel(n_jobs=1)]: Done   1 out of   1 | elapsed:  2.9min finished\n",
      "[Parallel(n_jobs=1)]: Using backend SequentialBackend with 1 concurrent workers.\n"
     ]
    },
    {
     "name": "stdout",
     "output_type": "stream",
     "text": [
      "max_iter reached after 165 seconds\n",
      "[CV]  C=1.623776739188721, penalty=l1, score=0.28280773143438453, total= 2.7min\n",
      "[CV] C=1.623776739188721, penalty=l1 .................................\n"
     ]
    },
    {
     "name": "stderr",
     "output_type": "stream",
     "text": [
      "[Parallel(n_jobs=1)]: Done   1 out of   1 | elapsed:  2.7min remaining:    0.0s\n",
      "[Parallel(n_jobs=1)]: Done   1 out of   1 | elapsed:  2.7min finished\n",
      "[Parallel(n_jobs=1)]: Using backend SequentialBackend with 1 concurrent workers.\n"
     ]
    },
    {
     "name": "stdout",
     "output_type": "stream",
     "text": [
      "max_iter reached after 177 seconds\n",
      "[CV]  C=1.623776739188721, penalty=l1, score=0.29718004338394793, total= 2.9min\n",
      "[CV] C=1.623776739188721, penalty=l1 .................................\n"
     ]
    },
    {
     "name": "stderr",
     "output_type": "stream",
     "text": [
      "[Parallel(n_jobs=1)]: Done   1 out of   1 | elapsed:  2.9min remaining:    0.0s\n",
      "[Parallel(n_jobs=1)]: Done   1 out of   1 | elapsed:  2.9min finished\n",
      "[Parallel(n_jobs=1)]: Using backend SequentialBackend with 1 concurrent workers.\n"
     ]
    },
    {
     "name": "stdout",
     "output_type": "stream",
     "text": [
      "max_iter reached after 91 seconds\n",
      "[CV]  C=1.623776739188721, penalty=l1, score=0.06346666666666667, total= 1.5min\n",
      "[CV] C=1.623776739188721, penalty=l1 .................................\n"
     ]
    },
    {
     "name": "stderr",
     "output_type": "stream",
     "text": [
      "[Parallel(n_jobs=1)]: Done   1 out of   1 | elapsed:  1.5min remaining:    0.0s\n",
      "[Parallel(n_jobs=1)]: Done   1 out of   1 | elapsed:  1.5min finished\n",
      "[Parallel(n_jobs=1)]: Using backend SequentialBackend with 1 concurrent workers.\n"
     ]
    },
    {
     "name": "stdout",
     "output_type": "stream",
     "text": [
      "max_iter reached after 155 seconds\n",
      "[CV]  C=1.623776739188721, penalty=l1, score=0.24350205198358416, total= 2.6min\n",
      "[CV] C=1.623776739188721, penalty=l1 .................................\n"
     ]
    },
    {
     "name": "stderr",
     "output_type": "stream",
     "text": [
      "[Parallel(n_jobs=1)]: Done   1 out of   1 | elapsed:  2.6min remaining:    0.0s\n",
      "[Parallel(n_jobs=1)]: Done   1 out of   1 | elapsed:  2.6min finished\n",
      "[Parallel(n_jobs=1)]: Using backend SequentialBackend with 1 concurrent workers.\n"
     ]
    },
    {
     "name": "stdout",
     "output_type": "stream",
     "text": [
      "max_iter reached after 180 seconds\n",
      "[CV]  C=1.623776739188721, penalty=l1, score=0.16334661354581673, total= 3.0min\n",
      "[CV] C=1.623776739188721, penalty=l1 .................................\n"
     ]
    },
    {
     "name": "stderr",
     "output_type": "stream",
     "text": [
      "[Parallel(n_jobs=1)]: Done   1 out of   1 | elapsed:  3.0min remaining:    0.0s\n",
      "[Parallel(n_jobs=1)]: Done   1 out of   1 | elapsed:  3.0min finished\n",
      "[Parallel(n_jobs=1)]: Using backend SequentialBackend with 1 concurrent workers.\n"
     ]
    }
   ],
   "source": [
    "clf.fit(X, y)"
   ]
  },
  {
   "cell_type": "code",
   "execution_count": 193,
   "metadata": {},
   "outputs": [
    {
     "data": {
      "text/plain": [
       "({'C': 0.04281332398719394, 'penalty': 'l1'},\n",
       " UnigramClassifier(C=0.04281332398719394, class_weight='balanced',\n",
       "          max_iter=500, penalty='l1', random_state=0, solver='liblinear',\n",
       "          verbose=10))"
      ]
     },
     "execution_count": 193,
     "metadata": {},
     "output_type": "execute_result"
    }
   ],
   "source": [
    "clf.best_params_, clf.best_estimator_"
   ]
  },
  {
   "cell_type": "code",
   "execution_count": 194,
   "metadata": {},
   "outputs": [
    {
     "data": {
      "text/plain": [
       "17223"
      ]
     },
     "metadata": {},
     "output_type": "display_data"
    },
    {
     "data": {
      "text/html": [
       "<div>\n",
       "<style scoped>\n",
       "    .dataframe tbody tr th:only-of-type {\n",
       "        vertical-align: middle;\n",
       "    }\n",
       "\n",
       "    .dataframe tbody tr th {\n",
       "        vertical-align: top;\n",
       "    }\n",
       "\n",
       "    .dataframe thead th {\n",
       "        text-align: right;\n",
       "    }\n",
       "</style>\n",
       "<table border=\"1\" class=\"dataframe\">\n",
       "  <thead>\n",
       "    <tr style=\"text-align: right;\">\n",
       "      <th></th>\n",
       "      <th>word_id</th>\n",
       "      <th>word</th>\n",
       "      <th>lemma</th>\n",
       "      <th>word_type</th>\n",
       "      <th>function</th>\n",
       "      <th>seg_type</th>\n",
       "      <th>sentence_id</th>\n",
       "      <th>text_id</th>\n",
       "      <th>text_tag</th>\n",
       "      <th>genre</th>\n",
       "    </tr>\n",
       "  </thead>\n",
       "  <tbody>\n",
       "    <tr>\n",
       "      <th>0</th>\n",
       "      <td>61516</td>\n",
       "      <td>BRINGING</td>\n",
       "      <td>bring</td>\n",
       "      <td>VVG</td>\n",
       "      <td>mrw</td>\n",
       "      <td>met</td>\n",
       "      <td>3232</td>\n",
       "      <td>amm-fragment02</td>\n",
       "      <td>amm</td>\n",
       "      <td>academic</td>\n",
       "    </tr>\n",
       "    <tr>\n",
       "      <th>1</th>\n",
       "      <td>61517</td>\n",
       "      <td>FOSSILS</td>\n",
       "      <td>fossil</td>\n",
       "      <td>NN2</td>\n",
       "      <td></td>\n",
       "      <td></td>\n",
       "      <td>3232</td>\n",
       "      <td>amm-fragment02</td>\n",
       "      <td>amm</td>\n",
       "      <td>academic</td>\n",
       "    </tr>\n",
       "    <tr>\n",
       "      <th>2</th>\n",
       "      <td>61518</td>\n",
       "      <td>BACK</td>\n",
       "      <td>back</td>\n",
       "      <td>AVP</td>\n",
       "      <td>mrw</td>\n",
       "      <td>met</td>\n",
       "      <td>3232</td>\n",
       "      <td>amm-fragment02</td>\n",
       "      <td>amm</td>\n",
       "      <td>academic</td>\n",
       "    </tr>\n",
       "    <tr>\n",
       "      <th>3</th>\n",
       "      <td>61519</td>\n",
       "      <td>TO</td>\n",
       "      <td>to</td>\n",
       "      <td>PRP</td>\n",
       "      <td>mrw</td>\n",
       "      <td>met</td>\n",
       "      <td>3232</td>\n",
       "      <td>amm-fragment02</td>\n",
       "      <td>amm</td>\n",
       "      <td>academic</td>\n",
       "    </tr>\n",
       "    <tr>\n",
       "      <th>4</th>\n",
       "      <td>61520</td>\n",
       "      <td>LIFE</td>\n",
       "      <td>life</td>\n",
       "      <td>NN1</td>\n",
       "      <td>mrw</td>\n",
       "      <td>met</td>\n",
       "      <td>3232</td>\n",
       "      <td>amm-fragment02</td>\n",
       "      <td>amm</td>\n",
       "      <td>academic</td>\n",
       "    </tr>\n",
       "  </tbody>\n",
       "</table>\n",
       "</div>"
      ],
      "text/plain": [
       "   word_id      word   lemma word_type function seg_type  sentence_id  \\\n",
       "0  61516    BRINGING  bring   VVG       mrw      met      3232          \n",
       "1  61517    FOSSILS   fossil  NN2                         3232          \n",
       "2  61518    BACK      back    AVP       mrw      met      3232          \n",
       "3  61519    TO        to      PRP       mrw      met      3232          \n",
       "4  61520    LIFE      life    NN1       mrw      met      3232          \n",
       "\n",
       "          text_id text_tag     genre  \n",
       "0  amm-fragment02  amm      academic  \n",
       "1  amm-fragment02  amm      academic  \n",
       "2  amm-fragment02  amm      academic  \n",
       "3  amm-fragment02  amm      academic  \n",
       "4  amm-fragment02  amm      academic  "
      ]
     },
     "execution_count": 194,
     "metadata": {},
     "output_type": "execute_result"
    }
   ],
   "source": [
    "test_set = pd.read_csv('data/test/academic/words.csv', encoding='ISO--8859-1', na_filter=False)\n",
    "display(len(test_set))\n",
    "test_set.head()"
   ]
  },
  {
   "cell_type": "code",
   "execution_count": 196,
   "metadata": {},
   "outputs": [
    {
     "name": "stdout",
     "output_type": "stream",
     "text": [
      "Building content words.\n",
      "----              precision    recall  f1-score   support\n",
      "\n",
      "       False       0.77      0.23      0.36      6744\n",
      "        True       0.22      0.76      0.34      1882\n",
      "\n",
      "   micro avg       0.35      0.35      0.35      8626\n",
      "   macro avg       0.49      0.49      0.35      8626\n",
      "weighted avg       0.65      0.35      0.35      8626\n",
      "\n"
     ]
    }
   ],
   "source": [
    "X_test, _, y_test = preprocess_data(test_set)\n",
    "\n",
    "preds = clf.predict(X_test)\n",
    "\n",
    "print(classification_report(y_test, preds))"
   ]
  },
  {
   "cell_type": "markdown",
   "metadata": {},
   "source": [
    "Let's try our model on all 4 genres!"
   ]
  },
  {
   "cell_type": "code",
   "execution_count": 40,
   "metadata": {},
   "outputs": [
    {
     "name": "stdout",
     "output_type": "stream",
     "text": [
      "Building content words.\n",
      "Fitting 10 folds for each of 40 candidates, totalling 400 fits\n",
      "[CV] C=0.01, penalty=l1 ..............................................\n"
     ]
    },
    {
     "name": "stderr",
     "output_type": "stream",
     "text": [
      "[Parallel(n_jobs=1)]: Using backend SequentialBackend with 1 concurrent workers.\n"
     ]
    },
    {
     "name": "stdout",
     "output_type": "stream",
     "text": [
      "-----------[LibLinear]---------{'academic': None, 'fiction': None, 'conversation': None, 'newspapers': None}\n",
      "Building content words.\n",
      "Fitting 10 folds for each of 40 candidates, totalling 400 fits\n",
      "[CV] C=0.01, penalty=l1 ..............................................\n"
     ]
    },
    {
     "name": "stderr",
     "output_type": "stream",
     "text": [
      "[Parallel(n_jobs=1)]: Using backend SequentialBackend with 1 concurrent workers.\n"
     ]
    },
    {
     "name": "stdout",
     "output_type": "stream",
     "text": [
      "----------[LibLinear]-----------[CV] .................... C=0.01, penalty=l1, score=0.0, total=   2.1s\n",
      "[CV] C=0.01, penalty=l1 ..............................................\n"
     ]
    },
    {
     "name": "stderr",
     "output_type": "stream",
     "text": [
      "[Parallel(n_jobs=1)]: Done   1 out of   1 | elapsed:    4.6s remaining:    0.0s\n"
     ]
    },
    {
     "name": "stdout",
     "output_type": "stream",
     "text": [
      "----------[LibLinear]-------{'academic': None, 'fiction': None, 'conversation': None, 'newspapers': None}\n",
      "Building content words.\n",
      "Fitting 10 folds for each of 40 candidates, totalling 400 fits\n",
      "[CV] C=0.01, penalty=l1 ..............................................\n"
     ]
    },
    {
     "name": "stderr",
     "output_type": "stream",
     "text": [
      "[Parallel(n_jobs=1)]: Using backend SequentialBackend with 1 concurrent workers.\n"
     ]
    },
    {
     "name": "stdout",
     "output_type": "stream",
     "text": [
      "-----[LibLinear]------[CV] .................... C=0.01, penalty=l1, score=0.0, total=   2.8s\n",
      "[CV] C=0.01, penalty=l1 ..............................................\n"
     ]
    },
    {
     "name": "stderr",
     "output_type": "stream",
     "text": [
      "[Parallel(n_jobs=1)]: Done   1 out of   1 | elapsed:    4.9s remaining:    0.0s\n"
     ]
    },
    {
     "name": "stdout",
     "output_type": "stream",
     "text": [
      "------[LibLinear]------[CV] .................... C=0.01, penalty=l1, score=0.0, total=   2.0s\n",
      "[CV] C=0.01, penalty=l1 ..............................................\n"
     ]
    },
    {
     "name": "stderr",
     "output_type": "stream",
     "text": [
      "[Parallel(n_jobs=1)]: Done   2 out of   2 | elapsed:    8.7s remaining:    0.0s\n"
     ]
    },
    {
     "name": "stdout",
     "output_type": "stream",
     "text": [
      "-----[LibLinear]------[CV] .................... C=0.01, penalty=l1, score=0.0, total=   1.6s\n",
      "[CV] C=0.01, penalty=l1 ..............................................\n"
     ]
    },
    {
     "name": "stderr",
     "output_type": "stream",
     "text": [
      "[Parallel(n_jobs=1)]: Done   3 out of   3 | elapsed:   11.9s remaining:    0.0s\n"
     ]
    },
    {
     "name": "stdout",
     "output_type": "stream",
     "text": [
      "-----[LibLinear]------[CV] .................... C=0.01, penalty=l1, score=0.0, total=   1.4s\n",
      "[CV] C=0.01, penalty=l1 ..............................................\n"
     ]
    },
    {
     "name": "stderr",
     "output_type": "stream",
     "text": [
      "[Parallel(n_jobs=1)]: Done   4 out of   4 | elapsed:   14.7s remaining:    0.0s\n"
     ]
    },
    {
     "name": "stdout",
     "output_type": "stream",
     "text": [
      "------[LibLinear]------[CV] .................... C=0.01, penalty=l1, score=0.0, total=   1.8s\n",
      "[CV] C=0.01, penalty=l1 ..............................................\n"
     ]
    },
    {
     "name": "stderr",
     "output_type": "stream",
     "text": [
      "[Parallel(n_jobs=1)]: Done   5 out of   5 | elapsed:   18.1s remaining:    0.0s\n"
     ]
    },
    {
     "name": "stdout",
     "output_type": "stream",
     "text": [
      "-----[LibLinear]------[CV] .................... C=0.01, penalty=l1, score=0.0, total=   1.7s\n",
      "[CV] C=0.01, penalty=l1 ..............................................\n"
     ]
    },
    {
     "name": "stderr",
     "output_type": "stream",
     "text": [
      "[Parallel(n_jobs=1)]: Done   6 out of   6 | elapsed:   21.5s remaining:    0.0s\n"
     ]
    },
    {
     "name": "stdout",
     "output_type": "stream",
     "text": [
      "------[LibLinear]------[CV] .................... C=0.01, penalty=l1, score=0.0, total=   1.6s\n",
      "[CV] C=0.01, penalty=l1 ..............................................\n"
     ]
    },
    {
     "name": "stderr",
     "output_type": "stream",
     "text": [
      "[Parallel(n_jobs=1)]: Done   7 out of   7 | elapsed:   24.9s remaining:    0.0s\n"
     ]
    },
    {
     "name": "stdout",
     "output_type": "stream",
     "text": [
      "------[LibLinear]------[CV] .................... C=0.01, penalty=l1, score=0.0, total=   1.5s\n",
      "[CV] C=0.01, penalty=l1 ..............................................\n"
     ]
    },
    {
     "name": "stderr",
     "output_type": "stream",
     "text": [
      "[Parallel(n_jobs=1)]: Done   8 out of   8 | elapsed:   28.3s remaining:    0.0s\n"
     ]
    },
    {
     "name": "stdout",
     "output_type": "stream",
     "text": [
      "-----[LibLinear]------[CV] .................... C=0.01, penalty=l1, score=0.0, total=   1.4s\n",
      "[CV] C=0.01, penalty=l1 ..............................................\n"
     ]
    },
    {
     "name": "stderr",
     "output_type": "stream",
     "text": [
      "[Parallel(n_jobs=1)]: Done   9 out of   9 | elapsed:   31.4s remaining:    0.0s\n"
     ]
    },
    {
     "name": "stdout",
     "output_type": "stream",
     "text": [
      "-----[LibLinear]------[CV] .................... C=0.01, penalty=l1, score=0.0, total=   1.8s\n",
      "[CV] C=0.01, penalty=l2 ..............................................\n",
      "-----[LibLinear]------[CV] .... C=0.01, penalty=l2, score=0.18181818181818182, total=   1.8s\n",
      "[CV] C=0.01, penalty=l2 ..............................................\n",
      "------[LibLinear]------[CV] .... C=0.01, penalty=l2, score=0.23434991974317818, total=   1.8s\n",
      "[CV] C=0.01, penalty=l2 ..............................................\n",
      "-----[LibLinear]------[CV] ..... C=0.01, penalty=l2, score=0.1669024045261669, total=   1.5s\n",
      "[CV] C=0.01, penalty=l2 ..............................................\n",
      "-----[LibLinear]------[CV] .... C=0.01, penalty=l2, score=0.22752808988764048, total=   1.5s\n",
      "[CV] C=0.01, penalty=l2 ..............................................\n",
      "{'academic': None, 'fiction': None, 'conversation': None, 'newspapers': None}\n",
      "Building content words.\n",
      "Fitting 10 folds for each of 40 candidates, totalling 400 fits\n",
      "[CV] C=0.01, penalty=l1 ..............................................\n"
     ]
    },
    {
     "name": "stderr",
     "output_type": "stream",
     "text": [
      "[Parallel(n_jobs=1)]: Using backend SequentialBackend with 1 concurrent workers.\n"
     ]
    },
    {
     "name": "stdout",
     "output_type": "stream",
     "text": [
      "----{'academic': None, 'fiction': None, 'conversation': None, 'newspapers': None}\n"
     ]
    }
   ],
   "source": [
    "results = {\n",
    "    'academic':None,\n",
    "    'fiction':None,\n",
    "    'conversation':None,\n",
    "    'newspapers':None\n",
    "}\n",
    "\n",
    "with open('results/context_unigram_model2.txt', 'w') as f:\n",
    "    for genre in results:\n",
    "        try:\n",
    "            train_set = pd.read_csv('data/train/{}/words.csv'.format(genre), encoding='ISO--8859-1', na_filter=False)\n",
    "            X_train, test_fold_ids, vocabulary, y_train = preprocess_data(train_set)\n",
    "            \n",
    "            unigram_classifier = UnigramClassifier(\n",
    "                verbose=10, random_state=0, C=10, penalty='l1',\n",
    "                solver='saga', class_weight='balanced', max_iter=500,\n",
    "                vocabulary=vocabulary\n",
    "            )\n",
    "\n",
    "            C = np.logspace(-2,4,20)\n",
    "            penalty = ['l1', 'l2']\n",
    "            hyperparameters = {'C':C, 'penalty':penalty}\n",
    "            clf = GridSearchCV(unigram_classifier, hyperparameters,\n",
    "                               cv=PredefinedSplit(test_fold_ids),\n",
    "                               verbose=10, scoring='f1')\n",
    "            \n",
    "            clf.fit(X_train, y_train)\n",
    "\n",
    "            test_set = pd.read_csv('data/test/{}/words.csv'.format(genre), encoding='ISO--8859-1', na_filter=False)\n",
    "            X_test, _, _, y_test = preprocess_data(test_set)\n",
    "            preds = clf.predict(X_test)\n",
    "\n",
    "            result = classification_report(y_test, preds, output_dict)\n",
    "            print(result)\n",
    "            results[genre] = result\n",
    "        except:\n",
    "            print(results)\n",
    "            f.write(json.dumps(results))"
   ]
  },
  {
   "cell_type": "code",
   "execution_count": 32,
   "metadata": {},
   "outputs": [
    {
     "data": {
      "text/plain": [
       "{'academic': '              precision    recall  f1-score   support\\n\\n       False       0.77      0.23      0.36      6744\\n        True       0.22      0.76      0.34      1882\\n\\n   micro avg       0.35      0.35      0.35      8626\\n   macro avg       0.49      0.49      0.35      8626\\nweighted avg       0.65      0.35      0.35      8626\\n',\n",
       " 'fiction': '              precision    recall  f1-score   support\\n\\n       False       0.85      0.76      0.80      2837\\n        True       0.18      0.28      0.22       524\\n\\n   micro avg       0.68      0.68      0.68      3361\\n   macro avg       0.51      0.52      0.51      3361\\nweighted avg       0.75      0.68      0.71      3361\\n',\n",
       " 'conversation': '              precision    recall  f1-score   support\\n\\n       False       0.90      0.75      0.82      2368\\n        True       0.13      0.33      0.19       282\\n\\n   micro avg       0.70      0.70      0.70      2650\\n   macro avg       0.52      0.54      0.50      2650\\nweighted avg       0.82      0.70      0.75      2650\\n',\n",
       " 'newspapers': '              precision    recall  f1-score   support\\n\\n       False       0.81      0.71      0.76      3978\\n        True       0.23      0.35      0.28      1010\\n\\n   micro avg       0.64      0.64      0.64      4988\\n   macro avg       0.52      0.53      0.52      4988\\nweighted avg       0.69      0.64      0.66      4988\\n'}"
      ]
     },
     "execution_count": 32,
     "metadata": {},
     "output_type": "execute_result"
    }
   ],
   "source": [
    "results"
   ]
  },
  {
   "cell_type": "markdown",
   "metadata": {},
   "source": [
    "## Other"
   ]
  },
  {
   "cell_type": "code",
   "execution_count": null,
   "metadata": {
    "scrolled": true
   },
   "outputs": [],
   "source": [
    "# scoring = ['accuracy', 'precision', 'recall', 'f1']\n",
    "# scores = cross_validate(clf, scoring=scoring, X=X, y=y, cv=10, verbose=10)\n",
    "# scores, sum(scores['test_f1']/len(scores['test_f1']))"
   ]
  },
  {
   "cell_type": "code",
   "execution_count": null,
   "metadata": {},
   "outputs": [],
   "source": [
    "# clf = LogisticRegression(verbose=10, random_state=0, C=10, penalty='l1',\n",
    "#                          solver='liblinear', class_weight='balanced', max_iter=500)"
   ]
  },
  {
   "cell_type": "code",
   "execution_count": null,
   "metadata": {
    "scrolled": true
   },
   "outputs": [],
   "source": [
    "# hyperparameters = {'C':[1, 5, 10, 20, 100], 'penalty':['l1', 'l2']}\n",
    "# from sklearn.model_selection import GridSearchCV\n",
    "# clf = GridSearchCV(LogisticRegression(class_weight='balanced', verbose=10), hyperparameters,\n",
    "#                                       verbose=10, cv=10, scoring='f1')\n",
    "# clf.fit(X_train, y_train)"
   ]
  },
  {
   "cell_type": "code",
   "execution_count": null,
   "metadata": {},
   "outputs": [],
   "source": []
  }
 ],
 "metadata": {
  "kernelspec": {
   "display_name": "Python 3",
   "language": "python",
   "name": "python3"
  },
  "language_info": {
   "codemirror_mode": {
    "name": "ipython",
    "version": 3
   },
   "file_extension": ".py",
   "mimetype": "text/x-python",
   "name": "python",
   "nbconvert_exporter": "python",
   "pygments_lexer": "ipython3",
   "version": "3.7.3"
  }
 },
 "nbformat": 4,
 "nbformat_minor": 2
}
