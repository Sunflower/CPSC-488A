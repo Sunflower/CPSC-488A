{
 "cells": [
  {
   "cell_type": "code",
   "execution_count": 192,
   "metadata": {},
   "outputs": [],
   "source": [
    "import numpy as np\n",
    "import pandas as pd\n",
    "from sklearn.decomposition import LatentDirichletAllocation\n",
    "from sklearn.feature_extraction.text import CountVectorizer\n",
    "from sklearn.feature_extraction.text import HashingVectorizer\n",
    "from scipy.spatial.distance import cosine"
   ]
  },
  {
   "cell_type": "code",
   "execution_count": 2,
   "metadata": {},
   "outputs": [],
   "source": [
    "pd.set_option('display.max_colwidth', -1)"
   ]
  },
  {
   "cell_type": "code",
   "execution_count": 3,
   "metadata": {},
   "outputs": [],
   "source": [
    "%run model_functions.ipynb"
   ]
  },
  {
   "cell_type": "code",
   "execution_count": 4,
   "metadata": {},
   "outputs": [
    {
     "data": {
      "text/plain": [
       "48964"
      ]
     },
     "metadata": {},
     "output_type": "display_data"
    },
    {
     "data": {
      "text/html": [
       "<div>\n",
       "<style scoped>\n",
       "    .dataframe tbody tr th:only-of-type {\n",
       "        vertical-align: middle;\n",
       "    }\n",
       "\n",
       "    .dataframe tbody tr th {\n",
       "        vertical-align: top;\n",
       "    }\n",
       "\n",
       "    .dataframe thead th {\n",
       "        text-align: right;\n",
       "    }\n",
       "</style>\n",
       "<table border=\"1\" class=\"dataframe\">\n",
       "  <thead>\n",
       "    <tr style=\"text-align: right;\">\n",
       "      <th></th>\n",
       "      <th>word_id</th>\n",
       "      <th>word</th>\n",
       "      <th>lemma</th>\n",
       "      <th>word_type</th>\n",
       "      <th>function</th>\n",
       "      <th>seg_type</th>\n",
       "      <th>sentence_id</th>\n",
       "      <th>text_id</th>\n",
       "      <th>text_tag</th>\n",
       "      <th>genre</th>\n",
       "    </tr>\n",
       "  </thead>\n",
       "  <tbody>\n",
       "    <tr>\n",
       "      <th>0</th>\n",
       "      <td>25070</td>\n",
       "      <td>HER</td>\n",
       "      <td>she</td>\n",
       "      <td>DPS</td>\n",
       "      <td></td>\n",
       "      <td></td>\n",
       "      <td>1267</td>\n",
       "      <td>a6u-fragment02</td>\n",
       "      <td>a6u</td>\n",
       "      <td>academic</td>\n",
       "    </tr>\n",
       "    <tr>\n",
       "      <th>1</th>\n",
       "      <td>25071</td>\n",
       "      <td>DRESS</td>\n",
       "      <td>dress</td>\n",
       "      <td>NN1</td>\n",
       "      <td></td>\n",
       "      <td></td>\n",
       "      <td>1267</td>\n",
       "      <td>a6u-fragment02</td>\n",
       "      <td>a6u</td>\n",
       "      <td>academic</td>\n",
       "    </tr>\n",
       "    <tr>\n",
       "      <th>2</th>\n",
       "      <td>25072</td>\n",
       "      <td>HANGS</td>\n",
       "      <td>hang</td>\n",
       "      <td>VVZ</td>\n",
       "      <td></td>\n",
       "      <td></td>\n",
       "      <td>1267</td>\n",
       "      <td>a6u-fragment02</td>\n",
       "      <td>a6u</td>\n",
       "      <td>academic</td>\n",
       "    </tr>\n",
       "    <tr>\n",
       "      <th>3</th>\n",
       "      <td>25073</td>\n",
       "      <td>HERE'</td>\n",
       "      <td>here'</td>\n",
       "      <td>NP0</td>\n",
       "      <td></td>\n",
       "      <td></td>\n",
       "      <td>1267</td>\n",
       "      <td>a6u-fragment02</td>\n",
       "      <td>a6u</td>\n",
       "      <td>academic</td>\n",
       "    </tr>\n",
       "    <tr>\n",
       "      <th>4</th>\n",
       "      <td>25074</td>\n",
       "      <td>DE-FROCKING</td>\n",
       "      <td>de-frock</td>\n",
       "      <td>VVG</td>\n",
       "      <td>mrw</td>\n",
       "      <td>met</td>\n",
       "      <td>1267</td>\n",
       "      <td>a6u-fragment02</td>\n",
       "      <td>a6u</td>\n",
       "      <td>academic</td>\n",
       "    </tr>\n",
       "  </tbody>\n",
       "</table>\n",
       "</div>"
      ],
      "text/plain": [
       "   word_id         word     lemma word_type function seg_type  sentence_id  \\\n",
       "0  25070    HER          she       DPS                         1267          \n",
       "1  25071    DRESS        dress     NN1                         1267          \n",
       "2  25072    HANGS        hang      VVZ                         1267          \n",
       "3  25073    HERE'        here'     NP0                         1267          \n",
       "4  25074    DE-FROCKING  de-frock  VVG       mrw      met      1267          \n",
       "\n",
       "          text_id text_tag     genre  \n",
       "0  a6u-fragment02  a6u      academic  \n",
       "1  a6u-fragment02  a6u      academic  \n",
       "2  a6u-fragment02  a6u      academic  \n",
       "3  a6u-fragment02  a6u      academic  \n",
       "4  a6u-fragment02  a6u      academic  "
      ]
     },
     "execution_count": 4,
     "metadata": {},
     "output_type": "execute_result"
    }
   ],
   "source": [
    "genre = 'academic'\n",
    "all_words = pd.read_csv('data/train/{}/words.csv'.format(genre), na_filter=False)\n",
    "display(len(all_words))\n",
    "all_words.head()"
   ]
  },
  {
   "cell_type": "code",
   "execution_count": 5,
   "metadata": {},
   "outputs": [
    {
     "data": {
      "text/plain": [
       "(10, 2023)"
      ]
     },
     "execution_count": 5,
     "metadata": {},
     "output_type": "execute_result"
    }
   ],
   "source": [
    "all_words['text_id'].nunique(), all_words['sentence_id'].nunique()"
   ]
  },
  {
   "cell_type": "markdown",
   "metadata": {},
   "source": [
    "We have 10 texts and 2023 sentences. Let's try to find 2 unique topics per text!"
   ]
  },
  {
   "cell_type": "markdown",
   "metadata": {},
   "source": [
    "Let's also only consider content words, so we don't consider words like \"the\", \"and\", \"be\"."
   ]
  },
  {
   "cell_type": "code",
   "execution_count": 69,
   "metadata": {},
   "outputs": [
    {
     "data": {
      "text/plain": [
       "25360"
      ]
     },
     "metadata": {},
     "output_type": "display_data"
    },
    {
     "data": {
      "text/html": [
       "<div>\n",
       "<style scoped>\n",
       "    .dataframe tbody tr th:only-of-type {\n",
       "        vertical-align: middle;\n",
       "    }\n",
       "\n",
       "    .dataframe tbody tr th {\n",
       "        vertical-align: top;\n",
       "    }\n",
       "\n",
       "    .dataframe thead th {\n",
       "        text-align: right;\n",
       "    }\n",
       "</style>\n",
       "<table border=\"1\" class=\"dataframe\">\n",
       "  <thead>\n",
       "    <tr style=\"text-align: right;\">\n",
       "      <th></th>\n",
       "      <th>word_id</th>\n",
       "      <th>word</th>\n",
       "      <th>lemma</th>\n",
       "      <th>word_type</th>\n",
       "      <th>function</th>\n",
       "      <th>seg_type</th>\n",
       "      <th>sentence_id</th>\n",
       "      <th>text_id</th>\n",
       "      <th>text_tag</th>\n",
       "      <th>genre</th>\n",
       "    </tr>\n",
       "  </thead>\n",
       "  <tbody>\n",
       "    <tr>\n",
       "      <th>1</th>\n",
       "      <td>25071</td>\n",
       "      <td>DRESS</td>\n",
       "      <td>dress</td>\n",
       "      <td>NN1</td>\n",
       "      <td></td>\n",
       "      <td></td>\n",
       "      <td>1267</td>\n",
       "      <td>a6u-fragment02</td>\n",
       "      <td>a6u</td>\n",
       "      <td>academic</td>\n",
       "    </tr>\n",
       "    <tr>\n",
       "      <th>2</th>\n",
       "      <td>25072</td>\n",
       "      <td>HANGS</td>\n",
       "      <td>hang</td>\n",
       "      <td>VVZ</td>\n",
       "      <td></td>\n",
       "      <td></td>\n",
       "      <td>1267</td>\n",
       "      <td>a6u-fragment02</td>\n",
       "      <td>a6u</td>\n",
       "      <td>academic</td>\n",
       "    </tr>\n",
       "    <tr>\n",
       "      <th>3</th>\n",
       "      <td>25073</td>\n",
       "      <td>HERE'</td>\n",
       "      <td>here'</td>\n",
       "      <td>NP0</td>\n",
       "      <td></td>\n",
       "      <td></td>\n",
       "      <td>1267</td>\n",
       "      <td>a6u-fragment02</td>\n",
       "      <td>a6u</td>\n",
       "      <td>academic</td>\n",
       "    </tr>\n",
       "    <tr>\n",
       "      <th>4</th>\n",
       "      <td>25074</td>\n",
       "      <td>DE-FROCKING</td>\n",
       "      <td>de-frock</td>\n",
       "      <td>VVG</td>\n",
       "      <td>mrw</td>\n",
       "      <td>met</td>\n",
       "      <td>1267</td>\n",
       "      <td>a6u-fragment02</td>\n",
       "      <td>a6u</td>\n",
       "      <td>academic</td>\n",
       "    </tr>\n",
       "    <tr>\n",
       "      <th>6</th>\n",
       "      <td>25076</td>\n",
       "      <td>KAHLO</td>\n",
       "      <td>kahlo</td>\n",
       "      <td>NP0</td>\n",
       "      <td></td>\n",
       "      <td></td>\n",
       "      <td>1267</td>\n",
       "      <td>a6u-fragment02</td>\n",
       "      <td>a6u</td>\n",
       "      <td>academic</td>\n",
       "    </tr>\n",
       "  </tbody>\n",
       "</table>\n",
       "</div>"
      ],
      "text/plain": [
       "   word_id         word     lemma word_type function seg_type  sentence_id  \\\n",
       "1  25071    DRESS        dress     NN1                         1267          \n",
       "2  25072    HANGS        hang      VVZ                         1267          \n",
       "3  25073    HERE'        here'     NP0                         1267          \n",
       "4  25074    DE-FROCKING  de-frock  VVG       mrw      met      1267          \n",
       "6  25076    KAHLO        kahlo     NP0                         1267          \n",
       "\n",
       "          text_id text_tag     genre  \n",
       "1  a6u-fragment02  a6u      academic  \n",
       "2  a6u-fragment02  a6u      academic  \n",
       "3  a6u-fragment02  a6u      academic  \n",
       "4  a6u-fragment02  a6u      academic  \n",
       "6  a6u-fragment02  a6u      academic  "
      ]
     },
     "execution_count": 69,
     "metadata": {},
     "output_type": "execute_result"
    }
   ],
   "source": [
    "content_words = build_content_words(all_words)\n",
    "display(len(content_words))\n",
    "content_words.head()"
   ]
  },
  {
   "cell_type": "code",
   "execution_count": 84,
   "metadata": {},
   "outputs": [],
   "source": [
    "def get_topic_assignments(components, vocab):\n",
    "    n_top_words = 10\n",
    "    topic_words = {}\n",
    "    \n",
    "    for topic, component in enumerate(components):\n",
    "        # Argsort and reverse iterate to get vocab indices of top words for each topic. \n",
    "        top_word_ids = np.argsort(component)[::-1][:n_top_words]\n",
    "\n",
    "        # Store the words most relevant to the topic\n",
    "        topic_words[topic] = [vocab.iloc[i].name for i in top_word_ids]\n",
    "        \n",
    "    for topic, words in topic_words.items():\n",
    "        print('Topic: %d' % topic)\n",
    "        print('  %s' % ', '.join(words))"
   ]
  },
  {
   "cell_type": "code",
   "execution_count": 240,
   "metadata": {},
   "outputs": [],
   "source": [
    "# Turn lemmas of document to a document word matrix.\n",
    "def document_word_matrix(words, vocabulary):\n",
    "    indices = []\n",
    "    data = []\n",
    "    indptr = [0]\n",
    "    for i, word in words['lemma'].iteritems():\n",
    "        # Used to generate a row of 0's and 1's for sparse matrix\n",
    "        unique_unigram_indices = set()\n",
    "        # ID for an unknown word is == len(vocabulary).\n",
    "        if word not in vocabulary.index:\n",
    "            unique_unigram_indices.add(len(vocabulary))\n",
    "        else:\n",
    "            unique_unigram_indices.add(vocabulary.index.get_loc(word))\n",
    "\n",
    "        # Data = 1 at column index of sparse matrix = row index of word in vocabulary.\n",
    "        indices.extend(unique_unigram_indices)  # Indices of the data values in this row.\n",
    "        data.extend(np.ones(len(unique_unigram_indices), dtype=int))  # Data of all one's.\n",
    "        indptr.append(indptr[-1]+len(unique_unigram_indices))\n",
    "\n",
    "        if not i % 2000:\n",
    "            print('-', end='', flush=True)\n",
    "\n",
    "    return csr_matrix((data, indices, indptr), dtype=int, shape=(len(words), len(vocabulary)+1))"
   ]
  },
  {
   "cell_type": "markdown",
   "metadata": {},
   "source": [
    "Assumption: lemmatized content words -> better topics."
   ]
  },
  {
   "cell_type": "code",
   "execution_count": 241,
   "metadata": {},
   "outputs": [
    {
     "data": {
      "text/plain": [
       "25360"
      ]
     },
     "execution_count": 241,
     "metadata": {},
     "output_type": "execute_result"
    }
   ],
   "source": [
    "len(content_words)"
   ]
  },
  {
   "cell_type": "code",
   "execution_count": 242,
   "metadata": {
    "scrolled": true
   },
   "outputs": [
    {
     "data": {
      "text/plain": [
       "25029"
      ]
     },
     "metadata": {},
     "output_type": "display_data"
    },
    {
     "data": {
      "text/html": [
       "<div>\n",
       "<style scoped>\n",
       "    .dataframe tbody tr th:only-of-type {\n",
       "        vertical-align: middle;\n",
       "    }\n",
       "\n",
       "    .dataframe tbody tr th {\n",
       "        vertical-align: top;\n",
       "    }\n",
       "\n",
       "    .dataframe thead th {\n",
       "        text-align: right;\n",
       "    }\n",
       "</style>\n",
       "<table border=\"1\" class=\"dataframe\">\n",
       "  <thead>\n",
       "    <tr style=\"text-align: right;\">\n",
       "      <th></th>\n",
       "      <th>word_id</th>\n",
       "      <th>word</th>\n",
       "      <th>lemma</th>\n",
       "      <th>word_type</th>\n",
       "      <th>function</th>\n",
       "      <th>seg_type</th>\n",
       "      <th>sentence_id</th>\n",
       "      <th>text_id</th>\n",
       "      <th>text_tag</th>\n",
       "      <th>genre</th>\n",
       "      <th>paragraph_id</th>\n",
       "    </tr>\n",
       "  </thead>\n",
       "  <tbody>\n",
       "    <tr>\n",
       "      <th>0</th>\n",
       "      <td>25083</td>\n",
       "      <td>witnessed</td>\n",
       "      <td>witness</td>\n",
       "      <td>VVN</td>\n",
       "      <td>mrw</td>\n",
       "      <td>met</td>\n",
       "      <td>1269</td>\n",
       "      <td>a6u-fragment02</td>\n",
       "      <td>a6u</td>\n",
       "      <td>academic</td>\n",
       "      <td>412</td>\n",
       "    </tr>\n",
       "    <tr>\n",
       "      <th>1</th>\n",
       "      <td>25085</td>\n",
       "      <td>shift</td>\n",
       "      <td>shift</td>\n",
       "      <td>NN1-VVB</td>\n",
       "      <td></td>\n",
       "      <td></td>\n",
       "      <td>1269</td>\n",
       "      <td>a6u-fragment02</td>\n",
       "      <td>a6u</td>\n",
       "      <td>academic</td>\n",
       "      <td>412</td>\n",
       "    </tr>\n",
       "    <tr>\n",
       "      <th>2</th>\n",
       "      <td>25088</td>\n",
       "      <td>art</td>\n",
       "      <td>art</td>\n",
       "      <td>NN1</td>\n",
       "      <td></td>\n",
       "      <td></td>\n",
       "      <td>1269</td>\n",
       "      <td>a6u-fragment02</td>\n",
       "      <td>a6u</td>\n",
       "      <td>academic</td>\n",
       "      <td>412</td>\n",
       "    </tr>\n",
       "    <tr>\n",
       "      <th>3</th>\n",
       "      <td>25089</td>\n",
       "      <td>establishment</td>\n",
       "      <td>establishment</td>\n",
       "      <td>NN1</td>\n",
       "      <td></td>\n",
       "      <td></td>\n",
       "      <td>1269</td>\n",
       "      <td>a6u-fragment02</td>\n",
       "      <td>a6u</td>\n",
       "      <td>academic</td>\n",
       "      <td>412</td>\n",
       "    </tr>\n",
       "    <tr>\n",
       "      <th>4</th>\n",
       "      <td>25090</td>\n",
       "      <td>attitudes</td>\n",
       "      <td>attitude</td>\n",
       "      <td>NN2</td>\n",
       "      <td>mrw</td>\n",
       "      <td>met</td>\n",
       "      <td>1269</td>\n",
       "      <td>a6u-fragment02</td>\n",
       "      <td>a6u</td>\n",
       "      <td>academic</td>\n",
       "      <td>412</td>\n",
       "    </tr>\n",
       "  </tbody>\n",
       "</table>\n",
       "</div>"
      ],
      "text/plain": [
       "   word_id           word          lemma word_type function seg_type  \\\n",
       "0  25083    witnessed      witness        VVN       mrw      met       \n",
       "1  25085    shift          shift          NN1-VVB                      \n",
       "2  25088    art            art            NN1                          \n",
       "3  25089    establishment  establishment  NN1                          \n",
       "4  25090    attitudes      attitude       NN2       mrw      met       \n",
       "\n",
       "   sentence_id         text_id text_tag     genre  paragraph_id  \n",
       "0  1269         a6u-fragment02  a6u      academic  412           \n",
       "1  1269         a6u-fragment02  a6u      academic  412           \n",
       "2  1269         a6u-fragment02  a6u      academic  412           \n",
       "3  1269         a6u-fragment02  a6u      academic  412           \n",
       "4  1269         a6u-fragment02  a6u      academic  412           "
      ]
     },
     "execution_count": 242,
     "metadata": {},
     "output_type": "execute_result"
    }
   ],
   "source": [
    "sentences = pd.read_csv('data/raw/sentences.csv', encoding='ISO-8859-1')[['sentence_id', 'paragraph_id']]\n",
    "dataset = (\n",
    "    content_words\n",
    "     .merge(sentences)\n",
    "     .merge(pd.Series(build_paragraphs(content_words).index))\n",
    ")\n",
    "display(len(dataset))\n",
    "dataset.head()  # The words that belong to paragraphs."
   ]
  },
  {
   "cell_type": "code",
   "execution_count": null,
   "metadata": {
    "scrolled": true
   },
   "outputs": [
    {
     "name": "stdout",
     "output_type": "stream",
     "text": [
      "-------------(25029, 5399) 25029 5398\n"
     ]
    },
    {
     "name": "stderr",
     "output_type": "stream",
     "text": [
      "[Parallel(n_jobs=4)]: Using backend LokyBackend with 4 concurrent workers.\n",
      "[Parallel(n_jobs=4)]: Done   2 out of   4 | elapsed:    1.1s remaining:    1.1s\n",
      "[Parallel(n_jobs=4)]: Done   4 out of   4 | elapsed:    1.2s remaining:    0.0s\n",
      "[Parallel(n_jobs=4)]: Done   4 out of   4 | elapsed:    1.2s finished\n",
      "[Parallel(n_jobs=4)]: Using backend LokyBackend with 4 concurrent workers.\n"
     ]
    },
    {
     "name": "stdout",
     "output_type": "stream",
     "text": [
      "iteration: 1 of max_iter: 2000\n"
     ]
    },
    {
     "name": "stderr",
     "output_type": "stream",
     "text": [
      "[Parallel(n_jobs=4)]: Done   2 out of   4 | elapsed:    0.8s remaining:    0.8s\n",
      "[Parallel(n_jobs=4)]: Done   4 out of   4 | elapsed:    0.8s remaining:    0.0s\n",
      "[Parallel(n_jobs=4)]: Done   4 out of   4 | elapsed:    0.8s finished\n",
      "[Parallel(n_jobs=4)]: Using backend LokyBackend with 4 concurrent workers.\n"
     ]
    },
    {
     "name": "stdout",
     "output_type": "stream",
     "text": [
      "iteration: 2 of max_iter: 2000\n"
     ]
    },
    {
     "name": "stderr",
     "output_type": "stream",
     "text": [
      "[Parallel(n_jobs=4)]: Done   2 out of   4 | elapsed:    0.6s remaining:    0.6s\n",
      "[Parallel(n_jobs=4)]: Done   4 out of   4 | elapsed:    0.8s remaining:    0.0s\n",
      "[Parallel(n_jobs=4)]: Done   4 out of   4 | elapsed:    0.8s finished\n"
     ]
    },
    {
     "name": "stdout",
     "output_type": "stream",
     "text": [
      "iteration: 3 of max_iter: 2000\n"
     ]
    },
    {
     "name": "stderr",
     "output_type": "stream",
     "text": [
      "[Parallel(n_jobs=4)]: Using backend LokyBackend with 4 concurrent workers.\n",
      "[Parallel(n_jobs=4)]: Done   2 out of   4 | elapsed:    0.7s remaining:    0.7s\n",
      "[Parallel(n_jobs=4)]: Done   4 out of   4 | elapsed:    0.7s remaining:    0.0s\n",
      "[Parallel(n_jobs=4)]: Done   4 out of   4 | elapsed:    0.7s finished\n",
      "[Parallel(n_jobs=4)]: Using backend LokyBackend with 4 concurrent workers.\n"
     ]
    },
    {
     "name": "stdout",
     "output_type": "stream",
     "text": [
      "iteration: 4 of max_iter: 2000\n"
     ]
    },
    {
     "name": "stderr",
     "output_type": "stream",
     "text": [
      "[Parallel(n_jobs=4)]: Done   2 out of   4 | elapsed:    0.5s remaining:    0.5s\n",
      "[Parallel(n_jobs=4)]: Done   4 out of   4 | elapsed:    0.5s remaining:    0.0s\n",
      "[Parallel(n_jobs=4)]: Done   4 out of   4 | elapsed:    0.5s finished\n",
      "[Parallel(n_jobs=4)]: Using backend LokyBackend with 4 concurrent workers.\n"
     ]
    },
    {
     "name": "stdout",
     "output_type": "stream",
     "text": [
      "iteration: 5 of max_iter: 2000\n"
     ]
    },
    {
     "name": "stderr",
     "output_type": "stream",
     "text": [
      "[Parallel(n_jobs=4)]: Done   2 out of   4 | elapsed:    0.5s remaining:    0.5s\n",
      "[Parallel(n_jobs=4)]: Done   4 out of   4 | elapsed:    0.5s remaining:    0.0s\n",
      "[Parallel(n_jobs=4)]: Done   4 out of   4 | elapsed:    0.5s finished\n",
      "[Parallel(n_jobs=4)]: Using backend LokyBackend with 4 concurrent workers.\n"
     ]
    },
    {
     "name": "stdout",
     "output_type": "stream",
     "text": [
      "iteration: 6 of max_iter: 2000\n"
     ]
    },
    {
     "name": "stderr",
     "output_type": "stream",
     "text": [
      "[Parallel(n_jobs=4)]: Done   2 out of   4 | elapsed:    0.5s remaining:    0.5s\n",
      "[Parallel(n_jobs=4)]: Done   4 out of   4 | elapsed:    0.5s remaining:    0.0s\n",
      "[Parallel(n_jobs=4)]: Done   4 out of   4 | elapsed:    0.5s finished\n",
      "[Parallel(n_jobs=4)]: Using backend LokyBackend with 4 concurrent workers.\n"
     ]
    },
    {
     "name": "stdout",
     "output_type": "stream",
     "text": [
      "iteration: 7 of max_iter: 2000\n"
     ]
    },
    {
     "name": "stderr",
     "output_type": "stream",
     "text": [
      "[Parallel(n_jobs=4)]: Done   2 out of   4 | elapsed:    0.8s remaining:    0.8s\n",
      "[Parallel(n_jobs=4)]: Done   4 out of   4 | elapsed:    0.8s remaining:    0.0s\n",
      "[Parallel(n_jobs=4)]: Done   4 out of   4 | elapsed:    0.8s finished\n",
      "[Parallel(n_jobs=4)]: Using backend LokyBackend with 4 concurrent workers.\n"
     ]
    },
    {
     "name": "stdout",
     "output_type": "stream",
     "text": [
      "iteration: 8 of max_iter: 2000\n"
     ]
    },
    {
     "name": "stderr",
     "output_type": "stream",
     "text": [
      "[Parallel(n_jobs=4)]: Done   2 out of   4 | elapsed:    0.8s remaining:    0.8s\n",
      "[Parallel(n_jobs=4)]: Done   4 out of   4 | elapsed:    0.9s remaining:    0.0s\n",
      "[Parallel(n_jobs=4)]: Done   4 out of   4 | elapsed:    0.9s finished\n",
      "[Parallel(n_jobs=4)]: Using backend LokyBackend with 4 concurrent workers.\n"
     ]
    },
    {
     "name": "stdout",
     "output_type": "stream",
     "text": [
      "iteration: 9 of max_iter: 2000\n"
     ]
    },
    {
     "name": "stderr",
     "output_type": "stream",
     "text": [
      "[Parallel(n_jobs=4)]: Done   2 out of   4 | elapsed:    0.5s remaining:    0.5s\n",
      "[Parallel(n_jobs=4)]: Done   4 out of   4 | elapsed:    0.5s remaining:    0.0s\n",
      "[Parallel(n_jobs=4)]: Done   4 out of   4 | elapsed:    0.5s finished\n",
      "[Parallel(n_jobs=4)]: Using backend LokyBackend with 4 concurrent workers.\n"
     ]
    },
    {
     "name": "stdout",
     "output_type": "stream",
     "text": [
      "iteration: 10 of max_iter: 2000\n"
     ]
    },
    {
     "name": "stderr",
     "output_type": "stream",
     "text": [
      "[Parallel(n_jobs=4)]: Done   2 out of   4 | elapsed:    0.9s remaining:    0.9s\n",
      "[Parallel(n_jobs=4)]: Done   4 out of   4 | elapsed:    0.9s remaining:    0.0s\n",
      "[Parallel(n_jobs=4)]: Done   4 out of   4 | elapsed:    0.9s finished\n",
      "[Parallel(n_jobs=4)]: Using backend LokyBackend with 4 concurrent workers.\n"
     ]
    },
    {
     "name": "stdout",
     "output_type": "stream",
     "text": [
      "iteration: 11 of max_iter: 2000\n"
     ]
    },
    {
     "name": "stderr",
     "output_type": "stream",
     "text": [
      "[Parallel(n_jobs=4)]: Done   2 out of   4 | elapsed:    0.5s remaining:    0.5s\n",
      "[Parallel(n_jobs=4)]: Done   4 out of   4 | elapsed:    0.5s remaining:    0.0s\n",
      "[Parallel(n_jobs=4)]: Done   4 out of   4 | elapsed:    0.5s finished\n",
      "[Parallel(n_jobs=4)]: Using backend LokyBackend with 4 concurrent workers.\n"
     ]
    },
    {
     "name": "stdout",
     "output_type": "stream",
     "text": [
      "iteration: 12 of max_iter: 2000\n"
     ]
    },
    {
     "name": "stderr",
     "output_type": "stream",
     "text": [
      "[Parallel(n_jobs=4)]: Done   2 out of   4 | elapsed:    0.4s remaining:    0.4s\n",
      "[Parallel(n_jobs=4)]: Done   4 out of   4 | elapsed:    0.5s remaining:    0.0s\n",
      "[Parallel(n_jobs=4)]: Done   4 out of   4 | elapsed:    0.5s finished\n",
      "[Parallel(n_jobs=4)]: Using backend LokyBackend with 4 concurrent workers.\n"
     ]
    },
    {
     "name": "stdout",
     "output_type": "stream",
     "text": [
      "iteration: 13 of max_iter: 2000\n"
     ]
    },
    {
     "name": "stderr",
     "output_type": "stream",
     "text": [
      "[Parallel(n_jobs=4)]: Done   2 out of   4 | elapsed:    0.4s remaining:    0.4s\n",
      "[Parallel(n_jobs=4)]: Done   4 out of   4 | elapsed:    0.5s remaining:    0.0s\n",
      "[Parallel(n_jobs=4)]: Done   4 out of   4 | elapsed:    0.5s finished\n",
      "[Parallel(n_jobs=4)]: Using backend LokyBackend with 4 concurrent workers.\n"
     ]
    },
    {
     "name": "stdout",
     "output_type": "stream",
     "text": [
      "iteration: 14 of max_iter: 2000\n"
     ]
    },
    {
     "name": "stderr",
     "output_type": "stream",
     "text": [
      "[Parallel(n_jobs=4)]: Done   2 out of   4 | elapsed:    0.5s remaining:    0.5s\n",
      "[Parallel(n_jobs=4)]: Done   4 out of   4 | elapsed:    0.5s remaining:    0.0s\n",
      "[Parallel(n_jobs=4)]: Done   4 out of   4 | elapsed:    0.5s finished\n",
      "[Parallel(n_jobs=4)]: Using backend LokyBackend with 4 concurrent workers.\n"
     ]
    },
    {
     "name": "stdout",
     "output_type": "stream",
     "text": [
      "iteration: 15 of max_iter: 2000\n"
     ]
    },
    {
     "name": "stderr",
     "output_type": "stream",
     "text": [
      "[Parallel(n_jobs=4)]: Done   2 out of   4 | elapsed:    0.4s remaining:    0.4s\n",
      "[Parallel(n_jobs=4)]: Done   4 out of   4 | elapsed:    0.5s remaining:    0.0s\n",
      "[Parallel(n_jobs=4)]: Done   4 out of   4 | elapsed:    0.5s finished\n",
      "[Parallel(n_jobs=4)]: Using backend LokyBackend with 4 concurrent workers.\n"
     ]
    },
    {
     "name": "stdout",
     "output_type": "stream",
     "text": [
      "iteration: 16 of max_iter: 2000\n"
     ]
    },
    {
     "name": "stderr",
     "output_type": "stream",
     "text": [
      "[Parallel(n_jobs=4)]: Done   2 out of   4 | elapsed:    0.5s remaining:    0.5s\n",
      "[Parallel(n_jobs=4)]: Done   4 out of   4 | elapsed:    0.5s remaining:    0.0s\n",
      "[Parallel(n_jobs=4)]: Done   4 out of   4 | elapsed:    0.5s finished\n",
      "[Parallel(n_jobs=4)]: Using backend LokyBackend with 4 concurrent workers.\n"
     ]
    },
    {
     "name": "stdout",
     "output_type": "stream",
     "text": [
      "iteration: 17 of max_iter: 2000\n"
     ]
    },
    {
     "name": "stderr",
     "output_type": "stream",
     "text": [
      "[Parallel(n_jobs=4)]: Done   2 out of   4 | elapsed:    0.4s remaining:    0.4s\n",
      "[Parallel(n_jobs=4)]: Done   4 out of   4 | elapsed:    0.5s remaining:    0.0s\n",
      "[Parallel(n_jobs=4)]: Done   4 out of   4 | elapsed:    0.5s finished\n",
      "[Parallel(n_jobs=4)]: Using backend LokyBackend with 4 concurrent workers.\n"
     ]
    },
    {
     "name": "stdout",
     "output_type": "stream",
     "text": [
      "iteration: 18 of max_iter: 2000\n"
     ]
    },
    {
     "name": "stderr",
     "output_type": "stream",
     "text": [
      "[Parallel(n_jobs=4)]: Done   2 out of   4 | elapsed:    0.5s remaining:    0.5s\n",
      "[Parallel(n_jobs=4)]: Done   4 out of   4 | elapsed:    0.5s remaining:    0.0s\n",
      "[Parallel(n_jobs=4)]: Done   4 out of   4 | elapsed:    0.5s finished\n",
      "[Parallel(n_jobs=4)]: Using backend LokyBackend with 4 concurrent workers.\n"
     ]
    },
    {
     "name": "stdout",
     "output_type": "stream",
     "text": [
      "iteration: 19 of max_iter: 2000\n"
     ]
    },
    {
     "name": "stderr",
     "output_type": "stream",
     "text": [
      "[Parallel(n_jobs=4)]: Done   2 out of   4 | elapsed:    0.5s remaining:    0.5s\n",
      "[Parallel(n_jobs=4)]: Done   4 out of   4 | elapsed:    0.5s remaining:    0.0s\n",
      "[Parallel(n_jobs=4)]: Done   4 out of   4 | elapsed:    0.5s finished\n",
      "[Parallel(n_jobs=4)]: Using backend LokyBackend with 4 concurrent workers.\n"
     ]
    },
    {
     "name": "stdout",
     "output_type": "stream",
     "text": [
      "iteration: 20 of max_iter: 2000\n"
     ]
    },
    {
     "name": "stderr",
     "output_type": "stream",
     "text": [
      "[Parallel(n_jobs=4)]: Done   2 out of   4 | elapsed:    0.4s remaining:    0.4s\n",
      "[Parallel(n_jobs=4)]: Done   4 out of   4 | elapsed:    0.5s remaining:    0.0s\n",
      "[Parallel(n_jobs=4)]: Done   4 out of   4 | elapsed:    0.5s finished\n",
      "[Parallel(n_jobs=4)]: Using backend LokyBackend with 4 concurrent workers.\n"
     ]
    },
    {
     "name": "stdout",
     "output_type": "stream",
     "text": [
      "iteration: 21 of max_iter: 2000\n"
     ]
    },
    {
     "name": "stderr",
     "output_type": "stream",
     "text": [
      "[Parallel(n_jobs=4)]: Done   2 out of   4 | elapsed:    0.5s remaining:    0.5s\n",
      "[Parallel(n_jobs=4)]: Done   4 out of   4 | elapsed:    0.5s remaining:    0.0s\n",
      "[Parallel(n_jobs=4)]: Done   4 out of   4 | elapsed:    0.5s finished\n",
      "[Parallel(n_jobs=4)]: Using backend LokyBackend with 4 concurrent workers.\n"
     ]
    },
    {
     "name": "stdout",
     "output_type": "stream",
     "text": [
      "iteration: 22 of max_iter: 2000\n"
     ]
    },
    {
     "name": "stderr",
     "output_type": "stream",
     "text": [
      "[Parallel(n_jobs=4)]: Done   2 out of   4 | elapsed:    0.4s remaining:    0.4s\n",
      "[Parallel(n_jobs=4)]: Done   4 out of   4 | elapsed:    0.5s remaining:    0.0s\n",
      "[Parallel(n_jobs=4)]: Done   4 out of   4 | elapsed:    0.5s finished\n",
      "[Parallel(n_jobs=4)]: Using backend LokyBackend with 4 concurrent workers.\n"
     ]
    },
    {
     "name": "stdout",
     "output_type": "stream",
     "text": [
      "iteration: 23 of max_iter: 2000\n"
     ]
    },
    {
     "name": "stderr",
     "output_type": "stream",
     "text": [
      "[Parallel(n_jobs=4)]: Done   2 out of   4 | elapsed:    0.5s remaining:    0.5s\n",
      "[Parallel(n_jobs=4)]: Done   4 out of   4 | elapsed:    0.5s remaining:    0.0s\n",
      "[Parallel(n_jobs=4)]: Done   4 out of   4 | elapsed:    0.5s finished\n",
      "[Parallel(n_jobs=4)]: Using backend LokyBackend with 4 concurrent workers.\n"
     ]
    },
    {
     "name": "stdout",
     "output_type": "stream",
     "text": [
      "iteration: 24 of max_iter: 2000\n"
     ]
    },
    {
     "name": "stderr",
     "output_type": "stream",
     "text": [
      "[Parallel(n_jobs=4)]: Done   2 out of   4 | elapsed:    0.4s remaining:    0.4s\n",
      "[Parallel(n_jobs=4)]: Done   4 out of   4 | elapsed:    0.5s remaining:    0.0s\n",
      "[Parallel(n_jobs=4)]: Done   4 out of   4 | elapsed:    0.5s finished\n",
      "[Parallel(n_jobs=4)]: Using backend LokyBackend with 4 concurrent workers.\n"
     ]
    },
    {
     "name": "stdout",
     "output_type": "stream",
     "text": [
      "iteration: 25 of max_iter: 2000\n"
     ]
    },
    {
     "name": "stderr",
     "output_type": "stream",
     "text": [
      "[Parallel(n_jobs=4)]: Done   2 out of   4 | elapsed:    0.5s remaining:    0.5s\n",
      "[Parallel(n_jobs=4)]: Done   4 out of   4 | elapsed:    0.5s remaining:    0.0s\n",
      "[Parallel(n_jobs=4)]: Done   4 out of   4 | elapsed:    0.5s finished\n",
      "[Parallel(n_jobs=4)]: Using backend LokyBackend with 4 concurrent workers.\n"
     ]
    },
    {
     "name": "stdout",
     "output_type": "stream",
     "text": [
      "iteration: 26 of max_iter: 2000\n"
     ]
    },
    {
     "name": "stderr",
     "output_type": "stream",
     "text": [
      "[Parallel(n_jobs=4)]: Done   2 out of   4 | elapsed:    0.5s remaining:    0.5s\n",
      "[Parallel(n_jobs=4)]: Done   4 out of   4 | elapsed:    0.5s remaining:    0.0s\n",
      "[Parallel(n_jobs=4)]: Done   4 out of   4 | elapsed:    0.5s finished\n",
      "[Parallel(n_jobs=4)]: Using backend LokyBackend with 4 concurrent workers.\n"
     ]
    },
    {
     "name": "stdout",
     "output_type": "stream",
     "text": [
      "iteration: 27 of max_iter: 2000\n"
     ]
    },
    {
     "name": "stderr",
     "output_type": "stream",
     "text": [
      "[Parallel(n_jobs=4)]: Done   2 out of   4 | elapsed:    0.4s remaining:    0.4s\n",
      "[Parallel(n_jobs=4)]: Done   4 out of   4 | elapsed:    0.5s remaining:    0.0s\n",
      "[Parallel(n_jobs=4)]: Done   4 out of   4 | elapsed:    0.5s finished\n",
      "[Parallel(n_jobs=4)]: Using backend LokyBackend with 4 concurrent workers.\n"
     ]
    },
    {
     "name": "stdout",
     "output_type": "stream",
     "text": [
      "iteration: 28 of max_iter: 2000\n"
     ]
    },
    {
     "name": "stderr",
     "output_type": "stream",
     "text": [
      "[Parallel(n_jobs=4)]: Done   2 out of   4 | elapsed:    0.5s remaining:    0.5s\n",
      "[Parallel(n_jobs=4)]: Done   4 out of   4 | elapsed:    0.5s remaining:    0.0s\n",
      "[Parallel(n_jobs=4)]: Done   4 out of   4 | elapsed:    0.5s finished\n",
      "[Parallel(n_jobs=4)]: Using backend LokyBackend with 4 concurrent workers.\n"
     ]
    },
    {
     "name": "stdout",
     "output_type": "stream",
     "text": [
      "iteration: 29 of max_iter: 2000\n"
     ]
    },
    {
     "name": "stderr",
     "output_type": "stream",
     "text": [
      "[Parallel(n_jobs=4)]: Done   2 out of   4 | elapsed:    0.4s remaining:    0.4s\n",
      "[Parallel(n_jobs=4)]: Done   4 out of   4 | elapsed:    0.5s remaining:    0.0s\n",
      "[Parallel(n_jobs=4)]: Done   4 out of   4 | elapsed:    0.5s finished\n",
      "[Parallel(n_jobs=4)]: Using backend LokyBackend with 4 concurrent workers.\n"
     ]
    },
    {
     "name": "stdout",
     "output_type": "stream",
     "text": [
      "iteration: 30 of max_iter: 2000\n"
     ]
    },
    {
     "name": "stderr",
     "output_type": "stream",
     "text": [
      "[Parallel(n_jobs=4)]: Done   2 out of   4 | elapsed:    0.4s remaining:    0.4s\n",
      "[Parallel(n_jobs=4)]: Done   4 out of   4 | elapsed:    0.5s remaining:    0.0s\n",
      "[Parallel(n_jobs=4)]: Done   4 out of   4 | elapsed:    0.5s finished\n",
      "[Parallel(n_jobs=4)]: Using backend LokyBackend with 4 concurrent workers.\n"
     ]
    },
    {
     "name": "stdout",
     "output_type": "stream",
     "text": [
      "iteration: 31 of max_iter: 2000\n"
     ]
    },
    {
     "name": "stderr",
     "output_type": "stream",
     "text": [
      "[Parallel(n_jobs=4)]: Done   2 out of   4 | elapsed:    0.4s remaining:    0.4s\n",
      "[Parallel(n_jobs=4)]: Done   4 out of   4 | elapsed:    0.5s remaining:    0.0s\n",
      "[Parallel(n_jobs=4)]: Done   4 out of   4 | elapsed:    0.5s finished\n",
      "[Parallel(n_jobs=4)]: Using backend LokyBackend with 4 concurrent workers.\n"
     ]
    },
    {
     "name": "stdout",
     "output_type": "stream",
     "text": [
      "iteration: 32 of max_iter: 2000\n"
     ]
    },
    {
     "name": "stderr",
     "output_type": "stream",
     "text": [
      "[Parallel(n_jobs=4)]: Done   2 out of   4 | elapsed:    0.4s remaining:    0.4s\n",
      "[Parallel(n_jobs=4)]: Done   4 out of   4 | elapsed:    0.4s remaining:    0.0s\n",
      "[Parallel(n_jobs=4)]: Done   4 out of   4 | elapsed:    0.5s finished\n",
      "[Parallel(n_jobs=4)]: Using backend LokyBackend with 4 concurrent workers.\n"
     ]
    },
    {
     "name": "stdout",
     "output_type": "stream",
     "text": [
      "iteration: 33 of max_iter: 2000\n"
     ]
    },
    {
     "name": "stderr",
     "output_type": "stream",
     "text": [
      "[Parallel(n_jobs=4)]: Done   2 out of   4 | elapsed:    0.5s remaining:    0.5s\n",
      "[Parallel(n_jobs=4)]: Done   4 out of   4 | elapsed:    0.5s remaining:    0.0s\n",
      "[Parallel(n_jobs=4)]: Done   4 out of   4 | elapsed:    0.5s finished\n",
      "[Parallel(n_jobs=4)]: Using backend LokyBackend with 4 concurrent workers.\n"
     ]
    },
    {
     "name": "stdout",
     "output_type": "stream",
     "text": [
      "iteration: 34 of max_iter: 2000\n"
     ]
    },
    {
     "name": "stderr",
     "output_type": "stream",
     "text": [
      "[Parallel(n_jobs=4)]: Done   2 out of   4 | elapsed:    0.4s remaining:    0.4s\n",
      "[Parallel(n_jobs=4)]: Done   4 out of   4 | elapsed:    0.4s remaining:    0.0s\n",
      "[Parallel(n_jobs=4)]: Done   4 out of   4 | elapsed:    0.4s finished\n",
      "[Parallel(n_jobs=4)]: Using backend LokyBackend with 4 concurrent workers.\n"
     ]
    },
    {
     "name": "stdout",
     "output_type": "stream",
     "text": [
      "iteration: 35 of max_iter: 2000\n"
     ]
    },
    {
     "name": "stderr",
     "output_type": "stream",
     "text": [
      "[Parallel(n_jobs=4)]: Done   2 out of   4 | elapsed:    0.5s remaining:    0.5s\n",
      "[Parallel(n_jobs=4)]: Done   4 out of   4 | elapsed:    0.5s remaining:    0.0s\n",
      "[Parallel(n_jobs=4)]: Done   4 out of   4 | elapsed:    0.5s finished\n",
      "[Parallel(n_jobs=4)]: Using backend LokyBackend with 4 concurrent workers.\n"
     ]
    },
    {
     "name": "stdout",
     "output_type": "stream",
     "text": [
      "iteration: 36 of max_iter: 2000\n"
     ]
    },
    {
     "name": "stderr",
     "output_type": "stream",
     "text": [
      "[Parallel(n_jobs=4)]: Done   2 out of   4 | elapsed:    0.4s remaining:    0.4s\n",
      "[Parallel(n_jobs=4)]: Done   4 out of   4 | elapsed:    0.5s remaining:    0.0s\n",
      "[Parallel(n_jobs=4)]: Done   4 out of   4 | elapsed:    0.5s finished\n",
      "[Parallel(n_jobs=4)]: Using backend LokyBackend with 4 concurrent workers.\n"
     ]
    },
    {
     "name": "stdout",
     "output_type": "stream",
     "text": [
      "iteration: 37 of max_iter: 2000\n"
     ]
    },
    {
     "name": "stderr",
     "output_type": "stream",
     "text": [
      "[Parallel(n_jobs=4)]: Done   2 out of   4 | elapsed:    0.5s remaining:    0.5s\n",
      "[Parallel(n_jobs=4)]: Done   4 out of   4 | elapsed:    0.5s remaining:    0.0s\n",
      "[Parallel(n_jobs=4)]: Done   4 out of   4 | elapsed:    0.5s finished\n",
      "[Parallel(n_jobs=4)]: Using backend LokyBackend with 4 concurrent workers.\n"
     ]
    },
    {
     "name": "stdout",
     "output_type": "stream",
     "text": [
      "iteration: 38 of max_iter: 2000\n"
     ]
    },
    {
     "name": "stderr",
     "output_type": "stream",
     "text": [
      "[Parallel(n_jobs=4)]: Done   2 out of   4 | elapsed:    0.4s remaining:    0.4s\n",
      "[Parallel(n_jobs=4)]: Done   4 out of   4 | elapsed:    0.5s remaining:    0.0s\n",
      "[Parallel(n_jobs=4)]: Done   4 out of   4 | elapsed:    0.5s finished\n",
      "[Parallel(n_jobs=4)]: Using backend LokyBackend with 4 concurrent workers.\n"
     ]
    },
    {
     "name": "stdout",
     "output_type": "stream",
     "text": [
      "iteration: 39 of max_iter: 2000\n"
     ]
    },
    {
     "name": "stderr",
     "output_type": "stream",
     "text": [
      "[Parallel(n_jobs=4)]: Done   2 out of   4 | elapsed:    0.4s remaining:    0.4s\n",
      "[Parallel(n_jobs=4)]: Done   4 out of   4 | elapsed:    0.5s remaining:    0.0s\n",
      "[Parallel(n_jobs=4)]: Done   4 out of   4 | elapsed:    0.5s finished\n",
      "[Parallel(n_jobs=4)]: Using backend LokyBackend with 4 concurrent workers.\n"
     ]
    },
    {
     "name": "stdout",
     "output_type": "stream",
     "text": [
      "iteration: 40 of max_iter: 2000\n"
     ]
    },
    {
     "name": "stderr",
     "output_type": "stream",
     "text": [
      "[Parallel(n_jobs=4)]: Done   2 out of   4 | elapsed:    0.5s remaining:    0.5s\n",
      "[Parallel(n_jobs=4)]: Done   4 out of   4 | elapsed:    0.5s remaining:    0.0s\n",
      "[Parallel(n_jobs=4)]: Done   4 out of   4 | elapsed:    0.5s finished\n",
      "[Parallel(n_jobs=4)]: Using backend LokyBackend with 4 concurrent workers.\n"
     ]
    },
    {
     "name": "stdout",
     "output_type": "stream",
     "text": [
      "iteration: 41 of max_iter: 2000\n"
     ]
    },
    {
     "name": "stderr",
     "output_type": "stream",
     "text": [
      "[Parallel(n_jobs=4)]: Done   2 out of   4 | elapsed:    0.4s remaining:    0.4s\n",
      "[Parallel(n_jobs=4)]: Done   4 out of   4 | elapsed:    0.5s remaining:    0.0s\n",
      "[Parallel(n_jobs=4)]: Done   4 out of   4 | elapsed:    0.5s finished\n",
      "[Parallel(n_jobs=4)]: Using backend LokyBackend with 4 concurrent workers.\n"
     ]
    },
    {
     "name": "stdout",
     "output_type": "stream",
     "text": [
      "iteration: 42 of max_iter: 2000\n"
     ]
    },
    {
     "name": "stderr",
     "output_type": "stream",
     "text": [
      "[Parallel(n_jobs=4)]: Done   2 out of   4 | elapsed:    0.5s remaining:    0.5s\n",
      "[Parallel(n_jobs=4)]: Done   4 out of   4 | elapsed:    0.5s remaining:    0.0s\n",
      "[Parallel(n_jobs=4)]: Done   4 out of   4 | elapsed:    0.5s finished\n",
      "[Parallel(n_jobs=4)]: Using backend LokyBackend with 4 concurrent workers.\n"
     ]
    },
    {
     "name": "stdout",
     "output_type": "stream",
     "text": [
      "iteration: 43 of max_iter: 2000\n"
     ]
    },
    {
     "name": "stderr",
     "output_type": "stream",
     "text": [
      "[Parallel(n_jobs=4)]: Done   2 out of   4 | elapsed:    0.4s remaining:    0.4s\n",
      "[Parallel(n_jobs=4)]: Done   4 out of   4 | elapsed:    0.5s remaining:    0.0s\n",
      "[Parallel(n_jobs=4)]: Done   4 out of   4 | elapsed:    0.5s finished\n",
      "[Parallel(n_jobs=4)]: Using backend LokyBackend with 4 concurrent workers.\n"
     ]
    },
    {
     "name": "stdout",
     "output_type": "stream",
     "text": [
      "iteration: 44 of max_iter: 2000\n"
     ]
    },
    {
     "name": "stderr",
     "output_type": "stream",
     "text": [
      "[Parallel(n_jobs=4)]: Done   2 out of   4 | elapsed:    0.5s remaining:    0.5s\n",
      "[Parallel(n_jobs=4)]: Done   4 out of   4 | elapsed:    0.5s remaining:    0.0s\n",
      "[Parallel(n_jobs=4)]: Done   4 out of   4 | elapsed:    0.5s finished\n",
      "[Parallel(n_jobs=4)]: Using backend LokyBackend with 4 concurrent workers.\n"
     ]
    },
    {
     "name": "stdout",
     "output_type": "stream",
     "text": [
      "iteration: 45 of max_iter: 2000\n"
     ]
    },
    {
     "name": "stderr",
     "output_type": "stream",
     "text": [
      "[Parallel(n_jobs=4)]: Done   2 out of   4 | elapsed:    0.4s remaining:    0.4s\n",
      "[Parallel(n_jobs=4)]: Done   4 out of   4 | elapsed:    0.5s remaining:    0.0s\n",
      "[Parallel(n_jobs=4)]: Done   4 out of   4 | elapsed:    0.5s finished\n",
      "[Parallel(n_jobs=4)]: Using backend LokyBackend with 4 concurrent workers.\n"
     ]
    },
    {
     "name": "stdout",
     "output_type": "stream",
     "text": [
      "iteration: 46 of max_iter: 2000\n"
     ]
    },
    {
     "name": "stderr",
     "output_type": "stream",
     "text": [
      "[Parallel(n_jobs=4)]: Done   2 out of   4 | elapsed:    0.5s remaining:    0.5s\n",
      "[Parallel(n_jobs=4)]: Done   4 out of   4 | elapsed:    0.5s remaining:    0.0s\n",
      "[Parallel(n_jobs=4)]: Done   4 out of   4 | elapsed:    0.5s finished\n",
      "[Parallel(n_jobs=4)]: Using backend LokyBackend with 4 concurrent workers.\n"
     ]
    },
    {
     "name": "stdout",
     "output_type": "stream",
     "text": [
      "iteration: 47 of max_iter: 2000\n"
     ]
    },
    {
     "name": "stderr",
     "output_type": "stream",
     "text": [
      "[Parallel(n_jobs=4)]: Done   2 out of   4 | elapsed:    0.5s remaining:    0.5s\n",
      "[Parallel(n_jobs=4)]: Done   4 out of   4 | elapsed:    0.5s remaining:    0.0s\n",
      "[Parallel(n_jobs=4)]: Done   4 out of   4 | elapsed:    0.5s finished\n",
      "[Parallel(n_jobs=4)]: Using backend LokyBackend with 4 concurrent workers.\n"
     ]
    },
    {
     "name": "stdout",
     "output_type": "stream",
     "text": [
      "iteration: 48 of max_iter: 2000\n"
     ]
    },
    {
     "name": "stderr",
     "output_type": "stream",
     "text": [
      "[Parallel(n_jobs=4)]: Done   2 out of   4 | elapsed:    0.4s remaining:    0.4s\n",
      "[Parallel(n_jobs=4)]: Done   4 out of   4 | elapsed:    0.5s remaining:    0.0s\n",
      "[Parallel(n_jobs=4)]: Done   4 out of   4 | elapsed:    0.5s finished\n",
      "[Parallel(n_jobs=4)]: Using backend LokyBackend with 4 concurrent workers.\n"
     ]
    },
    {
     "name": "stdout",
     "output_type": "stream",
     "text": [
      "iteration: 49 of max_iter: 2000\n"
     ]
    },
    {
     "name": "stderr",
     "output_type": "stream",
     "text": [
      "[Parallel(n_jobs=4)]: Done   2 out of   4 | elapsed:    0.5s remaining:    0.5s\n",
      "[Parallel(n_jobs=4)]: Done   4 out of   4 | elapsed:    0.5s remaining:    0.0s\n",
      "[Parallel(n_jobs=4)]: Done   4 out of   4 | elapsed:    0.5s finished\n",
      "[Parallel(n_jobs=4)]: Using backend LokyBackend with 4 concurrent workers.\n"
     ]
    },
    {
     "name": "stdout",
     "output_type": "stream",
     "text": [
      "iteration: 50 of max_iter: 2000\n"
     ]
    },
    {
     "name": "stderr",
     "output_type": "stream",
     "text": [
      "[Parallel(n_jobs=4)]: Done   2 out of   4 | elapsed:    0.4s remaining:    0.4s\n",
      "[Parallel(n_jobs=4)]: Done   4 out of   4 | elapsed:    0.5s remaining:    0.0s\n",
      "[Parallel(n_jobs=4)]: Done   4 out of   4 | elapsed:    0.5s finished\n",
      "[Parallel(n_jobs=4)]: Using backend LokyBackend with 4 concurrent workers.\n"
     ]
    },
    {
     "name": "stdout",
     "output_type": "stream",
     "text": [
      "iteration: 51 of max_iter: 2000\n"
     ]
    },
    {
     "name": "stderr",
     "output_type": "stream",
     "text": [
      "[Parallel(n_jobs=4)]: Done   2 out of   4 | elapsed:    0.5s remaining:    0.5s\n",
      "[Parallel(n_jobs=4)]: Done   4 out of   4 | elapsed:    0.5s remaining:    0.0s\n",
      "[Parallel(n_jobs=4)]: Done   4 out of   4 | elapsed:    0.5s finished\n",
      "[Parallel(n_jobs=4)]: Using backend LokyBackend with 4 concurrent workers.\n"
     ]
    },
    {
     "name": "stdout",
     "output_type": "stream",
     "text": [
      "iteration: 52 of max_iter: 2000\n"
     ]
    },
    {
     "name": "stderr",
     "output_type": "stream",
     "text": [
      "[Parallel(n_jobs=4)]: Done   2 out of   4 | elapsed:    0.5s remaining:    0.5s\n",
      "[Parallel(n_jobs=4)]: Done   4 out of   4 | elapsed:    0.5s remaining:    0.0s\n",
      "[Parallel(n_jobs=4)]: Done   4 out of   4 | elapsed:    0.5s finished\n",
      "[Parallel(n_jobs=4)]: Using backend LokyBackend with 4 concurrent workers.\n"
     ]
    },
    {
     "name": "stdout",
     "output_type": "stream",
     "text": [
      "iteration: 53 of max_iter: 2000\n"
     ]
    },
    {
     "name": "stderr",
     "output_type": "stream",
     "text": [
      "[Parallel(n_jobs=4)]: Done   2 out of   4 | elapsed:    0.4s remaining:    0.4s\n",
      "[Parallel(n_jobs=4)]: Done   4 out of   4 | elapsed:    0.5s remaining:    0.0s\n",
      "[Parallel(n_jobs=4)]: Done   4 out of   4 | elapsed:    0.5s finished\n",
      "[Parallel(n_jobs=4)]: Using backend LokyBackend with 4 concurrent workers.\n"
     ]
    },
    {
     "name": "stdout",
     "output_type": "stream",
     "text": [
      "iteration: 54 of max_iter: 2000\n"
     ]
    },
    {
     "name": "stderr",
     "output_type": "stream",
     "text": [
      "[Parallel(n_jobs=4)]: Done   2 out of   4 | elapsed:    0.5s remaining:    0.5s\n",
      "[Parallel(n_jobs=4)]: Done   4 out of   4 | elapsed:    0.5s remaining:    0.0s\n",
      "[Parallel(n_jobs=4)]: Done   4 out of   4 | elapsed:    0.5s finished\n",
      "[Parallel(n_jobs=4)]: Using backend LokyBackend with 4 concurrent workers.\n"
     ]
    },
    {
     "name": "stdout",
     "output_type": "stream",
     "text": [
      "iteration: 55 of max_iter: 2000\n"
     ]
    },
    {
     "name": "stderr",
     "output_type": "stream",
     "text": [
      "[Parallel(n_jobs=4)]: Done   2 out of   4 | elapsed:    0.5s remaining:    0.5s\n",
      "[Parallel(n_jobs=4)]: Done   4 out of   4 | elapsed:    0.5s remaining:    0.0s\n",
      "[Parallel(n_jobs=4)]: Done   4 out of   4 | elapsed:    0.5s finished\n",
      "[Parallel(n_jobs=4)]: Using backend LokyBackend with 4 concurrent workers.\n"
     ]
    },
    {
     "name": "stdout",
     "output_type": "stream",
     "text": [
      "iteration: 56 of max_iter: 2000\n"
     ]
    },
    {
     "name": "stderr",
     "output_type": "stream",
     "text": [
      "[Parallel(n_jobs=4)]: Done   2 out of   4 | elapsed:    0.5s remaining:    0.5s\n",
      "[Parallel(n_jobs=4)]: Done   4 out of   4 | elapsed:    0.5s remaining:    0.0s\n",
      "[Parallel(n_jobs=4)]: Done   4 out of   4 | elapsed:    0.5s finished\n",
      "[Parallel(n_jobs=4)]: Using backend LokyBackend with 4 concurrent workers.\n"
     ]
    },
    {
     "name": "stdout",
     "output_type": "stream",
     "text": [
      "iteration: 57 of max_iter: 2000\n"
     ]
    },
    {
     "name": "stderr",
     "output_type": "stream",
     "text": [
      "[Parallel(n_jobs=4)]: Done   2 out of   4 | elapsed:    0.5s remaining:    0.5s\n",
      "[Parallel(n_jobs=4)]: Done   4 out of   4 | elapsed:    0.5s remaining:    0.0s\n",
      "[Parallel(n_jobs=4)]: Done   4 out of   4 | elapsed:    0.5s finished\n",
      "[Parallel(n_jobs=4)]: Using backend LokyBackend with 4 concurrent workers.\n"
     ]
    },
    {
     "name": "stdout",
     "output_type": "stream",
     "text": [
      "iteration: 58 of max_iter: 2000\n"
     ]
    },
    {
     "name": "stderr",
     "output_type": "stream",
     "text": [
      "[Parallel(n_jobs=4)]: Done   2 out of   4 | elapsed:    0.4s remaining:    0.4s\n",
      "[Parallel(n_jobs=4)]: Done   4 out of   4 | elapsed:    0.5s remaining:    0.0s\n",
      "[Parallel(n_jobs=4)]: Done   4 out of   4 | elapsed:    0.5s finished\n",
      "[Parallel(n_jobs=4)]: Using backend LokyBackend with 4 concurrent workers.\n"
     ]
    },
    {
     "name": "stdout",
     "output_type": "stream",
     "text": [
      "iteration: 59 of max_iter: 2000\n"
     ]
    },
    {
     "name": "stderr",
     "output_type": "stream",
     "text": [
      "[Parallel(n_jobs=4)]: Done   2 out of   4 | elapsed:    0.5s remaining:    0.5s\n",
      "[Parallel(n_jobs=4)]: Done   4 out of   4 | elapsed:    0.5s remaining:    0.0s\n",
      "[Parallel(n_jobs=4)]: Done   4 out of   4 | elapsed:    0.5s finished\n",
      "[Parallel(n_jobs=4)]: Using backend LokyBackend with 4 concurrent workers.\n"
     ]
    },
    {
     "name": "stdout",
     "output_type": "stream",
     "text": [
      "iteration: 60 of max_iter: 2000\n"
     ]
    },
    {
     "name": "stderr",
     "output_type": "stream",
     "text": [
      "[Parallel(n_jobs=4)]: Done   2 out of   4 | elapsed:    0.4s remaining:    0.4s\n",
      "[Parallel(n_jobs=4)]: Done   4 out of   4 | elapsed:    0.5s remaining:    0.0s\n",
      "[Parallel(n_jobs=4)]: Done   4 out of   4 | elapsed:    0.5s finished\n",
      "[Parallel(n_jobs=4)]: Using backend LokyBackend with 4 concurrent workers.\n"
     ]
    },
    {
     "name": "stdout",
     "output_type": "stream",
     "text": [
      "iteration: 61 of max_iter: 2000\n"
     ]
    },
    {
     "name": "stderr",
     "output_type": "stream",
     "text": [
      "[Parallel(n_jobs=4)]: Done   2 out of   4 | elapsed:    0.5s remaining:    0.5s\n",
      "[Parallel(n_jobs=4)]: Done   4 out of   4 | elapsed:    0.5s remaining:    0.0s\n",
      "[Parallel(n_jobs=4)]: Done   4 out of   4 | elapsed:    0.5s finished\n",
      "[Parallel(n_jobs=4)]: Using backend LokyBackend with 4 concurrent workers.\n"
     ]
    },
    {
     "name": "stdout",
     "output_type": "stream",
     "text": [
      "iteration: 62 of max_iter: 2000\n"
     ]
    },
    {
     "name": "stderr",
     "output_type": "stream",
     "text": [
      "[Parallel(n_jobs=4)]: Done   2 out of   4 | elapsed:    0.4s remaining:    0.4s\n",
      "[Parallel(n_jobs=4)]: Done   4 out of   4 | elapsed:    0.5s remaining:    0.0s\n",
      "[Parallel(n_jobs=4)]: Done   4 out of   4 | elapsed:    0.5s finished\n",
      "[Parallel(n_jobs=4)]: Using backend LokyBackend with 4 concurrent workers.\n"
     ]
    },
    {
     "name": "stdout",
     "output_type": "stream",
     "text": [
      "iteration: 63 of max_iter: 2000\n"
     ]
    },
    {
     "name": "stderr",
     "output_type": "stream",
     "text": [
      "[Parallel(n_jobs=4)]: Done   2 out of   4 | elapsed:    0.4s remaining:    0.4s\n",
      "[Parallel(n_jobs=4)]: Done   4 out of   4 | elapsed:    0.5s remaining:    0.0s\n",
      "[Parallel(n_jobs=4)]: Done   4 out of   4 | elapsed:    0.5s finished\n",
      "[Parallel(n_jobs=4)]: Using backend LokyBackend with 4 concurrent workers.\n"
     ]
    },
    {
     "name": "stdout",
     "output_type": "stream",
     "text": [
      "iteration: 64 of max_iter: 2000\n"
     ]
    },
    {
     "name": "stderr",
     "output_type": "stream",
     "text": [
      "[Parallel(n_jobs=4)]: Done   2 out of   4 | elapsed:    0.4s remaining:    0.4s\n",
      "[Parallel(n_jobs=4)]: Done   4 out of   4 | elapsed:    0.5s remaining:    0.0s\n",
      "[Parallel(n_jobs=4)]: Done   4 out of   4 | elapsed:    0.5s finished\n",
      "[Parallel(n_jobs=4)]: Using backend LokyBackend with 4 concurrent workers.\n"
     ]
    },
    {
     "name": "stdout",
     "output_type": "stream",
     "text": [
      "iteration: 65 of max_iter: 2000\n"
     ]
    },
    {
     "name": "stderr",
     "output_type": "stream",
     "text": [
      "[Parallel(n_jobs=4)]: Done   2 out of   4 | elapsed:    0.4s remaining:    0.4s\n",
      "[Parallel(n_jobs=4)]: Done   4 out of   4 | elapsed:    0.5s remaining:    0.0s\n",
      "[Parallel(n_jobs=4)]: Done   4 out of   4 | elapsed:    0.5s finished\n",
      "[Parallel(n_jobs=4)]: Using backend LokyBackend with 4 concurrent workers.\n"
     ]
    },
    {
     "name": "stdout",
     "output_type": "stream",
     "text": [
      "iteration: 66 of max_iter: 2000\n"
     ]
    },
    {
     "name": "stderr",
     "output_type": "stream",
     "text": [
      "[Parallel(n_jobs=4)]: Done   2 out of   4 | elapsed:    0.5s remaining:    0.5s\n",
      "[Parallel(n_jobs=4)]: Done   4 out of   4 | elapsed:    0.5s remaining:    0.0s\n",
      "[Parallel(n_jobs=4)]: Done   4 out of   4 | elapsed:    0.5s finished\n",
      "[Parallel(n_jobs=4)]: Using backend LokyBackend with 4 concurrent workers.\n"
     ]
    },
    {
     "name": "stdout",
     "output_type": "stream",
     "text": [
      "iteration: 67 of max_iter: 2000\n"
     ]
    },
    {
     "name": "stderr",
     "output_type": "stream",
     "text": [
      "[Parallel(n_jobs=4)]: Done   2 out of   4 | elapsed:    0.4s remaining:    0.4s\n",
      "[Parallel(n_jobs=4)]: Done   4 out of   4 | elapsed:    0.5s remaining:    0.0s\n",
      "[Parallel(n_jobs=4)]: Done   4 out of   4 | elapsed:    0.5s finished\n",
      "[Parallel(n_jobs=4)]: Using backend LokyBackend with 4 concurrent workers.\n"
     ]
    },
    {
     "name": "stdout",
     "output_type": "stream",
     "text": [
      "iteration: 68 of max_iter: 2000\n"
     ]
    },
    {
     "name": "stderr",
     "output_type": "stream",
     "text": [
      "[Parallel(n_jobs=4)]: Done   2 out of   4 | elapsed:    0.5s remaining:    0.5s\n",
      "[Parallel(n_jobs=4)]: Done   4 out of   4 | elapsed:    0.5s remaining:    0.0s\n",
      "[Parallel(n_jobs=4)]: Done   4 out of   4 | elapsed:    0.5s finished\n",
      "[Parallel(n_jobs=4)]: Using backend LokyBackend with 4 concurrent workers.\n"
     ]
    },
    {
     "name": "stdout",
     "output_type": "stream",
     "text": [
      "iteration: 69 of max_iter: 2000\n"
     ]
    },
    {
     "name": "stderr",
     "output_type": "stream",
     "text": [
      "[Parallel(n_jobs=4)]: Done   2 out of   4 | elapsed:    0.5s remaining:    0.5s\n",
      "[Parallel(n_jobs=4)]: Done   4 out of   4 | elapsed:    0.5s remaining:    0.0s\n",
      "[Parallel(n_jobs=4)]: Done   4 out of   4 | elapsed:    0.5s finished\n",
      "[Parallel(n_jobs=4)]: Using backend LokyBackend with 4 concurrent workers.\n"
     ]
    },
    {
     "name": "stdout",
     "output_type": "stream",
     "text": [
      "iteration: 70 of max_iter: 2000\n"
     ]
    },
    {
     "name": "stderr",
     "output_type": "stream",
     "text": [
      "[Parallel(n_jobs=4)]: Done   2 out of   4 | elapsed:    0.5s remaining:    0.5s\n",
      "[Parallel(n_jobs=4)]: Done   4 out of   4 | elapsed:    0.5s remaining:    0.0s\n",
      "[Parallel(n_jobs=4)]: Done   4 out of   4 | elapsed:    0.5s finished\n",
      "[Parallel(n_jobs=4)]: Using backend LokyBackend with 4 concurrent workers.\n"
     ]
    },
    {
     "name": "stdout",
     "output_type": "stream",
     "text": [
      "iteration: 71 of max_iter: 2000\n"
     ]
    },
    {
     "name": "stderr",
     "output_type": "stream",
     "text": [
      "[Parallel(n_jobs=4)]: Done   2 out of   4 | elapsed:    0.4s remaining:    0.4s\n",
      "[Parallel(n_jobs=4)]: Done   4 out of   4 | elapsed:    0.5s remaining:    0.0s\n",
      "[Parallel(n_jobs=4)]: Done   4 out of   4 | elapsed:    0.5s finished\n",
      "[Parallel(n_jobs=4)]: Using backend LokyBackend with 4 concurrent workers.\n"
     ]
    },
    {
     "name": "stdout",
     "output_type": "stream",
     "text": [
      "iteration: 72 of max_iter: 2000\n"
     ]
    },
    {
     "name": "stderr",
     "output_type": "stream",
     "text": [
      "[Parallel(n_jobs=4)]: Done   2 out of   4 | elapsed:    0.4s remaining:    0.4s\n",
      "[Parallel(n_jobs=4)]: Done   4 out of   4 | elapsed:    0.5s remaining:    0.0s\n",
      "[Parallel(n_jobs=4)]: Done   4 out of   4 | elapsed:    0.5s finished\n",
      "[Parallel(n_jobs=4)]: Using backend LokyBackend with 4 concurrent workers.\n"
     ]
    },
    {
     "name": "stdout",
     "output_type": "stream",
     "text": [
      "iteration: 73 of max_iter: 2000\n"
     ]
    },
    {
     "name": "stderr",
     "output_type": "stream",
     "text": [
      "[Parallel(n_jobs=4)]: Done   2 out of   4 | elapsed:    0.5s remaining:    0.5s\n",
      "[Parallel(n_jobs=4)]: Done   4 out of   4 | elapsed:    0.5s remaining:    0.0s\n",
      "[Parallel(n_jobs=4)]: Done   4 out of   4 | elapsed:    0.5s finished\n",
      "[Parallel(n_jobs=4)]: Using backend LokyBackend with 4 concurrent workers.\n"
     ]
    },
    {
     "name": "stdout",
     "output_type": "stream",
     "text": [
      "iteration: 74 of max_iter: 2000\n"
     ]
    },
    {
     "name": "stderr",
     "output_type": "stream",
     "text": [
      "[Parallel(n_jobs=4)]: Done   2 out of   4 | elapsed:    0.4s remaining:    0.4s\n",
      "[Parallel(n_jobs=4)]: Done   4 out of   4 | elapsed:    0.5s remaining:    0.0s\n",
      "[Parallel(n_jobs=4)]: Done   4 out of   4 | elapsed:    0.5s finished\n",
      "[Parallel(n_jobs=4)]: Using backend LokyBackend with 4 concurrent workers.\n"
     ]
    },
    {
     "name": "stdout",
     "output_type": "stream",
     "text": [
      "iteration: 75 of max_iter: 2000\n"
     ]
    },
    {
     "name": "stderr",
     "output_type": "stream",
     "text": [
      "[Parallel(n_jobs=4)]: Done   2 out of   4 | elapsed:    0.5s remaining:    0.5s\n",
      "[Parallel(n_jobs=4)]: Done   4 out of   4 | elapsed:    0.5s remaining:    0.0s\n",
      "[Parallel(n_jobs=4)]: Done   4 out of   4 | elapsed:    0.5s finished\n",
      "[Parallel(n_jobs=4)]: Using backend LokyBackend with 4 concurrent workers.\n"
     ]
    },
    {
     "name": "stdout",
     "output_type": "stream",
     "text": [
      "iteration: 76 of max_iter: 2000\n"
     ]
    },
    {
     "name": "stderr",
     "output_type": "stream",
     "text": [
      "[Parallel(n_jobs=4)]: Done   2 out of   4 | elapsed:    0.5s remaining:    0.5s\n",
      "[Parallel(n_jobs=4)]: Done   4 out of   4 | elapsed:    0.5s remaining:    0.0s\n",
      "[Parallel(n_jobs=4)]: Done   4 out of   4 | elapsed:    0.5s finished\n",
      "[Parallel(n_jobs=4)]: Using backend LokyBackend with 4 concurrent workers.\n"
     ]
    },
    {
     "name": "stdout",
     "output_type": "stream",
     "text": [
      "iteration: 77 of max_iter: 2000\n"
     ]
    },
    {
     "name": "stderr",
     "output_type": "stream",
     "text": [
      "[Parallel(n_jobs=4)]: Done   2 out of   4 | elapsed:    0.5s remaining:    0.5s\n",
      "[Parallel(n_jobs=4)]: Done   4 out of   4 | elapsed:    0.5s remaining:    0.0s\n",
      "[Parallel(n_jobs=4)]: Done   4 out of   4 | elapsed:    0.5s finished\n",
      "[Parallel(n_jobs=4)]: Using backend LokyBackend with 4 concurrent workers.\n"
     ]
    },
    {
     "name": "stdout",
     "output_type": "stream",
     "text": [
      "iteration: 78 of max_iter: 2000\n"
     ]
    },
    {
     "name": "stderr",
     "output_type": "stream",
     "text": [
      "[Parallel(n_jobs=4)]: Done   2 out of   4 | elapsed:    0.6s remaining:    0.6s\n",
      "[Parallel(n_jobs=4)]: Done   4 out of   4 | elapsed:    0.6s remaining:    0.0s\n",
      "[Parallel(n_jobs=4)]: Done   4 out of   4 | elapsed:    0.6s finished\n",
      "[Parallel(n_jobs=4)]: Using backend LokyBackend with 4 concurrent workers.\n"
     ]
    },
    {
     "name": "stdout",
     "output_type": "stream",
     "text": [
      "iteration: 79 of max_iter: 2000\n"
     ]
    },
    {
     "name": "stderr",
     "output_type": "stream",
     "text": [
      "[Parallel(n_jobs=4)]: Done   2 out of   4 | elapsed:    0.5s remaining:    0.5s\n",
      "[Parallel(n_jobs=4)]: Done   4 out of   4 | elapsed:    0.5s remaining:    0.0s\n",
      "[Parallel(n_jobs=4)]: Done   4 out of   4 | elapsed:    0.5s finished\n",
      "[Parallel(n_jobs=4)]: Using backend LokyBackend with 4 concurrent workers.\n"
     ]
    },
    {
     "name": "stdout",
     "output_type": "stream",
     "text": [
      "iteration: 80 of max_iter: 2000\n"
     ]
    },
    {
     "name": "stderr",
     "output_type": "stream",
     "text": [
      "[Parallel(n_jobs=4)]: Done   2 out of   4 | elapsed:    0.5s remaining:    0.5s\n",
      "[Parallel(n_jobs=4)]: Done   4 out of   4 | elapsed:    0.5s remaining:    0.0s\n",
      "[Parallel(n_jobs=4)]: Done   4 out of   4 | elapsed:    0.5s finished\n",
      "[Parallel(n_jobs=4)]: Using backend LokyBackend with 4 concurrent workers.\n"
     ]
    },
    {
     "name": "stdout",
     "output_type": "stream",
     "text": [
      "iteration: 81 of max_iter: 2000\n"
     ]
    },
    {
     "name": "stderr",
     "output_type": "stream",
     "text": [
      "[Parallel(n_jobs=4)]: Done   2 out of   4 | elapsed:    0.4s remaining:    0.4s\n",
      "[Parallel(n_jobs=4)]: Done   4 out of   4 | elapsed:    0.5s remaining:    0.0s\n",
      "[Parallel(n_jobs=4)]: Done   4 out of   4 | elapsed:    0.5s finished\n",
      "[Parallel(n_jobs=4)]: Using backend LokyBackend with 4 concurrent workers.\n"
     ]
    },
    {
     "name": "stdout",
     "output_type": "stream",
     "text": [
      "iteration: 82 of max_iter: 2000\n"
     ]
    },
    {
     "name": "stderr",
     "output_type": "stream",
     "text": [
      "[Parallel(n_jobs=4)]: Done   2 out of   4 | elapsed:    0.5s remaining:    0.5s\n",
      "[Parallel(n_jobs=4)]: Done   4 out of   4 | elapsed:    0.5s remaining:    0.0s\n",
      "[Parallel(n_jobs=4)]: Done   4 out of   4 | elapsed:    0.5s finished\n",
      "[Parallel(n_jobs=4)]: Using backend LokyBackend with 4 concurrent workers.\n"
     ]
    },
    {
     "name": "stdout",
     "output_type": "stream",
     "text": [
      "iteration: 83 of max_iter: 2000\n"
     ]
    },
    {
     "name": "stderr",
     "output_type": "stream",
     "text": [
      "[Parallel(n_jobs=4)]: Done   2 out of   4 | elapsed:    0.5s remaining:    0.5s\n",
      "[Parallel(n_jobs=4)]: Done   4 out of   4 | elapsed:    0.5s remaining:    0.0s\n",
      "[Parallel(n_jobs=4)]: Done   4 out of   4 | elapsed:    0.5s finished\n",
      "[Parallel(n_jobs=4)]: Using backend LokyBackend with 4 concurrent workers.\n"
     ]
    },
    {
     "name": "stdout",
     "output_type": "stream",
     "text": [
      "iteration: 84 of max_iter: 2000\n"
     ]
    },
    {
     "name": "stderr",
     "output_type": "stream",
     "text": [
      "[Parallel(n_jobs=4)]: Done   2 out of   4 | elapsed:    0.4s remaining:    0.4s\n",
      "[Parallel(n_jobs=4)]: Done   4 out of   4 | elapsed:    0.5s remaining:    0.0s\n",
      "[Parallel(n_jobs=4)]: Done   4 out of   4 | elapsed:    0.5s finished\n",
      "[Parallel(n_jobs=4)]: Using backend LokyBackend with 4 concurrent workers.\n"
     ]
    },
    {
     "name": "stdout",
     "output_type": "stream",
     "text": [
      "iteration: 85 of max_iter: 2000\n"
     ]
    },
    {
     "name": "stderr",
     "output_type": "stream",
     "text": [
      "[Parallel(n_jobs=4)]: Done   2 out of   4 | elapsed:    0.5s remaining:    0.5s\n",
      "[Parallel(n_jobs=4)]: Done   4 out of   4 | elapsed:    0.5s remaining:    0.0s\n",
      "[Parallel(n_jobs=4)]: Done   4 out of   4 | elapsed:    0.5s finished\n",
      "[Parallel(n_jobs=4)]: Using backend LokyBackend with 4 concurrent workers.\n"
     ]
    },
    {
     "name": "stdout",
     "output_type": "stream",
     "text": [
      "iteration: 86 of max_iter: 2000\n"
     ]
    },
    {
     "name": "stderr",
     "output_type": "stream",
     "text": [
      "[Parallel(n_jobs=4)]: Done   2 out of   4 | elapsed:    0.4s remaining:    0.4s\n",
      "[Parallel(n_jobs=4)]: Done   4 out of   4 | elapsed:    0.5s remaining:    0.0s\n",
      "[Parallel(n_jobs=4)]: Done   4 out of   4 | elapsed:    0.5s finished\n",
      "[Parallel(n_jobs=4)]: Using backend LokyBackend with 4 concurrent workers.\n"
     ]
    },
    {
     "name": "stdout",
     "output_type": "stream",
     "text": [
      "iteration: 87 of max_iter: 2000\n"
     ]
    },
    {
     "name": "stderr",
     "output_type": "stream",
     "text": [
      "[Parallel(n_jobs=4)]: Done   2 out of   4 | elapsed:    0.5s remaining:    0.5s\n",
      "[Parallel(n_jobs=4)]: Done   4 out of   4 | elapsed:    0.5s remaining:    0.0s\n",
      "[Parallel(n_jobs=4)]: Done   4 out of   4 | elapsed:    0.5s finished\n",
      "[Parallel(n_jobs=4)]: Using backend LokyBackend with 4 concurrent workers.\n"
     ]
    },
    {
     "name": "stdout",
     "output_type": "stream",
     "text": [
      "iteration: 88 of max_iter: 2000\n"
     ]
    },
    {
     "name": "stderr",
     "output_type": "stream",
     "text": [
      "[Parallel(n_jobs=4)]: Done   2 out of   4 | elapsed:    0.4s remaining:    0.4s\n",
      "[Parallel(n_jobs=4)]: Done   4 out of   4 | elapsed:    0.5s remaining:    0.0s\n",
      "[Parallel(n_jobs=4)]: Done   4 out of   4 | elapsed:    0.5s finished\n",
      "[Parallel(n_jobs=4)]: Using backend LokyBackend with 4 concurrent workers.\n"
     ]
    },
    {
     "name": "stdout",
     "output_type": "stream",
     "text": [
      "iteration: 89 of max_iter: 2000\n"
     ]
    },
    {
     "name": "stderr",
     "output_type": "stream",
     "text": [
      "[Parallel(n_jobs=4)]: Done   2 out of   4 | elapsed:    0.5s remaining:    0.5s\n",
      "[Parallel(n_jobs=4)]: Done   4 out of   4 | elapsed:    0.5s remaining:    0.0s\n",
      "[Parallel(n_jobs=4)]: Done   4 out of   4 | elapsed:    0.5s finished\n",
      "[Parallel(n_jobs=4)]: Using backend LokyBackend with 4 concurrent workers.\n"
     ]
    },
    {
     "name": "stdout",
     "output_type": "stream",
     "text": [
      "iteration: 90 of max_iter: 2000\n"
     ]
    },
    {
     "name": "stderr",
     "output_type": "stream",
     "text": [
      "[Parallel(n_jobs=4)]: Done   2 out of   4 | elapsed:    0.5s remaining:    0.5s\n",
      "[Parallel(n_jobs=4)]: Done   4 out of   4 | elapsed:    0.5s remaining:    0.0s\n",
      "[Parallel(n_jobs=4)]: Done   4 out of   4 | elapsed:    0.5s finished\n",
      "[Parallel(n_jobs=4)]: Using backend LokyBackend with 4 concurrent workers.\n"
     ]
    },
    {
     "name": "stdout",
     "output_type": "stream",
     "text": [
      "iteration: 91 of max_iter: 2000\n"
     ]
    },
    {
     "name": "stderr",
     "output_type": "stream",
     "text": [
      "[Parallel(n_jobs=4)]: Done   2 out of   4 | elapsed:    0.4s remaining:    0.4s\n",
      "[Parallel(n_jobs=4)]: Done   4 out of   4 | elapsed:    0.5s remaining:    0.0s\n",
      "[Parallel(n_jobs=4)]: Done   4 out of   4 | elapsed:    0.5s finished\n",
      "[Parallel(n_jobs=4)]: Using backend LokyBackend with 4 concurrent workers.\n"
     ]
    },
    {
     "name": "stdout",
     "output_type": "stream",
     "text": [
      "iteration: 92 of max_iter: 2000\n"
     ]
    },
    {
     "name": "stderr",
     "output_type": "stream",
     "text": [
      "[Parallel(n_jobs=4)]: Done   2 out of   4 | elapsed:    0.5s remaining:    0.5s\n",
      "[Parallel(n_jobs=4)]: Done   4 out of   4 | elapsed:    0.5s remaining:    0.0s\n",
      "[Parallel(n_jobs=4)]: Done   4 out of   4 | elapsed:    0.5s finished\n",
      "[Parallel(n_jobs=4)]: Using backend LokyBackend with 4 concurrent workers.\n"
     ]
    },
    {
     "name": "stdout",
     "output_type": "stream",
     "text": [
      "iteration: 93 of max_iter: 2000\n"
     ]
    },
    {
     "name": "stderr",
     "output_type": "stream",
     "text": [
      "[Parallel(n_jobs=4)]: Done   2 out of   4 | elapsed:    0.4s remaining:    0.4s\n",
      "[Parallel(n_jobs=4)]: Done   4 out of   4 | elapsed:    0.5s remaining:    0.0s\n",
      "[Parallel(n_jobs=4)]: Done   4 out of   4 | elapsed:    0.5s finished\n",
      "[Parallel(n_jobs=4)]: Using backend LokyBackend with 4 concurrent workers.\n"
     ]
    },
    {
     "name": "stdout",
     "output_type": "stream",
     "text": [
      "iteration: 94 of max_iter: 2000\n"
     ]
    },
    {
     "name": "stderr",
     "output_type": "stream",
     "text": [
      "[Parallel(n_jobs=4)]: Done   2 out of   4 | elapsed:    0.4s remaining:    0.4s\n",
      "[Parallel(n_jobs=4)]: Done   4 out of   4 | elapsed:    0.5s remaining:    0.0s\n",
      "[Parallel(n_jobs=4)]: Done   4 out of   4 | elapsed:    0.5s finished\n",
      "[Parallel(n_jobs=4)]: Using backend LokyBackend with 4 concurrent workers.\n"
     ]
    },
    {
     "name": "stdout",
     "output_type": "stream",
     "text": [
      "iteration: 95 of max_iter: 2000\n"
     ]
    },
    {
     "name": "stderr",
     "output_type": "stream",
     "text": [
      "[Parallel(n_jobs=4)]: Done   2 out of   4 | elapsed:    0.4s remaining:    0.4s\n",
      "[Parallel(n_jobs=4)]: Done   4 out of   4 | elapsed:    0.5s remaining:    0.0s\n",
      "[Parallel(n_jobs=4)]: Done   4 out of   4 | elapsed:    0.5s finished\n",
      "[Parallel(n_jobs=4)]: Using backend LokyBackend with 4 concurrent workers.\n"
     ]
    },
    {
     "name": "stdout",
     "output_type": "stream",
     "text": [
      "iteration: 96 of max_iter: 2000\n"
     ]
    },
    {
     "name": "stderr",
     "output_type": "stream",
     "text": [
      "[Parallel(n_jobs=4)]: Done   2 out of   4 | elapsed:    0.5s remaining:    0.5s\n",
      "[Parallel(n_jobs=4)]: Done   4 out of   4 | elapsed:    0.5s remaining:    0.0s\n",
      "[Parallel(n_jobs=4)]: Done   4 out of   4 | elapsed:    0.5s finished\n",
      "[Parallel(n_jobs=4)]: Using backend LokyBackend with 4 concurrent workers.\n"
     ]
    },
    {
     "name": "stdout",
     "output_type": "stream",
     "text": [
      "iteration: 97 of max_iter: 2000\n"
     ]
    },
    {
     "name": "stderr",
     "output_type": "stream",
     "text": [
      "[Parallel(n_jobs=4)]: Done   2 out of   4 | elapsed:    0.4s remaining:    0.4s\n",
      "[Parallel(n_jobs=4)]: Done   4 out of   4 | elapsed:    0.4s remaining:    0.0s\n",
      "[Parallel(n_jobs=4)]: Done   4 out of   4 | elapsed:    0.4s finished\n",
      "[Parallel(n_jobs=4)]: Using backend LokyBackend with 4 concurrent workers.\n"
     ]
    },
    {
     "name": "stdout",
     "output_type": "stream",
     "text": [
      "iteration: 98 of max_iter: 2000\n"
     ]
    },
    {
     "name": "stderr",
     "output_type": "stream",
     "text": [
      "[Parallel(n_jobs=4)]: Done   2 out of   4 | elapsed:    0.4s remaining:    0.4s\n",
      "[Parallel(n_jobs=4)]: Done   4 out of   4 | elapsed:    0.5s remaining:    0.0s\n",
      "[Parallel(n_jobs=4)]: Done   4 out of   4 | elapsed:    0.5s finished\n",
      "[Parallel(n_jobs=4)]: Using backend LokyBackend with 4 concurrent workers.\n"
     ]
    },
    {
     "name": "stdout",
     "output_type": "stream",
     "text": [
      "iteration: 99 of max_iter: 2000\n"
     ]
    },
    {
     "name": "stderr",
     "output_type": "stream",
     "text": [
      "[Parallel(n_jobs=4)]: Done   2 out of   4 | elapsed:    0.5s remaining:    0.5s\n",
      "[Parallel(n_jobs=4)]: Done   4 out of   4 | elapsed:    0.5s remaining:    0.0s\n",
      "[Parallel(n_jobs=4)]: Done   4 out of   4 | elapsed:    0.5s finished\n",
      "[Parallel(n_jobs=4)]: Using backend LokyBackend with 4 concurrent workers.\n"
     ]
    },
    {
     "name": "stdout",
     "output_type": "stream",
     "text": [
      "iteration: 100 of max_iter: 2000\n"
     ]
    },
    {
     "name": "stderr",
     "output_type": "stream",
     "text": [
      "[Parallel(n_jobs=4)]: Done   2 out of   4 | elapsed:    0.4s remaining:    0.4s\n",
      "[Parallel(n_jobs=4)]: Done   4 out of   4 | elapsed:    0.5s remaining:    0.0s\n",
      "[Parallel(n_jobs=4)]: Done   4 out of   4 | elapsed:    0.5s finished\n",
      "[Parallel(n_jobs=4)]: Using backend LokyBackend with 4 concurrent workers.\n"
     ]
    },
    {
     "name": "stdout",
     "output_type": "stream",
     "text": [
      "iteration: 101 of max_iter: 2000\n"
     ]
    },
    {
     "name": "stderr",
     "output_type": "stream",
     "text": [
      "[Parallel(n_jobs=4)]: Done   2 out of   4 | elapsed:    0.5s remaining:    0.5s\n",
      "[Parallel(n_jobs=4)]: Done   4 out of   4 | elapsed:    0.5s remaining:    0.0s\n",
      "[Parallel(n_jobs=4)]: Done   4 out of   4 | elapsed:    0.5s finished\n",
      "[Parallel(n_jobs=4)]: Using backend LokyBackend with 4 concurrent workers.\n"
     ]
    },
    {
     "name": "stdout",
     "output_type": "stream",
     "text": [
      "iteration: 102 of max_iter: 2000\n"
     ]
    },
    {
     "name": "stderr",
     "output_type": "stream",
     "text": [
      "[Parallel(n_jobs=4)]: Done   2 out of   4 | elapsed:    0.4s remaining:    0.4s\n",
      "[Parallel(n_jobs=4)]: Done   4 out of   4 | elapsed:    0.5s remaining:    0.0s\n",
      "[Parallel(n_jobs=4)]: Done   4 out of   4 | elapsed:    0.5s finished\n",
      "[Parallel(n_jobs=4)]: Using backend LokyBackend with 4 concurrent workers.\n"
     ]
    },
    {
     "name": "stdout",
     "output_type": "stream",
     "text": [
      "iteration: 103 of max_iter: 2000\n"
     ]
    },
    {
     "name": "stderr",
     "output_type": "stream",
     "text": [
      "[Parallel(n_jobs=4)]: Done   2 out of   4 | elapsed:    0.5s remaining:    0.5s\n",
      "[Parallel(n_jobs=4)]: Done   4 out of   4 | elapsed:    0.6s remaining:    0.0s\n",
      "[Parallel(n_jobs=4)]: Done   4 out of   4 | elapsed:    0.6s finished\n",
      "[Parallel(n_jobs=4)]: Using backend LokyBackend with 4 concurrent workers.\n"
     ]
    },
    {
     "name": "stdout",
     "output_type": "stream",
     "text": [
      "iteration: 104 of max_iter: 2000\n"
     ]
    },
    {
     "name": "stderr",
     "output_type": "stream",
     "text": [
      "[Parallel(n_jobs=4)]: Done   2 out of   4 | elapsed:    0.5s remaining:    0.5s\n",
      "[Parallel(n_jobs=4)]: Done   4 out of   4 | elapsed:    0.5s remaining:    0.0s\n",
      "[Parallel(n_jobs=4)]: Done   4 out of   4 | elapsed:    0.5s finished\n",
      "[Parallel(n_jobs=4)]: Using backend LokyBackend with 4 concurrent workers.\n"
     ]
    },
    {
     "name": "stdout",
     "output_type": "stream",
     "text": [
      "iteration: 105 of max_iter: 2000\n"
     ]
    },
    {
     "name": "stderr",
     "output_type": "stream",
     "text": [
      "[Parallel(n_jobs=4)]: Done   2 out of   4 | elapsed:    0.5s remaining:    0.5s\n",
      "[Parallel(n_jobs=4)]: Done   4 out of   4 | elapsed:    0.5s remaining:    0.0s\n",
      "[Parallel(n_jobs=4)]: Done   4 out of   4 | elapsed:    0.5s finished\n",
      "[Parallel(n_jobs=4)]: Using backend LokyBackend with 4 concurrent workers.\n"
     ]
    },
    {
     "name": "stdout",
     "output_type": "stream",
     "text": [
      "iteration: 106 of max_iter: 2000\n"
     ]
    },
    {
     "name": "stderr",
     "output_type": "stream",
     "text": [
      "[Parallel(n_jobs=4)]: Done   2 out of   4 | elapsed:    0.5s remaining:    0.5s\n",
      "[Parallel(n_jobs=4)]: Done   4 out of   4 | elapsed:    0.5s remaining:    0.0s\n",
      "[Parallel(n_jobs=4)]: Done   4 out of   4 | elapsed:    0.5s finished\n",
      "[Parallel(n_jobs=4)]: Using backend LokyBackend with 4 concurrent workers.\n"
     ]
    },
    {
     "name": "stdout",
     "output_type": "stream",
     "text": [
      "iteration: 107 of max_iter: 2000\n"
     ]
    },
    {
     "name": "stderr",
     "output_type": "stream",
     "text": [
      "[Parallel(n_jobs=4)]: Done   2 out of   4 | elapsed:    0.4s remaining:    0.4s\n",
      "[Parallel(n_jobs=4)]: Done   4 out of   4 | elapsed:    0.5s remaining:    0.0s\n",
      "[Parallel(n_jobs=4)]: Done   4 out of   4 | elapsed:    0.5s finished\n",
      "[Parallel(n_jobs=4)]: Using backend LokyBackend with 4 concurrent workers.\n"
     ]
    },
    {
     "name": "stdout",
     "output_type": "stream",
     "text": [
      "iteration: 108 of max_iter: 2000\n"
     ]
    },
    {
     "name": "stderr",
     "output_type": "stream",
     "text": [
      "[Parallel(n_jobs=4)]: Done   2 out of   4 | elapsed:    0.5s remaining:    0.5s\n",
      "[Parallel(n_jobs=4)]: Done   4 out of   4 | elapsed:    0.5s remaining:    0.0s\n",
      "[Parallel(n_jobs=4)]: Done   4 out of   4 | elapsed:    0.5s finished\n",
      "[Parallel(n_jobs=4)]: Using backend LokyBackend with 4 concurrent workers.\n"
     ]
    },
    {
     "name": "stdout",
     "output_type": "stream",
     "text": [
      "iteration: 109 of max_iter: 2000\n"
     ]
    },
    {
     "name": "stderr",
     "output_type": "stream",
     "text": [
      "[Parallel(n_jobs=4)]: Done   2 out of   4 | elapsed:    0.4s remaining:    0.4s\n",
      "[Parallel(n_jobs=4)]: Done   4 out of   4 | elapsed:    0.4s remaining:    0.0s\n",
      "[Parallel(n_jobs=4)]: Done   4 out of   4 | elapsed:    0.4s finished\n",
      "[Parallel(n_jobs=4)]: Using backend LokyBackend with 4 concurrent workers.\n"
     ]
    },
    {
     "name": "stdout",
     "output_type": "stream",
     "text": [
      "iteration: 110 of max_iter: 2000\n"
     ]
    },
    {
     "name": "stderr",
     "output_type": "stream",
     "text": [
      "[Parallel(n_jobs=4)]: Done   2 out of   4 | elapsed:    0.5s remaining:    0.5s\n",
      "[Parallel(n_jobs=4)]: Done   4 out of   4 | elapsed:    0.5s remaining:    0.0s\n",
      "[Parallel(n_jobs=4)]: Done   4 out of   4 | elapsed:    0.5s finished\n",
      "[Parallel(n_jobs=4)]: Using backend LokyBackend with 4 concurrent workers.\n"
     ]
    },
    {
     "name": "stdout",
     "output_type": "stream",
     "text": [
      "iteration: 111 of max_iter: 2000\n"
     ]
    },
    {
     "name": "stderr",
     "output_type": "stream",
     "text": [
      "[Parallel(n_jobs=4)]: Done   2 out of   4 | elapsed:    0.5s remaining:    0.5s\n",
      "[Parallel(n_jobs=4)]: Done   4 out of   4 | elapsed:    0.5s remaining:    0.0s\n",
      "[Parallel(n_jobs=4)]: Done   4 out of   4 | elapsed:    0.5s finished\n",
      "[Parallel(n_jobs=4)]: Using backend LokyBackend with 4 concurrent workers.\n"
     ]
    },
    {
     "name": "stdout",
     "output_type": "stream",
     "text": [
      "iteration: 112 of max_iter: 2000\n"
     ]
    },
    {
     "name": "stderr",
     "output_type": "stream",
     "text": [
      "[Parallel(n_jobs=4)]: Done   2 out of   4 | elapsed:    0.5s remaining:    0.5s\n",
      "[Parallel(n_jobs=4)]: Done   4 out of   4 | elapsed:    0.5s remaining:    0.0s\n",
      "[Parallel(n_jobs=4)]: Done   4 out of   4 | elapsed:    0.5s finished\n",
      "[Parallel(n_jobs=4)]: Using backend LokyBackend with 4 concurrent workers.\n"
     ]
    },
    {
     "name": "stdout",
     "output_type": "stream",
     "text": [
      "iteration: 113 of max_iter: 2000\n"
     ]
    },
    {
     "name": "stderr",
     "output_type": "stream",
     "text": [
      "[Parallel(n_jobs=4)]: Done   2 out of   4 | elapsed:    0.5s remaining:    0.5s\n",
      "[Parallel(n_jobs=4)]: Done   4 out of   4 | elapsed:    0.5s remaining:    0.0s\n",
      "[Parallel(n_jobs=4)]: Done   4 out of   4 | elapsed:    0.5s finished\n",
      "[Parallel(n_jobs=4)]: Using backend LokyBackend with 4 concurrent workers.\n"
     ]
    },
    {
     "name": "stdout",
     "output_type": "stream",
     "text": [
      "iteration: 114 of max_iter: 2000\n"
     ]
    },
    {
     "name": "stderr",
     "output_type": "stream",
     "text": [
      "[Parallel(n_jobs=4)]: Done   2 out of   4 | elapsed:    0.4s remaining:    0.4s\n",
      "[Parallel(n_jobs=4)]: Done   4 out of   4 | elapsed:    0.5s remaining:    0.0s\n",
      "[Parallel(n_jobs=4)]: Done   4 out of   4 | elapsed:    0.5s finished\n",
      "[Parallel(n_jobs=4)]: Using backend LokyBackend with 4 concurrent workers.\n"
     ]
    },
    {
     "name": "stdout",
     "output_type": "stream",
     "text": [
      "iteration: 115 of max_iter: 2000\n"
     ]
    },
    {
     "name": "stderr",
     "output_type": "stream",
     "text": [
      "[Parallel(n_jobs=4)]: Done   2 out of   4 | elapsed:    0.5s remaining:    0.5s\n",
      "[Parallel(n_jobs=4)]: Done   4 out of   4 | elapsed:    0.5s remaining:    0.0s\n",
      "[Parallel(n_jobs=4)]: Done   4 out of   4 | elapsed:    0.5s finished\n",
      "[Parallel(n_jobs=4)]: Using backend LokyBackend with 4 concurrent workers.\n"
     ]
    },
    {
     "name": "stdout",
     "output_type": "stream",
     "text": [
      "iteration: 116 of max_iter: 2000\n"
     ]
    },
    {
     "name": "stderr",
     "output_type": "stream",
     "text": [
      "[Parallel(n_jobs=4)]: Done   2 out of   4 | elapsed:    0.5s remaining:    0.5s\n",
      "[Parallel(n_jobs=4)]: Done   4 out of   4 | elapsed:    0.5s remaining:    0.0s\n",
      "[Parallel(n_jobs=4)]: Done   4 out of   4 | elapsed:    0.5s finished\n",
      "[Parallel(n_jobs=4)]: Using backend LokyBackend with 4 concurrent workers.\n"
     ]
    },
    {
     "name": "stdout",
     "output_type": "stream",
     "text": [
      "iteration: 117 of max_iter: 2000\n"
     ]
    },
    {
     "name": "stderr",
     "output_type": "stream",
     "text": [
      "[Parallel(n_jobs=4)]: Done   2 out of   4 | elapsed:    0.4s remaining:    0.4s\n",
      "[Parallel(n_jobs=4)]: Done   4 out of   4 | elapsed:    0.4s remaining:    0.0s\n",
      "[Parallel(n_jobs=4)]: Done   4 out of   4 | elapsed:    0.4s finished\n",
      "[Parallel(n_jobs=4)]: Using backend LokyBackend with 4 concurrent workers.\n"
     ]
    },
    {
     "name": "stdout",
     "output_type": "stream",
     "text": [
      "iteration: 118 of max_iter: 2000\n"
     ]
    },
    {
     "name": "stderr",
     "output_type": "stream",
     "text": [
      "[Parallel(n_jobs=4)]: Done   2 out of   4 | elapsed:    0.5s remaining:    0.5s\n",
      "[Parallel(n_jobs=4)]: Done   4 out of   4 | elapsed:    0.5s remaining:    0.0s\n",
      "[Parallel(n_jobs=4)]: Done   4 out of   4 | elapsed:    0.5s finished\n",
      "[Parallel(n_jobs=4)]: Using backend LokyBackend with 4 concurrent workers.\n"
     ]
    },
    {
     "name": "stdout",
     "output_type": "stream",
     "text": [
      "iteration: 119 of max_iter: 2000\n"
     ]
    },
    {
     "name": "stderr",
     "output_type": "stream",
     "text": [
      "[Parallel(n_jobs=4)]: Done   2 out of   4 | elapsed:    0.4s remaining:    0.4s\n",
      "[Parallel(n_jobs=4)]: Done   4 out of   4 | elapsed:    0.5s remaining:    0.0s\n",
      "[Parallel(n_jobs=4)]: Done   4 out of   4 | elapsed:    0.5s finished\n",
      "[Parallel(n_jobs=4)]: Using backend LokyBackend with 4 concurrent workers.\n"
     ]
    },
    {
     "name": "stdout",
     "output_type": "stream",
     "text": [
      "iteration: 120 of max_iter: 2000\n"
     ]
    },
    {
     "name": "stderr",
     "output_type": "stream",
     "text": [
      "[Parallel(n_jobs=4)]: Done   2 out of   4 | elapsed:    0.5s remaining:    0.5s\n",
      "[Parallel(n_jobs=4)]: Done   4 out of   4 | elapsed:    0.5s remaining:    0.0s\n",
      "[Parallel(n_jobs=4)]: Done   4 out of   4 | elapsed:    0.5s finished\n",
      "[Parallel(n_jobs=4)]: Using backend LokyBackend with 4 concurrent workers.\n"
     ]
    },
    {
     "name": "stdout",
     "output_type": "stream",
     "text": [
      "iteration: 121 of max_iter: 2000\n"
     ]
    },
    {
     "name": "stderr",
     "output_type": "stream",
     "text": [
      "[Parallel(n_jobs=4)]: Done   2 out of   4 | elapsed:    0.4s remaining:    0.4s\n",
      "[Parallel(n_jobs=4)]: Done   4 out of   4 | elapsed:    0.4s remaining:    0.0s\n",
      "[Parallel(n_jobs=4)]: Done   4 out of   4 | elapsed:    0.4s finished\n",
      "[Parallel(n_jobs=4)]: Using backend LokyBackend with 4 concurrent workers.\n"
     ]
    },
    {
     "name": "stdout",
     "output_type": "stream",
     "text": [
      "iteration: 122 of max_iter: 2000\n"
     ]
    },
    {
     "name": "stderr",
     "output_type": "stream",
     "text": [
      "[Parallel(n_jobs=4)]: Done   2 out of   4 | elapsed:    0.5s remaining:    0.5s\n",
      "[Parallel(n_jobs=4)]: Done   4 out of   4 | elapsed:    0.5s remaining:    0.0s\n",
      "[Parallel(n_jobs=4)]: Done   4 out of   4 | elapsed:    0.5s finished\n",
      "[Parallel(n_jobs=4)]: Using backend LokyBackend with 4 concurrent workers.\n"
     ]
    },
    {
     "name": "stdout",
     "output_type": "stream",
     "text": [
      "iteration: 123 of max_iter: 2000\n"
     ]
    },
    {
     "name": "stderr",
     "output_type": "stream",
     "text": [
      "[Parallel(n_jobs=4)]: Done   2 out of   4 | elapsed:    0.4s remaining:    0.4s\n",
      "[Parallel(n_jobs=4)]: Done   4 out of   4 | elapsed:    0.5s remaining:    0.0s\n",
      "[Parallel(n_jobs=4)]: Done   4 out of   4 | elapsed:    0.5s finished\n",
      "[Parallel(n_jobs=4)]: Using backend LokyBackend with 4 concurrent workers.\n"
     ]
    },
    {
     "name": "stdout",
     "output_type": "stream",
     "text": [
      "iteration: 124 of max_iter: 2000\n"
     ]
    },
    {
     "name": "stderr",
     "output_type": "stream",
     "text": [
      "[Parallel(n_jobs=4)]: Done   2 out of   4 | elapsed:    0.4s remaining:    0.4s\n",
      "[Parallel(n_jobs=4)]: Done   4 out of   4 | elapsed:    0.5s remaining:    0.0s\n",
      "[Parallel(n_jobs=4)]: Done   4 out of   4 | elapsed:    0.5s finished\n",
      "[Parallel(n_jobs=4)]: Using backend LokyBackend with 4 concurrent workers.\n"
     ]
    },
    {
     "name": "stdout",
     "output_type": "stream",
     "text": [
      "iteration: 125 of max_iter: 2000\n"
     ]
    },
    {
     "name": "stderr",
     "output_type": "stream",
     "text": [
      "[Parallel(n_jobs=4)]: Done   2 out of   4 | elapsed:    0.5s remaining:    0.5s\n",
      "[Parallel(n_jobs=4)]: Done   4 out of   4 | elapsed:    0.5s remaining:    0.0s\n",
      "[Parallel(n_jobs=4)]: Done   4 out of   4 | elapsed:    0.5s finished\n",
      "[Parallel(n_jobs=4)]: Using backend LokyBackend with 4 concurrent workers.\n"
     ]
    },
    {
     "name": "stdout",
     "output_type": "stream",
     "text": [
      "iteration: 126 of max_iter: 2000\n"
     ]
    },
    {
     "name": "stderr",
     "output_type": "stream",
     "text": [
      "[Parallel(n_jobs=4)]: Done   2 out of   4 | elapsed:    0.4s remaining:    0.4s\n",
      "[Parallel(n_jobs=4)]: Done   4 out of   4 | elapsed:    0.5s remaining:    0.0s\n",
      "[Parallel(n_jobs=4)]: Done   4 out of   4 | elapsed:    0.5s finished\n",
      "[Parallel(n_jobs=4)]: Using backend LokyBackend with 4 concurrent workers.\n"
     ]
    },
    {
     "name": "stdout",
     "output_type": "stream",
     "text": [
      "iteration: 127 of max_iter: 2000\n"
     ]
    },
    {
     "name": "stderr",
     "output_type": "stream",
     "text": [
      "[Parallel(n_jobs=4)]: Done   2 out of   4 | elapsed:    0.5s remaining:    0.5s\n",
      "[Parallel(n_jobs=4)]: Done   4 out of   4 | elapsed:    0.5s remaining:    0.0s\n",
      "[Parallel(n_jobs=4)]: Done   4 out of   4 | elapsed:    0.5s finished\n",
      "[Parallel(n_jobs=4)]: Using backend LokyBackend with 4 concurrent workers.\n"
     ]
    },
    {
     "name": "stdout",
     "output_type": "stream",
     "text": [
      "iteration: 128 of max_iter: 2000\n"
     ]
    },
    {
     "name": "stderr",
     "output_type": "stream",
     "text": [
      "[Parallel(n_jobs=4)]: Done   2 out of   4 | elapsed:    0.4s remaining:    0.4s\n",
      "[Parallel(n_jobs=4)]: Done   4 out of   4 | elapsed:    0.4s remaining:    0.0s\n",
      "[Parallel(n_jobs=4)]: Done   4 out of   4 | elapsed:    0.4s finished\n",
      "[Parallel(n_jobs=4)]: Using backend LokyBackend with 4 concurrent workers.\n"
     ]
    },
    {
     "name": "stdout",
     "output_type": "stream",
     "text": [
      "iteration: 129 of max_iter: 2000\n"
     ]
    },
    {
     "name": "stderr",
     "output_type": "stream",
     "text": [
      "[Parallel(n_jobs=4)]: Done   2 out of   4 | elapsed:    0.5s remaining:    0.5s\n",
      "[Parallel(n_jobs=4)]: Done   4 out of   4 | elapsed:    0.5s remaining:    0.0s\n",
      "[Parallel(n_jobs=4)]: Done   4 out of   4 | elapsed:    0.5s finished\n",
      "[Parallel(n_jobs=4)]: Using backend LokyBackend with 4 concurrent workers.\n"
     ]
    },
    {
     "name": "stdout",
     "output_type": "stream",
     "text": [
      "iteration: 130 of max_iter: 2000\n"
     ]
    },
    {
     "name": "stderr",
     "output_type": "stream",
     "text": [
      "[Parallel(n_jobs=4)]: Done   2 out of   4 | elapsed:    0.4s remaining:    0.4s\n",
      "[Parallel(n_jobs=4)]: Done   4 out of   4 | elapsed:    0.5s remaining:    0.0s\n",
      "[Parallel(n_jobs=4)]: Done   4 out of   4 | elapsed:    0.5s finished\n",
      "[Parallel(n_jobs=4)]: Using backend LokyBackend with 4 concurrent workers.\n"
     ]
    },
    {
     "name": "stdout",
     "output_type": "stream",
     "text": [
      "iteration: 131 of max_iter: 2000\n"
     ]
    },
    {
     "name": "stderr",
     "output_type": "stream",
     "text": [
      "[Parallel(n_jobs=4)]: Done   2 out of   4 | elapsed:    0.4s remaining:    0.4s\n",
      "[Parallel(n_jobs=4)]: Done   4 out of   4 | elapsed:    0.5s remaining:    0.0s\n",
      "[Parallel(n_jobs=4)]: Done   4 out of   4 | elapsed:    0.5s finished\n",
      "[Parallel(n_jobs=4)]: Using backend LokyBackend with 4 concurrent workers.\n"
     ]
    },
    {
     "name": "stdout",
     "output_type": "stream",
     "text": [
      "iteration: 132 of max_iter: 2000\n"
     ]
    },
    {
     "name": "stderr",
     "output_type": "stream",
     "text": [
      "[Parallel(n_jobs=4)]: Done   2 out of   4 | elapsed:    0.4s remaining:    0.4s\n",
      "[Parallel(n_jobs=4)]: Done   4 out of   4 | elapsed:    0.5s remaining:    0.0s\n",
      "[Parallel(n_jobs=4)]: Done   4 out of   4 | elapsed:    0.5s finished\n",
      "[Parallel(n_jobs=4)]: Using backend LokyBackend with 4 concurrent workers.\n"
     ]
    },
    {
     "name": "stdout",
     "output_type": "stream",
     "text": [
      "iteration: 133 of max_iter: 2000\n"
     ]
    },
    {
     "name": "stderr",
     "output_type": "stream",
     "text": [
      "[Parallel(n_jobs=4)]: Done   2 out of   4 | elapsed:    0.4s remaining:    0.4s\n",
      "[Parallel(n_jobs=4)]: Done   4 out of   4 | elapsed:    0.4s remaining:    0.0s\n",
      "[Parallel(n_jobs=4)]: Done   4 out of   4 | elapsed:    0.4s finished\n",
      "[Parallel(n_jobs=4)]: Using backend LokyBackend with 4 concurrent workers.\n"
     ]
    },
    {
     "name": "stdout",
     "output_type": "stream",
     "text": [
      "iteration: 134 of max_iter: 2000\n"
     ]
    },
    {
     "name": "stderr",
     "output_type": "stream",
     "text": [
      "[Parallel(n_jobs=4)]: Done   2 out of   4 | elapsed:    0.5s remaining:    0.5s\n",
      "[Parallel(n_jobs=4)]: Done   4 out of   4 | elapsed:    0.5s remaining:    0.0s\n",
      "[Parallel(n_jobs=4)]: Done   4 out of   4 | elapsed:    0.5s finished\n",
      "[Parallel(n_jobs=4)]: Using backend LokyBackend with 4 concurrent workers.\n"
     ]
    },
    {
     "name": "stdout",
     "output_type": "stream",
     "text": [
      "iteration: 135 of max_iter: 2000\n"
     ]
    },
    {
     "name": "stderr",
     "output_type": "stream",
     "text": [
      "[Parallel(n_jobs=4)]: Done   2 out of   4 | elapsed:    0.4s remaining:    0.4s\n",
      "[Parallel(n_jobs=4)]: Done   4 out of   4 | elapsed:    0.4s remaining:    0.0s\n",
      "[Parallel(n_jobs=4)]: Done   4 out of   4 | elapsed:    0.4s finished\n",
      "[Parallel(n_jobs=4)]: Using backend LokyBackend with 4 concurrent workers.\n"
     ]
    },
    {
     "name": "stdout",
     "output_type": "stream",
     "text": [
      "iteration: 136 of max_iter: 2000\n"
     ]
    },
    {
     "name": "stderr",
     "output_type": "stream",
     "text": [
      "[Parallel(n_jobs=4)]: Done   2 out of   4 | elapsed:    0.5s remaining:    0.5s\n",
      "[Parallel(n_jobs=4)]: Done   4 out of   4 | elapsed:    0.5s remaining:    0.0s\n",
      "[Parallel(n_jobs=4)]: Done   4 out of   4 | elapsed:    0.5s finished\n",
      "[Parallel(n_jobs=4)]: Using backend LokyBackend with 4 concurrent workers.\n"
     ]
    },
    {
     "name": "stdout",
     "output_type": "stream",
     "text": [
      "iteration: 137 of max_iter: 2000\n"
     ]
    },
    {
     "name": "stderr",
     "output_type": "stream",
     "text": [
      "[Parallel(n_jobs=4)]: Done   2 out of   4 | elapsed:    0.5s remaining:    0.5s\n",
      "[Parallel(n_jobs=4)]: Done   4 out of   4 | elapsed:    0.5s remaining:    0.0s\n",
      "[Parallel(n_jobs=4)]: Done   4 out of   4 | elapsed:    0.5s finished\n",
      "[Parallel(n_jobs=4)]: Using backend LokyBackend with 4 concurrent workers.\n"
     ]
    },
    {
     "name": "stdout",
     "output_type": "stream",
     "text": [
      "iteration: 138 of max_iter: 2000\n"
     ]
    },
    {
     "name": "stderr",
     "output_type": "stream",
     "text": [
      "[Parallel(n_jobs=4)]: Done   2 out of   4 | elapsed:    0.4s remaining:    0.4s\n",
      "[Parallel(n_jobs=4)]: Done   4 out of   4 | elapsed:    0.5s remaining:    0.0s\n",
      "[Parallel(n_jobs=4)]: Done   4 out of   4 | elapsed:    0.5s finished\n",
      "[Parallel(n_jobs=4)]: Using backend LokyBackend with 4 concurrent workers.\n"
     ]
    },
    {
     "name": "stdout",
     "output_type": "stream",
     "text": [
      "iteration: 139 of max_iter: 2000\n"
     ]
    },
    {
     "name": "stderr",
     "output_type": "stream",
     "text": [
      "[Parallel(n_jobs=4)]: Done   2 out of   4 | elapsed:    0.5s remaining:    0.5s\n",
      "[Parallel(n_jobs=4)]: Done   4 out of   4 | elapsed:    0.5s remaining:    0.0s\n",
      "[Parallel(n_jobs=4)]: Done   4 out of   4 | elapsed:    0.5s finished\n",
      "[Parallel(n_jobs=4)]: Using backend LokyBackend with 4 concurrent workers.\n"
     ]
    },
    {
     "name": "stdout",
     "output_type": "stream",
     "text": [
      "iteration: 140 of max_iter: 2000\n"
     ]
    },
    {
     "name": "stderr",
     "output_type": "stream",
     "text": [
      "[Parallel(n_jobs=4)]: Done   2 out of   4 | elapsed:    0.4s remaining:    0.4s\n",
      "[Parallel(n_jobs=4)]: Done   4 out of   4 | elapsed:    0.5s remaining:    0.0s\n",
      "[Parallel(n_jobs=4)]: Done   4 out of   4 | elapsed:    0.5s finished\n",
      "[Parallel(n_jobs=4)]: Using backend LokyBackend with 4 concurrent workers.\n"
     ]
    },
    {
     "name": "stdout",
     "output_type": "stream",
     "text": [
      "iteration: 141 of max_iter: 2000\n"
     ]
    },
    {
     "name": "stderr",
     "output_type": "stream",
     "text": [
      "[Parallel(n_jobs=4)]: Done   2 out of   4 | elapsed:    0.5s remaining:    0.5s\n",
      "[Parallel(n_jobs=4)]: Done   4 out of   4 | elapsed:    0.5s remaining:    0.0s\n",
      "[Parallel(n_jobs=4)]: Done   4 out of   4 | elapsed:    0.5s finished\n",
      "[Parallel(n_jobs=4)]: Using backend LokyBackend with 4 concurrent workers.\n"
     ]
    },
    {
     "name": "stdout",
     "output_type": "stream",
     "text": [
      "iteration: 142 of max_iter: 2000\n"
     ]
    },
    {
     "name": "stderr",
     "output_type": "stream",
     "text": [
      "[Parallel(n_jobs=4)]: Done   2 out of   4 | elapsed:    0.4s remaining:    0.4s\n",
      "[Parallel(n_jobs=4)]: Done   4 out of   4 | elapsed:    0.5s remaining:    0.0s\n",
      "[Parallel(n_jobs=4)]: Done   4 out of   4 | elapsed:    0.5s finished\n",
      "[Parallel(n_jobs=4)]: Using backend LokyBackend with 4 concurrent workers.\n"
     ]
    },
    {
     "name": "stdout",
     "output_type": "stream",
     "text": [
      "iteration: 143 of max_iter: 2000\n"
     ]
    },
    {
     "name": "stderr",
     "output_type": "stream",
     "text": [
      "[Parallel(n_jobs=4)]: Done   2 out of   4 | elapsed:    0.5s remaining:    0.5s\n",
      "[Parallel(n_jobs=4)]: Done   4 out of   4 | elapsed:    0.5s remaining:    0.0s\n",
      "[Parallel(n_jobs=4)]: Done   4 out of   4 | elapsed:    0.5s finished\n",
      "[Parallel(n_jobs=4)]: Using backend LokyBackend with 4 concurrent workers.\n"
     ]
    },
    {
     "name": "stdout",
     "output_type": "stream",
     "text": [
      "iteration: 144 of max_iter: 2000\n"
     ]
    },
    {
     "name": "stderr",
     "output_type": "stream",
     "text": [
      "[Parallel(n_jobs=4)]: Done   2 out of   4 | elapsed:    0.5s remaining:    0.5s\n",
      "[Parallel(n_jobs=4)]: Done   4 out of   4 | elapsed:    0.5s remaining:    0.0s\n",
      "[Parallel(n_jobs=4)]: Done   4 out of   4 | elapsed:    0.5s finished\n",
      "[Parallel(n_jobs=4)]: Using backend LokyBackend with 4 concurrent workers.\n"
     ]
    },
    {
     "name": "stdout",
     "output_type": "stream",
     "text": [
      "iteration: 145 of max_iter: 2000\n"
     ]
    },
    {
     "name": "stderr",
     "output_type": "stream",
     "text": [
      "[Parallel(n_jobs=4)]: Done   2 out of   4 | elapsed:    0.5s remaining:    0.5s\n",
      "[Parallel(n_jobs=4)]: Done   4 out of   4 | elapsed:    0.5s remaining:    0.0s\n",
      "[Parallel(n_jobs=4)]: Done   4 out of   4 | elapsed:    0.5s finished\n",
      "[Parallel(n_jobs=4)]: Using backend LokyBackend with 4 concurrent workers.\n"
     ]
    },
    {
     "name": "stdout",
     "output_type": "stream",
     "text": [
      "iteration: 146 of max_iter: 2000\n"
     ]
    },
    {
     "name": "stderr",
     "output_type": "stream",
     "text": [
      "[Parallel(n_jobs=4)]: Done   2 out of   4 | elapsed:    0.5s remaining:    0.5s\n",
      "[Parallel(n_jobs=4)]: Done   4 out of   4 | elapsed:    0.5s remaining:    0.0s\n",
      "[Parallel(n_jobs=4)]: Done   4 out of   4 | elapsed:    0.5s finished\n",
      "[Parallel(n_jobs=4)]: Using backend LokyBackend with 4 concurrent workers.\n"
     ]
    },
    {
     "name": "stdout",
     "output_type": "stream",
     "text": [
      "iteration: 147 of max_iter: 2000\n"
     ]
    },
    {
     "name": "stderr",
     "output_type": "stream",
     "text": [
      "[Parallel(n_jobs=4)]: Done   2 out of   4 | elapsed:    0.4s remaining:    0.4s\n",
      "[Parallel(n_jobs=4)]: Done   4 out of   4 | elapsed:    0.4s remaining:    0.0s\n",
      "[Parallel(n_jobs=4)]: Done   4 out of   4 | elapsed:    0.4s finished\n",
      "[Parallel(n_jobs=4)]: Using backend LokyBackend with 4 concurrent workers.\n"
     ]
    },
    {
     "name": "stdout",
     "output_type": "stream",
     "text": [
      "iteration: 148 of max_iter: 2000\n"
     ]
    },
    {
     "name": "stderr",
     "output_type": "stream",
     "text": [
      "[Parallel(n_jobs=4)]: Done   2 out of   4 | elapsed:    0.5s remaining:    0.5s\n",
      "[Parallel(n_jobs=4)]: Done   4 out of   4 | elapsed:    0.5s remaining:    0.0s\n",
      "[Parallel(n_jobs=4)]: Done   4 out of   4 | elapsed:    0.5s finished\n",
      "[Parallel(n_jobs=4)]: Using backend LokyBackend with 4 concurrent workers.\n"
     ]
    },
    {
     "name": "stdout",
     "output_type": "stream",
     "text": [
      "iteration: 149 of max_iter: 2000\n"
     ]
    },
    {
     "name": "stderr",
     "output_type": "stream",
     "text": [
      "[Parallel(n_jobs=4)]: Done   2 out of   4 | elapsed:    0.4s remaining:    0.4s\n",
      "[Parallel(n_jobs=4)]: Done   4 out of   4 | elapsed:    0.4s remaining:    0.0s\n",
      "[Parallel(n_jobs=4)]: Done   4 out of   4 | elapsed:    0.4s finished\n",
      "[Parallel(n_jobs=4)]: Using backend LokyBackend with 4 concurrent workers.\n"
     ]
    },
    {
     "name": "stdout",
     "output_type": "stream",
     "text": [
      "iteration: 150 of max_iter: 2000\n"
     ]
    },
    {
     "name": "stderr",
     "output_type": "stream",
     "text": [
      "[Parallel(n_jobs=4)]: Done   2 out of   4 | elapsed:    0.4s remaining:    0.4s\n",
      "[Parallel(n_jobs=4)]: Done   4 out of   4 | elapsed:    0.5s remaining:    0.0s\n",
      "[Parallel(n_jobs=4)]: Done   4 out of   4 | elapsed:    0.5s finished\n",
      "[Parallel(n_jobs=4)]: Using backend LokyBackend with 4 concurrent workers.\n"
     ]
    },
    {
     "name": "stdout",
     "output_type": "stream",
     "text": [
      "iteration: 151 of max_iter: 2000\n"
     ]
    },
    {
     "name": "stderr",
     "output_type": "stream",
     "text": [
      "[Parallel(n_jobs=4)]: Done   2 out of   4 | elapsed:    0.5s remaining:    0.5s\n",
      "[Parallel(n_jobs=4)]: Done   4 out of   4 | elapsed:    0.5s remaining:    0.0s\n",
      "[Parallel(n_jobs=4)]: Done   4 out of   4 | elapsed:    0.5s finished\n",
      "[Parallel(n_jobs=4)]: Using backend LokyBackend with 4 concurrent workers.\n"
     ]
    },
    {
     "name": "stdout",
     "output_type": "stream",
     "text": [
      "iteration: 152 of max_iter: 2000\n"
     ]
    },
    {
     "name": "stderr",
     "output_type": "stream",
     "text": [
      "[Parallel(n_jobs=4)]: Done   2 out of   4 | elapsed:    0.4s remaining:    0.4s\n",
      "[Parallel(n_jobs=4)]: Done   4 out of   4 | elapsed:    0.4s remaining:    0.0s\n",
      "[Parallel(n_jobs=4)]: Done   4 out of   4 | elapsed:    0.4s finished\n",
      "[Parallel(n_jobs=4)]: Using backend LokyBackend with 4 concurrent workers.\n"
     ]
    },
    {
     "name": "stdout",
     "output_type": "stream",
     "text": [
      "iteration: 153 of max_iter: 2000\n"
     ]
    },
    {
     "name": "stderr",
     "output_type": "stream",
     "text": [
      "[Parallel(n_jobs=4)]: Done   2 out of   4 | elapsed:    0.5s remaining:    0.5s\n",
      "[Parallel(n_jobs=4)]: Done   4 out of   4 | elapsed:    0.5s remaining:    0.0s\n",
      "[Parallel(n_jobs=4)]: Done   4 out of   4 | elapsed:    0.5s finished\n",
      "[Parallel(n_jobs=4)]: Using backend LokyBackend with 4 concurrent workers.\n"
     ]
    },
    {
     "name": "stdout",
     "output_type": "stream",
     "text": [
      "iteration: 154 of max_iter: 2000\n"
     ]
    },
    {
     "name": "stderr",
     "output_type": "stream",
     "text": [
      "[Parallel(n_jobs=4)]: Done   2 out of   4 | elapsed:    0.4s remaining:    0.4s\n",
      "[Parallel(n_jobs=4)]: Done   4 out of   4 | elapsed:    0.4s remaining:    0.0s\n",
      "[Parallel(n_jobs=4)]: Done   4 out of   4 | elapsed:    0.4s finished\n",
      "[Parallel(n_jobs=4)]: Using backend LokyBackend with 4 concurrent workers.\n"
     ]
    },
    {
     "name": "stdout",
     "output_type": "stream",
     "text": [
      "iteration: 155 of max_iter: 2000\n"
     ]
    },
    {
     "name": "stderr",
     "output_type": "stream",
     "text": [
      "[Parallel(n_jobs=4)]: Done   2 out of   4 | elapsed:    0.5s remaining:    0.5s\n",
      "[Parallel(n_jobs=4)]: Done   4 out of   4 | elapsed:    0.5s remaining:    0.0s\n",
      "[Parallel(n_jobs=4)]: Done   4 out of   4 | elapsed:    0.5s finished\n",
      "[Parallel(n_jobs=4)]: Using backend LokyBackend with 4 concurrent workers.\n"
     ]
    },
    {
     "name": "stdout",
     "output_type": "stream",
     "text": [
      "iteration: 156 of max_iter: 2000\n"
     ]
    },
    {
     "name": "stderr",
     "output_type": "stream",
     "text": [
      "[Parallel(n_jobs=4)]: Done   2 out of   4 | elapsed:    0.4s remaining:    0.4s\n",
      "[Parallel(n_jobs=4)]: Done   4 out of   4 | elapsed:    0.4s remaining:    0.0s\n",
      "[Parallel(n_jobs=4)]: Done   4 out of   4 | elapsed:    0.4s finished\n",
      "[Parallel(n_jobs=4)]: Using backend LokyBackend with 4 concurrent workers.\n"
     ]
    },
    {
     "name": "stdout",
     "output_type": "stream",
     "text": [
      "iteration: 157 of max_iter: 2000\n"
     ]
    },
    {
     "name": "stderr",
     "output_type": "stream",
     "text": [
      "[Parallel(n_jobs=4)]: Done   2 out of   4 | elapsed:    0.5s remaining:    0.5s\n",
      "[Parallel(n_jobs=4)]: Done   4 out of   4 | elapsed:    0.5s remaining:    0.0s\n",
      "[Parallel(n_jobs=4)]: Done   4 out of   4 | elapsed:    0.5s finished\n",
      "[Parallel(n_jobs=4)]: Using backend LokyBackend with 4 concurrent workers.\n"
     ]
    },
    {
     "name": "stdout",
     "output_type": "stream",
     "text": [
      "iteration: 158 of max_iter: 2000\n"
     ]
    },
    {
     "name": "stderr",
     "output_type": "stream",
     "text": [
      "[Parallel(n_jobs=4)]: Done   2 out of   4 | elapsed:    0.5s remaining:    0.5s\n",
      "[Parallel(n_jobs=4)]: Done   4 out of   4 | elapsed:    0.5s remaining:    0.0s\n",
      "[Parallel(n_jobs=4)]: Done   4 out of   4 | elapsed:    0.5s finished\n",
      "[Parallel(n_jobs=4)]: Using backend LokyBackend with 4 concurrent workers.\n"
     ]
    },
    {
     "name": "stdout",
     "output_type": "stream",
     "text": [
      "iteration: 159 of max_iter: 2000\n"
     ]
    },
    {
     "name": "stderr",
     "output_type": "stream",
     "text": [
      "[Parallel(n_jobs=4)]: Done   2 out of   4 | elapsed:    0.5s remaining:    0.5s\n",
      "[Parallel(n_jobs=4)]: Done   4 out of   4 | elapsed:    0.5s remaining:    0.0s\n",
      "[Parallel(n_jobs=4)]: Done   4 out of   4 | elapsed:    0.5s finished\n",
      "[Parallel(n_jobs=4)]: Using backend LokyBackend with 4 concurrent workers.\n"
     ]
    },
    {
     "name": "stdout",
     "output_type": "stream",
     "text": [
      "iteration: 160 of max_iter: 2000\n"
     ]
    },
    {
     "name": "stderr",
     "output_type": "stream",
     "text": [
      "[Parallel(n_jobs=4)]: Done   2 out of   4 | elapsed:    0.5s remaining:    0.5s\n",
      "[Parallel(n_jobs=4)]: Done   4 out of   4 | elapsed:    0.5s remaining:    0.0s\n",
      "[Parallel(n_jobs=4)]: Done   4 out of   4 | elapsed:    0.5s finished\n",
      "[Parallel(n_jobs=4)]: Using backend LokyBackend with 4 concurrent workers.\n"
     ]
    },
    {
     "name": "stdout",
     "output_type": "stream",
     "text": [
      "iteration: 161 of max_iter: 2000\n"
     ]
    },
    {
     "name": "stderr",
     "output_type": "stream",
     "text": [
      "[Parallel(n_jobs=4)]: Done   2 out of   4 | elapsed:    0.4s remaining:    0.4s\n",
      "[Parallel(n_jobs=4)]: Done   4 out of   4 | elapsed:    0.4s remaining:    0.0s\n",
      "[Parallel(n_jobs=4)]: Done   4 out of   4 | elapsed:    0.4s finished\n",
      "[Parallel(n_jobs=4)]: Using backend LokyBackend with 4 concurrent workers.\n"
     ]
    },
    {
     "name": "stdout",
     "output_type": "stream",
     "text": [
      "iteration: 162 of max_iter: 2000\n"
     ]
    },
    {
     "name": "stderr",
     "output_type": "stream",
     "text": [
      "[Parallel(n_jobs=4)]: Done   2 out of   4 | elapsed:    0.5s remaining:    0.5s\n",
      "[Parallel(n_jobs=4)]: Done   4 out of   4 | elapsed:    0.5s remaining:    0.0s\n",
      "[Parallel(n_jobs=4)]: Done   4 out of   4 | elapsed:    0.5s finished\n",
      "[Parallel(n_jobs=4)]: Using backend LokyBackend with 4 concurrent workers.\n"
     ]
    },
    {
     "name": "stdout",
     "output_type": "stream",
     "text": [
      "iteration: 163 of max_iter: 2000\n"
     ]
    },
    {
     "name": "stderr",
     "output_type": "stream",
     "text": [
      "[Parallel(n_jobs=4)]: Done   2 out of   4 | elapsed:    0.5s remaining:    0.5s\n",
      "[Parallel(n_jobs=4)]: Done   4 out of   4 | elapsed:    0.5s remaining:    0.0s\n",
      "[Parallel(n_jobs=4)]: Done   4 out of   4 | elapsed:    0.5s finished\n",
      "[Parallel(n_jobs=4)]: Using backend LokyBackend with 4 concurrent workers.\n"
     ]
    },
    {
     "name": "stdout",
     "output_type": "stream",
     "text": [
      "iteration: 164 of max_iter: 2000\n"
     ]
    },
    {
     "name": "stderr",
     "output_type": "stream",
     "text": [
      "[Parallel(n_jobs=4)]: Done   2 out of   4 | elapsed:    0.4s remaining:    0.4s\n",
      "[Parallel(n_jobs=4)]: Done   4 out of   4 | elapsed:    0.5s remaining:    0.0s\n",
      "[Parallel(n_jobs=4)]: Done   4 out of   4 | elapsed:    0.5s finished\n",
      "[Parallel(n_jobs=4)]: Using backend LokyBackend with 4 concurrent workers.\n"
     ]
    },
    {
     "name": "stdout",
     "output_type": "stream",
     "text": [
      "iteration: 165 of max_iter: 2000\n"
     ]
    },
    {
     "name": "stderr",
     "output_type": "stream",
     "text": [
      "[Parallel(n_jobs=4)]: Done   2 out of   4 | elapsed:    0.5s remaining:    0.5s\n",
      "[Parallel(n_jobs=4)]: Done   4 out of   4 | elapsed:    0.5s remaining:    0.0s\n",
      "[Parallel(n_jobs=4)]: Done   4 out of   4 | elapsed:    0.5s finished\n",
      "[Parallel(n_jobs=4)]: Using backend LokyBackend with 4 concurrent workers.\n"
     ]
    },
    {
     "name": "stdout",
     "output_type": "stream",
     "text": [
      "iteration: 166 of max_iter: 2000\n"
     ]
    },
    {
     "name": "stderr",
     "output_type": "stream",
     "text": [
      "[Parallel(n_jobs=4)]: Done   2 out of   4 | elapsed:    0.4s remaining:    0.4s\n",
      "[Parallel(n_jobs=4)]: Done   4 out of   4 | elapsed:    0.4s remaining:    0.0s\n",
      "[Parallel(n_jobs=4)]: Done   4 out of   4 | elapsed:    0.4s finished\n",
      "[Parallel(n_jobs=4)]: Using backend LokyBackend with 4 concurrent workers.\n"
     ]
    },
    {
     "name": "stdout",
     "output_type": "stream",
     "text": [
      "iteration: 167 of max_iter: 2000\n"
     ]
    },
    {
     "name": "stderr",
     "output_type": "stream",
     "text": [
      "[Parallel(n_jobs=4)]: Done   2 out of   4 | elapsed:    0.5s remaining:    0.5s\n",
      "[Parallel(n_jobs=4)]: Done   4 out of   4 | elapsed:    0.5s remaining:    0.0s\n",
      "[Parallel(n_jobs=4)]: Done   4 out of   4 | elapsed:    0.5s finished\n",
      "[Parallel(n_jobs=4)]: Using backend LokyBackend with 4 concurrent workers.\n"
     ]
    },
    {
     "name": "stdout",
     "output_type": "stream",
     "text": [
      "iteration: 168 of max_iter: 2000\n"
     ]
    },
    {
     "name": "stderr",
     "output_type": "stream",
     "text": [
      "[Parallel(n_jobs=4)]: Done   2 out of   4 | elapsed:    0.4s remaining:    0.4s\n",
      "[Parallel(n_jobs=4)]: Done   4 out of   4 | elapsed:    0.5s remaining:    0.0s\n",
      "[Parallel(n_jobs=4)]: Done   4 out of   4 | elapsed:    0.5s finished\n",
      "[Parallel(n_jobs=4)]: Using backend LokyBackend with 4 concurrent workers.\n"
     ]
    },
    {
     "name": "stdout",
     "output_type": "stream",
     "text": [
      "iteration: 169 of max_iter: 2000\n"
     ]
    },
    {
     "name": "stderr",
     "output_type": "stream",
     "text": [
      "[Parallel(n_jobs=4)]: Done   2 out of   4 | elapsed:    0.5s remaining:    0.5s\n",
      "[Parallel(n_jobs=4)]: Done   4 out of   4 | elapsed:    0.5s remaining:    0.0s\n",
      "[Parallel(n_jobs=4)]: Done   4 out of   4 | elapsed:    0.5s finished\n",
      "[Parallel(n_jobs=4)]: Using backend LokyBackend with 4 concurrent workers.\n"
     ]
    },
    {
     "name": "stdout",
     "output_type": "stream",
     "text": [
      "iteration: 170 of max_iter: 2000\n"
     ]
    },
    {
     "name": "stderr",
     "output_type": "stream",
     "text": [
      "[Parallel(n_jobs=4)]: Done   2 out of   4 | elapsed:    0.5s remaining:    0.5s\n",
      "[Parallel(n_jobs=4)]: Done   4 out of   4 | elapsed:    0.5s remaining:    0.0s\n",
      "[Parallel(n_jobs=4)]: Done   4 out of   4 | elapsed:    0.5s finished\n",
      "[Parallel(n_jobs=4)]: Using backend LokyBackend with 4 concurrent workers.\n"
     ]
    },
    {
     "name": "stdout",
     "output_type": "stream",
     "text": [
      "iteration: 171 of max_iter: 2000\n"
     ]
    },
    {
     "name": "stderr",
     "output_type": "stream",
     "text": [
      "[Parallel(n_jobs=4)]: Done   2 out of   4 | elapsed:    0.4s remaining:    0.4s\n",
      "[Parallel(n_jobs=4)]: Done   4 out of   4 | elapsed:    0.4s remaining:    0.0s\n",
      "[Parallel(n_jobs=4)]: Done   4 out of   4 | elapsed:    0.4s finished\n",
      "[Parallel(n_jobs=4)]: Using backend LokyBackend with 4 concurrent workers.\n"
     ]
    },
    {
     "name": "stdout",
     "output_type": "stream",
     "text": [
      "iteration: 172 of max_iter: 2000\n"
     ]
    },
    {
     "name": "stderr",
     "output_type": "stream",
     "text": [
      "[Parallel(n_jobs=4)]: Done   2 out of   4 | elapsed:    0.5s remaining:    0.5s\n",
      "[Parallel(n_jobs=4)]: Done   4 out of   4 | elapsed:    0.5s remaining:    0.0s\n",
      "[Parallel(n_jobs=4)]: Done   4 out of   4 | elapsed:    0.5s finished\n",
      "[Parallel(n_jobs=4)]: Using backend LokyBackend with 4 concurrent workers.\n"
     ]
    },
    {
     "name": "stdout",
     "output_type": "stream",
     "text": [
      "iteration: 173 of max_iter: 2000\n"
     ]
    },
    {
     "name": "stderr",
     "output_type": "stream",
     "text": [
      "[Parallel(n_jobs=4)]: Done   2 out of   4 | elapsed:    0.4s remaining:    0.4s\n",
      "[Parallel(n_jobs=4)]: Done   4 out of   4 | elapsed:    0.4s remaining:    0.0s\n",
      "[Parallel(n_jobs=4)]: Done   4 out of   4 | elapsed:    0.4s finished\n",
      "[Parallel(n_jobs=4)]: Using backend LokyBackend with 4 concurrent workers.\n"
     ]
    },
    {
     "name": "stdout",
     "output_type": "stream",
     "text": [
      "iteration: 174 of max_iter: 2000\n"
     ]
    },
    {
     "name": "stderr",
     "output_type": "stream",
     "text": [
      "[Parallel(n_jobs=4)]: Done   2 out of   4 | elapsed:    0.5s remaining:    0.5s\n",
      "[Parallel(n_jobs=4)]: Done   4 out of   4 | elapsed:    0.5s remaining:    0.0s\n",
      "[Parallel(n_jobs=4)]: Done   4 out of   4 | elapsed:    0.5s finished\n",
      "[Parallel(n_jobs=4)]: Using backend LokyBackend with 4 concurrent workers.\n"
     ]
    },
    {
     "name": "stdout",
     "output_type": "stream",
     "text": [
      "iteration: 175 of max_iter: 2000\n"
     ]
    },
    {
     "name": "stderr",
     "output_type": "stream",
     "text": [
      "[Parallel(n_jobs=4)]: Done   2 out of   4 | elapsed:    0.4s remaining:    0.4s\n",
      "[Parallel(n_jobs=4)]: Done   4 out of   4 | elapsed:    0.5s remaining:    0.0s\n",
      "[Parallel(n_jobs=4)]: Done   4 out of   4 | elapsed:    0.5s finished\n",
      "[Parallel(n_jobs=4)]: Using backend LokyBackend with 4 concurrent workers.\n"
     ]
    },
    {
     "name": "stdout",
     "output_type": "stream",
     "text": [
      "iteration: 176 of max_iter: 2000\n"
     ]
    },
    {
     "name": "stderr",
     "output_type": "stream",
     "text": [
      "[Parallel(n_jobs=4)]: Done   2 out of   4 | elapsed:    0.5s remaining:    0.5s\n",
      "[Parallel(n_jobs=4)]: Done   4 out of   4 | elapsed:    0.5s remaining:    0.0s\n",
      "[Parallel(n_jobs=4)]: Done   4 out of   4 | elapsed:    0.5s finished\n",
      "[Parallel(n_jobs=4)]: Using backend LokyBackend with 4 concurrent workers.\n"
     ]
    },
    {
     "name": "stdout",
     "output_type": "stream",
     "text": [
      "iteration: 177 of max_iter: 2000\n"
     ]
    },
    {
     "name": "stderr",
     "output_type": "stream",
     "text": [
      "[Parallel(n_jobs=4)]: Done   2 out of   4 | elapsed:    0.5s remaining:    0.5s\n",
      "[Parallel(n_jobs=4)]: Done   4 out of   4 | elapsed:    0.5s remaining:    0.0s\n",
      "[Parallel(n_jobs=4)]: Done   4 out of   4 | elapsed:    0.5s finished\n",
      "[Parallel(n_jobs=4)]: Using backend LokyBackend with 4 concurrent workers.\n"
     ]
    },
    {
     "name": "stdout",
     "output_type": "stream",
     "text": [
      "iteration: 178 of max_iter: 2000\n"
     ]
    },
    {
     "name": "stderr",
     "output_type": "stream",
     "text": [
      "[Parallel(n_jobs=4)]: Done   2 out of   4 | elapsed:    0.4s remaining:    0.4s\n",
      "[Parallel(n_jobs=4)]: Done   4 out of   4 | elapsed:    0.5s remaining:    0.0s\n",
      "[Parallel(n_jobs=4)]: Done   4 out of   4 | elapsed:    0.5s finished\n",
      "[Parallel(n_jobs=4)]: Using backend LokyBackend with 4 concurrent workers.\n"
     ]
    },
    {
     "name": "stdout",
     "output_type": "stream",
     "text": [
      "iteration: 179 of max_iter: 2000\n"
     ]
    },
    {
     "name": "stderr",
     "output_type": "stream",
     "text": [
      "[Parallel(n_jobs=4)]: Done   2 out of   4 | elapsed:    0.5s remaining:    0.5s\n",
      "[Parallel(n_jobs=4)]: Done   4 out of   4 | elapsed:    0.5s remaining:    0.0s\n",
      "[Parallel(n_jobs=4)]: Done   4 out of   4 | elapsed:    0.5s finished\n",
      "[Parallel(n_jobs=4)]: Using backend LokyBackend with 4 concurrent workers.\n"
     ]
    },
    {
     "name": "stdout",
     "output_type": "stream",
     "text": [
      "iteration: 180 of max_iter: 2000\n"
     ]
    },
    {
     "name": "stderr",
     "output_type": "stream",
     "text": [
      "[Parallel(n_jobs=4)]: Done   2 out of   4 | elapsed:    0.4s remaining:    0.4s\n",
      "[Parallel(n_jobs=4)]: Done   4 out of   4 | elapsed:    0.4s remaining:    0.0s\n",
      "[Parallel(n_jobs=4)]: Done   4 out of   4 | elapsed:    0.4s finished\n",
      "[Parallel(n_jobs=4)]: Using backend LokyBackend with 4 concurrent workers.\n"
     ]
    },
    {
     "name": "stdout",
     "output_type": "stream",
     "text": [
      "iteration: 181 of max_iter: 2000\n"
     ]
    },
    {
     "name": "stderr",
     "output_type": "stream",
     "text": [
      "[Parallel(n_jobs=4)]: Done   2 out of   4 | elapsed:    0.5s remaining:    0.5s\n",
      "[Parallel(n_jobs=4)]: Done   4 out of   4 | elapsed:    0.5s remaining:    0.0s\n",
      "[Parallel(n_jobs=4)]: Done   4 out of   4 | elapsed:    0.5s finished\n",
      "[Parallel(n_jobs=4)]: Using backend LokyBackend with 4 concurrent workers.\n"
     ]
    },
    {
     "name": "stdout",
     "output_type": "stream",
     "text": [
      "iteration: 182 of max_iter: 2000\n"
     ]
    },
    {
     "name": "stderr",
     "output_type": "stream",
     "text": [
      "[Parallel(n_jobs=4)]: Done   2 out of   4 | elapsed:    0.4s remaining:    0.4s\n",
      "[Parallel(n_jobs=4)]: Done   4 out of   4 | elapsed:    0.4s remaining:    0.0s\n",
      "[Parallel(n_jobs=4)]: Done   4 out of   4 | elapsed:    0.4s finished\n",
      "[Parallel(n_jobs=4)]: Using backend LokyBackend with 4 concurrent workers.\n"
     ]
    },
    {
     "name": "stdout",
     "output_type": "stream",
     "text": [
      "iteration: 183 of max_iter: 2000\n"
     ]
    },
    {
     "name": "stderr",
     "output_type": "stream",
     "text": [
      "[Parallel(n_jobs=4)]: Done   2 out of   4 | elapsed:    0.5s remaining:    0.5s\n",
      "[Parallel(n_jobs=4)]: Done   4 out of   4 | elapsed:    0.5s remaining:    0.0s\n",
      "[Parallel(n_jobs=4)]: Done   4 out of   4 | elapsed:    0.5s finished\n",
      "[Parallel(n_jobs=4)]: Using backend LokyBackend with 4 concurrent workers.\n"
     ]
    },
    {
     "name": "stdout",
     "output_type": "stream",
     "text": [
      "iteration: 184 of max_iter: 2000\n"
     ]
    },
    {
     "name": "stderr",
     "output_type": "stream",
     "text": [
      "[Parallel(n_jobs=4)]: Done   2 out of   4 | elapsed:    0.5s remaining:    0.5s\n",
      "[Parallel(n_jobs=4)]: Done   4 out of   4 | elapsed:    0.5s remaining:    0.0s\n",
      "[Parallel(n_jobs=4)]: Done   4 out of   4 | elapsed:    0.5s finished\n",
      "[Parallel(n_jobs=4)]: Using backend LokyBackend with 4 concurrent workers.\n"
     ]
    },
    {
     "name": "stdout",
     "output_type": "stream",
     "text": [
      "iteration: 185 of max_iter: 2000\n"
     ]
    },
    {
     "name": "stderr",
     "output_type": "stream",
     "text": [
      "[Parallel(n_jobs=4)]: Done   2 out of   4 | elapsed:    0.4s remaining:    0.4s\n",
      "[Parallel(n_jobs=4)]: Done   4 out of   4 | elapsed:    0.4s remaining:    0.0s\n",
      "[Parallel(n_jobs=4)]: Done   4 out of   4 | elapsed:    0.4s finished\n",
      "[Parallel(n_jobs=4)]: Using backend LokyBackend with 4 concurrent workers.\n"
     ]
    },
    {
     "name": "stdout",
     "output_type": "stream",
     "text": [
      "iteration: 186 of max_iter: 2000\n"
     ]
    },
    {
     "name": "stderr",
     "output_type": "stream",
     "text": [
      "[Parallel(n_jobs=4)]: Done   2 out of   4 | elapsed:    0.5s remaining:    0.5s\n",
      "[Parallel(n_jobs=4)]: Done   4 out of   4 | elapsed:    0.5s remaining:    0.0s\n",
      "[Parallel(n_jobs=4)]: Done   4 out of   4 | elapsed:    0.5s finished\n",
      "[Parallel(n_jobs=4)]: Using backend LokyBackend with 4 concurrent workers.\n"
     ]
    },
    {
     "name": "stdout",
     "output_type": "stream",
     "text": [
      "iteration: 187 of max_iter: 2000\n"
     ]
    },
    {
     "name": "stderr",
     "output_type": "stream",
     "text": [
      "[Parallel(n_jobs=4)]: Done   2 out of   4 | elapsed:    0.4s remaining:    0.4s\n",
      "[Parallel(n_jobs=4)]: Done   4 out of   4 | elapsed:    0.4s remaining:    0.0s\n",
      "[Parallel(n_jobs=4)]: Done   4 out of   4 | elapsed:    0.4s finished\n",
      "[Parallel(n_jobs=4)]: Using backend LokyBackend with 4 concurrent workers.\n"
     ]
    },
    {
     "name": "stdout",
     "output_type": "stream",
     "text": [
      "iteration: 188 of max_iter: 2000\n"
     ]
    },
    {
     "name": "stderr",
     "output_type": "stream",
     "text": [
      "[Parallel(n_jobs=4)]: Done   2 out of   4 | elapsed:    0.5s remaining:    0.5s\n",
      "[Parallel(n_jobs=4)]: Done   4 out of   4 | elapsed:    0.5s remaining:    0.0s\n",
      "[Parallel(n_jobs=4)]: Done   4 out of   4 | elapsed:    0.5s finished\n",
      "[Parallel(n_jobs=4)]: Using backend LokyBackend with 4 concurrent workers.\n"
     ]
    },
    {
     "name": "stdout",
     "output_type": "stream",
     "text": [
      "iteration: 189 of max_iter: 2000\n"
     ]
    },
    {
     "name": "stderr",
     "output_type": "stream",
     "text": [
      "[Parallel(n_jobs=4)]: Done   2 out of   4 | elapsed:    0.4s remaining:    0.4s\n",
      "[Parallel(n_jobs=4)]: Done   4 out of   4 | elapsed:    0.4s remaining:    0.0s\n",
      "[Parallel(n_jobs=4)]: Done   4 out of   4 | elapsed:    0.4s finished\n",
      "[Parallel(n_jobs=4)]: Using backend LokyBackend with 4 concurrent workers.\n"
     ]
    },
    {
     "name": "stdout",
     "output_type": "stream",
     "text": [
      "iteration: 190 of max_iter: 2000\n"
     ]
    },
    {
     "name": "stderr",
     "output_type": "stream",
     "text": [
      "[Parallel(n_jobs=4)]: Done   2 out of   4 | elapsed:    0.4s remaining:    0.4s\n",
      "[Parallel(n_jobs=4)]: Done   4 out of   4 | elapsed:    0.5s remaining:    0.0s\n",
      "[Parallel(n_jobs=4)]: Done   4 out of   4 | elapsed:    0.5s finished\n",
      "[Parallel(n_jobs=4)]: Using backend LokyBackend with 4 concurrent workers.\n"
     ]
    },
    {
     "name": "stdout",
     "output_type": "stream",
     "text": [
      "iteration: 191 of max_iter: 2000\n"
     ]
    },
    {
     "name": "stderr",
     "output_type": "stream",
     "text": [
      "[Parallel(n_jobs=4)]: Done   2 out of   4 | elapsed:    0.5s remaining:    0.5s\n",
      "[Parallel(n_jobs=4)]: Done   4 out of   4 | elapsed:    0.5s remaining:    0.0s\n",
      "[Parallel(n_jobs=4)]: Done   4 out of   4 | elapsed:    0.5s finished\n",
      "[Parallel(n_jobs=4)]: Using backend LokyBackend with 4 concurrent workers.\n"
     ]
    },
    {
     "name": "stdout",
     "output_type": "stream",
     "text": [
      "iteration: 192 of max_iter: 2000\n"
     ]
    },
    {
     "name": "stderr",
     "output_type": "stream",
     "text": [
      "[Parallel(n_jobs=4)]: Done   2 out of   4 | elapsed:    0.4s remaining:    0.4s\n",
      "[Parallel(n_jobs=4)]: Done   4 out of   4 | elapsed:    0.4s remaining:    0.0s\n",
      "[Parallel(n_jobs=4)]: Done   4 out of   4 | elapsed:    0.4s finished\n",
      "[Parallel(n_jobs=4)]: Using backend LokyBackend with 4 concurrent workers.\n"
     ]
    },
    {
     "name": "stdout",
     "output_type": "stream",
     "text": [
      "iteration: 193 of max_iter: 2000\n"
     ]
    },
    {
     "name": "stderr",
     "output_type": "stream",
     "text": [
      "[Parallel(n_jobs=4)]: Done   2 out of   4 | elapsed:    0.5s remaining:    0.5s\n",
      "[Parallel(n_jobs=4)]: Done   4 out of   4 | elapsed:    0.5s remaining:    0.0s\n",
      "[Parallel(n_jobs=4)]: Done   4 out of   4 | elapsed:    0.5s finished\n",
      "[Parallel(n_jobs=4)]: Using backend LokyBackend with 4 concurrent workers.\n"
     ]
    },
    {
     "name": "stdout",
     "output_type": "stream",
     "text": [
      "iteration: 194 of max_iter: 2000\n"
     ]
    },
    {
     "name": "stderr",
     "output_type": "stream",
     "text": [
      "[Parallel(n_jobs=4)]: Done   2 out of   4 | elapsed:    0.4s remaining:    0.4s\n",
      "[Parallel(n_jobs=4)]: Done   4 out of   4 | elapsed:    0.5s remaining:    0.0s\n",
      "[Parallel(n_jobs=4)]: Done   4 out of   4 | elapsed:    0.5s finished\n",
      "[Parallel(n_jobs=4)]: Using backend LokyBackend with 4 concurrent workers.\n"
     ]
    },
    {
     "name": "stdout",
     "output_type": "stream",
     "text": [
      "iteration: 195 of max_iter: 2000\n"
     ]
    },
    {
     "name": "stderr",
     "output_type": "stream",
     "text": [
      "[Parallel(n_jobs=4)]: Done   2 out of   4 | elapsed:    0.5s remaining:    0.5s\n",
      "[Parallel(n_jobs=4)]: Done   4 out of   4 | elapsed:    0.5s remaining:    0.0s\n",
      "[Parallel(n_jobs=4)]: Done   4 out of   4 | elapsed:    0.5s finished\n",
      "[Parallel(n_jobs=4)]: Using backend LokyBackend with 4 concurrent workers.\n"
     ]
    },
    {
     "name": "stdout",
     "output_type": "stream",
     "text": [
      "iteration: 196 of max_iter: 2000\n"
     ]
    },
    {
     "name": "stderr",
     "output_type": "stream",
     "text": [
      "[Parallel(n_jobs=4)]: Done   2 out of   4 | elapsed:    0.5s remaining:    0.5s\n",
      "[Parallel(n_jobs=4)]: Done   4 out of   4 | elapsed:    0.5s remaining:    0.0s\n",
      "[Parallel(n_jobs=4)]: Done   4 out of   4 | elapsed:    0.5s finished\n",
      "[Parallel(n_jobs=4)]: Using backend LokyBackend with 4 concurrent workers.\n"
     ]
    },
    {
     "name": "stdout",
     "output_type": "stream",
     "text": [
      "iteration: 197 of max_iter: 2000\n"
     ]
    },
    {
     "name": "stderr",
     "output_type": "stream",
     "text": [
      "[Parallel(n_jobs=4)]: Done   2 out of   4 | elapsed:    0.4s remaining:    0.4s\n",
      "[Parallel(n_jobs=4)]: Done   4 out of   4 | elapsed:    0.4s remaining:    0.0s\n",
      "[Parallel(n_jobs=4)]: Done   4 out of   4 | elapsed:    0.4s finished\n",
      "[Parallel(n_jobs=4)]: Using backend LokyBackend with 4 concurrent workers.\n"
     ]
    },
    {
     "name": "stdout",
     "output_type": "stream",
     "text": [
      "iteration: 198 of max_iter: 2000\n"
     ]
    },
    {
     "name": "stderr",
     "output_type": "stream",
     "text": [
      "[Parallel(n_jobs=4)]: Done   2 out of   4 | elapsed:    0.5s remaining:    0.5s\n",
      "[Parallel(n_jobs=4)]: Done   4 out of   4 | elapsed:    0.5s remaining:    0.0s\n",
      "[Parallel(n_jobs=4)]: Done   4 out of   4 | elapsed:    0.5s finished\n",
      "[Parallel(n_jobs=4)]: Using backend LokyBackend with 4 concurrent workers.\n"
     ]
    },
    {
     "name": "stdout",
     "output_type": "stream",
     "text": [
      "iteration: 199 of max_iter: 2000\n"
     ]
    },
    {
     "name": "stderr",
     "output_type": "stream",
     "text": [
      "[Parallel(n_jobs=4)]: Done   2 out of   4 | elapsed:    0.4s remaining:    0.4s\n",
      "[Parallel(n_jobs=4)]: Done   4 out of   4 | elapsed:    0.5s remaining:    0.0s\n",
      "[Parallel(n_jobs=4)]: Done   4 out of   4 | elapsed:    0.5s finished\n",
      "[Parallel(n_jobs=4)]: Using backend LokyBackend with 4 concurrent workers.\n"
     ]
    },
    {
     "name": "stdout",
     "output_type": "stream",
     "text": [
      "iteration: 200 of max_iter: 2000\n"
     ]
    },
    {
     "name": "stderr",
     "output_type": "stream",
     "text": [
      "[Parallel(n_jobs=4)]: Done   2 out of   4 | elapsed:    0.5s remaining:    0.5s\n",
      "[Parallel(n_jobs=4)]: Done   4 out of   4 | elapsed:    0.5s remaining:    0.0s\n",
      "[Parallel(n_jobs=4)]: Done   4 out of   4 | elapsed:    0.5s finished\n",
      "[Parallel(n_jobs=4)]: Using backend LokyBackend with 4 concurrent workers.\n"
     ]
    },
    {
     "name": "stdout",
     "output_type": "stream",
     "text": [
      "iteration: 201 of max_iter: 2000\n"
     ]
    },
    {
     "name": "stderr",
     "output_type": "stream",
     "text": [
      "[Parallel(n_jobs=4)]: Done   2 out of   4 | elapsed:    0.4s remaining:    0.4s\n",
      "[Parallel(n_jobs=4)]: Done   4 out of   4 | elapsed:    0.4s remaining:    0.0s\n",
      "[Parallel(n_jobs=4)]: Done   4 out of   4 | elapsed:    0.4s finished\n",
      "[Parallel(n_jobs=4)]: Using backend LokyBackend with 4 concurrent workers.\n"
     ]
    },
    {
     "name": "stdout",
     "output_type": "stream",
     "text": [
      "iteration: 202 of max_iter: 2000\n"
     ]
    },
    {
     "name": "stderr",
     "output_type": "stream",
     "text": [
      "[Parallel(n_jobs=4)]: Done   2 out of   4 | elapsed:    0.5s remaining:    0.5s\n",
      "[Parallel(n_jobs=4)]: Done   4 out of   4 | elapsed:    0.5s remaining:    0.0s\n",
      "[Parallel(n_jobs=4)]: Done   4 out of   4 | elapsed:    0.5s finished\n",
      "[Parallel(n_jobs=4)]: Using backend LokyBackend with 4 concurrent workers.\n"
     ]
    },
    {
     "name": "stdout",
     "output_type": "stream",
     "text": [
      "iteration: 203 of max_iter: 2000\n"
     ]
    },
    {
     "name": "stderr",
     "output_type": "stream",
     "text": [
      "[Parallel(n_jobs=4)]: Done   2 out of   4 | elapsed:    0.5s remaining:    0.5s\n",
      "[Parallel(n_jobs=4)]: Done   4 out of   4 | elapsed:    0.5s remaining:    0.0s\n",
      "[Parallel(n_jobs=4)]: Done   4 out of   4 | elapsed:    0.5s finished\n",
      "[Parallel(n_jobs=4)]: Using backend LokyBackend with 4 concurrent workers.\n"
     ]
    },
    {
     "name": "stdout",
     "output_type": "stream",
     "text": [
      "iteration: 204 of max_iter: 2000\n"
     ]
    },
    {
     "name": "stderr",
     "output_type": "stream",
     "text": [
      "[Parallel(n_jobs=4)]: Done   2 out of   4 | elapsed:    0.4s remaining:    0.4s\n",
      "[Parallel(n_jobs=4)]: Done   4 out of   4 | elapsed:    0.4s remaining:    0.0s\n",
      "[Parallel(n_jobs=4)]: Done   4 out of   4 | elapsed:    0.4s finished\n",
      "[Parallel(n_jobs=4)]: Using backend LokyBackend with 4 concurrent workers.\n"
     ]
    },
    {
     "name": "stdout",
     "output_type": "stream",
     "text": [
      "iteration: 205 of max_iter: 2000\n"
     ]
    },
    {
     "name": "stderr",
     "output_type": "stream",
     "text": [
      "[Parallel(n_jobs=4)]: Done   2 out of   4 | elapsed:    0.5s remaining:    0.5s\n",
      "[Parallel(n_jobs=4)]: Done   4 out of   4 | elapsed:    0.5s remaining:    0.0s\n",
      "[Parallel(n_jobs=4)]: Done   4 out of   4 | elapsed:    0.5s finished\n",
      "[Parallel(n_jobs=4)]: Using backend LokyBackend with 4 concurrent workers.\n"
     ]
    },
    {
     "name": "stdout",
     "output_type": "stream",
     "text": [
      "iteration: 206 of max_iter: 2000\n"
     ]
    },
    {
     "name": "stderr",
     "output_type": "stream",
     "text": [
      "[Parallel(n_jobs=4)]: Done   2 out of   4 | elapsed:    0.4s remaining:    0.4s\n",
      "[Parallel(n_jobs=4)]: Done   4 out of   4 | elapsed:    0.4s remaining:    0.0s\n",
      "[Parallel(n_jobs=4)]: Done   4 out of   4 | elapsed:    0.4s finished\n",
      "[Parallel(n_jobs=4)]: Using backend LokyBackend with 4 concurrent workers.\n"
     ]
    },
    {
     "name": "stdout",
     "output_type": "stream",
     "text": [
      "iteration: 207 of max_iter: 2000\n"
     ]
    },
    {
     "name": "stderr",
     "output_type": "stream",
     "text": [
      "[Parallel(n_jobs=4)]: Done   2 out of   4 | elapsed:    0.5s remaining:    0.5s\n",
      "[Parallel(n_jobs=4)]: Done   4 out of   4 | elapsed:    0.5s remaining:    0.0s\n",
      "[Parallel(n_jobs=4)]: Done   4 out of   4 | elapsed:    0.5s finished\n",
      "[Parallel(n_jobs=4)]: Using backend LokyBackend with 4 concurrent workers.\n"
     ]
    },
    {
     "name": "stdout",
     "output_type": "stream",
     "text": [
      "iteration: 208 of max_iter: 2000\n"
     ]
    },
    {
     "name": "stderr",
     "output_type": "stream",
     "text": [
      "[Parallel(n_jobs=4)]: Done   2 out of   4 | elapsed:    0.4s remaining:    0.4s\n",
      "[Parallel(n_jobs=4)]: Done   4 out of   4 | elapsed:    0.4s remaining:    0.0s\n",
      "[Parallel(n_jobs=4)]: Done   4 out of   4 | elapsed:    0.4s finished\n",
      "[Parallel(n_jobs=4)]: Using backend LokyBackend with 4 concurrent workers.\n"
     ]
    },
    {
     "name": "stdout",
     "output_type": "stream",
     "text": [
      "iteration: 209 of max_iter: 2000\n"
     ]
    },
    {
     "name": "stderr",
     "output_type": "stream",
     "text": [
      "[Parallel(n_jobs=4)]: Done   2 out of   4 | elapsed:    0.5s remaining:    0.5s\n",
      "[Parallel(n_jobs=4)]: Done   4 out of   4 | elapsed:    0.5s remaining:    0.0s\n",
      "[Parallel(n_jobs=4)]: Done   4 out of   4 | elapsed:    0.5s finished\n",
      "[Parallel(n_jobs=4)]: Using backend LokyBackend with 4 concurrent workers.\n"
     ]
    },
    {
     "name": "stdout",
     "output_type": "stream",
     "text": [
      "iteration: 210 of max_iter: 2000\n"
     ]
    },
    {
     "name": "stderr",
     "output_type": "stream",
     "text": [
      "[Parallel(n_jobs=4)]: Done   2 out of   4 | elapsed:    0.5s remaining:    0.5s\n",
      "[Parallel(n_jobs=4)]: Done   4 out of   4 | elapsed:    0.5s remaining:    0.0s\n",
      "[Parallel(n_jobs=4)]: Done   4 out of   4 | elapsed:    0.5s finished\n",
      "[Parallel(n_jobs=4)]: Using backend LokyBackend with 4 concurrent workers.\n"
     ]
    },
    {
     "name": "stdout",
     "output_type": "stream",
     "text": [
      "iteration: 211 of max_iter: 2000\n"
     ]
    },
    {
     "name": "stderr",
     "output_type": "stream",
     "text": [
      "[Parallel(n_jobs=4)]: Done   2 out of   4 | elapsed:    0.6s remaining:    0.6s\n",
      "[Parallel(n_jobs=4)]: Done   4 out of   4 | elapsed:    0.6s remaining:    0.0s\n",
      "[Parallel(n_jobs=4)]: Done   4 out of   4 | elapsed:    0.6s finished\n",
      "[Parallel(n_jobs=4)]: Using backend LokyBackend with 4 concurrent workers.\n"
     ]
    },
    {
     "name": "stdout",
     "output_type": "stream",
     "text": [
      "iteration: 212 of max_iter: 2000\n"
     ]
    },
    {
     "name": "stderr",
     "output_type": "stream",
     "text": [
      "[Parallel(n_jobs=4)]: Done   2 out of   4 | elapsed:    0.6s remaining:    0.6s\n",
      "[Parallel(n_jobs=4)]: Done   4 out of   4 | elapsed:    0.7s remaining:    0.0s\n",
      "[Parallel(n_jobs=4)]: Done   4 out of   4 | elapsed:    0.7s finished\n",
      "[Parallel(n_jobs=4)]: Using backend LokyBackend with 4 concurrent workers.\n"
     ]
    },
    {
     "name": "stdout",
     "output_type": "stream",
     "text": [
      "iteration: 213 of max_iter: 2000\n"
     ]
    },
    {
     "name": "stderr",
     "output_type": "stream",
     "text": [
      "[Parallel(n_jobs=4)]: Done   2 out of   4 | elapsed:    0.6s remaining:    0.6s\n",
      "[Parallel(n_jobs=4)]: Done   4 out of   4 | elapsed:    0.7s remaining:    0.0s\n",
      "[Parallel(n_jobs=4)]: Done   4 out of   4 | elapsed:    0.7s finished\n",
      "[Parallel(n_jobs=4)]: Using backend LokyBackend with 4 concurrent workers.\n"
     ]
    },
    {
     "name": "stdout",
     "output_type": "stream",
     "text": [
      "iteration: 214 of max_iter: 2000\n"
     ]
    },
    {
     "name": "stderr",
     "output_type": "stream",
     "text": [
      "[Parallel(n_jobs=4)]: Done   2 out of   4 | elapsed:    0.4s remaining:    0.4s\n",
      "[Parallel(n_jobs=4)]: Done   4 out of   4 | elapsed:    0.5s remaining:    0.0s\n",
      "[Parallel(n_jobs=4)]: Done   4 out of   4 | elapsed:    0.5s finished\n",
      "[Parallel(n_jobs=4)]: Using backend LokyBackend with 4 concurrent workers.\n"
     ]
    },
    {
     "name": "stdout",
     "output_type": "stream",
     "text": [
      "iteration: 215 of max_iter: 2000\n"
     ]
    },
    {
     "name": "stderr",
     "output_type": "stream",
     "text": [
      "[Parallel(n_jobs=4)]: Done   2 out of   4 | elapsed:    0.5s remaining:    0.5s\n",
      "[Parallel(n_jobs=4)]: Done   4 out of   4 | elapsed:    0.5s remaining:    0.0s\n",
      "[Parallel(n_jobs=4)]: Done   4 out of   4 | elapsed:    0.5s finished\n",
      "[Parallel(n_jobs=4)]: Using backend LokyBackend with 4 concurrent workers.\n"
     ]
    },
    {
     "name": "stdout",
     "output_type": "stream",
     "text": [
      "iteration: 216 of max_iter: 2000\n"
     ]
    },
    {
     "name": "stderr",
     "output_type": "stream",
     "text": [
      "[Parallel(n_jobs=4)]: Done   2 out of   4 | elapsed:    0.5s remaining:    0.5s\n",
      "[Parallel(n_jobs=4)]: Done   4 out of   4 | elapsed:    0.5s remaining:    0.0s\n",
      "[Parallel(n_jobs=4)]: Done   4 out of   4 | elapsed:    0.5s finished\n",
      "[Parallel(n_jobs=4)]: Using backend LokyBackend with 4 concurrent workers.\n"
     ]
    },
    {
     "name": "stdout",
     "output_type": "stream",
     "text": [
      "iteration: 217 of max_iter: 2000\n"
     ]
    },
    {
     "name": "stderr",
     "output_type": "stream",
     "text": [
      "[Parallel(n_jobs=4)]: Done   2 out of   4 | elapsed:    0.4s remaining:    0.4s\n",
      "[Parallel(n_jobs=4)]: Done   4 out of   4 | elapsed:    0.5s remaining:    0.0s\n",
      "[Parallel(n_jobs=4)]: Done   4 out of   4 | elapsed:    0.5s finished\n",
      "[Parallel(n_jobs=4)]: Using backend LokyBackend with 4 concurrent workers.\n"
     ]
    },
    {
     "name": "stdout",
     "output_type": "stream",
     "text": [
      "iteration: 218 of max_iter: 2000\n"
     ]
    },
    {
     "name": "stderr",
     "output_type": "stream",
     "text": [
      "[Parallel(n_jobs=4)]: Done   2 out of   4 | elapsed:    0.5s remaining:    0.5s\n",
      "[Parallel(n_jobs=4)]: Done   4 out of   4 | elapsed:    0.5s remaining:    0.0s\n",
      "[Parallel(n_jobs=4)]: Done   4 out of   4 | elapsed:    0.5s finished\n",
      "[Parallel(n_jobs=4)]: Using backend LokyBackend with 4 concurrent workers.\n"
     ]
    },
    {
     "name": "stdout",
     "output_type": "stream",
     "text": [
      "iteration: 219 of max_iter: 2000\n"
     ]
    },
    {
     "name": "stderr",
     "output_type": "stream",
     "text": [
      "[Parallel(n_jobs=4)]: Done   2 out of   4 | elapsed:    0.4s remaining:    0.4s\n",
      "[Parallel(n_jobs=4)]: Done   4 out of   4 | elapsed:    0.4s remaining:    0.0s\n",
      "[Parallel(n_jobs=4)]: Done   4 out of   4 | elapsed:    0.4s finished\n",
      "[Parallel(n_jobs=4)]: Using backend LokyBackend with 4 concurrent workers.\n"
     ]
    },
    {
     "name": "stdout",
     "output_type": "stream",
     "text": [
      "iteration: 220 of max_iter: 2000\n"
     ]
    },
    {
     "name": "stderr",
     "output_type": "stream",
     "text": [
      "[Parallel(n_jobs=4)]: Done   2 out of   4 | elapsed:    0.5s remaining:    0.5s\n",
      "[Parallel(n_jobs=4)]: Done   4 out of   4 | elapsed:    0.5s remaining:    0.0s\n",
      "[Parallel(n_jobs=4)]: Done   4 out of   4 | elapsed:    0.5s finished\n",
      "[Parallel(n_jobs=4)]: Using backend LokyBackend with 4 concurrent workers.\n"
     ]
    },
    {
     "name": "stdout",
     "output_type": "stream",
     "text": [
      "iteration: 221 of max_iter: 2000\n"
     ]
    },
    {
     "name": "stderr",
     "output_type": "stream",
     "text": [
      "[Parallel(n_jobs=4)]: Done   2 out of   4 | elapsed:    0.5s remaining:    0.5s\n",
      "[Parallel(n_jobs=4)]: Done   4 out of   4 | elapsed:    0.5s remaining:    0.0s\n",
      "[Parallel(n_jobs=4)]: Done   4 out of   4 | elapsed:    0.5s finished\n",
      "[Parallel(n_jobs=4)]: Using backend LokyBackend with 4 concurrent workers.\n"
     ]
    },
    {
     "name": "stdout",
     "output_type": "stream",
     "text": [
      "iteration: 222 of max_iter: 2000\n"
     ]
    },
    {
     "name": "stderr",
     "output_type": "stream",
     "text": [
      "[Parallel(n_jobs=4)]: Done   2 out of   4 | elapsed:    0.4s remaining:    0.4s\n",
      "[Parallel(n_jobs=4)]: Done   4 out of   4 | elapsed:    0.4s remaining:    0.0s\n",
      "[Parallel(n_jobs=4)]: Done   4 out of   4 | elapsed:    0.4s finished\n",
      "[Parallel(n_jobs=4)]: Using backend LokyBackend with 4 concurrent workers.\n"
     ]
    },
    {
     "name": "stdout",
     "output_type": "stream",
     "text": [
      "iteration: 223 of max_iter: 2000\n"
     ]
    },
    {
     "name": "stderr",
     "output_type": "stream",
     "text": [
      "[Parallel(n_jobs=4)]: Done   2 out of   4 | elapsed:    0.4s remaining:    0.4s\n",
      "[Parallel(n_jobs=4)]: Done   4 out of   4 | elapsed:    0.5s remaining:    0.0s\n",
      "[Parallel(n_jobs=4)]: Done   4 out of   4 | elapsed:    0.5s finished\n",
      "[Parallel(n_jobs=4)]: Using backend LokyBackend with 4 concurrent workers.\n"
     ]
    },
    {
     "name": "stdout",
     "output_type": "stream",
     "text": [
      "iteration: 224 of max_iter: 2000\n"
     ]
    },
    {
     "name": "stderr",
     "output_type": "stream",
     "text": [
      "[Parallel(n_jobs=4)]: Done   2 out of   4 | elapsed:    0.4s remaining:    0.4s\n",
      "[Parallel(n_jobs=4)]: Done   4 out of   4 | elapsed:    0.4s remaining:    0.0s\n",
      "[Parallel(n_jobs=4)]: Done   4 out of   4 | elapsed:    0.4s finished\n",
      "[Parallel(n_jobs=4)]: Using backend LokyBackend with 4 concurrent workers.\n"
     ]
    },
    {
     "name": "stdout",
     "output_type": "stream",
     "text": [
      "iteration: 225 of max_iter: 2000\n"
     ]
    },
    {
     "name": "stderr",
     "output_type": "stream",
     "text": [
      "[Parallel(n_jobs=4)]: Done   2 out of   4 | elapsed:    0.5s remaining:    0.5s\n",
      "[Parallel(n_jobs=4)]: Done   4 out of   4 | elapsed:    0.5s remaining:    0.0s\n",
      "[Parallel(n_jobs=4)]: Done   4 out of   4 | elapsed:    0.5s finished\n",
      "[Parallel(n_jobs=4)]: Using backend LokyBackend with 4 concurrent workers.\n"
     ]
    },
    {
     "name": "stdout",
     "output_type": "stream",
     "text": [
      "iteration: 226 of max_iter: 2000\n"
     ]
    },
    {
     "name": "stderr",
     "output_type": "stream",
     "text": [
      "[Parallel(n_jobs=4)]: Done   2 out of   4 | elapsed:    0.5s remaining:    0.5s\n",
      "[Parallel(n_jobs=4)]: Done   4 out of   4 | elapsed:    0.5s remaining:    0.0s\n",
      "[Parallel(n_jobs=4)]: Done   4 out of   4 | elapsed:    0.5s finished\n",
      "[Parallel(n_jobs=4)]: Using backend LokyBackend with 4 concurrent workers.\n"
     ]
    },
    {
     "name": "stdout",
     "output_type": "stream",
     "text": [
      "iteration: 227 of max_iter: 2000\n"
     ]
    },
    {
     "name": "stderr",
     "output_type": "stream",
     "text": [
      "[Parallel(n_jobs=4)]: Done   2 out of   4 | elapsed:    0.5s remaining:    0.5s\n",
      "[Parallel(n_jobs=4)]: Done   4 out of   4 | elapsed:    0.5s remaining:    0.0s\n",
      "[Parallel(n_jobs=4)]: Done   4 out of   4 | elapsed:    0.5s finished\n",
      "[Parallel(n_jobs=4)]: Using backend LokyBackend with 4 concurrent workers.\n"
     ]
    },
    {
     "name": "stdout",
     "output_type": "stream",
     "text": [
      "iteration: 228 of max_iter: 2000\n"
     ]
    },
    {
     "name": "stderr",
     "output_type": "stream",
     "text": [
      "[Parallel(n_jobs=4)]: Done   2 out of   4 | elapsed:    0.5s remaining:    0.5s\n",
      "[Parallel(n_jobs=4)]: Done   4 out of   4 | elapsed:    0.5s remaining:    0.0s\n",
      "[Parallel(n_jobs=4)]: Done   4 out of   4 | elapsed:    0.5s finished\n",
      "[Parallel(n_jobs=4)]: Using backend LokyBackend with 4 concurrent workers.\n"
     ]
    },
    {
     "name": "stdout",
     "output_type": "stream",
     "text": [
      "iteration: 229 of max_iter: 2000\n"
     ]
    },
    {
     "name": "stderr",
     "output_type": "stream",
     "text": [
      "[Parallel(n_jobs=4)]: Done   2 out of   4 | elapsed:    0.4s remaining:    0.4s\n",
      "[Parallel(n_jobs=4)]: Done   4 out of   4 | elapsed:    0.4s remaining:    0.0s\n",
      "[Parallel(n_jobs=4)]: Done   4 out of   4 | elapsed:    0.4s finished\n",
      "[Parallel(n_jobs=4)]: Using backend LokyBackend with 4 concurrent workers.\n"
     ]
    },
    {
     "name": "stdout",
     "output_type": "stream",
     "text": [
      "iteration: 230 of max_iter: 2000\n"
     ]
    },
    {
     "name": "stderr",
     "output_type": "stream",
     "text": [
      "[Parallel(n_jobs=4)]: Done   2 out of   4 | elapsed:    0.5s remaining:    0.5s\n",
      "[Parallel(n_jobs=4)]: Done   4 out of   4 | elapsed:    0.5s remaining:    0.0s\n",
      "[Parallel(n_jobs=4)]: Done   4 out of   4 | elapsed:    0.5s finished\n",
      "[Parallel(n_jobs=4)]: Using backend LokyBackend with 4 concurrent workers.\n"
     ]
    },
    {
     "name": "stdout",
     "output_type": "stream",
     "text": [
      "iteration: 231 of max_iter: 2000\n"
     ]
    },
    {
     "name": "stderr",
     "output_type": "stream",
     "text": [
      "[Parallel(n_jobs=4)]: Done   2 out of   4 | elapsed:    0.4s remaining:    0.4s\n",
      "[Parallel(n_jobs=4)]: Done   4 out of   4 | elapsed:    0.5s remaining:    0.0s\n",
      "[Parallel(n_jobs=4)]: Done   4 out of   4 | elapsed:    0.5s finished\n",
      "[Parallel(n_jobs=4)]: Using backend LokyBackend with 4 concurrent workers.\n"
     ]
    },
    {
     "name": "stdout",
     "output_type": "stream",
     "text": [
      "iteration: 232 of max_iter: 2000\n"
     ]
    },
    {
     "name": "stderr",
     "output_type": "stream",
     "text": [
      "[Parallel(n_jobs=4)]: Done   2 out of   4 | elapsed:    0.5s remaining:    0.5s\n",
      "[Parallel(n_jobs=4)]: Done   4 out of   4 | elapsed:    0.5s remaining:    0.0s\n",
      "[Parallel(n_jobs=4)]: Done   4 out of   4 | elapsed:    0.5s finished\n",
      "[Parallel(n_jobs=4)]: Using backend LokyBackend with 4 concurrent workers.\n"
     ]
    },
    {
     "name": "stdout",
     "output_type": "stream",
     "text": [
      "iteration: 233 of max_iter: 2000\n"
     ]
    },
    {
     "name": "stderr",
     "output_type": "stream",
     "text": [
      "[Parallel(n_jobs=4)]: Done   2 out of   4 | elapsed:    0.5s remaining:    0.5s\n",
      "[Parallel(n_jobs=4)]: Done   4 out of   4 | elapsed:    0.5s remaining:    0.0s\n",
      "[Parallel(n_jobs=4)]: Done   4 out of   4 | elapsed:    0.5s finished\n",
      "[Parallel(n_jobs=4)]: Using backend LokyBackend with 4 concurrent workers.\n"
     ]
    },
    {
     "name": "stdout",
     "output_type": "stream",
     "text": [
      "iteration: 234 of max_iter: 2000\n"
     ]
    },
    {
     "name": "stderr",
     "output_type": "stream",
     "text": [
      "[Parallel(n_jobs=4)]: Done   2 out of   4 | elapsed:    0.5s remaining:    0.5s\n",
      "[Parallel(n_jobs=4)]: Done   4 out of   4 | elapsed:    0.5s remaining:    0.0s\n",
      "[Parallel(n_jobs=4)]: Done   4 out of   4 | elapsed:    0.5s finished\n",
      "[Parallel(n_jobs=4)]: Using backend LokyBackend with 4 concurrent workers.\n"
     ]
    },
    {
     "name": "stdout",
     "output_type": "stream",
     "text": [
      "iteration: 235 of max_iter: 2000\n"
     ]
    },
    {
     "name": "stderr",
     "output_type": "stream",
     "text": [
      "[Parallel(n_jobs=4)]: Done   2 out of   4 | elapsed:    0.5s remaining:    0.5s\n",
      "[Parallel(n_jobs=4)]: Done   4 out of   4 | elapsed:    0.5s remaining:    0.0s\n",
      "[Parallel(n_jobs=4)]: Done   4 out of   4 | elapsed:    0.5s finished\n",
      "[Parallel(n_jobs=4)]: Using backend LokyBackend with 4 concurrent workers.\n"
     ]
    },
    {
     "name": "stdout",
     "output_type": "stream",
     "text": [
      "iteration: 236 of max_iter: 2000\n"
     ]
    },
    {
     "name": "stderr",
     "output_type": "stream",
     "text": [
      "[Parallel(n_jobs=4)]: Done   2 out of   4 | elapsed:    0.4s remaining:    0.4s\n",
      "[Parallel(n_jobs=4)]: Done   4 out of   4 | elapsed:    0.5s remaining:    0.0s\n",
      "[Parallel(n_jobs=4)]: Done   4 out of   4 | elapsed:    0.5s finished\n",
      "[Parallel(n_jobs=4)]: Using backend LokyBackend with 4 concurrent workers.\n"
     ]
    },
    {
     "name": "stdout",
     "output_type": "stream",
     "text": [
      "iteration: 237 of max_iter: 2000\n"
     ]
    },
    {
     "name": "stderr",
     "output_type": "stream",
     "text": [
      "[Parallel(n_jobs=4)]: Done   2 out of   4 | elapsed:    0.5s remaining:    0.5s\n",
      "[Parallel(n_jobs=4)]: Done   4 out of   4 | elapsed:    0.5s remaining:    0.0s\n",
      "[Parallel(n_jobs=4)]: Done   4 out of   4 | elapsed:    0.5s finished\n",
      "[Parallel(n_jobs=4)]: Using backend LokyBackend with 4 concurrent workers.\n"
     ]
    },
    {
     "name": "stdout",
     "output_type": "stream",
     "text": [
      "iteration: 238 of max_iter: 2000\n"
     ]
    },
    {
     "name": "stderr",
     "output_type": "stream",
     "text": [
      "[Parallel(n_jobs=4)]: Done   2 out of   4 | elapsed:    0.4s remaining:    0.4s\n",
      "[Parallel(n_jobs=4)]: Done   4 out of   4 | elapsed:    0.5s remaining:    0.0s\n",
      "[Parallel(n_jobs=4)]: Done   4 out of   4 | elapsed:    0.5s finished\n",
      "[Parallel(n_jobs=4)]: Using backend LokyBackend with 4 concurrent workers.\n"
     ]
    },
    {
     "name": "stdout",
     "output_type": "stream",
     "text": [
      "iteration: 239 of max_iter: 2000\n"
     ]
    },
    {
     "name": "stderr",
     "output_type": "stream",
     "text": [
      "[Parallel(n_jobs=4)]: Done   2 out of   4 | elapsed:    0.4s remaining:    0.4s\n",
      "[Parallel(n_jobs=4)]: Done   4 out of   4 | elapsed:    0.5s remaining:    0.0s\n",
      "[Parallel(n_jobs=4)]: Done   4 out of   4 | elapsed:    0.5s finished\n",
      "[Parallel(n_jobs=4)]: Using backend LokyBackend with 4 concurrent workers.\n"
     ]
    },
    {
     "name": "stdout",
     "output_type": "stream",
     "text": [
      "iteration: 240 of max_iter: 2000\n"
     ]
    },
    {
     "name": "stderr",
     "output_type": "stream",
     "text": [
      "[Parallel(n_jobs=4)]: Done   2 out of   4 | elapsed:    0.4s remaining:    0.4s\n",
      "[Parallel(n_jobs=4)]: Done   4 out of   4 | elapsed:    0.5s remaining:    0.0s\n",
      "[Parallel(n_jobs=4)]: Done   4 out of   4 | elapsed:    0.5s finished\n",
      "[Parallel(n_jobs=4)]: Using backend LokyBackend with 4 concurrent workers.\n"
     ]
    },
    {
     "name": "stdout",
     "output_type": "stream",
     "text": [
      "iteration: 241 of max_iter: 2000\n"
     ]
    },
    {
     "name": "stderr",
     "output_type": "stream",
     "text": [
      "[Parallel(n_jobs=4)]: Done   2 out of   4 | elapsed:    0.5s remaining:    0.5s\n",
      "[Parallel(n_jobs=4)]: Done   4 out of   4 | elapsed:    0.5s remaining:    0.0s\n",
      "[Parallel(n_jobs=4)]: Done   4 out of   4 | elapsed:    0.5s finished\n",
      "[Parallel(n_jobs=4)]: Using backend LokyBackend with 4 concurrent workers.\n"
     ]
    },
    {
     "name": "stdout",
     "output_type": "stream",
     "text": [
      "iteration: 242 of max_iter: 2000\n"
     ]
    },
    {
     "name": "stderr",
     "output_type": "stream",
     "text": [
      "[Parallel(n_jobs=4)]: Done   2 out of   4 | elapsed:    0.5s remaining:    0.5s\n",
      "[Parallel(n_jobs=4)]: Done   4 out of   4 | elapsed:    0.5s remaining:    0.0s\n",
      "[Parallel(n_jobs=4)]: Done   4 out of   4 | elapsed:    0.5s finished\n",
      "[Parallel(n_jobs=4)]: Using backend LokyBackend with 4 concurrent workers.\n"
     ]
    },
    {
     "name": "stdout",
     "output_type": "stream",
     "text": [
      "iteration: 243 of max_iter: 2000\n"
     ]
    },
    {
     "name": "stderr",
     "output_type": "stream",
     "text": [
      "[Parallel(n_jobs=4)]: Done   2 out of   4 | elapsed:    0.4s remaining:    0.4s\n",
      "[Parallel(n_jobs=4)]: Done   4 out of   4 | elapsed:    0.4s remaining:    0.0s\n",
      "[Parallel(n_jobs=4)]: Done   4 out of   4 | elapsed:    0.4s finished\n",
      "[Parallel(n_jobs=4)]: Using backend LokyBackend with 4 concurrent workers.\n"
     ]
    },
    {
     "name": "stdout",
     "output_type": "stream",
     "text": [
      "iteration: 244 of max_iter: 2000\n"
     ]
    },
    {
     "name": "stderr",
     "output_type": "stream",
     "text": [
      "[Parallel(n_jobs=4)]: Done   2 out of   4 | elapsed:    0.5s remaining:    0.5s\n",
      "[Parallel(n_jobs=4)]: Done   4 out of   4 | elapsed:    0.5s remaining:    0.0s\n",
      "[Parallel(n_jobs=4)]: Done   4 out of   4 | elapsed:    0.5s finished\n",
      "[Parallel(n_jobs=4)]: Using backend LokyBackend with 4 concurrent workers.\n"
     ]
    },
    {
     "name": "stdout",
     "output_type": "stream",
     "text": [
      "iteration: 245 of max_iter: 2000\n"
     ]
    },
    {
     "name": "stderr",
     "output_type": "stream",
     "text": [
      "[Parallel(n_jobs=4)]: Done   2 out of   4 | elapsed:    0.4s remaining:    0.4s\n",
      "[Parallel(n_jobs=4)]: Done   4 out of   4 | elapsed:    0.5s remaining:    0.0s\n",
      "[Parallel(n_jobs=4)]: Done   4 out of   4 | elapsed:    0.5s finished\n",
      "[Parallel(n_jobs=4)]: Using backend LokyBackend with 4 concurrent workers.\n"
     ]
    },
    {
     "name": "stdout",
     "output_type": "stream",
     "text": [
      "iteration: 246 of max_iter: 2000\n"
     ]
    },
    {
     "name": "stderr",
     "output_type": "stream",
     "text": [
      "[Parallel(n_jobs=4)]: Done   2 out of   4 | elapsed:    0.5s remaining:    0.5s\n",
      "[Parallel(n_jobs=4)]: Done   4 out of   4 | elapsed:    0.5s remaining:    0.0s\n",
      "[Parallel(n_jobs=4)]: Done   4 out of   4 | elapsed:    0.5s finished\n",
      "[Parallel(n_jobs=4)]: Using backend LokyBackend with 4 concurrent workers.\n"
     ]
    },
    {
     "name": "stdout",
     "output_type": "stream",
     "text": [
      "iteration: 247 of max_iter: 2000\n"
     ]
    },
    {
     "name": "stderr",
     "output_type": "stream",
     "text": [
      "[Parallel(n_jobs=4)]: Done   2 out of   4 | elapsed:    0.4s remaining:    0.4s\n",
      "[Parallel(n_jobs=4)]: Done   4 out of   4 | elapsed:    0.5s remaining:    0.0s\n",
      "[Parallel(n_jobs=4)]: Done   4 out of   4 | elapsed:    0.5s finished\n",
      "[Parallel(n_jobs=4)]: Using backend LokyBackend with 4 concurrent workers.\n"
     ]
    },
    {
     "name": "stdout",
     "output_type": "stream",
     "text": [
      "iteration: 248 of max_iter: 2000\n"
     ]
    },
    {
     "name": "stderr",
     "output_type": "stream",
     "text": [
      "[Parallel(n_jobs=4)]: Done   2 out of   4 | elapsed:    0.5s remaining:    0.5s\n",
      "[Parallel(n_jobs=4)]: Done   4 out of   4 | elapsed:    0.5s remaining:    0.0s\n",
      "[Parallel(n_jobs=4)]: Done   4 out of   4 | elapsed:    0.5s finished\n",
      "[Parallel(n_jobs=4)]: Using backend LokyBackend with 4 concurrent workers.\n"
     ]
    },
    {
     "name": "stdout",
     "output_type": "stream",
     "text": [
      "iteration: 249 of max_iter: 2000\n"
     ]
    },
    {
     "name": "stderr",
     "output_type": "stream",
     "text": [
      "[Parallel(n_jobs=4)]: Done   2 out of   4 | elapsed:    0.5s remaining:    0.5s\n",
      "[Parallel(n_jobs=4)]: Done   4 out of   4 | elapsed:    0.5s remaining:    0.0s\n",
      "[Parallel(n_jobs=4)]: Done   4 out of   4 | elapsed:    0.5s finished\n",
      "[Parallel(n_jobs=4)]: Using backend LokyBackend with 4 concurrent workers.\n"
     ]
    },
    {
     "name": "stdout",
     "output_type": "stream",
     "text": [
      "iteration: 250 of max_iter: 2000\n"
     ]
    },
    {
     "name": "stderr",
     "output_type": "stream",
     "text": [
      "[Parallel(n_jobs=4)]: Done   2 out of   4 | elapsed:    0.4s remaining:    0.4s\n",
      "[Parallel(n_jobs=4)]: Done   4 out of   4 | elapsed:    0.4s remaining:    0.0s\n",
      "[Parallel(n_jobs=4)]: Done   4 out of   4 | elapsed:    0.4s finished\n",
      "[Parallel(n_jobs=4)]: Using backend LokyBackend with 4 concurrent workers.\n"
     ]
    },
    {
     "name": "stdout",
     "output_type": "stream",
     "text": [
      "iteration: 251 of max_iter: 2000\n"
     ]
    },
    {
     "name": "stderr",
     "output_type": "stream",
     "text": [
      "[Parallel(n_jobs=4)]: Done   2 out of   4 | elapsed:    0.5s remaining:    0.5s\n",
      "[Parallel(n_jobs=4)]: Done   4 out of   4 | elapsed:    0.5s remaining:    0.0s\n",
      "[Parallel(n_jobs=4)]: Done   4 out of   4 | elapsed:    0.5s finished\n",
      "[Parallel(n_jobs=4)]: Using backend LokyBackend with 4 concurrent workers.\n"
     ]
    },
    {
     "name": "stdout",
     "output_type": "stream",
     "text": [
      "iteration: 252 of max_iter: 2000\n"
     ]
    },
    {
     "name": "stderr",
     "output_type": "stream",
     "text": [
      "[Parallel(n_jobs=4)]: Done   2 out of   4 | elapsed:    0.4s remaining:    0.4s\n",
      "[Parallel(n_jobs=4)]: Done   4 out of   4 | elapsed:    0.5s remaining:    0.0s\n",
      "[Parallel(n_jobs=4)]: Done   4 out of   4 | elapsed:    0.5s finished\n",
      "[Parallel(n_jobs=4)]: Using backend LokyBackend with 4 concurrent workers.\n"
     ]
    },
    {
     "name": "stdout",
     "output_type": "stream",
     "text": [
      "iteration: 253 of max_iter: 2000\n"
     ]
    },
    {
     "name": "stderr",
     "output_type": "stream",
     "text": [
      "[Parallel(n_jobs=4)]: Done   2 out of   4 | elapsed:    0.5s remaining:    0.5s\n",
      "[Parallel(n_jobs=4)]: Done   4 out of   4 | elapsed:    0.5s remaining:    0.0s\n",
      "[Parallel(n_jobs=4)]: Done   4 out of   4 | elapsed:    0.5s finished\n",
      "[Parallel(n_jobs=4)]: Using backend LokyBackend with 4 concurrent workers.\n"
     ]
    },
    {
     "name": "stdout",
     "output_type": "stream",
     "text": [
      "iteration: 254 of max_iter: 2000\n"
     ]
    },
    {
     "name": "stderr",
     "output_type": "stream",
     "text": [
      "[Parallel(n_jobs=4)]: Done   2 out of   4 | elapsed:    0.4s remaining:    0.4s\n",
      "[Parallel(n_jobs=4)]: Done   4 out of   4 | elapsed:    0.5s remaining:    0.0s\n",
      "[Parallel(n_jobs=4)]: Done   4 out of   4 | elapsed:    0.5s finished\n",
      "[Parallel(n_jobs=4)]: Using backend LokyBackend with 4 concurrent workers.\n"
     ]
    },
    {
     "name": "stdout",
     "output_type": "stream",
     "text": [
      "iteration: 255 of max_iter: 2000\n"
     ]
    },
    {
     "name": "stderr",
     "output_type": "stream",
     "text": [
      "[Parallel(n_jobs=4)]: Done   2 out of   4 | elapsed:    0.5s remaining:    0.5s\n",
      "[Parallel(n_jobs=4)]: Done   4 out of   4 | elapsed:    0.5s remaining:    0.0s\n",
      "[Parallel(n_jobs=4)]: Done   4 out of   4 | elapsed:    0.5s finished\n",
      "[Parallel(n_jobs=4)]: Using backend LokyBackend with 4 concurrent workers.\n"
     ]
    },
    {
     "name": "stdout",
     "output_type": "stream",
     "text": [
      "iteration: 256 of max_iter: 2000\n"
     ]
    },
    {
     "name": "stderr",
     "output_type": "stream",
     "text": [
      "[Parallel(n_jobs=4)]: Done   2 out of   4 | elapsed:    0.5s remaining:    0.5s\n",
      "[Parallel(n_jobs=4)]: Done   4 out of   4 | elapsed:    0.5s remaining:    0.0s\n",
      "[Parallel(n_jobs=4)]: Done   4 out of   4 | elapsed:    0.5s finished\n",
      "[Parallel(n_jobs=4)]: Using backend LokyBackend with 4 concurrent workers.\n"
     ]
    },
    {
     "name": "stdout",
     "output_type": "stream",
     "text": [
      "iteration: 257 of max_iter: 2000\n"
     ]
    },
    {
     "name": "stderr",
     "output_type": "stream",
     "text": [
      "[Parallel(n_jobs=4)]: Done   2 out of   4 | elapsed:    0.4s remaining:    0.4s\n",
      "[Parallel(n_jobs=4)]: Done   4 out of   4 | elapsed:    0.5s remaining:    0.0s\n",
      "[Parallel(n_jobs=4)]: Done   4 out of   4 | elapsed:    0.5s finished\n",
      "[Parallel(n_jobs=4)]: Using backend LokyBackend with 4 concurrent workers.\n"
     ]
    },
    {
     "name": "stdout",
     "output_type": "stream",
     "text": [
      "iteration: 258 of max_iter: 2000\n"
     ]
    },
    {
     "name": "stderr",
     "output_type": "stream",
     "text": [
      "[Parallel(n_jobs=4)]: Done   2 out of   4 | elapsed:    0.5s remaining:    0.5s\n",
      "[Parallel(n_jobs=4)]: Done   4 out of   4 | elapsed:    0.5s remaining:    0.0s\n",
      "[Parallel(n_jobs=4)]: Done   4 out of   4 | elapsed:    0.5s finished\n",
      "[Parallel(n_jobs=4)]: Using backend LokyBackend with 4 concurrent workers.\n"
     ]
    },
    {
     "name": "stdout",
     "output_type": "stream",
     "text": [
      "iteration: 259 of max_iter: 2000\n"
     ]
    },
    {
     "name": "stderr",
     "output_type": "stream",
     "text": [
      "[Parallel(n_jobs=4)]: Done   2 out of   4 | elapsed:    0.5s remaining:    0.5s\n",
      "[Parallel(n_jobs=4)]: Done   4 out of   4 | elapsed:    0.5s remaining:    0.0s\n",
      "[Parallel(n_jobs=4)]: Done   4 out of   4 | elapsed:    0.5s finished\n",
      "[Parallel(n_jobs=4)]: Using backend LokyBackend with 4 concurrent workers.\n"
     ]
    },
    {
     "name": "stdout",
     "output_type": "stream",
     "text": [
      "iteration: 260 of max_iter: 2000\n"
     ]
    },
    {
     "name": "stderr",
     "output_type": "stream",
     "text": [
      "[Parallel(n_jobs=4)]: Done   2 out of   4 | elapsed:    0.5s remaining:    0.5s\n",
      "[Parallel(n_jobs=4)]: Done   4 out of   4 | elapsed:    0.5s remaining:    0.0s\n",
      "[Parallel(n_jobs=4)]: Done   4 out of   4 | elapsed:    0.5s finished\n",
      "[Parallel(n_jobs=4)]: Using backend LokyBackend with 4 concurrent workers.\n"
     ]
    },
    {
     "name": "stdout",
     "output_type": "stream",
     "text": [
      "iteration: 261 of max_iter: 2000\n"
     ]
    },
    {
     "name": "stderr",
     "output_type": "stream",
     "text": [
      "[Parallel(n_jobs=4)]: Done   2 out of   4 | elapsed:    0.5s remaining:    0.5s\n",
      "[Parallel(n_jobs=4)]: Done   4 out of   4 | elapsed:    0.5s remaining:    0.0s\n",
      "[Parallel(n_jobs=4)]: Done   4 out of   4 | elapsed:    0.5s finished\n",
      "[Parallel(n_jobs=4)]: Using backend LokyBackend with 4 concurrent workers.\n"
     ]
    },
    {
     "name": "stdout",
     "output_type": "stream",
     "text": [
      "iteration: 262 of max_iter: 2000\n"
     ]
    },
    {
     "name": "stderr",
     "output_type": "stream",
     "text": [
      "[Parallel(n_jobs=4)]: Done   2 out of   4 | elapsed:    0.5s remaining:    0.5s\n",
      "[Parallel(n_jobs=4)]: Done   4 out of   4 | elapsed:    0.5s remaining:    0.0s\n",
      "[Parallel(n_jobs=4)]: Done   4 out of   4 | elapsed:    0.5s finished\n",
      "[Parallel(n_jobs=4)]: Using backend LokyBackend with 4 concurrent workers.\n"
     ]
    },
    {
     "name": "stdout",
     "output_type": "stream",
     "text": [
      "iteration: 263 of max_iter: 2000\n"
     ]
    },
    {
     "name": "stderr",
     "output_type": "stream",
     "text": [
      "[Parallel(n_jobs=4)]: Done   2 out of   4 | elapsed:    0.5s remaining:    0.5s\n",
      "[Parallel(n_jobs=4)]: Done   4 out of   4 | elapsed:    0.5s remaining:    0.0s\n",
      "[Parallel(n_jobs=4)]: Done   4 out of   4 | elapsed:    0.5s finished\n",
      "[Parallel(n_jobs=4)]: Using backend LokyBackend with 4 concurrent workers.\n"
     ]
    },
    {
     "name": "stdout",
     "output_type": "stream",
     "text": [
      "iteration: 264 of max_iter: 2000\n"
     ]
    },
    {
     "name": "stderr",
     "output_type": "stream",
     "text": [
      "[Parallel(n_jobs=4)]: Done   2 out of   4 | elapsed:    0.4s remaining:    0.4s\n",
      "[Parallel(n_jobs=4)]: Done   4 out of   4 | elapsed:    0.5s remaining:    0.0s\n",
      "[Parallel(n_jobs=4)]: Done   4 out of   4 | elapsed:    0.5s finished\n",
      "[Parallel(n_jobs=4)]: Using backend LokyBackend with 4 concurrent workers.\n"
     ]
    },
    {
     "name": "stdout",
     "output_type": "stream",
     "text": [
      "iteration: 265 of max_iter: 2000\n"
     ]
    },
    {
     "name": "stderr",
     "output_type": "stream",
     "text": [
      "[Parallel(n_jobs=4)]: Done   2 out of   4 | elapsed:    0.5s remaining:    0.5s\n",
      "[Parallel(n_jobs=4)]: Done   4 out of   4 | elapsed:    0.5s remaining:    0.0s\n",
      "[Parallel(n_jobs=4)]: Done   4 out of   4 | elapsed:    0.5s finished\n",
      "[Parallel(n_jobs=4)]: Using backend LokyBackend with 4 concurrent workers.\n"
     ]
    },
    {
     "name": "stdout",
     "output_type": "stream",
     "text": [
      "iteration: 266 of max_iter: 2000\n"
     ]
    },
    {
     "name": "stderr",
     "output_type": "stream",
     "text": [
      "[Parallel(n_jobs=4)]: Done   2 out of   4 | elapsed:    0.4s remaining:    0.4s\n",
      "[Parallel(n_jobs=4)]: Done   4 out of   4 | elapsed:    0.5s remaining:    0.0s\n",
      "[Parallel(n_jobs=4)]: Done   4 out of   4 | elapsed:    0.5s finished\n",
      "[Parallel(n_jobs=4)]: Using backend LokyBackend with 4 concurrent workers.\n"
     ]
    },
    {
     "name": "stdout",
     "output_type": "stream",
     "text": [
      "iteration: 267 of max_iter: 2000\n"
     ]
    },
    {
     "name": "stderr",
     "output_type": "stream",
     "text": [
      "[Parallel(n_jobs=4)]: Done   2 out of   4 | elapsed:    0.4s remaining:    0.4s\n",
      "[Parallel(n_jobs=4)]: Done   4 out of   4 | elapsed:    0.5s remaining:    0.0s\n",
      "[Parallel(n_jobs=4)]: Done   4 out of   4 | elapsed:    0.5s finished\n",
      "[Parallel(n_jobs=4)]: Using backend LokyBackend with 4 concurrent workers.\n"
     ]
    },
    {
     "name": "stdout",
     "output_type": "stream",
     "text": [
      "iteration: 268 of max_iter: 2000\n"
     ]
    },
    {
     "name": "stderr",
     "output_type": "stream",
     "text": [
      "[Parallel(n_jobs=4)]: Done   2 out of   4 | elapsed:    0.4s remaining:    0.4s\n",
      "[Parallel(n_jobs=4)]: Done   4 out of   4 | elapsed:    0.5s remaining:    0.0s\n",
      "[Parallel(n_jobs=4)]: Done   4 out of   4 | elapsed:    0.5s finished\n",
      "[Parallel(n_jobs=4)]: Using backend LokyBackend with 4 concurrent workers.\n"
     ]
    },
    {
     "name": "stdout",
     "output_type": "stream",
     "text": [
      "iteration: 269 of max_iter: 2000\n"
     ]
    },
    {
     "name": "stderr",
     "output_type": "stream",
     "text": [
      "[Parallel(n_jobs=4)]: Done   2 out of   4 | elapsed:    0.5s remaining:    0.5s\n",
      "[Parallel(n_jobs=4)]: Done   4 out of   4 | elapsed:    0.5s remaining:    0.0s\n",
      "[Parallel(n_jobs=4)]: Done   4 out of   4 | elapsed:    0.5s finished\n",
      "[Parallel(n_jobs=4)]: Using backend LokyBackend with 4 concurrent workers.\n"
     ]
    },
    {
     "name": "stdout",
     "output_type": "stream",
     "text": [
      "iteration: 270 of max_iter: 2000\n"
     ]
    },
    {
     "name": "stderr",
     "output_type": "stream",
     "text": [
      "[Parallel(n_jobs=4)]: Done   2 out of   4 | elapsed:    0.4s remaining:    0.4s\n",
      "[Parallel(n_jobs=4)]: Done   4 out of   4 | elapsed:    0.5s remaining:    0.0s\n",
      "[Parallel(n_jobs=4)]: Done   4 out of   4 | elapsed:    0.5s finished\n",
      "[Parallel(n_jobs=4)]: Using backend LokyBackend with 4 concurrent workers.\n"
     ]
    },
    {
     "name": "stdout",
     "output_type": "stream",
     "text": [
      "iteration: 271 of max_iter: 2000\n"
     ]
    },
    {
     "name": "stderr",
     "output_type": "stream",
     "text": [
      "[Parallel(n_jobs=4)]: Done   2 out of   4 | elapsed:    0.4s remaining:    0.4s\n",
      "[Parallel(n_jobs=4)]: Done   4 out of   4 | elapsed:    0.5s remaining:    0.0s\n",
      "[Parallel(n_jobs=4)]: Done   4 out of   4 | elapsed:    0.5s finished\n",
      "[Parallel(n_jobs=4)]: Using backend LokyBackend with 4 concurrent workers.\n"
     ]
    },
    {
     "name": "stdout",
     "output_type": "stream",
     "text": [
      "iteration: 272 of max_iter: 2000\n"
     ]
    },
    {
     "name": "stderr",
     "output_type": "stream",
     "text": [
      "[Parallel(n_jobs=4)]: Done   2 out of   4 | elapsed:    0.4s remaining:    0.4s\n",
      "[Parallel(n_jobs=4)]: Done   4 out of   4 | elapsed:    0.5s remaining:    0.0s\n",
      "[Parallel(n_jobs=4)]: Done   4 out of   4 | elapsed:    0.5s finished\n",
      "[Parallel(n_jobs=4)]: Using backend LokyBackend with 4 concurrent workers.\n"
     ]
    },
    {
     "name": "stdout",
     "output_type": "stream",
     "text": [
      "iteration: 273 of max_iter: 2000\n"
     ]
    },
    {
     "name": "stderr",
     "output_type": "stream",
     "text": [
      "[Parallel(n_jobs=4)]: Done   2 out of   4 | elapsed:    0.4s remaining:    0.4s\n",
      "[Parallel(n_jobs=4)]: Done   4 out of   4 | elapsed:    0.5s remaining:    0.0s\n",
      "[Parallel(n_jobs=4)]: Done   4 out of   4 | elapsed:    0.5s finished\n",
      "[Parallel(n_jobs=4)]: Using backend LokyBackend with 4 concurrent workers.\n"
     ]
    },
    {
     "name": "stdout",
     "output_type": "stream",
     "text": [
      "iteration: 274 of max_iter: 2000\n"
     ]
    },
    {
     "name": "stderr",
     "output_type": "stream",
     "text": [
      "[Parallel(n_jobs=4)]: Done   2 out of   4 | elapsed:    0.4s remaining:    0.4s\n",
      "[Parallel(n_jobs=4)]: Done   4 out of   4 | elapsed:    0.5s remaining:    0.0s\n",
      "[Parallel(n_jobs=4)]: Done   4 out of   4 | elapsed:    0.5s finished\n",
      "[Parallel(n_jobs=4)]: Using backend LokyBackend with 4 concurrent workers.\n"
     ]
    },
    {
     "name": "stdout",
     "output_type": "stream",
     "text": [
      "iteration: 275 of max_iter: 2000\n"
     ]
    },
    {
     "name": "stderr",
     "output_type": "stream",
     "text": [
      "[Parallel(n_jobs=4)]: Done   2 out of   4 | elapsed:    0.4s remaining:    0.4s\n",
      "[Parallel(n_jobs=4)]: Done   4 out of   4 | elapsed:    0.5s remaining:    0.0s\n",
      "[Parallel(n_jobs=4)]: Done   4 out of   4 | elapsed:    0.5s finished\n",
      "[Parallel(n_jobs=4)]: Using backend LokyBackend with 4 concurrent workers.\n"
     ]
    },
    {
     "name": "stdout",
     "output_type": "stream",
     "text": [
      "iteration: 276 of max_iter: 2000\n"
     ]
    },
    {
     "name": "stderr",
     "output_type": "stream",
     "text": [
      "[Parallel(n_jobs=4)]: Done   2 out of   4 | elapsed:    0.5s remaining:    0.5s\n",
      "[Parallel(n_jobs=4)]: Done   4 out of   4 | elapsed:    0.5s remaining:    0.0s\n",
      "[Parallel(n_jobs=4)]: Done   4 out of   4 | elapsed:    0.5s finished\n",
      "[Parallel(n_jobs=4)]: Using backend LokyBackend with 4 concurrent workers.\n"
     ]
    },
    {
     "name": "stdout",
     "output_type": "stream",
     "text": [
      "iteration: 277 of max_iter: 2000\n"
     ]
    },
    {
     "name": "stderr",
     "output_type": "stream",
     "text": [
      "[Parallel(n_jobs=4)]: Done   2 out of   4 | elapsed:    0.4s remaining:    0.4s\n",
      "[Parallel(n_jobs=4)]: Done   4 out of   4 | elapsed:    0.5s remaining:    0.0s\n",
      "[Parallel(n_jobs=4)]: Done   4 out of   4 | elapsed:    0.5s finished\n",
      "[Parallel(n_jobs=4)]: Using backend LokyBackend with 4 concurrent workers.\n"
     ]
    },
    {
     "name": "stdout",
     "output_type": "stream",
     "text": [
      "iteration: 278 of max_iter: 2000\n"
     ]
    },
    {
     "name": "stderr",
     "output_type": "stream",
     "text": [
      "[Parallel(n_jobs=4)]: Done   2 out of   4 | elapsed:    0.4s remaining:    0.4s\n",
      "[Parallel(n_jobs=4)]: Done   4 out of   4 | elapsed:    0.5s remaining:    0.0s\n",
      "[Parallel(n_jobs=4)]: Done   4 out of   4 | elapsed:    0.5s finished\n",
      "[Parallel(n_jobs=4)]: Using backend LokyBackend with 4 concurrent workers.\n"
     ]
    },
    {
     "name": "stdout",
     "output_type": "stream",
     "text": [
      "iteration: 279 of max_iter: 2000\n"
     ]
    },
    {
     "name": "stderr",
     "output_type": "stream",
     "text": [
      "[Parallel(n_jobs=4)]: Done   2 out of   4 | elapsed:    0.5s remaining:    0.5s\n",
      "[Parallel(n_jobs=4)]: Done   4 out of   4 | elapsed:    0.5s remaining:    0.0s\n",
      "[Parallel(n_jobs=4)]: Done   4 out of   4 | elapsed:    0.5s finished\n",
      "[Parallel(n_jobs=4)]: Using backend LokyBackend with 4 concurrent workers.\n"
     ]
    },
    {
     "name": "stdout",
     "output_type": "stream",
     "text": [
      "iteration: 280 of max_iter: 2000\n"
     ]
    },
    {
     "name": "stderr",
     "output_type": "stream",
     "text": [
      "[Parallel(n_jobs=4)]: Done   2 out of   4 | elapsed:    0.4s remaining:    0.4s\n",
      "[Parallel(n_jobs=4)]: Done   4 out of   4 | elapsed:    0.5s remaining:    0.0s\n",
      "[Parallel(n_jobs=4)]: Done   4 out of   4 | elapsed:    0.5s finished\n",
      "[Parallel(n_jobs=4)]: Using backend LokyBackend with 4 concurrent workers.\n"
     ]
    },
    {
     "name": "stdout",
     "output_type": "stream",
     "text": [
      "iteration: 281 of max_iter: 2000\n"
     ]
    },
    {
     "name": "stderr",
     "output_type": "stream",
     "text": [
      "[Parallel(n_jobs=4)]: Done   2 out of   4 | elapsed:    0.5s remaining:    0.5s\n",
      "[Parallel(n_jobs=4)]: Done   4 out of   4 | elapsed:    0.5s remaining:    0.0s\n",
      "[Parallel(n_jobs=4)]: Done   4 out of   4 | elapsed:    0.5s finished\n",
      "[Parallel(n_jobs=4)]: Using backend LokyBackend with 4 concurrent workers.\n"
     ]
    },
    {
     "name": "stdout",
     "output_type": "stream",
     "text": [
      "iteration: 282 of max_iter: 2000\n"
     ]
    },
    {
     "name": "stderr",
     "output_type": "stream",
     "text": [
      "[Parallel(n_jobs=4)]: Done   2 out of   4 | elapsed:    0.4s remaining:    0.4s\n",
      "[Parallel(n_jobs=4)]: Done   4 out of   4 | elapsed:    0.5s remaining:    0.0s\n",
      "[Parallel(n_jobs=4)]: Done   4 out of   4 | elapsed:    0.5s finished\n",
      "[Parallel(n_jobs=4)]: Using backend LokyBackend with 4 concurrent workers.\n"
     ]
    },
    {
     "name": "stdout",
     "output_type": "stream",
     "text": [
      "iteration: 283 of max_iter: 2000\n"
     ]
    },
    {
     "name": "stderr",
     "output_type": "stream",
     "text": [
      "[Parallel(n_jobs=4)]: Done   2 out of   4 | elapsed:    0.5s remaining:    0.5s\n",
      "[Parallel(n_jobs=4)]: Done   4 out of   4 | elapsed:    0.5s remaining:    0.0s\n",
      "[Parallel(n_jobs=4)]: Done   4 out of   4 | elapsed:    0.5s finished\n",
      "[Parallel(n_jobs=4)]: Using backend LokyBackend with 4 concurrent workers.\n"
     ]
    },
    {
     "name": "stdout",
     "output_type": "stream",
     "text": [
      "iteration: 284 of max_iter: 2000\n"
     ]
    },
    {
     "name": "stderr",
     "output_type": "stream",
     "text": [
      "[Parallel(n_jobs=4)]: Done   2 out of   4 | elapsed:    0.6s remaining:    0.6s\n",
      "[Parallel(n_jobs=4)]: Done   4 out of   4 | elapsed:    0.6s remaining:    0.0s\n",
      "[Parallel(n_jobs=4)]: Done   4 out of   4 | elapsed:    0.6s finished\n",
      "[Parallel(n_jobs=4)]: Using backend LokyBackend with 4 concurrent workers.\n"
     ]
    },
    {
     "name": "stdout",
     "output_type": "stream",
     "text": [
      "iteration: 285 of max_iter: 2000\n"
     ]
    },
    {
     "name": "stderr",
     "output_type": "stream",
     "text": [
      "[Parallel(n_jobs=4)]: Done   2 out of   4 | elapsed:    0.6s remaining:    0.6s\n",
      "[Parallel(n_jobs=4)]: Done   4 out of   4 | elapsed:    0.6s remaining:    0.0s\n",
      "[Parallel(n_jobs=4)]: Done   4 out of   4 | elapsed:    0.6s finished\n",
      "[Parallel(n_jobs=4)]: Using backend LokyBackend with 4 concurrent workers.\n"
     ]
    },
    {
     "name": "stdout",
     "output_type": "stream",
     "text": [
      "iteration: 286 of max_iter: 2000\n"
     ]
    },
    {
     "name": "stderr",
     "output_type": "stream",
     "text": [
      "[Parallel(n_jobs=4)]: Done   2 out of   4 | elapsed:    0.5s remaining:    0.5s\n",
      "[Parallel(n_jobs=4)]: Done   4 out of   4 | elapsed:    0.5s remaining:    0.0s\n",
      "[Parallel(n_jobs=4)]: Done   4 out of   4 | elapsed:    0.5s finished\n",
      "[Parallel(n_jobs=4)]: Using backend LokyBackend with 4 concurrent workers.\n"
     ]
    },
    {
     "name": "stdout",
     "output_type": "stream",
     "text": [
      "iteration: 287 of max_iter: 2000\n"
     ]
    },
    {
     "name": "stderr",
     "output_type": "stream",
     "text": [
      "[Parallel(n_jobs=4)]: Done   2 out of   4 | elapsed:    0.5s remaining:    0.5s\n",
      "[Parallel(n_jobs=4)]: Done   4 out of   4 | elapsed:    0.5s remaining:    0.0s\n",
      "[Parallel(n_jobs=4)]: Done   4 out of   4 | elapsed:    0.5s finished\n",
      "[Parallel(n_jobs=4)]: Using backend LokyBackend with 4 concurrent workers.\n"
     ]
    },
    {
     "name": "stdout",
     "output_type": "stream",
     "text": [
      "iteration: 288 of max_iter: 2000\n"
     ]
    },
    {
     "name": "stderr",
     "output_type": "stream",
     "text": [
      "[Parallel(n_jobs=4)]: Done   2 out of   4 | elapsed:    0.5s remaining:    0.5s\n",
      "[Parallel(n_jobs=4)]: Done   4 out of   4 | elapsed:    0.5s remaining:    0.0s\n",
      "[Parallel(n_jobs=4)]: Done   4 out of   4 | elapsed:    0.5s finished\n",
      "[Parallel(n_jobs=4)]: Using backend LokyBackend with 4 concurrent workers.\n"
     ]
    },
    {
     "name": "stdout",
     "output_type": "stream",
     "text": [
      "iteration: 289 of max_iter: 2000\n"
     ]
    },
    {
     "name": "stderr",
     "output_type": "stream",
     "text": [
      "[Parallel(n_jobs=4)]: Done   2 out of   4 | elapsed:    0.5s remaining:    0.5s\n",
      "[Parallel(n_jobs=4)]: Done   4 out of   4 | elapsed:    0.5s remaining:    0.0s\n",
      "[Parallel(n_jobs=4)]: Done   4 out of   4 | elapsed:    0.5s finished\n",
      "[Parallel(n_jobs=4)]: Using backend LokyBackend with 4 concurrent workers.\n"
     ]
    },
    {
     "name": "stdout",
     "output_type": "stream",
     "text": [
      "iteration: 290 of max_iter: 2000\n"
     ]
    },
    {
     "name": "stderr",
     "output_type": "stream",
     "text": [
      "[Parallel(n_jobs=4)]: Done   2 out of   4 | elapsed:    0.4s remaining:    0.4s\n",
      "[Parallel(n_jobs=4)]: Done   4 out of   4 | elapsed:    0.5s remaining:    0.0s\n",
      "[Parallel(n_jobs=4)]: Done   4 out of   4 | elapsed:    0.5s finished\n",
      "[Parallel(n_jobs=4)]: Using backend LokyBackend with 4 concurrent workers.\n"
     ]
    },
    {
     "name": "stdout",
     "output_type": "stream",
     "text": [
      "iteration: 291 of max_iter: 2000\n"
     ]
    },
    {
     "name": "stderr",
     "output_type": "stream",
     "text": [
      "[Parallel(n_jobs=4)]: Done   2 out of   4 | elapsed:    0.5s remaining:    0.5s\n",
      "[Parallel(n_jobs=4)]: Done   4 out of   4 | elapsed:    0.5s remaining:    0.0s\n",
      "[Parallel(n_jobs=4)]: Done   4 out of   4 | elapsed:    0.5s finished\n",
      "[Parallel(n_jobs=4)]: Using backend LokyBackend with 4 concurrent workers.\n"
     ]
    },
    {
     "name": "stdout",
     "output_type": "stream",
     "text": [
      "iteration: 292 of max_iter: 2000\n"
     ]
    },
    {
     "name": "stderr",
     "output_type": "stream",
     "text": [
      "[Parallel(n_jobs=4)]: Done   2 out of   4 | elapsed:    0.4s remaining:    0.4s\n",
      "[Parallel(n_jobs=4)]: Done   4 out of   4 | elapsed:    0.5s remaining:    0.0s\n",
      "[Parallel(n_jobs=4)]: Done   4 out of   4 | elapsed:    0.5s finished\n",
      "[Parallel(n_jobs=4)]: Using backend LokyBackend with 4 concurrent workers.\n"
     ]
    },
    {
     "name": "stdout",
     "output_type": "stream",
     "text": [
      "iteration: 293 of max_iter: 2000\n"
     ]
    },
    {
     "name": "stderr",
     "output_type": "stream",
     "text": [
      "[Parallel(n_jobs=4)]: Done   2 out of   4 | elapsed:    0.5s remaining:    0.5s\n",
      "[Parallel(n_jobs=4)]: Done   4 out of   4 | elapsed:    0.5s remaining:    0.0s\n",
      "[Parallel(n_jobs=4)]: Done   4 out of   4 | elapsed:    0.5s finished\n",
      "[Parallel(n_jobs=4)]: Using backend LokyBackend with 4 concurrent workers.\n"
     ]
    },
    {
     "name": "stdout",
     "output_type": "stream",
     "text": [
      "iteration: 294 of max_iter: 2000\n"
     ]
    },
    {
     "name": "stderr",
     "output_type": "stream",
     "text": [
      "[Parallel(n_jobs=4)]: Done   2 out of   4 | elapsed:    0.5s remaining:    0.5s\n",
      "[Parallel(n_jobs=4)]: Done   4 out of   4 | elapsed:    0.5s remaining:    0.0s\n",
      "[Parallel(n_jobs=4)]: Done   4 out of   4 | elapsed:    0.5s finished\n",
      "[Parallel(n_jobs=4)]: Using backend LokyBackend with 4 concurrent workers.\n"
     ]
    },
    {
     "name": "stdout",
     "output_type": "stream",
     "text": [
      "iteration: 295 of max_iter: 2000\n"
     ]
    },
    {
     "name": "stderr",
     "output_type": "stream",
     "text": [
      "[Parallel(n_jobs=4)]: Done   2 out of   4 | elapsed:    0.4s remaining:    0.4s\n",
      "[Parallel(n_jobs=4)]: Done   4 out of   4 | elapsed:    0.5s remaining:    0.0s\n",
      "[Parallel(n_jobs=4)]: Done   4 out of   4 | elapsed:    0.5s finished\n",
      "[Parallel(n_jobs=4)]: Using backend LokyBackend with 4 concurrent workers.\n"
     ]
    },
    {
     "name": "stdout",
     "output_type": "stream",
     "text": [
      "iteration: 296 of max_iter: 2000\n"
     ]
    },
    {
     "name": "stderr",
     "output_type": "stream",
     "text": [
      "[Parallel(n_jobs=4)]: Done   2 out of   4 | elapsed:    0.5s remaining:    0.5s\n",
      "[Parallel(n_jobs=4)]: Done   4 out of   4 | elapsed:    0.5s remaining:    0.0s\n",
      "[Parallel(n_jobs=4)]: Done   4 out of   4 | elapsed:    0.5s finished\n",
      "[Parallel(n_jobs=4)]: Using backend LokyBackend with 4 concurrent workers.\n"
     ]
    },
    {
     "name": "stdout",
     "output_type": "stream",
     "text": [
      "iteration: 297 of max_iter: 2000\n"
     ]
    },
    {
     "name": "stderr",
     "output_type": "stream",
     "text": [
      "[Parallel(n_jobs=4)]: Done   2 out of   4 | elapsed:    0.4s remaining:    0.4s\n",
      "[Parallel(n_jobs=4)]: Done   4 out of   4 | elapsed:    0.4s remaining:    0.0s\n",
      "[Parallel(n_jobs=4)]: Done   4 out of   4 | elapsed:    0.4s finished\n",
      "[Parallel(n_jobs=4)]: Using backend LokyBackend with 4 concurrent workers.\n"
     ]
    },
    {
     "name": "stdout",
     "output_type": "stream",
     "text": [
      "iteration: 298 of max_iter: 2000\n"
     ]
    },
    {
     "name": "stderr",
     "output_type": "stream",
     "text": [
      "[Parallel(n_jobs=4)]: Done   2 out of   4 | elapsed:    0.5s remaining:    0.5s\n",
      "[Parallel(n_jobs=4)]: Done   4 out of   4 | elapsed:    0.5s remaining:    0.0s\n",
      "[Parallel(n_jobs=4)]: Done   4 out of   4 | elapsed:    0.5s finished\n",
      "[Parallel(n_jobs=4)]: Using backend LokyBackend with 4 concurrent workers.\n"
     ]
    },
    {
     "name": "stdout",
     "output_type": "stream",
     "text": [
      "iteration: 299 of max_iter: 2000\n"
     ]
    },
    {
     "name": "stderr",
     "output_type": "stream",
     "text": [
      "[Parallel(n_jobs=4)]: Done   2 out of   4 | elapsed:    0.4s remaining:    0.4s\n",
      "[Parallel(n_jobs=4)]: Done   4 out of   4 | elapsed:    0.5s remaining:    0.0s\n",
      "[Parallel(n_jobs=4)]: Done   4 out of   4 | elapsed:    0.5s finished\n",
      "[Parallel(n_jobs=4)]: Using backend LokyBackend with 4 concurrent workers.\n"
     ]
    },
    {
     "name": "stdout",
     "output_type": "stream",
     "text": [
      "iteration: 300 of max_iter: 2000\n"
     ]
    },
    {
     "name": "stderr",
     "output_type": "stream",
     "text": [
      "[Parallel(n_jobs=4)]: Done   2 out of   4 | elapsed:    0.5s remaining:    0.5s\n",
      "[Parallel(n_jobs=4)]: Done   4 out of   4 | elapsed:    0.5s remaining:    0.0s\n",
      "[Parallel(n_jobs=4)]: Done   4 out of   4 | elapsed:    0.5s finished\n",
      "[Parallel(n_jobs=4)]: Using backend LokyBackend with 4 concurrent workers.\n"
     ]
    },
    {
     "name": "stdout",
     "output_type": "stream",
     "text": [
      "iteration: 301 of max_iter: 2000\n"
     ]
    },
    {
     "name": "stderr",
     "output_type": "stream",
     "text": [
      "[Parallel(n_jobs=4)]: Done   2 out of   4 | elapsed:    0.5s remaining:    0.5s\n",
      "[Parallel(n_jobs=4)]: Done   4 out of   4 | elapsed:    0.5s remaining:    0.0s\n",
      "[Parallel(n_jobs=4)]: Done   4 out of   4 | elapsed:    0.5s finished\n",
      "[Parallel(n_jobs=4)]: Using backend LokyBackend with 4 concurrent workers.\n"
     ]
    },
    {
     "name": "stdout",
     "output_type": "stream",
     "text": [
      "iteration: 302 of max_iter: 2000\n"
     ]
    },
    {
     "name": "stderr",
     "output_type": "stream",
     "text": [
      "[Parallel(n_jobs=4)]: Done   2 out of   4 | elapsed:    0.4s remaining:    0.4s\n",
      "[Parallel(n_jobs=4)]: Done   4 out of   4 | elapsed:    0.4s remaining:    0.0s\n",
      "[Parallel(n_jobs=4)]: Done   4 out of   4 | elapsed:    0.5s finished\n",
      "[Parallel(n_jobs=4)]: Using backend LokyBackend with 4 concurrent workers.\n"
     ]
    },
    {
     "name": "stdout",
     "output_type": "stream",
     "text": [
      "iteration: 303 of max_iter: 2000\n"
     ]
    },
    {
     "name": "stderr",
     "output_type": "stream",
     "text": [
      "[Parallel(n_jobs=4)]: Done   2 out of   4 | elapsed:    0.5s remaining:    0.5s\n",
      "[Parallel(n_jobs=4)]: Done   4 out of   4 | elapsed:    0.5s remaining:    0.0s\n",
      "[Parallel(n_jobs=4)]: Done   4 out of   4 | elapsed:    0.5s finished\n",
      "[Parallel(n_jobs=4)]: Using backend LokyBackend with 4 concurrent workers.\n"
     ]
    },
    {
     "name": "stdout",
     "output_type": "stream",
     "text": [
      "iteration: 304 of max_iter: 2000\n"
     ]
    },
    {
     "name": "stderr",
     "output_type": "stream",
     "text": [
      "[Parallel(n_jobs=4)]: Done   2 out of   4 | elapsed:    0.4s remaining:    0.4s\n",
      "[Parallel(n_jobs=4)]: Done   4 out of   4 | elapsed:    0.5s remaining:    0.0s\n",
      "[Parallel(n_jobs=4)]: Done   4 out of   4 | elapsed:    0.5s finished\n",
      "[Parallel(n_jobs=4)]: Using backend LokyBackend with 4 concurrent workers.\n"
     ]
    },
    {
     "name": "stdout",
     "output_type": "stream",
     "text": [
      "iteration: 305 of max_iter: 2000\n"
     ]
    },
    {
     "name": "stderr",
     "output_type": "stream",
     "text": [
      "[Parallel(n_jobs=4)]: Done   2 out of   4 | elapsed:    0.5s remaining:    0.5s\n",
      "[Parallel(n_jobs=4)]: Done   4 out of   4 | elapsed:    0.5s remaining:    0.0s\n",
      "[Parallel(n_jobs=4)]: Done   4 out of   4 | elapsed:    0.5s finished\n",
      "[Parallel(n_jobs=4)]: Using backend LokyBackend with 4 concurrent workers.\n"
     ]
    },
    {
     "name": "stdout",
     "output_type": "stream",
     "text": [
      "iteration: 306 of max_iter: 2000\n"
     ]
    },
    {
     "name": "stderr",
     "output_type": "stream",
     "text": [
      "[Parallel(n_jobs=4)]: Done   2 out of   4 | elapsed:    0.4s remaining:    0.4s\n",
      "[Parallel(n_jobs=4)]: Done   4 out of   4 | elapsed:    0.4s remaining:    0.0s\n",
      "[Parallel(n_jobs=4)]: Done   4 out of   4 | elapsed:    0.4s finished\n",
      "[Parallel(n_jobs=4)]: Using backend LokyBackend with 4 concurrent workers.\n"
     ]
    },
    {
     "name": "stdout",
     "output_type": "stream",
     "text": [
      "iteration: 307 of max_iter: 2000\n"
     ]
    },
    {
     "name": "stderr",
     "output_type": "stream",
     "text": [
      "[Parallel(n_jobs=4)]: Done   2 out of   4 | elapsed:    0.4s remaining:    0.4s\n",
      "[Parallel(n_jobs=4)]: Done   4 out of   4 | elapsed:    0.5s remaining:    0.0s\n",
      "[Parallel(n_jobs=4)]: Done   4 out of   4 | elapsed:    0.5s finished\n",
      "[Parallel(n_jobs=4)]: Using backend LokyBackend with 4 concurrent workers.\n"
     ]
    },
    {
     "name": "stdout",
     "output_type": "stream",
     "text": [
      "iteration: 308 of max_iter: 2000\n"
     ]
    },
    {
     "name": "stderr",
     "output_type": "stream",
     "text": [
      "[Parallel(n_jobs=4)]: Done   2 out of   4 | elapsed:    0.4s remaining:    0.4s\n",
      "[Parallel(n_jobs=4)]: Done   4 out of   4 | elapsed:    0.5s remaining:    0.0s\n",
      "[Parallel(n_jobs=4)]: Done   4 out of   4 | elapsed:    0.5s finished\n",
      "[Parallel(n_jobs=4)]: Using backend LokyBackend with 4 concurrent workers.\n"
     ]
    },
    {
     "name": "stdout",
     "output_type": "stream",
     "text": [
      "iteration: 309 of max_iter: 2000\n"
     ]
    },
    {
     "name": "stderr",
     "output_type": "stream",
     "text": [
      "[Parallel(n_jobs=4)]: Done   2 out of   4 | elapsed:    0.4s remaining:    0.4s\n",
      "[Parallel(n_jobs=4)]: Done   4 out of   4 | elapsed:    0.5s remaining:    0.0s\n",
      "[Parallel(n_jobs=4)]: Done   4 out of   4 | elapsed:    0.5s finished\n",
      "[Parallel(n_jobs=4)]: Using backend LokyBackend with 4 concurrent workers.\n"
     ]
    },
    {
     "name": "stdout",
     "output_type": "stream",
     "text": [
      "iteration: 310 of max_iter: 2000\n"
     ]
    },
    {
     "name": "stderr",
     "output_type": "stream",
     "text": [
      "[Parallel(n_jobs=4)]: Done   2 out of   4 | elapsed:    0.5s remaining:    0.5s\n",
      "[Parallel(n_jobs=4)]: Done   4 out of   4 | elapsed:    0.5s remaining:    0.0s\n",
      "[Parallel(n_jobs=4)]: Done   4 out of   4 | elapsed:    0.5s finished\n",
      "[Parallel(n_jobs=4)]: Using backend LokyBackend with 4 concurrent workers.\n"
     ]
    },
    {
     "name": "stdout",
     "output_type": "stream",
     "text": [
      "iteration: 311 of max_iter: 2000\n"
     ]
    },
    {
     "name": "stderr",
     "output_type": "stream",
     "text": [
      "[Parallel(n_jobs=4)]: Done   2 out of   4 | elapsed:    0.4s remaining:    0.4s\n",
      "[Parallel(n_jobs=4)]: Done   4 out of   4 | elapsed:    0.4s remaining:    0.0s\n",
      "[Parallel(n_jobs=4)]: Done   4 out of   4 | elapsed:    0.4s finished\n",
      "[Parallel(n_jobs=4)]: Using backend LokyBackend with 4 concurrent workers.\n"
     ]
    },
    {
     "name": "stdout",
     "output_type": "stream",
     "text": [
      "iteration: 312 of max_iter: 2000\n"
     ]
    },
    {
     "name": "stderr",
     "output_type": "stream",
     "text": [
      "[Parallel(n_jobs=4)]: Done   2 out of   4 | elapsed:    0.5s remaining:    0.5s\n",
      "[Parallel(n_jobs=4)]: Done   4 out of   4 | elapsed:    0.5s remaining:    0.0s\n",
      "[Parallel(n_jobs=4)]: Done   4 out of   4 | elapsed:    0.5s finished\n",
      "[Parallel(n_jobs=4)]: Using backend LokyBackend with 4 concurrent workers.\n"
     ]
    },
    {
     "name": "stdout",
     "output_type": "stream",
     "text": [
      "iteration: 313 of max_iter: 2000\n"
     ]
    },
    {
     "name": "stderr",
     "output_type": "stream",
     "text": [
      "[Parallel(n_jobs=4)]: Done   2 out of   4 | elapsed:    0.5s remaining:    0.5s\n",
      "[Parallel(n_jobs=4)]: Done   4 out of   4 | elapsed:    0.5s remaining:    0.0s\n",
      "[Parallel(n_jobs=4)]: Done   4 out of   4 | elapsed:    0.5s finished\n",
      "[Parallel(n_jobs=4)]: Using backend LokyBackend with 4 concurrent workers.\n"
     ]
    },
    {
     "name": "stdout",
     "output_type": "stream",
     "text": [
      "iteration: 314 of max_iter: 2000\n"
     ]
    },
    {
     "name": "stderr",
     "output_type": "stream",
     "text": [
      "[Parallel(n_jobs=4)]: Done   2 out of   4 | elapsed:    0.4s remaining:    0.4s\n",
      "[Parallel(n_jobs=4)]: Done   4 out of   4 | elapsed:    0.4s remaining:    0.0s\n",
      "[Parallel(n_jobs=4)]: Done   4 out of   4 | elapsed:    0.4s finished\n",
      "[Parallel(n_jobs=4)]: Using backend LokyBackend with 4 concurrent workers.\n"
     ]
    },
    {
     "name": "stdout",
     "output_type": "stream",
     "text": [
      "iteration: 315 of max_iter: 2000\n"
     ]
    },
    {
     "name": "stderr",
     "output_type": "stream",
     "text": [
      "[Parallel(n_jobs=4)]: Done   2 out of   4 | elapsed:    0.5s remaining:    0.5s\n",
      "[Parallel(n_jobs=4)]: Done   4 out of   4 | elapsed:    0.5s remaining:    0.0s\n",
      "[Parallel(n_jobs=4)]: Done   4 out of   4 | elapsed:    0.5s finished\n",
      "[Parallel(n_jobs=4)]: Using backend LokyBackend with 4 concurrent workers.\n"
     ]
    },
    {
     "name": "stdout",
     "output_type": "stream",
     "text": [
      "iteration: 316 of max_iter: 2000\n"
     ]
    },
    {
     "name": "stderr",
     "output_type": "stream",
     "text": [
      "[Parallel(n_jobs=4)]: Done   2 out of   4 | elapsed:    0.4s remaining:    0.4s\n",
      "[Parallel(n_jobs=4)]: Done   4 out of   4 | elapsed:    0.5s remaining:    0.0s\n",
      "[Parallel(n_jobs=4)]: Done   4 out of   4 | elapsed:    0.5s finished\n",
      "[Parallel(n_jobs=4)]: Using backend LokyBackend with 4 concurrent workers.\n"
     ]
    },
    {
     "name": "stdout",
     "output_type": "stream",
     "text": [
      "iteration: 317 of max_iter: 2000\n"
     ]
    },
    {
     "name": "stderr",
     "output_type": "stream",
     "text": [
      "[Parallel(n_jobs=4)]: Done   2 out of   4 | elapsed:    0.5s remaining:    0.5s\n",
      "[Parallel(n_jobs=4)]: Done   4 out of   4 | elapsed:    0.5s remaining:    0.0s\n",
      "[Parallel(n_jobs=4)]: Done   4 out of   4 | elapsed:    0.5s finished\n",
      "[Parallel(n_jobs=4)]: Using backend LokyBackend with 4 concurrent workers.\n"
     ]
    },
    {
     "name": "stdout",
     "output_type": "stream",
     "text": [
      "iteration: 318 of max_iter: 2000\n"
     ]
    },
    {
     "name": "stderr",
     "output_type": "stream",
     "text": [
      "[Parallel(n_jobs=4)]: Done   2 out of   4 | elapsed:    0.4s remaining:    0.4s\n",
      "[Parallel(n_jobs=4)]: Done   4 out of   4 | elapsed:    0.4s remaining:    0.0s\n",
      "[Parallel(n_jobs=4)]: Done   4 out of   4 | elapsed:    0.4s finished\n",
      "[Parallel(n_jobs=4)]: Using backend LokyBackend with 4 concurrent workers.\n"
     ]
    },
    {
     "name": "stdout",
     "output_type": "stream",
     "text": [
      "iteration: 319 of max_iter: 2000\n"
     ]
    },
    {
     "name": "stderr",
     "output_type": "stream",
     "text": [
      "[Parallel(n_jobs=4)]: Done   2 out of   4 | elapsed:    0.5s remaining:    0.5s\n",
      "[Parallel(n_jobs=4)]: Done   4 out of   4 | elapsed:    0.5s remaining:    0.0s\n",
      "[Parallel(n_jobs=4)]: Done   4 out of   4 | elapsed:    0.5s finished\n",
      "[Parallel(n_jobs=4)]: Using backend LokyBackend with 4 concurrent workers.\n"
     ]
    },
    {
     "name": "stdout",
     "output_type": "stream",
     "text": [
      "iteration: 320 of max_iter: 2000\n"
     ]
    },
    {
     "name": "stderr",
     "output_type": "stream",
     "text": [
      "[Parallel(n_jobs=4)]: Done   2 out of   4 | elapsed:    0.4s remaining:    0.4s\n",
      "[Parallel(n_jobs=4)]: Done   4 out of   4 | elapsed:    0.5s remaining:    0.0s\n",
      "[Parallel(n_jobs=4)]: Done   4 out of   4 | elapsed:    0.5s finished\n",
      "[Parallel(n_jobs=4)]: Using backend LokyBackend with 4 concurrent workers.\n"
     ]
    },
    {
     "name": "stdout",
     "output_type": "stream",
     "text": [
      "iteration: 321 of max_iter: 2000\n"
     ]
    },
    {
     "name": "stderr",
     "output_type": "stream",
     "text": [
      "[Parallel(n_jobs=4)]: Done   2 out of   4 | elapsed:    0.4s remaining:    0.4s\n",
      "[Parallel(n_jobs=4)]: Done   4 out of   4 | elapsed:    0.5s remaining:    0.0s\n",
      "[Parallel(n_jobs=4)]: Done   4 out of   4 | elapsed:    0.5s finished\n",
      "[Parallel(n_jobs=4)]: Using backend LokyBackend with 4 concurrent workers.\n"
     ]
    },
    {
     "name": "stdout",
     "output_type": "stream",
     "text": [
      "iteration: 322 of max_iter: 2000\n"
     ]
    },
    {
     "name": "stderr",
     "output_type": "stream",
     "text": [
      "[Parallel(n_jobs=4)]: Done   2 out of   4 | elapsed:    0.5s remaining:    0.5s\n",
      "[Parallel(n_jobs=4)]: Done   4 out of   4 | elapsed:    0.5s remaining:    0.0s\n",
      "[Parallel(n_jobs=4)]: Done   4 out of   4 | elapsed:    0.5s finished\n",
      "[Parallel(n_jobs=4)]: Using backend LokyBackend with 4 concurrent workers.\n"
     ]
    },
    {
     "name": "stdout",
     "output_type": "stream",
     "text": [
      "iteration: 323 of max_iter: 2000\n"
     ]
    },
    {
     "name": "stderr",
     "output_type": "stream",
     "text": [
      "[Parallel(n_jobs=4)]: Done   2 out of   4 | elapsed:    0.4s remaining:    0.4s\n",
      "[Parallel(n_jobs=4)]: Done   4 out of   4 | elapsed:    0.5s remaining:    0.0s\n",
      "[Parallel(n_jobs=4)]: Done   4 out of   4 | elapsed:    0.5s finished\n",
      "[Parallel(n_jobs=4)]: Using backend LokyBackend with 4 concurrent workers.\n"
     ]
    },
    {
     "name": "stdout",
     "output_type": "stream",
     "text": [
      "iteration: 324 of max_iter: 2000\n"
     ]
    },
    {
     "name": "stderr",
     "output_type": "stream",
     "text": [
      "[Parallel(n_jobs=4)]: Done   2 out of   4 | elapsed:    0.5s remaining:    0.5s\n",
      "[Parallel(n_jobs=4)]: Done   4 out of   4 | elapsed:    0.5s remaining:    0.0s\n",
      "[Parallel(n_jobs=4)]: Done   4 out of   4 | elapsed:    0.5s finished\n",
      "[Parallel(n_jobs=4)]: Using backend LokyBackend with 4 concurrent workers.\n"
     ]
    },
    {
     "name": "stdout",
     "output_type": "stream",
     "text": [
      "iteration: 325 of max_iter: 2000\n"
     ]
    },
    {
     "name": "stderr",
     "output_type": "stream",
     "text": [
      "[Parallel(n_jobs=4)]: Done   2 out of   4 | elapsed:    0.4s remaining:    0.4s\n",
      "[Parallel(n_jobs=4)]: Done   4 out of   4 | elapsed:    0.5s remaining:    0.0s\n",
      "[Parallel(n_jobs=4)]: Done   4 out of   4 | elapsed:    0.5s finished\n",
      "[Parallel(n_jobs=4)]: Using backend LokyBackend with 4 concurrent workers.\n"
     ]
    },
    {
     "name": "stdout",
     "output_type": "stream",
     "text": [
      "iteration: 326 of max_iter: 2000\n"
     ]
    },
    {
     "name": "stderr",
     "output_type": "stream",
     "text": [
      "[Parallel(n_jobs=4)]: Done   2 out of   4 | elapsed:    0.5s remaining:    0.5s\n",
      "[Parallel(n_jobs=4)]: Done   4 out of   4 | elapsed:    0.5s remaining:    0.0s\n",
      "[Parallel(n_jobs=4)]: Done   4 out of   4 | elapsed:    0.5s finished\n",
      "[Parallel(n_jobs=4)]: Using backend LokyBackend with 4 concurrent workers.\n"
     ]
    },
    {
     "name": "stdout",
     "output_type": "stream",
     "text": [
      "iteration: 327 of max_iter: 2000\n"
     ]
    },
    {
     "name": "stderr",
     "output_type": "stream",
     "text": [
      "[Parallel(n_jobs=4)]: Done   2 out of   4 | elapsed:    0.5s remaining:    0.5s\n",
      "[Parallel(n_jobs=4)]: Done   4 out of   4 | elapsed:    0.5s remaining:    0.0s\n",
      "[Parallel(n_jobs=4)]: Done   4 out of   4 | elapsed:    0.5s finished\n",
      "[Parallel(n_jobs=4)]: Using backend LokyBackend with 4 concurrent workers.\n"
     ]
    },
    {
     "name": "stdout",
     "output_type": "stream",
     "text": [
      "iteration: 328 of max_iter: 2000\n"
     ]
    },
    {
     "name": "stderr",
     "output_type": "stream",
     "text": [
      "[Parallel(n_jobs=4)]: Done   2 out of   4 | elapsed:    0.4s remaining:    0.4s\n",
      "[Parallel(n_jobs=4)]: Done   4 out of   4 | elapsed:    0.5s remaining:    0.0s\n",
      "[Parallel(n_jobs=4)]: Done   4 out of   4 | elapsed:    0.5s finished\n",
      "[Parallel(n_jobs=4)]: Using backend LokyBackend with 4 concurrent workers.\n"
     ]
    },
    {
     "name": "stdout",
     "output_type": "stream",
     "text": [
      "iteration: 329 of max_iter: 2000\n"
     ]
    },
    {
     "name": "stderr",
     "output_type": "stream",
     "text": [
      "[Parallel(n_jobs=4)]: Done   2 out of   4 | elapsed:    0.5s remaining:    0.5s\n",
      "[Parallel(n_jobs=4)]: Done   4 out of   4 | elapsed:    0.5s remaining:    0.0s\n",
      "[Parallel(n_jobs=4)]: Done   4 out of   4 | elapsed:    0.5s finished\n",
      "[Parallel(n_jobs=4)]: Using backend LokyBackend with 4 concurrent workers.\n"
     ]
    },
    {
     "name": "stdout",
     "output_type": "stream",
     "text": [
      "iteration: 330 of max_iter: 2000\n"
     ]
    },
    {
     "name": "stderr",
     "output_type": "stream",
     "text": [
      "[Parallel(n_jobs=4)]: Done   2 out of   4 | elapsed:    0.4s remaining:    0.4s\n",
      "[Parallel(n_jobs=4)]: Done   4 out of   4 | elapsed:    0.5s remaining:    0.0s\n",
      "[Parallel(n_jobs=4)]: Done   4 out of   4 | elapsed:    0.5s finished\n",
      "[Parallel(n_jobs=4)]: Using backend LokyBackend with 4 concurrent workers.\n"
     ]
    },
    {
     "name": "stdout",
     "output_type": "stream",
     "text": [
      "iteration: 331 of max_iter: 2000\n"
     ]
    },
    {
     "name": "stderr",
     "output_type": "stream",
     "text": [
      "[Parallel(n_jobs=4)]: Done   2 out of   4 | elapsed:    0.5s remaining:    0.5s\n",
      "[Parallel(n_jobs=4)]: Done   4 out of   4 | elapsed:    0.5s remaining:    0.0s\n",
      "[Parallel(n_jobs=4)]: Done   4 out of   4 | elapsed:    0.5s finished\n",
      "[Parallel(n_jobs=4)]: Using backend LokyBackend with 4 concurrent workers.\n"
     ]
    },
    {
     "name": "stdout",
     "output_type": "stream",
     "text": [
      "iteration: 332 of max_iter: 2000\n"
     ]
    },
    {
     "name": "stderr",
     "output_type": "stream",
     "text": [
      "[Parallel(n_jobs=4)]: Done   2 out of   4 | elapsed:    0.4s remaining:    0.4s\n",
      "[Parallel(n_jobs=4)]: Done   4 out of   4 | elapsed:    0.4s remaining:    0.0s\n",
      "[Parallel(n_jobs=4)]: Done   4 out of   4 | elapsed:    0.4s finished\n",
      "[Parallel(n_jobs=4)]: Using backend LokyBackend with 4 concurrent workers.\n"
     ]
    },
    {
     "name": "stdout",
     "output_type": "stream",
     "text": [
      "iteration: 333 of max_iter: 2000\n"
     ]
    },
    {
     "name": "stderr",
     "output_type": "stream",
     "text": [
      "[Parallel(n_jobs=4)]: Done   2 out of   4 | elapsed:    0.5s remaining:    0.5s\n",
      "[Parallel(n_jobs=4)]: Done   4 out of   4 | elapsed:    0.5s remaining:    0.0s\n",
      "[Parallel(n_jobs=4)]: Done   4 out of   4 | elapsed:    0.5s finished\n",
      "[Parallel(n_jobs=4)]: Using backend LokyBackend with 4 concurrent workers.\n"
     ]
    },
    {
     "name": "stdout",
     "output_type": "stream",
     "text": [
      "iteration: 334 of max_iter: 2000\n"
     ]
    },
    {
     "name": "stderr",
     "output_type": "stream",
     "text": [
      "[Parallel(n_jobs=4)]: Done   2 out of   4 | elapsed:    0.4s remaining:    0.4s\n",
      "[Parallel(n_jobs=4)]: Done   4 out of   4 | elapsed:    0.5s remaining:    0.0s\n",
      "[Parallel(n_jobs=4)]: Done   4 out of   4 | elapsed:    0.5s finished\n",
      "[Parallel(n_jobs=4)]: Using backend LokyBackend with 4 concurrent workers.\n"
     ]
    },
    {
     "name": "stdout",
     "output_type": "stream",
     "text": [
      "iteration: 335 of max_iter: 2000\n"
     ]
    },
    {
     "name": "stderr",
     "output_type": "stream",
     "text": [
      "[Parallel(n_jobs=4)]: Done   2 out of   4 | elapsed:    0.4s remaining:    0.4s\n",
      "[Parallel(n_jobs=4)]: Done   4 out of   4 | elapsed:    0.4s remaining:    0.0s\n",
      "[Parallel(n_jobs=4)]: Done   4 out of   4 | elapsed:    0.4s finished\n",
      "[Parallel(n_jobs=4)]: Using backend LokyBackend with 4 concurrent workers.\n"
     ]
    },
    {
     "name": "stdout",
     "output_type": "stream",
     "text": [
      "iteration: 336 of max_iter: 2000\n"
     ]
    },
    {
     "name": "stderr",
     "output_type": "stream",
     "text": [
      "[Parallel(n_jobs=4)]: Done   2 out of   4 | elapsed:    0.5s remaining:    0.5s\n",
      "[Parallel(n_jobs=4)]: Done   4 out of   4 | elapsed:    0.5s remaining:    0.0s\n",
      "[Parallel(n_jobs=4)]: Done   4 out of   4 | elapsed:    0.5s finished\n",
      "[Parallel(n_jobs=4)]: Using backend LokyBackend with 4 concurrent workers.\n"
     ]
    },
    {
     "name": "stdout",
     "output_type": "stream",
     "text": [
      "iteration: 337 of max_iter: 2000\n"
     ]
    },
    {
     "name": "stderr",
     "output_type": "stream",
     "text": [
      "[Parallel(n_jobs=4)]: Done   2 out of   4 | elapsed:    0.4s remaining:    0.4s\n",
      "[Parallel(n_jobs=4)]: Done   4 out of   4 | elapsed:    0.4s remaining:    0.0s\n",
      "[Parallel(n_jobs=4)]: Done   4 out of   4 | elapsed:    0.4s finished\n",
      "[Parallel(n_jobs=4)]: Using backend LokyBackend with 4 concurrent workers.\n"
     ]
    },
    {
     "name": "stdout",
     "output_type": "stream",
     "text": [
      "iteration: 338 of max_iter: 2000\n"
     ]
    },
    {
     "name": "stderr",
     "output_type": "stream",
     "text": [
      "[Parallel(n_jobs=4)]: Done   2 out of   4 | elapsed:    0.5s remaining:    0.5s\n",
      "[Parallel(n_jobs=4)]: Done   4 out of   4 | elapsed:    0.5s remaining:    0.0s\n",
      "[Parallel(n_jobs=4)]: Done   4 out of   4 | elapsed:    0.5s finished\n",
      "[Parallel(n_jobs=4)]: Using backend LokyBackend with 4 concurrent workers.\n"
     ]
    },
    {
     "name": "stdout",
     "output_type": "stream",
     "text": [
      "iteration: 339 of max_iter: 2000\n"
     ]
    },
    {
     "name": "stderr",
     "output_type": "stream",
     "text": [
      "[Parallel(n_jobs=4)]: Done   2 out of   4 | elapsed:    0.4s remaining:    0.4s\n",
      "[Parallel(n_jobs=4)]: Done   4 out of   4 | elapsed:    0.4s remaining:    0.0s\n",
      "[Parallel(n_jobs=4)]: Done   4 out of   4 | elapsed:    0.4s finished\n",
      "[Parallel(n_jobs=4)]: Using backend LokyBackend with 4 concurrent workers.\n"
     ]
    },
    {
     "name": "stdout",
     "output_type": "stream",
     "text": [
      "iteration: 340 of max_iter: 2000\n"
     ]
    },
    {
     "name": "stderr",
     "output_type": "stream",
     "text": [
      "[Parallel(n_jobs=4)]: Done   2 out of   4 | elapsed:    0.5s remaining:    0.5s\n",
      "[Parallel(n_jobs=4)]: Done   4 out of   4 | elapsed:    0.5s remaining:    0.0s\n",
      "[Parallel(n_jobs=4)]: Done   4 out of   4 | elapsed:    0.5s finished\n",
      "[Parallel(n_jobs=4)]: Using backend LokyBackend with 4 concurrent workers.\n"
     ]
    },
    {
     "name": "stdout",
     "output_type": "stream",
     "text": [
      "iteration: 341 of max_iter: 2000\n"
     ]
    },
    {
     "name": "stderr",
     "output_type": "stream",
     "text": [
      "[Parallel(n_jobs=4)]: Done   2 out of   4 | elapsed:    0.4s remaining:    0.4s\n",
      "[Parallel(n_jobs=4)]: Done   4 out of   4 | elapsed:    0.4s remaining:    0.0s\n",
      "[Parallel(n_jobs=4)]: Done   4 out of   4 | elapsed:    0.4s finished\n",
      "[Parallel(n_jobs=4)]: Using backend LokyBackend with 4 concurrent workers.\n"
     ]
    },
    {
     "name": "stdout",
     "output_type": "stream",
     "text": [
      "iteration: 342 of max_iter: 2000\n"
     ]
    },
    {
     "name": "stderr",
     "output_type": "stream",
     "text": [
      "[Parallel(n_jobs=4)]: Done   2 out of   4 | elapsed:    0.5s remaining:    0.5s\n",
      "[Parallel(n_jobs=4)]: Done   4 out of   4 | elapsed:    0.5s remaining:    0.0s\n",
      "[Parallel(n_jobs=4)]: Done   4 out of   4 | elapsed:    0.5s finished\n",
      "[Parallel(n_jobs=4)]: Using backend LokyBackend with 4 concurrent workers.\n"
     ]
    },
    {
     "name": "stdout",
     "output_type": "stream",
     "text": [
      "iteration: 343 of max_iter: 2000\n"
     ]
    },
    {
     "name": "stderr",
     "output_type": "stream",
     "text": [
      "[Parallel(n_jobs=4)]: Done   2 out of   4 | elapsed:    0.5s remaining:    0.5s\n",
      "[Parallel(n_jobs=4)]: Done   4 out of   4 | elapsed:    0.5s remaining:    0.0s\n",
      "[Parallel(n_jobs=4)]: Done   4 out of   4 | elapsed:    0.5s finished\n",
      "[Parallel(n_jobs=4)]: Using backend LokyBackend with 4 concurrent workers.\n"
     ]
    },
    {
     "name": "stdout",
     "output_type": "stream",
     "text": [
      "iteration: 344 of max_iter: 2000\n"
     ]
    },
    {
     "name": "stderr",
     "output_type": "stream",
     "text": [
      "[Parallel(n_jobs=4)]: Done   2 out of   4 | elapsed:    0.4s remaining:    0.4s\n",
      "[Parallel(n_jobs=4)]: Done   4 out of   4 | elapsed:    0.4s remaining:    0.0s\n",
      "[Parallel(n_jobs=4)]: Done   4 out of   4 | elapsed:    0.4s finished\n",
      "[Parallel(n_jobs=4)]: Using backend LokyBackend with 4 concurrent workers.\n"
     ]
    },
    {
     "name": "stdout",
     "output_type": "stream",
     "text": [
      "iteration: 345 of max_iter: 2000\n"
     ]
    },
    {
     "name": "stderr",
     "output_type": "stream",
     "text": [
      "[Parallel(n_jobs=4)]: Done   2 out of   4 | elapsed:    0.5s remaining:    0.5s\n",
      "[Parallel(n_jobs=4)]: Done   4 out of   4 | elapsed:    0.5s remaining:    0.0s\n",
      "[Parallel(n_jobs=4)]: Done   4 out of   4 | elapsed:    0.5s finished\n",
      "[Parallel(n_jobs=4)]: Using backend LokyBackend with 4 concurrent workers.\n"
     ]
    },
    {
     "name": "stdout",
     "output_type": "stream",
     "text": [
      "iteration: 346 of max_iter: 2000\n"
     ]
    },
    {
     "name": "stderr",
     "output_type": "stream",
     "text": [
      "[Parallel(n_jobs=4)]: Done   2 out of   4 | elapsed:    0.4s remaining:    0.4s\n",
      "[Parallel(n_jobs=4)]: Done   4 out of   4 | elapsed:    0.4s remaining:    0.0s\n",
      "[Parallel(n_jobs=4)]: Done   4 out of   4 | elapsed:    0.4s finished\n",
      "[Parallel(n_jobs=4)]: Using backend LokyBackend with 4 concurrent workers.\n"
     ]
    },
    {
     "name": "stdout",
     "output_type": "stream",
     "text": [
      "iteration: 347 of max_iter: 2000\n"
     ]
    },
    {
     "name": "stderr",
     "output_type": "stream",
     "text": [
      "[Parallel(n_jobs=4)]: Done   2 out of   4 | elapsed:    0.5s remaining:    0.5s\n",
      "[Parallel(n_jobs=4)]: Done   4 out of   4 | elapsed:    0.5s remaining:    0.0s\n",
      "[Parallel(n_jobs=4)]: Done   4 out of   4 | elapsed:    0.5s finished\n",
      "[Parallel(n_jobs=4)]: Using backend LokyBackend with 4 concurrent workers.\n"
     ]
    },
    {
     "name": "stdout",
     "output_type": "stream",
     "text": [
      "iteration: 348 of max_iter: 2000\n"
     ]
    },
    {
     "name": "stderr",
     "output_type": "stream",
     "text": [
      "[Parallel(n_jobs=4)]: Done   2 out of   4 | elapsed:    0.4s remaining:    0.4s\n",
      "[Parallel(n_jobs=4)]: Done   4 out of   4 | elapsed:    0.4s remaining:    0.0s\n",
      "[Parallel(n_jobs=4)]: Done   4 out of   4 | elapsed:    0.4s finished\n",
      "[Parallel(n_jobs=4)]: Using backend LokyBackend with 4 concurrent workers.\n"
     ]
    },
    {
     "name": "stdout",
     "output_type": "stream",
     "text": [
      "iteration: 349 of max_iter: 2000\n"
     ]
    },
    {
     "name": "stderr",
     "output_type": "stream",
     "text": [
      "[Parallel(n_jobs=4)]: Done   2 out of   4 | elapsed:    0.5s remaining:    0.5s\n",
      "[Parallel(n_jobs=4)]: Done   4 out of   4 | elapsed:    0.5s remaining:    0.0s\n",
      "[Parallel(n_jobs=4)]: Done   4 out of   4 | elapsed:    0.5s finished\n",
      "[Parallel(n_jobs=4)]: Using backend LokyBackend with 4 concurrent workers.\n"
     ]
    },
    {
     "name": "stdout",
     "output_type": "stream",
     "text": [
      "iteration: 350 of max_iter: 2000\n"
     ]
    },
    {
     "name": "stderr",
     "output_type": "stream",
     "text": [
      "[Parallel(n_jobs=4)]: Done   2 out of   4 | elapsed:    0.5s remaining:    0.5s\n",
      "[Parallel(n_jobs=4)]: Done   4 out of   4 | elapsed:    0.5s remaining:    0.0s\n",
      "[Parallel(n_jobs=4)]: Done   4 out of   4 | elapsed:    0.5s finished\n",
      "[Parallel(n_jobs=4)]: Using backend LokyBackend with 4 concurrent workers.\n"
     ]
    },
    {
     "name": "stdout",
     "output_type": "stream",
     "text": [
      "iteration: 351 of max_iter: 2000\n"
     ]
    },
    {
     "name": "stderr",
     "output_type": "stream",
     "text": [
      "[Parallel(n_jobs=4)]: Done   2 out of   4 | elapsed:    0.4s remaining:    0.4s\n",
      "[Parallel(n_jobs=4)]: Done   4 out of   4 | elapsed:    0.4s remaining:    0.0s\n",
      "[Parallel(n_jobs=4)]: Done   4 out of   4 | elapsed:    0.4s finished\n",
      "[Parallel(n_jobs=4)]: Using backend LokyBackend with 4 concurrent workers.\n"
     ]
    },
    {
     "name": "stdout",
     "output_type": "stream",
     "text": [
      "iteration: 352 of max_iter: 2000\n"
     ]
    },
    {
     "name": "stderr",
     "output_type": "stream",
     "text": [
      "[Parallel(n_jobs=4)]: Done   2 out of   4 | elapsed:    0.5s remaining:    0.5s\n",
      "[Parallel(n_jobs=4)]: Done   4 out of   4 | elapsed:    0.5s remaining:    0.0s\n",
      "[Parallel(n_jobs=4)]: Done   4 out of   4 | elapsed:    0.5s finished\n",
      "[Parallel(n_jobs=4)]: Using backend LokyBackend with 4 concurrent workers.\n"
     ]
    },
    {
     "name": "stdout",
     "output_type": "stream",
     "text": [
      "iteration: 353 of max_iter: 2000\n"
     ]
    },
    {
     "name": "stderr",
     "output_type": "stream",
     "text": [
      "[Parallel(n_jobs=4)]: Done   2 out of   4 | elapsed:    0.4s remaining:    0.4s\n",
      "[Parallel(n_jobs=4)]: Done   4 out of   4 | elapsed:    0.4s remaining:    0.0s\n",
      "[Parallel(n_jobs=4)]: Done   4 out of   4 | elapsed:    0.4s finished\n",
      "[Parallel(n_jobs=4)]: Using backend LokyBackend with 4 concurrent workers.\n"
     ]
    },
    {
     "name": "stdout",
     "output_type": "stream",
     "text": [
      "iteration: 354 of max_iter: 2000\n"
     ]
    },
    {
     "name": "stderr",
     "output_type": "stream",
     "text": [
      "[Parallel(n_jobs=4)]: Done   2 out of   4 | elapsed:    0.5s remaining:    0.5s\n",
      "[Parallel(n_jobs=4)]: Done   4 out of   4 | elapsed:    0.5s remaining:    0.0s\n",
      "[Parallel(n_jobs=4)]: Done   4 out of   4 | elapsed:    0.5s finished\n",
      "[Parallel(n_jobs=4)]: Using backend LokyBackend with 4 concurrent workers.\n"
     ]
    },
    {
     "name": "stdout",
     "output_type": "stream",
     "text": [
      "iteration: 355 of max_iter: 2000\n"
     ]
    },
    {
     "name": "stderr",
     "output_type": "stream",
     "text": [
      "[Parallel(n_jobs=4)]: Done   2 out of   4 | elapsed:    0.4s remaining:    0.4s\n",
      "[Parallel(n_jobs=4)]: Done   4 out of   4 | elapsed:    0.5s remaining:    0.0s\n",
      "[Parallel(n_jobs=4)]: Done   4 out of   4 | elapsed:    0.5s finished\n",
      "[Parallel(n_jobs=4)]: Using backend LokyBackend with 4 concurrent workers.\n"
     ]
    },
    {
     "name": "stdout",
     "output_type": "stream",
     "text": [
      "iteration: 356 of max_iter: 2000\n"
     ]
    },
    {
     "name": "stderr",
     "output_type": "stream",
     "text": [
      "[Parallel(n_jobs=4)]: Done   2 out of   4 | elapsed:    0.5s remaining:    0.5s\n",
      "[Parallel(n_jobs=4)]: Done   4 out of   4 | elapsed:    0.5s remaining:    0.0s\n",
      "[Parallel(n_jobs=4)]: Done   4 out of   4 | elapsed:    0.5s finished\n",
      "[Parallel(n_jobs=4)]: Using backend LokyBackend with 4 concurrent workers.\n"
     ]
    },
    {
     "name": "stdout",
     "output_type": "stream",
     "text": [
      "iteration: 357 of max_iter: 2000\n"
     ]
    },
    {
     "name": "stderr",
     "output_type": "stream",
     "text": [
      "[Parallel(n_jobs=4)]: Done   2 out of   4 | elapsed:    0.5s remaining:    0.5s\n",
      "[Parallel(n_jobs=4)]: Done   4 out of   4 | elapsed:    0.5s remaining:    0.0s\n",
      "[Parallel(n_jobs=4)]: Done   4 out of   4 | elapsed:    0.5s finished\n",
      "[Parallel(n_jobs=4)]: Using backend LokyBackend with 4 concurrent workers.\n"
     ]
    },
    {
     "name": "stdout",
     "output_type": "stream",
     "text": [
      "iteration: 358 of max_iter: 2000\n"
     ]
    },
    {
     "name": "stderr",
     "output_type": "stream",
     "text": [
      "[Parallel(n_jobs=4)]: Done   2 out of   4 | elapsed:    0.4s remaining:    0.4s\n",
      "[Parallel(n_jobs=4)]: Done   4 out of   4 | elapsed:    0.4s remaining:    0.0s\n",
      "[Parallel(n_jobs=4)]: Done   4 out of   4 | elapsed:    0.4s finished\n",
      "[Parallel(n_jobs=4)]: Using backend LokyBackend with 4 concurrent workers.\n"
     ]
    },
    {
     "name": "stdout",
     "output_type": "stream",
     "text": [
      "iteration: 359 of max_iter: 2000\n"
     ]
    },
    {
     "name": "stderr",
     "output_type": "stream",
     "text": [
      "[Parallel(n_jobs=4)]: Done   2 out of   4 | elapsed:    0.5s remaining:    0.5s\n",
      "[Parallel(n_jobs=4)]: Done   4 out of   4 | elapsed:    0.5s remaining:    0.0s\n",
      "[Parallel(n_jobs=4)]: Done   4 out of   4 | elapsed:    0.5s finished\n",
      "[Parallel(n_jobs=4)]: Using backend LokyBackend with 4 concurrent workers.\n"
     ]
    },
    {
     "name": "stdout",
     "output_type": "stream",
     "text": [
      "iteration: 360 of max_iter: 2000\n"
     ]
    },
    {
     "name": "stderr",
     "output_type": "stream",
     "text": [
      "[Parallel(n_jobs=4)]: Done   2 out of   4 | elapsed:    0.4s remaining:    0.4s\n",
      "[Parallel(n_jobs=4)]: Done   4 out of   4 | elapsed:    0.4s remaining:    0.0s\n",
      "[Parallel(n_jobs=4)]: Done   4 out of   4 | elapsed:    0.4s finished\n",
      "[Parallel(n_jobs=4)]: Using backend LokyBackend with 4 concurrent workers.\n"
     ]
    },
    {
     "name": "stdout",
     "output_type": "stream",
     "text": [
      "iteration: 361 of max_iter: 2000\n"
     ]
    },
    {
     "name": "stderr",
     "output_type": "stream",
     "text": [
      "[Parallel(n_jobs=4)]: Done   2 out of   4 | elapsed:    0.5s remaining:    0.5s\n",
      "[Parallel(n_jobs=4)]: Done   4 out of   4 | elapsed:    0.5s remaining:    0.0s\n",
      "[Parallel(n_jobs=4)]: Done   4 out of   4 | elapsed:    0.5s finished\n",
      "[Parallel(n_jobs=4)]: Using backend LokyBackend with 4 concurrent workers.\n"
     ]
    },
    {
     "name": "stdout",
     "output_type": "stream",
     "text": [
      "iteration: 362 of max_iter: 2000\n"
     ]
    },
    {
     "name": "stderr",
     "output_type": "stream",
     "text": [
      "[Parallel(n_jobs=4)]: Done   2 out of   4 | elapsed:    0.4s remaining:    0.4s\n",
      "[Parallel(n_jobs=4)]: Done   4 out of   4 | elapsed:    0.5s remaining:    0.0s\n",
      "[Parallel(n_jobs=4)]: Done   4 out of   4 | elapsed:    0.5s finished\n",
      "[Parallel(n_jobs=4)]: Using backend LokyBackend with 4 concurrent workers.\n"
     ]
    },
    {
     "name": "stdout",
     "output_type": "stream",
     "text": [
      "iteration: 363 of max_iter: 2000\n"
     ]
    },
    {
     "name": "stderr",
     "output_type": "stream",
     "text": [
      "[Parallel(n_jobs=4)]: Done   2 out of   4 | elapsed:    0.5s remaining:    0.5s\n",
      "[Parallel(n_jobs=4)]: Done   4 out of   4 | elapsed:    0.5s remaining:    0.0s\n",
      "[Parallel(n_jobs=4)]: Done   4 out of   4 | elapsed:    0.5s finished\n",
      "[Parallel(n_jobs=4)]: Using backend LokyBackend with 4 concurrent workers.\n"
     ]
    },
    {
     "name": "stdout",
     "output_type": "stream",
     "text": [
      "iteration: 364 of max_iter: 2000\n"
     ]
    },
    {
     "name": "stderr",
     "output_type": "stream",
     "text": [
      "[Parallel(n_jobs=4)]: Done   2 out of   4 | elapsed:    0.5s remaining:    0.5s\n",
      "[Parallel(n_jobs=4)]: Done   4 out of   4 | elapsed:    0.5s remaining:    0.0s\n",
      "[Parallel(n_jobs=4)]: Done   4 out of   4 | elapsed:    0.5s finished\n",
      "[Parallel(n_jobs=4)]: Using backend LokyBackend with 4 concurrent workers.\n"
     ]
    },
    {
     "name": "stdout",
     "output_type": "stream",
     "text": [
      "iteration: 365 of max_iter: 2000\n"
     ]
    },
    {
     "name": "stderr",
     "output_type": "stream",
     "text": [
      "[Parallel(n_jobs=4)]: Done   2 out of   4 | elapsed:    0.5s remaining:    0.5s\n",
      "[Parallel(n_jobs=4)]: Done   4 out of   4 | elapsed:    0.5s remaining:    0.0s\n",
      "[Parallel(n_jobs=4)]: Done   4 out of   4 | elapsed:    0.5s finished\n",
      "[Parallel(n_jobs=4)]: Using backend LokyBackend with 4 concurrent workers.\n"
     ]
    },
    {
     "name": "stdout",
     "output_type": "stream",
     "text": [
      "iteration: 366 of max_iter: 2000\n"
     ]
    },
    {
     "name": "stderr",
     "output_type": "stream",
     "text": [
      "[Parallel(n_jobs=4)]: Done   2 out of   4 | elapsed:    0.5s remaining:    0.5s\n",
      "[Parallel(n_jobs=4)]: Done   4 out of   4 | elapsed:    0.5s remaining:    0.0s\n",
      "[Parallel(n_jobs=4)]: Done   4 out of   4 | elapsed:    0.5s finished\n",
      "[Parallel(n_jobs=4)]: Using backend LokyBackend with 4 concurrent workers.\n"
     ]
    },
    {
     "name": "stdout",
     "output_type": "stream",
     "text": [
      "iteration: 367 of max_iter: 2000\n"
     ]
    },
    {
     "name": "stderr",
     "output_type": "stream",
     "text": [
      "[Parallel(n_jobs=4)]: Done   2 out of   4 | elapsed:    0.4s remaining:    0.4s\n",
      "[Parallel(n_jobs=4)]: Done   4 out of   4 | elapsed:    0.5s remaining:    0.0s\n",
      "[Parallel(n_jobs=4)]: Done   4 out of   4 | elapsed:    0.5s finished\n",
      "[Parallel(n_jobs=4)]: Using backend LokyBackend with 4 concurrent workers.\n"
     ]
    },
    {
     "name": "stdout",
     "output_type": "stream",
     "text": [
      "iteration: 368 of max_iter: 2000\n"
     ]
    },
    {
     "name": "stderr",
     "output_type": "stream",
     "text": [
      "[Parallel(n_jobs=4)]: Done   2 out of   4 | elapsed:    0.5s remaining:    0.5s\n",
      "[Parallel(n_jobs=4)]: Done   4 out of   4 | elapsed:    0.5s remaining:    0.0s\n",
      "[Parallel(n_jobs=4)]: Done   4 out of   4 | elapsed:    0.5s finished\n",
      "[Parallel(n_jobs=4)]: Using backend LokyBackend with 4 concurrent workers.\n"
     ]
    },
    {
     "name": "stdout",
     "output_type": "stream",
     "text": [
      "iteration: 369 of max_iter: 2000\n"
     ]
    },
    {
     "name": "stderr",
     "output_type": "stream",
     "text": [
      "[Parallel(n_jobs=4)]: Done   2 out of   4 | elapsed:    0.4s remaining:    0.4s\n",
      "[Parallel(n_jobs=4)]: Done   4 out of   4 | elapsed:    0.5s remaining:    0.0s\n",
      "[Parallel(n_jobs=4)]: Done   4 out of   4 | elapsed:    0.5s finished\n",
      "[Parallel(n_jobs=4)]: Using backend LokyBackend with 4 concurrent workers.\n"
     ]
    },
    {
     "name": "stdout",
     "output_type": "stream",
     "text": [
      "iteration: 370 of max_iter: 2000\n"
     ]
    },
    {
     "name": "stderr",
     "output_type": "stream",
     "text": [
      "[Parallel(n_jobs=4)]: Done   2 out of   4 | elapsed:    0.4s remaining:    0.4s\n",
      "[Parallel(n_jobs=4)]: Done   4 out of   4 | elapsed:    0.4s remaining:    0.0s\n",
      "[Parallel(n_jobs=4)]: Done   4 out of   4 | elapsed:    0.4s finished\n",
      "[Parallel(n_jobs=4)]: Using backend LokyBackend with 4 concurrent workers.\n"
     ]
    },
    {
     "name": "stdout",
     "output_type": "stream",
     "text": [
      "iteration: 371 of max_iter: 2000\n"
     ]
    },
    {
     "name": "stderr",
     "output_type": "stream",
     "text": [
      "[Parallel(n_jobs=4)]: Done   2 out of   4 | elapsed:    0.5s remaining:    0.5s\n",
      "[Parallel(n_jobs=4)]: Done   4 out of   4 | elapsed:    0.5s remaining:    0.0s\n",
      "[Parallel(n_jobs=4)]: Done   4 out of   4 | elapsed:    0.5s finished\n",
      "[Parallel(n_jobs=4)]: Using backend LokyBackend with 4 concurrent workers.\n"
     ]
    },
    {
     "name": "stdout",
     "output_type": "stream",
     "text": [
      "iteration: 372 of max_iter: 2000\n"
     ]
    },
    {
     "name": "stderr",
     "output_type": "stream",
     "text": [
      "[Parallel(n_jobs=4)]: Done   2 out of   4 | elapsed:    0.4s remaining:    0.4s\n",
      "[Parallel(n_jobs=4)]: Done   4 out of   4 | elapsed:    0.4s remaining:    0.0s\n",
      "[Parallel(n_jobs=4)]: Done   4 out of   4 | elapsed:    0.4s finished\n",
      "[Parallel(n_jobs=4)]: Using backend LokyBackend with 4 concurrent workers.\n"
     ]
    },
    {
     "name": "stdout",
     "output_type": "stream",
     "text": [
      "iteration: 373 of max_iter: 2000\n"
     ]
    },
    {
     "name": "stderr",
     "output_type": "stream",
     "text": [
      "[Parallel(n_jobs=4)]: Done   2 out of   4 | elapsed:    0.5s remaining:    0.5s\n",
      "[Parallel(n_jobs=4)]: Done   4 out of   4 | elapsed:    0.5s remaining:    0.0s\n",
      "[Parallel(n_jobs=4)]: Done   4 out of   4 | elapsed:    0.5s finished\n",
      "[Parallel(n_jobs=4)]: Using backend LokyBackend with 4 concurrent workers.\n"
     ]
    },
    {
     "name": "stdout",
     "output_type": "stream",
     "text": [
      "iteration: 374 of max_iter: 2000\n"
     ]
    },
    {
     "name": "stderr",
     "output_type": "stream",
     "text": [
      "[Parallel(n_jobs=4)]: Done   2 out of   4 | elapsed:    0.4s remaining:    0.4s\n",
      "[Parallel(n_jobs=4)]: Done   4 out of   4 | elapsed:    0.5s remaining:    0.0s\n",
      "[Parallel(n_jobs=4)]: Done   4 out of   4 | elapsed:    0.5s finished\n",
      "[Parallel(n_jobs=4)]: Using backend LokyBackend with 4 concurrent workers.\n"
     ]
    },
    {
     "name": "stdout",
     "output_type": "stream",
     "text": [
      "iteration: 375 of max_iter: 2000\n"
     ]
    },
    {
     "name": "stderr",
     "output_type": "stream",
     "text": [
      "[Parallel(n_jobs=4)]: Done   2 out of   4 | elapsed:    0.5s remaining:    0.5s\n",
      "[Parallel(n_jobs=4)]: Done   4 out of   4 | elapsed:    0.5s remaining:    0.0s\n",
      "[Parallel(n_jobs=4)]: Done   4 out of   4 | elapsed:    0.5s finished\n",
      "[Parallel(n_jobs=4)]: Using backend LokyBackend with 4 concurrent workers.\n"
     ]
    },
    {
     "name": "stdout",
     "output_type": "stream",
     "text": [
      "iteration: 376 of max_iter: 2000\n"
     ]
    },
    {
     "name": "stderr",
     "output_type": "stream",
     "text": [
      "[Parallel(n_jobs=4)]: Done   2 out of   4 | elapsed:    0.4s remaining:    0.4s\n",
      "[Parallel(n_jobs=4)]: Done   4 out of   4 | elapsed:    0.5s remaining:    0.0s\n",
      "[Parallel(n_jobs=4)]: Done   4 out of   4 | elapsed:    0.5s finished\n",
      "[Parallel(n_jobs=4)]: Using backend LokyBackend with 4 concurrent workers.\n"
     ]
    },
    {
     "name": "stdout",
     "output_type": "stream",
     "text": [
      "iteration: 377 of max_iter: 2000\n"
     ]
    },
    {
     "name": "stderr",
     "output_type": "stream",
     "text": [
      "[Parallel(n_jobs=4)]: Done   2 out of   4 | elapsed:    0.4s remaining:    0.4s\n",
      "[Parallel(n_jobs=4)]: Done   4 out of   4 | elapsed:    0.4s remaining:    0.0s\n",
      "[Parallel(n_jobs=4)]: Done   4 out of   4 | elapsed:    0.4s finished\n",
      "[Parallel(n_jobs=4)]: Using backend LokyBackend with 4 concurrent workers.\n"
     ]
    },
    {
     "name": "stdout",
     "output_type": "stream",
     "text": [
      "iteration: 378 of max_iter: 2000\n"
     ]
    },
    {
     "name": "stderr",
     "output_type": "stream",
     "text": [
      "[Parallel(n_jobs=4)]: Done   2 out of   4 | elapsed:    0.5s remaining:    0.5s\n",
      "[Parallel(n_jobs=4)]: Done   4 out of   4 | elapsed:    0.5s remaining:    0.0s\n",
      "[Parallel(n_jobs=4)]: Done   4 out of   4 | elapsed:    0.5s finished\n",
      "[Parallel(n_jobs=4)]: Using backend LokyBackend with 4 concurrent workers.\n"
     ]
    },
    {
     "name": "stdout",
     "output_type": "stream",
     "text": [
      "iteration: 379 of max_iter: 2000\n"
     ]
    },
    {
     "name": "stderr",
     "output_type": "stream",
     "text": [
      "[Parallel(n_jobs=4)]: Done   2 out of   4 | elapsed:    0.4s remaining:    0.4s\n",
      "[Parallel(n_jobs=4)]: Done   4 out of   4 | elapsed:    0.4s remaining:    0.0s\n",
      "[Parallel(n_jobs=4)]: Done   4 out of   4 | elapsed:    0.4s finished\n",
      "[Parallel(n_jobs=4)]: Using backend LokyBackend with 4 concurrent workers.\n"
     ]
    },
    {
     "name": "stdout",
     "output_type": "stream",
     "text": [
      "iteration: 380 of max_iter: 2000\n"
     ]
    },
    {
     "name": "stderr",
     "output_type": "stream",
     "text": [
      "[Parallel(n_jobs=4)]: Done   2 out of   4 | elapsed:    0.5s remaining:    0.5s\n",
      "[Parallel(n_jobs=4)]: Done   4 out of   4 | elapsed:    0.5s remaining:    0.0s\n",
      "[Parallel(n_jobs=4)]: Done   4 out of   4 | elapsed:    0.5s finished\n",
      "[Parallel(n_jobs=4)]: Using backend LokyBackend with 4 concurrent workers.\n"
     ]
    },
    {
     "name": "stdout",
     "output_type": "stream",
     "text": [
      "iteration: 381 of max_iter: 2000\n"
     ]
    },
    {
     "name": "stderr",
     "output_type": "stream",
     "text": [
      "[Parallel(n_jobs=4)]: Done   2 out of   4 | elapsed:    0.4s remaining:    0.4s\n",
      "[Parallel(n_jobs=4)]: Done   4 out of   4 | elapsed:    0.4s remaining:    0.0s\n",
      "[Parallel(n_jobs=4)]: Done   4 out of   4 | elapsed:    0.4s finished\n",
      "[Parallel(n_jobs=4)]: Using backend LokyBackend with 4 concurrent workers.\n"
     ]
    },
    {
     "name": "stdout",
     "output_type": "stream",
     "text": [
      "iteration: 382 of max_iter: 2000\n"
     ]
    },
    {
     "name": "stderr",
     "output_type": "stream",
     "text": [
      "[Parallel(n_jobs=4)]: Done   2 out of   4 | elapsed:    0.5s remaining:    0.5s\n",
      "[Parallel(n_jobs=4)]: Done   4 out of   4 | elapsed:    0.5s remaining:    0.0s\n",
      "[Parallel(n_jobs=4)]: Done   4 out of   4 | elapsed:    0.5s finished\n",
      "[Parallel(n_jobs=4)]: Using backend LokyBackend with 4 concurrent workers.\n"
     ]
    },
    {
     "name": "stdout",
     "output_type": "stream",
     "text": [
      "iteration: 383 of max_iter: 2000\n"
     ]
    },
    {
     "name": "stderr",
     "output_type": "stream",
     "text": [
      "[Parallel(n_jobs=4)]: Done   2 out of   4 | elapsed:    0.4s remaining:    0.4s\n",
      "[Parallel(n_jobs=4)]: Done   4 out of   4 | elapsed:    0.5s remaining:    0.0s\n",
      "[Parallel(n_jobs=4)]: Done   4 out of   4 | elapsed:    0.5s finished\n",
      "[Parallel(n_jobs=4)]: Using backend LokyBackend with 4 concurrent workers.\n"
     ]
    },
    {
     "name": "stdout",
     "output_type": "stream",
     "text": [
      "iteration: 384 of max_iter: 2000\n"
     ]
    },
    {
     "name": "stderr",
     "output_type": "stream",
     "text": [
      "[Parallel(n_jobs=4)]: Done   2 out of   4 | elapsed:    0.5s remaining:    0.5s\n",
      "[Parallel(n_jobs=4)]: Done   4 out of   4 | elapsed:    0.5s remaining:    0.0s\n",
      "[Parallel(n_jobs=4)]: Done   4 out of   4 | elapsed:    0.5s finished\n",
      "[Parallel(n_jobs=4)]: Using backend LokyBackend with 4 concurrent workers.\n"
     ]
    },
    {
     "name": "stdout",
     "output_type": "stream",
     "text": [
      "iteration: 385 of max_iter: 2000\n"
     ]
    },
    {
     "name": "stderr",
     "output_type": "stream",
     "text": [
      "[Parallel(n_jobs=4)]: Done   2 out of   4 | elapsed:    0.5s remaining:    0.5s\n",
      "[Parallel(n_jobs=4)]: Done   4 out of   4 | elapsed:    0.5s remaining:    0.0s\n",
      "[Parallel(n_jobs=4)]: Done   4 out of   4 | elapsed:    0.5s finished\n",
      "[Parallel(n_jobs=4)]: Using backend LokyBackend with 4 concurrent workers.\n"
     ]
    },
    {
     "name": "stdout",
     "output_type": "stream",
     "text": [
      "iteration: 386 of max_iter: 2000\n"
     ]
    },
    {
     "name": "stderr",
     "output_type": "stream",
     "text": [
      "[Parallel(n_jobs=4)]: Done   2 out of   4 | elapsed:    0.4s remaining:    0.4s\n",
      "[Parallel(n_jobs=4)]: Done   4 out of   4 | elapsed:    0.4s remaining:    0.0s\n",
      "[Parallel(n_jobs=4)]: Done   4 out of   4 | elapsed:    0.4s finished\n",
      "[Parallel(n_jobs=4)]: Using backend LokyBackend with 4 concurrent workers.\n"
     ]
    },
    {
     "name": "stdout",
     "output_type": "stream",
     "text": [
      "iteration: 387 of max_iter: 2000\n"
     ]
    },
    {
     "name": "stderr",
     "output_type": "stream",
     "text": [
      "[Parallel(n_jobs=4)]: Done   2 out of   4 | elapsed:    0.5s remaining:    0.5s\n",
      "[Parallel(n_jobs=4)]: Done   4 out of   4 | elapsed:    0.5s remaining:    0.0s\n",
      "[Parallel(n_jobs=4)]: Done   4 out of   4 | elapsed:    0.5s finished\n",
      "[Parallel(n_jobs=4)]: Using backend LokyBackend with 4 concurrent workers.\n"
     ]
    },
    {
     "name": "stdout",
     "output_type": "stream",
     "text": [
      "iteration: 388 of max_iter: 2000\n"
     ]
    },
    {
     "name": "stderr",
     "output_type": "stream",
     "text": [
      "[Parallel(n_jobs=4)]: Done   2 out of   4 | elapsed:    0.4s remaining:    0.4s\n",
      "[Parallel(n_jobs=4)]: Done   4 out of   4 | elapsed:    0.5s remaining:    0.0s\n",
      "[Parallel(n_jobs=4)]: Done   4 out of   4 | elapsed:    0.5s finished\n",
      "[Parallel(n_jobs=4)]: Using backend LokyBackend with 4 concurrent workers.\n"
     ]
    },
    {
     "name": "stdout",
     "output_type": "stream",
     "text": [
      "iteration: 389 of max_iter: 2000\n"
     ]
    },
    {
     "name": "stderr",
     "output_type": "stream",
     "text": [
      "[Parallel(n_jobs=4)]: Done   2 out of   4 | elapsed:    0.5s remaining:    0.5s\n",
      "[Parallel(n_jobs=4)]: Done   4 out of   4 | elapsed:    0.5s remaining:    0.0s\n",
      "[Parallel(n_jobs=4)]: Done   4 out of   4 | elapsed:    0.5s finished\n",
      "[Parallel(n_jobs=4)]: Using backend LokyBackend with 4 concurrent workers.\n"
     ]
    },
    {
     "name": "stdout",
     "output_type": "stream",
     "text": [
      "iteration: 390 of max_iter: 2000\n"
     ]
    },
    {
     "name": "stderr",
     "output_type": "stream",
     "text": [
      "[Parallel(n_jobs=4)]: Done   2 out of   4 | elapsed:    0.4s remaining:    0.4s\n",
      "[Parallel(n_jobs=4)]: Done   4 out of   4 | elapsed:    0.5s remaining:    0.0s\n",
      "[Parallel(n_jobs=4)]: Done   4 out of   4 | elapsed:    0.5s finished\n",
      "[Parallel(n_jobs=4)]: Using backend LokyBackend with 4 concurrent workers.\n"
     ]
    },
    {
     "name": "stdout",
     "output_type": "stream",
     "text": [
      "iteration: 391 of max_iter: 2000\n"
     ]
    },
    {
     "name": "stderr",
     "output_type": "stream",
     "text": [
      "[Parallel(n_jobs=4)]: Done   2 out of   4 | elapsed:    0.4s remaining:    0.4s\n",
      "[Parallel(n_jobs=4)]: Done   4 out of   4 | elapsed:    0.5s remaining:    0.0s\n",
      "[Parallel(n_jobs=4)]: Done   4 out of   4 | elapsed:    0.5s finished\n",
      "[Parallel(n_jobs=4)]: Using backend LokyBackend with 4 concurrent workers.\n"
     ]
    },
    {
     "name": "stdout",
     "output_type": "stream",
     "text": [
      "iteration: 392 of max_iter: 2000\n"
     ]
    },
    {
     "name": "stderr",
     "output_type": "stream",
     "text": [
      "[Parallel(n_jobs=4)]: Done   2 out of   4 | elapsed:    0.5s remaining:    0.5s\n",
      "[Parallel(n_jobs=4)]: Done   4 out of   4 | elapsed:    0.5s remaining:    0.0s\n",
      "[Parallel(n_jobs=4)]: Done   4 out of   4 | elapsed:    0.5s finished\n",
      "[Parallel(n_jobs=4)]: Using backend LokyBackend with 4 concurrent workers.\n"
     ]
    },
    {
     "name": "stdout",
     "output_type": "stream",
     "text": [
      "iteration: 393 of max_iter: 2000\n"
     ]
    },
    {
     "name": "stderr",
     "output_type": "stream",
     "text": [
      "[Parallel(n_jobs=4)]: Done   2 out of   4 | elapsed:    0.4s remaining:    0.4s\n",
      "[Parallel(n_jobs=4)]: Done   4 out of   4 | elapsed:    0.5s remaining:    0.0s\n",
      "[Parallel(n_jobs=4)]: Done   4 out of   4 | elapsed:    0.5s finished\n",
      "[Parallel(n_jobs=4)]: Using backend LokyBackend with 4 concurrent workers.\n"
     ]
    },
    {
     "name": "stdout",
     "output_type": "stream",
     "text": [
      "iteration: 394 of max_iter: 2000\n"
     ]
    },
    {
     "name": "stderr",
     "output_type": "stream",
     "text": [
      "[Parallel(n_jobs=4)]: Done   2 out of   4 | elapsed:    0.5s remaining:    0.5s\n",
      "[Parallel(n_jobs=4)]: Done   4 out of   4 | elapsed:    0.5s remaining:    0.0s\n",
      "[Parallel(n_jobs=4)]: Done   4 out of   4 | elapsed:    0.5s finished\n",
      "[Parallel(n_jobs=4)]: Using backend LokyBackend with 4 concurrent workers.\n"
     ]
    },
    {
     "name": "stdout",
     "output_type": "stream",
     "text": [
      "iteration: 395 of max_iter: 2000\n"
     ]
    },
    {
     "name": "stderr",
     "output_type": "stream",
     "text": [
      "[Parallel(n_jobs=4)]: Done   2 out of   4 | elapsed:    0.4s remaining:    0.4s\n",
      "[Parallel(n_jobs=4)]: Done   4 out of   4 | elapsed:    0.5s remaining:    0.0s\n",
      "[Parallel(n_jobs=4)]: Done   4 out of   4 | elapsed:    0.5s finished\n",
      "[Parallel(n_jobs=4)]: Using backend LokyBackend with 4 concurrent workers.\n"
     ]
    },
    {
     "name": "stdout",
     "output_type": "stream",
     "text": [
      "iteration: 396 of max_iter: 2000\n"
     ]
    },
    {
     "name": "stderr",
     "output_type": "stream",
     "text": [
      "[Parallel(n_jobs=4)]: Done   2 out of   4 | elapsed:    0.4s remaining:    0.4s\n",
      "[Parallel(n_jobs=4)]: Done   4 out of   4 | elapsed:    0.5s remaining:    0.0s\n",
      "[Parallel(n_jobs=4)]: Done   4 out of   4 | elapsed:    0.5s finished\n",
      "[Parallel(n_jobs=4)]: Using backend LokyBackend with 4 concurrent workers.\n"
     ]
    },
    {
     "name": "stdout",
     "output_type": "stream",
     "text": [
      "iteration: 397 of max_iter: 2000\n"
     ]
    },
    {
     "name": "stderr",
     "output_type": "stream",
     "text": [
      "[Parallel(n_jobs=4)]: Done   2 out of   4 | elapsed:    0.4s remaining:    0.4s\n",
      "[Parallel(n_jobs=4)]: Done   4 out of   4 | elapsed:    0.5s remaining:    0.0s\n",
      "[Parallel(n_jobs=4)]: Done   4 out of   4 | elapsed:    0.5s finished\n",
      "[Parallel(n_jobs=4)]: Using backend LokyBackend with 4 concurrent workers.\n"
     ]
    },
    {
     "name": "stdout",
     "output_type": "stream",
     "text": [
      "iteration: 398 of max_iter: 2000\n"
     ]
    },
    {
     "name": "stderr",
     "output_type": "stream",
     "text": [
      "[Parallel(n_jobs=4)]: Done   2 out of   4 | elapsed:    0.5s remaining:    0.5s\n",
      "[Parallel(n_jobs=4)]: Done   4 out of   4 | elapsed:    0.5s remaining:    0.0s\n",
      "[Parallel(n_jobs=4)]: Done   4 out of   4 | elapsed:    0.5s finished\n",
      "[Parallel(n_jobs=4)]: Using backend LokyBackend with 4 concurrent workers.\n"
     ]
    },
    {
     "name": "stdout",
     "output_type": "stream",
     "text": [
      "iteration: 399 of max_iter: 2000\n"
     ]
    },
    {
     "name": "stderr",
     "output_type": "stream",
     "text": [
      "[Parallel(n_jobs=4)]: Done   2 out of   4 | elapsed:    0.5s remaining:    0.5s\n",
      "[Parallel(n_jobs=4)]: Done   4 out of   4 | elapsed:    0.5s remaining:    0.0s\n",
      "[Parallel(n_jobs=4)]: Done   4 out of   4 | elapsed:    0.5s finished\n",
      "[Parallel(n_jobs=4)]: Using backend LokyBackend with 4 concurrent workers.\n"
     ]
    },
    {
     "name": "stdout",
     "output_type": "stream",
     "text": [
      "iteration: 400 of max_iter: 2000\n"
     ]
    },
    {
     "name": "stderr",
     "output_type": "stream",
     "text": [
      "[Parallel(n_jobs=4)]: Done   2 out of   4 | elapsed:    0.4s remaining:    0.4s\n",
      "[Parallel(n_jobs=4)]: Done   4 out of   4 | elapsed:    0.4s remaining:    0.0s\n",
      "[Parallel(n_jobs=4)]: Done   4 out of   4 | elapsed:    0.4s finished\n",
      "[Parallel(n_jobs=4)]: Using backend LokyBackend with 4 concurrent workers.\n"
     ]
    },
    {
     "name": "stdout",
     "output_type": "stream",
     "text": [
      "iteration: 401 of max_iter: 2000\n"
     ]
    },
    {
     "name": "stderr",
     "output_type": "stream",
     "text": [
      "[Parallel(n_jobs=4)]: Done   2 out of   4 | elapsed:    0.5s remaining:    0.5s\n",
      "[Parallel(n_jobs=4)]: Done   4 out of   4 | elapsed:    0.5s remaining:    0.0s\n",
      "[Parallel(n_jobs=4)]: Done   4 out of   4 | elapsed:    0.5s finished\n",
      "[Parallel(n_jobs=4)]: Using backend LokyBackend with 4 concurrent workers.\n"
     ]
    },
    {
     "name": "stdout",
     "output_type": "stream",
     "text": [
      "iteration: 402 of max_iter: 2000\n"
     ]
    },
    {
     "name": "stderr",
     "output_type": "stream",
     "text": [
      "[Parallel(n_jobs=4)]: Done   2 out of   4 | elapsed:    0.4s remaining:    0.4s\n",
      "[Parallel(n_jobs=4)]: Done   4 out of   4 | elapsed:    0.5s remaining:    0.0s\n",
      "[Parallel(n_jobs=4)]: Done   4 out of   4 | elapsed:    0.5s finished\n",
      "[Parallel(n_jobs=4)]: Using backend LokyBackend with 4 concurrent workers.\n"
     ]
    },
    {
     "name": "stdout",
     "output_type": "stream",
     "text": [
      "iteration: 403 of max_iter: 2000\n"
     ]
    },
    {
     "name": "stderr",
     "output_type": "stream",
     "text": [
      "[Parallel(n_jobs=4)]: Done   2 out of   4 | elapsed:    0.4s remaining:    0.4s\n",
      "[Parallel(n_jobs=4)]: Done   4 out of   4 | elapsed:    0.5s remaining:    0.0s\n",
      "[Parallel(n_jobs=4)]: Done   4 out of   4 | elapsed:    0.5s finished\n",
      "[Parallel(n_jobs=4)]: Using backend LokyBackend with 4 concurrent workers.\n"
     ]
    },
    {
     "name": "stdout",
     "output_type": "stream",
     "text": [
      "iteration: 404 of max_iter: 2000\n"
     ]
    },
    {
     "name": "stderr",
     "output_type": "stream",
     "text": [
      "[Parallel(n_jobs=4)]: Done   2 out of   4 | elapsed:    0.5s remaining:    0.5s\n",
      "[Parallel(n_jobs=4)]: Done   4 out of   4 | elapsed:    0.5s remaining:    0.0s\n",
      "[Parallel(n_jobs=4)]: Done   4 out of   4 | elapsed:    0.5s finished\n",
      "[Parallel(n_jobs=4)]: Using backend LokyBackend with 4 concurrent workers.\n"
     ]
    },
    {
     "name": "stdout",
     "output_type": "stream",
     "text": [
      "iteration: 405 of max_iter: 2000\n"
     ]
    },
    {
     "name": "stderr",
     "output_type": "stream",
     "text": [
      "[Parallel(n_jobs=4)]: Done   2 out of   4 | elapsed:    0.4s remaining:    0.4s\n",
      "[Parallel(n_jobs=4)]: Done   4 out of   4 | elapsed:    0.5s remaining:    0.0s\n",
      "[Parallel(n_jobs=4)]: Done   4 out of   4 | elapsed:    0.5s finished\n",
      "[Parallel(n_jobs=4)]: Using backend LokyBackend with 4 concurrent workers.\n"
     ]
    },
    {
     "name": "stdout",
     "output_type": "stream",
     "text": [
      "iteration: 406 of max_iter: 2000\n"
     ]
    },
    {
     "name": "stderr",
     "output_type": "stream",
     "text": [
      "[Parallel(n_jobs=4)]: Done   2 out of   4 | elapsed:    0.5s remaining:    0.5s\n",
      "[Parallel(n_jobs=4)]: Done   4 out of   4 | elapsed:    0.5s remaining:    0.0s\n",
      "[Parallel(n_jobs=4)]: Done   4 out of   4 | elapsed:    0.5s finished\n",
      "[Parallel(n_jobs=4)]: Using backend LokyBackend with 4 concurrent workers.\n"
     ]
    },
    {
     "name": "stdout",
     "output_type": "stream",
     "text": [
      "iteration: 407 of max_iter: 2000\n"
     ]
    },
    {
     "name": "stderr",
     "output_type": "stream",
     "text": [
      "[Parallel(n_jobs=4)]: Done   2 out of   4 | elapsed:    0.4s remaining:    0.4s\n",
      "[Parallel(n_jobs=4)]: Done   4 out of   4 | elapsed:    0.5s remaining:    0.0s\n",
      "[Parallel(n_jobs=4)]: Done   4 out of   4 | elapsed:    0.5s finished\n",
      "[Parallel(n_jobs=4)]: Using backend LokyBackend with 4 concurrent workers.\n"
     ]
    },
    {
     "name": "stdout",
     "output_type": "stream",
     "text": [
      "iteration: 408 of max_iter: 2000\n"
     ]
    },
    {
     "name": "stderr",
     "output_type": "stream",
     "text": [
      "[Parallel(n_jobs=4)]: Done   2 out of   4 | elapsed:    0.5s remaining:    0.5s\n",
      "[Parallel(n_jobs=4)]: Done   4 out of   4 | elapsed:    0.5s remaining:    0.0s\n",
      "[Parallel(n_jobs=4)]: Done   4 out of   4 | elapsed:    0.5s finished\n",
      "[Parallel(n_jobs=4)]: Using backend LokyBackend with 4 concurrent workers.\n"
     ]
    },
    {
     "name": "stdout",
     "output_type": "stream",
     "text": [
      "iteration: 409 of max_iter: 2000\n"
     ]
    },
    {
     "name": "stderr",
     "output_type": "stream",
     "text": [
      "[Parallel(n_jobs=4)]: Done   2 out of   4 | elapsed:    0.4s remaining:    0.4s\n",
      "[Parallel(n_jobs=4)]: Done   4 out of   4 | elapsed:    0.5s remaining:    0.0s\n",
      "[Parallel(n_jobs=4)]: Done   4 out of   4 | elapsed:    0.5s finished\n",
      "[Parallel(n_jobs=4)]: Using backend LokyBackend with 4 concurrent workers.\n"
     ]
    },
    {
     "name": "stdout",
     "output_type": "stream",
     "text": [
      "iteration: 410 of max_iter: 2000\n"
     ]
    },
    {
     "name": "stderr",
     "output_type": "stream",
     "text": [
      "[Parallel(n_jobs=4)]: Done   2 out of   4 | elapsed:    0.5s remaining:    0.5s\n",
      "[Parallel(n_jobs=4)]: Done   4 out of   4 | elapsed:    0.5s remaining:    0.0s\n",
      "[Parallel(n_jobs=4)]: Done   4 out of   4 | elapsed:    0.5s finished\n",
      "[Parallel(n_jobs=4)]: Using backend LokyBackend with 4 concurrent workers.\n"
     ]
    },
    {
     "name": "stdout",
     "output_type": "stream",
     "text": [
      "iteration: 411 of max_iter: 2000\n"
     ]
    },
    {
     "name": "stderr",
     "output_type": "stream",
     "text": [
      "[Parallel(n_jobs=4)]: Done   2 out of   4 | elapsed:    0.4s remaining:    0.4s\n",
      "[Parallel(n_jobs=4)]: Done   4 out of   4 | elapsed:    0.5s remaining:    0.0s\n",
      "[Parallel(n_jobs=4)]: Done   4 out of   4 | elapsed:    0.5s finished\n",
      "[Parallel(n_jobs=4)]: Using backend LokyBackend with 4 concurrent workers.\n"
     ]
    },
    {
     "name": "stdout",
     "output_type": "stream",
     "text": [
      "iteration: 412 of max_iter: 2000\n"
     ]
    },
    {
     "name": "stderr",
     "output_type": "stream",
     "text": [
      "[Parallel(n_jobs=4)]: Done   2 out of   4 | elapsed:    0.5s remaining:    0.5s\n",
      "[Parallel(n_jobs=4)]: Done   4 out of   4 | elapsed:    0.5s remaining:    0.0s\n",
      "[Parallel(n_jobs=4)]: Done   4 out of   4 | elapsed:    0.5s finished\n",
      "[Parallel(n_jobs=4)]: Using backend LokyBackend with 4 concurrent workers.\n"
     ]
    },
    {
     "name": "stdout",
     "output_type": "stream",
     "text": [
      "iteration: 413 of max_iter: 2000\n"
     ]
    },
    {
     "name": "stderr",
     "output_type": "stream",
     "text": [
      "[Parallel(n_jobs=4)]: Done   2 out of   4 | elapsed:    0.5s remaining:    0.5s\n",
      "[Parallel(n_jobs=4)]: Done   4 out of   4 | elapsed:    0.5s remaining:    0.0s\n",
      "[Parallel(n_jobs=4)]: Done   4 out of   4 | elapsed:    0.5s finished\n",
      "[Parallel(n_jobs=4)]: Using backend LokyBackend with 4 concurrent workers.\n"
     ]
    },
    {
     "name": "stdout",
     "output_type": "stream",
     "text": [
      "iteration: 414 of max_iter: 2000\n"
     ]
    },
    {
     "name": "stderr",
     "output_type": "stream",
     "text": [
      "[Parallel(n_jobs=4)]: Done   2 out of   4 | elapsed:    0.4s remaining:    0.4s\n",
      "[Parallel(n_jobs=4)]: Done   4 out of   4 | elapsed:    0.5s remaining:    0.0s\n",
      "[Parallel(n_jobs=4)]: Done   4 out of   4 | elapsed:    0.5s finished\n",
      "[Parallel(n_jobs=4)]: Using backend LokyBackend with 4 concurrent workers.\n"
     ]
    },
    {
     "name": "stdout",
     "output_type": "stream",
     "text": [
      "iteration: 415 of max_iter: 2000\n"
     ]
    },
    {
     "name": "stderr",
     "output_type": "stream",
     "text": [
      "[Parallel(n_jobs=4)]: Done   2 out of   4 | elapsed:    0.5s remaining:    0.5s\n",
      "[Parallel(n_jobs=4)]: Done   4 out of   4 | elapsed:    0.5s remaining:    0.0s\n",
      "[Parallel(n_jobs=4)]: Done   4 out of   4 | elapsed:    0.5s finished\n",
      "[Parallel(n_jobs=4)]: Using backend LokyBackend with 4 concurrent workers.\n"
     ]
    },
    {
     "name": "stdout",
     "output_type": "stream",
     "text": [
      "iteration: 416 of max_iter: 2000\n"
     ]
    },
    {
     "name": "stderr",
     "output_type": "stream",
     "text": [
      "[Parallel(n_jobs=4)]: Done   2 out of   4 | elapsed:    0.4s remaining:    0.4s\n",
      "[Parallel(n_jobs=4)]: Done   4 out of   4 | elapsed:    0.5s remaining:    0.0s\n",
      "[Parallel(n_jobs=4)]: Done   4 out of   4 | elapsed:    0.5s finished\n",
      "[Parallel(n_jobs=4)]: Using backend LokyBackend with 4 concurrent workers.\n"
     ]
    },
    {
     "name": "stdout",
     "output_type": "stream",
     "text": [
      "iteration: 417 of max_iter: 2000\n"
     ]
    },
    {
     "name": "stderr",
     "output_type": "stream",
     "text": [
      "[Parallel(n_jobs=4)]: Done   2 out of   4 | elapsed:    0.5s remaining:    0.5s\n",
      "[Parallel(n_jobs=4)]: Done   4 out of   4 | elapsed:    0.5s remaining:    0.0s\n",
      "[Parallel(n_jobs=4)]: Done   4 out of   4 | elapsed:    0.5s finished\n",
      "[Parallel(n_jobs=4)]: Using backend LokyBackend with 4 concurrent workers.\n"
     ]
    },
    {
     "name": "stdout",
     "output_type": "stream",
     "text": [
      "iteration: 418 of max_iter: 2000\n"
     ]
    },
    {
     "name": "stderr",
     "output_type": "stream",
     "text": [
      "[Parallel(n_jobs=4)]: Done   2 out of   4 | elapsed:    0.4s remaining:    0.4s\n",
      "[Parallel(n_jobs=4)]: Done   4 out of   4 | elapsed:    0.5s remaining:    0.0s\n",
      "[Parallel(n_jobs=4)]: Done   4 out of   4 | elapsed:    0.5s finished\n",
      "[Parallel(n_jobs=4)]: Using backend LokyBackend with 4 concurrent workers.\n"
     ]
    },
    {
     "name": "stdout",
     "output_type": "stream",
     "text": [
      "iteration: 419 of max_iter: 2000\n"
     ]
    },
    {
     "name": "stderr",
     "output_type": "stream",
     "text": [
      "[Parallel(n_jobs=4)]: Done   2 out of   4 | elapsed:    0.4s remaining:    0.4s\n",
      "[Parallel(n_jobs=4)]: Done   4 out of   4 | elapsed:    0.4s remaining:    0.0s\n",
      "[Parallel(n_jobs=4)]: Done   4 out of   4 | elapsed:    0.4s finished\n",
      "[Parallel(n_jobs=4)]: Using backend LokyBackend with 4 concurrent workers.\n"
     ]
    },
    {
     "name": "stdout",
     "output_type": "stream",
     "text": [
      "iteration: 420 of max_iter: 2000\n"
     ]
    },
    {
     "name": "stderr",
     "output_type": "stream",
     "text": [
      "[Parallel(n_jobs=4)]: Done   2 out of   4 | elapsed:    0.4s remaining:    0.4s\n",
      "[Parallel(n_jobs=4)]: Done   4 out of   4 | elapsed:    0.5s remaining:    0.0s\n",
      "[Parallel(n_jobs=4)]: Done   4 out of   4 | elapsed:    0.5s finished\n",
      "[Parallel(n_jobs=4)]: Using backend LokyBackend with 4 concurrent workers.\n"
     ]
    },
    {
     "name": "stdout",
     "output_type": "stream",
     "text": [
      "iteration: 421 of max_iter: 2000\n"
     ]
    },
    {
     "name": "stderr",
     "output_type": "stream",
     "text": [
      "[Parallel(n_jobs=4)]: Done   2 out of   4 | elapsed:    0.4s remaining:    0.4s\n",
      "[Parallel(n_jobs=4)]: Done   4 out of   4 | elapsed:    0.5s remaining:    0.0s\n",
      "[Parallel(n_jobs=4)]: Done   4 out of   4 | elapsed:    0.5s finished\n",
      "[Parallel(n_jobs=4)]: Using backend LokyBackend with 4 concurrent workers.\n"
     ]
    },
    {
     "name": "stdout",
     "output_type": "stream",
     "text": [
      "iteration: 422 of max_iter: 2000\n"
     ]
    },
    {
     "name": "stderr",
     "output_type": "stream",
     "text": [
      "[Parallel(n_jobs=4)]: Done   2 out of   4 | elapsed:    0.5s remaining:    0.5s\n",
      "[Parallel(n_jobs=4)]: Done   4 out of   4 | elapsed:    0.5s remaining:    0.0s\n",
      "[Parallel(n_jobs=4)]: Done   4 out of   4 | elapsed:    0.5s finished\n",
      "[Parallel(n_jobs=4)]: Using backend LokyBackend with 4 concurrent workers.\n"
     ]
    },
    {
     "name": "stdout",
     "output_type": "stream",
     "text": [
      "iteration: 423 of max_iter: 2000\n"
     ]
    },
    {
     "name": "stderr",
     "output_type": "stream",
     "text": [
      "[Parallel(n_jobs=4)]: Done   2 out of   4 | elapsed:    0.6s remaining:    0.6s\n",
      "[Parallel(n_jobs=4)]: Done   4 out of   4 | elapsed:    0.6s remaining:    0.0s\n",
      "[Parallel(n_jobs=4)]: Done   4 out of   4 | elapsed:    0.6s finished\n",
      "[Parallel(n_jobs=4)]: Using backend LokyBackend with 4 concurrent workers.\n"
     ]
    },
    {
     "name": "stdout",
     "output_type": "stream",
     "text": [
      "iteration: 424 of max_iter: 2000\n"
     ]
    },
    {
     "name": "stderr",
     "output_type": "stream",
     "text": [
      "[Parallel(n_jobs=4)]: Done   2 out of   4 | elapsed:    0.5s remaining:    0.5s\n",
      "[Parallel(n_jobs=4)]: Done   4 out of   4 | elapsed:    0.5s remaining:    0.0s\n",
      "[Parallel(n_jobs=4)]: Done   4 out of   4 | elapsed:    0.5s finished\n",
      "[Parallel(n_jobs=4)]: Using backend LokyBackend with 4 concurrent workers.\n"
     ]
    },
    {
     "name": "stdout",
     "output_type": "stream",
     "text": [
      "iteration: 425 of max_iter: 2000\n"
     ]
    },
    {
     "name": "stderr",
     "output_type": "stream",
     "text": [
      "[Parallel(n_jobs=4)]: Done   2 out of   4 | elapsed:    0.5s remaining:    0.5s\n",
      "[Parallel(n_jobs=4)]: Done   4 out of   4 | elapsed:    0.5s remaining:    0.0s\n",
      "[Parallel(n_jobs=4)]: Done   4 out of   4 | elapsed:    0.5s finished\n",
      "[Parallel(n_jobs=4)]: Using backend LokyBackend with 4 concurrent workers.\n"
     ]
    },
    {
     "name": "stdout",
     "output_type": "stream",
     "text": [
      "iteration: 426 of max_iter: 2000\n"
     ]
    },
    {
     "name": "stderr",
     "output_type": "stream",
     "text": [
      "[Parallel(n_jobs=4)]: Done   2 out of   4 | elapsed:    0.5s remaining:    0.5s\n",
      "[Parallel(n_jobs=4)]: Done   4 out of   4 | elapsed:    0.5s remaining:    0.0s\n",
      "[Parallel(n_jobs=4)]: Done   4 out of   4 | elapsed:    0.5s finished\n",
      "[Parallel(n_jobs=4)]: Using backend LokyBackend with 4 concurrent workers.\n"
     ]
    },
    {
     "name": "stdout",
     "output_type": "stream",
     "text": [
      "iteration: 427 of max_iter: 2000\n"
     ]
    },
    {
     "name": "stderr",
     "output_type": "stream",
     "text": [
      "[Parallel(n_jobs=4)]: Done   2 out of   4 | elapsed:    0.5s remaining:    0.5s\n",
      "[Parallel(n_jobs=4)]: Done   4 out of   4 | elapsed:    0.5s remaining:    0.0s\n",
      "[Parallel(n_jobs=4)]: Done   4 out of   4 | elapsed:    0.5s finished\n",
      "[Parallel(n_jobs=4)]: Using backend LokyBackend with 4 concurrent workers.\n"
     ]
    },
    {
     "name": "stdout",
     "output_type": "stream",
     "text": [
      "iteration: 428 of max_iter: 2000\n"
     ]
    },
    {
     "name": "stderr",
     "output_type": "stream",
     "text": [
      "[Parallel(n_jobs=4)]: Done   2 out of   4 | elapsed:    0.4s remaining:    0.4s\n",
      "[Parallel(n_jobs=4)]: Done   4 out of   4 | elapsed:    0.5s remaining:    0.0s\n",
      "[Parallel(n_jobs=4)]: Done   4 out of   4 | elapsed:    0.5s finished\n",
      "[Parallel(n_jobs=4)]: Using backend LokyBackend with 4 concurrent workers.\n"
     ]
    },
    {
     "name": "stdout",
     "output_type": "stream",
     "text": [
      "iteration: 429 of max_iter: 2000\n"
     ]
    },
    {
     "name": "stderr",
     "output_type": "stream",
     "text": [
      "[Parallel(n_jobs=4)]: Done   2 out of   4 | elapsed:    0.4s remaining:    0.4s\n",
      "[Parallel(n_jobs=4)]: Done   4 out of   4 | elapsed:    0.5s remaining:    0.0s\n",
      "[Parallel(n_jobs=4)]: Done   4 out of   4 | elapsed:    0.5s finished\n",
      "[Parallel(n_jobs=4)]: Using backend LokyBackend with 4 concurrent workers.\n"
     ]
    },
    {
     "name": "stdout",
     "output_type": "stream",
     "text": [
      "iteration: 430 of max_iter: 2000\n"
     ]
    },
    {
     "name": "stderr",
     "output_type": "stream",
     "text": [
      "[Parallel(n_jobs=4)]: Done   2 out of   4 | elapsed:    0.5s remaining:    0.5s\n",
      "[Parallel(n_jobs=4)]: Done   4 out of   4 | elapsed:    0.5s remaining:    0.0s\n",
      "[Parallel(n_jobs=4)]: Done   4 out of   4 | elapsed:    0.5s finished\n",
      "[Parallel(n_jobs=4)]: Using backend LokyBackend with 4 concurrent workers.\n"
     ]
    },
    {
     "name": "stdout",
     "output_type": "stream",
     "text": [
      "iteration: 431 of max_iter: 2000\n"
     ]
    },
    {
     "name": "stderr",
     "output_type": "stream",
     "text": [
      "[Parallel(n_jobs=4)]: Done   2 out of   4 | elapsed:    0.5s remaining:    0.5s\n",
      "[Parallel(n_jobs=4)]: Done   4 out of   4 | elapsed:    0.5s remaining:    0.0s\n",
      "[Parallel(n_jobs=4)]: Done   4 out of   4 | elapsed:    0.5s finished\n",
      "[Parallel(n_jobs=4)]: Using backend LokyBackend with 4 concurrent workers.\n"
     ]
    },
    {
     "name": "stdout",
     "output_type": "stream",
     "text": [
      "iteration: 432 of max_iter: 2000\n"
     ]
    },
    {
     "name": "stderr",
     "output_type": "stream",
     "text": [
      "[Parallel(n_jobs=4)]: Done   2 out of   4 | elapsed:    0.5s remaining:    0.5s\n",
      "[Parallel(n_jobs=4)]: Done   4 out of   4 | elapsed:    0.5s remaining:    0.0s\n",
      "[Parallel(n_jobs=4)]: Done   4 out of   4 | elapsed:    0.5s finished\n",
      "[Parallel(n_jobs=4)]: Using backend LokyBackend with 4 concurrent workers.\n"
     ]
    },
    {
     "name": "stdout",
     "output_type": "stream",
     "text": [
      "iteration: 433 of max_iter: 2000\n"
     ]
    },
    {
     "name": "stderr",
     "output_type": "stream",
     "text": [
      "[Parallel(n_jobs=4)]: Done   2 out of   4 | elapsed:    0.5s remaining:    0.5s\n",
      "[Parallel(n_jobs=4)]: Done   4 out of   4 | elapsed:    0.5s remaining:    0.0s\n",
      "[Parallel(n_jobs=4)]: Done   4 out of   4 | elapsed:    0.5s finished\n",
      "[Parallel(n_jobs=4)]: Using backend LokyBackend with 4 concurrent workers.\n"
     ]
    },
    {
     "name": "stdout",
     "output_type": "stream",
     "text": [
      "iteration: 434 of max_iter: 2000\n"
     ]
    },
    {
     "name": "stderr",
     "output_type": "stream",
     "text": [
      "[Parallel(n_jobs=4)]: Done   2 out of   4 | elapsed:    0.5s remaining:    0.5s\n",
      "[Parallel(n_jobs=4)]: Done   4 out of   4 | elapsed:    0.5s remaining:    0.0s\n",
      "[Parallel(n_jobs=4)]: Done   4 out of   4 | elapsed:    0.5s finished\n",
      "[Parallel(n_jobs=4)]: Using backend LokyBackend with 4 concurrent workers.\n"
     ]
    },
    {
     "name": "stdout",
     "output_type": "stream",
     "text": [
      "iteration: 435 of max_iter: 2000\n"
     ]
    },
    {
     "name": "stderr",
     "output_type": "stream",
     "text": [
      "[Parallel(n_jobs=4)]: Done   2 out of   4 | elapsed:    0.5s remaining:    0.5s\n",
      "[Parallel(n_jobs=4)]: Done   4 out of   4 | elapsed:    0.5s remaining:    0.0s\n",
      "[Parallel(n_jobs=4)]: Done   4 out of   4 | elapsed:    0.5s finished\n",
      "[Parallel(n_jobs=4)]: Using backend LokyBackend with 4 concurrent workers.\n"
     ]
    },
    {
     "name": "stdout",
     "output_type": "stream",
     "text": [
      "iteration: 436 of max_iter: 2000\n"
     ]
    },
    {
     "name": "stderr",
     "output_type": "stream",
     "text": [
      "[Parallel(n_jobs=4)]: Done   2 out of   4 | elapsed:    0.5s remaining:    0.5s\n",
      "[Parallel(n_jobs=4)]: Done   4 out of   4 | elapsed:    0.5s remaining:    0.0s\n",
      "[Parallel(n_jobs=4)]: Done   4 out of   4 | elapsed:    0.5s finished\n",
      "[Parallel(n_jobs=4)]: Using backend LokyBackend with 4 concurrent workers.\n"
     ]
    },
    {
     "name": "stdout",
     "output_type": "stream",
     "text": [
      "iteration: 437 of max_iter: 2000\n"
     ]
    },
    {
     "name": "stderr",
     "output_type": "stream",
     "text": [
      "[Parallel(n_jobs=4)]: Done   2 out of   4 | elapsed:    0.5s remaining:    0.5s\n",
      "[Parallel(n_jobs=4)]: Done   4 out of   4 | elapsed:    0.5s remaining:    0.0s\n",
      "[Parallel(n_jobs=4)]: Done   4 out of   4 | elapsed:    0.5s finished\n",
      "[Parallel(n_jobs=4)]: Using backend LokyBackend with 4 concurrent workers.\n"
     ]
    },
    {
     "name": "stdout",
     "output_type": "stream",
     "text": [
      "iteration: 438 of max_iter: 2000\n"
     ]
    },
    {
     "name": "stderr",
     "output_type": "stream",
     "text": [
      "[Parallel(n_jobs=4)]: Done   2 out of   4 | elapsed:    0.4s remaining:    0.4s\n",
      "[Parallel(n_jobs=4)]: Done   4 out of   4 | elapsed:    0.5s remaining:    0.0s\n",
      "[Parallel(n_jobs=4)]: Done   4 out of   4 | elapsed:    0.5s finished\n",
      "[Parallel(n_jobs=4)]: Using backend LokyBackend with 4 concurrent workers.\n"
     ]
    },
    {
     "name": "stdout",
     "output_type": "stream",
     "text": [
      "iteration: 439 of max_iter: 2000\n"
     ]
    },
    {
     "name": "stderr",
     "output_type": "stream",
     "text": [
      "[Parallel(n_jobs=4)]: Done   2 out of   4 | elapsed:    0.5s remaining:    0.5s\n",
      "[Parallel(n_jobs=4)]: Done   4 out of   4 | elapsed:    0.5s remaining:    0.0s\n",
      "[Parallel(n_jobs=4)]: Done   4 out of   4 | elapsed:    0.5s finished\n",
      "[Parallel(n_jobs=4)]: Using backend LokyBackend with 4 concurrent workers.\n"
     ]
    },
    {
     "name": "stdout",
     "output_type": "stream",
     "text": [
      "iteration: 440 of max_iter: 2000\n"
     ]
    },
    {
     "name": "stderr",
     "output_type": "stream",
     "text": [
      "[Parallel(n_jobs=4)]: Done   2 out of   4 | elapsed:    0.8s remaining:    0.8s\n",
      "[Parallel(n_jobs=4)]: Done   4 out of   4 | elapsed:    0.8s remaining:    0.0s\n",
      "[Parallel(n_jobs=4)]: Done   4 out of   4 | elapsed:    0.8s finished\n",
      "[Parallel(n_jobs=4)]: Using backend LokyBackend with 4 concurrent workers.\n"
     ]
    },
    {
     "name": "stdout",
     "output_type": "stream",
     "text": [
      "iteration: 441 of max_iter: 2000\n"
     ]
    },
    {
     "name": "stderr",
     "output_type": "stream",
     "text": [
      "[Parallel(n_jobs=4)]: Done   2 out of   4 | elapsed:    1.1s remaining:    1.1s\n",
      "[Parallel(n_jobs=4)]: Done   4 out of   4 | elapsed:    1.1s remaining:    0.0s\n",
      "[Parallel(n_jobs=4)]: Done   4 out of   4 | elapsed:    1.1s finished\n",
      "[Parallel(n_jobs=4)]: Using backend LokyBackend with 4 concurrent workers.\n"
     ]
    },
    {
     "name": "stdout",
     "output_type": "stream",
     "text": [
      "iteration: 442 of max_iter: 2000\n"
     ]
    },
    {
     "name": "stderr",
     "output_type": "stream",
     "text": [
      "[Parallel(n_jobs=4)]: Done   2 out of   4 | elapsed:    1.1s remaining:    1.1s\n",
      "[Parallel(n_jobs=4)]: Done   4 out of   4 | elapsed:    1.2s remaining:    0.0s\n",
      "[Parallel(n_jobs=4)]: Done   4 out of   4 | elapsed:    1.2s finished\n",
      "[Parallel(n_jobs=4)]: Using backend LokyBackend with 4 concurrent workers.\n"
     ]
    },
    {
     "name": "stdout",
     "output_type": "stream",
     "text": [
      "iteration: 443 of max_iter: 2000\n"
     ]
    },
    {
     "name": "stderr",
     "output_type": "stream",
     "text": [
      "[Parallel(n_jobs=4)]: Done   2 out of   4 | elapsed:    1.0s remaining:    1.0s\n",
      "[Parallel(n_jobs=4)]: Done   4 out of   4 | elapsed:    1.1s remaining:    0.0s\n",
      "[Parallel(n_jobs=4)]: Done   4 out of   4 | elapsed:    1.1s finished\n",
      "[Parallel(n_jobs=4)]: Using backend LokyBackend with 4 concurrent workers.\n"
     ]
    },
    {
     "name": "stdout",
     "output_type": "stream",
     "text": [
      "iteration: 444 of max_iter: 2000\n"
     ]
    },
    {
     "name": "stderr",
     "output_type": "stream",
     "text": [
      "[Parallel(n_jobs=4)]: Done   2 out of   4 | elapsed:    1.0s remaining:    1.0s\n",
      "[Parallel(n_jobs=4)]: Done   4 out of   4 | elapsed:    1.1s remaining:    0.0s\n",
      "[Parallel(n_jobs=4)]: Done   4 out of   4 | elapsed:    1.1s finished\n",
      "[Parallel(n_jobs=4)]: Using backend LokyBackend with 4 concurrent workers.\n"
     ]
    },
    {
     "name": "stdout",
     "output_type": "stream",
     "text": [
      "iteration: 445 of max_iter: 2000\n"
     ]
    },
    {
     "name": "stderr",
     "output_type": "stream",
     "text": [
      "[Parallel(n_jobs=4)]: Done   2 out of   4 | elapsed:    1.0s remaining:    1.0s\n",
      "[Parallel(n_jobs=4)]: Done   4 out of   4 | elapsed:    1.1s remaining:    0.0s\n",
      "[Parallel(n_jobs=4)]: Done   4 out of   4 | elapsed:    1.1s finished\n",
      "[Parallel(n_jobs=4)]: Using backend LokyBackend with 4 concurrent workers.\n"
     ]
    },
    {
     "name": "stdout",
     "output_type": "stream",
     "text": [
      "iteration: 446 of max_iter: 2000\n"
     ]
    },
    {
     "name": "stderr",
     "output_type": "stream",
     "text": [
      "[Parallel(n_jobs=4)]: Done   2 out of   4 | elapsed:    0.7s remaining:    0.7s\n",
      "[Parallel(n_jobs=4)]: Done   4 out of   4 | elapsed:    0.8s remaining:    0.0s\n",
      "[Parallel(n_jobs=4)]: Done   4 out of   4 | elapsed:    0.8s finished\n",
      "[Parallel(n_jobs=4)]: Using backend LokyBackend with 4 concurrent workers.\n"
     ]
    },
    {
     "name": "stdout",
     "output_type": "stream",
     "text": [
      "iteration: 447 of max_iter: 2000\n"
     ]
    },
    {
     "name": "stderr",
     "output_type": "stream",
     "text": [
      "[Parallel(n_jobs=4)]: Done   2 out of   4 | elapsed:    0.6s remaining:    0.6s\n",
      "[Parallel(n_jobs=4)]: Done   4 out of   4 | elapsed:    0.6s remaining:    0.0s\n",
      "[Parallel(n_jobs=4)]: Done   4 out of   4 | elapsed:    0.6s finished\n",
      "[Parallel(n_jobs=4)]: Using backend LokyBackend with 4 concurrent workers.\n"
     ]
    },
    {
     "name": "stdout",
     "output_type": "stream",
     "text": [
      "iteration: 448 of max_iter: 2000\n"
     ]
    },
    {
     "name": "stderr",
     "output_type": "stream",
     "text": [
      "[Parallel(n_jobs=4)]: Done   2 out of   4 | elapsed:    0.6s remaining:    0.6s\n",
      "[Parallel(n_jobs=4)]: Done   4 out of   4 | elapsed:    0.6s remaining:    0.0s\n",
      "[Parallel(n_jobs=4)]: Done   4 out of   4 | elapsed:    0.6s finished\n",
      "[Parallel(n_jobs=4)]: Using backend LokyBackend with 4 concurrent workers.\n"
     ]
    },
    {
     "name": "stdout",
     "output_type": "stream",
     "text": [
      "iteration: 449 of max_iter: 2000\n"
     ]
    },
    {
     "name": "stderr",
     "output_type": "stream",
     "text": [
      "[Parallel(n_jobs=4)]: Done   2 out of   4 | elapsed:    0.5s remaining:    0.5s\n",
      "[Parallel(n_jobs=4)]: Done   4 out of   4 | elapsed:    0.6s remaining:    0.0s\n",
      "[Parallel(n_jobs=4)]: Done   4 out of   4 | elapsed:    0.6s finished\n",
      "[Parallel(n_jobs=4)]: Using backend LokyBackend with 4 concurrent workers.\n"
     ]
    },
    {
     "name": "stdout",
     "output_type": "stream",
     "text": [
      "iteration: 450 of max_iter: 2000\n"
     ]
    },
    {
     "name": "stderr",
     "output_type": "stream",
     "text": [
      "[Parallel(n_jobs=4)]: Done   2 out of   4 | elapsed:    0.7s remaining:    0.7s\n",
      "[Parallel(n_jobs=4)]: Done   4 out of   4 | elapsed:    0.7s remaining:    0.0s\n",
      "[Parallel(n_jobs=4)]: Done   4 out of   4 | elapsed:    0.7s finished\n",
      "[Parallel(n_jobs=4)]: Using backend LokyBackend with 4 concurrent workers.\n"
     ]
    },
    {
     "name": "stdout",
     "output_type": "stream",
     "text": [
      "iteration: 451 of max_iter: 2000\n"
     ]
    },
    {
     "name": "stderr",
     "output_type": "stream",
     "text": [
      "[Parallel(n_jobs=4)]: Done   2 out of   4 | elapsed:    0.4s remaining:    0.4s\n",
      "[Parallel(n_jobs=4)]: Done   4 out of   4 | elapsed:    0.5s remaining:    0.0s\n",
      "[Parallel(n_jobs=4)]: Done   4 out of   4 | elapsed:    0.5s finished\n",
      "[Parallel(n_jobs=4)]: Using backend LokyBackend with 4 concurrent workers.\n"
     ]
    },
    {
     "name": "stdout",
     "output_type": "stream",
     "text": [
      "iteration: 452 of max_iter: 2000\n"
     ]
    },
    {
     "name": "stderr",
     "output_type": "stream",
     "text": [
      "[Parallel(n_jobs=4)]: Done   2 out of   4 | elapsed:    0.5s remaining:    0.5s\n",
      "[Parallel(n_jobs=4)]: Done   4 out of   4 | elapsed:    0.5s remaining:    0.0s\n",
      "[Parallel(n_jobs=4)]: Done   4 out of   4 | elapsed:    0.5s finished\n",
      "[Parallel(n_jobs=4)]: Using backend LokyBackend with 4 concurrent workers.\n"
     ]
    },
    {
     "name": "stdout",
     "output_type": "stream",
     "text": [
      "iteration: 453 of max_iter: 2000\n"
     ]
    },
    {
     "name": "stderr",
     "output_type": "stream",
     "text": [
      "[Parallel(n_jobs=4)]: Done   2 out of   4 | elapsed:    0.5s remaining:    0.5s\n",
      "[Parallel(n_jobs=4)]: Done   4 out of   4 | elapsed:    0.5s remaining:    0.0s\n",
      "[Parallel(n_jobs=4)]: Done   4 out of   4 | elapsed:    0.5s finished\n",
      "[Parallel(n_jobs=4)]: Using backend LokyBackend with 4 concurrent workers.\n"
     ]
    },
    {
     "name": "stdout",
     "output_type": "stream",
     "text": [
      "iteration: 454 of max_iter: 2000\n"
     ]
    },
    {
     "name": "stderr",
     "output_type": "stream",
     "text": [
      "[Parallel(n_jobs=4)]: Done   2 out of   4 | elapsed:    0.4s remaining:    0.4s\n",
      "[Parallel(n_jobs=4)]: Done   4 out of   4 | elapsed:    0.5s remaining:    0.0s\n",
      "[Parallel(n_jobs=4)]: Done   4 out of   4 | elapsed:    0.5s finished\n",
      "[Parallel(n_jobs=4)]: Using backend LokyBackend with 4 concurrent workers.\n"
     ]
    },
    {
     "name": "stdout",
     "output_type": "stream",
     "text": [
      "iteration: 455 of max_iter: 2000\n"
     ]
    },
    {
     "name": "stderr",
     "output_type": "stream",
     "text": [
      "[Parallel(n_jobs=4)]: Done   2 out of   4 | elapsed:    0.5s remaining:    0.5s\n",
      "[Parallel(n_jobs=4)]: Done   4 out of   4 | elapsed:    0.5s remaining:    0.0s\n",
      "[Parallel(n_jobs=4)]: Done   4 out of   4 | elapsed:    0.5s finished\n",
      "[Parallel(n_jobs=4)]: Using backend LokyBackend with 4 concurrent workers.\n"
     ]
    },
    {
     "name": "stdout",
     "output_type": "stream",
     "text": [
      "iteration: 456 of max_iter: 2000\n"
     ]
    },
    {
     "name": "stderr",
     "output_type": "stream",
     "text": [
      "[Parallel(n_jobs=4)]: Done   2 out of   4 | elapsed:    0.4s remaining:    0.4s\n",
      "[Parallel(n_jobs=4)]: Done   4 out of   4 | elapsed:    0.5s remaining:    0.0s\n",
      "[Parallel(n_jobs=4)]: Done   4 out of   4 | elapsed:    0.5s finished\n",
      "[Parallel(n_jobs=4)]: Using backend LokyBackend with 4 concurrent workers.\n"
     ]
    },
    {
     "name": "stdout",
     "output_type": "stream",
     "text": [
      "iteration: 457 of max_iter: 2000\n"
     ]
    },
    {
     "name": "stderr",
     "output_type": "stream",
     "text": [
      "[Parallel(n_jobs=4)]: Done   2 out of   4 | elapsed:    0.5s remaining:    0.5s\n",
      "[Parallel(n_jobs=4)]: Done   4 out of   4 | elapsed:    0.5s remaining:    0.0s\n",
      "[Parallel(n_jobs=4)]: Done   4 out of   4 | elapsed:    0.5s finished\n",
      "[Parallel(n_jobs=4)]: Using backend LokyBackend with 4 concurrent workers.\n"
     ]
    },
    {
     "name": "stdout",
     "output_type": "stream",
     "text": [
      "iteration: 458 of max_iter: 2000\n"
     ]
    },
    {
     "name": "stderr",
     "output_type": "stream",
     "text": [
      "[Parallel(n_jobs=4)]: Done   2 out of   4 | elapsed:    0.5s remaining:    0.5s\n",
      "[Parallel(n_jobs=4)]: Done   4 out of   4 | elapsed:    0.5s remaining:    0.0s\n",
      "[Parallel(n_jobs=4)]: Done   4 out of   4 | elapsed:    0.5s finished\n",
      "[Parallel(n_jobs=4)]: Using backend LokyBackend with 4 concurrent workers.\n"
     ]
    },
    {
     "name": "stdout",
     "output_type": "stream",
     "text": [
      "iteration: 459 of max_iter: 2000\n"
     ]
    },
    {
     "name": "stderr",
     "output_type": "stream",
     "text": [
      "[Parallel(n_jobs=4)]: Done   2 out of   4 | elapsed:    0.5s remaining:    0.5s\n",
      "[Parallel(n_jobs=4)]: Done   4 out of   4 | elapsed:    0.5s remaining:    0.0s\n",
      "[Parallel(n_jobs=4)]: Done   4 out of   4 | elapsed:    0.5s finished\n",
      "[Parallel(n_jobs=4)]: Using backend LokyBackend with 4 concurrent workers.\n"
     ]
    },
    {
     "name": "stdout",
     "output_type": "stream",
     "text": [
      "iteration: 460 of max_iter: 2000\n"
     ]
    },
    {
     "name": "stderr",
     "output_type": "stream",
     "text": [
      "[Parallel(n_jobs=4)]: Done   2 out of   4 | elapsed:    0.5s remaining:    0.5s\n",
      "[Parallel(n_jobs=4)]: Done   4 out of   4 | elapsed:    0.5s remaining:    0.0s\n",
      "[Parallel(n_jobs=4)]: Done   4 out of   4 | elapsed:    0.5s finished\n",
      "[Parallel(n_jobs=4)]: Using backend LokyBackend with 4 concurrent workers.\n"
     ]
    },
    {
     "name": "stdout",
     "output_type": "stream",
     "text": [
      "iteration: 461 of max_iter: 2000\n"
     ]
    },
    {
     "name": "stderr",
     "output_type": "stream",
     "text": [
      "[Parallel(n_jobs=4)]: Done   2 out of   4 | elapsed:    0.4s remaining:    0.4s\n",
      "[Parallel(n_jobs=4)]: Done   4 out of   4 | elapsed:    0.4s remaining:    0.0s\n",
      "[Parallel(n_jobs=4)]: Done   4 out of   4 | elapsed:    0.4s finished\n",
      "[Parallel(n_jobs=4)]: Using backend LokyBackend with 4 concurrent workers.\n"
     ]
    },
    {
     "name": "stdout",
     "output_type": "stream",
     "text": [
      "iteration: 462 of max_iter: 2000\n"
     ]
    },
    {
     "name": "stderr",
     "output_type": "stream",
     "text": [
      "[Parallel(n_jobs=4)]: Done   2 out of   4 | elapsed:    0.4s remaining:    0.4s\n",
      "[Parallel(n_jobs=4)]: Done   4 out of   4 | elapsed:    0.5s remaining:    0.0s\n",
      "[Parallel(n_jobs=4)]: Done   4 out of   4 | elapsed:    0.5s finished\n",
      "[Parallel(n_jobs=4)]: Using backend LokyBackend with 4 concurrent workers.\n"
     ]
    },
    {
     "name": "stdout",
     "output_type": "stream",
     "text": [
      "iteration: 463 of max_iter: 2000\n"
     ]
    },
    {
     "name": "stderr",
     "output_type": "stream",
     "text": [
      "[Parallel(n_jobs=4)]: Done   2 out of   4 | elapsed:    0.4s remaining:    0.4s\n",
      "[Parallel(n_jobs=4)]: Done   4 out of   4 | elapsed:    0.4s remaining:    0.0s\n",
      "[Parallel(n_jobs=4)]: Done   4 out of   4 | elapsed:    0.4s finished\n",
      "[Parallel(n_jobs=4)]: Using backend LokyBackend with 4 concurrent workers.\n"
     ]
    },
    {
     "name": "stdout",
     "output_type": "stream",
     "text": [
      "iteration: 464 of max_iter: 2000\n"
     ]
    },
    {
     "name": "stderr",
     "output_type": "stream",
     "text": [
      "[Parallel(n_jobs=4)]: Done   2 out of   4 | elapsed:    0.5s remaining:    0.5s\n",
      "[Parallel(n_jobs=4)]: Done   4 out of   4 | elapsed:    0.5s remaining:    0.0s\n",
      "[Parallel(n_jobs=4)]: Done   4 out of   4 | elapsed:    0.5s finished\n",
      "[Parallel(n_jobs=4)]: Using backend LokyBackend with 4 concurrent workers.\n"
     ]
    },
    {
     "name": "stdout",
     "output_type": "stream",
     "text": [
      "iteration: 465 of max_iter: 2000\n"
     ]
    },
    {
     "name": "stderr",
     "output_type": "stream",
     "text": [
      "[Parallel(n_jobs=4)]: Done   2 out of   4 | elapsed:    0.5s remaining:    0.5s\n",
      "[Parallel(n_jobs=4)]: Done   4 out of   4 | elapsed:    0.5s remaining:    0.0s\n",
      "[Parallel(n_jobs=4)]: Done   4 out of   4 | elapsed:    0.5s finished\n",
      "[Parallel(n_jobs=4)]: Using backend LokyBackend with 4 concurrent workers.\n"
     ]
    },
    {
     "name": "stdout",
     "output_type": "stream",
     "text": [
      "iteration: 466 of max_iter: 2000\n"
     ]
    },
    {
     "name": "stderr",
     "output_type": "stream",
     "text": [
      "[Parallel(n_jobs=4)]: Done   2 out of   4 | elapsed:    0.4s remaining:    0.4s\n",
      "[Parallel(n_jobs=4)]: Done   4 out of   4 | elapsed:    0.5s remaining:    0.0s\n",
      "[Parallel(n_jobs=4)]: Done   4 out of   4 | elapsed:    0.5s finished\n",
      "[Parallel(n_jobs=4)]: Using backend LokyBackend with 4 concurrent workers.\n"
     ]
    },
    {
     "name": "stdout",
     "output_type": "stream",
     "text": [
      "iteration: 467 of max_iter: 2000\n"
     ]
    },
    {
     "name": "stderr",
     "output_type": "stream",
     "text": [
      "[Parallel(n_jobs=4)]: Done   2 out of   4 | elapsed:    0.5s remaining:    0.5s\n",
      "[Parallel(n_jobs=4)]: Done   4 out of   4 | elapsed:    0.5s remaining:    0.0s\n",
      "[Parallel(n_jobs=4)]: Done   4 out of   4 | elapsed:    0.5s finished\n",
      "[Parallel(n_jobs=4)]: Using backend LokyBackend with 4 concurrent workers.\n"
     ]
    },
    {
     "name": "stdout",
     "output_type": "stream",
     "text": [
      "iteration: 468 of max_iter: 2000\n"
     ]
    },
    {
     "name": "stderr",
     "output_type": "stream",
     "text": [
      "[Parallel(n_jobs=4)]: Done   2 out of   4 | elapsed:    0.4s remaining:    0.4s\n",
      "[Parallel(n_jobs=4)]: Done   4 out of   4 | elapsed:    0.5s remaining:    0.0s\n",
      "[Parallel(n_jobs=4)]: Done   4 out of   4 | elapsed:    0.5s finished\n",
      "[Parallel(n_jobs=4)]: Using backend LokyBackend with 4 concurrent workers.\n"
     ]
    },
    {
     "name": "stdout",
     "output_type": "stream",
     "text": [
      "iteration: 469 of max_iter: 2000\n"
     ]
    },
    {
     "name": "stderr",
     "output_type": "stream",
     "text": [
      "[Parallel(n_jobs=4)]: Done   2 out of   4 | elapsed:    0.5s remaining:    0.5s\n",
      "[Parallel(n_jobs=4)]: Done   4 out of   4 | elapsed:    0.5s remaining:    0.0s\n",
      "[Parallel(n_jobs=4)]: Done   4 out of   4 | elapsed:    0.5s finished\n",
      "[Parallel(n_jobs=4)]: Using backend LokyBackend with 4 concurrent workers.\n"
     ]
    },
    {
     "name": "stdout",
     "output_type": "stream",
     "text": [
      "iteration: 470 of max_iter: 2000\n"
     ]
    },
    {
     "name": "stderr",
     "output_type": "stream",
     "text": [
      "[Parallel(n_jobs=4)]: Done   2 out of   4 | elapsed:    0.4s remaining:    0.4s\n",
      "[Parallel(n_jobs=4)]: Done   4 out of   4 | elapsed:    0.4s remaining:    0.0s\n",
      "[Parallel(n_jobs=4)]: Done   4 out of   4 | elapsed:    0.4s finished\n",
      "[Parallel(n_jobs=4)]: Using backend LokyBackend with 4 concurrent workers.\n"
     ]
    },
    {
     "name": "stdout",
     "output_type": "stream",
     "text": [
      "iteration: 471 of max_iter: 2000\n"
     ]
    },
    {
     "name": "stderr",
     "output_type": "stream",
     "text": [
      "[Parallel(n_jobs=4)]: Done   2 out of   4 | elapsed:    0.5s remaining:    0.5s\n",
      "[Parallel(n_jobs=4)]: Done   4 out of   4 | elapsed:    0.5s remaining:    0.0s\n",
      "[Parallel(n_jobs=4)]: Done   4 out of   4 | elapsed:    0.5s finished\n",
      "[Parallel(n_jobs=4)]: Using backend LokyBackend with 4 concurrent workers.\n"
     ]
    },
    {
     "name": "stdout",
     "output_type": "stream",
     "text": [
      "iteration: 472 of max_iter: 2000\n"
     ]
    },
    {
     "name": "stderr",
     "output_type": "stream",
     "text": [
      "[Parallel(n_jobs=4)]: Done   2 out of   4 | elapsed:    0.5s remaining:    0.5s\n",
      "[Parallel(n_jobs=4)]: Done   4 out of   4 | elapsed:    0.5s remaining:    0.0s\n",
      "[Parallel(n_jobs=4)]: Done   4 out of   4 | elapsed:    0.5s finished\n",
      "[Parallel(n_jobs=4)]: Using backend LokyBackend with 4 concurrent workers.\n"
     ]
    },
    {
     "name": "stdout",
     "output_type": "stream",
     "text": [
      "iteration: 473 of max_iter: 2000\n"
     ]
    },
    {
     "name": "stderr",
     "output_type": "stream",
     "text": [
      "[Parallel(n_jobs=4)]: Done   2 out of   4 | elapsed:    0.4s remaining:    0.4s\n",
      "[Parallel(n_jobs=4)]: Done   4 out of   4 | elapsed:    0.5s remaining:    0.0s\n",
      "[Parallel(n_jobs=4)]: Done   4 out of   4 | elapsed:    0.5s finished\n",
      "[Parallel(n_jobs=4)]: Using backend LokyBackend with 4 concurrent workers.\n"
     ]
    },
    {
     "name": "stdout",
     "output_type": "stream",
     "text": [
      "iteration: 474 of max_iter: 2000\n"
     ]
    },
    {
     "name": "stderr",
     "output_type": "stream",
     "text": [
      "[Parallel(n_jobs=4)]: Done   2 out of   4 | elapsed:    0.5s remaining:    0.5s\n",
      "[Parallel(n_jobs=4)]: Done   4 out of   4 | elapsed:    0.5s remaining:    0.0s\n",
      "[Parallel(n_jobs=4)]: Done   4 out of   4 | elapsed:    0.5s finished\n",
      "[Parallel(n_jobs=4)]: Using backend LokyBackend with 4 concurrent workers.\n"
     ]
    },
    {
     "name": "stdout",
     "output_type": "stream",
     "text": [
      "iteration: 475 of max_iter: 2000\n"
     ]
    },
    {
     "name": "stderr",
     "output_type": "stream",
     "text": [
      "[Parallel(n_jobs=4)]: Done   2 out of   4 | elapsed:    0.5s remaining:    0.5s\n",
      "[Parallel(n_jobs=4)]: Done   4 out of   4 | elapsed:    0.5s remaining:    0.0s\n",
      "[Parallel(n_jobs=4)]: Done   4 out of   4 | elapsed:    0.5s finished\n",
      "[Parallel(n_jobs=4)]: Using backend LokyBackend with 4 concurrent workers.\n"
     ]
    },
    {
     "name": "stdout",
     "output_type": "stream",
     "text": [
      "iteration: 476 of max_iter: 2000\n"
     ]
    },
    {
     "name": "stderr",
     "output_type": "stream",
     "text": [
      "[Parallel(n_jobs=4)]: Done   2 out of   4 | elapsed:    0.5s remaining:    0.5s\n",
      "[Parallel(n_jobs=4)]: Done   4 out of   4 | elapsed:    0.5s remaining:    0.0s\n",
      "[Parallel(n_jobs=4)]: Done   4 out of   4 | elapsed:    0.5s finished\n",
      "[Parallel(n_jobs=4)]: Using backend LokyBackend with 4 concurrent workers.\n"
     ]
    },
    {
     "name": "stdout",
     "output_type": "stream",
     "text": [
      "iteration: 477 of max_iter: 2000\n"
     ]
    },
    {
     "name": "stderr",
     "output_type": "stream",
     "text": [
      "[Parallel(n_jobs=4)]: Done   2 out of   4 | elapsed:    0.4s remaining:    0.4s\n",
      "[Parallel(n_jobs=4)]: Done   4 out of   4 | elapsed:    0.5s remaining:    0.0s\n",
      "[Parallel(n_jobs=4)]: Done   4 out of   4 | elapsed:    0.5s finished\n",
      "[Parallel(n_jobs=4)]: Using backend LokyBackend with 4 concurrent workers.\n"
     ]
    },
    {
     "name": "stdout",
     "output_type": "stream",
     "text": [
      "iteration: 478 of max_iter: 2000\n"
     ]
    },
    {
     "name": "stderr",
     "output_type": "stream",
     "text": [
      "[Parallel(n_jobs=4)]: Done   2 out of   4 | elapsed:    0.4s remaining:    0.4s\n",
      "[Parallel(n_jobs=4)]: Done   4 out of   4 | elapsed:    0.5s remaining:    0.0s\n",
      "[Parallel(n_jobs=4)]: Done   4 out of   4 | elapsed:    0.5s finished\n",
      "[Parallel(n_jobs=4)]: Using backend LokyBackend with 4 concurrent workers.\n"
     ]
    },
    {
     "name": "stdout",
     "output_type": "stream",
     "text": [
      "iteration: 479 of max_iter: 2000\n"
     ]
    },
    {
     "name": "stderr",
     "output_type": "stream",
     "text": [
      "[Parallel(n_jobs=4)]: Done   2 out of   4 | elapsed:    0.4s remaining:    0.4s\n",
      "[Parallel(n_jobs=4)]: Done   4 out of   4 | elapsed:    0.5s remaining:    0.0s\n",
      "[Parallel(n_jobs=4)]: Done   4 out of   4 | elapsed:    0.5s finished\n",
      "[Parallel(n_jobs=4)]: Using backend LokyBackend with 4 concurrent workers.\n"
     ]
    },
    {
     "name": "stdout",
     "output_type": "stream",
     "text": [
      "iteration: 480 of max_iter: 2000\n"
     ]
    },
    {
     "name": "stderr",
     "output_type": "stream",
     "text": [
      "[Parallel(n_jobs=4)]: Done   2 out of   4 | elapsed:    0.4s remaining:    0.4s\n",
      "[Parallel(n_jobs=4)]: Done   4 out of   4 | elapsed:    0.5s remaining:    0.0s\n",
      "[Parallel(n_jobs=4)]: Done   4 out of   4 | elapsed:    0.5s finished\n",
      "[Parallel(n_jobs=4)]: Using backend LokyBackend with 4 concurrent workers.\n"
     ]
    },
    {
     "name": "stdout",
     "output_type": "stream",
     "text": [
      "iteration: 481 of max_iter: 2000\n"
     ]
    },
    {
     "name": "stderr",
     "output_type": "stream",
     "text": [
      "[Parallel(n_jobs=4)]: Done   2 out of   4 | elapsed:    0.5s remaining:    0.5s\n",
      "[Parallel(n_jobs=4)]: Done   4 out of   4 | elapsed:    0.5s remaining:    0.0s\n",
      "[Parallel(n_jobs=4)]: Done   4 out of   4 | elapsed:    0.5s finished\n",
      "[Parallel(n_jobs=4)]: Using backend LokyBackend with 4 concurrent workers.\n"
     ]
    },
    {
     "name": "stdout",
     "output_type": "stream",
     "text": [
      "iteration: 482 of max_iter: 2000\n"
     ]
    },
    {
     "name": "stderr",
     "output_type": "stream",
     "text": [
      "[Parallel(n_jobs=4)]: Done   2 out of   4 | elapsed:    0.6s remaining:    0.6s\n",
      "[Parallel(n_jobs=4)]: Done   4 out of   4 | elapsed:    0.6s remaining:    0.0s\n",
      "[Parallel(n_jobs=4)]: Done   4 out of   4 | elapsed:    0.6s finished\n",
      "[Parallel(n_jobs=4)]: Using backend LokyBackend with 4 concurrent workers.\n"
     ]
    },
    {
     "name": "stdout",
     "output_type": "stream",
     "text": [
      "iteration: 483 of max_iter: 2000\n"
     ]
    },
    {
     "name": "stderr",
     "output_type": "stream",
     "text": [
      "[Parallel(n_jobs=4)]: Done   2 out of   4 | elapsed:    0.7s remaining:    0.7s\n",
      "[Parallel(n_jobs=4)]: Done   4 out of   4 | elapsed:    0.7s remaining:    0.0s\n",
      "[Parallel(n_jobs=4)]: Done   4 out of   4 | elapsed:    0.7s finished\n",
      "[Parallel(n_jobs=4)]: Using backend LokyBackend with 4 concurrent workers.\n"
     ]
    },
    {
     "name": "stdout",
     "output_type": "stream",
     "text": [
      "iteration: 484 of max_iter: 2000\n"
     ]
    },
    {
     "name": "stderr",
     "output_type": "stream",
     "text": [
      "[Parallel(n_jobs=4)]: Done   2 out of   4 | elapsed:    0.5s remaining:    0.5s\n",
      "[Parallel(n_jobs=4)]: Done   4 out of   4 | elapsed:    0.5s remaining:    0.0s\n",
      "[Parallel(n_jobs=4)]: Done   4 out of   4 | elapsed:    0.5s finished\n",
      "[Parallel(n_jobs=4)]: Using backend LokyBackend with 4 concurrent workers.\n"
     ]
    },
    {
     "name": "stdout",
     "output_type": "stream",
     "text": [
      "iteration: 485 of max_iter: 2000\n"
     ]
    },
    {
     "name": "stderr",
     "output_type": "stream",
     "text": [
      "[Parallel(n_jobs=4)]: Done   2 out of   4 | elapsed:    0.4s remaining:    0.4s\n",
      "[Parallel(n_jobs=4)]: Done   4 out of   4 | elapsed:    0.5s remaining:    0.0s\n",
      "[Parallel(n_jobs=4)]: Done   4 out of   4 | elapsed:    0.5s finished\n",
      "[Parallel(n_jobs=4)]: Using backend LokyBackend with 4 concurrent workers.\n"
     ]
    },
    {
     "name": "stdout",
     "output_type": "stream",
     "text": [
      "iteration: 486 of max_iter: 2000\n"
     ]
    },
    {
     "name": "stderr",
     "output_type": "stream",
     "text": [
      "[Parallel(n_jobs=4)]: Done   2 out of   4 | elapsed:    0.4s remaining:    0.4s\n",
      "[Parallel(n_jobs=4)]: Done   4 out of   4 | elapsed:    0.5s remaining:    0.0s\n",
      "[Parallel(n_jobs=4)]: Done   4 out of   4 | elapsed:    0.5s finished\n",
      "[Parallel(n_jobs=4)]: Using backend LokyBackend with 4 concurrent workers.\n"
     ]
    },
    {
     "name": "stdout",
     "output_type": "stream",
     "text": [
      "iteration: 487 of max_iter: 2000\n"
     ]
    },
    {
     "name": "stderr",
     "output_type": "stream",
     "text": [
      "[Parallel(n_jobs=4)]: Done   2 out of   4 | elapsed:    0.5s remaining:    0.5s\n",
      "[Parallel(n_jobs=4)]: Done   4 out of   4 | elapsed:    0.5s remaining:    0.0s\n",
      "[Parallel(n_jobs=4)]: Done   4 out of   4 | elapsed:    0.5s finished\n",
      "[Parallel(n_jobs=4)]: Using backend LokyBackend with 4 concurrent workers.\n"
     ]
    },
    {
     "name": "stdout",
     "output_type": "stream",
     "text": [
      "iteration: 488 of max_iter: 2000\n"
     ]
    },
    {
     "name": "stderr",
     "output_type": "stream",
     "text": [
      "[Parallel(n_jobs=4)]: Done   2 out of   4 | elapsed:    0.4s remaining:    0.4s\n",
      "[Parallel(n_jobs=4)]: Done   4 out of   4 | elapsed:    0.5s remaining:    0.0s\n",
      "[Parallel(n_jobs=4)]: Done   4 out of   4 | elapsed:    0.5s finished\n",
      "[Parallel(n_jobs=4)]: Using backend LokyBackend with 4 concurrent workers.\n"
     ]
    },
    {
     "name": "stdout",
     "output_type": "stream",
     "text": [
      "iteration: 489 of max_iter: 2000\n"
     ]
    },
    {
     "name": "stderr",
     "output_type": "stream",
     "text": [
      "[Parallel(n_jobs=4)]: Done   2 out of   4 | elapsed:    0.5s remaining:    0.5s\n",
      "[Parallel(n_jobs=4)]: Done   4 out of   4 | elapsed:    0.5s remaining:    0.0s\n",
      "[Parallel(n_jobs=4)]: Done   4 out of   4 | elapsed:    0.5s finished\n",
      "[Parallel(n_jobs=4)]: Using backend LokyBackend with 4 concurrent workers.\n"
     ]
    },
    {
     "name": "stdout",
     "output_type": "stream",
     "text": [
      "iteration: 490 of max_iter: 2000\n"
     ]
    },
    {
     "name": "stderr",
     "output_type": "stream",
     "text": [
      "[Parallel(n_jobs=4)]: Done   2 out of   4 | elapsed:    0.4s remaining:    0.4s\n",
      "[Parallel(n_jobs=4)]: Done   4 out of   4 | elapsed:    0.4s remaining:    0.0s\n",
      "[Parallel(n_jobs=4)]: Done   4 out of   4 | elapsed:    0.4s finished\n",
      "[Parallel(n_jobs=4)]: Using backend LokyBackend with 4 concurrent workers.\n"
     ]
    },
    {
     "name": "stdout",
     "output_type": "stream",
     "text": [
      "iteration: 491 of max_iter: 2000\n"
     ]
    },
    {
     "name": "stderr",
     "output_type": "stream",
     "text": [
      "[Parallel(n_jobs=4)]: Done   2 out of   4 | elapsed:    0.5s remaining:    0.5s\n",
      "[Parallel(n_jobs=4)]: Done   4 out of   4 | elapsed:    0.5s remaining:    0.0s\n",
      "[Parallel(n_jobs=4)]: Done   4 out of   4 | elapsed:    0.5s finished\n",
      "[Parallel(n_jobs=4)]: Using backend LokyBackend with 4 concurrent workers.\n"
     ]
    },
    {
     "name": "stdout",
     "output_type": "stream",
     "text": [
      "iteration: 492 of max_iter: 2000\n"
     ]
    },
    {
     "name": "stderr",
     "output_type": "stream",
     "text": [
      "[Parallel(n_jobs=4)]: Done   2 out of   4 | elapsed:    0.5s remaining:    0.5s\n",
      "[Parallel(n_jobs=4)]: Done   4 out of   4 | elapsed:    0.5s remaining:    0.0s\n",
      "[Parallel(n_jobs=4)]: Done   4 out of   4 | elapsed:    0.5s finished\n",
      "[Parallel(n_jobs=4)]: Using backend LokyBackend with 4 concurrent workers.\n"
     ]
    },
    {
     "name": "stdout",
     "output_type": "stream",
     "text": [
      "iteration: 493 of max_iter: 2000\n"
     ]
    },
    {
     "name": "stderr",
     "output_type": "stream",
     "text": [
      "[Parallel(n_jobs=4)]: Done   2 out of   4 | elapsed:    0.5s remaining:    0.5s\n",
      "[Parallel(n_jobs=4)]: Done   4 out of   4 | elapsed:    0.5s remaining:    0.0s\n",
      "[Parallel(n_jobs=4)]: Done   4 out of   4 | elapsed:    0.5s finished\n",
      "[Parallel(n_jobs=4)]: Using backend LokyBackend with 4 concurrent workers.\n"
     ]
    },
    {
     "name": "stdout",
     "output_type": "stream",
     "text": [
      "iteration: 494 of max_iter: 2000\n"
     ]
    },
    {
     "name": "stderr",
     "output_type": "stream",
     "text": [
      "[Parallel(n_jobs=4)]: Done   2 out of   4 | elapsed:    0.5s remaining:    0.5s\n",
      "[Parallel(n_jobs=4)]: Done   4 out of   4 | elapsed:    0.5s remaining:    0.0s\n",
      "[Parallel(n_jobs=4)]: Done   4 out of   4 | elapsed:    0.5s finished\n",
      "[Parallel(n_jobs=4)]: Using backend LokyBackend with 4 concurrent workers.\n"
     ]
    },
    {
     "name": "stdout",
     "output_type": "stream",
     "text": [
      "iteration: 495 of max_iter: 2000\n"
     ]
    },
    {
     "name": "stderr",
     "output_type": "stream",
     "text": [
      "[Parallel(n_jobs=4)]: Done   2 out of   4 | elapsed:    0.4s remaining:    0.4s\n",
      "[Parallel(n_jobs=4)]: Done   4 out of   4 | elapsed:    0.5s remaining:    0.0s\n",
      "[Parallel(n_jobs=4)]: Done   4 out of   4 | elapsed:    0.5s finished\n",
      "[Parallel(n_jobs=4)]: Using backend LokyBackend with 4 concurrent workers.\n"
     ]
    },
    {
     "name": "stdout",
     "output_type": "stream",
     "text": [
      "iteration: 496 of max_iter: 2000\n"
     ]
    },
    {
     "name": "stderr",
     "output_type": "stream",
     "text": [
      "[Parallel(n_jobs=4)]: Done   2 out of   4 | elapsed:    0.5s remaining:    0.5s\n",
      "[Parallel(n_jobs=4)]: Done   4 out of   4 | elapsed:    0.5s remaining:    0.0s\n",
      "[Parallel(n_jobs=4)]: Done   4 out of   4 | elapsed:    0.5s finished\n",
      "[Parallel(n_jobs=4)]: Using backend LokyBackend with 4 concurrent workers.\n"
     ]
    },
    {
     "name": "stdout",
     "output_type": "stream",
     "text": [
      "iteration: 497 of max_iter: 2000\n"
     ]
    },
    {
     "name": "stderr",
     "output_type": "stream",
     "text": [
      "[Parallel(n_jobs=4)]: Done   2 out of   4 | elapsed:    0.4s remaining:    0.4s\n",
      "[Parallel(n_jobs=4)]: Done   4 out of   4 | elapsed:    0.4s remaining:    0.0s\n",
      "[Parallel(n_jobs=4)]: Done   4 out of   4 | elapsed:    0.4s finished\n",
      "[Parallel(n_jobs=4)]: Using backend LokyBackend with 4 concurrent workers.\n"
     ]
    },
    {
     "name": "stdout",
     "output_type": "stream",
     "text": [
      "iteration: 498 of max_iter: 2000\n"
     ]
    },
    {
     "name": "stderr",
     "output_type": "stream",
     "text": [
      "[Parallel(n_jobs=4)]: Done   2 out of   4 | elapsed:    0.5s remaining:    0.5s\n",
      "[Parallel(n_jobs=4)]: Done   4 out of   4 | elapsed:    0.5s remaining:    0.0s\n",
      "[Parallel(n_jobs=4)]: Done   4 out of   4 | elapsed:    0.5s finished\n",
      "[Parallel(n_jobs=4)]: Using backend LokyBackend with 4 concurrent workers.\n"
     ]
    },
    {
     "name": "stdout",
     "output_type": "stream",
     "text": [
      "iteration: 499 of max_iter: 2000\n"
     ]
    },
    {
     "name": "stderr",
     "output_type": "stream",
     "text": [
      "[Parallel(n_jobs=4)]: Done   2 out of   4 | elapsed:    0.5s remaining:    0.5s\n",
      "[Parallel(n_jobs=4)]: Done   4 out of   4 | elapsed:    0.5s remaining:    0.0s\n",
      "[Parallel(n_jobs=4)]: Done   4 out of   4 | elapsed:    0.5s finished\n",
      "[Parallel(n_jobs=4)]: Using backend LokyBackend with 4 concurrent workers.\n"
     ]
    },
    {
     "name": "stdout",
     "output_type": "stream",
     "text": [
      "iteration: 500 of max_iter: 2000\n"
     ]
    },
    {
     "name": "stderr",
     "output_type": "stream",
     "text": [
      "[Parallel(n_jobs=4)]: Done   2 out of   4 | elapsed:    0.4s remaining:    0.4s\n",
      "[Parallel(n_jobs=4)]: Done   4 out of   4 | elapsed:    0.5s remaining:    0.0s\n",
      "[Parallel(n_jobs=4)]: Done   4 out of   4 | elapsed:    0.5s finished\n",
      "[Parallel(n_jobs=4)]: Using backend LokyBackend with 4 concurrent workers.\n"
     ]
    },
    {
     "name": "stdout",
     "output_type": "stream",
     "text": [
      "iteration: 501 of max_iter: 2000\n"
     ]
    },
    {
     "name": "stderr",
     "output_type": "stream",
     "text": [
      "[Parallel(n_jobs=4)]: Done   2 out of   4 | elapsed:    0.5s remaining:    0.5s\n",
      "[Parallel(n_jobs=4)]: Done   4 out of   4 | elapsed:    0.5s remaining:    0.0s\n",
      "[Parallel(n_jobs=4)]: Done   4 out of   4 | elapsed:    0.5s finished\n",
      "[Parallel(n_jobs=4)]: Using backend LokyBackend with 4 concurrent workers.\n"
     ]
    },
    {
     "name": "stdout",
     "output_type": "stream",
     "text": [
      "iteration: 502 of max_iter: 2000\n"
     ]
    },
    {
     "name": "stderr",
     "output_type": "stream",
     "text": [
      "[Parallel(n_jobs=4)]: Done   2 out of   4 | elapsed:    0.4s remaining:    0.4s\n",
      "[Parallel(n_jobs=4)]: Done   4 out of   4 | elapsed:    0.4s remaining:    0.0s\n",
      "[Parallel(n_jobs=4)]: Done   4 out of   4 | elapsed:    0.4s finished\n",
      "[Parallel(n_jobs=4)]: Using backend LokyBackend with 4 concurrent workers.\n"
     ]
    },
    {
     "name": "stdout",
     "output_type": "stream",
     "text": [
      "iteration: 503 of max_iter: 2000\n"
     ]
    },
    {
     "name": "stderr",
     "output_type": "stream",
     "text": [
      "[Parallel(n_jobs=4)]: Done   2 out of   4 | elapsed:    0.5s remaining:    0.5s\n",
      "[Parallel(n_jobs=4)]: Done   4 out of   4 | elapsed:    0.5s remaining:    0.0s\n",
      "[Parallel(n_jobs=4)]: Done   4 out of   4 | elapsed:    0.5s finished\n",
      "[Parallel(n_jobs=4)]: Using backend LokyBackend with 4 concurrent workers.\n"
     ]
    },
    {
     "name": "stdout",
     "output_type": "stream",
     "text": [
      "iteration: 504 of max_iter: 2000\n"
     ]
    },
    {
     "name": "stderr",
     "output_type": "stream",
     "text": [
      "[Parallel(n_jobs=4)]: Done   2 out of   4 | elapsed:    0.4s remaining:    0.4s\n",
      "[Parallel(n_jobs=4)]: Done   4 out of   4 | elapsed:    0.4s remaining:    0.0s\n",
      "[Parallel(n_jobs=4)]: Done   4 out of   4 | elapsed:    0.4s finished\n",
      "[Parallel(n_jobs=4)]: Using backend LokyBackend with 4 concurrent workers.\n"
     ]
    },
    {
     "name": "stdout",
     "output_type": "stream",
     "text": [
      "iteration: 505 of max_iter: 2000\n"
     ]
    },
    {
     "name": "stderr",
     "output_type": "stream",
     "text": [
      "[Parallel(n_jobs=4)]: Done   2 out of   4 | elapsed:    0.5s remaining:    0.5s\n",
      "[Parallel(n_jobs=4)]: Done   4 out of   4 | elapsed:    0.5s remaining:    0.0s\n",
      "[Parallel(n_jobs=4)]: Done   4 out of   4 | elapsed:    0.5s finished\n",
      "[Parallel(n_jobs=4)]: Using backend LokyBackend with 4 concurrent workers.\n"
     ]
    },
    {
     "name": "stdout",
     "output_type": "stream",
     "text": [
      "iteration: 506 of max_iter: 2000\n"
     ]
    },
    {
     "name": "stderr",
     "output_type": "stream",
     "text": [
      "[Parallel(n_jobs=4)]: Done   2 out of   4 | elapsed:    0.5s remaining:    0.5s\n",
      "[Parallel(n_jobs=4)]: Done   4 out of   4 | elapsed:    0.5s remaining:    0.0s\n",
      "[Parallel(n_jobs=4)]: Done   4 out of   4 | elapsed:    0.5s finished\n",
      "[Parallel(n_jobs=4)]: Using backend LokyBackend with 4 concurrent workers.\n"
     ]
    },
    {
     "name": "stdout",
     "output_type": "stream",
     "text": [
      "iteration: 507 of max_iter: 2000\n"
     ]
    },
    {
     "name": "stderr",
     "output_type": "stream",
     "text": [
      "[Parallel(n_jobs=4)]: Done   2 out of   4 | elapsed:    0.5s remaining:    0.5s\n",
      "[Parallel(n_jobs=4)]: Done   4 out of   4 | elapsed:    0.5s remaining:    0.0s\n",
      "[Parallel(n_jobs=4)]: Done   4 out of   4 | elapsed:    0.5s finished\n",
      "[Parallel(n_jobs=4)]: Using backend LokyBackend with 4 concurrent workers.\n"
     ]
    },
    {
     "name": "stdout",
     "output_type": "stream",
     "text": [
      "iteration: 508 of max_iter: 2000\n"
     ]
    },
    {
     "name": "stderr",
     "output_type": "stream",
     "text": [
      "[Parallel(n_jobs=4)]: Done   2 out of   4 | elapsed:    0.5s remaining:    0.5s\n",
      "[Parallel(n_jobs=4)]: Done   4 out of   4 | elapsed:    0.5s remaining:    0.0s\n",
      "[Parallel(n_jobs=4)]: Done   4 out of   4 | elapsed:    0.5s finished\n",
      "[Parallel(n_jobs=4)]: Using backend LokyBackend with 4 concurrent workers.\n"
     ]
    },
    {
     "name": "stdout",
     "output_type": "stream",
     "text": [
      "iteration: 509 of max_iter: 2000\n"
     ]
    },
    {
     "name": "stderr",
     "output_type": "stream",
     "text": [
      "[Parallel(n_jobs=4)]: Done   2 out of   4 | elapsed:    0.4s remaining:    0.4s\n",
      "[Parallel(n_jobs=4)]: Done   4 out of   4 | elapsed:    0.5s remaining:    0.0s\n",
      "[Parallel(n_jobs=4)]: Done   4 out of   4 | elapsed:    0.5s finished\n",
      "[Parallel(n_jobs=4)]: Using backend LokyBackend with 4 concurrent workers.\n"
     ]
    },
    {
     "name": "stdout",
     "output_type": "stream",
     "text": [
      "iteration: 510 of max_iter: 2000\n"
     ]
    },
    {
     "name": "stderr",
     "output_type": "stream",
     "text": [
      "[Parallel(n_jobs=4)]: Done   2 out of   4 | elapsed:    0.5s remaining:    0.5s\n",
      "[Parallel(n_jobs=4)]: Done   4 out of   4 | elapsed:    0.5s remaining:    0.0s\n",
      "[Parallel(n_jobs=4)]: Done   4 out of   4 | elapsed:    0.5s finished\n",
      "[Parallel(n_jobs=4)]: Using backend LokyBackend with 4 concurrent workers.\n"
     ]
    },
    {
     "name": "stdout",
     "output_type": "stream",
     "text": [
      "iteration: 511 of max_iter: 2000\n"
     ]
    },
    {
     "name": "stderr",
     "output_type": "stream",
     "text": [
      "[Parallel(n_jobs=4)]: Done   2 out of   4 | elapsed:    0.4s remaining:    0.4s\n",
      "[Parallel(n_jobs=4)]: Done   4 out of   4 | elapsed:    0.4s remaining:    0.0s\n",
      "[Parallel(n_jobs=4)]: Done   4 out of   4 | elapsed:    0.4s finished\n",
      "[Parallel(n_jobs=4)]: Using backend LokyBackend with 4 concurrent workers.\n"
     ]
    },
    {
     "name": "stdout",
     "output_type": "stream",
     "text": [
      "iteration: 512 of max_iter: 2000\n"
     ]
    },
    {
     "name": "stderr",
     "output_type": "stream",
     "text": [
      "[Parallel(n_jobs=4)]: Done   2 out of   4 | elapsed:    0.5s remaining:    0.5s\n",
      "[Parallel(n_jobs=4)]: Done   4 out of   4 | elapsed:    0.5s remaining:    0.0s\n",
      "[Parallel(n_jobs=4)]: Done   4 out of   4 | elapsed:    0.5s finished\n",
      "[Parallel(n_jobs=4)]: Using backend LokyBackend with 4 concurrent workers.\n"
     ]
    },
    {
     "name": "stdout",
     "output_type": "stream",
     "text": [
      "iteration: 513 of max_iter: 2000\n"
     ]
    },
    {
     "name": "stderr",
     "output_type": "stream",
     "text": [
      "[Parallel(n_jobs=4)]: Done   2 out of   4 | elapsed:    0.5s remaining:    0.5s\n",
      "[Parallel(n_jobs=4)]: Done   4 out of   4 | elapsed:    0.5s remaining:    0.0s\n",
      "[Parallel(n_jobs=4)]: Done   4 out of   4 | elapsed:    0.5s finished\n",
      "[Parallel(n_jobs=4)]: Using backend LokyBackend with 4 concurrent workers.\n"
     ]
    },
    {
     "name": "stdout",
     "output_type": "stream",
     "text": [
      "iteration: 514 of max_iter: 2000\n"
     ]
    },
    {
     "name": "stderr",
     "output_type": "stream",
     "text": [
      "[Parallel(n_jobs=4)]: Done   2 out of   4 | elapsed:    0.4s remaining:    0.4s\n",
      "[Parallel(n_jobs=4)]: Done   4 out of   4 | elapsed:    0.4s remaining:    0.0s\n",
      "[Parallel(n_jobs=4)]: Done   4 out of   4 | elapsed:    0.4s finished\n",
      "[Parallel(n_jobs=4)]: Using backend LokyBackend with 4 concurrent workers.\n"
     ]
    },
    {
     "name": "stdout",
     "output_type": "stream",
     "text": [
      "iteration: 515 of max_iter: 2000\n"
     ]
    },
    {
     "name": "stderr",
     "output_type": "stream",
     "text": [
      "[Parallel(n_jobs=4)]: Done   2 out of   4 | elapsed:    0.5s remaining:    0.5s\n",
      "[Parallel(n_jobs=4)]: Done   4 out of   4 | elapsed:    0.5s remaining:    0.0s\n",
      "[Parallel(n_jobs=4)]: Done   4 out of   4 | elapsed:    0.5s finished\n",
      "[Parallel(n_jobs=4)]: Using backend LokyBackend with 4 concurrent workers.\n"
     ]
    },
    {
     "name": "stdout",
     "output_type": "stream",
     "text": [
      "iteration: 516 of max_iter: 2000\n"
     ]
    },
    {
     "name": "stderr",
     "output_type": "stream",
     "text": [
      "[Parallel(n_jobs=4)]: Done   2 out of   4 | elapsed:    0.4s remaining:    0.4s\n",
      "[Parallel(n_jobs=4)]: Done   4 out of   4 | elapsed:    0.4s remaining:    0.0s\n",
      "[Parallel(n_jobs=4)]: Done   4 out of   4 | elapsed:    0.4s finished\n",
      "[Parallel(n_jobs=4)]: Using backend LokyBackend with 4 concurrent workers.\n"
     ]
    },
    {
     "name": "stdout",
     "output_type": "stream",
     "text": [
      "iteration: 517 of max_iter: 2000\n"
     ]
    },
    {
     "name": "stderr",
     "output_type": "stream",
     "text": [
      "[Parallel(n_jobs=4)]: Done   2 out of   4 | elapsed:    0.5s remaining:    0.5s\n",
      "[Parallel(n_jobs=4)]: Done   4 out of   4 | elapsed:    0.5s remaining:    0.0s\n",
      "[Parallel(n_jobs=4)]: Done   4 out of   4 | elapsed:    0.5s finished\n",
      "[Parallel(n_jobs=4)]: Using backend LokyBackend with 4 concurrent workers.\n"
     ]
    },
    {
     "name": "stdout",
     "output_type": "stream",
     "text": [
      "iteration: 518 of max_iter: 2000\n"
     ]
    },
    {
     "name": "stderr",
     "output_type": "stream",
     "text": [
      "[Parallel(n_jobs=4)]: Done   2 out of   4 | elapsed:    0.4s remaining:    0.4s\n",
      "[Parallel(n_jobs=4)]: Done   4 out of   4 | elapsed:    0.4s remaining:    0.0s\n",
      "[Parallel(n_jobs=4)]: Done   4 out of   4 | elapsed:    0.4s finished\n",
      "[Parallel(n_jobs=4)]: Using backend LokyBackend with 4 concurrent workers.\n"
     ]
    },
    {
     "name": "stdout",
     "output_type": "stream",
     "text": [
      "iteration: 519 of max_iter: 2000\n"
     ]
    },
    {
     "name": "stderr",
     "output_type": "stream",
     "text": [
      "[Parallel(n_jobs=4)]: Done   2 out of   4 | elapsed:    0.5s remaining:    0.5s\n",
      "[Parallel(n_jobs=4)]: Done   4 out of   4 | elapsed:    0.5s remaining:    0.0s\n",
      "[Parallel(n_jobs=4)]: Done   4 out of   4 | elapsed:    0.5s finished\n",
      "[Parallel(n_jobs=4)]: Using backend LokyBackend with 4 concurrent workers.\n"
     ]
    },
    {
     "name": "stdout",
     "output_type": "stream",
     "text": [
      "iteration: 520 of max_iter: 2000\n"
     ]
    },
    {
     "name": "stderr",
     "output_type": "stream",
     "text": [
      "[Parallel(n_jobs=4)]: Done   2 out of   4 | elapsed:    0.5s remaining:    0.5s\n",
      "[Parallel(n_jobs=4)]: Done   4 out of   4 | elapsed:    0.5s remaining:    0.0s\n",
      "[Parallel(n_jobs=4)]: Done   4 out of   4 | elapsed:    0.5s finished\n",
      "[Parallel(n_jobs=4)]: Using backend LokyBackend with 4 concurrent workers.\n"
     ]
    },
    {
     "name": "stdout",
     "output_type": "stream",
     "text": [
      "iteration: 521 of max_iter: 2000\n"
     ]
    },
    {
     "name": "stderr",
     "output_type": "stream",
     "text": [
      "[Parallel(n_jobs=4)]: Done   2 out of   4 | elapsed:    0.4s remaining:    0.4s\n",
      "[Parallel(n_jobs=4)]: Done   4 out of   4 | elapsed:    0.4s remaining:    0.0s\n",
      "[Parallel(n_jobs=4)]: Done   4 out of   4 | elapsed:    0.4s finished\n",
      "[Parallel(n_jobs=4)]: Using backend LokyBackend with 4 concurrent workers.\n"
     ]
    },
    {
     "name": "stdout",
     "output_type": "stream",
     "text": [
      "iteration: 522 of max_iter: 2000\n"
     ]
    },
    {
     "name": "stderr",
     "output_type": "stream",
     "text": [
      "[Parallel(n_jobs=4)]: Done   2 out of   4 | elapsed:    0.5s remaining:    0.5s\n",
      "[Parallel(n_jobs=4)]: Done   4 out of   4 | elapsed:    0.5s remaining:    0.0s\n",
      "[Parallel(n_jobs=4)]: Done   4 out of   4 | elapsed:    0.5s finished\n",
      "[Parallel(n_jobs=4)]: Using backend LokyBackend with 4 concurrent workers.\n"
     ]
    },
    {
     "name": "stdout",
     "output_type": "stream",
     "text": [
      "iteration: 523 of max_iter: 2000\n"
     ]
    },
    {
     "name": "stderr",
     "output_type": "stream",
     "text": [
      "[Parallel(n_jobs=4)]: Done   2 out of   4 | elapsed:    0.4s remaining:    0.4s\n",
      "[Parallel(n_jobs=4)]: Done   4 out of   4 | elapsed:    0.4s remaining:    0.0s\n",
      "[Parallel(n_jobs=4)]: Done   4 out of   4 | elapsed:    0.4s finished\n",
      "[Parallel(n_jobs=4)]: Using backend LokyBackend with 4 concurrent workers.\n"
     ]
    },
    {
     "name": "stdout",
     "output_type": "stream",
     "text": [
      "iteration: 524 of max_iter: 2000\n"
     ]
    },
    {
     "name": "stderr",
     "output_type": "stream",
     "text": [
      "[Parallel(n_jobs=4)]: Done   2 out of   4 | elapsed:    0.5s remaining:    0.5s\n",
      "[Parallel(n_jobs=4)]: Done   4 out of   4 | elapsed:    0.5s remaining:    0.0s\n",
      "[Parallel(n_jobs=4)]: Done   4 out of   4 | elapsed:    0.5s finished\n",
      "[Parallel(n_jobs=4)]: Using backend LokyBackend with 4 concurrent workers.\n"
     ]
    },
    {
     "name": "stdout",
     "output_type": "stream",
     "text": [
      "iteration: 525 of max_iter: 2000\n"
     ]
    },
    {
     "name": "stderr",
     "output_type": "stream",
     "text": [
      "[Parallel(n_jobs=4)]: Done   2 out of   4 | elapsed:    0.4s remaining:    0.4s\n",
      "[Parallel(n_jobs=4)]: Done   4 out of   4 | elapsed:    0.4s remaining:    0.0s\n",
      "[Parallel(n_jobs=4)]: Done   4 out of   4 | elapsed:    0.4s finished\n",
      "[Parallel(n_jobs=4)]: Using backend LokyBackend with 4 concurrent workers.\n"
     ]
    },
    {
     "name": "stdout",
     "output_type": "stream",
     "text": [
      "iteration: 526 of max_iter: 2000\n"
     ]
    },
    {
     "name": "stderr",
     "output_type": "stream",
     "text": [
      "[Parallel(n_jobs=4)]: Done   2 out of   4 | elapsed:    0.5s remaining:    0.5s\n",
      "[Parallel(n_jobs=4)]: Done   4 out of   4 | elapsed:    0.5s remaining:    0.0s\n",
      "[Parallel(n_jobs=4)]: Done   4 out of   4 | elapsed:    0.5s finished\n",
      "[Parallel(n_jobs=4)]: Using backend LokyBackend with 4 concurrent workers.\n"
     ]
    },
    {
     "name": "stdout",
     "output_type": "stream",
     "text": [
      "iteration: 527 of max_iter: 2000\n"
     ]
    },
    {
     "name": "stderr",
     "output_type": "stream",
     "text": [
      "[Parallel(n_jobs=4)]: Done   2 out of   4 | elapsed:    0.4s remaining:    0.4s\n",
      "[Parallel(n_jobs=4)]: Done   4 out of   4 | elapsed:    0.5s remaining:    0.0s\n",
      "[Parallel(n_jobs=4)]: Done   4 out of   4 | elapsed:    0.5s finished\n",
      "[Parallel(n_jobs=4)]: Using backend LokyBackend with 4 concurrent workers.\n"
     ]
    },
    {
     "name": "stdout",
     "output_type": "stream",
     "text": [
      "iteration: 528 of max_iter: 2000\n"
     ]
    },
    {
     "name": "stderr",
     "output_type": "stream",
     "text": [
      "[Parallel(n_jobs=4)]: Done   2 out of   4 | elapsed:    0.4s remaining:    0.4s\n",
      "[Parallel(n_jobs=4)]: Done   4 out of   4 | elapsed:    0.5s remaining:    0.0s\n",
      "[Parallel(n_jobs=4)]: Done   4 out of   4 | elapsed:    0.5s finished\n",
      "[Parallel(n_jobs=4)]: Using backend LokyBackend with 4 concurrent workers.\n"
     ]
    },
    {
     "name": "stdout",
     "output_type": "stream",
     "text": [
      "iteration: 529 of max_iter: 2000\n"
     ]
    },
    {
     "name": "stderr",
     "output_type": "stream",
     "text": [
      "[Parallel(n_jobs=4)]: Done   2 out of   4 | elapsed:    0.5s remaining:    0.5s\n",
      "[Parallel(n_jobs=4)]: Done   4 out of   4 | elapsed:    0.5s remaining:    0.0s\n",
      "[Parallel(n_jobs=4)]: Done   4 out of   4 | elapsed:    0.5s finished\n",
      "[Parallel(n_jobs=4)]: Using backend LokyBackend with 4 concurrent workers.\n"
     ]
    },
    {
     "name": "stdout",
     "output_type": "stream",
     "text": [
      "iteration: 530 of max_iter: 2000\n"
     ]
    },
    {
     "name": "stderr",
     "output_type": "stream",
     "text": [
      "[Parallel(n_jobs=4)]: Done   2 out of   4 | elapsed:    0.4s remaining:    0.4s\n",
      "[Parallel(n_jobs=4)]: Done   4 out of   4 | elapsed:    0.4s remaining:    0.0s\n",
      "[Parallel(n_jobs=4)]: Done   4 out of   4 | elapsed:    0.4s finished\n",
      "[Parallel(n_jobs=4)]: Using backend LokyBackend with 4 concurrent workers.\n"
     ]
    },
    {
     "name": "stdout",
     "output_type": "stream",
     "text": [
      "iteration: 531 of max_iter: 2000\n"
     ]
    },
    {
     "name": "stderr",
     "output_type": "stream",
     "text": [
      "[Parallel(n_jobs=4)]: Done   2 out of   4 | elapsed:    0.5s remaining:    0.5s\n",
      "[Parallel(n_jobs=4)]: Done   4 out of   4 | elapsed:    0.5s remaining:    0.0s\n",
      "[Parallel(n_jobs=4)]: Done   4 out of   4 | elapsed:    0.5s finished\n",
      "[Parallel(n_jobs=4)]: Using backend LokyBackend with 4 concurrent workers.\n"
     ]
    },
    {
     "name": "stdout",
     "output_type": "stream",
     "text": [
      "iteration: 532 of max_iter: 2000\n"
     ]
    },
    {
     "name": "stderr",
     "output_type": "stream",
     "text": [
      "[Parallel(n_jobs=4)]: Done   2 out of   4 | elapsed:    0.4s remaining:    0.4s\n",
      "[Parallel(n_jobs=4)]: Done   4 out of   4 | elapsed:    0.4s remaining:    0.0s\n",
      "[Parallel(n_jobs=4)]: Done   4 out of   4 | elapsed:    0.4s finished\n",
      "[Parallel(n_jobs=4)]: Using backend LokyBackend with 4 concurrent workers.\n"
     ]
    },
    {
     "name": "stdout",
     "output_type": "stream",
     "text": [
      "iteration: 533 of max_iter: 2000\n"
     ]
    },
    {
     "name": "stderr",
     "output_type": "stream",
     "text": [
      "[Parallel(n_jobs=4)]: Done   2 out of   4 | elapsed:    0.5s remaining:    0.5s\n",
      "[Parallel(n_jobs=4)]: Done   4 out of   4 | elapsed:    0.5s remaining:    0.0s\n",
      "[Parallel(n_jobs=4)]: Done   4 out of   4 | elapsed:    0.5s finished\n",
      "[Parallel(n_jobs=4)]: Using backend LokyBackend with 4 concurrent workers.\n"
     ]
    },
    {
     "name": "stdout",
     "output_type": "stream",
     "text": [
      "iteration: 534 of max_iter: 2000\n"
     ]
    },
    {
     "name": "stderr",
     "output_type": "stream",
     "text": [
      "[Parallel(n_jobs=4)]: Done   2 out of   4 | elapsed:    0.4s remaining:    0.4s\n",
      "[Parallel(n_jobs=4)]: Done   4 out of   4 | elapsed:    0.5s remaining:    0.0s\n",
      "[Parallel(n_jobs=4)]: Done   4 out of   4 | elapsed:    0.5s finished\n",
      "[Parallel(n_jobs=4)]: Using backend LokyBackend with 4 concurrent workers.\n"
     ]
    },
    {
     "name": "stdout",
     "output_type": "stream",
     "text": [
      "iteration: 535 of max_iter: 2000\n"
     ]
    },
    {
     "name": "stderr",
     "output_type": "stream",
     "text": [
      "[Parallel(n_jobs=4)]: Done   2 out of   4 | elapsed:    0.4s remaining:    0.4s\n",
      "[Parallel(n_jobs=4)]: Done   4 out of   4 | elapsed:    0.5s remaining:    0.0s\n",
      "[Parallel(n_jobs=4)]: Done   4 out of   4 | elapsed:    0.5s finished\n",
      "[Parallel(n_jobs=4)]: Using backend LokyBackend with 4 concurrent workers.\n"
     ]
    },
    {
     "name": "stdout",
     "output_type": "stream",
     "text": [
      "iteration: 536 of max_iter: 2000\n"
     ]
    },
    {
     "name": "stderr",
     "output_type": "stream",
     "text": [
      "[Parallel(n_jobs=4)]: Done   2 out of   4 | elapsed:    0.5s remaining:    0.5s\n",
      "[Parallel(n_jobs=4)]: Done   4 out of   4 | elapsed:    0.5s remaining:    0.0s\n",
      "[Parallel(n_jobs=4)]: Done   4 out of   4 | elapsed:    0.5s finished\n",
      "[Parallel(n_jobs=4)]: Using backend LokyBackend with 4 concurrent workers.\n"
     ]
    },
    {
     "name": "stdout",
     "output_type": "stream",
     "text": [
      "iteration: 537 of max_iter: 2000\n"
     ]
    },
    {
     "name": "stderr",
     "output_type": "stream",
     "text": [
      "[Parallel(n_jobs=4)]: Done   2 out of   4 | elapsed:    0.4s remaining:    0.4s\n",
      "[Parallel(n_jobs=4)]: Done   4 out of   4 | elapsed:    0.5s remaining:    0.0s\n",
      "[Parallel(n_jobs=4)]: Done   4 out of   4 | elapsed:    0.5s finished\n",
      "[Parallel(n_jobs=4)]: Using backend LokyBackend with 4 concurrent workers.\n"
     ]
    },
    {
     "name": "stdout",
     "output_type": "stream",
     "text": [
      "iteration: 538 of max_iter: 2000\n"
     ]
    },
    {
     "name": "stderr",
     "output_type": "stream",
     "text": [
      "[Parallel(n_jobs=4)]: Done   2 out of   4 | elapsed:    0.5s remaining:    0.5s\n",
      "[Parallel(n_jobs=4)]: Done   4 out of   4 | elapsed:    0.5s remaining:    0.0s\n",
      "[Parallel(n_jobs=4)]: Done   4 out of   4 | elapsed:    0.5s finished\n",
      "[Parallel(n_jobs=4)]: Using backend LokyBackend with 4 concurrent workers.\n"
     ]
    },
    {
     "name": "stdout",
     "output_type": "stream",
     "text": [
      "iteration: 539 of max_iter: 2000\n"
     ]
    },
    {
     "name": "stderr",
     "output_type": "stream",
     "text": [
      "[Parallel(n_jobs=4)]: Done   2 out of   4 | elapsed:    0.4s remaining:    0.4s\n",
      "[Parallel(n_jobs=4)]: Done   4 out of   4 | elapsed:    0.5s remaining:    0.0s\n",
      "[Parallel(n_jobs=4)]: Done   4 out of   4 | elapsed:    0.5s finished\n",
      "[Parallel(n_jobs=4)]: Using backend LokyBackend with 4 concurrent workers.\n"
     ]
    },
    {
     "name": "stdout",
     "output_type": "stream",
     "text": [
      "iteration: 540 of max_iter: 2000\n"
     ]
    },
    {
     "name": "stderr",
     "output_type": "stream",
     "text": [
      "[Parallel(n_jobs=4)]: Done   2 out of   4 | elapsed:    0.5s remaining:    0.5s\n",
      "[Parallel(n_jobs=4)]: Done   4 out of   4 | elapsed:    0.5s remaining:    0.0s\n",
      "[Parallel(n_jobs=4)]: Done   4 out of   4 | elapsed:    0.5s finished\n",
      "[Parallel(n_jobs=4)]: Using backend LokyBackend with 4 concurrent workers.\n"
     ]
    },
    {
     "name": "stdout",
     "output_type": "stream",
     "text": [
      "iteration: 541 of max_iter: 2000\n"
     ]
    },
    {
     "name": "stderr",
     "output_type": "stream",
     "text": [
      "[Parallel(n_jobs=4)]: Done   2 out of   4 | elapsed:    0.5s remaining:    0.5s\n",
      "[Parallel(n_jobs=4)]: Done   4 out of   4 | elapsed:    0.5s remaining:    0.0s\n",
      "[Parallel(n_jobs=4)]: Done   4 out of   4 | elapsed:    0.5s finished\n",
      "[Parallel(n_jobs=4)]: Using backend LokyBackend with 4 concurrent workers.\n"
     ]
    },
    {
     "name": "stdout",
     "output_type": "stream",
     "text": [
      "iteration: 542 of max_iter: 2000\n"
     ]
    },
    {
     "name": "stderr",
     "output_type": "stream",
     "text": [
      "[Parallel(n_jobs=4)]: Done   2 out of   4 | elapsed:    0.4s remaining:    0.4s\n",
      "[Parallel(n_jobs=4)]: Done   4 out of   4 | elapsed:    0.5s remaining:    0.0s\n",
      "[Parallel(n_jobs=4)]: Done   4 out of   4 | elapsed:    0.5s finished\n",
      "[Parallel(n_jobs=4)]: Using backend LokyBackend with 4 concurrent workers.\n"
     ]
    },
    {
     "name": "stdout",
     "output_type": "stream",
     "text": [
      "iteration: 543 of max_iter: 2000\n"
     ]
    },
    {
     "name": "stderr",
     "output_type": "stream",
     "text": [
      "[Parallel(n_jobs=4)]: Done   2 out of   4 | elapsed:    0.5s remaining:    0.5s\n",
      "[Parallel(n_jobs=4)]: Done   4 out of   4 | elapsed:    0.5s remaining:    0.0s\n",
      "[Parallel(n_jobs=4)]: Done   4 out of   4 | elapsed:    0.5s finished\n",
      "[Parallel(n_jobs=4)]: Using backend LokyBackend with 4 concurrent workers.\n"
     ]
    },
    {
     "name": "stdout",
     "output_type": "stream",
     "text": [
      "iteration: 544 of max_iter: 2000\n"
     ]
    },
    {
     "name": "stderr",
     "output_type": "stream",
     "text": [
      "[Parallel(n_jobs=4)]: Done   2 out of   4 | elapsed:    0.4s remaining:    0.4s\n",
      "[Parallel(n_jobs=4)]: Done   4 out of   4 | elapsed:    0.5s remaining:    0.0s\n",
      "[Parallel(n_jobs=4)]: Done   4 out of   4 | elapsed:    0.5s finished\n",
      "[Parallel(n_jobs=4)]: Using backend LokyBackend with 4 concurrent workers.\n"
     ]
    },
    {
     "name": "stdout",
     "output_type": "stream",
     "text": [
      "iteration: 545 of max_iter: 2000\n"
     ]
    },
    {
     "name": "stderr",
     "output_type": "stream",
     "text": [
      "[Parallel(n_jobs=4)]: Done   2 out of   4 | elapsed:    0.5s remaining:    0.5s\n",
      "[Parallel(n_jobs=4)]: Done   4 out of   4 | elapsed:    0.5s remaining:    0.0s\n",
      "[Parallel(n_jobs=4)]: Done   4 out of   4 | elapsed:    0.5s finished\n",
      "[Parallel(n_jobs=4)]: Using backend LokyBackend with 4 concurrent workers.\n"
     ]
    },
    {
     "name": "stdout",
     "output_type": "stream",
     "text": [
      "iteration: 546 of max_iter: 2000\n"
     ]
    },
    {
     "name": "stderr",
     "output_type": "stream",
     "text": [
      "[Parallel(n_jobs=4)]: Done   2 out of   4 | elapsed:    0.4s remaining:    0.4s\n",
      "[Parallel(n_jobs=4)]: Done   4 out of   4 | elapsed:    0.5s remaining:    0.0s\n",
      "[Parallel(n_jobs=4)]: Done   4 out of   4 | elapsed:    0.5s finished\n",
      "[Parallel(n_jobs=4)]: Using backend LokyBackend with 4 concurrent workers.\n"
     ]
    },
    {
     "name": "stdout",
     "output_type": "stream",
     "text": [
      "iteration: 547 of max_iter: 2000\n"
     ]
    },
    {
     "name": "stderr",
     "output_type": "stream",
     "text": [
      "[Parallel(n_jobs=4)]: Done   2 out of   4 | elapsed:    0.4s remaining:    0.4s\n",
      "[Parallel(n_jobs=4)]: Done   4 out of   4 | elapsed:    0.5s remaining:    0.0s\n",
      "[Parallel(n_jobs=4)]: Done   4 out of   4 | elapsed:    0.5s finished\n",
      "[Parallel(n_jobs=4)]: Using backend LokyBackend with 4 concurrent workers.\n"
     ]
    },
    {
     "name": "stdout",
     "output_type": "stream",
     "text": [
      "iteration: 548 of max_iter: 2000\n"
     ]
    },
    {
     "name": "stderr",
     "output_type": "stream",
     "text": [
      "[Parallel(n_jobs=4)]: Done   2 out of   4 | elapsed:    0.5s remaining:    0.5s\n",
      "[Parallel(n_jobs=4)]: Done   4 out of   4 | elapsed:    0.5s remaining:    0.0s\n",
      "[Parallel(n_jobs=4)]: Done   4 out of   4 | elapsed:    0.5s finished\n",
      "[Parallel(n_jobs=4)]: Using backend LokyBackend with 4 concurrent workers.\n"
     ]
    },
    {
     "name": "stdout",
     "output_type": "stream",
     "text": [
      "iteration: 549 of max_iter: 2000\n"
     ]
    },
    {
     "name": "stderr",
     "output_type": "stream",
     "text": [
      "[Parallel(n_jobs=4)]: Done   2 out of   4 | elapsed:    0.4s remaining:    0.4s\n",
      "[Parallel(n_jobs=4)]: Done   4 out of   4 | elapsed:    0.5s remaining:    0.0s\n",
      "[Parallel(n_jobs=4)]: Done   4 out of   4 | elapsed:    0.5s finished\n",
      "[Parallel(n_jobs=4)]: Using backend LokyBackend with 4 concurrent workers.\n"
     ]
    },
    {
     "name": "stdout",
     "output_type": "stream",
     "text": [
      "iteration: 550 of max_iter: 2000\n"
     ]
    },
    {
     "name": "stderr",
     "output_type": "stream",
     "text": [
      "[Parallel(n_jobs=4)]: Done   2 out of   4 | elapsed:    0.5s remaining:    0.5s\n",
      "[Parallel(n_jobs=4)]: Done   4 out of   4 | elapsed:    0.5s remaining:    0.0s\n",
      "[Parallel(n_jobs=4)]: Done   4 out of   4 | elapsed:    0.5s finished\n",
      "[Parallel(n_jobs=4)]: Using backend LokyBackend with 4 concurrent workers.\n"
     ]
    },
    {
     "name": "stdout",
     "output_type": "stream",
     "text": [
      "iteration: 551 of max_iter: 2000\n"
     ]
    },
    {
     "name": "stderr",
     "output_type": "stream",
     "text": [
      "[Parallel(n_jobs=4)]: Done   2 out of   4 | elapsed:    0.4s remaining:    0.4s\n",
      "[Parallel(n_jobs=4)]: Done   4 out of   4 | elapsed:    0.5s remaining:    0.0s\n",
      "[Parallel(n_jobs=4)]: Done   4 out of   4 | elapsed:    0.5s finished\n",
      "[Parallel(n_jobs=4)]: Using backend LokyBackend with 4 concurrent workers.\n"
     ]
    },
    {
     "name": "stdout",
     "output_type": "stream",
     "text": [
      "iteration: 552 of max_iter: 2000\n"
     ]
    },
    {
     "name": "stderr",
     "output_type": "stream",
     "text": [
      "[Parallel(n_jobs=4)]: Done   2 out of   4 | elapsed:    0.5s remaining:    0.5s\n",
      "[Parallel(n_jobs=4)]: Done   4 out of   4 | elapsed:    0.5s remaining:    0.0s\n",
      "[Parallel(n_jobs=4)]: Done   4 out of   4 | elapsed:    0.5s finished\n",
      "[Parallel(n_jobs=4)]: Using backend LokyBackend with 4 concurrent workers.\n"
     ]
    },
    {
     "name": "stdout",
     "output_type": "stream",
     "text": [
      "iteration: 553 of max_iter: 2000\n"
     ]
    },
    {
     "name": "stderr",
     "output_type": "stream",
     "text": [
      "[Parallel(n_jobs=4)]: Done   2 out of   4 | elapsed:    0.4s remaining:    0.4s\n",
      "[Parallel(n_jobs=4)]: Done   4 out of   4 | elapsed:    0.5s remaining:    0.0s\n",
      "[Parallel(n_jobs=4)]: Done   4 out of   4 | elapsed:    0.5s finished\n",
      "[Parallel(n_jobs=4)]: Using backend LokyBackend with 4 concurrent workers.\n"
     ]
    },
    {
     "name": "stdout",
     "output_type": "stream",
     "text": [
      "iteration: 554 of max_iter: 2000\n"
     ]
    },
    {
     "name": "stderr",
     "output_type": "stream",
     "text": [
      "[Parallel(n_jobs=4)]: Done   2 out of   4 | elapsed:    0.4s remaining:    0.4s\n",
      "[Parallel(n_jobs=4)]: Done   4 out of   4 | elapsed:    0.5s remaining:    0.0s\n",
      "[Parallel(n_jobs=4)]: Done   4 out of   4 | elapsed:    0.5s finished\n",
      "[Parallel(n_jobs=4)]: Using backend LokyBackend with 4 concurrent workers.\n"
     ]
    },
    {
     "name": "stdout",
     "output_type": "stream",
     "text": [
      "iteration: 555 of max_iter: 2000\n"
     ]
    },
    {
     "name": "stderr",
     "output_type": "stream",
     "text": [
      "[Parallel(n_jobs=4)]: Done   2 out of   4 | elapsed:    0.5s remaining:    0.5s\n",
      "[Parallel(n_jobs=4)]: Done   4 out of   4 | elapsed:    0.5s remaining:    0.0s\n",
      "[Parallel(n_jobs=4)]: Done   4 out of   4 | elapsed:    0.5s finished\n",
      "[Parallel(n_jobs=4)]: Using backend LokyBackend with 4 concurrent workers.\n"
     ]
    },
    {
     "name": "stdout",
     "output_type": "stream",
     "text": [
      "iteration: 556 of max_iter: 2000\n"
     ]
    },
    {
     "name": "stderr",
     "output_type": "stream",
     "text": [
      "[Parallel(n_jobs=4)]: Done   2 out of   4 | elapsed:    0.5s remaining:    0.5s\n",
      "[Parallel(n_jobs=4)]: Done   4 out of   4 | elapsed:    0.5s remaining:    0.0s\n",
      "[Parallel(n_jobs=4)]: Done   4 out of   4 | elapsed:    0.5s finished\n",
      "[Parallel(n_jobs=4)]: Using backend LokyBackend with 4 concurrent workers.\n"
     ]
    },
    {
     "name": "stdout",
     "output_type": "stream",
     "text": [
      "iteration: 557 of max_iter: 2000\n"
     ]
    },
    {
     "name": "stderr",
     "output_type": "stream",
     "text": [
      "[Parallel(n_jobs=4)]: Done   2 out of   4 | elapsed:    0.5s remaining:    0.5s\n",
      "[Parallel(n_jobs=4)]: Done   4 out of   4 | elapsed:    0.5s remaining:    0.0s\n",
      "[Parallel(n_jobs=4)]: Done   4 out of   4 | elapsed:    0.5s finished\n",
      "[Parallel(n_jobs=4)]: Using backend LokyBackend with 4 concurrent workers.\n"
     ]
    },
    {
     "name": "stdout",
     "output_type": "stream",
     "text": [
      "iteration: 558 of max_iter: 2000\n"
     ]
    },
    {
     "name": "stderr",
     "output_type": "stream",
     "text": [
      "[Parallel(n_jobs=4)]: Done   2 out of   4 | elapsed:    0.5s remaining:    0.5s\n",
      "[Parallel(n_jobs=4)]: Done   4 out of   4 | elapsed:    0.5s remaining:    0.0s\n",
      "[Parallel(n_jobs=4)]: Done   4 out of   4 | elapsed:    0.5s finished\n",
      "[Parallel(n_jobs=4)]: Using backend LokyBackend with 4 concurrent workers.\n"
     ]
    },
    {
     "name": "stdout",
     "output_type": "stream",
     "text": [
      "iteration: 559 of max_iter: 2000\n"
     ]
    },
    {
     "name": "stderr",
     "output_type": "stream",
     "text": [
      "[Parallel(n_jobs=4)]: Done   2 out of   4 | elapsed:    0.5s remaining:    0.5s\n",
      "[Parallel(n_jobs=4)]: Done   4 out of   4 | elapsed:    0.5s remaining:    0.0s\n",
      "[Parallel(n_jobs=4)]: Done   4 out of   4 | elapsed:    0.5s finished\n",
      "[Parallel(n_jobs=4)]: Using backend LokyBackend with 4 concurrent workers.\n"
     ]
    },
    {
     "name": "stdout",
     "output_type": "stream",
     "text": [
      "iteration: 560 of max_iter: 2000\n"
     ]
    },
    {
     "name": "stderr",
     "output_type": "stream",
     "text": [
      "[Parallel(n_jobs=4)]: Done   2 out of   4 | elapsed:    0.5s remaining:    0.5s\n",
      "[Parallel(n_jobs=4)]: Done   4 out of   4 | elapsed:    0.6s remaining:    0.0s\n",
      "[Parallel(n_jobs=4)]: Done   4 out of   4 | elapsed:    0.6s finished\n",
      "[Parallel(n_jobs=4)]: Using backend LokyBackend with 4 concurrent workers.\n"
     ]
    },
    {
     "name": "stdout",
     "output_type": "stream",
     "text": [
      "iteration: 561 of max_iter: 2000\n"
     ]
    },
    {
     "name": "stderr",
     "output_type": "stream",
     "text": [
      "[Parallel(n_jobs=4)]: Done   2 out of   4 | elapsed:    0.7s remaining:    0.7s\n",
      "[Parallel(n_jobs=4)]: Done   4 out of   4 | elapsed:    0.7s remaining:    0.0s\n",
      "[Parallel(n_jobs=4)]: Done   4 out of   4 | elapsed:    0.7s finished\n",
      "[Parallel(n_jobs=4)]: Using backend LokyBackend with 4 concurrent workers.\n"
     ]
    },
    {
     "name": "stdout",
     "output_type": "stream",
     "text": [
      "iteration: 562 of max_iter: 2000\n"
     ]
    },
    {
     "name": "stderr",
     "output_type": "stream",
     "text": [
      "[Parallel(n_jobs=4)]: Done   2 out of   4 | elapsed:    0.8s remaining:    0.8s\n",
      "[Parallel(n_jobs=4)]: Done   4 out of   4 | elapsed:    0.9s remaining:    0.0s\n",
      "[Parallel(n_jobs=4)]: Done   4 out of   4 | elapsed:    0.9s finished\n",
      "[Parallel(n_jobs=4)]: Using backend LokyBackend with 4 concurrent workers.\n"
     ]
    },
    {
     "name": "stdout",
     "output_type": "stream",
     "text": [
      "iteration: 563 of max_iter: 2000\n"
     ]
    },
    {
     "name": "stderr",
     "output_type": "stream",
     "text": [
      "[Parallel(n_jobs=4)]: Done   2 out of   4 | elapsed:    0.5s remaining:    0.5s\n",
      "[Parallel(n_jobs=4)]: Done   4 out of   4 | elapsed:    0.6s remaining:    0.0s\n",
      "[Parallel(n_jobs=4)]: Done   4 out of   4 | elapsed:    0.6s finished\n",
      "[Parallel(n_jobs=4)]: Using backend LokyBackend with 4 concurrent workers.\n"
     ]
    },
    {
     "name": "stdout",
     "output_type": "stream",
     "text": [
      "iteration: 564 of max_iter: 2000\n"
     ]
    },
    {
     "name": "stderr",
     "output_type": "stream",
     "text": [
      "[Parallel(n_jobs=4)]: Done   2 out of   4 | elapsed:    0.5s remaining:    0.5s\n",
      "[Parallel(n_jobs=4)]: Done   4 out of   4 | elapsed:    0.5s remaining:    0.0s\n",
      "[Parallel(n_jobs=4)]: Done   4 out of   4 | elapsed:    0.5s finished\n",
      "[Parallel(n_jobs=4)]: Using backend LokyBackend with 4 concurrent workers.\n"
     ]
    },
    {
     "name": "stdout",
     "output_type": "stream",
     "text": [
      "iteration: 565 of max_iter: 2000\n"
     ]
    },
    {
     "name": "stderr",
     "output_type": "stream",
     "text": [
      "[Parallel(n_jobs=4)]: Done   2 out of   4 | elapsed:    0.5s remaining:    0.5s\n",
      "[Parallel(n_jobs=4)]: Done   4 out of   4 | elapsed:    0.5s remaining:    0.0s\n",
      "[Parallel(n_jobs=4)]: Done   4 out of   4 | elapsed:    0.5s finished\n",
      "[Parallel(n_jobs=4)]: Using backend LokyBackend with 4 concurrent workers.\n"
     ]
    },
    {
     "name": "stdout",
     "output_type": "stream",
     "text": [
      "iteration: 566 of max_iter: 2000\n"
     ]
    },
    {
     "name": "stderr",
     "output_type": "stream",
     "text": [
      "[Parallel(n_jobs=4)]: Done   2 out of   4 | elapsed:    0.7s remaining:    0.7s\n",
      "[Parallel(n_jobs=4)]: Done   4 out of   4 | elapsed:    0.7s remaining:    0.0s\n",
      "[Parallel(n_jobs=4)]: Done   4 out of   4 | elapsed:    0.7s finished\n",
      "[Parallel(n_jobs=4)]: Using backend LokyBackend with 4 concurrent workers.\n"
     ]
    },
    {
     "name": "stdout",
     "output_type": "stream",
     "text": [
      "iteration: 567 of max_iter: 2000\n"
     ]
    },
    {
     "name": "stderr",
     "output_type": "stream",
     "text": [
      "[Parallel(n_jobs=4)]: Done   2 out of   4 | elapsed:    0.7s remaining:    0.7s\n",
      "[Parallel(n_jobs=4)]: Done   4 out of   4 | elapsed:    0.7s remaining:    0.0s\n",
      "[Parallel(n_jobs=4)]: Done   4 out of   4 | elapsed:    0.7s finished\n",
      "[Parallel(n_jobs=4)]: Using backend LokyBackend with 4 concurrent workers.\n"
     ]
    },
    {
     "name": "stdout",
     "output_type": "stream",
     "text": [
      "iteration: 568 of max_iter: 2000\n"
     ]
    },
    {
     "name": "stderr",
     "output_type": "stream",
     "text": [
      "[Parallel(n_jobs=4)]: Done   2 out of   4 | elapsed:    0.7s remaining:    0.7s\n",
      "[Parallel(n_jobs=4)]: Done   4 out of   4 | elapsed:    0.8s remaining:    0.0s\n",
      "[Parallel(n_jobs=4)]: Done   4 out of   4 | elapsed:    0.8s finished\n",
      "[Parallel(n_jobs=4)]: Using backend LokyBackend with 4 concurrent workers.\n"
     ]
    },
    {
     "name": "stdout",
     "output_type": "stream",
     "text": [
      "iteration: 569 of max_iter: 2000\n"
     ]
    },
    {
     "name": "stderr",
     "output_type": "stream",
     "text": [
      "[Parallel(n_jobs=4)]: Done   2 out of   4 | elapsed:    0.5s remaining:    0.5s\n",
      "[Parallel(n_jobs=4)]: Done   4 out of   4 | elapsed:    0.5s remaining:    0.0s\n",
      "[Parallel(n_jobs=4)]: Done   4 out of   4 | elapsed:    0.5s finished\n",
      "[Parallel(n_jobs=4)]: Using backend LokyBackend with 4 concurrent workers.\n"
     ]
    },
    {
     "name": "stdout",
     "output_type": "stream",
     "text": [
      "iteration: 570 of max_iter: 2000\n"
     ]
    },
    {
     "name": "stderr",
     "output_type": "stream",
     "text": [
      "[Parallel(n_jobs=4)]: Done   2 out of   4 | elapsed:    0.5s remaining:    0.5s\n",
      "[Parallel(n_jobs=4)]: Done   4 out of   4 | elapsed:    0.5s remaining:    0.0s\n",
      "[Parallel(n_jobs=4)]: Done   4 out of   4 | elapsed:    0.5s finished\n",
      "[Parallel(n_jobs=4)]: Using backend LokyBackend with 4 concurrent workers.\n"
     ]
    },
    {
     "name": "stdout",
     "output_type": "stream",
     "text": [
      "iteration: 571 of max_iter: 2000\n"
     ]
    },
    {
     "name": "stderr",
     "output_type": "stream",
     "text": [
      "[Parallel(n_jobs=4)]: Done   2 out of   4 | elapsed:    0.5s remaining:    0.5s\n",
      "[Parallel(n_jobs=4)]: Done   4 out of   4 | elapsed:    0.5s remaining:    0.0s\n",
      "[Parallel(n_jobs=4)]: Done   4 out of   4 | elapsed:    0.5s finished\n",
      "[Parallel(n_jobs=4)]: Using backend LokyBackend with 4 concurrent workers.\n"
     ]
    },
    {
     "name": "stdout",
     "output_type": "stream",
     "text": [
      "iteration: 572 of max_iter: 2000\n"
     ]
    },
    {
     "name": "stderr",
     "output_type": "stream",
     "text": [
      "[Parallel(n_jobs=4)]: Done   2 out of   4 | elapsed:    0.5s remaining:    0.5s\n",
      "[Parallel(n_jobs=4)]: Done   4 out of   4 | elapsed:    0.5s remaining:    0.0s\n",
      "[Parallel(n_jobs=4)]: Done   4 out of   4 | elapsed:    0.5s finished\n",
      "[Parallel(n_jobs=4)]: Using backend LokyBackend with 4 concurrent workers.\n"
     ]
    },
    {
     "name": "stdout",
     "output_type": "stream",
     "text": [
      "iteration: 573 of max_iter: 2000\n"
     ]
    },
    {
     "name": "stderr",
     "output_type": "stream",
     "text": [
      "[Parallel(n_jobs=4)]: Done   2 out of   4 | elapsed:    0.7s remaining:    0.7s\n",
      "[Parallel(n_jobs=4)]: Done   4 out of   4 | elapsed:    0.7s remaining:    0.0s\n",
      "[Parallel(n_jobs=4)]: Done   4 out of   4 | elapsed:    0.7s finished\n",
      "[Parallel(n_jobs=4)]: Using backend LokyBackend with 4 concurrent workers.\n"
     ]
    },
    {
     "name": "stdout",
     "output_type": "stream",
     "text": [
      "iteration: 574 of max_iter: 2000\n"
     ]
    },
    {
     "name": "stderr",
     "output_type": "stream",
     "text": [
      "[Parallel(n_jobs=4)]: Done   2 out of   4 | elapsed:    0.5s remaining:    0.5s\n",
      "[Parallel(n_jobs=4)]: Done   4 out of   4 | elapsed:    0.5s remaining:    0.0s\n",
      "[Parallel(n_jobs=4)]: Done   4 out of   4 | elapsed:    0.5s finished\n",
      "[Parallel(n_jobs=4)]: Using backend LokyBackend with 4 concurrent workers.\n"
     ]
    },
    {
     "name": "stdout",
     "output_type": "stream",
     "text": [
      "iteration: 575 of max_iter: 2000\n"
     ]
    },
    {
     "name": "stderr",
     "output_type": "stream",
     "text": [
      "[Parallel(n_jobs=4)]: Done   2 out of   4 | elapsed:    0.5s remaining:    0.5s\n",
      "[Parallel(n_jobs=4)]: Done   4 out of   4 | elapsed:    0.5s remaining:    0.0s\n",
      "[Parallel(n_jobs=4)]: Done   4 out of   4 | elapsed:    0.5s finished\n",
      "[Parallel(n_jobs=4)]: Using backend LokyBackend with 4 concurrent workers.\n"
     ]
    },
    {
     "name": "stdout",
     "output_type": "stream",
     "text": [
      "iteration: 576 of max_iter: 2000\n"
     ]
    },
    {
     "name": "stderr",
     "output_type": "stream",
     "text": [
      "[Parallel(n_jobs=4)]: Done   2 out of   4 | elapsed:    0.6s remaining:    0.6s\n",
      "[Parallel(n_jobs=4)]: Done   4 out of   4 | elapsed:    0.6s remaining:    0.0s\n",
      "[Parallel(n_jobs=4)]: Done   4 out of   4 | elapsed:    0.6s finished\n",
      "[Parallel(n_jobs=4)]: Using backend LokyBackend with 4 concurrent workers.\n"
     ]
    },
    {
     "name": "stdout",
     "output_type": "stream",
     "text": [
      "iteration: 577 of max_iter: 2000\n"
     ]
    },
    {
     "name": "stderr",
     "output_type": "stream",
     "text": [
      "[Parallel(n_jobs=4)]: Done   2 out of   4 | elapsed:    0.5s remaining:    0.5s\n",
      "[Parallel(n_jobs=4)]: Done   4 out of   4 | elapsed:    0.5s remaining:    0.0s\n",
      "[Parallel(n_jobs=4)]: Done   4 out of   4 | elapsed:    0.5s finished\n",
      "[Parallel(n_jobs=4)]: Using backend LokyBackend with 4 concurrent workers.\n"
     ]
    },
    {
     "name": "stdout",
     "output_type": "stream",
     "text": [
      "iteration: 578 of max_iter: 2000\n"
     ]
    },
    {
     "name": "stderr",
     "output_type": "stream",
     "text": [
      "[Parallel(n_jobs=4)]: Done   2 out of   4 | elapsed:    0.5s remaining:    0.5s\n",
      "[Parallel(n_jobs=4)]: Done   4 out of   4 | elapsed:    0.5s remaining:    0.0s\n",
      "[Parallel(n_jobs=4)]: Done   4 out of   4 | elapsed:    0.5s finished\n",
      "[Parallel(n_jobs=4)]: Using backend LokyBackend with 4 concurrent workers.\n"
     ]
    },
    {
     "name": "stdout",
     "output_type": "stream",
     "text": [
      "iteration: 579 of max_iter: 2000\n"
     ]
    },
    {
     "name": "stderr",
     "output_type": "stream",
     "text": [
      "[Parallel(n_jobs=4)]: Done   2 out of   4 | elapsed:    0.5s remaining:    0.5s\n",
      "[Parallel(n_jobs=4)]: Done   4 out of   4 | elapsed:    0.5s remaining:    0.0s\n",
      "[Parallel(n_jobs=4)]: Done   4 out of   4 | elapsed:    0.5s finished\n",
      "[Parallel(n_jobs=4)]: Using backend LokyBackend with 4 concurrent workers.\n"
     ]
    },
    {
     "name": "stdout",
     "output_type": "stream",
     "text": [
      "iteration: 580 of max_iter: 2000\n"
     ]
    },
    {
     "name": "stderr",
     "output_type": "stream",
     "text": [
      "[Parallel(n_jobs=4)]: Done   2 out of   4 | elapsed:    0.7s remaining:    0.7s\n",
      "[Parallel(n_jobs=4)]: Done   4 out of   4 | elapsed:    0.7s remaining:    0.0s\n",
      "[Parallel(n_jobs=4)]: Done   4 out of   4 | elapsed:    0.7s finished\n",
      "[Parallel(n_jobs=4)]: Using backend LokyBackend with 4 concurrent workers.\n"
     ]
    },
    {
     "name": "stdout",
     "output_type": "stream",
     "text": [
      "iteration: 581 of max_iter: 2000\n"
     ]
    },
    {
     "name": "stderr",
     "output_type": "stream",
     "text": [
      "[Parallel(n_jobs=4)]: Done   2 out of   4 | elapsed:    0.6s remaining:    0.6s\n",
      "[Parallel(n_jobs=4)]: Done   4 out of   4 | elapsed:    0.6s remaining:    0.0s\n",
      "[Parallel(n_jobs=4)]: Done   4 out of   4 | elapsed:    0.6s finished\n",
      "[Parallel(n_jobs=4)]: Using backend LokyBackend with 4 concurrent workers.\n"
     ]
    },
    {
     "name": "stdout",
     "output_type": "stream",
     "text": [
      "iteration: 582 of max_iter: 2000\n"
     ]
    },
    {
     "name": "stderr",
     "output_type": "stream",
     "text": [
      "[Parallel(n_jobs=4)]: Done   2 out of   4 | elapsed:    0.5s remaining:    0.5s\n",
      "[Parallel(n_jobs=4)]: Done   4 out of   4 | elapsed:    0.5s remaining:    0.0s\n",
      "[Parallel(n_jobs=4)]: Done   4 out of   4 | elapsed:    0.5s finished\n",
      "[Parallel(n_jobs=4)]: Using backend LokyBackend with 4 concurrent workers.\n"
     ]
    },
    {
     "name": "stdout",
     "output_type": "stream",
     "text": [
      "iteration: 583 of max_iter: 2000\n"
     ]
    },
    {
     "name": "stderr",
     "output_type": "stream",
     "text": [
      "[Parallel(n_jobs=4)]: Done   2 out of   4 | elapsed:    0.5s remaining:    0.5s\n",
      "[Parallel(n_jobs=4)]: Done   4 out of   4 | elapsed:    0.5s remaining:    0.0s\n",
      "[Parallel(n_jobs=4)]: Done   4 out of   4 | elapsed:    0.5s finished\n",
      "[Parallel(n_jobs=4)]: Using backend LokyBackend with 4 concurrent workers.\n"
     ]
    },
    {
     "name": "stdout",
     "output_type": "stream",
     "text": [
      "iteration: 584 of max_iter: 2000\n"
     ]
    },
    {
     "name": "stderr",
     "output_type": "stream",
     "text": [
      "[Parallel(n_jobs=4)]: Done   2 out of   4 | elapsed:    0.5s remaining:    0.5s\n",
      "[Parallel(n_jobs=4)]: Done   4 out of   4 | elapsed:    0.5s remaining:    0.0s\n",
      "[Parallel(n_jobs=4)]: Done   4 out of   4 | elapsed:    0.5s finished\n",
      "[Parallel(n_jobs=4)]: Using backend LokyBackend with 4 concurrent workers.\n"
     ]
    },
    {
     "name": "stdout",
     "output_type": "stream",
     "text": [
      "iteration: 585 of max_iter: 2000\n"
     ]
    },
    {
     "name": "stderr",
     "output_type": "stream",
     "text": [
      "[Parallel(n_jobs=4)]: Done   2 out of   4 | elapsed:    0.4s remaining:    0.4s\n",
      "[Parallel(n_jobs=4)]: Done   4 out of   4 | elapsed:    0.5s remaining:    0.0s\n",
      "[Parallel(n_jobs=4)]: Done   4 out of   4 | elapsed:    0.5s finished\n",
      "[Parallel(n_jobs=4)]: Using backend LokyBackend with 4 concurrent workers.\n"
     ]
    },
    {
     "name": "stdout",
     "output_type": "stream",
     "text": [
      "iteration: 586 of max_iter: 2000\n"
     ]
    },
    {
     "name": "stderr",
     "output_type": "stream",
     "text": [
      "[Parallel(n_jobs=4)]: Done   2 out of   4 | elapsed:    0.5s remaining:    0.5s\n",
      "[Parallel(n_jobs=4)]: Done   4 out of   4 | elapsed:    0.5s remaining:    0.0s\n",
      "[Parallel(n_jobs=4)]: Done   4 out of   4 | elapsed:    0.5s finished\n",
      "[Parallel(n_jobs=4)]: Using backend LokyBackend with 4 concurrent workers.\n"
     ]
    },
    {
     "name": "stdout",
     "output_type": "stream",
     "text": [
      "iteration: 587 of max_iter: 2000\n"
     ]
    },
    {
     "name": "stderr",
     "output_type": "stream",
     "text": [
      "[Parallel(n_jobs=4)]: Done   2 out of   4 | elapsed:    0.4s remaining:    0.4s\n",
      "[Parallel(n_jobs=4)]: Done   4 out of   4 | elapsed:    0.5s remaining:    0.0s\n",
      "[Parallel(n_jobs=4)]: Done   4 out of   4 | elapsed:    0.5s finished\n",
      "[Parallel(n_jobs=4)]: Using backend LokyBackend with 4 concurrent workers.\n"
     ]
    },
    {
     "name": "stdout",
     "output_type": "stream",
     "text": [
      "iteration: 588 of max_iter: 2000\n"
     ]
    },
    {
     "name": "stderr",
     "output_type": "stream",
     "text": [
      "[Parallel(n_jobs=4)]: Done   2 out of   4 | elapsed:    0.5s remaining:    0.5s\n",
      "[Parallel(n_jobs=4)]: Done   4 out of   4 | elapsed:    0.5s remaining:    0.0s\n",
      "[Parallel(n_jobs=4)]: Done   4 out of   4 | elapsed:    0.5s finished\n",
      "[Parallel(n_jobs=4)]: Using backend LokyBackend with 4 concurrent workers.\n"
     ]
    },
    {
     "name": "stdout",
     "output_type": "stream",
     "text": [
      "iteration: 589 of max_iter: 2000\n"
     ]
    },
    {
     "name": "stderr",
     "output_type": "stream",
     "text": [
      "[Parallel(n_jobs=4)]: Done   2 out of   4 | elapsed:    0.4s remaining:    0.4s\n",
      "[Parallel(n_jobs=4)]: Done   4 out of   4 | elapsed:    0.4s remaining:    0.0s\n",
      "[Parallel(n_jobs=4)]: Done   4 out of   4 | elapsed:    0.4s finished\n",
      "[Parallel(n_jobs=4)]: Using backend LokyBackend with 4 concurrent workers.\n"
     ]
    },
    {
     "name": "stdout",
     "output_type": "stream",
     "text": [
      "iteration: 590 of max_iter: 2000\n"
     ]
    },
    {
     "name": "stderr",
     "output_type": "stream",
     "text": [
      "[Parallel(n_jobs=4)]: Done   2 out of   4 | elapsed:    0.5s remaining:    0.5s\n",
      "[Parallel(n_jobs=4)]: Done   4 out of   4 | elapsed:    0.5s remaining:    0.0s\n",
      "[Parallel(n_jobs=4)]: Done   4 out of   4 | elapsed:    0.5s finished\n",
      "[Parallel(n_jobs=4)]: Using backend LokyBackend with 4 concurrent workers.\n"
     ]
    },
    {
     "name": "stdout",
     "output_type": "stream",
     "text": [
      "iteration: 591 of max_iter: 2000\n"
     ]
    },
    {
     "name": "stderr",
     "output_type": "stream",
     "text": [
      "[Parallel(n_jobs=4)]: Done   2 out of   4 | elapsed:    0.4s remaining:    0.4s\n",
      "[Parallel(n_jobs=4)]: Done   4 out of   4 | elapsed:    0.5s remaining:    0.0s\n",
      "[Parallel(n_jobs=4)]: Done   4 out of   4 | elapsed:    0.5s finished\n",
      "[Parallel(n_jobs=4)]: Using backend LokyBackend with 4 concurrent workers.\n"
     ]
    },
    {
     "name": "stdout",
     "output_type": "stream",
     "text": [
      "iteration: 592 of max_iter: 2000\n"
     ]
    },
    {
     "name": "stderr",
     "output_type": "stream",
     "text": [
      "[Parallel(n_jobs=4)]: Done   2 out of   4 | elapsed:    0.4s remaining:    0.4s\n",
      "[Parallel(n_jobs=4)]: Done   4 out of   4 | elapsed:    0.4s remaining:    0.0s\n",
      "[Parallel(n_jobs=4)]: Done   4 out of   4 | elapsed:    0.4s finished\n",
      "[Parallel(n_jobs=4)]: Using backend LokyBackend with 4 concurrent workers.\n"
     ]
    },
    {
     "name": "stdout",
     "output_type": "stream",
     "text": [
      "iteration: 593 of max_iter: 2000\n"
     ]
    },
    {
     "name": "stderr",
     "output_type": "stream",
     "text": [
      "[Parallel(n_jobs=4)]: Done   2 out of   4 | elapsed:    0.5s remaining:    0.5s\n",
      "[Parallel(n_jobs=4)]: Done   4 out of   4 | elapsed:    0.5s remaining:    0.0s\n",
      "[Parallel(n_jobs=4)]: Done   4 out of   4 | elapsed:    0.5s finished\n",
      "[Parallel(n_jobs=4)]: Using backend LokyBackend with 4 concurrent workers.\n"
     ]
    },
    {
     "name": "stdout",
     "output_type": "stream",
     "text": [
      "iteration: 594 of max_iter: 2000\n"
     ]
    },
    {
     "name": "stderr",
     "output_type": "stream",
     "text": [
      "[Parallel(n_jobs=4)]: Done   2 out of   4 | elapsed:    0.4s remaining:    0.4s\n",
      "[Parallel(n_jobs=4)]: Done   4 out of   4 | elapsed:    0.5s remaining:    0.0s\n",
      "[Parallel(n_jobs=4)]: Done   4 out of   4 | elapsed:    0.5s finished\n",
      "[Parallel(n_jobs=4)]: Using backend LokyBackend with 4 concurrent workers.\n"
     ]
    },
    {
     "name": "stdout",
     "output_type": "stream",
     "text": [
      "iteration: 595 of max_iter: 2000\n"
     ]
    },
    {
     "name": "stderr",
     "output_type": "stream",
     "text": [
      "[Parallel(n_jobs=4)]: Done   2 out of   4 | elapsed:    0.4s remaining:    0.4s\n",
      "[Parallel(n_jobs=4)]: Done   4 out of   4 | elapsed:    0.5s remaining:    0.0s\n",
      "[Parallel(n_jobs=4)]: Done   4 out of   4 | elapsed:    0.5s finished\n",
      "[Parallel(n_jobs=4)]: Using backend LokyBackend with 4 concurrent workers.\n"
     ]
    },
    {
     "name": "stdout",
     "output_type": "stream",
     "text": [
      "iteration: 596 of max_iter: 2000\n"
     ]
    },
    {
     "name": "stderr",
     "output_type": "stream",
     "text": [
      "[Parallel(n_jobs=4)]: Done   2 out of   4 | elapsed:    0.4s remaining:    0.4s\n",
      "[Parallel(n_jobs=4)]: Done   4 out of   4 | elapsed:    0.5s remaining:    0.0s\n",
      "[Parallel(n_jobs=4)]: Done   4 out of   4 | elapsed:    0.5s finished\n",
      "[Parallel(n_jobs=4)]: Using backend LokyBackend with 4 concurrent workers.\n"
     ]
    },
    {
     "name": "stdout",
     "output_type": "stream",
     "text": [
      "iteration: 597 of max_iter: 2000\n"
     ]
    },
    {
     "name": "stderr",
     "output_type": "stream",
     "text": [
      "[Parallel(n_jobs=4)]: Done   2 out of   4 | elapsed:    0.5s remaining:    0.5s\n",
      "[Parallel(n_jobs=4)]: Done   4 out of   4 | elapsed:    0.5s remaining:    0.0s\n",
      "[Parallel(n_jobs=4)]: Done   4 out of   4 | elapsed:    0.5s finished\n",
      "[Parallel(n_jobs=4)]: Using backend LokyBackend with 4 concurrent workers.\n"
     ]
    },
    {
     "name": "stdout",
     "output_type": "stream",
     "text": [
      "iteration: 598 of max_iter: 2000\n"
     ]
    },
    {
     "name": "stderr",
     "output_type": "stream",
     "text": [
      "[Parallel(n_jobs=4)]: Done   2 out of   4 | elapsed:    0.5s remaining:    0.5s\n",
      "[Parallel(n_jobs=4)]: Done   4 out of   4 | elapsed:    0.5s remaining:    0.0s\n",
      "[Parallel(n_jobs=4)]: Done   4 out of   4 | elapsed:    0.5s finished\n",
      "[Parallel(n_jobs=4)]: Using backend LokyBackend with 4 concurrent workers.\n"
     ]
    },
    {
     "name": "stdout",
     "output_type": "stream",
     "text": [
      "iteration: 599 of max_iter: 2000\n"
     ]
    },
    {
     "name": "stderr",
     "output_type": "stream",
     "text": [
      "[Parallel(n_jobs=4)]: Done   2 out of   4 | elapsed:    0.5s remaining:    0.5s\n",
      "[Parallel(n_jobs=4)]: Done   4 out of   4 | elapsed:    0.5s remaining:    0.0s\n",
      "[Parallel(n_jobs=4)]: Done   4 out of   4 | elapsed:    0.5s finished\n",
      "[Parallel(n_jobs=4)]: Using backend LokyBackend with 4 concurrent workers.\n"
     ]
    },
    {
     "name": "stdout",
     "output_type": "stream",
     "text": [
      "iteration: 600 of max_iter: 2000\n"
     ]
    },
    {
     "name": "stderr",
     "output_type": "stream",
     "text": [
      "[Parallel(n_jobs=4)]: Done   2 out of   4 | elapsed:    0.8s remaining:    0.8s\n",
      "[Parallel(n_jobs=4)]: Done   4 out of   4 | elapsed:    0.9s remaining:    0.0s\n",
      "[Parallel(n_jobs=4)]: Done   4 out of   4 | elapsed:    0.9s finished\n",
      "[Parallel(n_jobs=4)]: Using backend LokyBackend with 4 concurrent workers.\n"
     ]
    },
    {
     "name": "stdout",
     "output_type": "stream",
     "text": [
      "iteration: 601 of max_iter: 2000\n"
     ]
    },
    {
     "name": "stderr",
     "output_type": "stream",
     "text": [
      "[Parallel(n_jobs=4)]: Done   2 out of   4 | elapsed:    0.5s remaining:    0.5s\n",
      "[Parallel(n_jobs=4)]: Done   4 out of   4 | elapsed:    0.6s remaining:    0.0s\n",
      "[Parallel(n_jobs=4)]: Done   4 out of   4 | elapsed:    0.6s finished\n",
      "[Parallel(n_jobs=4)]: Using backend LokyBackend with 4 concurrent workers.\n"
     ]
    },
    {
     "name": "stdout",
     "output_type": "stream",
     "text": [
      "iteration: 602 of max_iter: 2000\n"
     ]
    },
    {
     "name": "stderr",
     "output_type": "stream",
     "text": [
      "[Parallel(n_jobs=4)]: Done   2 out of   4 | elapsed:    0.5s remaining:    0.5s\n",
      "[Parallel(n_jobs=4)]: Done   4 out of   4 | elapsed:    0.5s remaining:    0.0s\n",
      "[Parallel(n_jobs=4)]: Done   4 out of   4 | elapsed:    0.5s finished\n",
      "[Parallel(n_jobs=4)]: Using backend LokyBackend with 4 concurrent workers.\n"
     ]
    },
    {
     "name": "stdout",
     "output_type": "stream",
     "text": [
      "iteration: 603 of max_iter: 2000\n"
     ]
    },
    {
     "name": "stderr",
     "output_type": "stream",
     "text": [
      "[Parallel(n_jobs=4)]: Done   2 out of   4 | elapsed:    0.5s remaining:    0.5s\n",
      "[Parallel(n_jobs=4)]: Done   4 out of   4 | elapsed:    0.6s remaining:    0.0s\n",
      "[Parallel(n_jobs=4)]: Done   4 out of   4 | elapsed:    0.6s finished\n",
      "[Parallel(n_jobs=4)]: Using backend LokyBackend with 4 concurrent workers.\n"
     ]
    },
    {
     "name": "stdout",
     "output_type": "stream",
     "text": [
      "iteration: 604 of max_iter: 2000\n"
     ]
    },
    {
     "name": "stderr",
     "output_type": "stream",
     "text": [
      "[Parallel(n_jobs=4)]: Done   2 out of   4 | elapsed:    0.6s remaining:    0.6s\n",
      "[Parallel(n_jobs=4)]: Done   4 out of   4 | elapsed:    0.6s remaining:    0.0s\n",
      "[Parallel(n_jobs=4)]: Done   4 out of   4 | elapsed:    0.6s finished\n",
      "[Parallel(n_jobs=4)]: Using backend LokyBackend with 4 concurrent workers.\n"
     ]
    },
    {
     "name": "stdout",
     "output_type": "stream",
     "text": [
      "iteration: 605 of max_iter: 2000\n"
     ]
    },
    {
     "name": "stderr",
     "output_type": "stream",
     "text": [
      "[Parallel(n_jobs=4)]: Done   2 out of   4 | elapsed:    0.5s remaining:    0.5s\n",
      "[Parallel(n_jobs=4)]: Done   4 out of   4 | elapsed:    0.5s remaining:    0.0s\n",
      "[Parallel(n_jobs=4)]: Done   4 out of   4 | elapsed:    0.5s finished\n",
      "[Parallel(n_jobs=4)]: Using backend LokyBackend with 4 concurrent workers.\n"
     ]
    },
    {
     "name": "stdout",
     "output_type": "stream",
     "text": [
      "iteration: 606 of max_iter: 2000\n"
     ]
    },
    {
     "name": "stderr",
     "output_type": "stream",
     "text": [
      "[Parallel(n_jobs=4)]: Done   2 out of   4 | elapsed:    0.5s remaining:    0.5s\n",
      "[Parallel(n_jobs=4)]: Done   4 out of   4 | elapsed:    0.5s remaining:    0.0s\n",
      "[Parallel(n_jobs=4)]: Done   4 out of   4 | elapsed:    0.5s finished\n",
      "[Parallel(n_jobs=4)]: Using backend LokyBackend with 4 concurrent workers.\n"
     ]
    },
    {
     "name": "stdout",
     "output_type": "stream",
     "text": [
      "iteration: 607 of max_iter: 2000\n"
     ]
    },
    {
     "name": "stderr",
     "output_type": "stream",
     "text": [
      "[Parallel(n_jobs=4)]: Done   2 out of   4 | elapsed:    0.5s remaining:    0.5s\n",
      "[Parallel(n_jobs=4)]: Done   4 out of   4 | elapsed:    0.6s remaining:    0.0s\n",
      "[Parallel(n_jobs=4)]: Done   4 out of   4 | elapsed:    0.6s finished\n",
      "[Parallel(n_jobs=4)]: Using backend LokyBackend with 4 concurrent workers.\n"
     ]
    },
    {
     "name": "stdout",
     "output_type": "stream",
     "text": [
      "iteration: 608 of max_iter: 2000\n"
     ]
    },
    {
     "name": "stderr",
     "output_type": "stream",
     "text": [
      "[Parallel(n_jobs=4)]: Done   2 out of   4 | elapsed:    0.6s remaining:    0.6s\n",
      "[Parallel(n_jobs=4)]: Done   4 out of   4 | elapsed:    0.6s remaining:    0.0s\n",
      "[Parallel(n_jobs=4)]: Done   4 out of   4 | elapsed:    0.6s finished\n",
      "[Parallel(n_jobs=4)]: Using backend LokyBackend with 4 concurrent workers.\n"
     ]
    },
    {
     "name": "stdout",
     "output_type": "stream",
     "text": [
      "iteration: 609 of max_iter: 2000\n"
     ]
    },
    {
     "name": "stderr",
     "output_type": "stream",
     "text": [
      "[Parallel(n_jobs=4)]: Done   2 out of   4 | elapsed:    0.5s remaining:    0.5s\n",
      "[Parallel(n_jobs=4)]: Done   4 out of   4 | elapsed:    0.5s remaining:    0.0s\n",
      "[Parallel(n_jobs=4)]: Done   4 out of   4 | elapsed:    0.5s finished\n",
      "[Parallel(n_jobs=4)]: Using backend LokyBackend with 4 concurrent workers.\n"
     ]
    },
    {
     "name": "stdout",
     "output_type": "stream",
     "text": [
      "iteration: 610 of max_iter: 2000\n"
     ]
    },
    {
     "name": "stderr",
     "output_type": "stream",
     "text": [
      "[Parallel(n_jobs=4)]: Done   2 out of   4 | elapsed:    0.6s remaining:    0.6s\n",
      "[Parallel(n_jobs=4)]: Done   4 out of   4 | elapsed:    0.7s remaining:    0.0s\n",
      "[Parallel(n_jobs=4)]: Done   4 out of   4 | elapsed:    0.7s finished\n",
      "[Parallel(n_jobs=4)]: Using backend LokyBackend with 4 concurrent workers.\n"
     ]
    },
    {
     "name": "stdout",
     "output_type": "stream",
     "text": [
      "iteration: 611 of max_iter: 2000\n"
     ]
    },
    {
     "name": "stderr",
     "output_type": "stream",
     "text": [
      "[Parallel(n_jobs=4)]: Done   2 out of   4 | elapsed:    0.5s remaining:    0.5s\n",
      "[Parallel(n_jobs=4)]: Done   4 out of   4 | elapsed:    0.5s remaining:    0.0s\n",
      "[Parallel(n_jobs=4)]: Done   4 out of   4 | elapsed:    0.5s finished\n",
      "[Parallel(n_jobs=4)]: Using backend LokyBackend with 4 concurrent workers.\n"
     ]
    },
    {
     "name": "stdout",
     "output_type": "stream",
     "text": [
      "iteration: 612 of max_iter: 2000\n"
     ]
    },
    {
     "name": "stderr",
     "output_type": "stream",
     "text": [
      "[Parallel(n_jobs=4)]: Done   2 out of   4 | elapsed:    0.5s remaining:    0.5s\n",
      "[Parallel(n_jobs=4)]: Done   4 out of   4 | elapsed:    0.5s remaining:    0.0s\n",
      "[Parallel(n_jobs=4)]: Done   4 out of   4 | elapsed:    0.5s finished\n",
      "[Parallel(n_jobs=4)]: Using backend LokyBackend with 4 concurrent workers.\n"
     ]
    },
    {
     "name": "stdout",
     "output_type": "stream",
     "text": [
      "iteration: 613 of max_iter: 2000\n"
     ]
    },
    {
     "name": "stderr",
     "output_type": "stream",
     "text": [
      "[Parallel(n_jobs=4)]: Done   2 out of   4 | elapsed:    0.5s remaining:    0.5s\n",
      "[Parallel(n_jobs=4)]: Done   4 out of   4 | elapsed:    0.5s remaining:    0.0s\n",
      "[Parallel(n_jobs=4)]: Done   4 out of   4 | elapsed:    0.5s finished\n",
      "[Parallel(n_jobs=4)]: Using backend LokyBackend with 4 concurrent workers.\n"
     ]
    },
    {
     "name": "stdout",
     "output_type": "stream",
     "text": [
      "iteration: 614 of max_iter: 2000\n"
     ]
    },
    {
     "name": "stderr",
     "output_type": "stream",
     "text": [
      "[Parallel(n_jobs=4)]: Done   2 out of   4 | elapsed:    0.5s remaining:    0.5s\n",
      "[Parallel(n_jobs=4)]: Done   4 out of   4 | elapsed:    0.6s remaining:    0.0s\n",
      "[Parallel(n_jobs=4)]: Done   4 out of   4 | elapsed:    0.6s finished\n",
      "[Parallel(n_jobs=4)]: Using backend LokyBackend with 4 concurrent workers.\n"
     ]
    },
    {
     "name": "stdout",
     "output_type": "stream",
     "text": [
      "iteration: 615 of max_iter: 2000\n"
     ]
    },
    {
     "name": "stderr",
     "output_type": "stream",
     "text": [
      "[Parallel(n_jobs=4)]: Done   2 out of   4 | elapsed:    0.6s remaining:    0.6s\n",
      "[Parallel(n_jobs=4)]: Done   4 out of   4 | elapsed:    0.6s remaining:    0.0s\n",
      "[Parallel(n_jobs=4)]: Done   4 out of   4 | elapsed:    0.6s finished\n",
      "[Parallel(n_jobs=4)]: Using backend LokyBackend with 4 concurrent workers.\n"
     ]
    },
    {
     "name": "stdout",
     "output_type": "stream",
     "text": [
      "iteration: 616 of max_iter: 2000\n"
     ]
    },
    {
     "name": "stderr",
     "output_type": "stream",
     "text": [
      "[Parallel(n_jobs=4)]: Done   2 out of   4 | elapsed:    0.5s remaining:    0.5s\n",
      "[Parallel(n_jobs=4)]: Done   4 out of   4 | elapsed:    0.6s remaining:    0.0s\n",
      "[Parallel(n_jobs=4)]: Done   4 out of   4 | elapsed:    0.6s finished\n",
      "[Parallel(n_jobs=4)]: Using backend LokyBackend with 4 concurrent workers.\n"
     ]
    },
    {
     "name": "stdout",
     "output_type": "stream",
     "text": [
      "iteration: 617 of max_iter: 2000\n"
     ]
    },
    {
     "name": "stderr",
     "output_type": "stream",
     "text": [
      "[Parallel(n_jobs=4)]: Done   2 out of   4 | elapsed:    0.5s remaining:    0.5s\n",
      "[Parallel(n_jobs=4)]: Done   4 out of   4 | elapsed:    0.5s remaining:    0.0s\n",
      "[Parallel(n_jobs=4)]: Done   4 out of   4 | elapsed:    0.5s finished\n",
      "[Parallel(n_jobs=4)]: Using backend LokyBackend with 4 concurrent workers.\n"
     ]
    },
    {
     "name": "stdout",
     "output_type": "stream",
     "text": [
      "iteration: 618 of max_iter: 2000\n"
     ]
    },
    {
     "name": "stderr",
     "output_type": "stream",
     "text": [
      "[Parallel(n_jobs=4)]: Done   2 out of   4 | elapsed:    0.5s remaining:    0.5s\n",
      "[Parallel(n_jobs=4)]: Done   4 out of   4 | elapsed:    0.6s remaining:    0.0s\n",
      "[Parallel(n_jobs=4)]: Done   4 out of   4 | elapsed:    0.6s finished\n",
      "[Parallel(n_jobs=4)]: Using backend LokyBackend with 4 concurrent workers.\n"
     ]
    },
    {
     "name": "stdout",
     "output_type": "stream",
     "text": [
      "iteration: 619 of max_iter: 2000\n"
     ]
    },
    {
     "name": "stderr",
     "output_type": "stream",
     "text": [
      "[Parallel(n_jobs=4)]: Done   2 out of   4 | elapsed:    0.5s remaining:    0.5s\n",
      "[Parallel(n_jobs=4)]: Done   4 out of   4 | elapsed:    0.5s remaining:    0.0s\n",
      "[Parallel(n_jobs=4)]: Done   4 out of   4 | elapsed:    0.5s finished\n",
      "[Parallel(n_jobs=4)]: Using backend LokyBackend with 4 concurrent workers.\n"
     ]
    },
    {
     "name": "stdout",
     "output_type": "stream",
     "text": [
      "iteration: 620 of max_iter: 2000\n"
     ]
    },
    {
     "name": "stderr",
     "output_type": "stream",
     "text": [
      "[Parallel(n_jobs=4)]: Done   2 out of   4 | elapsed:    0.5s remaining:    0.5s\n",
      "[Parallel(n_jobs=4)]: Done   4 out of   4 | elapsed:    0.5s remaining:    0.0s\n",
      "[Parallel(n_jobs=4)]: Done   4 out of   4 | elapsed:    0.5s finished\n",
      "[Parallel(n_jobs=4)]: Using backend LokyBackend with 4 concurrent workers.\n"
     ]
    },
    {
     "name": "stdout",
     "output_type": "stream",
     "text": [
      "iteration: 621 of max_iter: 2000\n"
     ]
    },
    {
     "name": "stderr",
     "output_type": "stream",
     "text": [
      "[Parallel(n_jobs=4)]: Done   2 out of   4 | elapsed:    0.5s remaining:    0.5s\n",
      "[Parallel(n_jobs=4)]: Done   4 out of   4 | elapsed:    0.5s remaining:    0.0s\n",
      "[Parallel(n_jobs=4)]: Done   4 out of   4 | elapsed:    0.5s finished\n",
      "[Parallel(n_jobs=4)]: Using backend LokyBackend with 4 concurrent workers.\n"
     ]
    },
    {
     "name": "stdout",
     "output_type": "stream",
     "text": [
      "iteration: 622 of max_iter: 2000\n"
     ]
    },
    {
     "name": "stderr",
     "output_type": "stream",
     "text": [
      "[Parallel(n_jobs=4)]: Done   2 out of   4 | elapsed:    0.5s remaining:    0.5s\n",
      "[Parallel(n_jobs=4)]: Done   4 out of   4 | elapsed:    0.5s remaining:    0.0s\n",
      "[Parallel(n_jobs=4)]: Done   4 out of   4 | elapsed:    0.5s finished\n",
      "[Parallel(n_jobs=4)]: Using backend LokyBackend with 4 concurrent workers.\n"
     ]
    },
    {
     "name": "stdout",
     "output_type": "stream",
     "text": [
      "iteration: 623 of max_iter: 2000\n"
     ]
    },
    {
     "name": "stderr",
     "output_type": "stream",
     "text": [
      "[Parallel(n_jobs=4)]: Done   2 out of   4 | elapsed:    0.5s remaining:    0.5s\n",
      "[Parallel(n_jobs=4)]: Done   4 out of   4 | elapsed:    0.5s remaining:    0.0s\n",
      "[Parallel(n_jobs=4)]: Done   4 out of   4 | elapsed:    0.5s finished\n",
      "[Parallel(n_jobs=4)]: Using backend LokyBackend with 4 concurrent workers.\n"
     ]
    },
    {
     "name": "stdout",
     "output_type": "stream",
     "text": [
      "iteration: 624 of max_iter: 2000\n"
     ]
    },
    {
     "name": "stderr",
     "output_type": "stream",
     "text": [
      "[Parallel(n_jobs=4)]: Done   2 out of   4 | elapsed:    0.5s remaining:    0.5s\n",
      "[Parallel(n_jobs=4)]: Done   4 out of   4 | elapsed:    0.5s remaining:    0.0s\n",
      "[Parallel(n_jobs=4)]: Done   4 out of   4 | elapsed:    0.5s finished\n",
      "[Parallel(n_jobs=4)]: Using backend LokyBackend with 4 concurrent workers.\n"
     ]
    },
    {
     "name": "stdout",
     "output_type": "stream",
     "text": [
      "iteration: 625 of max_iter: 2000\n"
     ]
    },
    {
     "name": "stderr",
     "output_type": "stream",
     "text": [
      "[Parallel(n_jobs=4)]: Done   2 out of   4 | elapsed:    0.4s remaining:    0.4s\n",
      "[Parallel(n_jobs=4)]: Done   4 out of   4 | elapsed:    0.4s remaining:    0.0s\n",
      "[Parallel(n_jobs=4)]: Done   4 out of   4 | elapsed:    0.4s finished\n",
      "[Parallel(n_jobs=4)]: Using backend LokyBackend with 4 concurrent workers.\n"
     ]
    },
    {
     "name": "stdout",
     "output_type": "stream",
     "text": [
      "iteration: 626 of max_iter: 2000\n"
     ]
    },
    {
     "name": "stderr",
     "output_type": "stream",
     "text": [
      "[Parallel(n_jobs=4)]: Done   2 out of   4 | elapsed:    0.5s remaining:    0.5s\n",
      "[Parallel(n_jobs=4)]: Done   4 out of   4 | elapsed:    0.5s remaining:    0.0s\n",
      "[Parallel(n_jobs=4)]: Done   4 out of   4 | elapsed:    0.5s finished\n",
      "[Parallel(n_jobs=4)]: Using backend LokyBackend with 4 concurrent workers.\n"
     ]
    },
    {
     "name": "stdout",
     "output_type": "stream",
     "text": [
      "iteration: 627 of max_iter: 2000\n"
     ]
    },
    {
     "name": "stderr",
     "output_type": "stream",
     "text": [
      "[Parallel(n_jobs=4)]: Done   2 out of   4 | elapsed:    0.4s remaining:    0.4s\n",
      "[Parallel(n_jobs=4)]: Done   4 out of   4 | elapsed:    0.4s remaining:    0.0s\n",
      "[Parallel(n_jobs=4)]: Done   4 out of   4 | elapsed:    0.4s finished\n",
      "[Parallel(n_jobs=4)]: Using backend LokyBackend with 4 concurrent workers.\n"
     ]
    },
    {
     "name": "stdout",
     "output_type": "stream",
     "text": [
      "iteration: 628 of max_iter: 2000\n"
     ]
    },
    {
     "name": "stderr",
     "output_type": "stream",
     "text": [
      "[Parallel(n_jobs=4)]: Done   2 out of   4 | elapsed:    0.6s remaining:    0.6s\n",
      "[Parallel(n_jobs=4)]: Done   4 out of   4 | elapsed:    0.6s remaining:    0.0s\n",
      "[Parallel(n_jobs=4)]: Done   4 out of   4 | elapsed:    0.6s finished\n",
      "[Parallel(n_jobs=4)]: Using backend LokyBackend with 4 concurrent workers.\n"
     ]
    },
    {
     "name": "stdout",
     "output_type": "stream",
     "text": [
      "iteration: 629 of max_iter: 2000\n"
     ]
    },
    {
     "name": "stderr",
     "output_type": "stream",
     "text": [
      "[Parallel(n_jobs=4)]: Done   2 out of   4 | elapsed:    0.5s remaining:    0.5s\n",
      "[Parallel(n_jobs=4)]: Done   4 out of   4 | elapsed:    0.5s remaining:    0.0s\n",
      "[Parallel(n_jobs=4)]: Done   4 out of   4 | elapsed:    0.5s finished\n",
      "[Parallel(n_jobs=4)]: Using backend LokyBackend with 4 concurrent workers.\n"
     ]
    },
    {
     "name": "stdout",
     "output_type": "stream",
     "text": [
      "iteration: 630 of max_iter: 2000\n"
     ]
    },
    {
     "name": "stderr",
     "output_type": "stream",
     "text": [
      "[Parallel(n_jobs=4)]: Done   2 out of   4 | elapsed:    0.5s remaining:    0.5s\n",
      "[Parallel(n_jobs=4)]: Done   4 out of   4 | elapsed:    0.5s remaining:    0.0s\n",
      "[Parallel(n_jobs=4)]: Done   4 out of   4 | elapsed:    0.5s finished\n",
      "[Parallel(n_jobs=4)]: Using backend LokyBackend with 4 concurrent workers.\n"
     ]
    },
    {
     "name": "stdout",
     "output_type": "stream",
     "text": [
      "iteration: 631 of max_iter: 2000\n"
     ]
    },
    {
     "name": "stderr",
     "output_type": "stream",
     "text": [
      "[Parallel(n_jobs=4)]: Done   2 out of   4 | elapsed:    0.5s remaining:    0.5s\n",
      "[Parallel(n_jobs=4)]: Done   4 out of   4 | elapsed:    0.6s remaining:    0.0s\n",
      "[Parallel(n_jobs=4)]: Done   4 out of   4 | elapsed:    0.6s finished\n",
      "[Parallel(n_jobs=4)]: Using backend LokyBackend with 4 concurrent workers.\n"
     ]
    },
    {
     "name": "stdout",
     "output_type": "stream",
     "text": [
      "iteration: 632 of max_iter: 2000\n"
     ]
    },
    {
     "name": "stderr",
     "output_type": "stream",
     "text": [
      "[Parallel(n_jobs=4)]: Done   2 out of   4 | elapsed:    0.5s remaining:    0.5s\n",
      "[Parallel(n_jobs=4)]: Done   4 out of   4 | elapsed:    0.5s remaining:    0.0s\n",
      "[Parallel(n_jobs=4)]: Done   4 out of   4 | elapsed:    0.5s finished\n",
      "[Parallel(n_jobs=4)]: Using backend LokyBackend with 4 concurrent workers.\n"
     ]
    },
    {
     "name": "stdout",
     "output_type": "stream",
     "text": [
      "iteration: 633 of max_iter: 2000\n"
     ]
    },
    {
     "name": "stderr",
     "output_type": "stream",
     "text": [
      "[Parallel(n_jobs=4)]: Done   2 out of   4 | elapsed:    0.5s remaining:    0.5s\n",
      "[Parallel(n_jobs=4)]: Done   4 out of   4 | elapsed:    0.5s remaining:    0.0s\n",
      "[Parallel(n_jobs=4)]: Done   4 out of   4 | elapsed:    0.5s finished\n",
      "[Parallel(n_jobs=4)]: Using backend LokyBackend with 4 concurrent workers.\n"
     ]
    },
    {
     "name": "stdout",
     "output_type": "stream",
     "text": [
      "iteration: 634 of max_iter: 2000\n"
     ]
    },
    {
     "name": "stderr",
     "output_type": "stream",
     "text": [
      "[Parallel(n_jobs=4)]: Done   2 out of   4 | elapsed:    0.5s remaining:    0.5s\n",
      "[Parallel(n_jobs=4)]: Done   4 out of   4 | elapsed:    0.5s remaining:    0.0s\n",
      "[Parallel(n_jobs=4)]: Done   4 out of   4 | elapsed:    0.5s finished\n",
      "[Parallel(n_jobs=4)]: Using backend LokyBackend with 4 concurrent workers.\n"
     ]
    },
    {
     "name": "stdout",
     "output_type": "stream",
     "text": [
      "iteration: 635 of max_iter: 2000\n"
     ]
    },
    {
     "name": "stderr",
     "output_type": "stream",
     "text": [
      "[Parallel(n_jobs=4)]: Done   2 out of   4 | elapsed:    0.4s remaining:    0.4s\n",
      "[Parallel(n_jobs=4)]: Done   4 out of   4 | elapsed:    0.5s remaining:    0.0s\n",
      "[Parallel(n_jobs=4)]: Done   4 out of   4 | elapsed:    0.5s finished\n",
      "[Parallel(n_jobs=4)]: Using backend LokyBackend with 4 concurrent workers.\n"
     ]
    },
    {
     "name": "stdout",
     "output_type": "stream",
     "text": [
      "iteration: 636 of max_iter: 2000\n"
     ]
    },
    {
     "name": "stderr",
     "output_type": "stream",
     "text": [
      "[Parallel(n_jobs=4)]: Done   2 out of   4 | elapsed:    0.5s remaining:    0.5s\n",
      "[Parallel(n_jobs=4)]: Done   4 out of   4 | elapsed:    0.5s remaining:    0.0s\n",
      "[Parallel(n_jobs=4)]: Done   4 out of   4 | elapsed:    0.5s finished\n",
      "[Parallel(n_jobs=4)]: Using backend LokyBackend with 4 concurrent workers.\n"
     ]
    },
    {
     "name": "stdout",
     "output_type": "stream",
     "text": [
      "iteration: 637 of max_iter: 2000\n"
     ]
    },
    {
     "name": "stderr",
     "output_type": "stream",
     "text": [
      "[Parallel(n_jobs=4)]: Done   2 out of   4 | elapsed:    0.5s remaining:    0.5s\n",
      "[Parallel(n_jobs=4)]: Done   4 out of   4 | elapsed:    0.5s remaining:    0.0s\n",
      "[Parallel(n_jobs=4)]: Done   4 out of   4 | elapsed:    0.5s finished\n",
      "[Parallel(n_jobs=4)]: Using backend LokyBackend with 4 concurrent workers.\n"
     ]
    },
    {
     "name": "stdout",
     "output_type": "stream",
     "text": [
      "iteration: 638 of max_iter: 2000\n"
     ]
    },
    {
     "name": "stderr",
     "output_type": "stream",
     "text": [
      "[Parallel(n_jobs=4)]: Done   2 out of   4 | elapsed:    0.5s remaining:    0.5s\n",
      "[Parallel(n_jobs=4)]: Done   4 out of   4 | elapsed:    0.5s remaining:    0.0s\n",
      "[Parallel(n_jobs=4)]: Done   4 out of   4 | elapsed:    0.5s finished\n",
      "[Parallel(n_jobs=4)]: Using backend LokyBackend with 4 concurrent workers.\n"
     ]
    },
    {
     "name": "stdout",
     "output_type": "stream",
     "text": [
      "iteration: 639 of max_iter: 2000\n"
     ]
    },
    {
     "name": "stderr",
     "output_type": "stream",
     "text": [
      "[Parallel(n_jobs=4)]: Done   2 out of   4 | elapsed:    0.5s remaining:    0.5s\n",
      "[Parallel(n_jobs=4)]: Done   4 out of   4 | elapsed:    0.6s remaining:    0.0s\n",
      "[Parallel(n_jobs=4)]: Done   4 out of   4 | elapsed:    0.6s finished\n",
      "[Parallel(n_jobs=4)]: Using backend LokyBackend with 4 concurrent workers.\n"
     ]
    },
    {
     "name": "stdout",
     "output_type": "stream",
     "text": [
      "iteration: 640 of max_iter: 2000\n"
     ]
    },
    {
     "name": "stderr",
     "output_type": "stream",
     "text": [
      "[Parallel(n_jobs=4)]: Done   2 out of   4 | elapsed:    0.6s remaining:    0.6s\n",
      "[Parallel(n_jobs=4)]: Done   4 out of   4 | elapsed:    0.6s remaining:    0.0s\n",
      "[Parallel(n_jobs=4)]: Done   4 out of   4 | elapsed:    0.6s finished\n",
      "[Parallel(n_jobs=4)]: Using backend LokyBackend with 4 concurrent workers.\n"
     ]
    },
    {
     "name": "stdout",
     "output_type": "stream",
     "text": [
      "iteration: 641 of max_iter: 2000\n"
     ]
    },
    {
     "name": "stderr",
     "output_type": "stream",
     "text": [
      "[Parallel(n_jobs=4)]: Done   2 out of   4 | elapsed:    0.5s remaining:    0.5s\n",
      "[Parallel(n_jobs=4)]: Done   4 out of   4 | elapsed:    0.6s remaining:    0.0s\n",
      "[Parallel(n_jobs=4)]: Done   4 out of   4 | elapsed:    0.6s finished\n",
      "[Parallel(n_jobs=4)]: Using backend LokyBackend with 4 concurrent workers.\n"
     ]
    },
    {
     "name": "stdout",
     "output_type": "stream",
     "text": [
      "iteration: 642 of max_iter: 2000\n"
     ]
    },
    {
     "name": "stderr",
     "output_type": "stream",
     "text": [
      "[Parallel(n_jobs=4)]: Done   2 out of   4 | elapsed:    0.5s remaining:    0.5s\n",
      "[Parallel(n_jobs=4)]: Done   4 out of   4 | elapsed:    0.5s remaining:    0.0s\n",
      "[Parallel(n_jobs=4)]: Done   4 out of   4 | elapsed:    0.5s finished\n",
      "[Parallel(n_jobs=4)]: Using backend LokyBackend with 4 concurrent workers.\n"
     ]
    },
    {
     "name": "stdout",
     "output_type": "stream",
     "text": [
      "iteration: 643 of max_iter: 2000\n"
     ]
    },
    {
     "name": "stderr",
     "output_type": "stream",
     "text": [
      "[Parallel(n_jobs=4)]: Done   2 out of   4 | elapsed:    0.6s remaining:    0.6s\n",
      "[Parallel(n_jobs=4)]: Done   4 out of   4 | elapsed:    0.6s remaining:    0.0s\n",
      "[Parallel(n_jobs=4)]: Done   4 out of   4 | elapsed:    0.6s finished\n",
      "[Parallel(n_jobs=4)]: Using backend LokyBackend with 4 concurrent workers.\n"
     ]
    },
    {
     "name": "stdout",
     "output_type": "stream",
     "text": [
      "iteration: 644 of max_iter: 2000\n"
     ]
    },
    {
     "name": "stderr",
     "output_type": "stream",
     "text": [
      "[Parallel(n_jobs=4)]: Done   2 out of   4 | elapsed:    0.8s remaining:    0.8s\n",
      "[Parallel(n_jobs=4)]: Done   4 out of   4 | elapsed:    0.9s remaining:    0.0s\n",
      "[Parallel(n_jobs=4)]: Done   4 out of   4 | elapsed:    0.9s finished\n",
      "[Parallel(n_jobs=4)]: Using backend LokyBackend with 4 concurrent workers.\n"
     ]
    },
    {
     "name": "stdout",
     "output_type": "stream",
     "text": [
      "iteration: 645 of max_iter: 2000\n"
     ]
    },
    {
     "name": "stderr",
     "output_type": "stream",
     "text": [
      "[Parallel(n_jobs=4)]: Done   2 out of   4 | elapsed:    0.6s remaining:    0.6s\n",
      "[Parallel(n_jobs=4)]: Done   4 out of   4 | elapsed:    0.6s remaining:    0.0s\n",
      "[Parallel(n_jobs=4)]: Done   4 out of   4 | elapsed:    0.6s finished\n",
      "[Parallel(n_jobs=4)]: Using backend LokyBackend with 4 concurrent workers.\n"
     ]
    },
    {
     "name": "stdout",
     "output_type": "stream",
     "text": [
      "iteration: 646 of max_iter: 2000\n"
     ]
    },
    {
     "name": "stderr",
     "output_type": "stream",
     "text": [
      "[Parallel(n_jobs=4)]: Done   2 out of   4 | elapsed:    0.8s remaining:    0.8s\n",
      "[Parallel(n_jobs=4)]: Done   4 out of   4 | elapsed:    0.8s remaining:    0.0s\n",
      "[Parallel(n_jobs=4)]: Done   4 out of   4 | elapsed:    0.8s finished\n",
      "[Parallel(n_jobs=4)]: Using backend LokyBackend with 4 concurrent workers.\n"
     ]
    },
    {
     "name": "stdout",
     "output_type": "stream",
     "text": [
      "iteration: 647 of max_iter: 2000\n"
     ]
    },
    {
     "name": "stderr",
     "output_type": "stream",
     "text": [
      "[Parallel(n_jobs=4)]: Done   2 out of   4 | elapsed:    0.8s remaining:    0.8s\n",
      "[Parallel(n_jobs=4)]: Done   4 out of   4 | elapsed:    0.8s remaining:    0.0s\n",
      "[Parallel(n_jobs=4)]: Done   4 out of   4 | elapsed:    0.8s finished\n",
      "[Parallel(n_jobs=4)]: Using backend LokyBackend with 4 concurrent workers.\n"
     ]
    },
    {
     "name": "stdout",
     "output_type": "stream",
     "text": [
      "iteration: 648 of max_iter: 2000\n"
     ]
    },
    {
     "name": "stderr",
     "output_type": "stream",
     "text": [
      "[Parallel(n_jobs=4)]: Done   2 out of   4 | elapsed:    0.6s remaining:    0.6s\n",
      "[Parallel(n_jobs=4)]: Done   4 out of   4 | elapsed:    0.6s remaining:    0.0s\n",
      "[Parallel(n_jobs=4)]: Done   4 out of   4 | elapsed:    0.6s finished\n",
      "[Parallel(n_jobs=4)]: Using backend LokyBackend with 4 concurrent workers.\n"
     ]
    },
    {
     "name": "stdout",
     "output_type": "stream",
     "text": [
      "iteration: 649 of max_iter: 2000\n"
     ]
    },
    {
     "name": "stderr",
     "output_type": "stream",
     "text": [
      "[Parallel(n_jobs=4)]: Done   2 out of   4 | elapsed:    0.5s remaining:    0.5s\n",
      "[Parallel(n_jobs=4)]: Done   4 out of   4 | elapsed:    0.5s remaining:    0.0s\n",
      "[Parallel(n_jobs=4)]: Done   4 out of   4 | elapsed:    0.5s finished\n",
      "[Parallel(n_jobs=4)]: Using backend LokyBackend with 4 concurrent workers.\n"
     ]
    },
    {
     "name": "stdout",
     "output_type": "stream",
     "text": [
      "iteration: 650 of max_iter: 2000\n"
     ]
    },
    {
     "name": "stderr",
     "output_type": "stream",
     "text": [
      "[Parallel(n_jobs=4)]: Done   2 out of   4 | elapsed:    0.6s remaining:    0.6s\n",
      "[Parallel(n_jobs=4)]: Done   4 out of   4 | elapsed:    0.7s remaining:    0.0s\n",
      "[Parallel(n_jobs=4)]: Done   4 out of   4 | elapsed:    0.7s finished\n",
      "[Parallel(n_jobs=4)]: Using backend LokyBackend with 4 concurrent workers.\n"
     ]
    },
    {
     "name": "stdout",
     "output_type": "stream",
     "text": [
      "iteration: 651 of max_iter: 2000\n"
     ]
    },
    {
     "name": "stderr",
     "output_type": "stream",
     "text": [
      "[Parallel(n_jobs=4)]: Done   2 out of   4 | elapsed:    0.8s remaining:    0.8s\n",
      "[Parallel(n_jobs=4)]: Done   4 out of   4 | elapsed:    0.8s remaining:    0.0s\n",
      "[Parallel(n_jobs=4)]: Done   4 out of   4 | elapsed:    0.8s finished\n",
      "[Parallel(n_jobs=4)]: Using backend LokyBackend with 4 concurrent workers.\n"
     ]
    },
    {
     "name": "stdout",
     "output_type": "stream",
     "text": [
      "iteration: 652 of max_iter: 2000\n"
     ]
    },
    {
     "name": "stderr",
     "output_type": "stream",
     "text": [
      "[Parallel(n_jobs=4)]: Done   2 out of   4 | elapsed:    0.6s remaining:    0.6s\n",
      "[Parallel(n_jobs=4)]: Done   4 out of   4 | elapsed:    0.6s remaining:    0.0s\n",
      "[Parallel(n_jobs=4)]: Done   4 out of   4 | elapsed:    0.6s finished\n",
      "[Parallel(n_jobs=4)]: Using backend LokyBackend with 4 concurrent workers.\n"
     ]
    },
    {
     "name": "stdout",
     "output_type": "stream",
     "text": [
      "iteration: 653 of max_iter: 2000\n"
     ]
    },
    {
     "name": "stderr",
     "output_type": "stream",
     "text": [
      "[Parallel(n_jobs=4)]: Done   2 out of   4 | elapsed:    0.5s remaining:    0.5s\n",
      "[Parallel(n_jobs=4)]: Done   4 out of   4 | elapsed:    0.6s remaining:    0.0s\n",
      "[Parallel(n_jobs=4)]: Done   4 out of   4 | elapsed:    0.6s finished\n",
      "[Parallel(n_jobs=4)]: Using backend LokyBackend with 4 concurrent workers.\n"
     ]
    },
    {
     "name": "stdout",
     "output_type": "stream",
     "text": [
      "iteration: 654 of max_iter: 2000\n"
     ]
    },
    {
     "name": "stderr",
     "output_type": "stream",
     "text": [
      "[Parallel(n_jobs=4)]: Done   2 out of   4 | elapsed:    0.5s remaining:    0.5s\n",
      "[Parallel(n_jobs=4)]: Done   4 out of   4 | elapsed:    0.5s remaining:    0.0s\n",
      "[Parallel(n_jobs=4)]: Done   4 out of   4 | elapsed:    0.5s finished\n",
      "[Parallel(n_jobs=4)]: Using backend LokyBackend with 4 concurrent workers.\n"
     ]
    },
    {
     "name": "stdout",
     "output_type": "stream",
     "text": [
      "iteration: 655 of max_iter: 2000\n"
     ]
    },
    {
     "name": "stderr",
     "output_type": "stream",
     "text": [
      "[Parallel(n_jobs=4)]: Done   2 out of   4 | elapsed:    0.6s remaining:    0.6s\n",
      "[Parallel(n_jobs=4)]: Done   4 out of   4 | elapsed:    0.6s remaining:    0.0s\n",
      "[Parallel(n_jobs=4)]: Done   4 out of   4 | elapsed:    0.6s finished\n",
      "[Parallel(n_jobs=4)]: Using backend LokyBackend with 4 concurrent workers.\n"
     ]
    },
    {
     "name": "stdout",
     "output_type": "stream",
     "text": [
      "iteration: 656 of max_iter: 2000\n"
     ]
    },
    {
     "name": "stderr",
     "output_type": "stream",
     "text": [
      "[Parallel(n_jobs=4)]: Done   2 out of   4 | elapsed:    0.5s remaining:    0.5s\n",
      "[Parallel(n_jobs=4)]: Done   4 out of   4 | elapsed:    0.5s remaining:    0.0s\n",
      "[Parallel(n_jobs=4)]: Done   4 out of   4 | elapsed:    0.5s finished\n",
      "[Parallel(n_jobs=4)]: Using backend LokyBackend with 4 concurrent workers.\n"
     ]
    },
    {
     "name": "stdout",
     "output_type": "stream",
     "text": [
      "iteration: 657 of max_iter: 2000\n"
     ]
    },
    {
     "name": "stderr",
     "output_type": "stream",
     "text": [
      "[Parallel(n_jobs=4)]: Done   2 out of   4 | elapsed:    0.6s remaining:    0.6s\n",
      "[Parallel(n_jobs=4)]: Done   4 out of   4 | elapsed:    0.6s remaining:    0.0s\n",
      "[Parallel(n_jobs=4)]: Done   4 out of   4 | elapsed:    0.6s finished\n",
      "[Parallel(n_jobs=4)]: Using backend LokyBackend with 4 concurrent workers.\n"
     ]
    },
    {
     "name": "stdout",
     "output_type": "stream",
     "text": [
      "iteration: 658 of max_iter: 2000\n"
     ]
    },
    {
     "name": "stderr",
     "output_type": "stream",
     "text": [
      "[Parallel(n_jobs=4)]: Done   2 out of   4 | elapsed:    0.6s remaining:    0.6s\n",
      "[Parallel(n_jobs=4)]: Done   4 out of   4 | elapsed:    0.6s remaining:    0.0s\n",
      "[Parallel(n_jobs=4)]: Done   4 out of   4 | elapsed:    0.6s finished\n",
      "[Parallel(n_jobs=4)]: Using backend LokyBackend with 4 concurrent workers.\n"
     ]
    },
    {
     "name": "stdout",
     "output_type": "stream",
     "text": [
      "iteration: 659 of max_iter: 2000\n"
     ]
    },
    {
     "name": "stderr",
     "output_type": "stream",
     "text": [
      "[Parallel(n_jobs=4)]: Done   2 out of   4 | elapsed:    0.5s remaining:    0.5s\n",
      "[Parallel(n_jobs=4)]: Done   4 out of   4 | elapsed:    0.6s remaining:    0.0s\n",
      "[Parallel(n_jobs=4)]: Done   4 out of   4 | elapsed:    0.6s finished\n",
      "[Parallel(n_jobs=4)]: Using backend LokyBackend with 4 concurrent workers.\n"
     ]
    },
    {
     "name": "stdout",
     "output_type": "stream",
     "text": [
      "iteration: 660 of max_iter: 2000\n"
     ]
    },
    {
     "name": "stderr",
     "output_type": "stream",
     "text": [
      "[Parallel(n_jobs=4)]: Done   2 out of   4 | elapsed:    0.5s remaining:    0.5s\n",
      "[Parallel(n_jobs=4)]: Done   4 out of   4 | elapsed:    0.5s remaining:    0.0s\n",
      "[Parallel(n_jobs=4)]: Done   4 out of   4 | elapsed:    0.5s finished\n",
      "[Parallel(n_jobs=4)]: Using backend LokyBackend with 4 concurrent workers.\n"
     ]
    },
    {
     "name": "stdout",
     "output_type": "stream",
     "text": [
      "iteration: 661 of max_iter: 2000\n"
     ]
    },
    {
     "name": "stderr",
     "output_type": "stream",
     "text": [
      "[Parallel(n_jobs=4)]: Done   2 out of   4 | elapsed:    0.5s remaining:    0.5s\n",
      "[Parallel(n_jobs=4)]: Done   4 out of   4 | elapsed:    0.5s remaining:    0.0s\n",
      "[Parallel(n_jobs=4)]: Done   4 out of   4 | elapsed:    0.5s finished\n",
      "[Parallel(n_jobs=4)]: Using backend LokyBackend with 4 concurrent workers.\n"
     ]
    },
    {
     "name": "stdout",
     "output_type": "stream",
     "text": [
      "iteration: 662 of max_iter: 2000\n"
     ]
    },
    {
     "name": "stderr",
     "output_type": "stream",
     "text": [
      "[Parallel(n_jobs=4)]: Done   2 out of   4 | elapsed:    0.4s remaining:    0.4s\n",
      "[Parallel(n_jobs=4)]: Done   4 out of   4 | elapsed:    0.5s remaining:    0.0s\n",
      "[Parallel(n_jobs=4)]: Done   4 out of   4 | elapsed:    0.5s finished\n",
      "[Parallel(n_jobs=4)]: Using backend LokyBackend with 4 concurrent workers.\n"
     ]
    },
    {
     "name": "stdout",
     "output_type": "stream",
     "text": [
      "iteration: 663 of max_iter: 2000\n"
     ]
    },
    {
     "name": "stderr",
     "output_type": "stream",
     "text": [
      "[Parallel(n_jobs=4)]: Done   2 out of   4 | elapsed:    0.5s remaining:    0.5s\n",
      "[Parallel(n_jobs=4)]: Done   4 out of   4 | elapsed:    0.5s remaining:    0.0s\n",
      "[Parallel(n_jobs=4)]: Done   4 out of   4 | elapsed:    0.5s finished\n",
      "[Parallel(n_jobs=4)]: Using backend LokyBackend with 4 concurrent workers.\n"
     ]
    },
    {
     "name": "stdout",
     "output_type": "stream",
     "text": [
      "iteration: 664 of max_iter: 2000\n"
     ]
    },
    {
     "name": "stderr",
     "output_type": "stream",
     "text": [
      "[Parallel(n_jobs=4)]: Done   2 out of   4 | elapsed:    0.4s remaining:    0.4s\n",
      "[Parallel(n_jobs=4)]: Done   4 out of   4 | elapsed:    0.4s remaining:    0.0s\n",
      "[Parallel(n_jobs=4)]: Done   4 out of   4 | elapsed:    0.4s finished\n",
      "[Parallel(n_jobs=4)]: Using backend LokyBackend with 4 concurrent workers.\n"
     ]
    },
    {
     "name": "stdout",
     "output_type": "stream",
     "text": [
      "iteration: 665 of max_iter: 2000\n"
     ]
    },
    {
     "name": "stderr",
     "output_type": "stream",
     "text": [
      "[Parallel(n_jobs=4)]: Done   2 out of   4 | elapsed:    0.5s remaining:    0.5s\n",
      "[Parallel(n_jobs=4)]: Done   4 out of   4 | elapsed:    0.5s remaining:    0.0s\n",
      "[Parallel(n_jobs=4)]: Done   4 out of   4 | elapsed:    0.5s finished\n",
      "[Parallel(n_jobs=4)]: Using backend LokyBackend with 4 concurrent workers.\n"
     ]
    },
    {
     "name": "stdout",
     "output_type": "stream",
     "text": [
      "iteration: 666 of max_iter: 2000\n"
     ]
    },
    {
     "name": "stderr",
     "output_type": "stream",
     "text": [
      "[Parallel(n_jobs=4)]: Done   2 out of   4 | elapsed:    0.5s remaining:    0.5s\n",
      "[Parallel(n_jobs=4)]: Done   4 out of   4 | elapsed:    0.6s remaining:    0.0s\n",
      "[Parallel(n_jobs=4)]: Done   4 out of   4 | elapsed:    0.6s finished\n",
      "[Parallel(n_jobs=4)]: Using backend LokyBackend with 4 concurrent workers.\n"
     ]
    },
    {
     "name": "stdout",
     "output_type": "stream",
     "text": [
      "iteration: 667 of max_iter: 2000\n"
     ]
    },
    {
     "name": "stderr",
     "output_type": "stream",
     "text": [
      "[Parallel(n_jobs=4)]: Done   2 out of   4 | elapsed:    0.5s remaining:    0.5s\n",
      "[Parallel(n_jobs=4)]: Done   4 out of   4 | elapsed:    0.6s remaining:    0.0s\n",
      "[Parallel(n_jobs=4)]: Done   4 out of   4 | elapsed:    0.6s finished\n",
      "[Parallel(n_jobs=4)]: Using backend LokyBackend with 4 concurrent workers.\n"
     ]
    },
    {
     "name": "stdout",
     "output_type": "stream",
     "text": [
      "iteration: 668 of max_iter: 2000\n"
     ]
    },
    {
     "name": "stderr",
     "output_type": "stream",
     "text": [
      "[Parallel(n_jobs=4)]: Done   2 out of   4 | elapsed:    0.7s remaining:    0.7s\n",
      "[Parallel(n_jobs=4)]: Done   4 out of   4 | elapsed:    0.7s remaining:    0.0s\n",
      "[Parallel(n_jobs=4)]: Done   4 out of   4 | elapsed:    0.7s finished\n",
      "[Parallel(n_jobs=4)]: Using backend LokyBackend with 4 concurrent workers.\n"
     ]
    },
    {
     "name": "stdout",
     "output_type": "stream",
     "text": [
      "iteration: 669 of max_iter: 2000\n"
     ]
    },
    {
     "name": "stderr",
     "output_type": "stream",
     "text": [
      "[Parallel(n_jobs=4)]: Done   2 out of   4 | elapsed:    0.8s remaining:    0.8s\n",
      "[Parallel(n_jobs=4)]: Done   4 out of   4 | elapsed:    0.9s remaining:    0.0s\n",
      "[Parallel(n_jobs=4)]: Done   4 out of   4 | elapsed:    0.9s finished\n",
      "[Parallel(n_jobs=4)]: Using backend LokyBackend with 4 concurrent workers.\n"
     ]
    },
    {
     "name": "stdout",
     "output_type": "stream",
     "text": [
      "iteration: 670 of max_iter: 2000\n"
     ]
    }
   ],
   "source": [
    "def model_all_topics(dataset, n_topics=20, max_iter=2000, n_jobs=-1):\n",
    "    vocab = dataset[['lemma']].drop_duplicates().set_index('lemma')\n",
    "\n",
    "    doc_topic_dists = []\n",
    "\n",
    "    X = document_word_matrix(dataset, vocab)\n",
    "    print(X.shape, len(dataset), len(vocab))\n",
    "\n",
    "    lda = LatentDirichletAllocation(\n",
    "        n_components=n_topics, max_iter=max_iter, random_state=0,\n",
    "        verbose=10, n_jobs=n_jobs\n",
    "    )\n",
    "\n",
    "#     doc_topic_dist = lda.fit_transform(X)\n",
    "    lda.fit(X)\n",
    "    \n",
    "    return lda\n",
    "    \n",
    "lda_model = model_all_topics(dataset, 20, 2000, -1)"
   ]
  },
  {
   "cell_type": "code",
   "execution_count": 254,
   "metadata": {
    "scrolled": true
   },
   "outputs": [
    {
     "name": "stdout",
     "output_type": "stream",
     "text": [
      "-"
     ]
    },
    {
     "ename": "ValueError",
     "evalue": "The provided data has 5443 dimensions while the model was trained with feature size 82.",
     "output_type": "error",
     "traceback": [
      "\u001b[1;31m---------------------------------------------------------------------------\u001b[0m",
      "\u001b[1;31mValueError\u001b[0m                                Traceback (most recent call last)",
      "\u001b[1;32m<ipython-input-254-734595b70214>\u001b[0m in \u001b[0;36m<module>\u001b[1;34m\u001b[0m\n\u001b[0;32m      1\u001b[0m \u001b[1;32mfor\u001b[0m \u001b[0mparagraph\u001b[0m\u001b[1;33m,\u001b[0m \u001b[0mgroup\u001b[0m \u001b[1;32min\u001b[0m \u001b[0mdataset\u001b[0m\u001b[1;33m.\u001b[0m\u001b[0mgroupby\u001b[0m\u001b[1;33m(\u001b[0m\u001b[1;34m'paragraph_id'\u001b[0m\u001b[1;33m)\u001b[0m\u001b[1;33m:\u001b[0m\u001b[1;33m\u001b[0m\u001b[1;33m\u001b[0m\u001b[0m\n\u001b[0;32m      2\u001b[0m     \u001b[0msparse_matrix\u001b[0m \u001b[1;33m=\u001b[0m \u001b[0mdocument_word_matrix\u001b[0m\u001b[1;33m(\u001b[0m\u001b[0mgroup\u001b[0m\u001b[1;33m,\u001b[0m \u001b[0mvocab\u001b[0m\u001b[1;33m)\u001b[0m\u001b[1;33m\u001b[0m\u001b[1;33m\u001b[0m\u001b[0m\n\u001b[1;32m----> 3\u001b[1;33m     \u001b[0mparagraph_topic_dist\u001b[0m \u001b[1;33m=\u001b[0m \u001b[0mlda_model\u001b[0m\u001b[1;33m.\u001b[0m\u001b[0mtransform\u001b[0m\u001b[1;33m(\u001b[0m\u001b[0msparse_matrix\u001b[0m\u001b[1;33m)\u001b[0m\u001b[1;33m\u001b[0m\u001b[1;33m\u001b[0m\u001b[0m\n\u001b[0m\u001b[0;32m      4\u001b[0m     \u001b[0mt_given_w\u001b[0m \u001b[1;33m=\u001b[0m \u001b[0mcalc_t_given_w\u001b[0m\u001b[1;33m(\u001b[0m\u001b[0mlda_model\u001b[0m\u001b[1;33m.\u001b[0m\u001b[0mcomponents_\u001b[0m\u001b[1;33m,\u001b[0m \u001b[0mparagraph_topic_dist\u001b[0m\u001b[1;33m)\u001b[0m\u001b[1;33m\u001b[0m\u001b[1;33m\u001b[0m\u001b[0m\n\u001b[0;32m      5\u001b[0m     \u001b[0mt_given_d\u001b[0m \u001b[1;33m=\u001b[0m \u001b[0mcalc_t_given_d\u001b[0m\u001b[1;33m(\u001b[0m\u001b[0mparagraph_topic_dist\u001b[0m\u001b[1;33m)\u001b[0m\u001b[1;33m\u001b[0m\u001b[1;33m\u001b[0m\u001b[0m\n",
      "\u001b[1;32m~\\Anaconda3\\lib\\site-packages\\sklearn\\decomposition\\online_lda.py\u001b[0m in \u001b[0;36mtransform\u001b[1;34m(self, X)\u001b[0m\n\u001b[0;32m    645\u001b[0m             \u001b[0mDocument\u001b[0m \u001b[0mtopic\u001b[0m \u001b[0mdistribution\u001b[0m \u001b[1;32mfor\u001b[0m \u001b[0mX\u001b[0m\u001b[1;33m.\u001b[0m\u001b[1;33m\u001b[0m\u001b[1;33m\u001b[0m\u001b[0m\n\u001b[0;32m    646\u001b[0m         \"\"\"\n\u001b[1;32m--> 647\u001b[1;33m         \u001b[0mdoc_topic_distr\u001b[0m \u001b[1;33m=\u001b[0m \u001b[0mself\u001b[0m\u001b[1;33m.\u001b[0m\u001b[0m_unnormalized_transform\u001b[0m\u001b[1;33m(\u001b[0m\u001b[0mX\u001b[0m\u001b[1;33m)\u001b[0m\u001b[1;33m\u001b[0m\u001b[1;33m\u001b[0m\u001b[0m\n\u001b[0m\u001b[0;32m    648\u001b[0m         \u001b[0mdoc_topic_distr\u001b[0m \u001b[1;33m/=\u001b[0m \u001b[0mdoc_topic_distr\u001b[0m\u001b[1;33m.\u001b[0m\u001b[0msum\u001b[0m\u001b[1;33m(\u001b[0m\u001b[0maxis\u001b[0m\u001b[1;33m=\u001b[0m\u001b[1;36m1\u001b[0m\u001b[1;33m)\u001b[0m\u001b[1;33m[\u001b[0m\u001b[1;33m:\u001b[0m\u001b[1;33m,\u001b[0m \u001b[0mnp\u001b[0m\u001b[1;33m.\u001b[0m\u001b[0mnewaxis\u001b[0m\u001b[1;33m]\u001b[0m\u001b[1;33m\u001b[0m\u001b[1;33m\u001b[0m\u001b[0m\n\u001b[0;32m    649\u001b[0m         \u001b[1;32mreturn\u001b[0m \u001b[0mdoc_topic_distr\u001b[0m\u001b[1;33m\u001b[0m\u001b[1;33m\u001b[0m\u001b[0m\n",
      "\u001b[1;32m~\\Anaconda3\\lib\\site-packages\\sklearn\\decomposition\\online_lda.py\u001b[0m in \u001b[0;36m_unnormalized_transform\u001b[1;34m(self, X)\u001b[0m\n\u001b[0;32m    622\u001b[0m                 \u001b[1;34m\"The provided data has %d dimensions while \"\u001b[0m\u001b[1;33m\u001b[0m\u001b[1;33m\u001b[0m\u001b[0m\n\u001b[0;32m    623\u001b[0m                 \u001b[1;34m\"the model was trained with feature size %d.\"\u001b[0m \u001b[1;33m%\u001b[0m\u001b[1;33m\u001b[0m\u001b[1;33m\u001b[0m\u001b[0m\n\u001b[1;32m--> 624\u001b[1;33m                 (n_features, self.components_.shape[1]))\n\u001b[0m\u001b[0;32m    625\u001b[0m \u001b[1;33m\u001b[0m\u001b[0m\n\u001b[0;32m    626\u001b[0m         doc_topic_distr, _ = self._e_step(X, cal_sstats=False,\n",
      "\u001b[1;31mValueError\u001b[0m: The provided data has 5443 dimensions while the model was trained with feature size 82."
     ]
    }
   ],
   "source": [
    "for paragraph, group in dataset.groupby('paragraph_id'):\n",
    "    sparse_matrix = document_word_matrix(group, vocab)\n",
    "    paragraph_topic_dist = lda_model.transform(sparse_matrix)\n",
    "    t_given_w = calc_t_given_w(lda_model.components_, paragraph_topic_dist)\n",
    "    t_given_d = calc_t_given_d(paragraph_topic_dist)\n",
    "    break"
   ]
  },
  {
   "cell_type": "code",
   "execution_count": 108,
   "metadata": {},
   "outputs": [],
   "source": [
    "# def assign_topics(components):\n",
    "#     return [np.argmax(w_given_t) for w_given_t in zip(*components)]"
   ]
  },
  {
   "cell_type": "code",
   "execution_count": 75,
   "metadata": {},
   "outputs": [],
   "source": [
    "# n_topics\n",
    "def calc_t_given_d(doc_topic_dist):\n",
    "    total_d = sum((sum(dtd) for dtd in doc_topic_dist))\n",
    "    t_given_d = [\n",
    "        sum(tdd)/total_d for tdd in zip(*doc_topic_dist)\n",
    "    ]\n",
    "    return t_given_d\n",
    "\n",
    "# n_topics X n_vocabulary\n",
    "def calc_w_given_t(components):\n",
    "    return components / components.sum(axis=1)[:, np.newaxis]\n",
    "\n",
    "# n_vocabulary\n",
    "def calc_w(components):\n",
    "    return components.sum(axis=0)/sum(sum(arr) for arr in components)\n",
    "\n",
    "# n_topics\n",
    "def calc_t(doc_topic_dist):\n",
    "    return doc_topic_dist.sum(axis=0)/sum(sum(arr) for arr in doc_topic_dist)\n",
    "\n",
    "# n_vocabulary X n_topics\n",
    "def calc_t_given_w(components, doc_topic_dist):\n",
    "    w_given_t = calc_w_given_t(components)\n",
    "    p_w = calc_w(components)\n",
    "    p_t = calc_t(doc_topic_dist)\n",
    "\n",
    "    t_given_w = list(zip(*((w_given_t / p_w) * p_t[:,None])))\n",
    "    return t_given_w"
   ]
  },
  {
   "cell_type": "code",
   "execution_count": 196,
   "metadata": {},
   "outputs": [
    {
     "name": "stdout",
     "output_type": "stream",
     "text": [
      "0.7703997444772843\n",
      "0.4568608040847908\n",
      "0.5682705456894483\n",
      "0.5969801809208133\n",
      "0.7711934985706879\n",
      "0.704236825302738\n",
      "0.5682705456894483\n",
      "0.5895686683001795\n",
      "0.7232457050239681\n",
      "0.7167114568487325\n",
      "0.7681132522683601\n",
      "0.7456774659871248\n",
      "0.7495257035318393\n",
      "0.7696857140290414\n",
      "0.7517989488731738\n",
      "0.6704324346563864\n",
      "0.766484442627741\n",
      "0.7286653132303739\n",
      "0.5762918645369302\n",
      "0.7605372021436756\n",
      "0.7712254759138633\n",
      "0.7730476396576952\n",
      "0.7062049911719795\n",
      "0.5334102804001908\n",
      "0.5809102136492412\n",
      "0.741671347013992\n",
      "0.7522123442010502\n",
      "0.7144738667685069\n",
      "0.7553145466381573\n",
      "0.7670946197115509\n",
      "0.7763645094767722\n",
      "0.5946975227988478\n",
      "0.7759360157506578\n",
      "0.5508091498245198\n",
      "0.7286653132303739\n",
      "0.5724995577370641\n",
      "0.5764503284940196\n",
      "0.6812782808465253\n",
      "0.728604422283142\n",
      "0.7454044625402965\n",
      "0.7713789953818697\n",
      "0.5895686683001795\n",
      "0.7656611613608237\n",
      "0.7554345302930096\n",
      "0.7558342611824493\n",
      "0.7523138798182591\n",
      "0.7710947114566467\n",
      "0.6700988816019597\n",
      "0.7233477457158844\n",
      "0.7754218817567788\n",
      "0.7565332631040369\n",
      "0.7560405013068735\n",
      "0.7452541319944992\n",
      "0.5900349620925973\n",
      "0.7498441507448702\n",
      "0.7662717303401992\n",
      "0.7233477457158844\n",
      "0.7691059197219487\n",
      "0.7361778752883996\n",
      "0.7167114568487325\n",
      "0.7252183453172644\n",
      "0.7557728090671716\n",
      "0.5900349620925973\n",
      "0.7734574871300669\n",
      "0.772550687421749\n",
      "0.6138042891525193\n",
      "0.7667667960780704\n",
      "0.7337564488496133\n",
      "0.5762918645369302\n",
      "0.6629788448488814\n",
      "0.704236825302738\n",
      "0.6730991620597173\n",
      "0.7596031945759248\n",
      "0.77096273107337\n",
      "0.7537007732678672\n",
      "0.5974175387717684\n",
      "0.6670048347548846\n",
      "0.7010230060165699\n",
      "0.7608525972373736\n",
      "0.7617687045854532\n",
      "0.5809102136492412\n",
      "0.7603128700493896\n",
      "0.5764503284940196\n",
      "0.7535822015267474\n",
      "0.751756676730213\n",
      "0.584292671736899\n",
      "0.7393997531861984\n",
      "0.754940351836275\n",
      "0.7542219883594554\n",
      "0.7557550655828402\n",
      "0.7670918085370534\n",
      "0.7703689986749664\n",
      "0.5574576527108244\n",
      "0.7331158039243189\n",
      "0.7460559797790942\n",
      "0.7583287012444939\n",
      "0.7635428095755401\n",
      "0.7688500020511048\n",
      "0.5636662616837065\n",
      "0.584292671736899\n",
      "0.7518908438338558\n",
      "0.5900349620925973\n",
      "0.5682705456894483\n",
      "0.7642452151028409\n",
      "0.7454044625402965\n",
      "0.5879837346256183\n",
      "0.5900349620925973\n",
      "0.5974175387717684\n",
      "0.5879837346256183\n",
      "0.5809102136492412\n",
      "0.69709048238322\n",
      "0.5800798443301842\n",
      "0.73318739227255\n",
      "0.5882619029585566\n",
      "0.5560819516310824\n",
      "0.7144738667685069\n",
      "0.7727746168910347\n",
      "0.5508635302441744\n",
      "0.7531860787886593\n",
      "0.5879837346256183\n",
      "0.5724995577370641\n",
      "0.7511933297755201\n",
      "0.5807869814176605\n",
      "0.5488471794734373\n",
      "0.5682705456894483\n",
      "0.763567913173777\n",
      "0.7623318612509938\n",
      "0.7542755331482317\n",
      "0.5807869814176605\n",
      "0.7437689381164552\n",
      "0.7495257035318393\n",
      "0.5140235636900299\n",
      "0.7335670301929715\n",
      "0.7567600624245628\n",
      "0.7335670301929715\n",
      "0.7063021869104704\n",
      "0.7740856564903126\n",
      "0.5764503284940196\n",
      "0.5378539801758729\n",
      "0.5812505968077692\n",
      "0.7306317357269889\n",
      "0.7454974796595839\n",
      "0.754940351836275\n",
      "0.5574576527108244\n",
      "0.7274802800297181\n",
      "0.6791940685008921\n",
      "0.5882619029585566\n",
      "0.7739160605728915\n",
      "0.548334667207053\n",
      "0.7650814783994385\n",
      "0.5974175387717684\n",
      "0.7702642437482747\n",
      "0.7690144531710962\n",
      "0.7659399547058434\n",
      "0.5682705456894483\n",
      "0.5969801809208133\n",
      "0.6629788448488814\n",
      "0.7702642437482747\n",
      "0.7596816424834747\n",
      "0.5922332575295298\n",
      "0.7079596280564683\n",
      "0.7591183108002711\n",
      "0.6812782808465253\n",
      "0.5895686683001795\n",
      "0.5604972556700654\n",
      "0.5547817609702164\n",
      "0.6858979724522634\n",
      "0.5800798443301842\n",
      "0.7518908438338558\n",
      "0.7654172291505296\n",
      "0.5807869814176605\n",
      "0.7291898451703493\n",
      "0.7668251338799748\n",
      "0.7310594947698761\n",
      "0.7595075245442892\n",
      "0.7743161165120436\n",
      "0.6731679590622207\n",
      "0.6700988816019597\n",
      "0.6422342481610741\n",
      "0.7601224421177782\n",
      "0.7557728090671716\n",
      "0.7769819821911577\n",
      "0.7645285950215672\n",
      "0.7233477457158844\n",
      "0.7470290743632766\n",
      "0.7120538327636279\n",
      "0.6797382291954442\n",
      "0.5115492879785124\n",
      "0.733731586661309\n",
      "0.5129477172833025\n",
      "0.5946975227988478\n",
      "0.7752326425775344\n",
      "0.6704324346563864\n",
      "0.5767147831050022\n",
      "0.7467720638678739\n",
      "0.7062542971837974\n",
      "0.6829107859906598\n",
      "0.7682725063874911\n",
      "0.5532954182689886\n",
      "0.7738801837732953\n",
      "0.5900349620925973\n",
      "0.5334102804001908\n",
      "0.5895686683001795\n",
      "0.5526024078851427\n",
      "0.5724995577370641\n",
      "0.5900349620925973\n",
      "0.6700988816019597\n",
      "0.5597914614190311\n",
      "0.7294869936393005\n",
      "0.7010230060165699\n",
      "0.7320973357701811\n",
      "0.7795213820685605\n",
      "0.7675223456497439\n",
      "0.7621208190199288\n",
      "0.5574576527108244\n",
      "0.733731586661309\n",
      "0.5900349620925973\n",
      "0.7335970454124859\n",
      "0.733731586661309\n",
      "0.7542755331482317\n",
      "0.5895686683001795\n",
      "0.5574576527108244\n",
      "0.5946975227988478\n",
      "0.7572324787889325\n",
      "0.733597045412486\n",
      "0.5812505968077692\n",
      "0.7564019216569727\n",
      "0.5682705456894483\n",
      "0.7767725459376402\n",
      "0.7674284927157486\n",
      "0.7773150398284527\n",
      "0.5891955453574895\n",
      "0.69709048238322\n",
      "0.5946975227988478\n",
      "0.7759337880571855\n",
      "0.5891955453574895\n",
      "0.5807869814176605\n",
      "0.5490646300413882\n",
      "0.5044225254058634\n",
      "0.7748633450776048\n",
      "0.7577266694471043\n",
      "0.5891955453574895\n",
      "0.6812782808465253\n",
      "0.770673556277933\n",
      "0.7501996642432431\n",
      "0.7079596280564683\n",
      "0.7543509683668101\n",
      "0.5900349620925973\n",
      "0.7010230060165699\n",
      "0.5490165204834774\n",
      "0.6729029586238544\n",
      "0.7740856564903125\n",
      "0.7689403882103149\n",
      "0.5807869814176605\n",
      "0.7734063852272176\n",
      "0.7724054985318825\n",
      "0.7034433491942513\n",
      "0.7507521533983544\n",
      "0.770938335340143\n",
      "0.7480690874458586\n",
      "0.5900349620925973\n",
      "0.7131617993556615\n",
      "0.6797909539898066\n",
      "0.5882619029585566\n",
      "0.5922332575295298\n",
      "0.7184675521510406\n",
      "0.7603128700493897\n",
      "0.7678666460130092\n",
      "0.5807869814176605\n",
      "0.7736057868959648\n",
      "0.5764503284940196\n",
      "0.737488451154046\n",
      "0.7564169086864079\n",
      "0.5879837346256183\n",
      "0.5682705456894483\n",
      "0.6858979724522634\n",
      "0.6731917782557195\n",
      "0.6791940685008921\n",
      "0.7634349402219832\n",
      "0.7635428095755401\n",
      "0.7595159097443185\n",
      "0.7605372021436756\n",
      "0.5879837346256183\n",
      "0.7079596280564683\n",
      "0.7645224055258304\n",
      "0.7451343831441987\n",
      "0.6700988816019597\n",
      "0.5895686683001795\n",
      "0.7692301276482338\n",
      "0.7625679914789677\n",
      "0.5809102136492412\n",
      "0.73318739227255\n",
      "0.7684598908601321\n",
      "0.7232824570497489\n",
      "0.5547024408130998\n",
      "0.7062542971837974\n",
      "0.7446621809425163\n",
      "0.7184675521510406\n",
      "0.5767147831050022\n",
      "0.755564215995999\n",
      "0.770570609034321\n",
      "0.6797382291954442\n",
      "0.7320973357701811\n",
      "0.5812505968077692\n",
      "0.5809102136492412\n",
      "0.5554537974237135\n",
      "0.7393997531861984\n",
      "0.7745240907445006\n",
      "0.5882619029585566\n",
      "0.7233477457158844\n",
      "0.6853752062365983\n",
      "0.5809102136492412\n",
      "0.765080559693614\n",
      "0.5682705456894483\n",
      "0.7577973312253299\n",
      "0.5487798981368934\n",
      "0.5762918645369302\n",
      "0.5895686683001795\n",
      "0.7508333690525426\n",
      "0.5800798443301842\n",
      "0.7803114266964469\n",
      "0.7144738667685069\n",
      "0.7231222658994761\n",
      "0.6791940685008921\n",
      "0.6853752062365983\n",
      "0.7712254759138633\n",
      "0.5895686683001795\n",
      "0.7685261089419648\n",
      "0.5879837346256183\n",
      "0.7730479652778254\n",
      "0.5891955453574895\n",
      "0.7460559797790942\n",
      "0.5682705456894483\n",
      "0.758321951186472\n",
      "0.5807869814176605\n",
      "0.7584155158473029\n",
      "0.5895686683001795\n",
      "0.751756676730213\n",
      "0.6729029586238544\n",
      "0.5767147831050022\n",
      "0.7169992318427127\n",
      "0.7451343831441987\n",
      "0.5946975227988478\n",
      "0.5764503284940196\n",
      "0.7388427603767364\n",
      "0.6788859729410153\n",
      "0.51254148501513\n",
      "0.7333983348037758\n",
      "0.7639014858357187\n",
      "0.741671347013992\n",
      "0.5895686683001795\n",
      "0.7729963883156495\n",
      "0.6797382291954442\n",
      "0.5550019831976003\n",
      "0.7456774659871248\n",
      "0.7063021869104704\n",
      "0.5974175387717684\n",
      "0.7437689381164552\n",
      "0.6731679590622207\n",
      "0.5879837346256183\n",
      "0.723974698999605\n",
      "0.5922332575295298\n",
      "0.7606333722973689\n",
      "0.5800798443301842\n",
      "0.7521414536919236\n",
      "0.7498441507448702\n",
      "0.7499545326740124\n",
      "0.6787438297553232\n",
      "0.7231222658994761\n",
      "0.5946975227988478\n",
      "0.6699307741063061\n",
      "0.5724995577370641\n",
      "0.7111815789077662\n",
      "0.7662717303401992\n",
      "0.7335970454124859\n",
      "0.741671347013992\n",
      "0.7430157404751048\n",
      "0.771953393784912\n",
      "0.7211341850703037\n",
      "0.5682705456894483\n",
      "0.584292671736899\n",
      "0.5922332575295298\n",
      "0.584292671736899\n",
      "0.5946975227988478\n",
      "0.6797382291954442\n",
      "0.7557550655828402\n",
      "0.5809102136492412\n",
      "0.5574576527108244\n",
      "0.771999293853718\n",
      "0.584292671736899\n",
      "0.7306317357269889\n",
      "0.759372753777865\n",
      "0.5882619029585566\n",
      "0.6853752062365983\n",
      "0.5682705456894483\n",
      "0.7175526574942793\n",
      "0.5066870545846964\n",
      "0.7404991585641449\n",
      "0.5900349620925973\n",
      "0.5483346672070527\n",
      "0.5812505968077692\n",
      "0.7518908438338558\n",
      "0.5465979081673699\n",
      "0.7729822825306609\n",
      "0.7119075516607931\n",
      "0.7454752824392957\n",
      "0.7746333048539573\n",
      "0.7456774659871248\n",
      "0.7554554525369392\n",
      "0.7736035456400867\n",
      "0.6753072897864598\n",
      "0.723974698999605\n",
      "0.5900349620925973\n",
      "0.7671177996213301\n",
      "0.5608097718192151\n",
      "0.7465691301850299\n",
      "0.7642411553742179\n",
      "0.5879837346256183\n",
      "0.6853752062365983\n",
      "0.7232457050239681\n",
      "0.5764503284940196\n",
      "0.7645285950215672\n",
      "0.6699307741063061\n",
      "0.7110223510428871\n",
      "0.7374745565336098\n",
      "0.7110223510428871\n",
      "0.7062049911719795\n",
      "0.7593597237710472\n",
      "0.6829107859906598\n",
      "0.7110223510428871\n",
      "0.7624433928748156\n",
      "0.7739560085295022\n",
      "0.7665373843319423\n",
      "0.6534669471623438\n",
      "0.7557728090671716\n",
      "0.5891955453574895\n",
      "0.5767147831050022\n",
      "0.767406053801251\n",
      "0.5882619029585566\n",
      "0.5682705456894483\n",
      "0.7457123145581448\n",
      "0.554823485854419\n",
      "0.7144738667685069\n",
      "0.5764503284940196\n",
      "0.5882619029585566\n",
      "0.584292671736899\n",
      "0.5882619029585566\n",
      "0.6881178076086453\n",
      "0.5974175387717684\n",
      "0.5879837346256183\n",
      "0.7577973312253299\n",
      "0.7742223611289835\n",
      "0.584292671736899\n",
      "0.5767147831050021\n",
      "0.5807869814176605\n",
      "0.5807869814176605\n",
      "0.7631573230792821\n",
      "0.7685482282096656\n",
      "0.7306317357269889\n",
      "0.7062049911719795\n",
      "0.7388427603767364\n",
      "0.7274802800297181\n",
      "0.7630401963875822\n",
      "0.5882619029585566\n",
      "0.6670048347548846\n",
      "0.7145863751533267\n",
      "0.5922332575295298\n",
      "0.7232824570497489\n",
      "0.7567378991101334\n",
      "0.7374745565336098\n",
      "0.7612900147315986\n",
      "0.7062542971837974\n",
      "0.6731679590622207\n",
      "0.5574576527108244\n",
      "0.6858979724522634\n",
      "0.6853752062365983\n",
      "0.6787438297553232\n",
      "0.5724995577370641\n",
      "0.723974698999605\n",
      "0.7451469886096788\n",
      "0.7169992318427127\n",
      "0.5891955453574895\n",
      "0.7554554525369392\n",
      "0.7695313253960319\n",
      "0.7689403882103149\n",
      "0.5812505968077692\n",
      "0.7119075516607931\n",
      "0.5809102136492412\n",
      "0.5946975227988478\n",
      "0.744247383282836\n",
      "0.7384187701158431\n",
      "0.7535822015267474\n",
      "0.5900349620925973\n",
      "0.73318739227255\n",
      "0.5762918645369302\n",
      "0.6797382291954442\n",
      "0.7573231097846385\n",
      "0.6797382291954442\n",
      "0.6731679590622207\n",
      "0.7576323998927474\n",
      "0.7586787879719294\n",
      "0.7504006510555523\n",
      "0.7460559797790942\n",
      "0.7703997444772843\n",
      "0.756055646310572\n",
      "0.5891955453574895\n",
      "0.6829107859906598\n",
      "0.5591931655770751\n",
      "0.5812505968077692\n",
      "0.5922332575295298\n",
      "0.5574576527108244\n",
      "0.519411780081452\n",
      "0.5895686683001795\n",
      "0.7662717303401992\n",
      "0.5764503284940196\n",
      "0.7652684383072998\n",
      "0.5900349620925973\n",
      "0.5764503284940196\n",
      "0.5879837346256183\n",
      "0.7145863751533267\n",
      "0.758321951186472\n",
      "0.7131617993556615\n",
      "0.7454044625402965\n",
      "0.7602358142092364\n",
      "0.7215677697736922\n",
      "0.5922332575295298\n",
      "0.7286653132303739\n",
      "0.6853752062365983\n",
      "0.7728522172850527\n",
      "0.7034433491942513\n",
      "0.6791940685008921\n",
      "0.5895686683001795\n",
      "0.5812505968077692\n",
      "0.5809102136492412\n",
      "0.5922332575295298\n",
      "0.6788859729410153\n",
      "0.6534669471623438\n",
      "0.7529422494855116\n",
      "0.5134249061609988\n",
      "0.5762918645369302\n",
      "0.5812505968077692\n",
      "0.584292671736899\n",
      "0.5554122304694546\n",
      "0.7391700339821207\n",
      "0.7294869936393005\n",
      "0.7335970454124859\n",
      "0.6729029586238544\n",
      "0.6797382291954442\n",
      "0.7167114568487325\n",
      "0.5767147831050021\n",
      "0.5879837346256183\n",
      "0.6731917782557195\n",
      "0.7361875789997798\n",
      "0.7169992318427127\n",
      "0.5800798443301842\n",
      "0.6788859729410153\n",
      "0.6534669471623438\n",
      "0.5767147831050021\n",
      "0.7525251162989359\n",
      "0.7585080263508919\n",
      "0.5549981669264766\n",
      "0.5762918645369302\n",
      "0.6787438297553232\n",
      "0.7522123442010502\n",
      "0.723974698999605\n",
      "0.5762918645369302\n",
      "0.6858979724522634\n",
      "0.7652178657652117\n",
      "0.5764503284940196\n",
      "0.5764503284940196\n",
      "0.7694749471635417\n",
      "0.7648963654912981\n",
      "0.7637271222841999\n",
      "0.5508181279128215\n",
      "0.7583287012444939\n",
      "0.7647118825905431\n",
      "0.7480690874458586\n",
      "0.7715549096029355\n",
      "0.5546950761027323\n",
      "0.7277962379377025\n",
      "0.5922332575295298\n",
      "0.7707113552573609\n",
      "0.7590943073376004\n",
      "0.5538015044117903\n",
      "0.747771491407478\n",
      "0.7386328663693864\n",
      "0.7701287071047992\n",
      "0.5724995577370641\n",
      "0.6797909539898066\n",
      "0.7110223510428871\n",
      "0.6787438297553232\n",
      "0.766827213952787\n",
      "0.5812505968077692\n",
      "0.5682705456894483\n",
      "0.5974175387717684\n",
      "0.7751595557853403\n",
      "0.5574576527108246\n",
      "0.7709742128508321\n",
      "0.5891955453574895\n",
      "0.7232457050239681\n",
      "0.73318739227255\n",
      "0.7658788461412337\n",
      "0.5762918645369302\n",
      "0.5895686683001795\n",
      "0.6812782808465253\n",
      "0.5418031342731096\n",
      "0.5764503284940196\n",
      "0.5807869814176605\n",
      "0.7700609502978732\n",
      "0.6791940685008921\n",
      "0.5946975227988478\n",
      "0.7572324787889325\n",
      "0.7111815789077662\n",
      "0.584292671736899\n",
      "0.5682705456894483\n",
      "0.584292671736899\n",
      "0.7554345302930096\n",
      "0.7393997531861984\n",
      "0.5809102136492412\n",
      "0.7691296532284138\n",
      "0.7468900959422355\n",
      "0.5807869814176605\n",
      "0.6730991620597173\n",
      "0.5882619029585566\n",
      "0.7553145466381573\n",
      "0.584292671736899\n",
      "0.7696857140290414\n",
      "0.5879837346256183\n",
      "0.7465691301850299\n",
      "0.5882619029585566\n",
      "0.5574576527108244\n",
      "0.7119492267515878\n",
      "0.6858979724522634\n",
      "0.7668724939529143\n",
      "0.7206226055619134\n",
      "0.6797909539898066\n",
      "0.5922332575295298\n",
      "0.5762918645369302\n",
      "0.5574576527108244\n",
      "0.5895686683001795\n",
      "0.5879837346256183\n",
      "0.5764503284940196\n",
      "0.5490841593142882\n",
      "0.5807869814176605\n",
      "0.5764503284940196\n",
      "0.7608592090451546\n",
      "0.5448693211038564\n",
      "0.6858979724522634\n",
      "0.584292671736899\n",
      "0.5882619029585566\n",
      "0.5764503284940196\n",
      "0.5574576527108244\n",
      "0.7553145466381573\n",
      "0.7736460471481352\n",
      "0.7602207456042931\n",
      "0.5529240000787734\n",
      "0.5882619029585566\n",
      "0.7405246281781119\n",
      "0.7726946510547574\n",
      "0.5974175387717684\n",
      "0.704236825302738\n",
      "0.5900349620925973\n",
      "0.7649444000422194\n",
      "0.5807869814176605\n",
      "0.6797382291954442\n",
      "0.5574576527108244\n",
      "0.7588990491020137\n",
      "0.7063021869104704\n",
      "0.6881178076086453\n",
      "0.7608592090451546\n",
      "0.6853752062365983\n",
      "0.6853752062365983\n",
      "0.47666530833457377\n",
      "0.5900349620925973\n",
      "0.7062542971837974\n",
      "0.5574576527108244\n",
      "0.6853752062365983\n",
      "0.7110223510428871\n",
      "0.5900349620925973\n",
      "0.5891955453574895\n",
      "0.7502691243101328\n",
      "0.6788859729410153\n",
      "0.5608097718192151\n",
      "0.5969801809208133\n",
      "0.6791940685008921\n",
      "0.7232824570497489\n",
      "0.7487500380594581\n",
      "0.7131617993556615\n",
      "0.6858979724522634\n",
      "0.7119075516607931\n",
      "0.5574576527108244\n",
      "0.5922332575295298\n",
      "0.5969801809208133\n",
      "0.5900349620925973\n",
      "0.7579089838585691\n",
      "0.5531509010299088\n",
      "0.7662463288773912\n",
      "0.5974175387717684\n",
      "0.5807869814176605\n",
      "0.584292671736899\n",
      "0.5682705456894483\n",
      "0.5762918645369302\n",
      "0.5879837346256183\n",
      "0.7572324787889325\n",
      "0.7618175627852596\n",
      "0.6812782808465253\n",
      "0.5974175387717684\n",
      "0.5800798443301842\n",
      "0.7690649618885599\n",
      "0.6797909539898066\n",
      "0.7678435681913108\n",
      "0.5895686683001795\n",
      "0.5879837346256183\n",
      "0.6787438297553232\n",
      "0.5764503284940196\n",
      "0.6797909539898066\n",
      "0.5922332575295298\n",
      "0.7169992318427127\n",
      "0.7529986702657699\n",
      "0.7521414536919236\n",
      "0.754775022344289\n",
      "0.5800798443301842\n",
      "0.7713110912080986\n",
      "0.7635428095755401\n",
      "0.74129930097909\n",
      "0.5800798443301842\n",
      "0.7743366007335176\n",
      "0.7664019643856455\n",
      "0.7167114568487325\n",
      "0.6700988816019597\n",
      "0.7348480170825997\n",
      "0.7692733853156489\n",
      "0.5969801809208133\n",
      "0.6797382291954442\n",
      "0.7624433928748156\n",
      "0.5900349620925973\n",
      "0.5574576527108244\n",
      "0.7590468374246682\n",
      "0.7573231097846385\n",
      "0.7079596280564683\n",
      "0.5974175387717684\n",
      "0.7670411734362722\n",
      "0.5762918645369302\n",
      "0.754775022344289\n",
      "0.7553145466381573\n",
      "0.5809102136492412\n",
      "0.5767147831050021\n",
      "0.5809102136492412\n",
      "0.5974175387717684\n",
      "0.7560405013068735\n",
      "0.7727007096520041\n",
      "0.7537007732678672\n",
      "0.5891955453574895\n",
      "0.5922332575295298\n",
      "0.7034433491942513\n",
      "0.5891955453574895\n",
      "0.7637636498224203\n",
      "0.7331158039243189\n",
      "0.7490029638349472\n",
      "0.7624169489883115\n",
      "0.6858979724522634\n",
      "0.5764503284940196\n",
      "0.7553145466381573\n",
      "0.7624415859974212\n",
      "0.5974175387717684\n",
      "0.7413483149952251\n",
      "0.7215677697736922\n",
      "0.5762918645369302\n",
      "0.6670048347548846\n",
      "0.5969801809208133\n",
      "0.6853752062365983\n",
      "0.5724995577370641\n",
      "0.5549981669264766\n",
      "0.7643261384777013\n",
      "0.7678217275165714\n",
      "0.6699307741063061\n",
      "0.7167114568487325\n",
      "0.6797909539898066\n",
      "0.7169992318427127\n",
      "0.733731586661309\n",
      "0.7539262753731854\n",
      "0.5946975227988478\n",
      "0.5974175387717684\n",
      "0.5800798443301842\n",
      "0.771024557065645\n",
      "0.5974175387717684\n",
      "0.7294869936393005\n",
      "0.5523123109069424\n",
      "0.7685253176616325\n",
      "0.584292671736899\n",
      "0.5946975227988478\n",
      "0.7435942543875596\n",
      "0.5800798443301842\n",
      "0.5764503284940196\n",
      "0.7252183453172644\n",
      "0.5574576527108244\n",
      "0.5891955453574895\n",
      "0.7689403882103149\n",
      "0.737488451154046\n",
      "0.7232824570497489\n",
      "0.7697873026622312\n",
      "0.7501996642432431\n",
      "0.5882619029585566\n",
      "0.7672834923299381\n",
      "0.7641605796368354\n",
      "0.7277962379377025\n",
      "0.5946975227988478\n",
      "0.5895686683001795\n",
      "0.7431022193631044\n",
      "0.6753072897864598\n",
      "0.7641605796368354\n",
      "0.5724995577370641\n",
      "0.5574576527108246\n",
      "0.5882619029585566\n",
      "0.7388427603767364\n",
      "0.5809102136492412\n",
      "0.5969801809208133\n",
      "0.5895686683001795\n",
      "0.5764503284940196\n",
      "0.5812505968077692\n",
      "0.5809102136492412\n",
      "0.5574576527108244\n",
      "0.5682705456894483\n",
      "0.5574576527108244\n",
      "0.5891955453574895\n",
      "0.584292671736899\n",
      "0.5762918645369302\n",
      "0.5448693211038564\n",
      "0.7701235137740895\n",
      "0.584292671736899\n",
      "0.584292671736899\n",
      "0.5483346672070527\n",
      "0.5891955453574895\n",
      "0.741671347013992\n",
      "0.6788859729410153\n",
      "0.5946975227988478\n",
      "0.7337564488496133\n",
      "0.6788859729410153\n",
      "0.5767147831050021\n",
      "0.6812782808465253\n",
      "0.69709048238322\n",
      "0.7232824570497489\n",
      "0.5165653304696661\n",
      "0.7010230060165699\n",
      "0.5895686683001795\n",
      "0.5767147831050021\n",
      "0.5900349620925973\n",
      "0.7131617993556615\n",
      "0.5895686683001795\n",
      "0.5895686683001795\n",
      "0.5812505968077692\n",
      "0.7647643223251288\n",
      "0.7716049413940812\n",
      "0.7681931617186728\n",
      "0.7683827795234804\n",
      "0.7654466730039663\n",
      "0.759372753777865\n",
      "0.771971834881384\n",
      "0.7736978692736642\n",
      "0.7760793136797584\n",
      "0.7587056007570454\n",
      "0.7608592090451546\n",
      "0.7689332728613499\n",
      "0.5446383009898605\n",
      "0.7558342611824493\n",
      "0.7701287071047992\n",
      "0.7580171597272014\n",
      "0.7501996642432431\n",
      "0.5574576527108244\n",
      "0.7630942266178063\n",
      "0.6108850414864335\n",
      "0.5486973868574182\n",
      "0.7590943073376004\n",
      "0.765429173809101\n",
      "0.7144738667685069\n",
      "0.7636561741801493\n",
      "0.7284180175288673\n",
      "0.7696297268587045\n",
      "0.7738359384123827\n",
      "0.5809102136492412\n",
      "0.6853752062365983\n",
      "0.7501996642432431\n",
      "0.7110223510428871\n",
      "0.7702642437482747\n",
      "0.7010230060165699\n",
      "0.6753072897864598\n",
      "0.584292671736899\n",
      "0.7702336856858323\n",
      "0.7664680050000087\n",
      "0.7712681596992345\n",
      "0.7677899071755656\n",
      "0.7595075245442892\n",
      "0.5682705456894483\n",
      "0.5891955453574895\n",
      "0.7612408157641587\n",
      "0.7480690874458586\n",
      "0.7306317357269889\n",
      "0.5946975227988478\n",
      "0.5800798443301842\n",
      "0.7789949962284264\n",
      "0.7487500380594581\n",
      "0.7290672934417475\n",
      "0.7689055145697619\n",
      "0.7681642284004105\n",
      "0.5574576527108244\n",
      "0.7526283454552978\n",
      "0.7725672441596747\n",
      "0.6730991620597173\n",
      "0.7542755331482317\n",
      "0.7691708514729557\n",
      "0.7333983348037758\n",
      "0.6858979724522634\n",
      "0.7468900959422355\n",
      "0.7793372080708849\n",
      "0.5054082525906081\n",
      "0.7526283454552978\n",
      "0.7694633685477463\n",
      "0.7686868453449076\n",
      "0.7668441412240663\n",
      "0.7678388050283931\n",
      "0.7335670301929715\n",
      "0.7549505300316991\n",
      "0.749614817028631\n",
      "0.5724995577370641\n",
      "0.7606333722973689\n",
      "0.7724642378393912\n",
      "0.7712129643057488\n",
      "0.5974175387717684\n",
      "0.7662641964370878\n",
      "0.737488451154046\n",
      "0.7505534786992389\n",
      "0.6853752062365983\n",
      "0.7647643223251288\n",
      "0.5724995577370641\n",
      "0.766961354613382\n",
      "0.5764503284940196\n",
      "0.7731789916745966\n",
      "0.7062542971837974\n",
      "0.76585586501495\n",
      "0.7526283454552978\n",
      "0.7456774659871248\n",
      "0.7291898451703493\n",
      "0.7593429865560741\n",
      "0.7451343831441987\n",
      "0.5974175387717684\n",
      "0.77359048809134\n",
      "0.7657268891786692\n",
      "0.7743161165120436\n",
      "0.5882619029585566\n",
      "0.764269397105152\n",
      "0.7374745565336098\n",
      "0.5969801809208133\n",
      "0.7647482570924697\n",
      "0.7696297268587045\n",
      "0.7119492267515878\n",
      "0.7582099474953055\n",
      "0.7664122425576014\n",
      "0.7554554525369392\n",
      "0.7676165867604356\n",
      "0.6534669471623438\n",
      "0.7564169086864079\n",
      "0.7704085625201123\n",
      "0.7184675521510406\n",
      "0.7627331607654558\n",
      "0.7745603430141619\n",
      "0.7706716401762772\n",
      "0.7508333690525426\n",
      "0.5969801809208133\n",
      "0.7038373640024058\n",
      "0.7629227658915565\n",
      "0.7652178657652117\n",
      "0.7335970454124859\n",
      "0.7606945683633264\n",
      "0.7510495432917215\n",
      "0.7517989488731738\n",
      "0.5900349620925973\n",
      "0.7501996642432431\n",
      "0.5574576527108244\n",
      "0.7596031945759248\n",
      "0.7361778752883996\n",
      "0.7608231181383067\n",
      "0.5969801809208133\n",
      "0.5807869814176605\n",
      "0.7577973312253299\n",
      "0.5922332575295298\n",
      "0.6858979724522634\n",
      "0.7624415859974212\n",
      "0.7736716374495777\n",
      "0.5807869814176605\n",
      "0.7769250796431522\n",
      "0.7672834923299381\n",
      "0.73318739227255\n",
      "0.7553145466381573\n",
      "0.7620879448199009\n",
      "0.7624433928748156\n",
      "0.5974175387717684\n",
      "0.5633728824251353\n",
      "0.7443586567718832\n",
      "0.5895686683001795\n",
      "0.7120538327636279\n",
      "0.7169992318427127\n",
      "0.5946975227988478\n",
      "0.7495257035318393\n",
      "0.7290672934417475\n",
      "0.7621208190199288\n",
      "0.7233477457158844\n",
      "0.5895686683001795\n",
      "0.7612408157641587\n",
      "0.7697873026622312\n",
      "0.7571548258879218\n",
      "0.7501996642432431\n",
      "0.6730991620597173\n",
      "0.5488279210180422\n",
      "0.7498441507448702\n",
      "0.7696297268587045\n",
      "0.5974175387717684\n",
      "0.5809102136492412\n",
      "0.5974175387717684\n",
      "0.7441858725525188\n",
      "0.7456774659871248\n",
      "0.5807869814176605\n",
      "0.6881178076086453\n",
      "0.584292671736899\n",
      "0.7524191958567387\n",
      "0.5900349620925973\n",
      "0.6797909539898066\n",
      "0.7657136050213857\n",
      "0.5879837346256183\n",
      "0.7695412769669903\n",
      "0.7753321819002008\n",
      "0.7331158039243189\n",
      "0.7624433928748156\n",
      "0.7577973312253299\n",
      "0.7807236598859847\n",
      "0.7586787879719294\n",
      "0.7724642378393912\n",
      "0.7059014119496053\n",
      "0.7490029638349472\n",
      "0.5807869814176605\n",
      "0.7554345302930096\n",
      "0.7577266694471043\n",
      "0.7167114568487325\n",
      "0.7062544378094144\n",
      "0.7286653132303739\n",
      "0.6812782808465253\n",
      "0.584292671736899\n",
      "0.5682705456894483\n",
      "0.6797909539898066\n",
      "0.5809102136492412\n",
      "0.733597045412486\n",
      "0.5529240000787735\n",
      "0.5969801809208133\n",
      "0.7636561741801493\n",
      "0.6534669471623438\n",
      "0.754940351836275\n",
      "0.6670048347548846\n",
      "0.7697851042605205\n",
      "0.7579152344409867\n",
      "0.7645285950215672\n",
      "0.7543509683668101\n",
      "0.5969801809208133\n",
      "0.740442003372735\n",
      "0.6791940685008921\n",
      "0.7246878876060138\n",
      "0.7498441507448702\n",
      "0.7713110912080986\n",
      "0.7560405013068735\n",
      "0.5682705456894483\n",
      "0.7386328663693864\n",
      "0.7232457050239681\n",
      "0.7498441507448702\n",
      "0.740442003372735\n",
      "0.7233477457158844\n",
      "0.5891955453574895\n",
      "0.759462973065296\n",
      "0.728604422283142\n",
      "0.770853619327325\n",
      "0.6881178076086453\n",
      "0.5724995577370641\n",
      "0.7498441507448702\n",
      "0.5532954182689886\n",
      "0.7497379907745321\n",
      "0.7010230060165699\n",
      "0.7571448108432116\n",
      "0.7628977769916463\n",
      "0.7564706125139291\n",
      "0.7594799665134379\n",
      "0.7809729351617452\n",
      "0.7692477892744362\n",
      "0.7702642437482747\n",
      "0.5767147831050022\n",
      "0.7636208094489036\n",
      "0.7605358069557568\n",
      "0.7470290743632766\n",
      "0.7693479586203134\n",
      "0.7454044625402965\n",
      "0.7468900959422355\n",
      "0.7306317357269889\n",
      "0.6797382291954442\n",
      "0.7456774659871248\n",
      "0.7586787879719294\n",
      "0.7571548258879218\n",
      "0.7499545326740124\n",
      "0.737488451154046\n",
      "0.7335670301929715\n",
      "0.7595159097443185\n",
      "0.772369251470745\n",
      "0.6629788448488814\n",
      "0.7145863751533267\n",
      "0.7731566310919717\n",
      "0.7111815789077662\n",
      "0.7492403633320017\n",
      "0.5807869814176605\n",
      "0.7570312336393967\n",
      "0.5891955453574895\n",
      "0.7441858725525188\n",
      "0.7767487131335975\n",
      "0.7119492267515878\n",
      "0.7386551657975229\n",
      "0.5900349620925973\n",
      "0.6753072897864598\n",
      "0.6853752062365983\n",
      "0.5724995577370641\n",
      "0.7519701468675826\n",
      "0.7252183453172644\n",
      "0.7499545326740124\n",
      "0.7443586567718832\n",
      "0.7547032863647998\n",
      "0.584292671736899\n",
      "0.5762918645369302\n",
      "0.767969876921964\n",
      "0.584292671736899\n",
      "0.7286653132303739\n",
      "0.5123217621621858\n",
      "0.5879837346256183\n",
      "0.7062049911719795\n",
      "0.5110855690323766\n",
      "0.6173720891102737\n",
      "0.747771491407478\n",
      "0.7384187701158431\n",
      "0.7441858725525188\n",
      "0.76293298035109\n",
      "0.6797909539898066\n",
      "0.7585080263508919\n",
      "0.5724995577370641\n",
      "0.544124993609421\n",
      "0.7504006510555523\n",
      "0.7661555200703722\n",
      "0.7175526574942793\n",
      "0.6788859729410153\n",
      "0.7387016458972123\n",
      "0.7686760862563369\n",
      "0.751756676730213\n",
      "0.7716864184243178\n",
      "0.7449672059151854\n",
      "0.6812782808465253\n",
      "0.5812505968077692\n",
      "0.7468900959422355\n",
      "0.7063021869104704\n",
      "0.6729029586238544\n",
      "0.5590919275344173\n",
      "0.5762918645369302\n",
      "0.744247383282836\n",
      "0.7402999560996912\n",
      "0.6797909539898066\n",
      "0.7633134227970362\n",
      "0.584292671736899\n",
      "0.5922332575295298\n",
      "0.5895686683001795\n",
      "0.7348480170825997\n",
      "0.6700988816019597\n",
      "0.7606945683633264\n",
      "0.7668724939529143\n",
      "0.7246878876060138\n",
      "0.737488451154046\n",
      "0.7590170360846603\n",
      "0.7331158039243189\n",
      "0.7306317357269889\n",
      "0.7681132522683601\n",
      "0.733731586661309\n",
      "0.7481477725168575\n",
      "0.754940351836275\n",
      "0.7405246281781119\n",
      "0.5077460925220876\n",
      "0.5011089100624115\n",
      "0.5574576527108244\n",
      "0.5800798443301842\n",
      "0.7337564488496133\n",
      "0.5895686683001795\n",
      "0.7062542971837974\n",
      "0.5590919275344173\n",
      "0.7454752824392957\n",
      "0.7290672934417475\n",
      "0.6797382291954442\n",
      "0.7437689381164552\n",
      "0.7602207456042931\n",
      "0.7504006510555523\n",
      "0.7764409155146426\n",
      "0.7531860787886593\n",
      "0.7206226055619134\n",
      "0.7407058638337968\n",
      "0.752632227927736\n",
      "0.5151350997494054\n",
      "0.7215677697736922\n",
      "0.5891955453574895\n",
      "0.6791940685008921\n",
      "0.7465691301850299\n",
      "0.7460559797790942\n",
      "0.7643261384777013\n",
      "0.7545256454190209\n",
      "0.741671347013992\n",
      "0.5891955453574895\n",
      "0.5946975227988478\n",
      "0.5809102136492412\n",
      "0.7010230060165699\n",
      "0.5895686683001795\n",
      "0.5764503284940196\n",
      "0.69709048238322\n",
      "0.7623728609872921\n",
      "0.7668724939529143\n",
      "0.5762918645369302\n",
      "0.5946975227988478\n",
      "0.7642700683747374\n",
      "0.7579152344409867\n",
      "0.7404991585641449\n",
      "0.6858979724522634\n",
      "0.5946975227988478\n",
      "0.7580032319431278\n",
      "0.5882619029585566\n",
      "0.7571548258879218\n",
      "0.7602039255705783\n",
      "0.7617687045854531\n",
      "0.7481477725168575\n",
      "0.7413483149952251\n",
      "0.7554554525369392\n",
      "0.7543509683668101\n",
      "0.5807869814176605\n",
      "0.7667391194265075\n",
      "0.7167114568487325\n",
      "0.7674986499632136\n",
      "0.6881178076086453\n",
      "0.7384187701158431\n",
      "0.7290672934417475\n",
      "0.7510495432917215\n",
      "0.7252183453172644\n",
      "0.6797382291954442\n",
      "0.5576916378230484\n",
      "0.7144738667685069\n",
      "0.7446621809425163\n",
      "0.5724995577370641\n",
      "0.7460559797790942\n",
      "0.7629329803510899\n",
      "0.4967570865756643\n",
      "0.7610227086841352\n",
      "0.5900349620925973\n",
      "0.7662463288773911\n",
      "0.7388427603767364\n",
      "0.7502553933568421\n",
      "0.7294869936393005\n",
      "0.5724995577370641\n",
      "0.6858979724522634\n",
      "0.7378863119030027\n",
      "0.5122556828735917\n",
      "0.5969801809208133\n",
      "0.5574469937924236\n",
      "0.6787438297553232\n",
      "0.5574576527108244\n",
      "0.5767147831050022\n",
      "0.7602039255705783\n",
      "0.6704324346563864\n",
      "0.7120538327636279\n",
      "0.7231222658994761\n",
      "0.7670946197115509\n",
      "0.7590943073376004\n",
      "0.5879837346256183\n",
      "0.7294869936393005\n",
      "0.7505832886082879\n",
      "0.6731679590622207\n",
      "0.7579089838585691\n",
      "0.7535822015267474\n",
      "0.7498441507448702\n",
      "0.7038373640024058\n",
      "0.7406449947540207\n",
      "0.7492206339282748\n",
      "0.5946975227988478\n",
      "0.7333983348037758\n",
      "0.5506907904675811\n",
      "0.749614817028631\n",
      "0.7252183453172644\n",
      "0.6797382291954442\n",
      "0.5891955453574895\n",
      "0.6729029586238544\n",
      "0.6791940685008921\n",
      "0.7119075516607931\n",
      "0.7739297300467849\n",
      "0.6797909539898066\n",
      "0.6699307741063061\n",
      "0.7571548258879218\n",
      "0.5640274546606998\n",
      "0.7435942543875596\n",
      "0.7542219883594554\n",
      "0.5882619029585566\n",
      "0.73318739227255\n",
      "0.5809102136492412\n",
      "0.5151125996909762\n",
      "0.7628586919445546\n",
      "0.6791940685008921\n",
      "0.7386328663693864\n",
      "0.7541532053103999\n",
      "0.7499545326740124\n",
      "0.7406449947540207\n",
      "0.7393997531861984\n",
      "0.5762918645369302\n",
      "0.7595789959014688\n",
      "0.7549505300316991\n",
      "0.7625244932213797\n",
      "0.5812505968077692\n",
      "0.7522123442010502\n",
      "0.5891955453574895\n",
      "0.5812505968077692\n",
      "0.704236825302738\n",
      "0.5891955453574895\n",
      "0.5882619029585566\n",
      "0.5486973868574181\n",
      "0.6788859729410153\n",
      "0.5764503284940196\n",
      "0.6858979724522634\n",
      "0.7111815789077662\n",
      "0.7062544378094144\n",
      "0.5946975227988478\n",
      "0.5969801809208133\n",
      "0.6629788448488814\n",
      "0.5974175387717684\n",
      "0.7602039255705783\n",
      "0.6729029586238544\n",
      "0.7653161474135317\n",
      "0.7653053100663304\n",
      "0.7732499324782935\n",
      "0.7441858725525188\n",
      "0.5608276659227349\n",
      "0.7642452151028409\n",
      "0.7435942543875596\n",
      "0.7632561129281423\n",
      "0.7119075516607931\n",
      "0.7274802800297181\n",
      "0.584292671736899\n",
      "0.7119075516607931\n",
      "0.7062049911719795\n",
      "0.7615354277362875\n",
      "0.7573231097846385\n",
      "0.5922332575295298\n",
      "0.6629788448488814\n",
      "0.6704324346563864\n",
      "0.7441858725525188\n",
      "0.7284180175288673\n",
      "0.7405246281781119\n",
      "0.7492403633320017\n",
      "0.7252183453172644\n",
      "0.5974175387717684\n",
      "0.584292671736899\n",
      "0.5882619029585566\n",
      "0.733731586661309\n",
      "0.5969801809208133\n",
      "0.7038373640024058\n",
      "0.7335670301929715\n",
      "0.5879837346256183\n",
      "0.7662717303401992\n",
      "0.7144738667685069\n",
      "0.759372753777865\n",
      "0.6853752062365983\n",
      "0.69709048238322\n",
      "0.5762918645369302\n",
      "0.7079596280564683\n",
      "0.7685711576103528\n",
      "0.7567057273109686\n",
      "0.7521414536919236\n",
      "0.5974175387717684\n",
      "0.6788859729410153\n",
      "0.5974175387717684\n",
      "0.7624276168608665\n",
      "0.6853752062365983\n",
      "0.5764503284940196\n",
      "0.5767147831050022\n",
      "0.7615446161058641\n",
      "0.5800798443301842\n",
      "0.5882619029585566\n",
      "0.7579089838585691\n",
      "0.7323606933009251\n",
      "0.5895686683001795\n",
      "0.7131617993556615\n",
      "0.7294869936393005\n",
      "0.741671347013992\n",
      "0.5974175387717684\n",
      "0.7441858725525188\n",
      "0.7522123442010502\n",
      "0.7642428604885301\n"
     ]
    },
    {
     "name": "stdout",
     "output_type": "stream",
     "text": [
      "0.5633728824251352\n",
      "0.7406449947540207\n",
      "0.7252183453172644\n",
      "0.5607457512481041\n",
      "0.7145863751533267\n",
      "0.5574576527108244\n",
      "0.7648662980482828\n",
      "0.7284180175288673\n",
      "0.7246878876060138\n",
      "0.7538947655442216\n",
      "0.6858979724522634\n",
      "0.7034433491942513\n",
      "0.7211341850703037\n",
      "0.5469610443469163\n",
      "0.5879837346256183\n",
      "0.7310594947698761\n",
      "0.7660496222181304\n",
      "0.7560405013068735\n",
      "0.7505534786992389\n",
      "0.767969876921964\n",
      "0.5882619029585566\n",
      "0.7333983348037758\n",
      "0.5882619029585566\n",
      "0.5800798443301842\n",
      "0.7119492267515878\n",
      "0.7062049911719795\n",
      "0.6729029586238544\n",
      "0.7131617993556615\n",
      "0.7636742836978112\n",
      "0.5882619029585566\n",
      "0.7441858725525188\n",
      "0.5807869814176605\n",
      "0.7286653132303739\n",
      "0.5800798443301842\n",
      "0.7407058638337968\n",
      "0.7618175627852596\n",
      "0.5147729468054624\n",
      "0.7481477725168575\n",
      "0.5974175387717684\n",
      "0.740442003372735\n",
      "0.5800798443301842\n",
      "0.7614340826009695\n",
      "0.5807869814176605\n",
      "0.5946975227988478\n",
      "0.5080200959694623\n",
      "0.7062542971837974\n",
      "0.7079596280564683\n",
      "0.7628977769916463\n",
      "0.7333983348037758\n",
      "0.5548234858544188\n",
      "0.5594585794705098\n",
      "0.7038373640024058\n",
      "0.7059014119496053\n",
      "0.5809102136492412\n",
      "0.6881178076086453\n",
      "0.5490165204834774\n",
      "0.5891955453574895\n",
      "0.6729029586238544\n",
      "0.7613545509665046\n",
      "0.7732564823085196\n",
      "0.5879837346256183\n",
      "0.7284180175288673\n",
      "0.5895686683001795\n",
      "0.6797382291954442\n",
      "0.7457123145581448\n",
      "0.7348480170825997\n",
      "0.6791940685008921\n",
      "0.6731679590622207\n",
      "0.7590170360846603\n",
      "0.749614817028631\n",
      "0.5900349620925973\n",
      "0.7413483149952251\n",
      "0.7495257035318393\n",
      "0.7535822015267474\n",
      "0.7630381401762705\n",
      "0.5895686683001795\n",
      "0.5115850642728912\n",
      "0.5574576527108244\n",
      "0.7232457050239681\n",
      "0.5764503284940196\n",
      "0.5812505968077692\n",
      "0.7554554525369392\n",
      "0.5528850200669393\n",
      "0.7667439233775735\n",
      "0.5682705456894483\n",
      "0.7774932207267164\n",
      "0.7335970454124859\n",
      "0.7586787879719294\n",
      "0.7743366007335176\n",
      "0.6228485920279098\n",
      "0.5764503284940196\n",
      "0.7119075516607931\n",
      "0.754940351836275\n",
      "0.5882619029585566\n",
      "0.7331158039243189\n",
      "0.7716832751515091\n",
      "0.7680527159476336\n",
      "0.7348480170825997\n",
      "0.5974175387717684\n",
      "0.5682705456894483\n",
      "0.7145863751533267\n",
      "0.7571548258879218\n",
      "0.5974175387717684\n",
      "0.7306317357269889\n",
      "0.5974175387717684\n",
      "0.7618175627852596\n",
      "0.7388427603767364\n",
      "0.7678999225732183\n",
      "0.7388427603767364\n",
      "0.77138405326493\n",
      "0.7638914581208933\n",
      "0.7729963883156495\n",
      "0.7492403633320017\n",
      "0.76293298035109\n",
      "0.6791940685008921\n",
      "0.7720084758958816\n",
      "0.7547032863647998\n",
      "0.7526283454552978\n",
      "0.5900349620925973\n",
      "0.7038373640024058\n",
      "0.6788859729410153\n",
      "0.7337564488496133\n",
      "0.7274802800297181\n",
      "0.5764503284940196\n",
      "0.7743386674673244\n",
      "0.7492206339282748\n",
      "0.5974175387717684\n",
      "0.755564215995999\n",
      "0.7621208190199288\n",
      "0.6858979724522634\n",
      "0.7184675521510406\n",
      "0.7306317357269889\n",
      "0.7451469886096788\n",
      "0.7504006510555523\n",
      "0.7580889154777499\n",
      "0.7629227658915565\n",
      "0.7586846983262621\n",
      "0.5594268115032761\n",
      "0.737488451154046\n",
      "0.5576916378230484\n",
      "0.7062049911719795\n",
      "0.5767147831050021\n",
      "0.5969801809208133\n",
      "0.7654002735717618\n",
      "0.7391700339821207\n",
      "0.5974175387717684\n",
      "0.741671347013992\n",
      "0.5969801809208133\n",
      "0.7605358069557568\n",
      "0.5882619029585566\n",
      "0.75539713682291\n",
      "0.7730479652778254\n",
      "0.7131617993556615\n",
      "0.5812505968077692\n",
      "0.7548965902090625\n",
      "0.5629341330179666\n",
      "0.7577973312253299\n",
      "0.5503422914596574\n",
      "0.7678476246325671\n",
      "0.754940351836275\n",
      "0.6787438297553232\n",
      "0.5807869814176605\n",
      "0.5574576527108244\n",
      "0.6699307741063061\n",
      "0.5764503284940196\n",
      "0.6791940685008921\n",
      "0.5764503284940196\n",
      "0.7277962379377025\n",
      "0.7062544378094144\n",
      "0.6700988816019597\n",
      "0.5764503284940196\n",
      "0.704236825302738\n",
      "0.5764503284940196\n",
      "0.7652775286466063\n",
      "0.7335670301929715\n",
      "0.7543509683668101\n",
      "0.7451343831441987\n",
      "0.7615330253530848\n",
      "0.6812782808465253\n",
      "0.6853752062365983\n",
      "0.7457123145581448\n",
      "0.7206226055619134\n",
      "0.6731679590622207\n",
      "0.7131617993556615\n",
      "0.5574576527108244\n",
      "0.7572324787889325\n",
      "0.5969801809208133\n",
      "0.7388427603767364\n",
      "0.5591673044404948\n",
      "0.5428763959045169\n",
      "0.7441858725525188\n",
      "0.6729029586238544\n",
      "0.7430157404751048\n",
      "0.5969801809208133\n",
      "0.744247383282836\n",
      "0.7169992318427127\n",
      "0.7557728090671716\n",
      "0.5764503284940196\n",
      "0.7470290743632766\n",
      "0.5812505968077692\n",
      "0.5800798443301842\n",
      "0.5724995577370641\n",
      "0.751756676730213\n",
      "0.73318739227255\n",
      "0.7310594947698761\n",
      "0.7232824570497489\n",
      "0.7691520488269714\n",
      "0.7502488386440429\n",
      "0.5809102136492412\n",
      "0.73318739227255\n",
      "0.5809102136492412\n",
      "0.7456774659871248\n",
      "0.7668441412240663\n",
      "0.6788859729410153\n",
      "0.7291898451703493\n",
      "0.7294869936393005\n",
      "0.5882619029585566\n",
      "0.7743161165120436\n",
      "0.7323606933009251\n",
      "0.7306317357269889\n",
      "0.6858979724522634\n",
      "0.7492403633320017\n",
      "0.5682705456894483\n",
      "0.7689332728613499\n",
      "0.7735935072225298\n",
      "0.7554554525369392\n",
      "0.73318739227255\n",
      "0.7660496222181304\n",
      "0.5163854852445471\n",
      "0.7470290743632766\n",
      "0.6730991620597173\n",
      "0.737488451154046\n",
      "0.7580889154777499\n",
      "0.5895686683001795\n",
      "0.7608848245236925\n",
      "0.5974175387717684\n",
      "0.775159774152743\n",
      "0.7624415859974212\n",
      "0.6858979724522634\n",
      "0.5807869814176605\n",
      "0.5762918645369302\n",
      "0.7384187701158431\n",
      "0.7119492267515878\n",
      "0.5969801809208133\n",
      "0.7652775286466063\n",
      "0.5922332575295298\n",
      "0.7647619780784796\n",
      "0.7184675521510406\n",
      "0.6670048347548846\n",
      "0.5682705456894483\n",
      "0.74129930097909\n",
      "0.6753072897864598\n",
      "0.7169992318427127\n",
      "0.7567600624245628\n",
      "0.6731917782557195\n",
      "0.7602039255705783\n",
      "0.7277962379377025\n",
      "0.6797909539898066\n",
      "0.5969801809208133\n",
      "0.7038373640024058\n",
      "0.5762918645369302\n",
      "0.5946975227988478\n",
      "0.5891955453574895\n",
      "0.5882619029585566\n",
      "0.7063021869104704\n",
      "0.7323606933009251\n",
      "0.74129930097909\n",
      "0.7501996642432431\n",
      "0.5554122304694546\n",
      "0.7641605796368354\n",
      "0.5809102136492412\n",
      "0.7441858725525188\n",
      "0.5891955453574895\n",
      "0.7211341850703037\n",
      "0.7623569037998738\n",
      "0.5682705456894483\n",
      "0.5554122304694546\n",
      "0.7063021869104704\n",
      "0.7206226055619134\n",
      "0.7184675521510406\n",
      "0.7384187701158431\n",
      "0.7667391194265075\n",
      "0.5895686683001795\n",
      "0.7573231097846385\n",
      "0.7572324787889325\n",
      "0.7577973312253299\n",
      "0.7111815789077662\n",
      "0.7079596280564683\n",
      "0.7430157404751048\n",
      "0.7501996642432431\n",
      "0.7175526574942793\n",
      "0.7277962379377025\n",
      "0.7010230060165699\n",
      "0.5969801809208133\n",
      "0.5946975227988478\n",
      "0.5553270241757813\n",
      "0.7499545326740124\n",
      "0.7605235475504161\n",
      "0.7498441507448702\n",
      "0.7435942543875596\n",
      "0.5946975227988478\n",
      "0.584292671736899\n",
      "0.5882619029585566\n",
      "0.5900349620925973\n",
      "0.7628586919445546\n",
      "0.7119492267515878\n",
      "0.556528106317753\n",
      "0.7624169489883115\n",
      "0.7384187701158431\n",
      "0.6853752062365983\n",
      "0.7233477457158844\n",
      "0.7062049911719795\n",
      "0.6829107859906598\n",
      "0.6858979724522634\n",
      "0.5969801809208133\n",
      "0.5764503284940196\n",
      "0.7706716401762772\n",
      "0.6787438297553232\n",
      "0.584292671736899\n",
      "0.5974175387717684\n",
      "0.7452541319944992\n",
      "0.7686207486130809\n",
      "0.5682705456894483\n",
      "0.5807869814176605\n",
      "0.7470290743632766\n",
      "0.7560405013068735\n",
      "0.7531860787886593\n",
      "0.5574576527108244\n",
      "0.7613794008874215\n",
      "0.5946975227988478\n",
      "0.733597045412486\n",
      "0.5882619029585566\n",
      "0.5882619029585566\n",
      "0.5800798443301842\n",
      "0.7232457050239681\n",
      "0.7615446161058641\n",
      "0.6791940685008921\n",
      "0.728604422283142\n",
      "0.6788859729410153\n",
      "0.765533058205166\n",
      "0.5974175387717684\n",
      "0.7361778752883996\n",
      "0.5682705456894483\n",
      "0.6629788448488814\n",
      "0.7518908438338558\n",
      "0.5922332575295298\n",
      "0.7167114568487325\n",
      "0.7119492267515878\n",
      "0.6858979724522634\n",
      "0.7233477457158844\n",
      "0.7206226055619134\n",
      "0.5646365042541556\n",
      "0.5922332575295298\n",
      "0.5895686683001795\n",
      "0.5490165204834774\n",
      "0.5568086214650534\n",
      "0.704236825302738\n",
      "0.7120538327636279\n",
      "0.5554430641780029\n",
      "0.7423241587383047\n",
      "0.7475830687908431\n",
      "0.7529422494855116\n",
      "0.6731917782557195\n",
      "0.5812505968077692\n",
      "0.5807869814176605\n",
      "0.6829107859906598\n",
      "0.7572324787889325\n",
      "0.7384187701158431\n",
      "0.7348480170825997\n",
      "0.584292671736899\n",
      "0.5879837346256183\n",
      "0.5800798443301842\n",
      "0.7393997531861984\n",
      "0.5591225382545049\n",
      "0.5724995577370641\n",
      "0.7649444000422194\n",
      "0.5546598834764389\n",
      "0.7457123145581448\n",
      "0.7645448524753701\n",
      "0.7167114568487325\n",
      "0.5682705456894483\n",
      "0.7570312336393967\n",
      "0.7662282828925198\n",
      "0.5682705456894483\n",
      "0.7729888591789642\n",
      "0.5529240000787734\n",
      "0.7306317357269889\n",
      "0.6700988816019597\n",
      "0.7306317357269889\n",
      "0.584292671736899\n",
      "0.5879837346256183\n",
      "0.563011120195729\n",
      "0.5974175387717684\n",
      "0.7674986499632136\n",
      "0.7526283454552978\n",
      "0.7585080263508919\n",
      "0.6812782808465253\n",
      "0.7662717303401992\n",
      "0.7457123145581448\n",
      "0.5974175387717684\n",
      "0.7664122425576014\n",
      "0.5812505968077692\n",
      "0.7252183453172644\n",
      "0.46082906591264705\n",
      "0.5682705456894483\n",
      "0.584292671736899\n",
      "0.7306317357269889\n",
      "0.5807869814176605\n",
      "0.5922332575295298\n",
      "0.6858979724522634\n",
      "0.5809102136492412\n",
      "0.6470409065673091\n",
      "0.5764503284940196\n",
      "0.733731586661309\n",
      "0.7361778752883996\n",
      "0.5879837346256183\n",
      "0.7531300630096376\n",
      "0.5535135799110276\n",
      "0.7063021869104704\n",
      "0.6787438297553232\n",
      "0.5087669149198927\n",
      "0.5812505968077692\n",
      "0.5946975227988478\n",
      "0.7502553933568421\n",
      "0.5807869814176605\n",
      "0.7431022193631044\n",
      "0.5879837346256183\n",
      "0.7059014119496053\n",
      "0.7361875789997798\n",
      "0.5682705456894483\n",
      "0.6797909539898066\n",
      "0.7531300630096376\n",
      "0.7505832886082879\n",
      "0.5900349620925973\n",
      "0.5895686683001795\n",
      "0.6858979724522634\n",
      "0.7120538327636279\n",
      "0.7306317357269889\n",
      "0.6788859729410153\n",
      "0.5764503284940196\n",
      "0.5900349620925973\n",
      "0.7594799665134379\n",
      "0.5882619029585566\n",
      "0.6788859729410153\n",
      "0.5895686683001795\n",
      "0.5574576527108244\n",
      "0.7059014119496053\n",
      "0.555443064178003\n",
      "0.7560405013068735\n",
      "0.7769819821911577\n",
      "0.7698612146242402\n",
      "0.7404991585641449\n",
      "0.5724995577370641\n",
      "0.5762918645369302\n",
      "0.46985270151080905\n",
      "0.5895686683001795\n",
      "0.73318739227255\n",
      "0.7387016458972123\n",
      "0.728604422283142\n",
      "0.5900349620925973\n",
      "0.5807869814176605\n",
      "0.5807869814176605\n",
      "0.5812505968077692\n",
      "0.5762918645369302\n",
      "0.7323606933009251\n",
      "0.7564706125139291\n",
      "0.7602039255705783\n",
      "0.5882619029585566\n",
      "0.5469610443469163\n",
      "0.7175526574942793\n",
      "0.5574469937924238\n",
      "0.6858979724522634\n",
      "0.6829107859906598\n",
      "0.7564019216569727\n",
      "0.6853752062365983\n",
      "0.5724995577370641\n",
      "0.7544287863594237\n",
      "0.7062542971837974\n",
      "0.5891955453574895\n",
      "0.5812505968077692\n",
      "0.7617687045854532\n",
      "0.7323606933009251\n",
      "0.5900349620925973\n",
      "0.728604422283142\n",
      "0.7232457050239681\n",
      "0.6812782808465253\n",
      "0.7475830687908431\n",
      "0.7451343831441987\n",
      "0.7642700683747374\n",
      "0.7732564823085196\n",
      "0.7535822015267474\n",
      "0.7736035456400867\n",
      "0.5895686683001795\n",
      "0.741671347013992\n",
      "0.6829107859906598\n",
      "0.5468318239539882\n",
      "0.7169992318427127\n",
      "0.7402999560996912\n",
      "0.7306317357269889\n",
      "0.6829107859906598\n",
      "0.5969801809208133\n",
      "0.7465691301850299\n",
      "0.6729029586238544\n",
      "0.6788859729410153\n",
      "0.5724995577370641\n",
      "0.7215677697736922\n",
      "0.6729029586238544\n",
      "0.7791363193407275\n",
      "0.7540393067140667\n",
      "0.5807869814176605\n",
      "0.7451343831441987\n",
      "0.7169992318427127\n",
      "0.5812505968077692\n",
      "0.6753072897864598\n",
      "0.6787438297553232\n",
      "0.5800798443301842\n",
      "0.7062542971837974\n",
      "0.69709048238322\n",
      "0.7232824570497489\n",
      "0.7010230060165699\n",
      "0.5762918645369302\n",
      "0.7605325199773307\n",
      "0.7063021869104704\n",
      "0.7380697630485039\n",
      "0.7470290743632766\n",
      "0.6729029586238544\n",
      "0.5488471794734372\n",
      "0.737488451154046\n",
      "0.5974175387717684\n",
      "0.7490029638349472\n",
      "0.584292671736899\n",
      "0.7111815789077662\n",
      "0.7495257035318393\n",
      "0.5682705456894483\n",
      "0.5879837346256183\n",
      "0.7407058638337968\n",
      "0.5807869814176605\n",
      "0.7059014119496053\n",
      "0.7144738667685069\n",
      "0.5891955453574895\n",
      "0.5553611054883736\n",
      "0.5486803545028549\n",
      "0.5946975227988478\n",
      "0.7678388050283931\n",
      "0.5807869814176605\n",
      "0.7110223510428871\n",
      "0.7211341850703037\n",
      "0.6797909539898066\n",
      "0.7169992318427127\n",
      "0.5946975227988478\n",
      "0.7508333690525426\n",
      "0.7294869936393005\n",
      "0.5879837346256183\n",
      "0.5724995577370641\n",
      "0.5764503284940196\n",
      "0.5812505968077692\n",
      "0.5167238527523852\n",
      "0.7451469886096788\n",
      "0.5574576527108244\n",
      "0.5946975227988478\n",
      "0.7038373640024058\n",
      "0.7708498093151932\n",
      "0.6731917782557195\n",
      "0.5879837346256183\n",
      "0.728604422283142\n",
      "0.7594799665134379\n",
      "0.7316429453989772\n",
      "0.7430157404751048\n",
      "0.7502488386440428\n",
      "0.7456774659871248\n",
      "0.7446621809425163\n",
      "0.5724995577370641\n",
      "0.5969801809208133\n",
      "0.6853752062365983\n",
      "0.7145863751533267\n",
      "0.7167114568487325\n",
      "0.5597198309840008\n",
      "0.75539713682291\n",
      "0.7624169489883115\n",
      "0.5969801809208133\n",
      "0.5724995577370641\n",
      "0.5812505968077692\n",
      "0.7577973312253299\n",
      "0.5969801809208133\n",
      "0.6797909539898066\n",
      "0.7596031945759248\n",
      "0.5807869814176605\n",
      "0.5764503284940196\n",
      "0.7629224886414052\n",
      "0.7063021869104704\n",
      "0.7291898451703493\n",
      "0.5807869814176605\n",
      "0.5879837346256183\n",
      "0.5922332575295298\n",
      "0.584292671736899\n",
      "0.5969801809208133\n",
      "0.5879837346256183\n",
      "0.5882619029585566\n",
      "0.5969801809208133\n",
      "0.5946975227988478\n",
      "0.5767147831050021\n",
      "0.6729029586238544\n",
      "0.5891955453574895\n",
      "0.5800798443301842\n",
      "0.5724995577370641\n",
      "0.5762918645369302\n",
      "0.5764503284940196\n",
      "0.5682705456894483\n",
      "0.5764503284940196\n",
      "0.7451343831441987\n",
      "0.560827665922735\n",
      "0.7770588538447498\n",
      "0.6812782808465253\n",
      "0.5879837346256183\n",
      "0.5767147831050021\n",
      "0.5807869814176605\n",
      "0.7590170360846603\n",
      "0.7660815754611741\n",
      "0.5764503284940196\n",
      "0.5946975227988478\n",
      "0.5891955453574895\n",
      "0.5922332575295298\n",
      "0.7388427603767364\n",
      "0.5682705456894483\n",
      "0.5767147831050022\n",
      "0.5724995577370641\n",
      "0.6858979724522634\n",
      "0.7175526574942793\n",
      "0.7034433491942513\n",
      "0.5969801809208133\n",
      "0.7335670301929715\n",
      "0.6797382291954442\n",
      "0.6700988816019597\n",
      "0.5922332575295298\n",
      "0.5946975227988478\n",
      "0.5724995577370641\n",
      "0.5682705456894483\n",
      "0.746025908553938\n",
      "0.5969801809208133\n",
      "0.5891955453574895\n",
      "0.7634349402219832\n",
      "0.7333983348037758\n",
      "0.5764503284940196\n",
      "0.7306317357269889\n",
      "0.7468900959422355\n",
      "0.7335970454124859\n",
      "0.6127373368436395\n",
      "0.7405246281781119\n",
      "0.7542755331482317\n",
      "0.5486433358168233\n",
      "0.5764503284940196\n",
      "0.5807869814176605\n",
      "0.7232824570497489\n",
      "0.5800798443301842\n",
      "0.5969801809208133\n",
      "0.7277962379377025\n",
      "0.5682705456894483\n",
      "0.7079596280564683\n",
      "0.5895686683001795\n",
      "0.5891955453574895\n",
      "0.5891955453574895\n",
      "0.5891955453574895\n",
      "0.5537362428809884\n",
      "0.5640274546606998\n",
      "0.5922332575295298\n",
      "0.5574576527108244\n",
      "0.5764503284940196\n",
      "0.584292671736899\n",
      "0.5764503284940196\n",
      "0.5922332575295298\n",
      "0.5591225382545049\n",
      "0.5946975227988478\n",
      "0.5764503284940196\n",
      "0.7391700339821207\n",
      "0.5762918645369302\n",
      "0.5922332575295298\n",
      "0.5682705456894483\n",
      "0.5800798443301842\n",
      "0.7062544378094144\n",
      "0.5567687973717645\n",
      "0.733731586661309\n",
      "0.5764503284940196\n",
      "0.7038373640024058\n",
      "0.7699006581676556\n",
      "0.5547024408130994\n",
      "0.5969801809208133\n",
      "0.5724995577370641\n",
      "0.7585080263508919\n",
      "0.7374745565336098\n",
      "0.5682705456894483\n",
      "0.584292671736899\n",
      "0.7059014119496053\n",
      "0.5969801809208133\n",
      "0.7402999560996912\n",
      "0.5764503284940196\n",
      "0.5764503284940196\n",
      "0.5800798443301842\n",
      "0.7391700339821207\n",
      "0.584292671736899\n",
      "0.5545669684737666\n",
      "0.5879837346256183\n",
      "0.778407025225409\n",
      "0.5879837346256183\n",
      "0.5809102136492412\n",
      "0.5574576527108244\n",
      "0.5895686683001795\n",
      "0.5809102136492412\n",
      "0.5800798443301842\n",
      "0.3900796556580197\n",
      "0.6797382291954442\n",
      "0.7631973689360473\n",
      "0.7435942543875596\n",
      "0.5900349620925973\n",
      "0.5764503284940196\n",
      "0.6534669471623438\n",
      "0.7361875789997798\n",
      "0.7063021869104704\n",
      "0.5812505968077692\n",
      "0.5636662616837065\n",
      "0.7335670301929715\n",
      "0.5900349620925973\n",
      "0.7144738667685069\n",
      "0.6853752062365983\n",
      "0.7689055145697619\n",
      "0.741671347013992\n",
      "0.7492403633320017\n",
      "0.7564169086864079\n",
      "0.723974698999605\n",
      "0.7405246281781119\n",
      "0.7079596280564683\n",
      "0.5545669684737666\n",
      "0.7290672934417475\n",
      "0.5527272195306654\n",
      "0.5974175387717684\n",
      "0.5946975227988478\n",
      "0.7062542971837975\n",
      "0.7120538327636279\n",
      "0.7286653132303739\n",
      "0.5682705456894483\n",
      "0.5800798443301842\n",
      "0.7586787879719294\n",
      "0.584292671736899\n",
      "0.704236825302738\n",
      "0.756527446711272\n",
      "0.5922332575295298\n",
      "0.6791940685008921\n",
      "0.5441249936094208\n",
      "0.7451469886096788\n",
      "0.6829107859906598\n",
      "0.6629788448488814\n",
      "0.754940351836275\n",
      "0.7564169086864079\n",
      "0.7079596280564683\n",
      "0.5724995577370641\n",
      "0.5809102136492412\n",
      "0.7543509683668101\n",
      "0.7232824570497489\n",
      "0.6731679590622207\n",
      "0.7697851042605205\n",
      "0.5809102136492412\n",
      "0.7167114568487325\n",
      "0.7557728090671716\n",
      "0.7567600624245628\n",
      "0.741671347013992\n",
      "0.6753072897864598\n",
      "0.7719283879287837\n",
      "0.5922332575295298\n",
      "0.69709048238322\n",
      "0.7167114568487325\n",
      "0.5879837346256183\n",
      "0.5574576527108244\n",
      "0.5767147831050021\n",
      "0.6853752062365983\n",
      "0.7167114568487325\n",
      "0.7231222658994761\n",
      "0.7404991585641449\n",
      "0.73318739227255\n",
      "0.7277962379377025\n",
      "0.5809102136492412\n",
      "0.7215677697736922\n",
      "0.754940351836275\n",
      "0.5597822511046844\n",
      "0.7498441507448702\n",
      "0.5800798443301842\n",
      "0.5879837346256183\n",
      "0.7169992318427127\n",
      "0.7290672934417475\n",
      "0.7286653132303739\n",
      "0.5969801809208133\n",
      "0.6791940685008921\n",
      "0.7605372021436756\n",
      "0.7405246281781119\n",
      "0.5895686683001795\n",
      "0.6791940685008921\n",
      "0.5809102136492412\n",
      "0.7038373640024058\n",
      "0.6731917782557195\n",
      "0.7119492267515878\n",
      "0.5969801809208133\n",
      "0.5800798443301842\n",
      "0.5922332575295298\n",
      "0.5879837346256183\n",
      "0.5535587421985062\n",
      "0.5879837346256183\n",
      "0.5895686683001795\n",
      "0.5809102136492412\n",
      "0.7110223510428871\n",
      "0.5900349620925973\n",
      "0.7564169086864079\n",
      "0.5807869814176605\n",
      "0.7652775286466063\n",
      "0.5882619029585566\n",
      "0.73318739227255\n",
      "0.5900349620925973\n",
      "0.6704324346563864\n",
      "0.5800798443301842\n",
      "0.6729029586238544\n",
      "0.5762918645369302\n",
      "0.5379083858970375\n",
      "0.5969801809208133\n",
      "0.5974175387717684\n",
      "0.7323606933009251\n",
      "0.741671347013992\n",
      "0.7063021869104704\n",
      "0.7119075516607931\n",
      "0.69709048238322\n",
      "0.7437689381164552\n",
      "0.7233477457158844\n",
      "0.5762918645369302\n",
      "0.76585586501495\n",
      "0.7602358142092364\n",
      "0.5064294002362733\n",
      "0.7572324787889325\n",
      "0.73318739227255\n",
      "0.7378863119030027\n",
      "0.5767147831050021\n",
      "0.5946975227988478\n",
      "0.7010230060165699\n",
      "0.7404991585641449\n",
      "0.5682705456894483\n",
      "0.5882619029585566\n",
      "0.7605358069557568\n",
      "0.5809102136492412\n",
      "0.5682705456894483\n",
      "0.5969801809208133\n",
      "0.7320973357701811\n",
      "0.6858979724522634\n",
      "0.7517989488731738\n",
      "0.5724995577370641\n",
      "0.5974175387717684\n",
      "0.7571548258879218\n",
      "0.7521414536919236\n",
      "0.584292671736899\n",
      "0.7062542971837974\n",
      "0.7570312336393967\n",
      "0.5767147831050022\n",
      "0.7585080263508919\n",
      "0.5724995577370641\n",
      "0.6138010003188372\n",
      "0.5900349620925973\n",
      "0.7062542971837974\n",
      "0.5891955453574895\n",
      "0.5882619029585566\n",
      "0.7062544378094144\n",
      "0.5879837346256183\n",
      "0.5922332575295298\n",
      "0.7294869936393005\n",
      "0.5882619029585566\n",
      "0.7184675521510406\n",
      "0.5900349620925973\n",
      "0.754940351836275\n",
      "0.5969801809208133\n",
      "0.5809102136492412\n",
      "0.5640210193291918\n",
      "0.5724995577370641\n",
      "0.5809102136492412\n",
      "0.5358328369575256\n",
      "0.5767147831050022\n",
      "0.5724995577370641\n",
      "0.5764503284940196\n",
      "0.5922332575295298\n",
      "0.5900349620925973\n",
      "0.5682705456894483\n",
      "0.6629788448488814\n",
      "0.7306317357269889\n",
      "0.5724995577370641\n",
      "0.5891955453574895\n",
      "0.6753072897864598\n",
      "0.5488471794734372\n",
      "0.5762918645369302\n",
      "0.6858979724522634\n",
      "0.5682705456894483\n",
      "0.5879837346256183\n",
      "0.5767147831050021\n",
      "0.5900349620925973\n",
      "0.5882619029585566\n",
      "0.6700988816019597\n",
      "0.7675355285998884\n",
      "0.5922332575295298\n",
      "0.7335970454124859\n",
      "0.6731917782557195\n",
      "0.5974175387717684\n",
      "0.7320973357701811\n",
      "0.7707600550128528\n",
      "0.7380697630485039\n",
      "0.7206226055619134\n",
      "0.5574576527108244\n",
      "0.7470290743632766\n",
      "0.5900349620925973\n",
      "0.5974175387717684\n",
      "0.5809102136492412\n",
      "0.5767147831050022\n",
      "0.7671685811906074\n",
      "0.5882619029585566\n",
      "0.5724995577370641\n",
      "0.7446621809425163\n",
      "0.5657191679629432\n",
      "0.5922332575295298\n",
      "0.6791940685008921\n",
      "0.5891955453574895\n",
      "0.7487500380594581\n",
      "0.5882619029585566\n",
      "0.584292671736899\n",
      "0.6881178076086453\n",
      "0.7567057273109686\n",
      "0.7702336856858323\n",
      "0.728604422283142\n",
      "0.539577307180501\n",
      "0.7386328663693864\n",
      "0.7063021869104704\n",
      "0.69709048238322\n",
      "0.5900349620925973\n",
      "0.733731586661309\n",
      "0.5879837346256183\n",
      "0.7231222658994761\n",
      "0.5440415925843323\n",
      "0.5879837346256183\n",
      "0.5467844868203282\n",
      "0.6797382291954442\n",
      "0.7120538327636279\n",
      "0.6704324346563864\n",
      "0.7274802800297181\n",
      "0.5800798443301842\n",
      "0.5767147831050022\n",
      "0.6812782808465253\n",
      "0.7590943073376004\n",
      "0.7590170360846603\n",
      "0.5882619029585566\n",
      "0.7380697630485039\n",
      "0.744247383282836\n",
      "0.6812782808465253\n",
      "0.6534669471623438\n",
      "0.7038373640024058\n",
      "0.7475830687908431\n",
      "0.5764503284940196\n",
      "0.7480690874458586\n",
      "0.7430157404751048\n",
      "0.5891955453574895\n",
      "0.7386551657975229\n",
      "0.5577308705532243\n",
      "0.5891955453574895\n",
      "0.7231222658994761\n",
      "0.6787438297553232\n",
      "0.7062049911719795\n",
      "0.7457123145581448\n",
      "0.5891955453574895\n",
      "0.7062544378094144\n",
      "0.7062542971837974\n",
      "0.7215677697736922\n",
      "0.7145863751533267\n",
      "0.5812505968077692\n",
      "0.7211341850703037\n",
      "0.7579152344409867\n",
      "0.5812505968077692\n",
      "0.7544287863594237\n",
      "0.7525251162989359\n",
      "0.69709048238322\n",
      "0.5809102136492412\n",
      "0.5974175387717684\n",
      "0.5767147831050022\n",
      "0.7378863119030027\n",
      "0.5809102136492412\n",
      "0.7252183453172644\n",
      "0.7335670301929715\n",
      "0.5762918645369302\n",
      "0.7517989488731738\n",
      "0.7131617993556615\n",
      "0.5812505968077692\n",
      "0.5574576527108244\n",
      "0.5969801809208133\n",
      "0.5812505968077692\n",
      "0.5764503284940196\n",
      "0.550690790467581\n",
      "0.704236825302738\n",
      "0.7542219883594554\n",
      "0.5764503284940196\n",
      "0.5682705456894483\n",
      "0.6704324346563864\n",
      "0.5895686683001795\n",
      "0.7470290743632766\n",
      "0.7702642437482747\n",
      "0.7645127897928639\n",
      "0.7079596280564683\n",
      "0.5764503284940196\n",
      "0.723974698999605\n",
      "0.5882619029585566\n",
      "0.5764503284940196\n",
      "0.7110223510428871\n",
      "0.5069545770311198\n",
      "0.5574576527108244\n",
      "0.740442003372735\n",
      "0.6829107859906598\n",
      "0.5969801809208133\n",
      "0.5809102136492412\n",
      "0.6700988816019597\n",
      "0.7423241587383047\n",
      "0.5895686683001795\n",
      "0.5682705456894483\n",
      "0.5483346672070526\n",
      "0.728604422283142\n",
      "0.5922332575295298\n",
      "0.5807869814176605\n",
      "0.5682705456894483\n",
      "0.5800798443301842\n",
      "0.5682705456894483\n",
      "0.5879837346256183\n",
      "0.5574576527108244\n",
      "0.7215677697736922\n",
      "0.7320973357701811\n",
      "0.7232457050239681\n",
      "0.5764503284940196\n",
      "0.5900349620925973\n",
      "0.7169992318427127\n",
      "0.6791940685008921\n",
      "0.6787438297553232\n",
      "0.7468900959422355\n",
      "0.5682705456894483\n",
      "0.7323606933009251\n",
      "0.5891955453574895\n",
      "0.5882619029585566\n",
      "0.5456717467019417\n",
      "0.5974175387717684\n",
      "0.5969801809208133\n",
      "0.5574576527108244\n",
      "0.7062049911719795\n",
      "0.7454752824392957\n",
      "0.5521639481644047\n",
      "0.7700317473506387\n",
      "0.7681294532290116\n",
      "0.5900349620925973\n",
      "0.5724995577370641\n",
      "0.7564019216569727\n",
      "0.5809102136492412\n",
      "0.7184675521510406\n",
      "0.740442003372735\n",
      "0.5969801809208133\n",
      "0.7063021869104704\n",
      "0.7144738667685069\n",
      "0.5503422914596572\n",
      "0.5922332575295298\n",
      "0.5574576527108244\n",
      "0.5767147831050022\n",
      "0.723974698999605\n",
      "0.6534669471623438\n",
      "0.7215677697736922\n",
      "0.5812505968077692\n",
      "0.7277962379377025\n",
      "0.737488451154046\n",
      "0.5900349620925973\n",
      "0.5879837346256183\n",
      "0.5724995577370641\n",
      "0.5574576527108244\n",
      "0.5800798443301842\n",
      "0.5574576527108244\n",
      "0.5891955453574895\n",
      "0.5974175387717684\n",
      "0.5800798443301842\n",
      "0.5891955453574895\n",
      "0.5764503284940196\n",
      "0.5682705456894483\n",
      "0.5879837346256183\n",
      "0.6829107859906598\n",
      "0.5809102136492412\n",
      "0.5762918645369302\n",
      "0.584292671736899\n",
      "0.7402999560996912\n",
      "0.584292671736899\n",
      "0.6731679590622207\n",
      "0.7145863751533267\n",
      "0.5895686683001795\n",
      "0.5969801809208133\n",
      "0.6753072897864598\n",
      "0.7120538327636279\n",
      "0.7335670301929715\n",
      "0.5682705456894483\n",
      "0.5974175387717684\n",
      "0.5809102136492412\n",
      "0.6787438297553232\n",
      "0.5882619029585566\n",
      "0.5762918645369302\n",
      "0.6731679590622207\n",
      "0.7233477457158844\n",
      "0.5762918645369302\n",
      "0.5334102804001906\n",
      "0.5197685690518518\n",
      "0.5800798443301842\n",
      "0.6797909539898066\n",
      "0.7294869936393005\n",
      "0.7277962379377025\n",
      "0.5882619029585566\n",
      "0.5547024408130998\n",
      "0.5767147831050021\n",
      "0.7613217974141672\n",
      "0.5812505968077692\n",
      "0.7499545326740124\n",
      "0.7333983348037758\n",
      "0.5724995577370641\n",
      "0.5807869814176605\n",
      "0.5724995577370641\n",
      "0.5882619029585566\n",
      "0.6812782808465253\n",
      "0.7505832886082879\n",
      "0.5574576527108244\n",
      "0.7629224886414052\n",
      "0.5974175387717684\n",
      "0.6731917782557195\n",
      "0.5891955453574895\n",
      "0.6787438297553232\n",
      "0.5762918645369302\n",
      "0.584292671736899\n",
      "0.7481477725168575\n",
      "0.5974175387717684\n",
      "0.6729029586238544\n",
      "0.5682705456894483\n",
      "0.5900349620925973\n",
      "0.5807869814176605\n",
      "0.5762918645369302\n",
      "0.6791940685008921\n",
      "0.5974175387717684\n",
      "0.7710753415831375\n",
      "0.5879837346256183\n",
      "0.5882619029585566\n",
      "0.5969801809208133\n",
      "0.5800798443301842\n",
      "0.6753072897864598\n",
      "0.6829107859906598\n",
      "0.5900349620925973\n",
      "0.5574576527108244\n",
      "0.7361778752883996\n",
      "0.7063021869104704\n",
      "0.5891955453574895\n",
      "0.5682705456894483\n",
      "0.7010230060165699\n",
      "0.5574576527108244\n",
      "0.7361778752883996\n"
     ]
    },
    {
     "name": "stdout",
     "output_type": "stream",
     "text": [
      "0.5564876262077356\n",
      "0.6858979724522634\n",
      "0.6787438297553232\n",
      "0.5762918645369302\n",
      "0.7534389133212537\n",
      "0.7494805276667833\n",
      "0.7386551657975229\n",
      "0.5724995577370641\n",
      "0.6788859729410153\n",
      "0.7131617993556615\n",
      "0.5767147831050021\n",
      "0.5969801809208133\n",
      "0.7120538327636279\n",
      "0.5762918645369302\n",
      "0.5946975227988478\n",
      "0.5882619029585566\n",
      "0.6797382291954442\n",
      "0.7110223510428871\n",
      "0.5682705456894483\n",
      "0.7144738667685069\n",
      "0.5767147831050021\n",
      "0.5900349620925973\n",
      "0.5767147831050021\n",
      "0.7038373640024058\n",
      "0.5800798443301842\n",
      "0.5682705456894483\n",
      "0.7675223456497439\n",
      "0.7290672934417475\n",
      "0.704236825302738\n",
      "0.7749502120566527\n",
      "0.7719980583255007\n",
      "0.7430157404751048\n",
      "0.7465691301850299\n",
      "0.7062544378094144\n",
      "0.5682705456894483\n",
      "0.7246878876060138\n",
      "0.7335970454124859\n",
      "0.7505832886082879\n",
      "0.5574576527108244\n",
      "0.6853752062365983\n",
      "0.7386551657975229\n",
      "0.7119075516607931\n",
      "0.7233477457158844\n",
      "0.7456774659871248\n",
      "0.6753072897864598\n",
      "0.5594347078110169\n",
      "0.584292671736899\n",
      "0.6699307741063061\n",
      "0.7470290743632766\n",
      "0.728604422283142\n",
      "0.7739092563092709\n",
      "0.6340444123683129\n",
      "0.7404991585641449\n",
      "0.7494805276667833\n",
      "0.5160666887651308\n",
      "0.764559043494351\n",
      "0.773215336147601\n",
      "0.7320973357701811\n",
      "0.751756676730213\n",
      "0.7131617993556615\n",
      "0.7387016458972123\n",
      "0.7231222658994761\n",
      "0.7062049911719795\n",
      "0.7554345302930096\n",
      "0.7441858725525188\n",
      "0.5946975227988478\n",
      "0.772538205792687\n",
      "0.7387016458972123\n",
      "0.7404991585641449\n",
      "0.6753072897864598\n",
      "0.7387016458972123\n",
      "0.7521414536919236\n",
      "0.7529422494855116\n",
      "0.6812782808465253\n",
      "0.5809102136492412\n",
      "0.7629224886414052\n",
      "0.7541532053103999\n",
      "0.7246878876060138\n",
      "0.7320973357701811\n",
      "0.563666261683706\n",
      "0.7145863751533267\n",
      "0.7232824570497489\n",
      "0.7437689381164552\n",
      "0.7451343831441987\n",
      "0.7710754932707751\n",
      "0.7721320055229971\n",
      "0.7540393067140667\n",
      "0.7757797422516106\n",
      "0.7291898451703493\n",
      "0.5395773071805011\n",
      "0.69709048238322\n",
      "0.4955092811459011\n",
      "0.7505832886082879\n",
      "0.7624169489883115\n",
      "0.7678476246325671\n",
      "0.7579089838585691\n",
      "0.7465691301850299\n",
      "0.7554345302930096\n",
      "0.7062049911719795\n",
      "0.7631573230792821\n",
      "0.5217753851974226\n",
      "0.6787438297553232\n",
      "0.5895686683001795\n",
      "0.7584155158473029\n",
      "0.5576499792897782\n",
      "0.5922332575295298\n",
      "0.5900349620925973\n",
      "0.7595789959014688\n",
      "0.5724995577370641\n",
      "0.7502488386440429\n",
      "0.5809102136492412\n",
      "0.5879837346256183\n",
      "0.5891955453574895\n",
      "0.7746829399147372\n",
      "0.6829107859906598\n",
      "0.7606333722973689\n",
      "0.7602358142092364\n",
      "0.5565123896493438\n",
      "0.5125277486690394\n",
      "0.6797382291954442\n",
      "0.7529986702657699\n",
      "0.5946975227988478\n",
      "0.6534669471623438\n",
      "0.7274802800297181\n",
      "0.5895686683001795\n",
      "0.733731586661309\n",
      "0.7611287749316035\n",
      "0.5682705456894483\n",
      "0.584292671736899\n",
      "0.5724995577370641\n",
      "0.584292671736899\n",
      "0.5440415925843323\n",
      "0.7531300630096376\n",
      "0.5682705456894483\n",
      "0.6699307741063061\n",
      "0.7063021869104704\n",
      "0.7294869936393005\n",
      "0.5764503284940196\n",
      "0.5974175387717684\n",
      "0.7579152344409867\n",
      "0.5882619029585566\n",
      "0.728604422283142\n",
      "0.5762918645369302\n",
      "0.6629788448488814\n",
      "0.584292671736899\n",
      "0.5800798443301842\n",
      "0.5164650837473995\n",
      "0.5891955453574895\n",
      "0.6729029586238544\n",
      "0.7571548258879218\n",
      "0.5646365042541557\n",
      "0.7564019216569727\n",
      "0.5591225382545049\n",
      "0.7320973357701811\n",
      "0.5900349620925973\n",
      "0.7215677697736922\n",
      "0.7111815789077662\n",
      "0.5807869814176605\n",
      "0.5682705456894483\n",
      "0.5900349620925973\n",
      "0.7494805276667833\n",
      "0.7678476246325671\n",
      "0.5189579865544248\n",
      "0.7337564488496133\n",
      "0.555910529600619\n",
      "0.7290672934417475\n",
      "0.6791940685008921\n",
      "0.728604422283142\n",
      "0.6797382291954442\n",
      "0.6788859729410153\n",
      "0.5946975227988478\n",
      "0.7310594947698761\n",
      "0.7144738667685069\n",
      "0.5946975227988478\n",
      "0.7564169086864079\n",
      "0.5807869814176605\n",
      "0.7131617993556615\n",
      "0.7384187701158431\n",
      "0.6797382291954442\n",
      "0.7567378991101334\n",
      "0.69709048238322\n",
      "0.5807869814176605\n",
      "0.5891955453574895\n",
      "0.7337564488496133\n",
      "0.5900349620925973\n",
      "0.7543509683668101\n",
      "0.6534669471623438\n",
      "0.5488471794734372\n",
      "0.7632078567790803\n",
      "0.54659790816737\n",
      "0.5882619029585566\n",
      "0.5974175387717684\n",
      "0.7079596280564683\n",
      "0.7294869936393005\n",
      "0.7430157404751048\n",
      "0.5724995577370641\n",
      "0.7110223510428871\n",
      "0.5764503284940196\n",
      "0.5974175387717684\n",
      "0.5485002678238402\n",
      "0.7119075516607931\n",
      "0.6791940685008921\n",
      "0.5764503284940196\n",
      "0.5879837346256183\n",
      "0.5764503284940196\n",
      "0.5682705456894483\n",
      "0.7402999560996912\n",
      "0.5946975227988478\n",
      "0.6791940685008921\n",
      "0.5762918645369302\n",
      "0.5379083858970364\n",
      "0.6797909539898066\n",
      "0.5879837346256183\n",
      "0.5809102136492412\n",
      "0.73318739227255\n",
      "0.7663620874706871\n",
      "0.5767147831050021\n",
      "0.5762918645369302\n",
      "0.5446383009898605\n",
      "0.5974175387717684\n",
      "0.5574576527108244\n",
      "0.5800798443301842\n",
      "0.7631973689360473\n",
      "0.7232457050239681\n",
      "0.7246878876060138\n",
      "0.5900349620925973\n",
      "0.5895686683001795\n",
      "0.6629788448488814\n",
      "0.5922332575295298\n",
      "0.7111815789077662\n",
      "0.7062049911719795\n",
      "0.7481477725168575\n",
      "0.5764503284940196\n",
      "0.7232824570497489\n",
      "0.5879837346256183\n",
      "0.7233477457158844\n",
      "0.5807869814176605\n",
      "0.69709048238322\n",
      "0.7320973357701811\n",
      "0.5895686683001795\n",
      "0.5724995577370641\n",
      "0.5634084532605934\n",
      "0.5891955453574895\n",
      "0.5682705456894483\n",
      "0.5969801809208133\n",
      "0.5895686683001795\n",
      "0.5724995577370641\n",
      "0.6629788448488814\n",
      "0.5767147831050022\n",
      "0.6753072897864598\n",
      "0.6729029586238544\n",
      "0.6788859729410153\n",
      "0.5882619029585566\n",
      "0.7232457050239681\n",
      "0.5891955453574895\n",
      "0.7215677697736922\n",
      "0.5812505968077692\n",
      "0.5922332575295298\n",
      "0.5974175387717684\n",
      "0.749614817028631\n",
      "0.6797382291954442\n",
      "0.5974175387717684\n",
      "0.7323606933009251\n",
      "0.7110223510428871\n",
      "0.7120538327636279\n",
      "0.6791940685008921\n",
      "0.7378863119030027\n",
      "0.6829107859906598\n",
      "0.7681642284004105\n",
      "0.6788859729410153\n",
      "0.7505534786992389\n",
      "0.6729029586238544\n",
      "0.5550019831976001\n",
      "0.7337564488496133\n",
      "0.5724995577370641\n",
      "0.6704324346563864\n",
      "0.7634349402219832\n",
      "0.7645285950215672\n",
      "0.7337564488496133\n",
      "0.741671347013992\n",
      "0.7602358142092364\n",
      "0.6788859729410153\n",
      "0.733731586661309\n",
      "0.7144738667685069\n",
      "0.7211341850703037\n",
      "0.7567057273109686\n",
      "0.7384187701158431\n",
      "0.7554345302930096\n",
      "0.5969801809208133\n",
      "0.5882619029585566\n",
      "0.5922332575295298\n",
      "0.6699307741063061\n",
      "0.7232457050239681\n",
      "0.7211341850703037\n",
      "0.75539713682291\n",
      "0.7062542971837974\n",
      "0.7534389133212537\n",
      "0.7553145466381573\n",
      "0.6797382291954442\n",
      "0.762087944819901\n",
      "0.5116942281721584\n",
      "0.7038373640024058\n",
      "0.5526024078851428\n",
      "0.69709048238322\n",
      "0.5891955453574895\n",
      "0.5974175387717684\n",
      "0.7404991585641449\n",
      "0.7294869936393005\n",
      "0.5969801809208133\n",
      "0.5800798443301842\n",
      "0.7498441507448702\n",
      "0.5587447704068462\n",
      "0.7120538327636279\n",
      "0.7079596280564683\n",
      "0.6729029586238544\n",
      "0.6791940685008921\n",
      "0.7386551657975229\n",
      "0.5922332575295298\n",
      "0.5879837346256183\n",
      "0.5969801809208133\n",
      "0.6670048347548846\n",
      "0.5969801809208133\n",
      "0.5900349620925973\n",
      "0.7119492267515878\n",
      "0.5574576527108244\n",
      "0.5969801809208133\n",
      "0.6858979724522634\n",
      "0.5807869814176605\n",
      "0.6731679590622207\n",
      "0.5812505968077692\n",
      "0.5767147831050021\n",
      "0.6881178076086453\n",
      "0.7206226055619134\n",
      "0.5587447704068462\n",
      "0.5812505968077692\n",
      "0.6753072897864598\n",
      "0.5764503284940196\n",
      "0.7595789959014688\n",
      "0.5472923784221458\n",
      "0.6731917782557195\n",
      "0.6797382291954442\n",
      "0.5800798443301842\n",
      "0.5900349620925973\n",
      "0.7378863119030027\n",
      "0.6787438297553232\n",
      "0.5423433630868661\n",
      "0.7119492267515878\n",
      "0.5724995577370641\n",
      "0.5946975227988478\n",
      "0.5895686683001795\n",
      "0.5900349620925973\n",
      "0.7470290743632766\n",
      "0.6853752062365983\n",
      "0.7636561741801493\n",
      "0.5891955453574895\n",
      "0.7120538327636279\n",
      "0.7624433928748156\n",
      "0.6729029586238544\n",
      "0.5974175387717684\n",
      "0.5800798443301842\n",
      "0.5724995577370641\n",
      "0.7175526574942793\n",
      "0.5895686683001795\n",
      "0.6730991620597173\n",
      "0.5483346672070526\n",
      "0.69709048238322\n",
      "0.584292671736899\n",
      "0.7645285950215672\n",
      "0.73318739227255\n",
      "0.7323606933009251\n",
      "0.7294869936393005\n",
      "0.7567057273109686\n",
      "0.6853752062365983\n",
      "0.5882619029585566\n",
      "0.6729029586238544\n",
      "0.5969801809208133\n",
      "0.5891955453574895\n",
      "0.6858979724522634\n",
      "0.7404991585641449\n",
      "0.7391700339821207\n",
      "0.7335670301929715\n",
      "0.7335670301929715\n",
      "0.5530541576668847\n",
      "0.7206226055619134\n",
      "0.5588334470732769\n",
      "0.7628977769916463\n",
      "0.7406449947540207\n",
      "0.5762918645369302\n",
      "0.5682705456894483\n",
      "0.7144738667685069\n",
      "0.5762918645369302\n",
      "0.759462973065296\n",
      "0.5574576527108244\n",
      "0.5812505968077692\n",
      "0.7131617993556615\n",
      "0.7728979359087138\n",
      "0.7169992318427127\n",
      "0.5809102136492412\n",
      "0.5764503284940196\n",
      "0.5891955453574895\n",
      "0.7723864702174187\n",
      "0.5974175387717684\n",
      "0.5900349620925973\n",
      "0.7579152344409867\n",
      "0.7404991585641449\n",
      "0.7294869936393005\n",
      "0.7451343831441988\n",
      "0.6787438297553232\n",
      "0.7232824570497489\n",
      "0.5882619029585566\n",
      "0.5682705456894483\n",
      "0.5900349620925973\n",
      "0.6858979724522634\n",
      "0.5879837346256183\n",
      "0.7252183453172644\n",
      "0.7175526574942793\n",
      "0.7407058638337968\n",
      "0.7120538327636279\n",
      "0.5440923031254858\n",
      "0.6858979724522634\n",
      "0.516651397325765\n",
      "0.6534669471623438\n",
      "0.7629224886414052\n",
      "0.6812782808465253\n",
      "0.5900349620925973\n",
      "0.6829107859906598\n",
      "0.69709048238322\n",
      "0.5604972556700651\n",
      "0.5807869814176605\n",
      "0.5900349620925973\n",
      "0.584292671736899\n",
      "0.7335670301929715\n",
      "0.6829107859906598\n",
      "0.6788859729410153\n",
      "0.6753072897864598\n",
      "0.5800798443301842\n",
      "0.6731679590622207\n",
      "0.7374745565336098\n",
      "0.5800798443301842\n",
      "0.6729029586238544\n",
      "0.6858979724522634\n",
      "0.5969801809208133\n",
      "0.733731586661309\n",
      "0.5724995577370641\n",
      "0.7062049911719795\n",
      "0.5882619029585566\n",
      "0.5483310678596673\n",
      "0.5882619029585566\n",
      "0.5764503284940196\n",
      "0.5946975227988478\n",
      "0.7454974796595839\n",
      "0.5879837346256183\n",
      "0.6829107859906598\n",
      "0.6797382291954442\n",
      "0.7348480170825997\n",
      "0.5762918645369302\n",
      "0.5946975227988478\n",
      "0.5762918645369302\n",
      "0.5162945268792123\n",
      "0.5809102136492412\n",
      "0.6729029586238544\n",
      "0.5764503284940196\n",
      "0.5465979081673699\n",
      "0.5762918645369302\n",
      "0.7215677697736922\n",
      "0.7062544378094144\n",
      "0.6629788448488814\n",
      "0.5891955453574895\n",
      "0.5574576527108244\n",
      "0.6670048347548846\n",
      "0.5724995577370641\n",
      "0.6731679590622207\n",
      "0.5900349620925973\n",
      "0.5812505968077692\n",
      "0.6829107859906598\n",
      "0.7274802800297181\n",
      "0.5900349620925973\n",
      "0.5809102136492412\n",
      "0.5895686683001795\n",
      "0.7111815789077662\n",
      "0.5809102136492412\n",
      "0.7277962379377025\n",
      "0.5974175387717684\n",
      "0.5809102136492412\n",
      "0.5969801809208133\n",
      "0.7452541319944992\n",
      "0.5597968250304926\n",
      "0.6829107859906598\n",
      "0.5891955453574895\n",
      "0.5946975227988478\n",
      "0.5812505968077692\n",
      "0.5764503284940196\n",
      "0.5891955453574895\n",
      "0.6704324346563864\n",
      "0.7498441507448702\n",
      "0.6829107859906598\n",
      "0.5098636745216998\n",
      "0.5604972556700653\n",
      "0.7231222658994761\n",
      "0.6534669471623438\n",
      "0.6699307741063061\n",
      "0.5807869814176605\n",
      "0.5969801809208133\n",
      "0.5682705456894483\n",
      "0.5764503284940196\n",
      "0.5724995577370641\n",
      "0.5900349620925973\n",
      "0.6881178076086453\n",
      "0.5419092942605549\n",
      "0.5724995577370641\n",
      "0.5812505968077692\n",
      "0.7465691301850299\n",
      "0.6788859729410153\n",
      "0.5900349620925973\n",
      "0.6704324346563864\n",
      "0.5800798443301842\n",
      "0.5601492920375781\n",
      "0.6704324346563864\n",
      "0.5682705456894483\n",
      "0.584292671736899\n",
      "0.7441858725525188\n",
      "0.5900349620925973\n",
      "0.7452541319944992\n",
      "0.5809102136492412\n",
      "0.5895686683001795\n",
      "0.5153017921701466\n",
      "0.6730991620597173\n",
      "0.5646365042541557\n",
      "0.704236825302738\n",
      "0.5809102136492412\n",
      "0.5895686683001795\n",
      "0.6699307741063061\n",
      "0.6731679590622207\n",
      "0.6094005897178965\n",
      "0.5922332575295298\n",
      "0.6534669471623438\n",
      "0.5895686683001795\n",
      "0.5895686683001795\n",
      "0.7252183453172644\n",
      "0.5807869814176605\n",
      "0.5922332575295298\n",
      "0.5762918645369302\n",
      "0.5762918645369302\n",
      "0.5900349620925973\n",
      "0.5900349620925973\n",
      "0.7145863751533267\n",
      "0.733731586661309\n",
      "0.5809102136492412\n",
      "0.7603128700493896\n",
      "0.5767147831050021\n",
      "0.5882619029585566\n",
      "0.7284180175288673\n",
      "0.6670048347548846\n",
      "0.5574576527108244\n",
      "0.5974175387717684\n",
      "0.584292671736899\n",
      "0.5882619029585566\n",
      "0.5762918645369302\n",
      "0.7111815789077662\n",
      "0.6730991620597173\n",
      "0.6731917782557195\n",
      "0.7233477457158844\n",
      "0.5879837346256183\n",
      "0.7110223510428871\n",
      "0.5969801809208133\n",
      "0.5974175387717684\n",
      "0.5682705456894483\n",
      "0.5724995577370641\n",
      "0.5800798443301842\n",
      "0.6797909539898066\n",
      "0.7215677697736922\n",
      "0.6699307741063061\n",
      "0.7062544378094144\n",
      "0.5891955453574895\n",
      "0.5812505968077692\n",
      "0.5900349620925973\n",
      "0.584292671736899\n",
      "0.5879837346256183\n",
      "0.5807869814176605\n",
      "0.7232824570497489\n",
      "0.7534389133212537\n",
      "0.7231222658994761\n",
      "0.5946975227988478\n",
      "0.5946975227988478\n",
      "0.6858979724522634\n",
      "0.5974175387717684\n",
      "0.5044570912255286\n",
      "0.5812505968077692\n",
      "0.6670048347548846\n",
      "0.6629788448488814\n",
      "0.7335670301929715\n",
      "0.5879837346256183\n",
      "0.5882619029585566\n",
      "0.7543509683668101\n",
      "0.584292671736899\n",
      "0.5764503284940196\n",
      "0.5468108421096842\n",
      "0.7454044625402965\n",
      "0.723974698999605\n",
      "0.5946975227988478\n",
      "0.7306317357269889\n",
      "0.6791940685008921\n",
      "0.6787438297553232\n",
      "0.6791940685008921\n",
      "0.5879837346256183\n",
      "0.5550019831976\n",
      "0.7468900959422355\n",
      "0.5764503284940196\n",
      "0.6791940685008921\n",
      "0.5891955453574895\n",
      "0.5724995577370641\n",
      "0.5356116586570012\n",
      "0.7145863751533267\n",
      "0.6787438297553232\n",
      "0.5724995577370641\n",
      "0.5574576527108244\n",
      "0.73318739227255\n",
      "0.5974175387717684\n",
      "0.5974175387717684\n",
      "0.5807869814176605\n",
      "0.5969801809208133\n",
      "0.7323606933009251\n",
      "0.5974175387717684\n",
      "0.5974175387717684\n",
      "0.7572324787889325\n",
      "0.7111815789077662\n",
      "0.5762918645369302\n",
      "0.5891955453574895\n",
      "0.6629788448488814\n",
      "0.5946975227988478\n",
      "0.5764503284940196\n",
      "0.5882619029585566\n",
      "0.5891955453574895\n",
      "0.723974698999605\n",
      "0.6788859729410153\n",
      "0.5879837346256183\n",
      "0.6853752062365983\n",
      "0.506546238206198\n",
      "0.5509597511076028\n",
      "0.5065186769264899\n",
      "0.5576916378230484\n",
      "0.7144738667685069\n",
      "0.5969801809208133\n",
      "0.5548136760445992\n",
      "0.5767147831050022\n",
      "0.6812782808465253\n",
      "0.5807869814176605\n",
      "0.7306317357269889\n",
      "0.5974175387717684\n",
      "0.7277962379377025\n",
      "0.6791940685008921\n",
      "0.5724995577370641\n",
      "0.7505832886082879\n",
      "0.6829107859906598\n",
      "0.7374745565336098\n",
      "0.7335970454124859\n",
      "0.5946975227988478\n",
      "0.749614817028631\n",
      "0.7505832886082879\n",
      "0.7211341850703037\n",
      "0.5762918645369302\n",
      "0.5682705456894483\n",
      "0.5762918645369302\n",
      "0.5922332575295298\n",
      "0.5879837346256183\n",
      "0.5591225382545049\n",
      "0.6699307741063061\n",
      "0.7120538327636279\n",
      "0.7501996642432431\n",
      "0.7038373640024058\n",
      "0.5564109842473643\n",
      "0.6812782808465253\n",
      "0.6729029586238544\n",
      "0.5946975227988478\n",
      "0.5762918645369302\n",
      "0.5809102136492412\n",
      "0.5356116586570019\n",
      "0.5812505968077692\n",
      "0.5809102136492412\n",
      "0.5882619029585566\n",
      "0.5767147831050022\n",
      "0.5879837346256183\n",
      "0.6812782808465253\n",
      "0.7079596280564683\n",
      "0.5682705456894483\n",
      "0.7119075516607931\n",
      "0.5487798981368933\n",
      "0.5812505968077692\n",
      "0.5545669684737666\n",
      "0.5488471794734372\n",
      "0.5900349620925973\n",
      "0.584292671736899\n",
      "0.733597045412486\n",
      "0.7531860787886593\n",
      "0.5946975227988478\n",
      "0.6853752062365983\n",
      "0.7062049911719795\n",
      "0.7310594947698761\n",
      "0.7567378991101334\n",
      "0.5809102136492412\n",
      "0.69709048238322\n",
      "0.6858979724522634\n",
      "0.5724995577370641\n",
      "0.5807869814176605\n",
      "0.5895686683001795\n",
      "0.5891955453574895\n",
      "0.5891955453574895\n",
      "0.5882619029585566\n",
      "0.5812505968077692\n",
      "0.7062049911719795\n",
      "0.5900349620925973\n",
      "0.5724995577370641\n",
      "0.5879837346256183\n",
      "0.5724995577370641\n",
      "0.5800798443301842\n",
      "0.5604972556700651\n",
      "0.5900349620925973\n",
      "0.7079596280564683\n",
      "0.6858979724522634\n",
      "0.5812505968077692\n",
      "0.7175526574942793\n",
      "0.728604422283142\n",
      "0.704236825302738\n",
      "0.5882619029585566\n",
      "0.5767147831050022\n",
      "0.5812505968077692\n",
      "0.584292671736899\n",
      "0.7131617993556615\n",
      "0.7062049911719795\n",
      "0.5767147831050022\n",
      "0.6534669471623438\n",
      "0.5895686683001795\n",
      "0.6791940685008921\n",
      "0.5900349620925973\n",
      "0.5465979081673699\n",
      "0.5574576527108244\n",
      "0.7119075516607931\n",
      "0.5891955453574895\n",
      "0.6699307741063061\n",
      "0.7252183453172644\n",
      "0.7529422494855116\n",
      "0.5576916378230484\n",
      "0.7577973312253299\n",
      "0.5922332575295298\n",
      "0.5807869814176605\n",
      "0.5762918645369302\n",
      "0.5767147831050021\n",
      "0.5762918645369302\n",
      "0.7608525972373736\n",
      "0.6788859729410153\n",
      "0.5974175387717684\n",
      "0.5900349620925973\n",
      "0.6787438297553232\n",
      "0.7059014119496053\n",
      "0.5762918645369302\n",
      "0.7233477457158844\n",
      "0.7535822015267474\n",
      "0.5574576527108244\n",
      "0.5574576527108246\n",
      "0.4688958382889392\n",
      "0.7286653132303739\n",
      "0.7038373640024058\n",
      "0.5879837346256183\n",
      "0.7430157404751048\n",
      "0.5724995577370641\n",
      "0.5946975227988478\n",
      "0.6853752062365983\n",
      "0.7653053100663304\n",
      "0.5891955453574895\n",
      "0.6729029586238544\n",
      "0.6829107859906598\n",
      "0.7169992318427127\n",
      "0.704236825302738\n",
      "0.7407058638337968\n",
      "0.5922332575295298\n",
      "0.5895686683001795\n",
      "0.5882619029585566\n",
      "0.7374745565336098\n",
      "0.550959751107603\n",
      "0.556528106317753\n",
      "0.5574576527108244\n",
      "0.6699307741063061\n",
      "0.7063021869104704\n",
      "0.759372753777865\n",
      "0.5900349620925973\n",
      "0.7231222658994761\n",
      "0.5807869814176605\n",
      "0.5882619029585566\n",
      "0.5922332575295298\n",
      "0.7554554525369392\n",
      "0.7405246281781119\n",
      "0.584292671736899\n",
      "0.5922332575295298\n",
      "0.5767147831050021\n",
      "0.5922332575295298\n",
      "0.5682705456894483\n",
      "0.6731679590622207\n",
      "0.5891955453574895\n",
      "0.5807869814176605\n",
      "0.5974175387717684\n",
      "0.5809102136492412\n",
      "0.512664385654291\n",
      "0.5762918645369302\n",
      "0.7320973357701811\n",
      "0.6858979724522634\n",
      "0.5900349620925973\n",
      "0.5882619029585566\n",
      "0.7544287863594237\n",
      "0.5580133377311306\n",
      "0.5564876262077352\n",
      "0.6729029586238544\n",
      "0.5900349620925973\n",
      "0.5891955453574895\n",
      "0.6853752062365983\n",
      "0.5895686683001795\n",
      "0.5800798443301842\n",
      "0.5882619029585566\n",
      "0.5879837346256183\n",
      "0.5762918645369302\n",
      "0.5807869814176605\n",
      "0.5762918645369302\n",
      "0.5974175387717684\n",
      "0.6858979724522634\n",
      "0.5895686683001795\n",
      "0.5767147831050022\n",
      "0.5974175387717684\n",
      "0.5767147831050021\n",
      "0.7454044625402965\n",
      "0.5807869814176605\n",
      "0.5574576527108244\n",
      "0.5574576527108244\n",
      "0.6853752062365983\n",
      "0.5974175387717684\n",
      "0.6729029586238544\n",
      "0.5812505968077692\n",
      "0.5561819529969756\n",
      "0.5228797832503097\n",
      "0.5767147831050021\n",
      "0.5557120539106928\n",
      "0.5724995577370641\n",
      "0.5891955453574895\n",
      "0.7277962379377025\n",
      "0.5682705456894483\n",
      "0.5767147831050022\n",
      "0.5807869814176605\n",
      "0.5682705456894483\n",
      "0.5895686683001795\n",
      "0.5807869814176605\n",
      "0.7580032319431278\n",
      "0.7169992318427127\n",
      "0.5490841593142882\n",
      "0.5922332575295298\n",
      "0.5969801809208133\n",
      "0.5879837346256183\n",
      "0.7038373640024058\n",
      "0.6797909539898066\n",
      "0.7062049911719795\n",
      "0.5629341330179665\n",
      "0.5767147831050021\n",
      "0.5800798443301842\n",
      "0.7145863751533267\n",
      "0.5682705456894483\n",
      "0.49829635881081\n",
      "0.5800798443301842\n",
      "0.5682705456894483\n",
      "0.6797382291954442\n",
      "0.5891955453574895\n",
      "0.6797909539898066\n",
      "0.5812505968077692\n",
      "0.7664122425576014\n",
      "0.7277962379377025\n",
      "0.5882619029585566\n",
      "0.7111815789077662\n",
      "0.5879837346256183\n",
      "0.5974175387717684\n",
      "0.5682705456894483\n",
      "0.5588334470732768\n",
      "0.7542219883594554\n",
      "0.5682705456894483\n",
      "0.5895686683001795\n",
      "0.5879837346256183\n",
      "0.5800798443301842\n",
      "0.7034433491942512\n",
      "0.559782251104684\n",
      "0.5724995577370641\n",
      "0.5490165204834773\n",
      "0.6853752062365983\n",
      "0.5764503284940196\n",
      "0.6812782808465253\n",
      "0.6797382291954442\n",
      "0.5946975227988478\n",
      "0.5891955453574895\n",
      "0.7286653132303739\n",
      "0.7405246281781119\n",
      "0.5488853312630437\n",
      "0.5895686683001795\n",
      "0.5882619029585566\n",
      "0.5900349620925973\n",
      "0.5969801809208133\n",
      "0.5762918645369302\n",
      "0.7059014119496053\n",
      "0.5974175387717684\n",
      "0.7131617993556615\n",
      "0.6629788448488814\n",
      "0.5550019831976\n",
      "0.7284180175288673\n",
      "0.5879837346256183\n",
      "0.5974175387717684\n",
      "0.5891955453574895\n",
      "0.5969801809208133\n",
      "0.7063021869104704\n",
      "0.5900349620925973\n",
      "0.5800798443301842\n",
      "0.7110223510428871\n",
      "0.7333983348037758\n",
      "0.7294869936393005\n",
      "0.749614817028631\n",
      "0.6629788448488814\n",
      "0.5946975227988478\n",
      "0.5682705456894483\n",
      "0.740442003372735\n",
      "0.5812505968077692\n",
      "0.5807869814176605\n",
      "0.6730991620597173\n",
      "0.5574576527108244\n",
      "0.6629788448488814\n",
      "0.5879837346256183\n",
      "0.5762918645369302\n",
      "0.6700988816019597\n",
      "0.5946975227988478\n",
      "0.5895686683001795\n",
      "0.5879837346256183\n",
      "0.5946975227988478\n",
      "0.7577973312253299\n",
      "0.5900349620925973\n",
      "0.5895686683001795\n",
      "0.5574576527108244\n",
      "0.5895686683001795\n",
      "0.6700988816019597\n",
      "0.5879837346256183\n",
      "0.5922332575295298\n",
      "0.6853752062365983\n",
      "0.5946975227988478\n",
      "0.6704324346563864\n",
      "0.5807869814176605\n",
      "0.7290672934417475\n",
      "0.5895686683001795\n",
      "0.6629788448488814\n",
      "0.5800798443301842\n",
      "0.6167934835626647\n",
      "0.5762918645369302\n",
      "0.5762918645369302\n",
      "0.5762918645369302\n",
      "0.5807869814176605\n",
      "0.5900349620925973\n",
      "0.5523123109069423\n",
      "0.5764503284940196\n",
      "0.5974175387717684\n",
      "0.5682705456894483\n",
      "0.7407058638337968\n",
      "0.584292671736899\n",
      "0.5922332575295298\n",
      "0.5807869814176605\n",
      "0.5974175387717684\n",
      "0.5807869814176605\n",
      "0.6629788448488814\n",
      "0.5969801809208133\n",
      "0.5922332575295298\n",
      "0.5879837346256183\n",
      "0.5800798443301842\n",
      "0.5974175387717684\n",
      "0.7531860787886593\n",
      "0.5891955453574895\n",
      "0.5807869814176605\n",
      "0.5682705456894483\n",
      "0.7386328663693864\n",
      "0.5879837346256183\n",
      "0.5764503284940196\n",
      "0.6729029586238544\n",
      "0.5764503284940196\n",
      "0.5574576527108246\n",
      "0.7619544152410692\n",
      "0.557709465618609\n",
      "0.7306317357269889\n",
      "0.7402999560996912\n",
      "0.7063021869104704\n",
      "0.5764503284940196\n",
      "0.6787438297553232\n",
      "0.7460559797790942\n",
      "0.5508635302441744\n",
      "0.559719830984001\n",
      "0.5969801809208133\n",
      "0.7277962379377025\n",
      "0.5891955453574895\n",
      "0.5882619029585566\n",
      "0.5882619029585566\n",
      "0.5809102136492412\n",
      "0.5974175387717684\n",
      "0.5974175387717684\n",
      "0.5895686683001795\n",
      "0.5891955453574895\n",
      "0.5767147831050022\n",
      "0.5969801809208133\n",
      "0.7010230060165699\n",
      "0.5922332575295298\n",
      "0.5767147831050021\n",
      "0.5682705456894483\n",
      "0.5922332575295298\n",
      "0.5946975227988478\n",
      "0.5576916378230485\n",
      "0.5812505968077692\n",
      "0.5882619029585566\n",
      "0.584292671736899\n",
      "0.550690790467581\n",
      "0.7119492267515878\n",
      "0.5767147831050022\n",
      "0.5574576527108246\n",
      "0.6730991620597173\n",
      "0.5812505968077692\n",
      "0.5900349620925973\n",
      "0.7034433491942513\n",
      "0.6753072897864598\n",
      "0.5974175387717684\n",
      "0.7246878876060138\n",
      "0.5807869814176605\n",
      "0.6788859729410153\n",
      "0.6731679590622207\n",
      "0.6788859729410153\n",
      "0.5807869814176605\n",
      "0.7063021869104704\n",
      "0.5809102136492412\n",
      "0.6788859729410153\n",
      "0.5682705456894483\n",
      "0.6629788448488814\n",
      "0.7522123442010502\n",
      "0.6791940685008921\n",
      "0.5574576527108244\n",
      "0.7131617993556615\n",
      "0.6791940685008921\n",
      "0.5946975227988478\n",
      "0.5946975227988478\n",
      "0.5882619029585566\n",
      "0.5946975227988478\n",
      "0.5922332575295298\n",
      "0.5807869814176605\n",
      "0.5922332575295298\n",
      "0.6704324346563864\n",
      "0.5682705456894483\n",
      "0.5800798443301842\n",
      "0.6791940685008921\n",
      "0.5974175387717684\n",
      "0.6670048347548846\n",
      "0.7062542971837974\n",
      "0.5800798443301842\n",
      "0.5891955453574895\n",
      "0.7454974796595839\n",
      "0.5764503284940196\n",
      "0.728604422283142\n",
      "0.5879837346256183\n",
      "0.7215677697736922\n",
      "0.6858979724522634\n",
      "0.5807869814176605\n",
      "0.5812505968077692\n",
      "0.7010230060165699\n",
      "0.5809102136492412\n",
      "0.7594799665134379\n",
      "0.6829107859906598\n",
      "0.7361875789997798\n",
      "0.7246878876060138\n",
      "0.5891955453574895\n",
      "0.5800798443301842\n",
      "0.7320973357701811\n",
      "0.5141126997637855\n",
      "0.5762918645369302\n",
      "0.5724995577370641\n",
      "0.73318739227255\n",
      "0.5974175387717684\n",
      "0.6853752062365983\n",
      "0.6730991620597173\n",
      "0.5724995577370641\n",
      "0.5969801809208133\n",
      "0.7010230060165699\n",
      "0.7492206339282748\n",
      "0.5419092942605553\n",
      "0.5762918645369302\n",
      "0.5812505968077692\n",
      "0.5879837346256183\n",
      "0.5809102136492412\n"
     ]
    },
    {
     "name": "stdout",
     "output_type": "stream",
     "text": [
      "0.5807869814176605\n",
      "0.6729029586238544\n",
      "0.5574576527108244\n",
      "0.5879837346256183\n",
      "0.5809102136492412\n",
      "0.6704324346563864\n",
      "0.7206226055619134\n",
      "0.7167114568487325\n",
      "0.7729963883156495\n",
      "0.6700988816019597\n",
      "0.6797382291954442\n",
      "0.5922332575295298\n",
      "0.5682705456894483\n",
      "0.6731679590622207\n",
      "0.5969801809208133\n",
      "0.6791940685008921\n",
      "0.5574576527108244\n",
      "0.5682705456894483\n",
      "0.5767147831050022\n",
      "0.5724995577370641\n",
      "0.5900349620925973\n",
      "0.7211341850703037\n",
      "0.740442003372735\n",
      "0.733597045412486\n",
      "0.5724995577370641\n",
      "0.5682705456894483\n",
      "0.6791940685008921\n",
      "0.5809102136492412\n",
      "0.744247383282836\n",
      "0.5895686683001795\n",
      "0.5767147831050022\n",
      "0.5767147831050022\n",
      "0.6731679590622207\n",
      "0.5895686683001795\n",
      "0.6791940685008921\n",
      "0.5682705456894483\n",
      "0.5807869814176605\n",
      "0.7169992318427127\n",
      "0.5891955453574895\n",
      "0.5764503284940196\n",
      "0.5891955453574895\n",
      "0.7393997531861984\n",
      "0.5682705456894483\n",
      "0.6829107859906598\n",
      "0.7110223510428871\n",
      "0.7079596280564683\n",
      "0.7608848245236925\n",
      "0.7602039255705783\n",
      "0.5922332575295298\n",
      "0.5093755206015309\n",
      "0.7119492267515878\n",
      "0.5882619029585566\n",
      "0.5900349620925973\n",
      "0.5809102136492412\n",
      "0.5724995577370641\n",
      "0.5946975227988478\n",
      "0.5574576527108244\n",
      "0.5092448989485714\n",
      "0.6629788448488814\n",
      "0.6812782808465253\n",
      "0.5809102136492412\n",
      "0.5807869814176605\n",
      "0.6670048347548846\n",
      "0.6699307741063061\n",
      "0.5767147831050021\n",
      "0.5724995577370641\n",
      "0.7119075516607931\n",
      "0.5767147831050022\n",
      "0.7252183453172644\n",
      "0.5891955453574895\n",
      "0.5762918645369302\n",
      "0.7492403633320017\n",
      "0.5762918645369302\n",
      "0.5594347078110169\n",
      "0.5974175387717684\n",
      "0.5946975227988478\n",
      "0.5974175387717684\n",
      "0.5974175387717684\n",
      "0.5891955453574895\n",
      "0.5682705456894483\n",
      "0.6797909539898066\n",
      "0.5764503284940196\n",
      "0.5900349620925973\n",
      "0.6858979724522634\n",
      "0.5879837346256183\n",
      "0.6812782808465253\n",
      "0.5891955453574895\n",
      "0.6881178076086453\n",
      "0.5895686683001795\n",
      "0.5800798443301842\n",
      "0.5974175387717684\n",
      "0.7062542971837974\n",
      "0.5682705456894483\n",
      "0.7231222658994761\n",
      "0.5800798443301842\n",
      "0.7167114568487325\n",
      "0.7232457050239681\n",
      "0.5767147831050022\n",
      "0.5900349620925973\n",
      "0.5807869814176605\n",
      "0.5378539801758725\n",
      "0.5882619029585566\n",
      "0.5682705456894483\n",
      "0.5574576527108244\n",
      "0.6829107859906598\n",
      "0.704236825302738\n",
      "0.5640274546606996\n",
      "0.5807869814176605\n",
      "0.5891955453574895\n",
      "0.584292671736899\n",
      "0.7388427603767364\n",
      "0.5574576527108244\n",
      "0.5762918645369302\n",
      "0.5969801809208133\n",
      "0.5922332575295298\n",
      "0.5812505968077692\n",
      "0.7231222658994761\n",
      "0.5682705456894483\n",
      "0.5535587421985062\n",
      "0.5922332575295298\n",
      "0.5800798443301842\n",
      "0.7062049911719795\n",
      "0.5809102136492412\n",
      "0.5895686683001795\n",
      "0.5762918645369302\n",
      "0.6731917782557195\n",
      "0.7215677697736922\n",
      "0.7548965902090625\n",
      "0.5764503284940196\n",
      "0.6797909539898066\n",
      "0.5724995577370641\n",
      "0.5515964360095867\n",
      "0.6829107859906598\n",
      "0.5574576527108244\n",
      "0.7120538327636279\n",
      "0.5619479221625661\n",
      "0.511546897282902\n",
      "0.5588334470732768\n",
      "0.6791940685008921\n",
      "0.5767147831050022\n",
      "0.584292671736899\n",
      "0.5762918645369302\n",
      "0.584292671736899\n",
      "0.5946975227988478\n",
      "0.5767147831050022\n",
      "0.5208966970302609\n",
      "0.7460559797790942\n",
      "0.5682705456894483\n",
      "0.6629788448488814\n",
      "0.5807869814176605\n",
      "0.6670048347548846\n",
      "0.5922332575295298\n",
      "0.6731917782557195\n",
      "0.5895686683001795\n",
      "0.5584974454608473\n",
      "0.5574576527108244\n",
      "0.5764503284940196\n",
      "0.5946975227988478\n",
      "0.5922332575295298\n",
      "0.5640274546606998\n",
      "0.5809102136492412\n",
      "0.584292671736899\n",
      "0.6729029586238544\n",
      "0.584292671736899\n",
      "0.7406449947540207\n",
      "0.733731586661309\n",
      "0.5574576527108244\n",
      "0.7169992318427127\n",
      "0.5895686683001795\n",
      "0.7144738667685069\n",
      "0.5809102136492412\n",
      "0.5895686683001795\n",
      "0.5969801809208133\n",
      "0.5378539801758724\n",
      "0.6753072897864598\n",
      "0.6699307741063061\n",
      "0.5764503284940196\n",
      "0.7405246281781119\n",
      "0.5597914614190311\n",
      "0.584292671736899\n",
      "0.6787438297553232\n",
      "0.6730991620597173\n",
      "0.5764503284940196\n",
      "0.5809102136492412\n",
      "0.6731917782557195\n",
      "0.5900349620925973\n",
      "0.5895686683001795\n",
      "0.7544829600434727\n",
      "0.5946975227988478\n",
      "0.7063021869104704\n",
      "0.5724995577370641\n",
      "0.7120538327636279\n",
      "0.5767147831050021\n",
      "0.6731917782557195\n",
      "0.6797909539898066\n",
      "0.7647619780784796\n",
      "0.7215677697736922\n",
      "0.5946975227988478\n",
      "0.5895686683001795\n",
      "0.5891955453574895\n",
      "0.5574576527108246\n",
      "0.5812505968077692\n",
      "0.5580222631317973\n",
      "0.5767147831050022\n",
      "0.7144738667685069\n",
      "0.5767147831050021\n",
      "0.6534669471623438\n",
      "0.5882619029585566\n",
      "0.6699307741063061\n",
      "0.5724995577370641\n",
      "0.5724995577370641\n",
      "0.7131617993556615\n",
      "0.5568086214650534\n",
      "0.5974175387717684\n",
      "0.7286653132303739\n",
      "0.7374745565336098\n",
      "0.5946975227988478\n",
      "0.5764503284940196\n",
      "0.5882619029585566\n",
      "0.5879837346256183\n",
      "0.5922332575295298\n",
      "0.5764503284940196\n",
      "0.7335970454124859\n",
      "0.5767147831050022\n",
      "0.6534669471623438\n",
      "0.5057156657123048\n",
      "0.5922332575295298\n",
      "0.5812505968077692\n",
      "0.5946975227988478\n",
      "0.5682705456894483\n",
      "0.5891955453574895\n",
      "0.5546961663362728\n",
      "0.6829107859906598\n",
      "0.7348480170825997\n",
      "0.6853752062365983\n",
      "0.5682705456894483\n",
      "0.7480690874458586\n",
      "0.7079596280564683\n",
      "0.7110223510428871\n",
      "0.5946975227988478\n",
      "0.5891955453574895\n",
      "0.5969801809208133\n",
      "0.6858979724522634\n",
      "0.5882619029585566\n",
      "0.5764503284940196\n",
      "0.5900349620925973\n",
      "0.7111815789077662\n",
      "0.7460559797790942\n",
      "0.7010230060165699\n",
      "0.5922332575295298\n",
      "0.5812505968077692\n",
      "0.5900349620925973\n",
      "0.5764503284940196\n",
      "0.5922332575295298\n",
      "0.5574576527108244\n",
      "0.6791940685008921\n",
      "0.5590919275344173\n",
      "0.5762918645369302\n",
      "0.6788859729410153\n",
      "0.5682705456894483\n",
      "0.7175526574942793\n",
      "0.5895686683001795\n",
      "0.5561819529969756\n",
      "0.5974175387717684\n",
      "0.5762918645369302\n",
      "0.5159880682337712\n",
      "0.5895686683001795\n",
      "0.559356859973752\n",
      "0.6699307741063061\n",
      "0.7232457050239681\n",
      "0.5633728824251352\n",
      "0.5974175387717684\n",
      "0.7079596280564683\n",
      "0.5767147831050022\n",
      "0.5891955453574895\n",
      "0.5483310678596671\n",
      "0.5809102136492412\n",
      "0.5724995577370641\n",
      "0.5812505968077692\n",
      "0.7593597237710472\n",
      "0.5724995577370641\n",
      "0.5879837346256183\n",
      "0.7131617993556615\n",
      "0.7232824570497489\n",
      "0.7413483149952251\n",
      "0.6731917782557195\n",
      "0.5767147831050022\n",
      "0.5418031342731094\n",
      "0.5800798443301842\n",
      "0.5812505968077692\n",
      "0.5767147831050021\n",
      "0.5922332575295298\n",
      "0.5900349620925973\n",
      "0.6797909539898066\n",
      "0.6797382291954442\n",
      "0.5900349620925973\n",
      "0.6670048347548846\n",
      "0.7337564488496133\n",
      "0.5895686683001795\n",
      "0.5809102136492412\n",
      "0.5682705456894483\n",
      "0.7119492267515878\n",
      "0.5891955453574895\n",
      "0.73318739227255\n",
      "0.5807869814176605\n",
      "0.5895686683001795\n",
      "0.5800798443301842\n",
      "0.5969801809208133\n",
      "0.5891955453574895\n",
      "0.5969801809208133\n",
      "0.5895686683001795\n",
      "0.6731679590622207\n",
      "0.5724995577370641\n",
      "0.5922332575295298\n",
      "0.6853752062365983\n",
      "0.546810842109684\n",
      "0.5800798443301842\n",
      "0.5682705456894483\n",
      "0.5762918645369302\n",
      "0.5533782251781822\n",
      "0.5812505968077692\n",
      "0.5895686683001795\n",
      "0.5812505968077692\n",
      "0.7231222658994761\n",
      "0.7386551657975229\n",
      "0.5508091498245197\n",
      "0.7590170360846603\n",
      "0.7206226055619134\n",
      "0.7233477457158844\n",
      "0.7010230060165699\n",
      "0.6797909539898066\n",
      "0.5895686683001795\n",
      "0.6858979724522634\n",
      "0.5767147831050022\n",
      "0.7175526574942793\n",
      "0.5682705456894483\n",
      "0.5762918645369302\n",
      "0.5969801809208133\n",
      "0.7233477457158844\n",
      "0.5812505968077692\n",
      "0.5812505968077692\n",
      "0.5969801809208133\n",
      "0.5879837346256183\n",
      "0.584292671736899\n",
      "0.5891955453574895\n",
      "0.6829107859906598\n",
      "0.5809102136492412\n",
      "0.5020892062921906\n",
      "0.7062542971837974\n",
      "0.7402999560996912\n",
      "0.6731679590622207\n",
      "0.5882619029585566\n",
      "0.5800798443301842\n",
      "0.5809102136492412\n",
      "0.5042047245030339\n",
      "0.704236825302738\n",
      "0.5882619029585566\n",
      "0.5807869814176605\n",
      "0.7320973357701811\n",
      "0.5807869814176605\n",
      "0.5574576527108244\n",
      "0.5616562753672188\n",
      "0.5724995577370641\n",
      "0.6699307741063061\n",
      "0.6246585212565207\n",
      "0.584292671736899\n",
      "0.5764503284940196\n",
      "0.7063021869104704\n",
      "0.5809102136492412\n",
      "0.5767147831050021\n",
      "0.5807869814176605\n",
      "0.5974175387717684\n",
      "0.7120538327636279\n",
      "0.5682705456894483\n",
      "0.5762918645369302\n",
      "0.5946975227988478\n",
      "0.6788859729410153\n",
      "0.5974175387717684\n",
      "0.5879837346256183\n",
      "0.5809102136492412\n",
      "0.5879837346256183\n",
      "0.5879837346256183\n",
      "0.5767147831050022\n",
      "0.7233477457158844\n",
      "0.7038373640024058\n",
      "0.7502488386440428\n",
      "0.7110223510428871\n",
      "0.5552726922098011\n",
      "0.7110223510428871\n",
      "0.7063021869104704\n",
      "0.7291898451703493\n",
      "0.5682705456894483\n",
      "0.7063021869104704\n",
      "0.5440923031254858\n",
      "0.5767147831050021\n",
      "0.5879837346256183\n",
      "0.5807869814176605\n",
      "0.5764503284940196\n",
      "0.6881178076086453\n",
      "0.5767147831050021\n",
      "0.5807869814176605\n",
      "0.5946975227988478\n",
      "0.5879837346256183\n",
      "0.5882619029585566\n",
      "0.5767147831050021\n",
      "0.5767147831050022\n",
      "0.5764503284940196\n",
      "0.5879837346256183\n",
      "0.5882619029585566\n",
      "0.5879837346256183\n",
      "0.5767147831050022\n",
      "0.7211341850703037\n",
      "0.5922332575295298\n",
      "0.5946975227988478\n",
      "0.7079596280564683\n",
      "0.5574576527108244\n",
      "0.5591673044404948\n",
      "0.5508181279128215\n",
      "0.5682705456894483\n",
      "0.5767147831050022\n",
      "0.5922332575295298\n",
      "0.5682705456894483\n",
      "0.7435942543875596\n",
      "0.5764503284940196\n",
      "0.7062544378094144\n",
      "0.6797909539898066\n",
      "0.5762918645369302\n",
      "0.6700988816019597\n",
      "0.5574576527108244\n",
      "0.7119075516607931\n",
      "0.5800798443301842\n",
      "0.5574576527108244\n",
      "0.5882619029585566\n",
      "0.6853752062365983\n",
      "0.584292671736899\n",
      "0.5891955453574895\n",
      "0.6788859729410153\n",
      "0.6730991620597173\n",
      "0.6797909539898066\n",
      "0.5762918645369302\n",
      "0.69709048238322\n",
      "0.5900349620925973\n",
      "0.6729029586238544\n",
      "0.5800798443301842\n",
      "0.5800798443301842\n",
      "0.5724995577370641\n",
      "0.5724995577370641\n",
      "0.5946975227988478\n",
      "0.5900349620925973\n",
      "0.5891955453574895\n",
      "0.5767147831050022\n",
      "0.5149565273139096\n",
      "0.7079596280564683\n",
      "0.5767147831050022\n",
      "0.7063021869104704\n",
      "0.5724995577370641\n",
      "0.5969801809208133\n",
      "0.5472923784221442\n",
      "0.6731917782557195\n",
      "0.5574576527108244\n",
      "0.5682705456894483\n",
      "0.6881178076086453\n",
      "0.5882619029585566\n",
      "0.5423241467805872\n",
      "0.5969801809208133\n",
      "0.5155660037108238\n",
      "0.5812505968077692\n",
      "0.5574576527108244\n",
      "0.5584974454608473\n",
      "0.5767147831050021\n",
      "0.5807869814176605\n",
      "0.7063021869104704\n",
      "0.5576247868800508\n",
      "0.584292671736899\n",
      "0.5807869814176605\n",
      "0.5549120127169207\n",
      "0.5764503284940196\n",
      "0.5767147831050021\n",
      "0.5879837346256183\n",
      "0.5895686683001795\n",
      "0.6729029586238544\n",
      "0.7524191958567387\n",
      "0.7231222658994761\n",
      "0.5895686683001795\n",
      "0.5812505968077692\n",
      "0.5879837346256183\n",
      "0.5682705456894483\n",
      "0.5879837346256183\n",
      "0.5974175387717684\n",
      "0.6753072897864598\n",
      "0.5895686683001795\n",
      "0.5895686683001795\n",
      "0.5682705456894483\n",
      "0.5508091498245198\n",
      "0.5594268115032761\n",
      "0.6670048347548846\n",
      "0.5974175387717684\n",
      "0.5882619029585566\n",
      "0.5682705456894483\n",
      "0.5891955453574895\n",
      "0.5764503284940196\n",
      "0.5807869814176605\n",
      "0.5879837346256183\n",
      "0.5807869814176605\n",
      "0.5507928407997265\n",
      "0.7388427603767364\n",
      "0.7335970454124859\n",
      "0.5882619029585566\n",
      "0.5879837346256183\n",
      "0.5882619029585566\n",
      "0.7348480170825997\n",
      "0.5812505968077692\n",
      "0.5974175387717684\n",
      "0.6700988816019597\n",
      "0.5762918645369302\n",
      "0.5922332575295298\n",
      "0.5800798443301842\n",
      "0.5807869814176605\n",
      "0.5879837346256183\n",
      "0.5922332575295298\n",
      "0.6730991620597173\n",
      "0.5807869814176605\n",
      "0.5211067089411126\n",
      "0.5764503284940196\n",
      "0.5882619029585566\n",
      "0.5485002678238402\n",
      "0.6729029586238544\n",
      "0.6829107859906598\n",
      "0.5974175387717684\n",
      "0.5682705456894483\n",
      "0.6787438297553232\n",
      "0.5767147831050021\n",
      "0.737488451154046\n",
      "0.7120538327636279\n",
      "0.5604972556700653\n",
      "0.5764503284940196\n",
      "0.5527754581515063\n",
      "0.5812505968077692\n",
      "0.7446621809425163\n",
      "0.5946975227988478\n",
      "0.5922332575295298\n",
      "0.7038373640024058\n",
      "0.5879837346256183\n",
      "0.5809102136492412\n",
      "0.5574576527108244\n",
      "0.5812505968077692\n",
      "0.5800798443301842\n",
      "0.5879837346256183\n",
      "0.5922332575295298\n",
      "0.5969801809208133\n",
      "0.5762918645369302\n",
      "0.5922332575295298\n",
      "0.5800798443301842\n",
      "0.5577308705532242\n",
      "0.5809102136492412\n",
      "0.7286653132303739\n",
      "0.7062049911719795\n",
      "0.5809102136492412\n",
      "0.5800798443301842\n",
      "0.5946975227988478\n",
      "0.5946975227988478\n",
      "0.5882619029585566\n",
      "0.5969801809208133\n",
      "0.5807869814176605\n",
      "0.5974175387717684\n",
      "0.5922332575295298\n",
      "0.5946975227988478\n",
      "0.5809102136492412\n",
      "0.6753072897864598\n",
      "0.5891955453574895\n",
      "0.5946975227988478\n",
      "0.5767147831050021\n",
      "0.5882619029585566\n",
      "0.5922332575295298\n",
      "0.5922332575295298\n",
      "0.556528106317753\n",
      "0.704236825302738\n",
      "0.584292671736899\n",
      "0.5882619029585566\n",
      "0.584292671736899\n",
      "0.6791940685008921\n",
      "0.5800798443301842\n",
      "0.7169992318427127\n",
      "0.5922332575295298\n",
      "0.7291898451703493\n",
      "0.5900349620925973\n",
      "0.584292671736899\n",
      "0.6731679590622207\n",
      "0.7079596280564683\n",
      "0.5812505968077692\n",
      "0.5800798443301842\n",
      "0.6731917782557195\n",
      "0.5809102136492412\n",
      "0.5807869814176605\n",
      "0.5812505968077692\n",
      "0.5762918645369302\n",
      "0.5762918645369302\n",
      "0.5882619029585566\n",
      "0.5946975227988478\n",
      "0.5014970171737937\n",
      "0.5922332575295298\n",
      "0.584292671736899\n",
      "0.5946975227988478\n",
      "0.5767147831050021\n",
      "0.6788859729410153\n",
      "0.584292671736899\n",
      "0.5879837346256183\n",
      "0.5809102136492412\n",
      "0.584292671736899\n",
      "0.5578971551921639\n",
      "0.5879837346256183\n",
      "0.6787438297553232\n",
      "0.5762918645369302\n",
      "0.5764503284940196\n",
      "0.5812505968077692\n",
      "0.5946975227988478\n",
      "0.5724995577370641\n",
      "0.5549120127169209\n",
      "0.5561819529969758\n",
      "0.5891955453574895\n",
      "0.5974175387717684\n",
      "0.5762918645369302\n",
      "0.5891955453574895\n",
      "0.5946975227988478\n",
      "0.5922332575295298\n",
      "0.5969801809208133\n",
      "0.5922332575295298\n",
      "0.5946975227988478\n",
      "0.5969801809208133\n",
      "0.5807869814176605\n",
      "0.5724995577370641\n",
      "0.5882619029585566\n",
      "0.5574576527108244\n",
      "0.5882619029585566\n",
      "0.5946975227988478\n",
      "0.5762918645369302\n",
      "0.5969801809208133\n",
      "0.6791940685008921\n",
      "0.5812505968077692\n",
      "0.5891955453574895\n",
      "0.5891955453574895\n",
      "0.6853752062365983\n",
      "0.5767147831050021\n",
      "0.5969801809208133\n",
      "0.5891955453574895\n",
      "0.5882619029585566\n",
      "0.5891955453574895\n",
      "0.5800798443301842\n",
      "0.5974175387717684\n",
      "0.5879837346256183\n",
      "0.5809102136492412\n",
      "0.5809102136492412\n",
      "0.5969801809208133\n",
      "0.7277962379377025\n",
      "0.5895686683001795\n",
      "0.6699307741063061\n",
      "0.5891955453574895\n",
      "0.584292671736899\n",
      "0.5574576527108244\n",
      "0.5682705456894483\n",
      "0.5895686683001795\n",
      "0.5564876262077352\n",
      "0.5724995577370641\n",
      "0.5974175387717684\n",
      "0.5900349620925973\n",
      "0.5895686683001795\n",
      "0.5922332575295298\n",
      "0.5812505968077692\n",
      "0.5767147831050022\n",
      "0.5974175387717684\n",
      "0.6791940685008921\n",
      "0.5900349620925973\n",
      "0.5882619029585566\n",
      "0.5969801809208133\n",
      "0.5969801809208133\n",
      "0.6791940685008921\n",
      "0.5537362428809887\n",
      "0.6791940685008921\n",
      "0.7232824570497489\n",
      "0.5879837346256183\n",
      "0.5682705456894483\n",
      "0.5969801809208133\n",
      "0.5969801809208133\n",
      "0.5812505968077692\n",
      "0.7553145466381573\n",
      "0.5807869814176605\n",
      "0.6881178076086453\n",
      "0.7495257035318393\n",
      "0.5969801809208133\n",
      "0.5807869814176605\n",
      "0.5767147831050021\n",
      "0.5974175387717684\n",
      "0.7062542971837974\n",
      "0.6699307741063061\n",
      "0.5807869814176605\n",
      "0.7119492267515878\n",
      "0.5809102136492412\n",
      "0.7169992318427127\n",
      "0.6829107859906598\n",
      "0.5767147831050021\n",
      "0.5764503284940196\n",
      "0.5465979081673699\n",
      "0.7062542971837974\n",
      "0.5682705456894483\n",
      "0.7010230060165699\n",
      "0.5809102136492412\n",
      "0.6829107859906598\n",
      "0.5807869814176605\n",
      "0.584292671736899\n",
      "0.5969801809208133\n",
      "0.5807869814176605\n",
      "0.5922332575295298\n",
      "0.7323606933009251\n",
      "0.7538947655442216\n",
      "0.5762918645369302\n",
      "0.5764503284940196\n",
      "0.5767147831050021\n",
      "0.5116544845578603\n",
      "0.5895686683001795\n",
      "0.5550019831975999\n",
      "0.6629788448488814\n",
      "0.5895686683001795\n",
      "0.5922332575295298\n",
      "0.5946975227988478\n",
      "0.5724995577370641\n",
      "0.5469610443469164\n",
      "0.5974175387717684\n",
      "0.5568086214650532\n",
      "0.7405246281781119\n",
      "0.5764503284940196\n",
      "0.5891955453574895\n",
      "0.5574576527108244\n",
      "0.5724995577370641\n",
      "0.5682705456894483\n",
      "0.5448693211038566\n",
      "0.5574576527108244\n",
      "0.584292671736899\n",
      "0.5879837346256183\n",
      "0.559719830984001\n",
      "0.6812782808465253\n",
      "0.5767147831050021\n",
      "0.5764503284940196\n",
      "0.584292671736899\n",
      "0.5574576527108244\n",
      "0.5356116586570012\n",
      "0.5682705456894483\n",
      "0.5922332575295298\n",
      "0.7063021869104704\n",
      "0.5807869814176605\n",
      "0.6704324346563864\n",
      "0.5764503284940196\n",
      "0.5922332575295298\n",
      "0.5807869814176605\n",
      "0.5974175387717684\n",
      "0.5946975227988478\n",
      "0.5356116586570017\n",
      "0.7111815789077662\n",
      "0.5922332575295298\n",
      "0.584292671736899\n",
      "0.584292671736899\n",
      "0.7286653132303739\n",
      "0.5900349620925973\n",
      "0.5879837346256183\n",
      "0.5922332575295298\n",
      "0.5807869814176605\n",
      "0.6731679590622207\n",
      "0.7119075516607931\n",
      "0.5812505968077692\n",
      "0.5809102136492412\n",
      "0.5900349620925973\n",
      "0.6699307741063061\n",
      "0.6704324346563864\n",
      "0.5812505968077692\n",
      "0.5767147831050022\n",
      "0.5574576527108244\n",
      "0.7508333690525426\n",
      "0.69709048238322\n",
      "0.5882619029585566\n",
      "0.5946975227988478\n",
      "0.5809102136492412\n",
      "0.5529240000787734\n",
      "0.6853752062365983\n",
      "0.5762918645369302\n",
      "0.5764503284940196\n",
      "0.5767147831050021\n",
      "0.5767147831050021\n",
      "0.5767147831050021\n",
      "0.5891955453574895\n",
      "0.5809102136492412\n",
      "0.5812505968077692\n",
      "0.5812505968077692\n",
      "0.5487798981368934\n",
      "0.69709048238322\n",
      "0.5922332575295298\n",
      "0.5882619029585566\n",
      "0.5682705456894483\n",
      "0.5895686683001795\n",
      "0.5809102136492412\n",
      "0.5724995577370641\n",
      "0.5922332575295298\n",
      "0.5974175387717684\n",
      "0.5800798443301842\n",
      "0.5767147831050021\n",
      "0.6829107859906598\n",
      "0.5767147831050022\n",
      "0.7062049911719795\n",
      "0.5762918645369302\n",
      "0.5879837346256183\n",
      "0.584292671736899\n",
      "0.5922332575295298\n",
      "0.6829107859906598\n",
      "0.5764503284940196\n",
      "0.5807869814176605\n",
      "0.5762918645369302\n",
      "0.5882619029585566\n",
      "0.5812505968077692\n",
      "0.5514050700010855\n",
      "0.7169992318427127\n",
      "0.5800798443301842\n",
      "0.6797909539898066\n",
      "0.5891955453574895\n",
      "0.6853752062365983\n",
      "0.5891955453574895\n",
      "0.5969801809208133\n",
      "0.7062049911719795\n",
      "0.5724995577370641\n",
      "0.5879837346256183\n",
      "0.5809102136492412\n",
      "0.5974175387717684\n",
      "0.5974175387717684\n",
      "0.584292671736899\n",
      "0.5490646300413882\n",
      "0.5879837346256183\n",
      "0.5486433358168233\n",
      "0.7175526574942793\n",
      "0.5593568599737521\n",
      "0.5724995577370641\n",
      "0.5974175387717684\n",
      "0.6731679590622207\n",
      "0.5969801809208133\n",
      "0.5891955453574895\n",
      "0.5969801809208133\n",
      "0.5891955453574895\n",
      "0.5974175387717684\n",
      "0.6670048347548846\n",
      "0.5922332575295298\n",
      "0.5974175387717684\n",
      "0.584292671736899\n",
      "0.5800798443301842\n",
      "0.5764503284940196\n",
      "0.5574576527108246\n",
      "0.5946975227988478\n",
      "0.5809102136492412\n",
      "0.5879837346256183\n",
      "0.5969801809208133\n",
      "0.6853752062365983\n",
      "0.5891955453574895\n",
      "0.5812505968077692\n",
      "0.5969801809208133\n",
      "0.5879837346256183\n",
      "0.5879837346256183\n",
      "0.6753072897864598\n",
      "0.5767147831050021\n",
      "0.5682705456894483\n",
      "0.5969801809208133\n",
      "0.7215677697736922\n",
      "0.7649444000422194\n",
      "0.5812505968077692\n",
      "0.5764503284940196\n",
      "0.5767147831050021\n",
      "0.6853752062365983\n",
      "0.5809102136492412\n",
      "0.6731679590622207\n",
      "0.7233477457158844\n",
      "0.73318739227255\n",
      "0.5922332575295298\n",
      "0.5882619029585566\n",
      "0.5891955453574895\n",
      "0.7063021869104704\n",
      "0.6729029586238544\n",
      "0.7131617993556615\n",
      "0.5895686683001795\n",
      "0.6534669471623438\n",
      "0.5891955453574895\n",
      "0.69709048238322\n",
      "0.6629788448488814\n",
      "0.5900349620925973\n",
      "0.5922332575295298\n",
      "0.728604422283142\n",
      "0.6829107859906598\n",
      "0.5724995577370641\n",
      "0.5574576527108244\n",
      "0.6788859729410153\n",
      "0.5895686683001795\n",
      "0.5807869814176605\n",
      "0.5809102136492412\n",
      "0.5767147831050022\n",
      "0.5767147831050022\n",
      "0.5762918645369302\n",
      "0.5895686683001795\n",
      "0.5809102136492412\n",
      "0.5762918645369302\n",
      "0.5879837346256183\n",
      "0.5807869814176605\n",
      "0.5767147831050022\n",
      "0.7577266694471043\n",
      "0.7567057273109686\n",
      "0.6858979724522634\n",
      "0.5879837346256183\n",
      "0.5812505968077692\n",
      "0.5682705456894483\n",
      "0.5800798443301842\n",
      "0.5891955453574895\n",
      "0.5946975227988478\n",
      "0.7647482570924697\n",
      "0.5807869814176605\n",
      "0.7131617993556615\n",
      "0.550581320287886\n",
      "0.5812505968077692\n",
      "0.5807869814176605\n",
      "0.5800798443301842\n",
      "0.5807869814176605\n",
      "0.5879837346256183\n",
      "0.5900349620925973\n",
      "0.5922332575295298\n",
      "0.584292671736899\n",
      "0.5969801809208133\n",
      "0.5800798443301842\n",
      "0.7454752824392957\n",
      "0.5882619029585566\n",
      "0.7374745565336098\n",
      "0.5724995577370641\n",
      "0.6858979724522634\n",
      "0.5724995577370641\n",
      "0.749614817028631\n",
      "0.7480690874458586\n",
      "0.5501810752124969\n",
      "0.5812505968077692\n",
      "0.5764503284940196\n",
      "0.5969801809208133\n",
      "0.6853752062365983\n",
      "0.5900349620925973\n",
      "0.5800798443301842\n",
      "0.5969801809208133\n",
      "0.7451343831441987\n",
      "0.5574576527108244\n",
      "0.7306317357269889\n",
      "0.5682705456894483\n",
      "0.5946975227988478\n",
      "0.5922332575295298\n",
      "0.5724995577370641\n",
      "0.5807869814176605\n",
      "0.5922332575295298\n",
      "0.7144738667685069\n",
      "0.5724995577370641\n",
      "0.5800798443301842\n",
      "0.5724995577370641\n",
      "0.5922332575295298\n",
      "0.5809102136492412\n",
      "0.5762918645369302\n",
      "0.7110223510428871\n",
      "0.5891955453574895\n",
      "0.7310594947698761\n",
      "0.7277962379377025\n",
      "0.5724995577370641\n",
      "0.5922332575295298\n",
      "0.5574576527108244\n",
      "0.5895686683001795\n",
      "0.5764503284940196\n",
      "0.5682705456894483\n",
      "0.584292671736899\n",
      "0.5490841593142882\n",
      "0.6791940685008921\n",
      "0.5891955453574895\n",
      "0.5922332575295298\n",
      "0.5922332575295298\n",
      "0.6797382291954442\n",
      "0.5767147831050021\n",
      "0.7405246281781119\n",
      "0.5882619029585566\n",
      "0.5767147831050021\n",
      "0.6797382291954442\n",
      "0.5800798443301842\n",
      "0.5895686683001795\n",
      "0.5900349620925973\n",
      "0.5682705456894483\n",
      "0.5767147831050021\n",
      "0.5891955453574895\n",
      "0.5969801809208133\n",
      "0.5882619029585566\n",
      "0.7333983348037758\n",
      "0.5767147831050021\n",
      "0.5882619029585566\n",
      "0.5879837346256183\n",
      "0.5922332575295298\n",
      "0.6853752062365983\n",
      "0.5764503284940196\n",
      "0.5895686683001795\n",
      "0.5946975227988478\n",
      "0.584292671736899\n",
      "0.5809102136492412\n",
      "0.5682705456894483\n",
      "0.5616562753672183\n",
      "0.5969801809208133\n",
      "0.5807869814176605\n",
      "0.723974698999605\n",
      "0.7246878876060138\n",
      "0.5574576527108244\n",
      "0.5724995577370641\n",
      "0.5891955453574895\n",
      "0.5922332575295298\n",
      "0.5946975227988478\n",
      "0.6731679590622207\n",
      "0.584292671736899\n",
      "0.5882619029585566\n",
      "0.5882619029585566\n",
      "0.5800798443301842\n",
      "0.7059014119496053\n",
      "0.7451343831441987\n",
      "0.7038373640024058\n",
      "0.5922332575295298\n",
      "0.5767147831050022\n",
      "0.7380697630485039\n",
      "0.5812505968077692\n",
      "0.5762918645369302\n",
      "0.5974175387717684\n",
      "0.5807869814176605\n",
      "0.7131617993556615\n",
      "0.5682705456894483\n",
      "0.5969801809208133\n",
      "0.5812505968077692\n",
      "0.5922332575295298\n",
      "0.5762918645369302\n",
      "0.5762918645369302\n",
      "0.5974175387717684\n",
      "0.69709048238322\n",
      "0.5900349620925973\n",
      "0.5969801809208133\n",
      "0.5590277120010607\n",
      "0.584292671736899\n",
      "0.5812505968077692\n",
      "0.5807869814176605\n",
      "0.5922332575295298\n",
      "0.584292671736899\n",
      "0.5767147831050022\n",
      "0.584292671736899\n",
      "0.584292671736899\n",
      "0.6670048347548846\n",
      "0.584292671736899\n",
      "0.6829107859906598\n",
      "0.5529240000787736\n",
      "0.6731917782557195\n",
      "0.554861469254876\n",
      "0.7274802800297181\n",
      "0.5895686683001795\n",
      "0.5969801809208133\n",
      "0.6731679590622207\n",
      "0.5882619029585566\n",
      "0.6731917782557195\n",
      "0.5608276659227349\n",
      "0.5807869814176605\n",
      "0.5446383009898605\n",
      "0.5764503284940196\n",
      "0.5879837346256183\n",
      "0.584292671736899\n",
      "0.5900349620925973\n",
      "0.5895686683001795\n",
      "0.5882619029585566\n",
      "0.5812505968077692\n",
      "0.584292671736899\n",
      "0.584292671736899\n",
      "0.5812505968077692\n",
      "0.5900349620925973\n",
      "0.5809102136492412\n",
      "0.5488279210180418\n",
      "0.5879837346256183\n",
      "0.5682705456894483\n",
      "0.5900349620925973\n",
      "0.5800798443301842\n",
      "0.5807869814176605\n",
      "0.5568086214650533\n",
      "0.5879837346256183\n",
      "0.5895686683001795\n",
      "0.5900349620925973\n",
      "0.5682705456894483\n",
      "0.5895686683001795\n",
      "0.5946975227988478\n",
      "0.5974175387717684\n",
      "0.6797382291954442\n",
      "0.5764503284940196\n",
      "0.5762918645369302\n",
      "0.6730991620597173\n",
      "0.5946975227988478\n",
      "0.5807869814176605\n",
      "0.5800798443301842\n",
      "0.7465691301850299\n",
      "0.5969801809208133\n",
      "0.7316429453989772\n",
      "0.704236825302738\n",
      "0.7274802800297181\n",
      "0.7233477457158844\n",
      "0.5764503284940196\n",
      "0.5724995577370641\n",
      "0.5900349620925973\n",
      "0.7059014119496053\n",
      "0.5879837346256183\n",
      "0.5682705456894483\n",
      "0.6829107859906598\n",
      "0.5882619029585566\n",
      "0.5879837346256183\n",
      "0.5682705456894483\n",
      "0.5969801809208133\n",
      "0.5922332575295298\n",
      "0.5807869814176605\n",
      "0.741671347013992\n",
      "0.5882619029585566\n",
      "0.5764503284940196\n",
      "0.6788859729410153\n",
      "0.5682705456894483\n",
      "0.5922332575295298\n",
      "0.5812505968077692\n",
      "0.6829107859906598\n",
      "0.6729029586238544\n",
      "0.5900349620925973\n",
      "0.5891955453574895\n",
      "0.5946975227988478\n",
      "0.5574576527108244\n",
      "0.5800798443301842\n",
      "0.5574576527108244\n",
      "0.5879837346256183\n",
      "0.6853752062365983\n",
      "0.5724995577370641\n",
      "0.6700988816019597\n",
      "0.5900349620925973\n",
      "0.6730991620597173\n",
      "0.7034433491942513\n",
      "0.5969801809208133\n",
      "0.5682705456894483\n",
      "0.5812505968077692\n",
      "0.5922332575295298\n",
      "0.5530170147370148\n",
      "0.5568086214650532\n",
      "0.5682705456894483\n",
      "0.7010230060165699\n",
      "0.5879837346256183\n",
      "0.5895686683001795\n",
      "0.7079596280564682\n",
      "0.5724995577370641\n",
      "0.5879837346256183\n",
      "0.6670048347548846\n",
      "0.584292671736899\n",
      "0.5900349620925973\n",
      "0.584292671736899\n",
      "0.5800798443301842\n",
      "0.6729029586238544\n",
      "0.5879837346256183\n",
      "0.6704324346563864\n",
      "0.5724995577370641\n",
      "0.5895686683001795\n",
      "0.5800798443301842\n",
      "0.5891955453574895\n",
      "0.5724995577370641\n",
      "0.5538015044117903\n",
      "0.6787438297553232\n",
      "0.7490029638349472\n",
      "0.5574576527108244\n",
      "0.6853752062365983\n",
      "0.584292671736899\n",
      "0.5895686683001795\n",
      "0.5922332575295298\n",
      "0.5895686683001795\n"
     ]
    },
    {
     "name": "stdout",
     "output_type": "stream",
     "text": [
      "0.5946975227988478\n",
      "0.7316429453989772\n",
      "0.5724995577370641\n",
      "0.6788859729410153\n",
      "0.7063021869104704\n",
      "0.5974175387717684\n",
      "0.5969801809208133\n",
      "0.5891955453574895\n",
      "0.5812505968077692\n",
      "0.5807869814176605\n",
      "0.5812505968077692\n",
      "0.5922332575295298\n",
      "0.5807869814176605\n",
      "0.5682705456894483\n",
      "0.5895686683001795\n",
      "0.5891955453574895\n",
      "0.5969801809208133\n",
      "0.5809102136492412\n",
      "0.5724995577370641\n",
      "0.5574576527108244\n",
      "0.5724995577370641\n",
      "0.5812505968077692\n",
      "0.5969801809208133\n",
      "0.5891955453574895\n",
      "0.5882619029585566\n",
      "0.6797909539898066\n",
      "0.5974175387717684\n",
      "0.5762918645369302\n",
      "0.5969801809208133\n",
      "0.5895686683001795\n",
      "0.6788859729410153\n",
      "0.5809102136492412\n",
      "0.5879837346256183\n",
      "0.6853752062365983\n",
      "0.6797382291954442\n",
      "0.5762918645369302\n",
      "0.5764503284940196\n",
      "0.5767147831050022\n",
      "0.6729029586238544\n",
      "0.5891955453574895\n",
      "0.5767147831050022\n",
      "0.5922332575295298\n",
      "0.5767147831050021\n",
      "0.7169992318427127\n",
      "0.5800798443301842\n",
      "0.5974175387717684\n",
      "0.5762918645369302\n",
      "0.5895686683001795\n",
      "0.5922332575295298\n",
      "0.5682705456894483\n",
      "0.5879837346256183\n",
      "0.5724995577370641\n",
      "0.5764503284940196\n",
      "0.7423241587383047\n",
      "0.5891955453574895\n",
      "0.5891955453574895\n",
      "0.5974175387717684\n",
      "0.5724995577370641\n",
      "0.5974175387717684\n",
      "0.5767147831050022\n",
      "0.5764503284940196\n",
      "0.5882619029585566\n",
      "0.5767147831050022\n",
      "0.5762918645369302\n",
      "0.5764503284940196\n",
      "0.5969801809208133\n",
      "0.5895686683001795\n",
      "0.5682705456894483\n",
      "0.5807869814176605\n",
      "0.5527754581515063\n",
      "0.5467844868203281\n",
      "0.5900349620925973\n",
      "0.5882619029585566\n",
      "0.5800798443301842\n",
      "0.5969801809208133\n",
      "0.5882619029585566\n",
      "0.5969801809208133\n",
      "0.5807869814176605\n",
      "0.5882619029585566\n",
      "0.6788859729410153\n",
      "0.5812505968077692\n",
      "0.7306317357269889\n",
      "0.5764503284940196\n",
      "0.5807869814176605\n",
      "0.5891955453574895\n",
      "0.5682705456894483\n",
      "0.5800798443301842\n",
      "0.5767147831050022\n",
      "0.7652178657652117\n",
      "0.5969801809208133\n",
      "0.5882619029585566\n",
      "0.5812505968077692\n",
      "0.5922332575295298\n",
      "0.5946975227988478\n",
      "0.6829107859906598\n",
      "0.5486803545028547\n",
      "0.5891955453574895\n",
      "0.7286653132303739\n",
      "0.5974175387717684\n",
      "0.5882619029585566\n",
      "0.5767147831050021\n",
      "0.5526024078851428\n",
      "0.5807869814176605\n",
      "0.5974175387717684\n",
      "0.5762918645369302\n",
      "0.5682705456894483\n",
      "0.5882619029585566\n",
      "0.5448693211038564\n",
      "0.5591225382545051\n",
      "0.5882619029585566\n",
      "0.6729029586238544\n",
      "0.5764503284940196\n",
      "0.6731679590622207\n",
      "0.5922332575295298\n",
      "0.5762918645369302\n",
      "0.5724995577370641\n",
      "0.5724995577370641\n",
      "0.5762918645369302\n",
      "0.7175526574942793\n",
      "0.5574576527108244\n",
      "0.5724995577370641\n",
      "0.5879837346256183\n",
      "0.7634015703771279\n",
      "0.7387016458972123\n",
      "0.5764503284940196\n",
      "0.5724995577370641\n",
      "0.5764503284940196\n",
      "0.6853752062365983\n",
      "0.5809102136492412\n",
      "0.5946975227988478\n",
      "0.7481477725168575\n",
      "0.5895686683001795\n",
      "0.5946975227988478\n",
      "0.7062544378094144\n",
      "0.5969801809208133\n",
      "0.5946975227988478\n",
      "0.6788859729410153\n",
      "0.5682705456894483\n",
      "0.5812505968077692\n",
      "0.5969801809208133\n",
      "0.5764503284940196\n",
      "0.584292671736899\n",
      "0.5974175387717684\n",
      "0.5800798443301842\n",
      "0.5946975227988478\n",
      "0.7564110835598488\n",
      "0.5515964360095871\n",
      "0.5554430641780029\n",
      "0.5724995577370641\n",
      "0.5812505968077692\n",
      "0.5767147831050021\n",
      "0.6699307741063061\n",
      "0.6797909539898066\n",
      "0.5539950625941555\n",
      "0.5882619029585566\n",
      "0.5809102136492412\n",
      "0.5812505968077692\n",
      "0.7062049911719795\n",
      "0.5812505968077692\n",
      "0.5809102136492412\n",
      "0.5922332575295298\n",
      "0.549064630041388\n",
      "0.7211341850703037\n",
      "0.5974175387717684\n",
      "0.5974175387717684\n",
      "0.5552726922098007\n",
      "0.5762918645369302\n",
      "0.7277962379377025\n",
      "0.7526283454552978\n",
      "0.5879837346256183\n",
      "0.5164218506038545\n",
      "0.5574576527108244\n",
      "0.5946975227988478\n",
      "0.5724995577370641\n",
      "0.7335670301929715\n",
      "0.5922332575295298\n",
      "0.7010230060165699\n",
      "0.584292671736899\n",
      "0.5487798981368934\n",
      "0.5969801809208133\n",
      "0.7211341850703037\n",
      "0.7274802800297181\n",
      "0.7384187701158431\n",
      "0.6853752062365983\n",
      "0.728604422283142\n",
      "0.7635200606242187\n",
      "0.7232824570497489\n",
      "0.5809102136492412\n",
      "0.5764503284940196\n",
      "0.584292671736899\n",
      "0.5764503284940196\n",
      "0.5900349620925973\n",
      "0.7233477457158844\n",
      "0.5488279210180418\n",
      "0.6730991620597173\n",
      "0.7038373640024058\n",
      "0.5895686683001795\n",
      "0.5922332575295298\n",
      "0.5767147831050021\n",
      "0.7184675521510406\n",
      "0.6753072897864598\n",
      "0.6729029586238544\n",
      "0.5922332575295298\n",
      "0.5762918645369302\n",
      "0.5969801809208133\n",
      "0.5767147831050021\n",
      "0.6534669471623438\n",
      "0.5882619029585566\n",
      "0.5879837346256183\n",
      "0.5574576527108244\n",
      "0.5891955453574895\n",
      "0.5764503284940196\n",
      "0.5974175387717684\n",
      "0.584292671736899\n",
      "0.5807869814176605\n",
      "0.5946975227988478\n",
      "0.5922332575295298\n",
      "0.5969801809208133\n",
      "0.5574576527108244\n",
      "0.5922332575295298\n",
      "0.5515220073258168\n",
      "0.5812505968077692\n",
      "0.6829107859906598\n",
      "0.5974175387717684\n",
      "0.5807869814176605\n",
      "0.5574576527108244\n",
      "0.5809102136492412\n",
      "0.6731917782557195\n",
      "0.5812505968077692\n",
      "0.584292671736899\n",
      "0.5762918645369302\n",
      "0.5900349620925973\n",
      "0.5922332575295298\n",
      "0.5800798443301842\n",
      "0.5812505968077692\n",
      "0.5762918645369302\n",
      "0.5764503284940196\n",
      "0.5895686683001795\n",
      "0.584292671736899\n",
      "0.5879837346256183\n",
      "0.5882619029585566\n",
      "0.6731917782557195\n",
      "0.5809102136492412\n",
      "0.5946975227988478\n",
      "0.5969801809208133\n",
      "0.5809102136492412\n",
      "0.5974175387717684\n",
      "0.5807869814176605\n",
      "0.5882619029585566\n",
      "0.5764503284940196\n",
      "0.5574576527108244\n",
      "0.5807869814176605\n",
      "0.7702336856858323\n",
      "0.5922332575295298\n",
      "0.7034433491942513\n",
      "0.7144738667685069\n",
      "0.5879837346256183\n",
      "0.554861469254876\n",
      "0.5812505968077692\n",
      "0.7606945683633264\n",
      "0.584292671736899\n",
      "0.5879837346256183\n",
      "0.5922332575295298\n",
      "0.6704324346563864\n",
      "0.5682705456894483\n",
      "0.5800798443301842\n",
      "0.6812782808465253\n",
      "0.5767147831050021\n",
      "0.5767147831050021\n",
      "0.584292671736899\n",
      "0.5563972789332303\n",
      "0.5800798443301842\n",
      "0.5900349620925973\n",
      "0.5922332575295298\n",
      "0.5767147831050022\n",
      "0.5534938348904482\n",
      "0.5762918645369302\n",
      "0.5809102136492412\n",
      "0.5922332575295298\n",
      "0.5807869814176605\n",
      "0.5800798443301842\n",
      "0.5682705456894483\n",
      "0.5891955453574895\n",
      "0.5807869814176605\n",
      "0.5969801809208133\n",
      "0.5922332575295298\n",
      "0.5974175387717684\n",
      "0.5812505968077692\n",
      "0.5764503284940196\n",
      "0.5574576527108244\n",
      "0.5807869814176605\n",
      "0.5809102136492412\n",
      "0.5895686683001795\n",
      "0.5900349620925973\n",
      "0.5895686683001795\n",
      "0.5895686683001795\n",
      "0.5891955453574895\n",
      "0.7144738667685069\n",
      "0.69709048238322\n",
      "0.5767147831050021\n",
      "0.5879837346256183\n",
      "0.5809102136492412\n",
      "0.5922332575295298\n",
      "0.5891955453574895\n",
      "0.5151762261883163\n",
      "0.5974175387717684\n",
      "0.5879837346256183\n",
      "0.5891955453574895\n",
      "0.5922332575295298\n",
      "0.5800798443301842\n",
      "0.584292671736899\n",
      "0.5974175387717684\n",
      "0.5800798443301842\n",
      "0.5807869814176605\n",
      "0.5974175387717684\n",
      "0.7608525972373736\n",
      "0.7659386438967751\n",
      "0.7184675521510406\n",
      "0.5946975227988478\n",
      "0.5922332575295298\n",
      "0.5895686683001795\n",
      "0.5974175387717684\n",
      "0.7404991585641449\n",
      "0.5762918645369302\n",
      "0.5969801809208133\n",
      "0.5974175387717684\n",
      "0.5900349620925973\n",
      "0.584292671736899\n",
      "0.5879837346256183\n",
      "0.6534669471623438\n",
      "0.73318739227255\n",
      "0.7521414536919236\n",
      "0.513258783064166\n",
      "0.5800798443301842\n",
      "0.5809102136492412\n",
      "0.5764503284940196\n",
      "0.6731679590622207\n",
      "0.7120538327636279\n",
      "0.5809102136492412\n",
      "0.7386551657975229\n",
      "0.5922332575295298\n",
      "0.5879837346256183\n",
      "0.6812782808465253\n",
      "0.5891955453574895\n",
      "0.7284180175288673\n",
      "0.5891955453574895\n",
      "0.7388427603767364\n",
      "0.584292671736899\n",
      "0.5438825317527971\n",
      "0.7144738667685069\n",
      "0.5530170147370155\n",
      "0.5724995577370641\n",
      "0.5812505968077692\n",
      "0.5800798443301842\n",
      "0.5946975227988478\n",
      "0.5807869814176605\n",
      "0.5812505968077692\n",
      "0.6858979724522634\n",
      "0.5812505968077692\n",
      "0.5800798443301842\n",
      "0.5809102136492412\n",
      "0.5969801809208133\n",
      "0.6829107859906598\n",
      "0.5800798443301842\n",
      "0.5764503284940196\n",
      "0.5895686683001795\n",
      "0.5767147831050021\n",
      "0.5946975227988478\n",
      "0.5900349620925973\n",
      "0.6788859729410153\n",
      "0.5974175387717684\n",
      "0.5946975227988478\n",
      "0.5445209526629555\n",
      "0.5762918645369302\n",
      "0.5468318239539883\n",
      "0.5895686683001795\n",
      "0.5800798443301842\n",
      "0.5895686683001795\n",
      "0.5660792941302748\n",
      "0.5724995577370641\n",
      "0.6704324346563864\n",
      "0.5974175387717684\n",
      "0.584292671736899\n",
      "0.5807869814176605\n",
      "0.5812505968077692\n",
      "0.5974175387717684\n",
      "0.584292671736899\n",
      "0.5800798443301842\n",
      "0.5574576527108244\n",
      "0.584292671736899\n",
      "0.5969801809208133\n",
      "0.5974175387717684\n",
      "0.5800798443301842\n",
      "0.5800798443301842\n",
      "0.5767147831050022\n",
      "0.5682705456894483\n",
      "0.6753072897864598\n",
      "0.6788859729410153\n",
      "0.5812505968077692\n",
      "0.5879837346256183\n",
      "0.5891955453574895\n",
      "0.5895686683001795\n",
      "0.5922332575295298\n",
      "0.5895686683001795\n",
      "0.5724995577370641\n",
      "0.5812505968077692\n",
      "0.5895686683001795\n",
      "0.5807869814176605\n",
      "0.5767147831050022\n",
      "0.7010230060165699\n",
      "0.5891955453574895\n",
      "0.5762918645369302\n",
      "0.5974175387717684\n",
      "0.7465691301850299\n",
      "0.7316429453989772\n",
      "0.5946975227988478\n",
      "0.5882619029585566\n",
      "0.5922332575295298\n",
      "0.5895686683001795\n",
      "0.5891955453574895\n",
      "0.5900349620925973\n",
      "0.5682705456894483\n",
      "0.5900349620925973\n",
      "0.584292671736899\n",
      "0.5879837346256183\n",
      "0.5762918645369302\n",
      "0.5762918645369302\n",
      "0.5891955453574895\n",
      "0.5879837346256183\n",
      "0.5762918645369302\n",
      "0.5682705456894483\n",
      "0.728604422283142\n",
      "0.5882619029585566\n",
      "0.6812782808465253\n",
      "0.5807869814176605\n",
      "0.6731917782557195\n",
      "0.5891955453574895\n",
      "0.5922332575295298\n",
      "0.7320973357701811\n",
      "0.5724995577370641\n",
      "0.5809102136492412\n",
      "0.5969801809208133\n",
      "0.5946975227988478\n",
      "0.5922332575295298\n",
      "0.5969801809208133\n",
      "0.5812505968077692\n",
      "0.5969801809208133\n",
      "0.5762918645369302\n",
      "0.5807869814176605\n",
      "0.5895686683001795\n",
      "0.5946975227988478\n",
      "0.5762918645369302\n",
      "0.5764503284940196\n",
      "0.5032566857557219\n",
      "0.6853752062365983\n",
      "0.5946975227988478\n",
      "0.5900349620925973\n",
      "0.5767147831050021\n",
      "0.5724995577370641\n",
      "0.5762918645369302\n",
      "0.5900349620925973\n",
      "0.5800798443301842\n",
      "0.5891955453574895\n",
      "0.5946975227988478\n",
      "0.5682705456894483\n",
      "0.5767147831050021\n",
      "0.584292671736899\n",
      "0.5682705456894483\n",
      "0.5682705456894483\n",
      "0.5767147831050021\n",
      "0.5922332575295298\n",
      "0.5922332575295298\n",
      "0.5974175387717684\n",
      "0.5891955453574895\n",
      "0.584292671736899\n",
      "0.5764503284940196\n",
      "0.7393997531861984\n",
      "0.6787438297553232\n",
      "0.5762918645369302\n",
      "0.5900349620925973\n",
      "0.5812505968077692\n",
      "0.7063021869104704\n",
      "0.5467349979039569\n",
      "0.5882619029585566\n",
      "0.6729029586238544\n",
      "0.5724995577370641\n",
      "0.5629341330179667\n",
      "0.7333983348037758\n",
      "0.5800798443301842\n",
      "0.5900349620925973\n",
      "0.5807869814176605\n",
      "0.5767147831050021\n",
      "0.584292671736899\n",
      "0.5800798443301842\n",
      "0.7554554525369392\n",
      "0.5812505968077692\n",
      "0.5767147831050021\n",
      "0.5486328693181783\n",
      "0.5574576527108244\n",
      "0.5554122304694544\n",
      "0.5895686683001795\n",
      "0.5879837346256183\n",
      "0.5682705456894483\n",
      "0.5946975227988478\n",
      "0.5682705456894483\n",
      "0.6797909539898066\n",
      "0.5900349620925973\n",
      "0.5724995577370641\n",
      "0.5891955453574895\n",
      "0.5974175387717684\n",
      "0.5764503284940196\n",
      "0.6853752062365983\n",
      "0.5891955453574895\n",
      "0.5900349620925973\n",
      "0.5767147831050022\n",
      "0.5682705456894483\n",
      "0.6700988816019597\n",
      "0.6797909539898066\n",
      "0.5900349620925973\n",
      "0.5809102136492412\n",
      "0.5807869814176605\n",
      "0.5809102136492412\n",
      "0.5974175387717684\n",
      "0.5895686683001795\n",
      "0.5974175387717684\n",
      "0.5969801809208133\n",
      "0.5969801809208133\n",
      "0.5807869814176605\n",
      "0.5900349620925973\n",
      "0.7034433491942513\n",
      "0.5574576527108244\n",
      "0.5767147831050021\n",
      "0.5682705456894483\n",
      "0.5764503284940196\n",
      "0.5812505968077692\n",
      "0.5969801809208133\n",
      "0.6731679590622207\n",
      "0.5809102136492412\n",
      "0.5764503284940196\n",
      "0.5682705456894483\n",
      "0.5800798443301842\n",
      "0.5812505968077692\n",
      "0.5895686683001795\n",
      "0.5574576527108244\n",
      "0.5891955453574895\n",
      "0.5767147831050021\n",
      "0.5800798443301842\n",
      "0.5812505968077692\n",
      "0.5900349620925973\n",
      "0.5764503284940196\n",
      "0.5724995577370641\n",
      "0.5895686683001795\n",
      "0.5762918645369302\n",
      "0.5807869814176605\n",
      "0.5974175387717684\n",
      "0.5574576527108246\n",
      "0.5800798443301842\n",
      "0.6853752062365983\n",
      "0.5800798443301842\n",
      "0.5764503284940196\n",
      "0.5974175387717684\n",
      "0.5812505968077692\n",
      "0.5882619029585566\n",
      "0.5800798443301842\n",
      "0.5969801809208133\n",
      "0.584292671736899\n",
      "0.5724995577370641\n",
      "0.5900349620925973\n",
      "0.5895686683001795\n",
      "0.5895686683001795\n",
      "0.7062049911719795\n",
      "0.5762918645369302\n",
      "0.7079596280564683\n",
      "0.6699307741063061\n",
      "0.6731917782557195\n",
      "0.584292671736899\n",
      "0.5762918645369302\n",
      "0.5812505968077692\n",
      "0.584292671736899\n",
      "0.5882619029585566\n",
      "0.5891955453574895\n",
      "0.5724995577370641\n",
      "0.5506907904675811\n",
      "0.5809102136492412\n",
      "0.5922332575295298\n",
      "0.5762918645369302\n",
      "0.5809102136492412\n",
      "0.5456717467019426\n",
      "0.5800798443301842\n",
      "0.5895686683001795\n",
      "0.5922332575295298\n",
      "0.5762918645369302\n",
      "0.5767147831050021\n",
      "0.5764503284940196\n",
      "0.5895686683001795\n",
      "0.5764503284940196\n",
      "0.5807869814176605\n",
      "0.5879837346256183\n",
      "0.6629788448488814\n",
      "0.5682705456894483\n",
      "0.5969801809208133\n",
      "0.5879837346256183\n",
      "0.5764503284940196\n",
      "0.5812505968077692\n",
      "0.5879837346256183\n",
      "0.6858979724522634\n",
      "0.5946975227988478\n",
      "0.6829107859906598\n",
      "0.5800798443301842\n",
      "0.5900349620925973\n",
      "0.5764503284940196\n",
      "0.5800798443301842\n",
      "0.5946975227988478\n",
      "0.5974175387717684\n",
      "0.5974175387717684\n",
      "0.5800798443301842\n",
      "0.5682705456894483\n",
      "0.5900349620925973\n",
      "0.7405246281781119\n",
      "0.5809102136492412\n",
      "0.584292671736899\n",
      "0.5767147831050022\n",
      "0.5974175387717684\n",
      "0.7119492267515878\n",
      "0.5809102136492412\n",
      "0.5882619029585566\n",
      "0.5891955453574895\n",
      "0.5574576527108244\n",
      "0.584292671736899\n",
      "0.5724995577370641\n",
      "0.5900349620925973\n",
      "0.5882619029585566\n",
      "0.001221745065496882\n"
     ]
    }
   ],
   "source": [
    "t_given_w = calc_t_given_w(lda.components_, doc_topic_dist)\n",
    "document_topic_dist = calc_t_given_d(doc_topic_dist)\n",
    "\n",
    "for i, word_topic_dist in enumerate(t_given_w):\n",
    "    print(cosine(word_topic_dist, t_given_d))"
   ]
  },
  {
   "cell_type": "code",
   "execution_count": null,
   "metadata": {},
   "outputs": [],
   "source": []
  }
 ],
 "metadata": {
  "kernelspec": {
   "display_name": "Python 3",
   "language": "python",
   "name": "python3"
  },
  "language_info": {
   "codemirror_mode": {
    "name": "ipython",
    "version": 3
   },
   "file_extension": ".py",
   "mimetype": "text/x-python",
   "name": "python",
   "nbconvert_exporter": "python",
   "pygments_lexer": "ipython3",
   "version": "3.7.3"
  }
 },
 "nbformat": 4,
 "nbformat_minor": 2
}
