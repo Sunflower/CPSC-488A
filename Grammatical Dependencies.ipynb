{
 "cells": [
  {
   "cell_type": "code",
   "execution_count": 1,
   "metadata": {},
   "outputs": [],
   "source": [
    "import stanfordnlp\n",
    "import pandas as pd\n",
    "import csv"
   ]
  },
  {
   "cell_type": "code",
   "execution_count": 2,
   "metadata": {
    "scrolled": true
   },
   "outputs": [
    {
     "name": "stdout",
     "output_type": "stream",
     "text": [
      "Using the default treebank \"en_ewt\" for language \"en\".\n",
      "Would you like to download the models for: en_ewt now? (Y/n)\n",
      "\n",
      "Default download directory: C:\\Users\\ezutp\\stanfordnlp_resources\n",
      "Hit enter to continue or type an alternate directory.\n",
      "\n",
      "Downloading models for: en_ewt\n",
      "Download location: C:\\Users\\ezutp\\stanfordnlp_resources\\en_ewt_models.zip\n"
     ]
    },
    {
     "name": "stderr",
     "output_type": "stream",
     "text": [
      "100%|███████████████████████████████████████████████████████████████████████████████████████████████████████████████| 235M/235M [07:36<00:00, 501kB/s]\n"
     ]
    },
    {
     "name": "stdout",
     "output_type": "stream",
     "text": [
      "\n",
      "Download complete.  Models saved to: C:\\Users\\ezutp\\stanfordnlp_resources\\en_ewt_models.zip\n",
      "Extracting models file for: en_ewt\n",
      "Cleaning up...Done.\n"
     ]
    }
   ],
   "source": [
    "stanfordnlp.download('en', force=True)"
   ]
  },
  {
   "cell_type": "code",
   "execution_count": 3,
   "metadata": {
    "scrolled": true
   },
   "outputs": [
    {
     "name": "stdout",
     "output_type": "stream",
     "text": [
      "Use device: cpu\n",
      "---\n",
      "Loading: tokenize\n",
      "With settings: \n",
      "{'model_path': 'C:\\\\Users\\\\ezutp\\\\stanfordnlp_resources\\\\en_ewt_models\\\\en_ewt_tokenizer.pt', 'lang': 'en', 'shorthand': 'en_ewt', 'mode': 'predict'}\n",
      "---\n",
      "Loading: pos\n",
      "With settings: \n",
      "{'model_path': 'C:\\\\Users\\\\ezutp\\\\stanfordnlp_resources\\\\en_ewt_models\\\\en_ewt_tagger.pt', 'pretrain_path': 'C:\\\\Users\\\\ezutp\\\\stanfordnlp_resources\\\\en_ewt_models\\\\en_ewt.pretrain.pt', 'lang': 'en', 'shorthand': 'en_ewt', 'mode': 'predict'}\n",
      "---\n",
      "Loading: lemma\n",
      "With settings: \n",
      "{'model_path': 'C:\\\\Users\\\\ezutp\\\\stanfordnlp_resources\\\\en_ewt_models\\\\en_ewt_lemmatizer.pt', 'lang': 'en', 'shorthand': 'en_ewt', 'mode': 'predict'}\n",
      "Building an attentional Seq2Seq model...\n",
      "Using a Bi-LSTM encoder\n",
      "Using soft attention for LSTM.\n",
      "Finetune all embeddings.\n",
      "[Running seq2seq lemmatizer with edit classifier]\n",
      "---\n",
      "Loading: depparse\n",
      "With settings: \n",
      "{'model_path': 'C:\\\\Users\\\\ezutp\\\\stanfordnlp_resources\\\\en_ewt_models\\\\en_ewt_parser.pt', 'pretrain_path': 'C:\\\\Users\\\\ezutp\\\\stanfordnlp_resources\\\\en_ewt_models\\\\en_ewt.pretrain.pt', 'lang': 'en', 'shorthand': 'en_ewt', 'mode': 'predict'}\n",
      "Done loading processors!\n",
      "---\n"
     ]
    }
   ],
   "source": [
    "nlp = stanfordnlp.Pipeline()"
   ]
  },
  {
   "cell_type": "code",
   "execution_count": 6,
   "metadata": {},
   "outputs": [
    {
     "name": "stderr",
     "output_type": "stream",
     "text": [
      "..\\aten\\src\\ATen\\native\\LegacyDefinitions.cpp:14: UserWarning: masked_fill_ received a mask with dtype torch.uint8, this behavior is now deprecated,please use a mask with dtype torch.bool instead.\n",
      "..\\aten\\src\\ATen\\native\\LegacyDefinitions.cpp:14: UserWarning: masked_fill_ received a mask with dtype torch.uint8, this behavior is now deprecated,please use a mask with dtype torch.bool instead.\n",
      "..\\aten\\src\\ATen\\native\\LegacyDefinitions.cpp:14: UserWarning: masked_fill_ received a mask with dtype torch.uint8, this behavior is now deprecated,please use a mask with dtype torch.bool instead.\n",
      "..\\aten\\src\\ATen\\native\\LegacyDefinitions.cpp:14: UserWarning: masked_fill_ received a mask with dtype torch.uint8, this behavior is now deprecated,please use a mask with dtype torch.bool instead.\n",
      "..\\aten\\src\\ATen\\native\\LegacyDefinitions.cpp:14: UserWarning: masked_fill_ received a mask with dtype torch.uint8, this behavior is now deprecated,please use a mask with dtype torch.bool instead.\n",
      "..\\aten\\src\\ATen\\native\\LegacyDefinitions.cpp:14: UserWarning: masked_fill_ received a mask with dtype torch.uint8, this behavior is now deprecated,please use a mask with dtype torch.bool instead.\n",
      "..\\aten\\src\\ATen\\native\\LegacyDefinitions.cpp:14: UserWarning: masked_fill_ received a mask with dtype torch.uint8, this behavior is now deprecated,please use a mask with dtype torch.bool instead.\n",
      "..\\aten\\src\\ATen\\native\\LegacyDefinitions.cpp:14: UserWarning: masked_fill_ received a mask with dtype torch.uint8, this behavior is now deprecated,please use a mask with dtype torch.bool instead.\n",
      "..\\aten\\src\\ATen\\native\\LegacyDefinitions.cpp:14: UserWarning: masked_fill_ received a mask with dtype torch.uint8, this behavior is now deprecated,please use a mask with dtype torch.bool instead.\n",
      "..\\aten\\src\\ATen\\native\\LegacyDefinitions.cpp:14: UserWarning: masked_fill_ received a mask with dtype torch.uint8, this behavior is now deprecated,please use a mask with dtype torch.bool instead.\n",
      "..\\aten\\src\\ATen\\native\\LegacyDefinitions.cpp:14: UserWarning: masked_fill_ received a mask with dtype torch.uint8, this behavior is now deprecated,please use a mask with dtype torch.bool instead.\n",
      "..\\aten\\src\\ATen\\native\\LegacyDefinitions.cpp:14: UserWarning: masked_fill_ received a mask with dtype torch.uint8, this behavior is now deprecated,please use a mask with dtype torch.bool instead.\n",
      "..\\aten\\src\\ATen\\native\\LegacyDefinitions.cpp:14: UserWarning: masked_fill_ received a mask with dtype torch.uint8, this behavior is now deprecated,please use a mask with dtype torch.bool instead.\n",
      "..\\aten\\src\\ATen\\native\\LegacyDefinitions.cpp:14: UserWarning: masked_fill_ received a mask with dtype torch.uint8, this behavior is now deprecated,please use a mask with dtype torch.bool instead.\n",
      "..\\aten\\src\\ATen\\native\\LegacyDefinitions.cpp:14: UserWarning: masked_fill_ received a mask with dtype torch.uint8, this behavior is now deprecated,please use a mask with dtype torch.bool instead.\n",
      "..\\aten\\src\\ATen\\native\\LegacyDefinitions.cpp:14: UserWarning: masked_fill_ received a mask with dtype torch.uint8, this behavior is now deprecated,please use a mask with dtype torch.bool instead.\n",
      "..\\aten\\src\\ATen\\native\\LegacyDefinitions.cpp:14: UserWarning: masked_fill_ received a mask with dtype torch.uint8, this behavior is now deprecated,please use a mask with dtype torch.bool instead.\n",
      "..\\aten\\src\\ATen\\native\\LegacyDefinitions.cpp:14: UserWarning: masked_fill_ received a mask with dtype torch.uint8, this behavior is now deprecated,please use a mask with dtype torch.bool instead.\n",
      "..\\aten\\src\\ATen\\native\\LegacyDefinitions.cpp:14: UserWarning: masked_fill_ received a mask with dtype torch.uint8, this behavior is now deprecated,please use a mask with dtype torch.bool instead.\n",
      "..\\aten\\src\\ATen\\native\\LegacyDefinitions.cpp:14: UserWarning: masked_fill_ received a mask with dtype torch.uint8, this behavior is now deprecated,please use a mask with dtype torch.bool instead.\n",
      "..\\aten\\src\\ATen\\native\\LegacyDefinitions.cpp:14: UserWarning: masked_fill_ received a mask with dtype torch.uint8, this behavior is now deprecated,please use a mask with dtype torch.bool instead.\n",
      "..\\aten\\src\\ATen\\native\\LegacyDefinitions.cpp:14: UserWarning: masked_fill_ received a mask with dtype torch.uint8, this behavior is now deprecated,please use a mask with dtype torch.bool instead.\n",
      "..\\aten\\src\\ATen\\native\\LegacyDefinitions.cpp:14: UserWarning: masked_fill_ received a mask with dtype torch.uint8, this behavior is now deprecated,please use a mask with dtype torch.bool instead.\n",
      "..\\aten\\src\\ATen\\native\\LegacyDefinitions.cpp:14: UserWarning: masked_fill_ received a mask with dtype torch.uint8, this behavior is now deprecated,please use a mask with dtype torch.bool instead.\n",
      "..\\aten\\src\\ATen\\native\\LegacyDefinitions.cpp:14: UserWarning: masked_fill_ received a mask with dtype torch.uint8, this behavior is now deprecated,please use a mask with dtype torch.bool instead.\n",
      "..\\aten\\src\\ATen\\native\\LegacyDefinitions.cpp:14: UserWarning: masked_fill_ received a mask with dtype torch.uint8, this behavior is now deprecated,please use a mask with dtype torch.bool instead.\n",
      "..\\aten\\src\\ATen\\native\\LegacyDefinitions.cpp:14: UserWarning: masked_fill_ received a mask with dtype torch.uint8, this behavior is now deprecated,please use a mask with dtype torch.bool instead.\n",
      "..\\aten\\src\\ATen\\native\\LegacyDefinitions.cpp:14: UserWarning: masked_fill_ received a mask with dtype torch.uint8, this behavior is now deprecated,please use a mask with dtype torch.bool instead.\n",
      "..\\aten\\src\\ATen\\native\\LegacyDefinitions.cpp:14: UserWarning: masked_fill_ received a mask with dtype torch.uint8, this behavior is now deprecated,please use a mask with dtype torch.bool instead.\n",
      "..\\aten\\src\\ATen\\native\\LegacyDefinitions.cpp:14: UserWarning: masked_fill_ received a mask with dtype torch.uint8, this behavior is now deprecated,please use a mask with dtype torch.bool instead.\n",
      "..\\aten\\src\\ATen\\native\\LegacyDefinitions.cpp:14: UserWarning: masked_fill_ received a mask with dtype torch.uint8, this behavior is now deprecated,please use a mask with dtype torch.bool instead.\n",
      "..\\aten\\src\\ATen\\native\\LegacyDefinitions.cpp:14: UserWarning: masked_fill_ received a mask with dtype torch.uint8, this behavior is now deprecated,please use a mask with dtype torch.bool instead.\n",
      "..\\aten\\src\\ATen\\native\\LegacyDefinitions.cpp:14: UserWarning: masked_fill_ received a mask with dtype torch.uint8, this behavior is now deprecated,please use a mask with dtype torch.bool instead.\n",
      "..\\aten\\src\\ATen\\native\\LegacyDefinitions.cpp:14: UserWarning: masked_fill_ received a mask with dtype torch.uint8, this behavior is now deprecated,please use a mask with dtype torch.bool instead.\n",
      "..\\aten\\src\\ATen\\native\\LegacyDefinitions.cpp:14: UserWarning: masked_fill_ received a mask with dtype torch.uint8, this behavior is now deprecated,please use a mask with dtype torch.bool instead.\n",
      "..\\aten\\src\\ATen\\native\\LegacyDefinitions.cpp:14: UserWarning: masked_fill_ received a mask with dtype torch.uint8, this behavior is now deprecated,please use a mask with dtype torch.bool instead.\n",
      "..\\aten\\src\\ATen\\native\\LegacyDefinitions.cpp:14: UserWarning: masked_fill_ received a mask with dtype torch.uint8, this behavior is now deprecated,please use a mask with dtype torch.bool instead.\n",
      "..\\aten\\src\\ATen\\native\\LegacyDefinitions.cpp:14: UserWarning: masked_fill_ received a mask with dtype torch.uint8, this behavior is now deprecated,please use a mask with dtype torch.bool instead.\n",
      "..\\aten\\src\\ATen\\native\\LegacyDefinitions.cpp:14: UserWarning: masked_fill_ received a mask with dtype torch.uint8, this behavior is now deprecated,please use a mask with dtype torch.bool instead.\n",
      "..\\aten\\src\\ATen\\native\\LegacyDefinitions.cpp:14: UserWarning: masked_fill_ received a mask with dtype torch.uint8, this behavior is now deprecated,please use a mask with dtype torch.bool instead.\n",
      "..\\aten\\src\\ATen\\native\\LegacyDefinitions.cpp:14: UserWarning: masked_fill_ received a mask with dtype torch.uint8, this behavior is now deprecated,please use a mask with dtype torch.bool instead.\n",
      "..\\aten\\src\\ATen\\native\\LegacyDefinitions.cpp:14: UserWarning: masked_fill_ received a mask with dtype torch.uint8, this behavior is now deprecated,please use a mask with dtype torch.bool instead.\n"
     ]
    },
    {
     "name": "stderr",
     "output_type": "stream",
     "text": [
      "..\\aten\\src\\ATen\\native\\LegacyDefinitions.cpp:14: UserWarning: masked_fill_ received a mask with dtype torch.uint8, this behavior is now deprecated,please use a mask with dtype torch.bool instead.\n",
      "..\\aten\\src\\ATen\\native\\LegacyDefinitions.cpp:14: UserWarning: masked_fill_ received a mask with dtype torch.uint8, this behavior is now deprecated,please use a mask with dtype torch.bool instead.\n",
      "..\\aten\\src\\ATen\\native\\LegacyDefinitions.cpp:14: UserWarning: masked_fill_ received a mask with dtype torch.uint8, this behavior is now deprecated,please use a mask with dtype torch.bool instead.\n",
      "..\\aten\\src\\ATen\\native\\LegacyDefinitions.cpp:14: UserWarning: masked_fill_ received a mask with dtype torch.uint8, this behavior is now deprecated,please use a mask with dtype torch.bool instead.\n",
      "..\\aten\\src\\ATen\\native\\LegacyDefinitions.cpp:14: UserWarning: masked_fill_ received a mask with dtype torch.uint8, this behavior is now deprecated,please use a mask with dtype torch.bool instead.\n",
      "..\\aten\\src\\ATen\\native\\LegacyDefinitions.cpp:14: UserWarning: masked_fill_ received a mask with dtype torch.uint8, this behavior is now deprecated,please use a mask with dtype torch.bool instead.\n",
      "..\\aten\\src\\ATen\\native\\LegacyDefinitions.cpp:14: UserWarning: masked_fill_ received a mask with dtype torch.uint8, this behavior is now deprecated,please use a mask with dtype torch.bool instead.\n",
      "..\\aten\\src\\ATen\\native\\LegacyDefinitions.cpp:14: UserWarning: masked_fill_ received a mask with dtype torch.uint8, this behavior is now deprecated,please use a mask with dtype torch.bool instead.\n",
      "..\\aten\\src\\ATen\\native\\LegacyDefinitions.cpp:14: UserWarning: masked_fill_ received a mask with dtype torch.uint8, this behavior is now deprecated,please use a mask with dtype torch.bool instead.\n",
      "..\\aten\\src\\ATen\\native\\LegacyDefinitions.cpp:14: UserWarning: masked_fill_ received a mask with dtype torch.uint8, this behavior is now deprecated,please use a mask with dtype torch.bool instead.\n",
      "..\\aten\\src\\ATen\\native\\LegacyDefinitions.cpp:14: UserWarning: masked_fill_ received a mask with dtype torch.uint8, this behavior is now deprecated,please use a mask with dtype torch.bool instead.\n",
      "..\\aten\\src\\ATen\\native\\LegacyDefinitions.cpp:14: UserWarning: masked_fill_ received a mask with dtype torch.uint8, this behavior is now deprecated,please use a mask with dtype torch.bool instead.\n",
      "..\\aten\\src\\ATen\\native\\LegacyDefinitions.cpp:14: UserWarning: masked_fill_ received a mask with dtype torch.uint8, this behavior is now deprecated,please use a mask with dtype torch.bool instead.\n",
      "..\\aten\\src\\ATen\\native\\LegacyDefinitions.cpp:14: UserWarning: masked_fill_ received a mask with dtype torch.uint8, this behavior is now deprecated,please use a mask with dtype torch.bool instead.\n",
      "..\\aten\\src\\ATen\\native\\LegacyDefinitions.cpp:14: UserWarning: masked_fill_ received a mask with dtype torch.uint8, this behavior is now deprecated,please use a mask with dtype torch.bool instead.\n",
      "..\\aten\\src\\ATen\\native\\LegacyDefinitions.cpp:14: UserWarning: masked_fill_ received a mask with dtype torch.uint8, this behavior is now deprecated,please use a mask with dtype torch.bool instead.\n",
      "..\\aten\\src\\ATen\\native\\LegacyDefinitions.cpp:14: UserWarning: masked_fill_ received a mask with dtype torch.uint8, this behavior is now deprecated,please use a mask with dtype torch.bool instead.\n",
      "..\\aten\\src\\ATen\\native\\LegacyDefinitions.cpp:14: UserWarning: masked_fill_ received a mask with dtype torch.uint8, this behavior is now deprecated,please use a mask with dtype torch.bool instead.\n",
      "..\\aten\\src\\ATen\\native\\LegacyDefinitions.cpp:14: UserWarning: masked_fill_ received a mask with dtype torch.uint8, this behavior is now deprecated,please use a mask with dtype torch.bool instead.\n",
      "..\\aten\\src\\ATen\\native\\LegacyDefinitions.cpp:14: UserWarning: masked_fill_ received a mask with dtype torch.uint8, this behavior is now deprecated,please use a mask with dtype torch.bool instead.\n",
      "..\\aten\\src\\ATen\\native\\LegacyDefinitions.cpp:14: UserWarning: masked_fill_ received a mask with dtype torch.uint8, this behavior is now deprecated,please use a mask with dtype torch.bool instead.\n",
      "..\\aten\\src\\ATen\\native\\LegacyDefinitions.cpp:14: UserWarning: masked_fill_ received a mask with dtype torch.uint8, this behavior is now deprecated,please use a mask with dtype torch.bool instead.\n",
      "..\\aten\\src\\ATen\\native\\LegacyDefinitions.cpp:14: UserWarning: masked_fill_ received a mask with dtype torch.uint8, this behavior is now deprecated,please use a mask with dtype torch.bool instead.\n",
      "..\\aten\\src\\ATen\\native\\LegacyDefinitions.cpp:14: UserWarning: masked_fill_ received a mask with dtype torch.uint8, this behavior is now deprecated,please use a mask with dtype torch.bool instead.\n",
      "..\\aten\\src\\ATen\\native\\LegacyDefinitions.cpp:14: UserWarning: masked_fill_ received a mask with dtype torch.uint8, this behavior is now deprecated,please use a mask with dtype torch.bool instead.\n",
      "..\\aten\\src\\ATen\\native\\LegacyDefinitions.cpp:14: UserWarning: masked_fill_ received a mask with dtype torch.uint8, this behavior is now deprecated,please use a mask with dtype torch.bool instead.\n",
      "..\\aten\\src\\ATen\\native\\LegacyDefinitions.cpp:14: UserWarning: masked_fill_ received a mask with dtype torch.uint8, this behavior is now deprecated,please use a mask with dtype torch.bool instead.\n",
      "..\\aten\\src\\ATen\\native\\LegacyDefinitions.cpp:14: UserWarning: masked_fill_ received a mask with dtype torch.uint8, this behavior is now deprecated,please use a mask with dtype torch.bool instead.\n",
      "..\\aten\\src\\ATen\\native\\LegacyDefinitions.cpp:14: UserWarning: masked_fill_ received a mask with dtype torch.uint8, this behavior is now deprecated,please use a mask with dtype torch.bool instead.\n",
      "..\\aten\\src\\ATen\\native\\LegacyDefinitions.cpp:14: UserWarning: masked_fill_ received a mask with dtype torch.uint8, this behavior is now deprecated,please use a mask with dtype torch.bool instead.\n",
      "..\\aten\\src\\ATen\\native\\LegacyDefinitions.cpp:14: UserWarning: masked_fill_ received a mask with dtype torch.uint8, this behavior is now deprecated,please use a mask with dtype torch.bool instead.\n",
      "..\\aten\\src\\ATen\\native\\LegacyDefinitions.cpp:14: UserWarning: masked_fill_ received a mask with dtype torch.uint8, this behavior is now deprecated,please use a mask with dtype torch.bool instead.\n",
      "..\\aten\\src\\ATen\\native\\LegacyDefinitions.cpp:14: UserWarning: masked_fill_ received a mask with dtype torch.uint8, this behavior is now deprecated,please use a mask with dtype torch.bool instead.\n",
      "..\\aten\\src\\ATen\\native\\LegacyDefinitions.cpp:14: UserWarning: masked_fill_ received a mask with dtype torch.uint8, this behavior is now deprecated,please use a mask with dtype torch.bool instead.\n",
      "..\\aten\\src\\ATen\\native\\LegacyDefinitions.cpp:14: UserWarning: masked_fill_ received a mask with dtype torch.uint8, this behavior is now deprecated,please use a mask with dtype torch.bool instead.\n"
     ]
    }
   ],
   "source": [
    "with open('sentences.txt', 'r', encoding='utf-8') as f:\n",
    "    doc = nlp(f.read())"
   ]
  },
  {
   "cell_type": "code",
   "execution_count": 35,
   "metadata": {},
   "outputs": [
    {
     "data": {
      "text/plain": [
       "[(<Word index=2;text=SEEMS;lemma=seem;upos=VERB;xpos=VBZ;feats=Mood=Ind|Number=Sing|Person=3|Tense=Pres|VerbForm=Fin;governor=0;dependency_relation=root>,\n",
       "  'nsubj',\n",
       "  <Word index=1;text=IT;lemma=it;upos=PRON;xpos=PRP;feats=Case=Nom|Gender=Neut|Number=Sing|Person=3|PronType=Prs;governor=2;dependency_relation=nsubj>),\n",
       " (<Word index=0;text=ROOT>,\n",
       "  'root',\n",
       "  <Word index=2;text=SEEMS;lemma=seem;upos=VERB;xpos=VBZ;feats=Mood=Ind|Number=Sing|Person=3|Tense=Pres|VerbForm=Fin;governor=0;dependency_relation=root>),\n",
       " (<Word index=17;text=made;lemma=make;upos=VERB;xpos=VBN;feats=Tense=Past|VerbForm=Part;governor=2;dependency_relation=ccomp>,\n",
       "  'mark',\n",
       "  <Word index=3;text=that;lemma=that;upos=SCONJ;xpos=IN;feats=_;governor=17;dependency_relation=mark>),\n",
       " (<Word index=17;text=made;lemma=make;upos=VERB;xpos=VBN;feats=Tense=Past|VerbForm=Part;governor=2;dependency_relation=ccomp>,\n",
       "  'nsubj',\n",
       "  <Word index=4;text=Roland;lemma=Roland;upos=PROPN;xpos=NNP;feats=Number=Sing;governor=17;dependency_relation=nsubj>),\n",
       " (<Word index=4;text=Roland;lemma=Roland;upos=PROPN;xpos=NNP;feats=Number=Sing;governor=17;dependency_relation=nsubj>,\n",
       "  'flat',\n",
       "  <Word index=5;text=Franklin;lemma=Franklin;upos=PROPN;xpos=NNP;feats=Number=Sing;governor=4;dependency_relation=flat>),\n",
       " (<Word index=4;text=Roland;lemma=Roland;upos=PROPN;xpos=NNP;feats=Number=Sing;governor=17;dependency_relation=nsubj>,\n",
       "  'punct',\n",
       "  <Word index=6;text=,;lemma=,;upos=PUNCT;xpos=,;feats=_;governor=4;dependency_relation=punct>),\n",
       " (<Word index=9;text=unbundler;lemma=unbundler;upos=NOUN;xpos=NN;feats=Number=Sing;governor=4;dependency_relation=appos>,\n",
       "  'det',\n",
       "  <Word index=7;text=the;lemma=the;upos=DET;xpos=DT;feats=Definite=Def|PronType=Art;governor=9;dependency_relation=det>),\n",
       " (<Word index=9;text=unbundler;lemma=unbundler;upos=NOUN;xpos=NN;feats=Number=Sing;governor=4;dependency_relation=appos>,\n",
       "  'amod',\n",
       "  <Word index=8;text=latest;lemma=latest;upos=ADJ;xpos=JJS;feats=Degree=Sup;governor=9;dependency_relation=amod>),\n",
       " (<Word index=4;text=Roland;lemma=Roland;upos=PROPN;xpos=NNP;feats=Number=Sing;governor=17;dependency_relation=nsubj>,\n",
       "  'appos',\n",
       "  <Word index=9;text=unbundler;lemma=unbundler;upos=NOUN;xpos=NN;feats=Number=Sing;governor=4;dependency_relation=appos>),\n",
       " (<Word index=11;text=appear;lemma=appear;upos=VERB;xpos=VB;feats=VerbForm=Inf;governor=9;dependency_relation=acl>,\n",
       "  'mark',\n",
       "  <Word index=10;text=to;lemma=to;upos=PART;xpos=TO;feats=_;governor=11;dependency_relation=mark>),\n",
       " (<Word index=9;text=unbundler;lemma=unbundler;upos=NOUN;xpos=NN;feats=Number=Sing;governor=4;dependency_relation=appos>,\n",
       "  'acl',\n",
       "  <Word index=11;text=appear;lemma=appear;upos=VERB;xpos=VB;feats=VerbForm=Inf;governor=9;dependency_relation=acl>),\n",
       " (<Word index=14;text=UK;lemma=UK;upos=PROPN;xpos=NNP;feats=Number=Sing;governor=11;dependency_relation=obl>,\n",
       "  'case',\n",
       "  <Word index=12;text=in;lemma=in;upos=ADP;xpos=IN;feats=_;governor=14;dependency_relation=case>),\n",
       " (<Word index=14;text=UK;lemma=UK;upos=PROPN;xpos=NNP;feats=Number=Sing;governor=11;dependency_relation=obl>,\n",
       "  'det',\n",
       "  <Word index=13;text=the;lemma=the;upos=DET;xpos=DT;feats=Definite=Def|PronType=Art;governor=14;dependency_relation=det>),\n",
       " (<Word index=11;text=appear;lemma=appear;upos=VERB;xpos=VB;feats=VerbForm=Inf;governor=9;dependency_relation=acl>,\n",
       "  'obl',\n",
       "  <Word index=14;text=UK;lemma=UK;upos=PROPN;xpos=NNP;feats=Number=Sing;governor=11;dependency_relation=obl>),\n",
       " (<Word index=17;text=made;lemma=make;upos=VERB;xpos=VBN;feats=Tense=Past|VerbForm=Part;governor=2;dependency_relation=ccomp>,\n",
       "  'punct',\n",
       "  <Word index=15;text=,;lemma=,;upos=PUNCT;xpos=,;feats=_;governor=17;dependency_relation=punct>),\n",
       " (<Word index=17;text=made;lemma=make;upos=VERB;xpos=VBN;feats=Tense=Past|VerbForm=Part;governor=2;dependency_relation=ccomp>,\n",
       "  'aux',\n",
       "  <Word index=16;text=has;lemma=have;upos=AUX;xpos=VBZ;feats=Mood=Ind|Number=Sing|Person=3|Tense=Pres|VerbForm=Fin;governor=17;dependency_relation=aux>),\n",
       " (<Word index=2;text=SEEMS;lemma=seem;upos=VERB;xpos=VBZ;feats=Mood=Ind|Number=Sing|Person=3|Tense=Pres|VerbForm=Fin;governor=0;dependency_relation=root>,\n",
       "  'ccomp',\n",
       "  <Word index=17;text=made;lemma=make;upos=VERB;xpos=VBN;feats=Tense=Past|VerbForm=Part;governor=2;dependency_relation=ccomp>),\n",
       " (<Word index=20;text=error;lemma=error;upos=NOUN;xpos=NN;feats=Number=Sing;governor=17;dependency_relation=obj>,\n",
       "  'det',\n",
       "  <Word index=18;text=a;lemma=a;upos=DET;xpos=DT;feats=Definite=Ind|PronType=Art;governor=20;dependency_relation=det>),\n",
       " (<Word index=20;text=error;lemma=error;upos=NOUN;xpos=NN;feats=Number=Sing;governor=17;dependency_relation=obj>,\n",
       "  'amod',\n",
       "  <Word index=19;text=fatal;lemma=fatal;upos=ADJ;xpos=JJ;feats=Degree=Pos;governor=20;dependency_relation=amod>),\n",
       " (<Word index=17;text=made;lemma=make;upos=VERB;xpos=VBN;feats=Tense=Past|VerbForm=Part;governor=2;dependency_relation=ccomp>,\n",
       "  'obj',\n",
       "  <Word index=20;text=error;lemma=error;upos=NOUN;xpos=NN;feats=Number=Sing;governor=17;dependency_relation=obj>),\n",
       " (<Word index=23;text=preparation;lemma=preparation;upos=NOUN;xpos=NN;feats=Number=Sing;governor=17;dependency_relation=obl>,\n",
       "  'case',\n",
       "  <Word index=21;text=in;lemma=in;upos=ADP;xpos=IN;feats=_;governor=23;dependency_relation=case>),\n",
       " (<Word index=23;text=preparation;lemma=preparation;upos=NOUN;xpos=NN;feats=Number=Sing;governor=17;dependency_relation=obl>,\n",
       "  'det',\n",
       "  <Word index=22;text=the;lemma=the;upos=DET;xpos=DT;feats=Definite=Def|PronType=Art;governor=23;dependency_relation=det>),\n",
       " (<Word index=17;text=made;lemma=make;upos=VERB;xpos=VBN;feats=Tense=Past|VerbForm=Part;governor=2;dependency_relation=ccomp>,\n",
       "  'obl',\n",
       "  <Word index=23;text=preparation;lemma=preparation;upos=NOUN;xpos=NN;feats=Number=Sing;governor=17;dependency_relation=obl>),\n",
       " (<Word index=32;text=bid;lemma=bid;upos=NOUN;xpos=NN;feats=Number=Sing;governor=23;dependency_relation=nmod>,\n",
       "  'case',\n",
       "  <Word index=24;text=of;lemma=of;upos=ADP;xpos=IN;feats=_;governor=32;dependency_relation=case>),\n",
       " (<Word index=32;text=bid;lemma=bid;upos=NOUN;xpos=NN;feats=Number=Sing;governor=23;dependency_relation=nmod>,\n",
       "  'nmod:poss',\n",
       "  <Word index=25;text=his;lemma=he;upos=PRON;xpos=PRP$;feats=Gender=Masc|Number=Sing|Person=3|Poss=Yes|PronType=Prs;governor=32;dependency_relation=nmod:poss>),\n",
       " (<Word index=32;text=bid;lemma=bid;upos=NOUN;xpos=NN;feats=Number=Sing;governor=23;dependency_relation=nmod>,\n",
       "  'compound',\n",
       "  <Word index=26;text=£;lemma=£;upos=SYM;xpos=$;feats=_;governor=32;dependency_relation=compound>),\n",
       " (<Word index=28;text=m;lemma=m;upos=NUM;xpos=CD;feats=NumType=Card;governor=26;dependency_relation=nummod>,\n",
       "  'compound',\n",
       "  <Word index=27;text=697;lemma=697;upos=NUM;xpos=CD;feats=NumType=Card;governor=28;dependency_relation=compound>),\n",
       " (<Word index=26;text=£;lemma=£;upos=SYM;xpos=$;feats=_;governor=32;dependency_relation=compound>,\n",
       "  'nummod',\n",
       "  <Word index=28;text=m;lemma=m;upos=NUM;xpos=CD;feats=NumType=Card;governor=26;dependency_relation=nummod>),\n",
       " (<Word index=31;text=up;lemma=up;upos=NOUN;xpos=NN;feats=Number=Sing;governor=32;dependency_relation=compound>,\n",
       "  'compound',\n",
       "  <Word index=29;text=break;lemma=break;upos=NOUN;xpos=NN;feats=Number=Sing;governor=31;dependency_relation=compound>),\n",
       " (<Word index=31;text=up;lemma=up;upos=NOUN;xpos=NN;feats=Number=Sing;governor=32;dependency_relation=compound>,\n",
       "  'punct',\n",
       "  <Word index=30;text=-;lemma=-;upos=PUNCT;xpos=HYPH;feats=_;governor=31;dependency_relation=punct>),\n",
       " (<Word index=32;text=bid;lemma=bid;upos=NOUN;xpos=NN;feats=Number=Sing;governor=23;dependency_relation=nmod>,\n",
       "  'compound',\n",
       "  <Word index=31;text=up;lemma=up;upos=NOUN;xpos=NN;feats=Number=Sing;governor=32;dependency_relation=compound>),\n",
       " (<Word index=23;text=preparation;lemma=preparation;upos=NOUN;xpos=NN;feats=Number=Sing;governor=17;dependency_relation=obl>,\n",
       "  'nmod',\n",
       "  <Word index=32;text=bid;lemma=bid;upos=NOUN;xpos=NN;feats=Number=Sing;governor=23;dependency_relation=nmod>),\n",
       " (<Word index=38;text=DRG;lemma=DRG;upos=NOUN;xpos=NN;feats=Number=Sing;governor=32;dependency_relation=nmod>,\n",
       "  'case',\n",
       "  <Word index=33;text=for;lemma=for;upos=ADP;xpos=IN;feats=_;governor=38;dependency_relation=case>),\n",
       " (<Word index=38;text=DRG;lemma=DRG;upos=NOUN;xpos=NN;feats=Number=Sing;governor=32;dependency_relation=nmod>,\n",
       "  'compound',\n",
       "  <Word index=34;text=stationery;lemma=stationery;upos=NOUN;xpos=NN;feats=Number=Sing;governor=38;dependency_relation=compound>),\n",
       " (<Word index=37;text=group;lemma=group;upos=NOUN;xpos=NN;feats=Number=Sing;governor=38;dependency_relation=compound>,\n",
       "  'cc',\n",
       "  <Word index=35;text=and;lemma=and;upos=CCONJ;xpos=CC;feats=_;governor=37;dependency_relation=cc>),\n",
       " (<Word index=34;text=stationery;lemma=stationery;upos=NOUN;xpos=NN;feats=Number=Sing;governor=38;dependency_relation=compound>,\n",
       "  'conj',\n",
       "  <Word index=36;text=packaging;lemma=package;upos=NOUN;xpos=NN;feats=Number=Sing;governor=34;dependency_relation=conj>),\n",
       " (<Word index=38;text=DRG;lemma=DRG;upos=NOUN;xpos=NN;feats=Number=Sing;governor=32;dependency_relation=nmod>,\n",
       "  'compound',\n",
       "  <Word index=37;text=group;lemma=group;upos=NOUN;xpos=NN;feats=Number=Sing;governor=38;dependency_relation=compound>),\n",
       " (<Word index=32;text=bid;lemma=bid;upos=NOUN;xpos=NN;feats=Number=Sing;governor=23;dependency_relation=nmod>,\n",
       "  'nmod',\n",
       "  <Word index=38;text=DRG;lemma=DRG;upos=NOUN;xpos=NN;feats=Number=Sing;governor=32;dependency_relation=nmod>),\n",
       " (<Word index=2;text=SEEMS;lemma=seem;upos=VERB;xpos=VBZ;feats=Mood=Ind|Number=Sing|Person=3|Tense=Pres|VerbForm=Fin;governor=0;dependency_relation=root>,\n",
       "  'punct',\n",
       "  <Word index=39;text=.;lemma=.;upos=PUNCT;xpos=.;feats=_;governor=2;dependency_relation=punct>)]"
      ]
     },
     "execution_count": 35,
     "metadata": {},
     "output_type": "execute_result"
    }
   ],
   "source": [
    "doc.sentences[0].dependencies"
   ]
  },
  {
   "cell_type": "code",
   "execution_count": 65,
   "metadata": {
    "scrolled": true
   },
   "outputs": [
    {
     "data": {
      "text/plain": [
       "[(<Word index=4;text=look;lemma=look;upos=VERB;xpos=VB;feats=VerbForm=Inf;governor=0;dependency_relation=root>,\n",
       "  'cc',\n",
       "  <Word index=1;text=And;lemma=and;upos=CCONJ;xpos=CC;feats=_;governor=4;dependency_relation=cc>),\n",
       " (<Word index=4;text=look;lemma=look;upos=VERB;xpos=VB;feats=VerbForm=Inf;governor=0;dependency_relation=root>,\n",
       "  'nsubj',\n",
       "  <Word index=2;text=I;lemma=I;upos=PRON;xpos=PRP;feats=Case=Nom|Number=Sing|Person=1|PronType=Prs;governor=4;dependency_relation=nsubj>),\n",
       " (<Word index=4;text=look;lemma=look;upos=VERB;xpos=VB;feats=VerbForm=Inf;governor=0;dependency_relation=root>,\n",
       "  'aux',\n",
       "  <Word index=3;text='d;lemma=would;upos=AUX;xpos=MD;feats=VerbForm=Fin;governor=4;dependency_relation=aux>),\n",
       " (<Word index=0;text=ROOT>,\n",
       "  'root',\n",
       "  <Word index=4;text=look;lemma=look;upos=VERB;xpos=VB;feats=VerbForm=Inf;governor=0;dependency_relation=root>),\n",
       " (<Word index=7;text=field;lemma=field;upos=NOUN;xpos=NN;feats=Number=Sing;governor=4;dependency_relation=obl>,\n",
       "  'case',\n",
       "  <Word index=5;text=on;lemma=on;upos=ADP;xpos=IN;feats=_;governor=7;dependency_relation=case>),\n",
       " (<Word index=7;text=field;lemma=field;upos=NOUN;xpos=NN;feats=Number=Sing;governor=4;dependency_relation=obl>,\n",
       "  'det',\n",
       "  <Word index=6;text=the;lemma=the;upos=DET;xpos=DT;feats=Definite=Def|PronType=Art;governor=7;dependency_relation=det>),\n",
       " (<Word index=4;text=look;lemma=look;upos=VERB;xpos=VB;feats=VerbForm=Inf;governor=0;dependency_relation=root>,\n",
       "  'obl',\n",
       "  <Word index=7;text=field;lemma=field;upos=NOUN;xpos=NN;feats=Number=Sing;governor=4;dependency_relation=obl>),\n",
       " (<Word index=12;text=brother;lemma=brother;upos=NOUN;xpos=NN;feats=Number=Sing;governor=4;dependency_relation=conj>,\n",
       "  'cc',\n",
       "  <Word index=8;text=and;lemma=and;upos=CCONJ;xpos=CC;feats=_;governor=12;dependency_relation=cc>),\n",
       " (<Word index=12;text=brother;lemma=brother;upos=NOUN;xpos=NN;feats=Number=Sing;governor=4;dependency_relation=conj>,\n",
       "  'nsubj',\n",
       "  <Word index=9;text=it;lemma=it;upos=PRON;xpos=PRP;feats=Case=Nom|Gender=Neut|Number=Sing|Person=3|PronType=Prs;governor=12;dependency_relation=nsubj>),\n",
       " (<Word index=12;text=brother;lemma=brother;upos=NOUN;xpos=NN;feats=Number=Sing;governor=4;dependency_relation=conj>,\n",
       "  'cop',\n",
       "  <Word index=10;text=was;lemma=be;upos=AUX;xpos=VBD;feats=Mood=Ind|Number=Sing|Person=3|Tense=Past|VerbForm=Fin;governor=12;dependency_relation=cop>),\n",
       " (<Word index=12;text=brother;lemma=brother;upos=NOUN;xpos=NN;feats=Number=Sing;governor=4;dependency_relation=conj>,\n",
       "  'nmod:poss',\n",
       "  <Word index=11;text=his;lemma=he;upos=PRON;xpos=PRP$;feats=Gender=Masc|Number=Sing|Person=3|Poss=Yes|PronType=Prs;governor=12;dependency_relation=nmod:poss>),\n",
       " (<Word index=4;text=look;lemma=look;upos=VERB;xpos=VB;feats=VerbForm=Inf;governor=0;dependency_relation=root>,\n",
       "  'conj',\n",
       "  <Word index=12;text=brother;lemma=brother;upos=NOUN;xpos=NN;feats=Number=Sing;governor=4;dependency_relation=conj>),\n",
       " (<Word index=16;text=tackled;lemma=tackle;upos=VERB;xpos=VBN;feats=Tense=Past|VerbForm=Part|Voice=Pass;governor=12;dependency_relation=acl:relcl>,\n",
       "  'nsubj:pass',\n",
       "  <Word index=13;text=who;lemma=who;upos=PRON;xpos=WP;feats=PronType=Rel;governor=16;dependency_relation=nsubj:pass>),\n",
       " (<Word index=16;text=tackled;lemma=tackle;upos=VERB;xpos=VBN;feats=Tense=Past|VerbForm=Part|Voice=Pass;governor=12;dependency_relation=acl:relcl>,\n",
       "  'aux',\n",
       "  <Word index=14;text='d;lemma=would;upos=AUX;xpos=VBD;feats=Mood=Ind|Tense=Past|VerbForm=Fin;governor=16;dependency_relation=aux>),\n",
       " (<Word index=16;text=tackled;lemma=tackle;upos=VERB;xpos=VBN;feats=Tense=Past|VerbForm=Part|Voice=Pass;governor=12;dependency_relation=acl:relcl>,\n",
       "  'aux:pass',\n",
       "  <Word index=15;text=been;lemma=be;upos=AUX;xpos=VBN;feats=Tense=Past|VerbForm=Part;governor=16;dependency_relation=aux:pass>),\n",
       " (<Word index=12;text=brother;lemma=brother;upos=NOUN;xpos=NN;feats=Number=Sing;governor=4;dependency_relation=conj>,\n",
       "  'acl:relcl',\n",
       "  <Word index=16;text=tackled;lemma=tackle;upos=VERB;xpos=VBN;feats=Tense=Past|VerbForm=Part|Voice=Pass;governor=12;dependency_relation=acl:relcl>),\n",
       " (<Word index=16;text=tackled;lemma=tackle;upos=VERB;xpos=VBN;feats=Tense=Past|VerbForm=Part|Voice=Pass;governor=12;dependency_relation=acl:relcl>,\n",
       "  'advmod',\n",
       "  <Word index=17;text=.;lemma=.;upos=ADV;xpos=RB;feats=_;governor=16;dependency_relation=advmod>),\n",
       " (<Word index=4;text=look;lemma=look;upos=VERB;xpos=VB;feats=VerbForm=Inf;governor=0;dependency_relation=root>,\n",
       "  'punct',\n",
       "  <Word index=18;text=;lemma=;upos=PUNCT;xpos=.;feats=_;governor=4;dependency_relation=punct>)]"
      ]
     },
     "execution_count": 65,
     "metadata": {},
     "output_type": "execute_result"
    }
   ],
   "source": [
    "doc.sentences[17085].dependencies"
   ]
  },
  {
   "cell_type": "code",
   "execution_count": 2,
   "metadata": {},
   "outputs": [
    {
     "ename": "NameError",
     "evalue": "name 'doc' is not defined",
     "output_type": "error",
     "traceback": [
      "\u001b[1;31m---------------------------------------------------------------------------\u001b[0m",
      "\u001b[1;31mNameError\u001b[0m                                 Traceback (most recent call last)",
      "\u001b[1;32m<ipython-input-2-bf92719dd5f5>\u001b[0m in \u001b[0;36m<module>\u001b[1;34m\u001b[0m\n\u001b[0;32m      5\u001b[0m     \u001b[0mcsv_writer\u001b[0m\u001b[1;33m.\u001b[0m\u001b[0mwriterow\u001b[0m\u001b[1;33m(\u001b[0m\u001b[1;33m(\u001b[0m\u001b[1;34m'sentence_id'\u001b[0m\u001b[1;33m,\u001b[0m \u001b[1;34m'governor'\u001b[0m\u001b[1;33m,\u001b[0m \u001b[1;34m'dependent'\u001b[0m\u001b[1;33m,\u001b[0m \u001b[1;34m'relation'\u001b[0m\u001b[1;33m)\u001b[0m\u001b[1;33m)\u001b[0m\u001b[1;33m\u001b[0m\u001b[1;33m\u001b[0m\u001b[0m\n\u001b[0;32m      6\u001b[0m \u001b[1;33m\u001b[0m\u001b[0m\n\u001b[1;32m----> 7\u001b[1;33m     \u001b[1;32mfor\u001b[0m \u001b[0mi\u001b[0m\u001b[1;33m,\u001b[0m \u001b[0msentence\u001b[0m \u001b[1;32min\u001b[0m \u001b[0menumerate\u001b[0m\u001b[1;33m(\u001b[0m\u001b[0mdoc\u001b[0m\u001b[1;33m.\u001b[0m\u001b[0msentences\u001b[0m\u001b[1;33m)\u001b[0m\u001b[1;33m:\u001b[0m\u001b[1;33m\u001b[0m\u001b[1;33m\u001b[0m\u001b[0m\n\u001b[0m\u001b[0;32m      8\u001b[0m         \u001b[1;32mfor\u001b[0m \u001b[0mdep_edge\u001b[0m \u001b[1;32min\u001b[0m \u001b[0msentence\u001b[0m\u001b[1;33m.\u001b[0m\u001b[0mdependencies\u001b[0m\u001b[1;33m:\u001b[0m\u001b[1;33m\u001b[0m\u001b[1;33m\u001b[0m\u001b[0m\n\u001b[0;32m      9\u001b[0m             \u001b[0mgovernor\u001b[0m\u001b[1;33m,\u001b[0m \u001b[0mdependent\u001b[0m\u001b[1;33m,\u001b[0m \u001b[0mrelation\u001b[0m \u001b[1;33m=\u001b[0m \u001b[0mdep_edge\u001b[0m\u001b[1;33m[\u001b[0m\u001b[1;36m2\u001b[0m\u001b[1;33m]\u001b[0m\u001b[1;33m,\u001b[0m \u001b[0mdep_edge\u001b[0m\u001b[1;33m[\u001b[0m\u001b[1;36m0\u001b[0m\u001b[1;33m]\u001b[0m\u001b[1;33m,\u001b[0m \u001b[0mdep_edge\u001b[0m\u001b[1;33m[\u001b[0m\u001b[1;36m1\u001b[0m\u001b[1;33m]\u001b[0m\u001b[1;33m\u001b[0m\u001b[1;33m\u001b[0m\u001b[0m\n",
      "\u001b[1;31mNameError\u001b[0m: name 'doc' is not defined"
     ]
    }
   ],
   "source": [
    "content_words = ['ADJ', 'ADV', 'INTJ', 'NOUN', 'PROPN', 'VERB']\n",
    "\n",
    "with open('data/dependencies.csv', 'w', encoding='utf-8') as f:\n",
    "    csv_writer = csv.writer(f, delimiter=',')\n",
    "    csv_writer.writerow(('sentence_id', 'governor', 'dependent', 'relation'))\n",
    "    \n",
    "    for i, sentence in enumerate(doc.sentences):\n",
    "        for dep_edge in sentence.dependencies:\n",
    "            governor, dependent, relation = dep_edge[2], dep_edge[0], dep_edge[1]\n",
    "            \n",
    "            if (governor.upos in content_words) and (dependent.upos in content_words):\n",
    "                dep = [str(i), governor.text, dependent.text, relation]\n",
    "                csv_writer.writerow(dep)"
   ]
  },
  {
   "cell_type": "markdown",
   "metadata": {},
   "source": [
    "--------------------------------------------------------------------------"
   ]
  },
  {
   "cell_type": "markdown",
   "metadata": {},
   "source": [
    "## Grammatical Dependencies"
   ]
  },
  {
   "cell_type": "code",
   "execution_count": 17,
   "metadata": {},
   "outputs": [
    {
     "data": {
      "text/plain": [
       "314010"
      ]
     },
     "metadata": {},
     "output_type": "display_data"
    },
    {
     "data": {
      "text/html": [
       "<div>\n",
       "<style scoped>\n",
       "    .dataframe tbody tr th:only-of-type {\n",
       "        vertical-align: middle;\n",
       "    }\n",
       "\n",
       "    .dataframe tbody tr th {\n",
       "        vertical-align: top;\n",
       "    }\n",
       "\n",
       "    .dataframe thead th {\n",
       "        text-align: right;\n",
       "    }\n",
       "</style>\n",
       "<table border=\"1\" class=\"dataframe\">\n",
       "  <thead>\n",
       "    <tr style=\"text-align: right;\">\n",
       "      <th></th>\n",
       "      <th>word_id</th>\n",
       "      <th>lemma</th>\n",
       "      <th>word</th>\n",
       "      <th>sentence_id</th>\n",
       "    </tr>\n",
       "  </thead>\n",
       "  <tbody>\n",
       "    <tr>\n",
       "      <th>0</th>\n",
       "      <td>0</td>\n",
       "      <td>it</td>\n",
       "      <td>IT</td>\n",
       "      <td>0</td>\n",
       "    </tr>\n",
       "    <tr>\n",
       "      <th>1</th>\n",
       "      <td>1</td>\n",
       "      <td>seem</td>\n",
       "      <td>SEEMS</td>\n",
       "      <td>0</td>\n",
       "    </tr>\n",
       "    <tr>\n",
       "      <th>2</th>\n",
       "      <td>2</td>\n",
       "      <td>that</td>\n",
       "      <td>that</td>\n",
       "      <td>0</td>\n",
       "    </tr>\n",
       "    <tr>\n",
       "      <th>3</th>\n",
       "      <td>3</td>\n",
       "      <td>roland</td>\n",
       "      <td>Roland</td>\n",
       "      <td>0</td>\n",
       "    </tr>\n",
       "    <tr>\n",
       "      <th>4</th>\n",
       "      <td>4</td>\n",
       "      <td>franklin</td>\n",
       "      <td>Franklin</td>\n",
       "      <td>0</td>\n",
       "    </tr>\n",
       "  </tbody>\n",
       "</table>\n",
       "</div>"
      ],
      "text/plain": [
       "   word_id     lemma      word  sentence_id\n",
       "0  0        it        IT        0          \n",
       "1  1        seem      SEEMS     0          \n",
       "2  2        that      that      0          \n",
       "3  3        roland    Roland    0          \n",
       "4  4        franklin  Franklin  0          "
      ]
     },
     "execution_count": 17,
     "metadata": {},
     "output_type": "execute_result"
    }
   ],
   "source": [
    "words = pd.read_csv('data/words.csv', encoding='ISO-8859-1')[['word_id', 'lemma', 'word', 'sentence_id']]\n",
    "display(len(words))\n",
    "words.head()"
   ]
  },
  {
   "cell_type": "code",
   "execution_count": 18,
   "metadata": {},
   "outputs": [
    {
     "data": {
      "text/html": [
       "<div>\n",
       "<style scoped>\n",
       "    .dataframe tbody tr th:only-of-type {\n",
       "        vertical-align: middle;\n",
       "    }\n",
       "\n",
       "    .dataframe tbody tr th {\n",
       "        vertical-align: top;\n",
       "    }\n",
       "\n",
       "    .dataframe thead th {\n",
       "        text-align: right;\n",
       "    }\n",
       "</style>\n",
       "<table border=\"1\" class=\"dataframe\">\n",
       "  <thead>\n",
       "    <tr style=\"text-align: right;\">\n",
       "      <th></th>\n",
       "      <th>sentence_id</th>\n",
       "      <th>governor</th>\n",
       "      <th>dependent</th>\n",
       "    </tr>\n",
       "  </thead>\n",
       "  <tbody>\n",
       "    <tr>\n",
       "      <th>0</th>\n",
       "      <td>0</td>\n",
       "      <td>Roland</td>\n",
       "      <td>made</td>\n",
       "    </tr>\n",
       "    <tr>\n",
       "      <th>1</th>\n",
       "      <td>0</td>\n",
       "      <td>Franklin</td>\n",
       "      <td>Roland</td>\n",
       "    </tr>\n",
       "    <tr>\n",
       "      <th>2</th>\n",
       "      <td>0</td>\n",
       "      <td>latest</td>\n",
       "      <td>unbundler</td>\n",
       "    </tr>\n",
       "    <tr>\n",
       "      <th>3</th>\n",
       "      <td>0</td>\n",
       "      <td>unbundler</td>\n",
       "      <td>Roland</td>\n",
       "    </tr>\n",
       "    <tr>\n",
       "      <th>4</th>\n",
       "      <td>0</td>\n",
       "      <td>appear</td>\n",
       "      <td>unbundler</td>\n",
       "    </tr>\n",
       "  </tbody>\n",
       "</table>\n",
       "</div>"
      ],
      "text/plain": [
       "   sentence_id   governor  dependent\n",
       "0  0            Roland     made     \n",
       "1  0            Franklin   Roland   \n",
       "2  0            latest     unbundler\n",
       "3  0            unbundler  Roland   \n",
       "4  0            appear     unbundler"
      ]
     },
     "execution_count": 18,
     "metadata": {},
     "output_type": "execute_result"
    }
   ],
   "source": [
    "dependencies = pd.read_csv('data/dependencies.csv').drop(columns=['relation'])\n",
    "dependencies.head()"
   ]
  },
  {
   "cell_type": "code",
   "execution_count": 20,
   "metadata": {},
   "outputs": [
    {
     "data": {
      "text/plain": [
       "1719"
      ]
     },
     "metadata": {},
     "output_type": "display_data"
    },
    {
     "data": {
      "text/html": [
       "<div>\n",
       "<style scoped>\n",
       "    .dataframe tbody tr th:only-of-type {\n",
       "        vertical-align: middle;\n",
       "    }\n",
       "\n",
       "    .dataframe tbody tr th {\n",
       "        vertical-align: top;\n",
       "    }\n",
       "\n",
       "    .dataframe thead th {\n",
       "        text-align: right;\n",
       "    }\n",
       "</style>\n",
       "<table border=\"1\" class=\"dataframe\">\n",
       "  <thead>\n",
       "    <tr style=\"text-align: right;\">\n",
       "      <th></th>\n",
       "      <th>word_id</th>\n",
       "      <th>lemma</th>\n",
       "      <th>word</th>\n",
       "      <th>sentence_id</th>\n",
       "      <th>governor</th>\n",
       "      <th>dependent</th>\n",
       "    </tr>\n",
       "  </thead>\n",
       "  <tbody>\n",
       "    <tr>\n",
       "      <th>0</th>\n",
       "      <td>3</td>\n",
       "      <td>roland</td>\n",
       "      <td>Roland</td>\n",
       "      <td>0</td>\n",
       "      <td>Roland</td>\n",
       "      <td>made</td>\n",
       "    </tr>\n",
       "    <tr>\n",
       "      <th>1</th>\n",
       "      <td>4</td>\n",
       "      <td>franklin</td>\n",
       "      <td>Franklin</td>\n",
       "      <td>0</td>\n",
       "      <td>Franklin</td>\n",
       "      <td>Roland</td>\n",
       "    </tr>\n",
       "    <tr>\n",
       "      <th>2</th>\n",
       "      <td>6</td>\n",
       "      <td>late</td>\n",
       "      <td>latest</td>\n",
       "      <td>0</td>\n",
       "      <td>latest</td>\n",
       "      <td>unbundler</td>\n",
       "    </tr>\n",
       "    <tr>\n",
       "      <th>3</th>\n",
       "      <td>7</td>\n",
       "      <td>unbundler</td>\n",
       "      <td>unbundler</td>\n",
       "      <td>0</td>\n",
       "      <td>unbundler</td>\n",
       "      <td>Roland</td>\n",
       "    </tr>\n",
       "    <tr>\n",
       "      <th>4</th>\n",
       "      <td>9</td>\n",
       "      <td>appear</td>\n",
       "      <td>appear</td>\n",
       "      <td>0</td>\n",
       "      <td>appear</td>\n",
       "      <td>unbundler</td>\n",
       "    </tr>\n",
       "  </tbody>\n",
       "</table>\n",
       "</div>"
      ],
      "text/plain": [
       "   word_id      lemma       word  sentence_id   governor  dependent\n",
       "0  3        roland     Roland     0            Roland     made     \n",
       "1  4        franklin   Franklin   0            Franklin   Roland   \n",
       "2  6        late       latest     0            latest     unbundler\n",
       "3  7        unbundler  unbundler  0            unbundler  Roland   \n",
       "4  9        appear     appear     0            appear     unbundler"
      ]
     },
     "execution_count": 20,
     "metadata": {},
     "output_type": "execute_result"
    }
   ],
   "source": [
    "related_words_dependent = words.merge(dependencies, left_on=['sentence_id', 'word'],\n",
    "                                      right_on=['sentence_id', 'governor'])\n",
    "display(len(related_words_dependent))\n",
    "related_words_dependent.head()"
   ]
  },
  {
   "cell_type": "code",
   "execution_count": 21,
   "metadata": {},
   "outputs": [
    {
     "data": {
      "text/plain": [
       "1683"
      ]
     },
     "metadata": {},
     "output_type": "display_data"
    },
    {
     "data": {
      "text/html": [
       "<div>\n",
       "<style scoped>\n",
       "    .dataframe tbody tr th:only-of-type {\n",
       "        vertical-align: middle;\n",
       "    }\n",
       "\n",
       "    .dataframe tbody tr th {\n",
       "        vertical-align: top;\n",
       "    }\n",
       "\n",
       "    .dataframe thead th {\n",
       "        text-align: right;\n",
       "    }\n",
       "</style>\n",
       "<table border=\"1\" class=\"dataframe\">\n",
       "  <thead>\n",
       "    <tr style=\"text-align: right;\">\n",
       "      <th></th>\n",
       "      <th>word_id</th>\n",
       "      <th>lemma</th>\n",
       "      <th>word</th>\n",
       "      <th>sentence_id</th>\n",
       "      <th>governor</th>\n",
       "      <th>dependent</th>\n",
       "    </tr>\n",
       "  </thead>\n",
       "  <tbody>\n",
       "    <tr>\n",
       "      <th>0</th>\n",
       "      <td>1</td>\n",
       "      <td>seem</td>\n",
       "      <td>SEEMS</td>\n",
       "      <td>0</td>\n",
       "      <td>made</td>\n",
       "      <td>SEEMS</td>\n",
       "    </tr>\n",
       "    <tr>\n",
       "      <th>1</th>\n",
       "      <td>3</td>\n",
       "      <td>roland</td>\n",
       "      <td>Roland</td>\n",
       "      <td>0</td>\n",
       "      <td>Franklin</td>\n",
       "      <td>Roland</td>\n",
       "    </tr>\n",
       "    <tr>\n",
       "      <th>2</th>\n",
       "      <td>3</td>\n",
       "      <td>roland</td>\n",
       "      <td>Roland</td>\n",
       "      <td>0</td>\n",
       "      <td>unbundler</td>\n",
       "      <td>Roland</td>\n",
       "    </tr>\n",
       "    <tr>\n",
       "      <th>3</th>\n",
       "      <td>7</td>\n",
       "      <td>unbundler</td>\n",
       "      <td>unbundler</td>\n",
       "      <td>0</td>\n",
       "      <td>latest</td>\n",
       "      <td>unbundler</td>\n",
       "    </tr>\n",
       "    <tr>\n",
       "      <th>4</th>\n",
       "      <td>7</td>\n",
       "      <td>unbundler</td>\n",
       "      <td>unbundler</td>\n",
       "      <td>0</td>\n",
       "      <td>appear</td>\n",
       "      <td>unbundler</td>\n",
       "    </tr>\n",
       "  </tbody>\n",
       "</table>\n",
       "</div>"
      ],
      "text/plain": [
       "   word_id      lemma       word  sentence_id   governor  dependent\n",
       "0  1        seem       SEEMS      0            made       SEEMS    \n",
       "1  3        roland     Roland     0            Franklin   Roland   \n",
       "2  3        roland     Roland     0            unbundler  Roland   \n",
       "3  7        unbundler  unbundler  0            latest     unbundler\n",
       "4  7        unbundler  unbundler  0            appear     unbundler"
      ]
     },
     "execution_count": 21,
     "metadata": {},
     "output_type": "execute_result"
    }
   ],
   "source": [
    "related_words_governor = words.merge(dependencies, left_on=['sentence_id', 'word'],\n",
    "                                      right_on=['sentence_id', 'dependent'])\n",
    "display(len(related_words_governor))\n",
    "related_words_governor.head()"
   ]
  },
  {
   "cell_type": "markdown",
   "metadata": {},
   "source": [
    "## Lexical Abstractness/Concreteness"
   ]
  },
  {
   "cell_type": "code",
   "execution_count": 16,
   "metadata": {},
   "outputs": [
    {
     "data": {
      "text/plain": [
       "39954"
      ]
     },
     "metadata": {},
     "output_type": "display_data"
    },
    {
     "data": {
      "text/html": [
       "<div>\n",
       "<style scoped>\n",
       "    .dataframe tbody tr th:only-of-type {\n",
       "        vertical-align: middle;\n",
       "    }\n",
       "\n",
       "    .dataframe tbody tr th {\n",
       "        vertical-align: top;\n",
       "    }\n",
       "\n",
       "    .dataframe thead th {\n",
       "        text-align: right;\n",
       "    }\n",
       "</style>\n",
       "<table border=\"1\" class=\"dataframe\">\n",
       "  <thead>\n",
       "    <tr style=\"text-align: right;\">\n",
       "      <th></th>\n",
       "      <th>Conc.M</th>\n",
       "    </tr>\n",
       "    <tr>\n",
       "      <th>Word</th>\n",
       "      <th></th>\n",
       "    </tr>\n",
       "  </thead>\n",
       "  <tbody>\n",
       "    <tr>\n",
       "      <th>roadsweeper</th>\n",
       "      <td>4.85</td>\n",
       "    </tr>\n",
       "    <tr>\n",
       "      <th>traindriver</th>\n",
       "      <td>4.54</td>\n",
       "    </tr>\n",
       "    <tr>\n",
       "      <th>tush</th>\n",
       "      <td>4.45</td>\n",
       "    </tr>\n",
       "    <tr>\n",
       "      <th>hairdress</th>\n",
       "      <td>3.93</td>\n",
       "    </tr>\n",
       "    <tr>\n",
       "      <th>pharmaceutics</th>\n",
       "      <td>3.77</td>\n",
       "    </tr>\n",
       "  </tbody>\n",
       "</table>\n",
       "</div>"
      ],
      "text/plain": [
       "               Conc.M\n",
       "Word                 \n",
       "roadsweeper    4.85  \n",
       "traindriver    4.54  \n",
       "tush           4.45  \n",
       "hairdress      3.93  \n",
       "pharmaceutics  3.77  "
      ]
     },
     "execution_count": 16,
     "metadata": {},
     "output_type": "execute_result"
    }
   ],
   "source": [
    "conc_m = pd.read_csv('data/Concreteness_ratings_Brysbaert_et_al_BRM.txt', sep='\\t').set_index('Word')[['Conc.M']]\n",
    "display(len(conc_m))\n",
    "conc_m.head()"
   ]
  },
  {
   "cell_type": "code",
   "execution_count": 7,
   "metadata": {},
   "outputs": [
    {
     "data": {
      "text/html": [
       "<div>\n",
       "<style scoped>\n",
       "    .dataframe tbody tr th:only-of-type {\n",
       "        vertical-align: middle;\n",
       "    }\n",
       "\n",
       "    .dataframe tbody tr th {\n",
       "        vertical-align: top;\n",
       "    }\n",
       "\n",
       "    .dataframe thead th {\n",
       "        text-align: right;\n",
       "    }\n",
       "</style>\n",
       "<table border=\"1\" class=\"dataframe\">\n",
       "  <thead>\n",
       "    <tr style=\"text-align: right;\">\n",
       "      <th></th>\n",
       "      <th>word_id</th>\n",
       "      <th>lemma</th>\n",
       "      <th>word</th>\n",
       "      <th>Conc.M</th>\n",
       "    </tr>\n",
       "  </thead>\n",
       "  <tbody>\n",
       "    <tr>\n",
       "      <th>181366</th>\n",
       "      <td>181366</td>\n",
       "      <td>the</td>\n",
       "      <td>the</td>\n",
       "      <td>1.43</td>\n",
       "    </tr>\n",
       "    <tr>\n",
       "      <th>219838</th>\n",
       "      <td>219838</td>\n",
       "      <td>the</td>\n",
       "      <td>the</td>\n",
       "      <td>1.43</td>\n",
       "    </tr>\n",
       "    <tr>\n",
       "      <th>219151</th>\n",
       "      <td>219151</td>\n",
       "      <td>great</td>\n",
       "      <td>great</td>\n",
       "      <td>1.81</td>\n",
       "    </tr>\n",
       "    <tr>\n",
       "      <th>212846</th>\n",
       "      <td>212846</td>\n",
       "      <td>husband</td>\n",
       "      <td>husband</td>\n",
       "      <td>4.11</td>\n",
       "    </tr>\n",
       "    <tr>\n",
       "      <th>164971</th>\n",
       "      <td>164971</td>\n",
       "      <td>since</td>\n",
       "      <td>since</td>\n",
       "      <td>1.38</td>\n",
       "    </tr>\n",
       "  </tbody>\n",
       "</table>\n",
       "</div>"
      ],
      "text/plain": [
       "        word_id    lemma     word  Conc.M\n",
       "181366   181366      the      the    1.43\n",
       "219838   219838      the      the    1.43\n",
       "219151   219151    great    great    1.81\n",
       "212846   212846  husband  husband    4.11\n",
       "164971   164971    since    since    1.38"
      ]
     },
     "execution_count": 7,
     "metadata": {},
     "output_type": "execute_result"
    }
   ],
   "source": [
    "words_conc_m = words.merge(conc_m, left_on='lemma', right_index=True)\n",
    "words_conc_m.sample(5)"
   ]
  },
  {
   "cell_type": "code",
   "execution_count": 13,
   "metadata": {},
   "outputs": [
    {
     "data": {
      "text/plain": [
       "5681    With busy pomposity Lewis dictated it to a typist and would have gone on and on had he not been diplomatically restrained.\n",
       "Name: sentence, dtype: object"
      ]
     },
     "execution_count": 13,
     "metadata": {},
     "output_type": "execute_result"
    }
   ],
   "source": [
    "pd.set_option('display.max_colwidth', -1)\n",
    "pd.read_csv('data/sentences.csv', encoding='ISO-8859-1').iloc[[5681]]['sentence']"
   ]
  },
  {
   "cell_type": "code",
   "execution_count": null,
   "metadata": {},
   "outputs": [],
   "source": []
  }
 ],
 "metadata": {
  "kernelspec": {
   "display_name": "Python 3",
   "language": "python",
   "name": "python3"
  },
  "language_info": {
   "codemirror_mode": {
    "name": "ipython",
    "version": 3
   },
   "file_extension": ".py",
   "mimetype": "text/x-python",
   "name": "python",
   "nbconvert_exporter": "python",
   "pygments_lexer": "ipython3",
   "version": "3.7.3"
  }
 },
 "nbformat": 4,
 "nbformat_minor": 2
}
