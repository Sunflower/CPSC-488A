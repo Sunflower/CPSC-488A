{
 "cells": [
  {
   "cell_type": "code",
   "execution_count": 1,
   "metadata": {},
   "outputs": [],
   "source": [
    "import pandas as pd\n",
    "import numpy as np\n",
    "import glob\n",
    "import os\n",
    "import json\n",
    "import csv\n",
    "import math\n",
    "import scipy.sparse\n",
    "from scipy.sparse import csr_matrix\n",
    "from sklearn.linear_model import LogisticRegression\n",
    "from sklearn.model_selection import train_test_split\n",
    "from sklearn.model_selection import cross_validate\n",
    "from bs4 import BeautifulSoup\n",
    "import requests"
   ]
  },
  {
   "cell_type": "code",
   "execution_count": 2,
   "metadata": {},
   "outputs": [],
   "source": [
    "pd.set_option('display.max_colwidth', -1)"
   ]
  },
  {
   "cell_type": "markdown",
   "metadata": {},
   "source": [
    "## Check out results of extracting XML attributes"
   ]
  },
  {
   "cell_type": "code",
   "execution_count": 3,
   "metadata": {},
   "outputs": [
    {
     "data": {
      "text/html": [
       "<div>\n",
       "<style scoped>\n",
       "    .dataframe tbody tr th:only-of-type {\n",
       "        vertical-align: middle;\n",
       "    }\n",
       "\n",
       "    .dataframe tbody tr th {\n",
       "        vertical-align: top;\n",
       "    }\n",
       "\n",
       "    .dataframe thead th {\n",
       "        text-align: right;\n",
       "    }\n",
       "</style>\n",
       "<table border=\"1\" class=\"dataframe\">\n",
       "  <thead>\n",
       "    <tr style=\"text-align: right;\">\n",
       "      <th></th>\n",
       "      <th>text_id</th>\n",
       "      <th>text</th>\n",
       "    </tr>\n",
       "  </thead>\n",
       "  <tbody>\n",
       "    <tr>\n",
       "      <th>100</th>\n",
       "      <td>kbh-fragment01</td>\n",
       "      <td>The two companies concerned are trying to record the spoken word.\\r\\nWe do n't want you on tape.\\r\\nSo the thing, the thing to do is to sort of dot around in the conversation things like antidisestablishmentarianism.\\r\\nAnd hopefully\\r\\nThis will get modern usage of words.\\r\\nOf, one of the words that she was talking about, people have started using wicked for a normal phrase.\\r\\nI mean, it does n't mean what it says in the dictionary any more.\\r\\nThat 's a really wicked thing to say, he went, no it 's not it 's bad, it 's not wicked.\\r\\nHe thinks of wicked as being good, he does n't, cause Mandy says wicked.\\r\\nYeah.\\r\\nWell that 's the idea anyway.\\r\\nHe goes round saying wicked, it 's his favourite word.\\r\\nAre you going to go to sleep, eh?\\r\\nPlease That does n't mean much, does it?\\r\\nShe 's just looking over there to see which one she wants to throw up on.\\r\\nWho do you want to go and gurgle at?\\r\\nEh?\\r\\nOh not Uncle Brian, no no no.\\r\\nNo?\\r\\nHave you had enough grub for a little while?\\r\\nThere you are, go and see somebody.\\r\\nshe 's got a ginormous one.\\r\\nShe had it.\\r\\nWell do n't to me I 've only just you\\r\\nCome on, give Auntie Pauline a nice smile.\\r\\nGo on, you do lovely smiles.\\r\\nIf she smiles it will be at your hairline.\\r\\nPardon?\\r\\nShe wo n't be able to see that far, will she?\\r\\nShe might be able to see a blurred shape.\\r\\nshe 's just looked this way now.\\r\\nShe kept looking over there.\\r\\nDo n't know what she was looking at.\\r\\nWhat were you looking at?\\r\\nWell she definitely looks at her mobile.\\r\\nYeah?\\r\\nI know it drives you mad, the music but er\\r\\nI would n't mind if those blasted slightly longer life in terms of the music they played.\\r\\nBut unfortunately, you know, it 's or whatever.\\r\\nBut it 's over again.\\r\\nWell, yes.\\r\\nWell I mean that 's what 's nice for them, is n't it?\\r\\nYeah.\\r\\nYou see they 've got a short concentration.\\r\\nDo you think music in the background sort of, do all the lyrics as well.\\r\\nOh of course Oh well done.\\r\\nthe last half hour.\\r\\na little bit was n't it?\\r\\nShe 's had a lot of that today.\\r\\nHave you?\\r\\nWell do n't put it on too loud, will you?\\r\\nwhy babies have a suck there.\\r\\nYou say they 're having milk, he went, what do you mean?\\r\\nMilk?\\r\\nWhat do you mean milk comes out there?\\r\\nSo I said well it 's only when you 've just had a baby like, you know, like cows.\\r\\nLove him.</td>\n",
       "    </tr>\n",
       "  </tbody>\n",
       "</table>\n",
       "</div>"
      ],
      "text/plain": [
       "            text_id  \\\n",
       "100  kbh-fragment01   \n",
       "\n",
       "                                                                                                                                                                                                                                                                                                                                                                                                                                                                                                                                                                                                                                                                                                                                                                                                                                                                                                                                                                                                                                                                                                                                                                                                                                                                                                                                                                                                                                                                                                                                                                                                                                                                                                                                                                                                                                                                                                                                                                                                                                                                                                                                                                                                                                                                                                                                                                                                                                                                                     text  \n",
       "100  The two companies concerned are trying to record the spoken word.\\r\\nWe do n't want you on tape.\\r\\nSo the thing, the thing to do is to sort of dot around in the conversation things like antidisestablishmentarianism.\\r\\nAnd hopefully\\r\\nThis will get modern usage of words.\\r\\nOf, one of the words that she was talking about, people have started using wicked for a normal phrase.\\r\\nI mean, it does n't mean what it says in the dictionary any more.\\r\\nThat 's a really wicked thing to say, he went, no it 's not it 's bad, it 's not wicked.\\r\\nHe thinks of wicked as being good, he does n't, cause Mandy says wicked.\\r\\nYeah.\\r\\nWell that 's the idea anyway.\\r\\nHe goes round saying wicked, it 's his favourite word.\\r\\nAre you going to go to sleep, eh?\\r\\nPlease That does n't mean much, does it?\\r\\nShe 's just looking over there to see which one she wants to throw up on.\\r\\nWho do you want to go and gurgle at?\\r\\nEh?\\r\\nOh not Uncle Brian, no no no.\\r\\nNo?\\r\\nHave you had enough grub for a little while?\\r\\nThere you are, go and see somebody.\\r\\nshe 's got a ginormous one.\\r\\nShe had it.\\r\\nWell do n't to me I 've only just you\\r\\nCome on, give Auntie Pauline a nice smile.\\r\\nGo on, you do lovely smiles.\\r\\nIf she smiles it will be at your hairline.\\r\\nPardon?\\r\\nShe wo n't be able to see that far, will she?\\r\\nShe might be able to see a blurred shape.\\r\\nshe 's just looked this way now.\\r\\nShe kept looking over there.\\r\\nDo n't know what she was looking at.\\r\\nWhat were you looking at?\\r\\nWell she definitely looks at her mobile.\\r\\nYeah?\\r\\nI know it drives you mad, the music but er\\r\\nI would n't mind if those blasted slightly longer life in terms of the music they played.\\r\\nBut unfortunately, you know, it 's or whatever.\\r\\nBut it 's over again.\\r\\nWell, yes.\\r\\nWell I mean that 's what 's nice for them, is n't it?\\r\\nYeah.\\r\\nYou see they 've got a short concentration.\\r\\nDo you think music in the background sort of, do all the lyrics as well.\\r\\nOh of course Oh well done.\\r\\nthe last half hour.\\r\\na little bit was n't it?\\r\\nShe 's had a lot of that today.\\r\\nHave you?\\r\\nWell do n't put it on too loud, will you?\\r\\nwhy babies have a suck there.\\r\\nYou say they 're having milk, he went, what do you mean?\\r\\nMilk?\\r\\nWhat do you mean milk comes out there?\\r\\nSo I said well it 's only when you 've just had a baby like, you know, like cows.\\r\\nLove him.  "
      ]
     },
     "execution_count": 3,
     "metadata": {},
     "output_type": "execute_result"
    }
   ],
   "source": [
    "texts = pd.read_csv('data/raw/texts.csv', encoding='ISO-8859-1')\n",
    "texts.iloc[[100]]"
   ]
  },
  {
   "cell_type": "code",
   "execution_count": 4,
   "metadata": {},
   "outputs": [
    {
     "data": {
      "text/html": [
       "<div>\n",
       "<style scoped>\n",
       "    .dataframe tbody tr th:only-of-type {\n",
       "        vertical-align: middle;\n",
       "    }\n",
       "\n",
       "    .dataframe tbody tr th {\n",
       "        vertical-align: top;\n",
       "    }\n",
       "\n",
       "    .dataframe thead th {\n",
       "        text-align: right;\n",
       "    }\n",
       "</style>\n",
       "<table border=\"1\" class=\"dataframe\">\n",
       "  <thead>\n",
       "    <tr style=\"text-align: right;\">\n",
       "      <th></th>\n",
       "      <th>text_id</th>\n",
       "      <th>text</th>\n",
       "    </tr>\n",
       "  </thead>\n",
       "  <tbody>\n",
       "  </tbody>\n",
       "</table>\n",
       "</div>"
      ],
      "text/plain": [
       "Empty DataFrame\n",
       "Columns: [text_id, text]\n",
       "Index: []"
      ]
     },
     "execution_count": 4,
     "metadata": {},
     "output_type": "execute_result"
    }
   ],
   "source": [
    "texts[texts['text'].isnull()]"
   ]
  },
  {
   "cell_type": "code",
   "execution_count": 5,
   "metadata": {},
   "outputs": [
    {
     "data": {
      "text/plain": [
       "16183"
      ]
     },
     "metadata": {},
     "output_type": "display_data"
    },
    {
     "data": {
      "text/html": [
       "<div>\n",
       "<style scoped>\n",
       "    .dataframe tbody tr th:only-of-type {\n",
       "        vertical-align: middle;\n",
       "    }\n",
       "\n",
       "    .dataframe tbody tr th {\n",
       "        vertical-align: top;\n",
       "    }\n",
       "\n",
       "    .dataframe thead th {\n",
       "        text-align: right;\n",
       "    }\n",
       "</style>\n",
       "<table border=\"1\" class=\"dataframe\">\n",
       "  <thead>\n",
       "    <tr style=\"text-align: right;\">\n",
       "      <th></th>\n",
       "      <th>sentence_id</th>\n",
       "      <th>paragraph_id</th>\n",
       "      <th>sentence</th>\n",
       "    </tr>\n",
       "  </thead>\n",
       "  <tbody>\n",
       "    <tr>\n",
       "      <th>4864</th>\n",
       "      <td>4864</td>\n",
       "      <td>1437</td>\n",
       "      <td> I 'm sure she ca n't do justice to your designs.</td>\n",
       "    </tr>\n",
       "    <tr>\n",
       "      <th>3880</th>\n",
       "      <td>3880</td>\n",
       "      <td>1183</td>\n",
       "      <td>fossil fuel combustion, for instance, has led to increased concentrations of sulphate in precipitation( acid rain') and many rivers, lakes and estuaries have been greatly affected by phosphates from agricultural, urban or industrial sources.</td>\n",
       "    </tr>\n",
       "    <tr>\n",
       "      <th>11699</th>\n",
       "      <td>11699</td>\n",
       "      <td>-1</td>\n",
       "      <td>Bye!</td>\n",
       "    </tr>\n",
       "    <tr>\n",
       "      <th>12164</th>\n",
       "      <td>12164</td>\n",
       "      <td>-1</td>\n",
       "      <td>That 's an old trick.</td>\n",
       "    </tr>\n",
       "    <tr>\n",
       "      <th>523</th>\n",
       "      <td>523</td>\n",
       "      <td>183</td>\n",
       "      <td>Dr Runcie repeated his offer of a limited primacy, involving the limited powers exercised by the popes in the first few centuries of the Christian Church.</td>\n",
       "    </tr>\n",
       "  </tbody>\n",
       "</table>\n",
       "</div>"
      ],
      "text/plain": [
       "       sentence_id  paragraph_id  \\\n",
       "4864   4864         1437           \n",
       "3880   3880         1183           \n",
       "11699  11699       -1              \n",
       "12164  12164       -1              \n",
       "523    523          183            \n",
       "\n",
       "                                                                                                                                                                                                                                                 sentence  \n",
       "4864    I 'm sure she ca n't do justice to your designs.                                                                                                                                                                                                  \n",
       "3880   fossil fuel combustion, for instance, has led to increased concentrations of sulphate in precipitation( acid rain') and many rivers, lakes and estuaries have been greatly affected by phosphates from agricultural, urban or industrial sources.  \n",
       "11699  Bye!                                                                                                                                                                                                                                                \n",
       "12164  That 's an old trick.                                                                                                                                                                                                                               \n",
       "523    Dr Runcie repeated his offer of a limited primacy, involving the limited powers exercised by the popes in the first few centuries of the Christian Church.                                                                                          "
      ]
     },
     "metadata": {},
     "output_type": "display_data"
    },
    {
     "data": {
      "text/html": [
       "<div>\n",
       "<style scoped>\n",
       "    .dataframe tbody tr th:only-of-type {\n",
       "        vertical-align: middle;\n",
       "    }\n",
       "\n",
       "    .dataframe tbody tr th {\n",
       "        vertical-align: top;\n",
       "    }\n",
       "\n",
       "    .dataframe thead th {\n",
       "        text-align: right;\n",
       "    }\n",
       "</style>\n",
       "<table border=\"1\" class=\"dataframe\">\n",
       "  <thead>\n",
       "    <tr style=\"text-align: right;\">\n",
       "      <th></th>\n",
       "      <th>sentence_id</th>\n",
       "      <th>paragraph_id</th>\n",
       "      <th>sentence</th>\n",
       "    </tr>\n",
       "  </thead>\n",
       "  <tbody>\n",
       "    <tr>\n",
       "      <th>16180</th>\n",
       "      <td>16180</td>\n",
       "      <td>-1</td>\n",
       "      <td>Some else's sitting at their desk?</td>\n",
       "    </tr>\n",
       "    <tr>\n",
       "      <th>16181</th>\n",
       "      <td>16181</td>\n",
       "      <td>-1</td>\n",
       "      <td>Well not you know cleaning so I do n't know what kind of work they do.</td>\n",
       "    </tr>\n",
       "    <tr>\n",
       "      <th>16182</th>\n",
       "      <td>16182</td>\n",
       "      <td>-1</td>\n",
       "      <td>Oh well if you 're here that 's all right</td>\n",
       "    </tr>\n",
       "  </tbody>\n",
       "</table>\n",
       "</div>"
      ],
      "text/plain": [
       "       sentence_id  paragraph_id  \\\n",
       "16180  16180       -1              \n",
       "16181  16181       -1              \n",
       "16182  16182       -1              \n",
       "\n",
       "                                                                     sentence  \n",
       "16180  Some else's sitting at their desk?                                      \n",
       "16181  Well not you know cleaning so I do n't know what kind of work they do.  \n",
       "16182  Oh well if you 're here that 's all right                               "
      ]
     },
     "execution_count": 5,
     "metadata": {},
     "output_type": "execute_result"
    }
   ],
   "source": [
    "sentences = pd.read_csv('data/raw/sentences.csv', encoding='ISO-8859-1')\n",
    "display(len(sentences))\n",
    "display(sentences.sample(5))\n",
    "sentences.tail(3)"
   ]
  },
  {
   "cell_type": "code",
   "execution_count": 6,
   "metadata": {},
   "outputs": [
    {
     "data": {
      "text/plain": [
       "0"
      ]
     },
     "execution_count": 6,
     "metadata": {},
     "output_type": "execute_result"
    }
   ],
   "source": [
    "len(sentences[sentences['sentence'].isnull()])"
   ]
  },
  {
   "cell_type": "code",
   "execution_count": 22,
   "metadata": {},
   "outputs": [
    {
     "data": {
      "text/plain": [
       "204834"
      ]
     },
     "metadata": {},
     "output_type": "display_data"
    },
    {
     "data": {
      "text/html": [
       "<div>\n",
       "<style scoped>\n",
       "    .dataframe tbody tr th:only-of-type {\n",
       "        vertical-align: middle;\n",
       "    }\n",
       "\n",
       "    .dataframe tbody tr th {\n",
       "        vertical-align: top;\n",
       "    }\n",
       "\n",
       "    .dataframe thead th {\n",
       "        text-align: right;\n",
       "    }\n",
       "</style>\n",
       "<table border=\"1\" class=\"dataframe\">\n",
       "  <thead>\n",
       "    <tr style=\"text-align: right;\">\n",
       "      <th></th>\n",
       "      <th>word_id</th>\n",
       "      <th>word</th>\n",
       "      <th>lemma</th>\n",
       "      <th>word_type</th>\n",
       "      <th>function</th>\n",
       "      <th>seg_type</th>\n",
       "      <th>sentence_id</th>\n",
       "      <th>text_id</th>\n",
       "    </tr>\n",
       "  </thead>\n",
       "  <tbody>\n",
       "    <tr>\n",
       "      <th>0</th>\n",
       "      <td>0</td>\n",
       "      <td>Latest</td>\n",
       "      <td>late</td>\n",
       "      <td>AJS</td>\n",
       "      <td></td>\n",
       "      <td></td>\n",
       "      <td>0</td>\n",
       "      <td>a1e-fragment01</td>\n",
       "    </tr>\n",
       "    <tr>\n",
       "      <th>1</th>\n",
       "      <td>1</td>\n",
       "      <td>corporate</td>\n",
       "      <td>corporate</td>\n",
       "      <td>AJ0</td>\n",
       "      <td></td>\n",
       "      <td></td>\n",
       "      <td>0</td>\n",
       "      <td>a1e-fragment01</td>\n",
       "    </tr>\n",
       "    <tr>\n",
       "      <th>2</th>\n",
       "      <td>2</td>\n",
       "      <td>unbundler</td>\n",
       "      <td>unbundler</td>\n",
       "      <td>NN1</td>\n",
       "      <td></td>\n",
       "      <td></td>\n",
       "      <td>0</td>\n",
       "      <td>a1e-fragment01</td>\n",
       "    </tr>\n",
       "    <tr>\n",
       "      <th>3</th>\n",
       "      <td>3</td>\n",
       "      <td>reveals</td>\n",
       "      <td>reveal</td>\n",
       "      <td>VVZ</td>\n",
       "      <td>mrw</td>\n",
       "      <td>met</td>\n",
       "      <td>0</td>\n",
       "      <td>a1e-fragment01</td>\n",
       "    </tr>\n",
       "    <tr>\n",
       "      <th>4</th>\n",
       "      <td>4</td>\n",
       "      <td>laid-back</td>\n",
       "      <td>laid-back</td>\n",
       "      <td>AJ0</td>\n",
       "      <td></td>\n",
       "      <td></td>\n",
       "      <td>0</td>\n",
       "      <td>a1e-fragment01</td>\n",
       "    </tr>\n",
       "  </tbody>\n",
       "</table>\n",
       "</div>"
      ],
      "text/plain": [
       "   word_id       word      lemma word_type function seg_type  sentence_id  \\\n",
       "0  0        Latest     late       AJS                         0             \n",
       "1  1        corporate  corporate  AJ0                         0             \n",
       "2  2        unbundler  unbundler  NN1                         0             \n",
       "3  3        reveals    reveal     VVZ       mrw      met      0             \n",
       "4  4        laid-back  laid-back  AJ0                         0             \n",
       "\n",
       "          text_id  \n",
       "0  a1e-fragment01  \n",
       "1  a1e-fragment01  \n",
       "2  a1e-fragment01  \n",
       "3  a1e-fragment01  \n",
       "4  a1e-fragment01  "
      ]
     },
     "execution_count": 22,
     "metadata": {},
     "output_type": "execute_result"
    }
   ],
   "source": [
    "all_words = pd.read_csv('data/raw/words.csv', encoding='ISO--8859-1', na_filter=False)\n",
    "display(len(all_words))\n",
    "all_words.head()"
   ]
  },
  {
   "cell_type": "code",
   "execution_count": 23,
   "metadata": {},
   "outputs": [
    {
     "data": {
      "text/plain": [
       "117"
      ]
     },
     "execution_count": 23,
     "metadata": {},
     "output_type": "execute_result"
    }
   ],
   "source": [
    "all_words['text_id'].nunique()"
   ]
  },
  {
   "cell_type": "code",
   "execution_count": 9,
   "metadata": {
    "scrolled": true
   },
   "outputs": [
    {
     "data": {
      "text/html": [
       "<div>\n",
       "<style scoped>\n",
       "    .dataframe tbody tr th:only-of-type {\n",
       "        vertical-align: middle;\n",
       "    }\n",
       "\n",
       "    .dataframe tbody tr th {\n",
       "        vertical-align: top;\n",
       "    }\n",
       "\n",
       "    .dataframe thead th {\n",
       "        text-align: right;\n",
       "    }\n",
       "</style>\n",
       "<table border=\"1\" class=\"dataframe\">\n",
       "  <thead>\n",
       "    <tr style=\"text-align: right;\">\n",
       "      <th></th>\n",
       "      <th>word_id</th>\n",
       "      <th>word</th>\n",
       "      <th>lemma</th>\n",
       "      <th>word_type</th>\n",
       "      <th>function</th>\n",
       "      <th>seg_type</th>\n",
       "      <th>sentence_id</th>\n",
       "      <th>text_id</th>\n",
       "    </tr>\n",
       "  </thead>\n",
       "  <tbody>\n",
       "  </tbody>\n",
       "</table>\n",
       "</div>"
      ],
      "text/plain": [
       "Empty DataFrame\n",
       "Columns: [word_id, word, lemma, word_type, function, seg_type, sentence_id, text_id]\n",
       "Index: []"
      ]
     },
     "metadata": {},
     "output_type": "display_data"
    },
    {
     "data": {
      "text/html": [
       "<div>\n",
       "<style scoped>\n",
       "    .dataframe tbody tr th:only-of-type {\n",
       "        vertical-align: middle;\n",
       "    }\n",
       "\n",
       "    .dataframe tbody tr th {\n",
       "        vertical-align: top;\n",
       "    }\n",
       "\n",
       "    .dataframe thead th {\n",
       "        text-align: right;\n",
       "    }\n",
       "</style>\n",
       "<table border=\"1\" class=\"dataframe\">\n",
       "  <thead>\n",
       "    <tr style=\"text-align: right;\">\n",
       "      <th></th>\n",
       "      <th>word_id</th>\n",
       "      <th>word</th>\n",
       "      <th>lemma</th>\n",
       "      <th>word_type</th>\n",
       "      <th>function</th>\n",
       "      <th>seg_type</th>\n",
       "      <th>sentence_id</th>\n",
       "      <th>text_id</th>\n",
       "    </tr>\n",
       "  </thead>\n",
       "  <tbody>\n",
       "  </tbody>\n",
       "</table>\n",
       "</div>"
      ],
      "text/plain": [
       "Empty DataFrame\n",
       "Columns: [word_id, word, lemma, word_type, function, seg_type, sentence_id, text_id]\n",
       "Index: []"
      ]
     },
     "execution_count": 9,
     "metadata": {},
     "output_type": "execute_result"
    }
   ],
   "source": [
    "display(all_words[all_words['word']==''])\n",
    "all_words[all_words['word'].isnull()]"
   ]
  },
  {
   "cell_type": "markdown",
   "metadata": {},
   "source": [
    "## Partition exploration set and final evaluation set using genre tags"
   ]
  },
  {
   "cell_type": "markdown",
   "metadata": {},
   "source": [
    "Get BNC-Baby genres and tags"
   ]
  },
  {
   "cell_type": "code",
   "execution_count": 10,
   "metadata": {},
   "outputs": [],
   "source": [
    "html_doc = requests.get('http://www.natcorp.ox.ac.uk/corpus/baby/thebib.html').content\n",
    "\n",
    "soup = BeautifulSoup(html_doc, 'html.parser')"
   ]
  },
  {
   "cell_type": "code",
   "execution_count": 11,
   "metadata": {},
   "outputs": [
    {
     "name": "stdout",
     "output_type": "stream",
     "text": [
      "{'newspapers': {'a3m', 'k3c', 'a8p', 'a8t', 'a97', 'k5b', 'k2b', 'cel', 'ahd', 'cbm', 'al0', 'a4d', 'a9g', 'ch3', 'a8r', 'a3e', 'k4u', 'a1e', 'a9j', 'a8n', 'e9s', 'k3d', 'al5', 'a91', 'a9y', 'a1j', 'ahb', 'k29', 'ajg', 'k5e', 'a1p', 'a5e', 'a2d', 'a7w', 'k37', 'aar', 'k3b', 'ahc', 'a84', 'k2a', 'cbe', 'a7t', 'a8l', 'a38', 'k38', 'cbd', 'a80', 'k36', 'k4y', 'a1m', 'aa3', 'k2n', 'a82', 'a8m', 'al2', 'cfc', 'a1n', 'k3a', 'aam', 'a8u', 'a1f', 'k2e', 'a9p', 'a31', 'a98', 'k2c', 'a1x', 'a3c', 'a1g', 'k58', 'k4r', 'k5c', 'k5k', 'aa6', 'a1u', 'a36', 'ahl', 'ajf', 'aj1', 'k4s', 'a1l', 'ahe', 'a8s', 'a7s', 'ajw', 'a39', 'a7x', 'a1h', 'k39', 'ahh', 'ahf', 'a3k', 'bm4', 'a9x', 'a3p', 'a7y', 'a1k'}, 'fiction': {'g0y', 'gvl', 'fpb', 'h9d', 'bpa', 'j54', 'g0s', 'cb5', 'guu', 'g01', 'ccw', 'bmw', 'k8v', 'h9c', 'h85', 'j10', 'ac2', 'cfy', 'cdb', 'fet', 'c8t', 'g0l', 'ab9', 'faj', 'hr9'}, 'academic': {'clp', 'fc1', 'f9v', 'hxh', 'as6', 'fss', 'ft1', 'b2k', 'ecv', 'fef', 'j57', 'crs', 'b1g', 'b17', 'hwv', 'a6u', 'fpg', 'acj', 'j7g', 'eww', 'ew1', 'ea7', 'f98', 'alp', 'hrg', 'amm', 'j18', 'cty', 'clw', 'cma'}, 'conversation': {'kbw', 'kp7', 'kb5', 'kdd', 'kpx', 'ke4', 'ke2', 'kb7', 'kbd', 'kd8', 'kd3', 'knr', 'kd1', 'kcc', 'kcu', 'kp5', 'kp2', 'kcv', 'kbj', 'kpu', 'kbh', 'kdj', 'kbp', 'ksn', 'kdf', 'kbc', 'kcf', 'kd0', 'kd7'}}\n"
     ]
    }
   ],
   "source": [
    "genre_tags = {\n",
    "    'newspapers': set(),\n",
    "    'fiction': set(),\n",
    "    'academic': set(),\n",
    "    'conversation': set()\n",
    "}\n",
    "\n",
    "genre_name_map = {\n",
    "    'Academic prose': 'academic',\n",
    "    'Spontaneous conversation': 'conversation',\n",
    "    'Prose fiction': 'fiction',\n",
    "    'Newspapers': 'newspapers'\n",
    "}\n",
    "\n",
    "for p in soup.find_all('p'):\n",
    "    genre = p.text\n",
    "    if genre in genre_name_map.keys():\n",
    "        ids = p.next_sibling.next_sibling\n",
    "        assert ids.name == 'dl'\n",
    "        for id in ids.findChildren(\"dt\" , recursive=False):\n",
    "            genre_tags[genre_name_map[genre]].add(id['id'].lower())\n",
    "\n",
    "print(genre_tags)"
   ]
  },
  {
   "cell_type": "markdown",
   "metadata": {},
   "source": [
    "Add genre and tag info to DataFrame."
   ]
  },
  {
   "cell_type": "code",
   "execution_count": 24,
   "metadata": {},
   "outputs": [
    {
     "data": {
      "text/html": [
       "<div>\n",
       "<style scoped>\n",
       "    .dataframe tbody tr th:only-of-type {\n",
       "        vertical-align: middle;\n",
       "    }\n",
       "\n",
       "    .dataframe tbody tr th {\n",
       "        vertical-align: top;\n",
       "    }\n",
       "\n",
       "    .dataframe thead th {\n",
       "        text-align: right;\n",
       "    }\n",
       "</style>\n",
       "<table border=\"1\" class=\"dataframe\">\n",
       "  <thead>\n",
       "    <tr style=\"text-align: right;\">\n",
       "      <th></th>\n",
       "      <th>word_id</th>\n",
       "      <th>word</th>\n",
       "      <th>lemma</th>\n",
       "      <th>word_type</th>\n",
       "      <th>function</th>\n",
       "      <th>seg_type</th>\n",
       "      <th>sentence_id</th>\n",
       "      <th>text_id</th>\n",
       "      <th>text_tag</th>\n",
       "    </tr>\n",
       "  </thead>\n",
       "  <tbody>\n",
       "    <tr>\n",
       "      <th>106846</th>\n",
       "      <td>106846</td>\n",
       "      <td>chair</td>\n",
       "      <td>chair</td>\n",
       "      <td>NN1</td>\n",
       "      <td></td>\n",
       "      <td></td>\n",
       "      <td>5592</td>\n",
       "      <td>ccw-fragment03</td>\n",
       "      <td>ccw</td>\n",
       "    </tr>\n",
       "    <tr>\n",
       "      <th>69971</th>\n",
       "      <td>69971</td>\n",
       "      <td>ON</td>\n",
       "      <td>on</td>\n",
       "      <td>PRP</td>\n",
       "      <td>mrw</td>\n",
       "      <td>met</td>\n",
       "      <td>3592</td>\n",
       "      <td>as6-fragment02</td>\n",
       "      <td>as6</td>\n",
       "    </tr>\n",
       "    <tr>\n",
       "      <th>150266</th>\n",
       "      <td>150266</td>\n",
       "      <td>instructor</td>\n",
       "      <td>instructor</td>\n",
       "      <td>NN1</td>\n",
       "      <td></td>\n",
       "      <td></td>\n",
       "      <td>8124</td>\n",
       "      <td>fpb-fragment01</td>\n",
       "      <td>fpb</td>\n",
       "    </tr>\n",
       "    <tr>\n",
       "      <th>121564</th>\n",
       "      <td>121564</td>\n",
       "      <td>forces</td>\n",
       "      <td>force</td>\n",
       "      <td>NN2</td>\n",
       "      <td></td>\n",
       "      <td></td>\n",
       "      <td>6441</td>\n",
       "      <td>clw-fragment01</td>\n",
       "      <td>clw</td>\n",
       "    </tr>\n",
       "    <tr>\n",
       "      <th>157797</th>\n",
       "      <td>157797</td>\n",
       "      <td>the</td>\n",
       "      <td>the</td>\n",
       "      <td>AT0</td>\n",
       "      <td></td>\n",
       "      <td></td>\n",
       "      <td>8972</td>\n",
       "      <td>kb7-fragment10</td>\n",
       "      <td>kb7</td>\n",
       "    </tr>\n",
       "  </tbody>\n",
       "</table>\n",
       "</div>"
      ],
      "text/plain": [
       "        word_id        word       lemma word_type function seg_type  \\\n",
       "106846  106846   chair       chair       NN1                          \n",
       "69971   69971    ON          on          PRP       mrw      met       \n",
       "150266  150266   instructor  instructor  NN1                          \n",
       "121564  121564   forces      force       NN2                          \n",
       "157797  157797   the         the         AT0                          \n",
       "\n",
       "        sentence_id         text_id text_tag  \n",
       "106846  5592         ccw-fragment03  ccw      \n",
       "69971   3592         as6-fragment02  as6      \n",
       "150266  8124         fpb-fragment01  fpb      \n",
       "121564  6441         clw-fragment01  clw      \n",
       "157797  8972         kb7-fragment10  kb7      "
      ]
     },
     "execution_count": 24,
     "metadata": {},
     "output_type": "execute_result"
    }
   ],
   "source": [
    "all_words['text_tag'] = all_words['text_id'].apply(lambda x: x.split('-')[0])\n",
    "all_words.sample(5)"
   ]
  },
  {
   "cell_type": "code",
   "execution_count": 63,
   "metadata": {},
   "outputs": [
    {
     "data": {
      "text/html": [
       "<div>\n",
       "<style scoped>\n",
       "    .dataframe tbody tr th:only-of-type {\n",
       "        vertical-align: middle;\n",
       "    }\n",
       "\n",
       "    .dataframe tbody tr th {\n",
       "        vertical-align: top;\n",
       "    }\n",
       "\n",
       "    .dataframe thead th {\n",
       "        text-align: right;\n",
       "    }\n",
       "</style>\n",
       "<table border=\"1\" class=\"dataframe\">\n",
       "  <thead>\n",
       "    <tr style=\"text-align: right;\">\n",
       "      <th></th>\n",
       "      <th>word_id</th>\n",
       "      <th>word</th>\n",
       "      <th>lemma</th>\n",
       "      <th>word_type</th>\n",
       "      <th>function</th>\n",
       "      <th>seg_type</th>\n",
       "      <th>sentence_id</th>\n",
       "      <th>text_id</th>\n",
       "      <th>text_tag</th>\n",
       "      <th>genre</th>\n",
       "    </tr>\n",
       "  </thead>\n",
       "  <tbody>\n",
       "    <tr>\n",
       "      <th>60718</th>\n",
       "      <td>60718</td>\n",
       "      <td>of</td>\n",
       "      <td>of</td>\n",
       "      <td>PRF</td>\n",
       "      <td></td>\n",
       "      <td></td>\n",
       "      <td>3193</td>\n",
       "      <td>alp-fragment01</td>\n",
       "      <td>alp</td>\n",
       "      <td>academic</td>\n",
       "    </tr>\n",
       "    <tr>\n",
       "      <th>56426</th>\n",
       "      <td>56426</td>\n",
       "      <td>Donations</td>\n",
       "      <td>donation</td>\n",
       "      <td>NN2</td>\n",
       "      <td></td>\n",
       "      <td></td>\n",
       "      <td>2996</td>\n",
       "      <td>ahl-fragment02</td>\n",
       "      <td>ahl</td>\n",
       "      <td>newspapers</td>\n",
       "    </tr>\n",
       "    <tr>\n",
       "      <th>24290</th>\n",
       "      <td>24290</td>\n",
       "      <td>come</td>\n",
       "      <td>come</td>\n",
       "      <td>VVN</td>\n",
       "      <td>mrw</td>\n",
       "      <td>met</td>\n",
       "      <td>1228</td>\n",
       "      <td>a5e-fragment06</td>\n",
       "      <td>a5e</td>\n",
       "      <td>newspapers</td>\n",
       "    </tr>\n",
       "    <tr>\n",
       "      <th>186406</th>\n",
       "      <td>186406</td>\n",
       "      <td>to</td>\n",
       "      <td>to</td>\n",
       "      <td>TO0</td>\n",
       "      <td></td>\n",
       "      <td></td>\n",
       "      <td>13032</td>\n",
       "      <td>kbp-fragment09</td>\n",
       "      <td>kbp</td>\n",
       "      <td>conversation</td>\n",
       "    </tr>\n",
       "    <tr>\n",
       "      <th>798</th>\n",
       "      <td>798</td>\n",
       "      <td>a</td>\n",
       "      <td>a</td>\n",
       "      <td>AT0</td>\n",
       "      <td></td>\n",
       "      <td></td>\n",
       "      <td>40</td>\n",
       "      <td>a1f-fragment07</td>\n",
       "      <td>a1f</td>\n",
       "      <td>newspapers</td>\n",
       "    </tr>\n",
       "  </tbody>\n",
       "</table>\n",
       "</div>"
      ],
      "text/plain": [
       "        word_id       word     lemma word_type function seg_type  sentence_id  \\\n",
       "60718   60718    of         of        PRF                         3193          \n",
       "56426   56426    Donations  donation  NN2                         2996          \n",
       "24290   24290    come       come      VVN       mrw      met      1228          \n",
       "186406  186406   to         to        TO0                         13032         \n",
       "798     798      a          a         AT0                         40            \n",
       "\n",
       "               text_id text_tag         genre  \n",
       "60718   alp-fragment01  alp      academic      \n",
       "56426   ahl-fragment02  ahl      newspapers    \n",
       "24290   a5e-fragment06  a5e      newspapers    \n",
       "186406  kbp-fragment09  kbp      conversation  \n",
       "798     a1f-fragment07  a1f      newspapers    "
      ]
     },
     "execution_count": 63,
     "metadata": {},
     "output_type": "execute_result"
    }
   ],
   "source": [
    "all_words['genre'] = all_words['text_tag'].apply(lambda x: tag_to_genre_map[x])\n",
    "all_words.sample(5)"
   ]
  },
  {
   "cell_type": "markdown",
   "metadata": {},
   "source": [
    "Pick random sample of text IDs according to Klebanov 2014 test size to form test set."
   ]
  },
  {
   "cell_type": "code",
   "execution_count": 134,
   "metadata": {},
   "outputs": [
    {
     "data": {
      "text/plain": [
       "{'academic': array(['amm-fragment02', 'b17-fragment02', 'clw-fragment01',\n",
       "        'fef-fragment03', 'crs-fragment01', 'cty-fragment03'], dtype='<U14'),\n",
       " 'conversation': array(['kbh-fragment02', 'kbh-fragment09', 'kbp-fragment09',\n",
       "        'kbw-fragment17'], dtype='<U14'),\n",
       " 'fiction': array(['ccw-fragment03', 'ccw-fragment04', 'bpa-fragment14'], dtype='<U14'),\n",
       " 'newspapers': array(['a1f-fragment06', 'a3m-fragment02', 'al2-fragment23',\n",
       "        'a3c-fragment05', 'ahd-fragment06', 'a1j-fragment34',\n",
       "        'a1k-fragment02', 'ahf-fragment63', 'ahe-fragment03',\n",
       "        'a8n-fragment19', 'ahl-fragment02', 'a7t-fragment01',\n",
       "        'a4d-fragment02', 'a1x-fragment03'], dtype='<U14')}"
      ]
     },
     "execution_count": 134,
     "metadata": {},
     "output_type": "execute_result"
    }
   ],
   "source": [
    "sample_sizes = {\n",
    "    'academic': 6,\n",
    "    'conversation': 4,\n",
    "    'fiction': 3,\n",
    "    'newspapers': 14\n",
    "}\n",
    "\n",
    "test_texts = {\n",
    "    'academic': [],\n",
    "    'conversation': [],\n",
    "    'fiction': [],\n",
    "    'newspapers': []\n",
    "}\n",
    "\n",
    "for genre, group in all_words[['text_id', 'genre']].drop_duplicates().groupby('genre'):\n",
    "    texts = list(group['text_id'])\n",
    "    test_texts[genre] = (np.random.choice(list(texts), sample_sizes[genre], replace=False))\n",
    "    \n",
    "test_texts"
   ]
  },
  {
   "cell_type": "markdown",
   "metadata": {},
   "source": [
    "Save datasets."
   ]
  },
  {
   "cell_type": "code",
   "execution_count": 147,
   "metadata": {},
   "outputs": [
    {
     "data": {
      "text/plain": [
       "'academic'"
      ]
     },
     "metadata": {},
     "output_type": "display_data"
    },
    {
     "data": {
      "text/plain": [
       "'data/test/academic/words.csv: 17223'"
      ]
     },
     "metadata": {},
     "output_type": "display_data"
    },
    {
     "data": {
      "text/plain": [
       "'data/train/academic/words.csv: 48964'"
      ]
     },
     "metadata": {},
     "output_type": "display_data"
    },
    {
     "data": {
      "text/plain": [
       "'conversation'"
      ]
     },
     "metadata": {},
     "output_type": "display_data"
    },
    {
     "data": {
      "text/plain": [
       "'data/test/conversation/words.csv: 6983'"
      ]
     },
     "metadata": {},
     "output_type": "display_data"
    },
    {
     "data": {
      "text/plain": [
       "'data/train/conversation/words.csv: 41595'"
      ]
     },
     "metadata": {},
     "output_type": "display_data"
    },
    {
     "data": {
      "text/plain": [
       "'fiction'"
      ]
     },
     "metadata": {},
     "output_type": "display_data"
    },
    {
     "data": {
      "text/plain": [
       "'data/test/fiction/words.csv: 6914'"
      ]
     },
     "metadata": {},
     "output_type": "display_data"
    },
    {
     "data": {
      "text/plain": [
       "'data/train/fiction/words.csv: 38004'"
      ]
     },
     "metadata": {},
     "output_type": "display_data"
    },
    {
     "data": {
      "text/plain": [
       "'newspapers'"
      ]
     },
     "metadata": {},
     "output_type": "display_data"
    },
    {
     "data": {
      "text/plain": [
       "'data/test/newspapers/words.csv: 9411'"
      ]
     },
     "metadata": {},
     "output_type": "display_data"
    },
    {
     "data": {
      "text/plain": [
       "'data/train/newspapers/words.csv: 35740'"
      ]
     },
     "metadata": {},
     "output_type": "display_data"
    }
   ],
   "source": [
    "for genre, texts in test_texts.items():\n",
    "    display(genre)\n",
    "    dataset = all_words[(all_words['genre']==genre)]\n",
    "    test_set = dataset[dataset['text_id'].isin(test_texts[genre])]\n",
    "    train_set = dataset[~dataset['text_id'].isin(test_texts[genre])]\n",
    "    \n",
    "    test_set_file_name = 'data/test/{}/words.csv'.format(genre)\n",
    "    test_set.to_csv(test_set_file_name, index=False)\n",
    "    display('{}: {}'.format(test_set_file_name, len(test_set)))\n",
    "    \n",
    "    train_set_file_name = 'data/train/{}/words.csv'.format(genre)\n",
    "    train_set.to_csv(train_set_file_name, index=False)\n",
    "    display('{}: {}'.format(train_set_file_name, len(train_set)))"
   ]
  },
  {
   "cell_type": "code",
   "execution_count": null,
   "metadata": {},
   "outputs": [],
   "source": []
  }
 ],
 "metadata": {
  "kernelspec": {
   "display_name": "Python 3",
   "language": "python",
   "name": "python3"
  },
  "language_info": {
   "codemirror_mode": {
    "name": "ipython",
    "version": 3
   },
   "file_extension": ".py",
   "mimetype": "text/x-python",
   "name": "python",
   "nbconvert_exporter": "python",
   "pygments_lexer": "ipython3",
   "version": "3.7.3"
  }
 },
 "nbformat": 4,
 "nbformat_minor": 2
}
